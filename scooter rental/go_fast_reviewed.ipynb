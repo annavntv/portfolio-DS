{
 "cells": [
  {
   "cell_type": "markdown",
   "id": "4e46d5a8",
   "metadata": {},
   "source": [
    "# Аренда самокатов GoFast"
   ]
  },
  {
   "cell_type": "markdown",
   "id": "50f9e5ea",
   "metadata": {},
   "source": [
    "Нам передали данные о некоторых пользователях из нескольких городов, а также об их поездках. Необходимо проанализировать данные и проверить некоторые гипотезы, которые могут помочь бизнесу вырасти. В основных данных есть информация о пользователях, их поездках и подписках.\n",
    "\n",
    "Продакт-менеджеры хотят увеличить количество пользователей с подпиской. Для этого они будут проводить различные акции, но сначала нужно выяснить несколько важных моментов относительно прибыльности и выгодности подписки.\n",
    "\n",
    "Чтобы совершать поездки по городу, пользователи сервиса GoFast пользуются мобильным приложением. Сервисом можно пользоваться:\n",
    "\n",
    "\n",
    "*без подписки:*\n",
    "- абонентская плата отсутствует;\n",
    "- стоимость одной минуты поездки — 8 рублей;\n",
    "- стоимость старта (начала поездки) — 50 рублей;\n",
    "\n",
    "\n",
    "*с подпиской Ultra:*\n",
    "- абонентская плата — 199 рублей в месяц;\n",
    "- стоимость одной минуты поездки — 6 рублей;\n",
    "- стоимость старта — бесплатно.\n",
    "\n",
    "Исследование пройдёт в несколько этапов:\n",
    "1. Обзор данных.\n",
    "2. Предобработка данных.\n",
    "3. Исследовательский анализ данных\n",
    "4. Проверка гипотез.\n"
   ]
  },
  {
   "cell_type": "markdown",
   "id": "3fdffa31",
   "metadata": {},
   "source": [
    "### 1. Обзор данных"
   ]
  },
  {
   "cell_type": "code",
   "execution_count": 1,
   "id": "6aa7040b",
   "metadata": {},
   "outputs": [],
   "source": [
    "#импортируем библиотеку pandas\n",
    "import pandas as pd\n",
    "import seaborn as sns\n",
    "import numpy as np \n",
    "import matplotlib.pyplot as plt\n",
    "from scipy import stats as st\n",
    "from scipy.stats import binom, norm\n",
    "from math import sqrt\n",
    "#чтобы не появлялись предупреждения\n",
    "import warnings\n",
    "warnings.simplefilter(\"ignore\")"
   ]
  },
  {
   "cell_type": "code",
   "execution_count": 2,
   "id": "e6a266e2",
   "metadata": {
    "tags": []
   },
   "outputs": [],
   "source": [
    "#открываем файлы и записываем в переменные\n",
    "try:\n",
    "    riders = pd.read_csv('/datasets/rides_go.csv')\n",
    "    users = pd.read_csv('/datasets/users_go.csv')\n",
    "    subscriptions = pd.read_csv('/datasets/subscriptions_go.csv')\n",
    "except:\n",
    "    riders = pd.read_csv('rides_go.csv')\n",
    "    users = pd.read_csv('users_go.csv')\n",
    "    subscriptions = pd.read_csv('subscriptions_go.csv')"
   ]
  },
  {
   "cell_type": "markdown",
   "id": "60598505",
   "metadata": {},
   "source": [
    "#### 1.1 Датасет Users"
   ]
  },
  {
   "cell_type": "code",
   "execution_count": 3,
   "id": "cfb538d3",
   "metadata": {},
   "outputs": [
    {
     "data": {
      "text/html": [
       "<div>\n",
       "<style scoped>\n",
       "    .dataframe tbody tr th:only-of-type {\n",
       "        vertical-align: middle;\n",
       "    }\n",
       "\n",
       "    .dataframe tbody tr th {\n",
       "        vertical-align: top;\n",
       "    }\n",
       "\n",
       "    .dataframe thead th {\n",
       "        text-align: right;\n",
       "    }\n",
       "</style>\n",
       "<table border=\"1\" class=\"dataframe\">\n",
       "  <thead>\n",
       "    <tr style=\"text-align: right;\">\n",
       "      <th></th>\n",
       "      <th>user_id</th>\n",
       "      <th>name</th>\n",
       "      <th>age</th>\n",
       "      <th>city</th>\n",
       "      <th>subscription_type</th>\n",
       "    </tr>\n",
       "  </thead>\n",
       "  <tbody>\n",
       "    <tr>\n",
       "      <th>0</th>\n",
       "      <td>1</td>\n",
       "      <td>Кира</td>\n",
       "      <td>22</td>\n",
       "      <td>Тюмень</td>\n",
       "      <td>ultra</td>\n",
       "    </tr>\n",
       "    <tr>\n",
       "      <th>1</th>\n",
       "      <td>2</td>\n",
       "      <td>Станислав</td>\n",
       "      <td>31</td>\n",
       "      <td>Омск</td>\n",
       "      <td>ultra</td>\n",
       "    </tr>\n",
       "    <tr>\n",
       "      <th>2</th>\n",
       "      <td>3</td>\n",
       "      <td>Алексей</td>\n",
       "      <td>20</td>\n",
       "      <td>Москва</td>\n",
       "      <td>ultra</td>\n",
       "    </tr>\n",
       "    <tr>\n",
       "      <th>3</th>\n",
       "      <td>4</td>\n",
       "      <td>Константин</td>\n",
       "      <td>26</td>\n",
       "      <td>Ростов-на-Дону</td>\n",
       "      <td>ultra</td>\n",
       "    </tr>\n",
       "    <tr>\n",
       "      <th>4</th>\n",
       "      <td>5</td>\n",
       "      <td>Адель</td>\n",
       "      <td>28</td>\n",
       "      <td>Омск</td>\n",
       "      <td>ultra</td>\n",
       "    </tr>\n",
       "  </tbody>\n",
       "</table>\n",
       "</div>"
      ],
      "text/plain": [
       "   user_id        name  age            city subscription_type\n",
       "0        1        Кира   22          Тюмень             ultra\n",
       "1        2   Станислав   31            Омск             ultra\n",
       "2        3     Алексей   20          Москва             ultra\n",
       "3        4  Константин   26  Ростов-на-Дону             ultra\n",
       "4        5       Адель   28            Омск             ultra"
      ]
     },
     "execution_count": 3,
     "metadata": {},
     "output_type": "execute_result"
    }
   ],
   "source": [
    "users.head()"
   ]
  },
  {
   "cell_type": "markdown",
   "id": "905a7b15",
   "metadata": {},
   "source": [
    "В датасете хранится инфо о пользователях по характеристикам:\n",
    "- `user_id` уникальный идентификатор пользователя\n",
    "- `name` имя пользователя\n",
    "- `age` возраст\n",
    "- `city` город\n",
    "- `subscription_type` тип подписки: free, ultra"
   ]
  },
  {
   "cell_type": "code",
   "execution_count": 4,
   "id": "50d6d37c",
   "metadata": {},
   "outputs": [
    {
     "name": "stdout",
     "output_type": "stream",
     "text": [
      "<class 'pandas.core.frame.DataFrame'>\n",
      "RangeIndex: 1565 entries, 0 to 1564\n",
      "Data columns (total 5 columns):\n",
      " #   Column             Non-Null Count  Dtype \n",
      "---  ------             --------------  ----- \n",
      " 0   user_id            1565 non-null   int64 \n",
      " 1   name               1565 non-null   object\n",
      " 2   age                1565 non-null   int64 \n",
      " 3   city               1565 non-null   object\n",
      " 4   subscription_type  1565 non-null   object\n",
      "dtypes: int64(2), object(3)\n",
      "memory usage: 61.3+ KB\n"
     ]
    }
   ],
   "source": [
    "users.info()"
   ]
  },
  {
   "cell_type": "markdown",
   "id": "7711650f",
   "metadata": {},
   "source": [
    "В таблице 1565 записей, 5 колонок. Пропуски отсутсвуют. "
   ]
  },
  {
   "cell_type": "code",
   "execution_count": 5,
   "id": "ef099508",
   "metadata": {},
   "outputs": [
    {
     "data": {
      "text/html": [
       "<div>\n",
       "<style scoped>\n",
       "    .dataframe tbody tr th:only-of-type {\n",
       "        vertical-align: middle;\n",
       "    }\n",
       "\n",
       "    .dataframe tbody tr th {\n",
       "        vertical-align: top;\n",
       "    }\n",
       "\n",
       "    .dataframe thead th {\n",
       "        text-align: right;\n",
       "    }\n",
       "</style>\n",
       "<table border=\"1\" class=\"dataframe\">\n",
       "  <thead>\n",
       "    <tr style=\"text-align: right;\">\n",
       "      <th></th>\n",
       "      <th>user_id</th>\n",
       "      <th>age</th>\n",
       "    </tr>\n",
       "  </thead>\n",
       "  <tbody>\n",
       "    <tr>\n",
       "      <th>count</th>\n",
       "      <td>1565.000000</td>\n",
       "      <td>1565.000000</td>\n",
       "    </tr>\n",
       "    <tr>\n",
       "      <th>mean</th>\n",
       "      <td>762.633866</td>\n",
       "      <td>24.922045</td>\n",
       "    </tr>\n",
       "    <tr>\n",
       "      <th>std</th>\n",
       "      <td>443.260155</td>\n",
       "      <td>4.553496</td>\n",
       "    </tr>\n",
       "    <tr>\n",
       "      <th>min</th>\n",
       "      <td>1.000000</td>\n",
       "      <td>12.000000</td>\n",
       "    </tr>\n",
       "    <tr>\n",
       "      <th>25%</th>\n",
       "      <td>378.000000</td>\n",
       "      <td>22.000000</td>\n",
       "    </tr>\n",
       "    <tr>\n",
       "      <th>50%</th>\n",
       "      <td>762.000000</td>\n",
       "      <td>25.000000</td>\n",
       "    </tr>\n",
       "    <tr>\n",
       "      <th>75%</th>\n",
       "      <td>1146.000000</td>\n",
       "      <td>28.000000</td>\n",
       "    </tr>\n",
       "    <tr>\n",
       "      <th>max</th>\n",
       "      <td>1534.000000</td>\n",
       "      <td>43.000000</td>\n",
       "    </tr>\n",
       "  </tbody>\n",
       "</table>\n",
       "</div>"
      ],
      "text/plain": [
       "           user_id          age\n",
       "count  1565.000000  1565.000000\n",
       "mean    762.633866    24.922045\n",
       "std     443.260155     4.553496\n",
       "min       1.000000    12.000000\n",
       "25%     378.000000    22.000000\n",
       "50%     762.000000    25.000000\n",
       "75%    1146.000000    28.000000\n",
       "max    1534.000000    43.000000"
      ]
     },
     "execution_count": 5,
     "metadata": {},
     "output_type": "execute_result"
    }
   ],
   "source": [
    "users.describe()"
   ]
  },
  {
   "cell_type": "markdown",
   "id": "16ff30e5",
   "metadata": {},
   "source": [
    "В датасете только одна численная переменная - возраст. Остальные данные строчные."
   ]
  },
  {
   "cell_type": "code",
   "execution_count": 6,
   "id": "5dd6bc58",
   "metadata": {},
   "outputs": [
    {
     "data": {
      "image/png": "[encoded data removed]",
      "text/plain": [
       "<Figure size 432x288 with 1 Axes>"
      ]
     },
     "metadata": {
      "needs_background": "light"
     },
     "output_type": "display_data"
    }
   ],
   "source": [
    "users.age.hist(bins = 30)\n",
    "plt.title('Возраст пользователей')\n",
    "plt.xlabel('Возраст')\n",
    "plt.ylabel('Количество пользователей');"
   ]
  },
  {
   "cell_type": "markdown",
   "id": "d3e9d9cb",
   "metadata": {},
   "source": [
    "#### 1.2 Датасет Riders"
   ]
  },
  {
   "cell_type": "code",
   "execution_count": 7,
   "id": "32a0c0c8",
   "metadata": {},
   "outputs": [
    {
     "data": {
      "text/html": [
       "<div>\n",
       "<style scoped>\n",
       "    .dataframe tbody tr th:only-of-type {\n",
       "        vertical-align: middle;\n",
       "    }\n",
       "\n",
       "    .dataframe tbody tr th {\n",
       "        vertical-align: top;\n",
       "    }\n",
       "\n",
       "    .dataframe thead th {\n",
       "        text-align: right;\n",
       "    }\n",
       "</style>\n",
       "<table border=\"1\" class=\"dataframe\">\n",
       "  <thead>\n",
       "    <tr style=\"text-align: right;\">\n",
       "      <th></th>\n",
       "      <th>user_id</th>\n",
       "      <th>distance</th>\n",
       "      <th>duration</th>\n",
       "      <th>date</th>\n",
       "    </tr>\n",
       "  </thead>\n",
       "  <tbody>\n",
       "    <tr>\n",
       "      <th>0</th>\n",
       "      <td>1</td>\n",
       "      <td>4409.919140</td>\n",
       "      <td>25.599769</td>\n",
       "      <td>2021-01-01</td>\n",
       "    </tr>\n",
       "    <tr>\n",
       "      <th>1</th>\n",
       "      <td>1</td>\n",
       "      <td>2617.592153</td>\n",
       "      <td>15.816871</td>\n",
       "      <td>2021-01-18</td>\n",
       "    </tr>\n",
       "    <tr>\n",
       "      <th>2</th>\n",
       "      <td>1</td>\n",
       "      <td>754.159807</td>\n",
       "      <td>6.232113</td>\n",
       "      <td>2021-04-20</td>\n",
       "    </tr>\n",
       "    <tr>\n",
       "      <th>3</th>\n",
       "      <td>1</td>\n",
       "      <td>2694.783254</td>\n",
       "      <td>18.511000</td>\n",
       "      <td>2021-08-11</td>\n",
       "    </tr>\n",
       "    <tr>\n",
       "      <th>4</th>\n",
       "      <td>1</td>\n",
       "      <td>4028.687306</td>\n",
       "      <td>26.265803</td>\n",
       "      <td>2021-08-28</td>\n",
       "    </tr>\n",
       "    <tr>\n",
       "      <th>5</th>\n",
       "      <td>1</td>\n",
       "      <td>2770.890808</td>\n",
       "      <td>16.650138</td>\n",
       "      <td>2021-10-09</td>\n",
       "    </tr>\n",
       "    <tr>\n",
       "      <th>6</th>\n",
       "      <td>1</td>\n",
       "      <td>3039.020292</td>\n",
       "      <td>14.927879</td>\n",
       "      <td>2021-10-19</td>\n",
       "    </tr>\n",
       "    <tr>\n",
       "      <th>7</th>\n",
       "      <td>1</td>\n",
       "      <td>2842.118050</td>\n",
       "      <td>23.117468</td>\n",
       "      <td>2021-11-06</td>\n",
       "    </tr>\n",
       "    <tr>\n",
       "      <th>8</th>\n",
       "      <td>1</td>\n",
       "      <td>3412.690668</td>\n",
       "      <td>15.238072</td>\n",
       "      <td>2021-11-14</td>\n",
       "    </tr>\n",
       "    <tr>\n",
       "      <th>9</th>\n",
       "      <td>1</td>\n",
       "      <td>748.690645</td>\n",
       "      <td>15.041884</td>\n",
       "      <td>2021-11-22</td>\n",
       "    </tr>\n",
       "  </tbody>\n",
       "</table>\n",
       "</div>"
      ],
      "text/plain": [
       "   user_id     distance   duration        date\n",
       "0        1  4409.919140  25.599769  2021-01-01\n",
       "1        1  2617.592153  15.816871  2021-01-18\n",
       "2        1   754.159807   6.232113  2021-04-20\n",
       "3        1  2694.783254  18.511000  2021-08-11\n",
       "4        1  4028.687306  26.265803  2021-08-28\n",
       "5        1  2770.890808  16.650138  2021-10-09\n",
       "6        1  3039.020292  14.927879  2021-10-19\n",
       "7        1  2842.118050  23.117468  2021-11-06\n",
       "8        1  3412.690668  15.238072  2021-11-14\n",
       "9        1   748.690645  15.041884  2021-11-22"
      ]
     },
     "execution_count": 7,
     "metadata": {},
     "output_type": "execute_result"
    }
   ],
   "source": [
    "riders.head(10)"
   ]
  },
  {
   "cell_type": "code",
   "execution_count": 8,
   "id": "b591c2bb",
   "metadata": {},
   "outputs": [
    {
     "name": "stdout",
     "output_type": "stream",
     "text": [
      "<class 'pandas.core.frame.DataFrame'>\n",
      "RangeIndex: 18068 entries, 0 to 18067\n",
      "Data columns (total 4 columns):\n",
      " #   Column    Non-Null Count  Dtype  \n",
      "---  ------    --------------  -----  \n",
      " 0   user_id   18068 non-null  int64  \n",
      " 1   distance  18068 non-null  float64\n",
      " 2   duration  18068 non-null  float64\n",
      " 3   date      18068 non-null  object \n",
      "dtypes: float64(2), int64(1), object(1)\n",
      "memory usage: 564.8+ KB\n"
     ]
    }
   ],
   "source": [
    "riders.info()"
   ]
  },
  {
   "cell_type": "markdown",
   "id": "e1fdc371",
   "metadata": {},
   "source": [
    "В Riders 18068 записей и содержится инфо:\n",
    "- `user_id` уникальный идентификатор пользователя\n",
    "- `distance` расстояние, которое пользователь проехал в текущей сессии (в метрах)\n",
    "- `duration` продолжительность сессии (в минутах)\n",
    "- `date` дата совершения поездки"
   ]
  },
  {
   "cell_type": "markdown",
   "id": "00c375c6",
   "metadata": {},
   "source": [
    "В датасете есть две численные переменные - расстояние  и длительность поездки. Пропусков нет."
   ]
  },
  {
   "cell_type": "code",
   "execution_count": 9,
   "id": "b1c0e614",
   "metadata": {},
   "outputs": [
    {
     "data": {
      "text/html": [
       "<div>\n",
       "<style scoped>\n",
       "    .dataframe tbody tr th:only-of-type {\n",
       "        vertical-align: middle;\n",
       "    }\n",
       "\n",
       "    .dataframe tbody tr th {\n",
       "        vertical-align: top;\n",
       "    }\n",
       "\n",
       "    .dataframe thead th {\n",
       "        text-align: right;\n",
       "    }\n",
       "</style>\n",
       "<table border=\"1\" class=\"dataframe\">\n",
       "  <thead>\n",
       "    <tr style=\"text-align: right;\">\n",
       "      <th></th>\n",
       "      <th>user_id</th>\n",
       "      <th>distance</th>\n",
       "      <th>duration</th>\n",
       "    </tr>\n",
       "  </thead>\n",
       "  <tbody>\n",
       "    <tr>\n",
       "      <th>count</th>\n",
       "      <td>18068.000000</td>\n",
       "      <td>18068.000000</td>\n",
       "      <td>18068.000000</td>\n",
       "    </tr>\n",
       "    <tr>\n",
       "      <th>mean</th>\n",
       "      <td>842.869936</td>\n",
       "      <td>3070.659976</td>\n",
       "      <td>17.805011</td>\n",
       "    </tr>\n",
       "    <tr>\n",
       "      <th>std</th>\n",
       "      <td>434.734317</td>\n",
       "      <td>1116.831209</td>\n",
       "      <td>6.091051</td>\n",
       "    </tr>\n",
       "    <tr>\n",
       "      <th>min</th>\n",
       "      <td>1.000000</td>\n",
       "      <td>0.855683</td>\n",
       "      <td>0.500000</td>\n",
       "    </tr>\n",
       "    <tr>\n",
       "      <th>25%</th>\n",
       "      <td>487.000000</td>\n",
       "      <td>2543.226360</td>\n",
       "      <td>13.597563</td>\n",
       "    </tr>\n",
       "    <tr>\n",
       "      <th>50%</th>\n",
       "      <td>889.000000</td>\n",
       "      <td>3133.609994</td>\n",
       "      <td>17.678395</td>\n",
       "    </tr>\n",
       "    <tr>\n",
       "      <th>75%</th>\n",
       "      <td>1213.250000</td>\n",
       "      <td>3776.222735</td>\n",
       "      <td>21.724800</td>\n",
       "    </tr>\n",
       "    <tr>\n",
       "      <th>max</th>\n",
       "      <td>1534.000000</td>\n",
       "      <td>7211.007745</td>\n",
       "      <td>40.823963</td>\n",
       "    </tr>\n",
       "  </tbody>\n",
       "</table>\n",
       "</div>"
      ],
      "text/plain": [
       "            user_id      distance      duration\n",
       "count  18068.000000  18068.000000  18068.000000\n",
       "mean     842.869936   3070.659976     17.805011\n",
       "std      434.734317   1116.831209      6.091051\n",
       "min        1.000000      0.855683      0.500000\n",
       "25%      487.000000   2543.226360     13.597563\n",
       "50%      889.000000   3133.609994     17.678395\n",
       "75%     1213.250000   3776.222735     21.724800\n",
       "max     1534.000000   7211.007745     40.823963"
      ]
     },
     "execution_count": 9,
     "metadata": {},
     "output_type": "execute_result"
    }
   ],
   "source": [
    "riders.describe()"
   ]
  },
  {
   "cell_type": "code",
   "execution_count": 10,
   "id": "0b295910",
   "metadata": {},
   "outputs": [
    {
     "data": {
      "image/png": "[encoded data removed]",
      "text/plain": [
       "<Figure size 360x576 with 4 Axes>"
      ]
     },
     "metadata": {
      "needs_background": "light"
     },
     "output_type": "display_data"
    }
   ],
   "source": [
    "#визуализируем все численные данные \n",
    "riders.hist(figsize=(5, 8), bins = 30);"
   ]
  },
  {
   "cell_type": "markdown",
   "id": "a355764a",
   "metadata": {},
   "source": [
    "#### 1.3 Датасет Subscriptions"
   ]
  },
  {
   "cell_type": "code",
   "execution_count": 11,
   "id": "b30bbb92",
   "metadata": {},
   "outputs": [
    {
     "data": {
      "text/html": [
       "<div>\n",
       "<style scoped>\n",
       "    .dataframe tbody tr th:only-of-type {\n",
       "        vertical-align: middle;\n",
       "    }\n",
       "\n",
       "    .dataframe tbody tr th {\n",
       "        vertical-align: top;\n",
       "    }\n",
       "\n",
       "    .dataframe thead th {\n",
       "        text-align: right;\n",
       "    }\n",
       "</style>\n",
       "<table border=\"1\" class=\"dataframe\">\n",
       "  <thead>\n",
       "    <tr style=\"text-align: right;\">\n",
       "      <th></th>\n",
       "      <th>subscription_type</th>\n",
       "      <th>minute_price</th>\n",
       "      <th>start_ride_price</th>\n",
       "      <th>subscription_fee</th>\n",
       "    </tr>\n",
       "  </thead>\n",
       "  <tbody>\n",
       "    <tr>\n",
       "      <th>0</th>\n",
       "      <td>free</td>\n",
       "      <td>8</td>\n",
       "      <td>50</td>\n",
       "      <td>0</td>\n",
       "    </tr>\n",
       "    <tr>\n",
       "      <th>1</th>\n",
       "      <td>ultra</td>\n",
       "      <td>6</td>\n",
       "      <td>0</td>\n",
       "      <td>199</td>\n",
       "    </tr>\n",
       "  </tbody>\n",
       "</table>\n",
       "</div>"
      ],
      "text/plain": [
       "  subscription_type  minute_price  start_ride_price  subscription_fee\n",
       "0              free             8                50                 0\n",
       "1             ultra             6                 0               199"
      ]
     },
     "execution_count": 11,
     "metadata": {},
     "output_type": "execute_result"
    }
   ],
   "source": [
    "subscriptions.head()"
   ]
  },
  {
   "cell_type": "code",
   "execution_count": 12,
   "id": "685ee563",
   "metadata": {},
   "outputs": [
    {
     "name": "stdout",
     "output_type": "stream",
     "text": [
      "<class 'pandas.core.frame.DataFrame'>\n",
      "RangeIndex: 2 entries, 0 to 1\n",
      "Data columns (total 4 columns):\n",
      " #   Column             Non-Null Count  Dtype \n",
      "---  ------             --------------  ----- \n",
      " 0   subscription_type  2 non-null      object\n",
      " 1   minute_price       2 non-null      int64 \n",
      " 2   start_ride_price   2 non-null      int64 \n",
      " 3   subscription_fee   2 non-null      int64 \n",
      "dtypes: int64(3), object(1)\n",
      "memory usage: 192.0+ bytes\n"
     ]
    }
   ],
   "source": [
    "subscriptions.info()"
   ]
  },
  {
   "cell_type": "markdown",
   "id": "2f355c2d",
   "metadata": {},
   "source": [
    "Маленькая табличка с данными о типах пользования сервисом (бесплатно и с подпиской).\n",
    "- `subscription_type` тип подписки: free и ultra\n",
    "- `minute_price` стоимость одной минуты поездки по данной подписке\n",
    "- `start_ride_price` стоимость начала поездки\n",
    "- `subscription_fee` стоимость ежемесячного платежа\n"
   ]
  },
  {
   "cell_type": "markdown",
   "id": "3ec8a283",
   "metadata": {},
   "source": [
    "#### 1.4 Вывод"
   ]
  },
  {
   "cell_type": "markdown",
   "id": "61541541",
   "metadata": {},
   "source": [
    "Для анализа получены три таблицы. В них нет пропусков. Users несет инфо о пользователях сервиса, Riders (самая объемная) - о поездках пользователей, Subscription - о ценовых характеристиках использования сервиса с подпиской и без."
   ]
  },
  {
   "cell_type": "markdown",
   "id": "d03c9c2f",
   "metadata": {},
   "source": [
    "### 2. Предобработка данных"
   ]
  },
  {
   "cell_type": "markdown",
   "id": "b21e968c",
   "metadata": {},
   "source": [
    "#### 2.1 Пропуски"
   ]
  },
  {
   "cell_type": "markdown",
   "id": "c9d836f1",
   "metadata": {},
   "source": [
    "Как уже писала, пропуски в таблицах отсутсвуют."
   ]
  },
  {
   "cell_type": "code",
   "execution_count": 13,
   "id": "2363098a",
   "metadata": {},
   "outputs": [
    {
     "data": {
      "text/plain": [
       "user_id     0\n",
       "distance    0\n",
       "duration    0\n",
       "date        0\n",
       "dtype: int64"
      ]
     },
     "execution_count": 13,
     "metadata": {},
     "output_type": "execute_result"
    }
   ],
   "source": [
    "riders.isna().sum()"
   ]
  },
  {
   "cell_type": "code",
   "execution_count": 14,
   "id": "2c9661fb",
   "metadata": {},
   "outputs": [
    {
     "data": {
      "text/plain": [
       "user_id              0\n",
       "name                 0\n",
       "age                  0\n",
       "city                 0\n",
       "subscription_type    0\n",
       "dtype: int64"
      ]
     },
     "execution_count": 14,
     "metadata": {},
     "output_type": "execute_result"
    }
   ],
   "source": [
    "users.isna().sum()"
   ]
  },
  {
   "cell_type": "code",
   "execution_count": 15,
   "id": "214db33c",
   "metadata": {},
   "outputs": [
    {
     "data": {
      "text/plain": [
       "subscription_type    0\n",
       "minute_price         0\n",
       "start_ride_price     0\n",
       "subscription_fee     0\n",
       "dtype: int64"
      ]
     },
     "execution_count": 15,
     "metadata": {},
     "output_type": "execute_result"
    }
   ],
   "source": [
    "subscriptions.isna().sum()"
   ]
  },
  {
   "cell_type": "markdown",
   "id": "b1a6cdf9",
   "metadata": {},
   "source": [
    "#### 2.2 Дубликаты"
   ]
  },
  {
   "cell_type": "code",
   "execution_count": 16,
   "id": "7371e13b",
   "metadata": {},
   "outputs": [
    {
     "data": {
      "text/plain": [
       "0"
      ]
     },
     "execution_count": 16,
     "metadata": {},
     "output_type": "execute_result"
    }
   ],
   "source": [
    "riders.duplicated().sum()"
   ]
  },
  {
   "cell_type": "code",
   "execution_count": 17,
   "id": "b10d653a",
   "metadata": {},
   "outputs": [
    {
     "data": {
      "text/plain": [
       "31"
      ]
     },
     "execution_count": 17,
     "metadata": {},
     "output_type": "execute_result"
    }
   ],
   "source": [
    "users.duplicated().sum()"
   ]
  },
  {
   "cell_type": "code",
   "execution_count": 18,
   "id": "ac6ebc95",
   "metadata": {},
   "outputs": [
    {
     "data": {
      "text/plain": [
       "0"
      ]
     },
     "execution_count": 18,
     "metadata": {},
     "output_type": "execute_result"
    }
   ],
   "source": [
    "#удалим дубликаты из таблицы users\n",
    "users = users.drop_duplicates().reset_index(drop=True)\n",
    "users.duplicated().sum()"
   ]
  },
  {
   "cell_type": "code",
   "execution_count": 19,
   "id": "19027de7",
   "metadata": {},
   "outputs": [
    {
     "data": {
      "text/plain": [
       "array(['Тюмень', 'Омск', 'Москва', 'Ростов-на-Дону', 'Краснодар',\n",
       "       'Пятигорск', 'Екатеринбург', 'Сочи'], dtype=object)"
      ]
     },
     "execution_count": 19,
     "metadata": {},
     "output_type": "execute_result"
    }
   ],
   "source": [
    "#просмотрим на неявные дубликаты города в таблице Users\n",
    "users.city.unique()"
   ]
  },
  {
   "cell_type": "markdown",
   "id": "c90f18e0",
   "metadata": {},
   "source": [
    "**Микровывод** \n",
    "\n",
    "В таблице Users 31 дубликат. Удалили их. В остальных таблицах явных дубликатов нет, в subscriptions (где всего 2 строки) их и не может быть.\n",
    "\n",
    "Неявных дубликатов также не найдено."
   ]
  },
  {
   "cell_type": "markdown",
   "id": "0710c7c1",
   "metadata": {},
   "source": [
    "#### 2.3 Изменение типов данных"
   ]
  },
  {
   "cell_type": "markdown",
   "id": "81626b75",
   "metadata": {},
   "source": [
    "Изменим тип данных `date` в таблице Riders на datetime, т.к. при использовании этого столбца значения должны воприниматься как даты."
   ]
  },
  {
   "cell_type": "code",
   "execution_count": 20,
   "id": "c8810e65",
   "metadata": {},
   "outputs": [
    {
     "data": {
      "text/plain": [
       "0        2021-01-01\n",
       "1        2021-01-18\n",
       "2        2021-04-20\n",
       "3        2021-08-11\n",
       "4        2021-08-28\n",
       "            ...    \n",
       "18063    2021-11-04\n",
       "18064    2021-11-16\n",
       "18065    2021-11-18\n",
       "18066    2021-11-27\n",
       "18067    2021-12-29\n",
       "Name: date, Length: 18068, dtype: object"
      ]
     },
     "execution_count": 20,
     "metadata": {},
     "output_type": "execute_result"
    }
   ],
   "source": [
    "riders.date"
   ]
  },
  {
   "cell_type": "code",
   "execution_count": 21,
   "id": "25ea91fe",
   "metadata": {},
   "outputs": [
    {
     "data": {
      "text/plain": [
       "0       2021-01-01\n",
       "1       2021-01-18\n",
       "2       2021-04-20\n",
       "3       2021-08-11\n",
       "4       2021-08-28\n",
       "           ...    \n",
       "18063   2021-11-04\n",
       "18064   2021-11-16\n",
       "18065   2021-11-18\n",
       "18066   2021-11-27\n",
       "18067   2021-12-29\n",
       "Name: date, Length: 18068, dtype: datetime64[ns]"
      ]
     },
     "execution_count": 21,
     "metadata": {},
     "output_type": "execute_result"
    }
   ],
   "source": [
    "riders['date'] = pd.to_datetime(riders['date'], format = '%Y-%m-%d')\n",
    "riders.date"
   ]
  },
  {
   "cell_type": "code",
   "execution_count": 22,
   "id": "92bcac9e",
   "metadata": {},
   "outputs": [
    {
     "data": {
      "text/plain": [
       "Timestamp('2021-01-01 00:00:00')"
      ]
     },
     "execution_count": 22,
     "metadata": {},
     "output_type": "execute_result"
    }
   ],
   "source": [
    "riders.date.min()"
   ]
  },
  {
   "cell_type": "code",
   "execution_count": 23,
   "id": "05c27da7",
   "metadata": {},
   "outputs": [
    {
     "data": {
      "text/plain": [
       "Timestamp('2021-12-30 00:00:00')"
      ]
     },
     "execution_count": 23,
     "metadata": {},
     "output_type": "execute_result"
    }
   ],
   "source": [
    "riders.date.max()"
   ]
  },
  {
   "cell_type": "markdown",
   "id": "3461dabf",
   "metadata": {},
   "source": [
    "В данных представлена информация о поездках за 2021 год."
   ]
  },
  {
   "cell_type": "markdown",
   "id": "4d514c38",
   "metadata": {},
   "source": [
    "#### 2.4 Добавим столбец в Riders"
   ]
  },
  {
   "cell_type": "markdown",
   "id": "003e1aa0",
   "metadata": {},
   "source": [
    "Создадим новый столбец с номером месяца на основе столбца `date`."
   ]
  },
  {
   "cell_type": "code",
   "execution_count": 24,
   "id": "042a25e9",
   "metadata": {},
   "outputs": [
    {
     "data": {
      "text/plain": [
       "0         1\n",
       "1         1\n",
       "2         4\n",
       "3         8\n",
       "4         8\n",
       "         ..\n",
       "18063    11\n",
       "18064    11\n",
       "18065    11\n",
       "18066    11\n",
       "18067    12\n",
       "Name: month, Length: 18068, dtype: int64"
      ]
     },
     "execution_count": 24,
     "metadata": {},
     "output_type": "execute_result"
    }
   ],
   "source": [
    "riders['month'] = riders['date'].dt.month\n",
    "riders.month"
   ]
  },
  {
   "cell_type": "markdown",
   "id": "2630e18d",
   "metadata": {},
   "source": [
    "#### 2.5 Вывод\n",
    "В ходе предобработки:\n",
    "- пропусков в данных нет\n",
    "- дубликаты в таблице о поездках `riders` в количестве 31 шт, были удалены\n",
    "- для `date` в таблице о поездках `riders` изменили тип данных на datetime\n",
    "- добавили столбец `month` в таблице `riders` с номером месяца, в который совершена поездка"
   ]
  },
  {
   "cell_type": "markdown",
   "id": "61e1136a",
   "metadata": {},
   "source": [
    "### 3. Исследовательский анализ данных"
   ]
  },
  {
   "cell_type": "markdown",
   "id": "d75580a3",
   "metadata": {},
   "source": [
    "Посмотрим общую информацию о пользователях и поездках:"
   ]
  },
  {
   "cell_type": "markdown",
   "id": "7e0cea79",
   "metadata": {},
   "source": [
    "#### 3.1 Частота встречаемости городов"
   ]
  },
  {
   "cell_type": "code",
   "execution_count": 25,
   "id": "45859bd7",
   "metadata": {},
   "outputs": [
    {
     "data": {
      "text/plain": [
       "Пятигорск         219\n",
       "Екатеринбург      204\n",
       "Ростов-на-Дону    198\n",
       "Краснодар         193\n",
       "Сочи              189\n",
       "Омск              183\n",
       "Тюмень            180\n",
       "Москва            168\n",
       "Name: city, dtype: int64"
      ]
     },
     "execution_count": 25,
     "metadata": {},
     "output_type": "execute_result"
    }
   ],
   "source": [
    "users.city.value_counts()"
   ]
  },
  {
   "cell_type": "code",
   "execution_count": 26,
   "id": "384811f3",
   "metadata": {},
   "outputs": [
    {
     "data": {
      "image/png": "[encoded data removed]",
      "text/plain": [
       "<Figure size 720x576 with 1 Axes>"
      ]
     },
     "metadata": {
      "needs_background": "light"
     },
     "output_type": "display_data"
    }
   ],
   "source": [
    "plt.figure(figsize=(10, 8)) \n",
    "ax = sns.countplot(y='city', data=users, order = users.city.value_counts().index);\n",
    "ax.set(xlabel='Количество пользователей', ylabel='Город', title = 'Распределение пользователей по городам');"
   ]
  },
  {
   "cell_type": "markdown",
   "id": "03093c11",
   "metadata": {},
   "source": [
    "Пользователи распределены по городам довольно сбалансировано. Больше всего пользователей в Пятигорске, а меньше всего в Москве. "
   ]
  },
  {
   "cell_type": "markdown",
   "id": "01ec8638",
   "metadata": {},
   "source": [
    "#### 3.2 Cоотношение пользователей с подпиской и без подписки"
   ]
  },
  {
   "cell_type": "code",
   "execution_count": 27,
   "id": "5ef69a26",
   "metadata": {},
   "outputs": [
    {
     "data": {
      "image/png": "[encoded data removed]",
      "text/plain": [
       "<Figure size 432x288 with 1 Axes>"
      ]
     },
     "metadata": {},
     "output_type": "display_data"
    }
   ],
   "source": [
    "plt.title('Cоотношение пользователей с подпиской и без')\n",
    "plt.pie(users.subscription_type.value_counts(), labels = users.subscription_type.value_counts().index, autopct='%1.1f%%')\n",
    "plt.show()"
   ]
  },
  {
   "cell_type": "code",
   "execution_count": 28,
   "id": "dfd4772f",
   "metadata": {},
   "outputs": [
    {
     "data": {
      "text/plain": [
       "free     0.544329\n",
       "ultra    0.455671\n",
       "Name: subscription_type, dtype: float64"
      ]
     },
     "execution_count": 28,
     "metadata": {},
     "output_type": "execute_result"
    }
   ],
   "source": [
    "users.subscription_type.value_counts(normalize=True)"
   ]
  },
  {
   "cell_type": "markdown",
   "id": "c3216589",
   "metadata": {},
   "source": [
    "Пользователей без подписки несколько больше, но, в целом, группы сбалансированы."
   ]
  },
  {
   "cell_type": "markdown",
   "id": "c519c780",
   "metadata": {},
   "source": [
    "#### 3.3 Возраст пользователей"
   ]
  },
  {
   "cell_type": "code",
   "execution_count": 29,
   "id": "c951133a",
   "metadata": {},
   "outputs": [
    {
     "data": {
      "text/plain": [
       "count    1534.000000\n",
       "mean       24.903520\n",
       "std         4.572367\n",
       "min        12.000000\n",
       "25%        22.000000\n",
       "50%        25.000000\n",
       "75%        28.000000\n",
       "max        43.000000\n",
       "Name: age, dtype: float64"
      ]
     },
     "execution_count": 29,
     "metadata": {},
     "output_type": "execute_result"
    }
   ],
   "source": [
    "users.age.describe()"
   ]
  },
  {
   "cell_type": "code",
   "execution_count": 30,
   "id": "22ea3aa4",
   "metadata": {},
   "outputs": [
    {
     "data": {
      "image/png": "[encoded data removed]",
      "text/plain": [
       "<Figure size 720x432 with 1 Axes>"
      ]
     },
     "metadata": {
      "needs_background": "light"
     },
     "output_type": "display_data"
    }
   ],
   "source": [
    "plt.figure(figsize=(10, 6)) \n",
    "ax = sns.countplot(x='age', data=users)\n",
    "ax.set(xlabel='Возраст', ylabel='Количество пользователей', title = 'Распределение пользователей по возрасту');"
   ]
  },
  {
   "cell_type": "markdown",
   "id": "19686c58",
   "metadata": {},
   "source": [
    "Среди пользователей больше всего взрослый молодых людей в возрасте около 25 лет. Самым маленькие пользователи сервиса 12 лет, самым взрослым 43. "
   ]
  },
  {
   "cell_type": "markdown",
   "id": "8cc8f968",
   "metadata": {},
   "source": [
    "#### 3.4 Расстояние, которое пользователь преодолел за одну поездку"
   ]
  },
  {
   "cell_type": "code",
   "execution_count": 31,
   "id": "c511fa90",
   "metadata": {},
   "outputs": [
    {
     "data": {
      "image/png": "[encoded data removed]",
      "text/plain": [
       "<Figure size 360x360 with 1 Axes>"
      ]
     },
     "metadata": {
      "needs_background": "light"
     },
     "output_type": "display_data"
    }
   ],
   "source": [
    "riders.hist('distance', figsize=(5, 5), bins = 30);\n",
    "plt.title('Расстояние поездок')\n",
    "plt.xlabel('Расстояние, м')\n",
    "plt.ylabel('Количество поездок');"
   ]
  },
  {
   "cell_type": "markdown",
   "id": "e66beda8",
   "metadata": {},
   "source": [
    "Чаще всего, за одну поездку пользователь проезжает 3000 км или немного больше.\n",
    "\n",
    "Есть пользователи которые проехали совсем немного меньше 1 км или даже меньше. Такое малое расстояние может означать,что либо действительно столько нужно было проехать, либо пользователю не понравился опыт взаимодействия с самокатом и он решил его прекратить."
   ]
  },
  {
   "cell_type": "code",
   "execution_count": 32,
   "id": "df44d25d",
   "metadata": {},
   "outputs": [
    {
     "data": {
      "image/png": "[encoded data removed]",
      "text/plain": [
       "<Figure size 432x288 with 1 Axes>"
      ]
     },
     "metadata": {
      "needs_background": "light"
     },
     "output_type": "display_data"
    }
   ],
   "source": [
    "riders.boxplot('distance')\n",
    "plt.title('Расстояние поездок')\n",
    "plt.ylabel('Расстояние, м');"
   ]
  },
  {
   "cell_type": "markdown",
   "id": "a0006200",
   "metadata": {},
   "source": [
    "Посмотрим на данные о пользователях, совершивших короткие поездки"
   ]
  },
  {
   "cell_type": "code",
   "execution_count": 33,
   "id": "6f45548a",
   "metadata": {},
   "outputs": [
    {
     "data": {
      "text/plain": [
       "count    18068.000000\n",
       "mean      3070.659976\n",
       "std       1116.831209\n",
       "min          0.855683\n",
       "25%       2543.226360\n",
       "50%       3133.609994\n",
       "75%       3776.222735\n",
       "max       7211.007745\n",
       "Name: distance, dtype: float64"
      ]
     },
     "execution_count": 33,
     "metadata": {},
     "output_type": "execute_result"
    }
   ],
   "source": [
    "riders.distance.describe()"
   ]
  },
  {
   "cell_type": "code",
   "execution_count": 34,
   "id": "7b054646",
   "metadata": {},
   "outputs": [
    {
     "name": "stdout",
     "output_type": "stream",
     "text": [
      "Нижняя граница усов: 693.7317969370258\n",
      "Верхняя граница усов: 5625.717298360568\n"
     ]
    }
   ],
   "source": [
    "Q1 = np.percentile(riders.distance, 25.)\n",
    "Q3 = np.percentile(riders.distance, 75.)\n",
    "print('Нижняя граница усов:', Q1 - 1.5*st.iqr(riders.distance))\n",
    "print('Верхняя граница усов:', Q3 + 1.5*st.iqr(riders.distance))"
   ]
  },
  {
   "cell_type": "code",
   "execution_count": 35,
   "id": "ea4510cb",
   "metadata": {},
   "outputs": [
    {
     "data": {
      "text/html": [
       "<div>\n",
       "<style scoped>\n",
       "    .dataframe tbody tr th:only-of-type {\n",
       "        vertical-align: middle;\n",
       "    }\n",
       "\n",
       "    .dataframe tbody tr th {\n",
       "        vertical-align: top;\n",
       "    }\n",
       "\n",
       "    .dataframe thead th {\n",
       "        text-align: right;\n",
       "    }\n",
       "</style>\n",
       "<table border=\"1\" class=\"dataframe\">\n",
       "  <thead>\n",
       "    <tr style=\"text-align: right;\">\n",
       "      <th></th>\n",
       "      <th>user_id</th>\n",
       "      <th>distance</th>\n",
       "      <th>duration</th>\n",
       "      <th>date</th>\n",
       "      <th>month</th>\n",
       "    </tr>\n",
       "  </thead>\n",
       "  <tbody>\n",
       "    <tr>\n",
       "      <th>100</th>\n",
       "      <td>10</td>\n",
       "      <td>680.952663</td>\n",
       "      <td>5.150377</td>\n",
       "      <td>2021-02-21</td>\n",
       "      <td>2</td>\n",
       "    </tr>\n",
       "    <tr>\n",
       "      <th>149</th>\n",
       "      <td>15</td>\n",
       "      <td>634.891669</td>\n",
       "      <td>15.809350</td>\n",
       "      <td>2021-04-05</td>\n",
       "      <td>4</td>\n",
       "    </tr>\n",
       "    <tr>\n",
       "      <th>153</th>\n",
       "      <td>15</td>\n",
       "      <td>671.851433</td>\n",
       "      <td>12.031109</td>\n",
       "      <td>2021-11-15</td>\n",
       "      <td>11</td>\n",
       "    </tr>\n",
       "    <tr>\n",
       "      <th>197</th>\n",
       "      <td>21</td>\n",
       "      <td>518.341543</td>\n",
       "      <td>10.151870</td>\n",
       "      <td>2021-02-03</td>\n",
       "      <td>2</td>\n",
       "    </tr>\n",
       "    <tr>\n",
       "      <th>204</th>\n",
       "      <td>21</td>\n",
       "      <td>517.912395</td>\n",
       "      <td>14.219625</td>\n",
       "      <td>2021-10-01</td>\n",
       "      <td>10</td>\n",
       "    </tr>\n",
       "    <tr>\n",
       "      <th>...</th>\n",
       "      <td>...</td>\n",
       "      <td>...</td>\n",
       "      <td>...</td>\n",
       "      <td>...</td>\n",
       "      <td>...</td>\n",
       "    </tr>\n",
       "    <tr>\n",
       "      <th>18018</th>\n",
       "      <td>1531</td>\n",
       "      <td>375.107762</td>\n",
       "      <td>5.406654</td>\n",
       "      <td>2021-06-27</td>\n",
       "      <td>6</td>\n",
       "    </tr>\n",
       "    <tr>\n",
       "      <th>18031</th>\n",
       "      <td>1532</td>\n",
       "      <td>303.787850</td>\n",
       "      <td>7.792490</td>\n",
       "      <td>2021-05-21</td>\n",
       "      <td>5</td>\n",
       "    </tr>\n",
       "    <tr>\n",
       "      <th>18037</th>\n",
       "      <td>1532</td>\n",
       "      <td>662.468186</td>\n",
       "      <td>9.528773</td>\n",
       "      <td>2021-11-18</td>\n",
       "      <td>11</td>\n",
       "    </tr>\n",
       "    <tr>\n",
       "      <th>18043</th>\n",
       "      <td>1533</td>\n",
       "      <td>310.488247</td>\n",
       "      <td>10.642389</td>\n",
       "      <td>2021-02-21</td>\n",
       "      <td>2</td>\n",
       "    </tr>\n",
       "    <tr>\n",
       "      <th>18058</th>\n",
       "      <td>1534</td>\n",
       "      <td>195.447469</td>\n",
       "      <td>6.469074</td>\n",
       "      <td>2021-06-11</td>\n",
       "      <td>6</td>\n",
       "    </tr>\n",
       "  </tbody>\n",
       "</table>\n",
       "<p>909 rows × 5 columns</p>\n",
       "</div>"
      ],
      "text/plain": [
       "       user_id    distance   duration       date  month\n",
       "100         10  680.952663   5.150377 2021-02-21      2\n",
       "149         15  634.891669  15.809350 2021-04-05      4\n",
       "153         15  671.851433  12.031109 2021-11-15     11\n",
       "197         21  518.341543  10.151870 2021-02-03      2\n",
       "204         21  517.912395  14.219625 2021-10-01     10\n",
       "...        ...         ...        ...        ...    ...\n",
       "18018     1531  375.107762   5.406654 2021-06-27      6\n",
       "18031     1532  303.787850   7.792490 2021-05-21      5\n",
       "18037     1532  662.468186   9.528773 2021-11-18     11\n",
       "18043     1533  310.488247  10.642389 2021-02-21      2\n",
       "18058     1534  195.447469   6.469074 2021-06-11      6\n",
       "\n",
       "[909 rows x 5 columns]"
      ]
     },
     "execution_count": 35,
     "metadata": {},
     "output_type": "execute_result"
    }
   ],
   "source": [
    "riders.query('distance<=693')"
   ]
  },
  {
   "cell_type": "code",
   "execution_count": 36,
   "id": "173f9180",
   "metadata": {},
   "outputs": [
    {
     "data": {
      "text/html": [
       "<div>\n",
       "<style scoped>\n",
       "    .dataframe tbody tr th:only-of-type {\n",
       "        vertical-align: middle;\n",
       "    }\n",
       "\n",
       "    .dataframe tbody tr th {\n",
       "        vertical-align: top;\n",
       "    }\n",
       "\n",
       "    .dataframe thead th {\n",
       "        text-align: right;\n",
       "    }\n",
       "</style>\n",
       "<table border=\"1\" class=\"dataframe\">\n",
       "  <thead>\n",
       "    <tr style=\"text-align: right;\">\n",
       "      <th></th>\n",
       "      <th>user_id</th>\n",
       "      <th>distance</th>\n",
       "      <th>duration</th>\n",
       "      <th>date</th>\n",
       "      <th>month</th>\n",
       "    </tr>\n",
       "  </thead>\n",
       "  <tbody>\n",
       "    <tr>\n",
       "      <th>18055</th>\n",
       "      <td>1534</td>\n",
       "      <td>4678.415899</td>\n",
       "      <td>15.228198</td>\n",
       "      <td>2021-01-20</td>\n",
       "      <td>1</td>\n",
       "    </tr>\n",
       "    <tr>\n",
       "      <th>18056</th>\n",
       "      <td>1534</td>\n",
       "      <td>2103.914120</td>\n",
       "      <td>13.425579</td>\n",
       "      <td>2021-02-28</td>\n",
       "      <td>2</td>\n",
       "    </tr>\n",
       "    <tr>\n",
       "      <th>18057</th>\n",
       "      <td>1534</td>\n",
       "      <td>3434.290912</td>\n",
       "      <td>14.366248</td>\n",
       "      <td>2021-04-29</td>\n",
       "      <td>4</td>\n",
       "    </tr>\n",
       "    <tr>\n",
       "      <th>18058</th>\n",
       "      <td>1534</td>\n",
       "      <td>195.447469</td>\n",
       "      <td>6.469074</td>\n",
       "      <td>2021-06-11</td>\n",
       "      <td>6</td>\n",
       "    </tr>\n",
       "    <tr>\n",
       "      <th>18059</th>\n",
       "      <td>1534</td>\n",
       "      <td>3214.021065</td>\n",
       "      <td>18.343604</td>\n",
       "      <td>2021-06-18</td>\n",
       "      <td>6</td>\n",
       "    </tr>\n",
       "    <tr>\n",
       "      <th>18060</th>\n",
       "      <td>1534</td>\n",
       "      <td>3644.708038</td>\n",
       "      <td>20.289416</td>\n",
       "      <td>2021-08-08</td>\n",
       "      <td>8</td>\n",
       "    </tr>\n",
       "    <tr>\n",
       "      <th>18061</th>\n",
       "      <td>1534</td>\n",
       "      <td>3977.744996</td>\n",
       "      <td>26.916544</td>\n",
       "      <td>2021-08-20</td>\n",
       "      <td>8</td>\n",
       "    </tr>\n",
       "    <tr>\n",
       "      <th>18062</th>\n",
       "      <td>1534</td>\n",
       "      <td>4928.173852</td>\n",
       "      <td>22.560373</td>\n",
       "      <td>2021-09-13</td>\n",
       "      <td>9</td>\n",
       "    </tr>\n",
       "    <tr>\n",
       "      <th>18063</th>\n",
       "      <td>1534</td>\n",
       "      <td>3781.098080</td>\n",
       "      <td>19.822962</td>\n",
       "      <td>2021-11-04</td>\n",
       "      <td>11</td>\n",
       "    </tr>\n",
       "    <tr>\n",
       "      <th>18064</th>\n",
       "      <td>1534</td>\n",
       "      <td>2840.423057</td>\n",
       "      <td>21.409799</td>\n",
       "      <td>2021-11-16</td>\n",
       "      <td>11</td>\n",
       "    </tr>\n",
       "    <tr>\n",
       "      <th>18065</th>\n",
       "      <td>1534</td>\n",
       "      <td>3826.185507</td>\n",
       "      <td>18.435051</td>\n",
       "      <td>2021-11-18</td>\n",
       "      <td>11</td>\n",
       "    </tr>\n",
       "    <tr>\n",
       "      <th>18066</th>\n",
       "      <td>1534</td>\n",
       "      <td>2902.308661</td>\n",
       "      <td>16.674362</td>\n",
       "      <td>2021-11-27</td>\n",
       "      <td>11</td>\n",
       "    </tr>\n",
       "    <tr>\n",
       "      <th>18067</th>\n",
       "      <td>1534</td>\n",
       "      <td>2371.711192</td>\n",
       "      <td>15.893917</td>\n",
       "      <td>2021-12-29</td>\n",
       "      <td>12</td>\n",
       "    </tr>\n",
       "  </tbody>\n",
       "</table>\n",
       "</div>"
      ],
      "text/plain": [
       "       user_id     distance   duration       date  month\n",
       "18055     1534  4678.415899  15.228198 2021-01-20      1\n",
       "18056     1534  2103.914120  13.425579 2021-02-28      2\n",
       "18057     1534  3434.290912  14.366248 2021-04-29      4\n",
       "18058     1534   195.447469   6.469074 2021-06-11      6\n",
       "18059     1534  3214.021065  18.343604 2021-06-18      6\n",
       "18060     1534  3644.708038  20.289416 2021-08-08      8\n",
       "18061     1534  3977.744996  26.916544 2021-08-20      8\n",
       "18062     1534  4928.173852  22.560373 2021-09-13      9\n",
       "18063     1534  3781.098080  19.822962 2021-11-04     11\n",
       "18064     1534  2840.423057  21.409799 2021-11-16     11\n",
       "18065     1534  3826.185507  18.435051 2021-11-18     11\n",
       "18066     1534  2902.308661  16.674362 2021-11-27     11\n",
       "18067     1534  2371.711192  15.893917 2021-12-29     12"
      ]
     },
     "execution_count": 36,
     "metadata": {},
     "output_type": "execute_result"
    }
   ],
   "source": [
    "riders.query('user_id==1534')"
   ]
  },
  {
   "cell_type": "code",
   "execution_count": 37,
   "id": "fc66678e",
   "metadata": {},
   "outputs": [
    {
     "data": {
      "text/html": [
       "<div>\n",
       "<style scoped>\n",
       "    .dataframe tbody tr th:only-of-type {\n",
       "        vertical-align: middle;\n",
       "    }\n",
       "\n",
       "    .dataframe tbody tr th {\n",
       "        vertical-align: top;\n",
       "    }\n",
       "\n",
       "    .dataframe thead th {\n",
       "        text-align: right;\n",
       "    }\n",
       "</style>\n",
       "<table border=\"1\" class=\"dataframe\">\n",
       "  <thead>\n",
       "    <tr style=\"text-align: right;\">\n",
       "      <th></th>\n",
       "      <th>user_id</th>\n",
       "      <th>distance</th>\n",
       "      <th>duration</th>\n",
       "      <th>date</th>\n",
       "      <th>month</th>\n",
       "    </tr>\n",
       "  </thead>\n",
       "  <tbody>\n",
       "    <tr>\n",
       "      <th>11555</th>\n",
       "      <td>1069</td>\n",
       "      <td>0.855683</td>\n",
       "      <td>10.001902</td>\n",
       "      <td>2021-01-31</td>\n",
       "      <td>1</td>\n",
       "    </tr>\n",
       "    <tr>\n",
       "      <th>9541</th>\n",
       "      <td>925</td>\n",
       "      <td>2.570787</td>\n",
       "      <td>3.011018</td>\n",
       "      <td>2021-10-19</td>\n",
       "      <td>10</td>\n",
       "    </tr>\n",
       "    <tr>\n",
       "      <th>13690</th>\n",
       "      <td>1223</td>\n",
       "      <td>4.329506</td>\n",
       "      <td>4.008958</td>\n",
       "      <td>2021-05-22</td>\n",
       "      <td>5</td>\n",
       "    </tr>\n",
       "    <tr>\n",
       "      <th>8658</th>\n",
       "      <td>861</td>\n",
       "      <td>6.784447</td>\n",
       "      <td>6.015656</td>\n",
       "      <td>2021-07-21</td>\n",
       "      <td>7</td>\n",
       "    </tr>\n",
       "    <tr>\n",
       "      <th>7841</th>\n",
       "      <td>796</td>\n",
       "      <td>7.097072</td>\n",
       "      <td>10.026614</td>\n",
       "      <td>2021-11-26</td>\n",
       "      <td>11</td>\n",
       "    </tr>\n",
       "    <tr>\n",
       "      <th>8906</th>\n",
       "      <td>880</td>\n",
       "      <td>11.283615</td>\n",
       "      <td>2.035632</td>\n",
       "      <td>2021-03-28</td>\n",
       "      <td>3</td>\n",
       "    </tr>\n",
       "    <tr>\n",
       "      <th>8324</th>\n",
       "      <td>835</td>\n",
       "      <td>12.233115</td>\n",
       "      <td>4.034952</td>\n",
       "      <td>2021-09-19</td>\n",
       "      <td>9</td>\n",
       "    </tr>\n",
       "    <tr>\n",
       "      <th>13940</th>\n",
       "      <td>1240</td>\n",
       "      <td>15.000606</td>\n",
       "      <td>10.045002</td>\n",
       "      <td>2021-08-20</td>\n",
       "      <td>8</td>\n",
       "    </tr>\n",
       "    <tr>\n",
       "      <th>15626</th>\n",
       "      <td>1364</td>\n",
       "      <td>15.366168</td>\n",
       "      <td>6.057623</td>\n",
       "      <td>2021-08-22</td>\n",
       "      <td>8</td>\n",
       "    </tr>\n",
       "    <tr>\n",
       "      <th>11862</th>\n",
       "      <td>1091</td>\n",
       "      <td>15.630873</td>\n",
       "      <td>13.044660</td>\n",
       "      <td>2021-03-29</td>\n",
       "      <td>3</td>\n",
       "    </tr>\n",
       "  </tbody>\n",
       "</table>\n",
       "</div>"
      ],
      "text/plain": [
       "       user_id   distance   duration       date  month\n",
       "11555     1069   0.855683  10.001902 2021-01-31      1\n",
       "9541       925   2.570787   3.011018 2021-10-19     10\n",
       "13690     1223   4.329506   4.008958 2021-05-22      5\n",
       "8658       861   6.784447   6.015656 2021-07-21      7\n",
       "7841       796   7.097072  10.026614 2021-11-26     11\n",
       "8906       880  11.283615   2.035632 2021-03-28      3\n",
       "8324       835  12.233115   4.034952 2021-09-19      9\n",
       "13940     1240  15.000606  10.045002 2021-08-20      8\n",
       "15626     1364  15.366168   6.057623 2021-08-22      8\n",
       "11862     1091  15.630873  13.044660 2021-03-29      3"
      ]
     },
     "execution_count": 37,
     "metadata": {},
     "output_type": "execute_result"
    }
   ],
   "source": [
    "riders.sort_values(by='distance').head(10)"
   ]
  },
  {
   "cell_type": "markdown",
   "id": "9bdf71aa",
   "metadata": {},
   "source": [
    "Пользователи, которые совершали короткие поездки , ездили на самокате и на более длинные дистанции, и неоднократно. Наверное, дело не в том, что не понравился сервис, а в том, что такую дистанцию и надо было проехать. Но возможно иногда по каким-то причинам все же решили завершить поездку преждевременно,т.к. есть поездки, где расстояние равно считанным метрам."
   ]
  },
  {
   "cell_type": "code",
   "execution_count": 38,
   "id": "04b94eb4",
   "metadata": {},
   "outputs": [
    {
     "data": {
      "text/plain": [
       "0.050309940225813594"
      ]
     },
     "execution_count": 38,
     "metadata": {},
     "output_type": "execute_result"
    }
   ],
   "source": [
    "riders.query('distance<=693').shape[0]/riders.shape[0]"
   ]
  },
  {
   "cell_type": "markdown",
   "id": "111c2bd7",
   "metadata": {},
   "source": [
    "Коротких по расстоянию поездок в датасете примерно 5%."
   ]
  },
  {
   "cell_type": "markdown",
   "id": "b216cbd7",
   "metadata": {},
   "source": [
    "#### 3.5 Продолжительность поездок"
   ]
  },
  {
   "cell_type": "code",
   "execution_count": 39,
   "id": "991f324e",
   "metadata": {},
   "outputs": [
    {
     "data": {
      "image/png": "[encoded data removed]",
      "text/plain": [
       "<Figure size 360x360 with 1 Axes>"
      ]
     },
     "metadata": {
      "needs_background": "light"
     },
     "output_type": "display_data"
    }
   ],
   "source": [
    "riders.hist('duration', figsize=(5, 5), bins = 30)\n",
    "plt.title('Длительность поездок')\n",
    "plt.xlabel('Время, мин')\n",
    "plt.ylabel('Количество поездок');"
   ]
  },
  {
   "cell_type": "code",
   "execution_count": 40,
   "id": "45b120e8",
   "metadata": {},
   "outputs": [
    {
     "data": {
      "text/plain": [
       "count    18068.000000\n",
       "mean        17.805011\n",
       "std          6.091051\n",
       "min          0.500000\n",
       "25%         13.597563\n",
       "50%         17.678395\n",
       "75%         21.724800\n",
       "max         40.823963\n",
       "Name: duration, dtype: float64"
      ]
     },
     "execution_count": 40,
     "metadata": {},
     "output_type": "execute_result"
    }
   ],
   "source": [
    "riders.duration.describe()"
   ]
  },
  {
   "cell_type": "code",
   "execution_count": 41,
   "id": "9795c4d0",
   "metadata": {},
   "outputs": [
    {
     "data": {
      "text/html": [
       "<div>\n",
       "<style scoped>\n",
       "    .dataframe tbody tr th:only-of-type {\n",
       "        vertical-align: middle;\n",
       "    }\n",
       "\n",
       "    .dataframe tbody tr th {\n",
       "        vertical-align: top;\n",
       "    }\n",
       "\n",
       "    .dataframe thead th {\n",
       "        text-align: right;\n",
       "    }\n",
       "</style>\n",
       "<table border=\"1\" class=\"dataframe\">\n",
       "  <thead>\n",
       "    <tr style=\"text-align: right;\">\n",
       "      <th></th>\n",
       "      <th>user_id</th>\n",
       "      <th>distance</th>\n",
       "      <th>duration</th>\n",
       "      <th>date</th>\n",
       "      <th>month</th>\n",
       "    </tr>\n",
       "  </thead>\n",
       "  <tbody>\n",
       "    <tr>\n",
       "      <th>12013</th>\n",
       "      <td>1102</td>\n",
       "      <td>4602.122401</td>\n",
       "      <td>0.5</td>\n",
       "      <td>2021-08-01</td>\n",
       "      <td>8</td>\n",
       "    </tr>\n",
       "    <tr>\n",
       "      <th>17314</th>\n",
       "      <td>1483</td>\n",
       "      <td>4445.481070</td>\n",
       "      <td>0.5</td>\n",
       "      <td>2021-03-06</td>\n",
       "      <td>3</td>\n",
       "    </tr>\n",
       "    <tr>\n",
       "      <th>15029</th>\n",
       "      <td>1318</td>\n",
       "      <td>5894.633314</td>\n",
       "      <td>0.5</td>\n",
       "      <td>2021-03-28</td>\n",
       "      <td>3</td>\n",
       "    </tr>\n",
       "    <tr>\n",
       "      <th>7437</th>\n",
       "      <td>766</td>\n",
       "      <td>4539.088310</td>\n",
       "      <td>0.5</td>\n",
       "      <td>2021-12-22</td>\n",
       "      <td>12</td>\n",
       "    </tr>\n",
       "    <tr>\n",
       "      <th>12967</th>\n",
       "      <td>1172</td>\n",
       "      <td>4907.140751</td>\n",
       "      <td>0.5</td>\n",
       "      <td>2021-12-19</td>\n",
       "      <td>12</td>\n",
       "    </tr>\n",
       "    <tr>\n",
       "      <th>15015</th>\n",
       "      <td>1317</td>\n",
       "      <td>4593.389022</td>\n",
       "      <td>0.5</td>\n",
       "      <td>2021-07-16</td>\n",
       "      <td>7</td>\n",
       "    </tr>\n",
       "    <tr>\n",
       "      <th>13012</th>\n",
       "      <td>1176</td>\n",
       "      <td>4935.071045</td>\n",
       "      <td>0.5</td>\n",
       "      <td>2021-05-14</td>\n",
       "      <td>5</td>\n",
       "    </tr>\n",
       "    <tr>\n",
       "      <th>7508</th>\n",
       "      <td>772</td>\n",
       "      <td>4718.820996</td>\n",
       "      <td>0.5</td>\n",
       "      <td>2021-05-22</td>\n",
       "      <td>5</td>\n",
       "    </tr>\n",
       "    <tr>\n",
       "      <th>16589</th>\n",
       "      <td>1428</td>\n",
       "      <td>5059.187375</td>\n",
       "      <td>0.5</td>\n",
       "      <td>2021-05-06</td>\n",
       "      <td>5</td>\n",
       "    </tr>\n",
       "    <tr>\n",
       "      <th>9049</th>\n",
       "      <td>890</td>\n",
       "      <td>4848.485014</td>\n",
       "      <td>0.5</td>\n",
       "      <td>2021-11-20</td>\n",
       "      <td>11</td>\n",
       "    </tr>\n",
       "  </tbody>\n",
       "</table>\n",
       "</div>"
      ],
      "text/plain": [
       "       user_id     distance  duration       date  month\n",
       "12013     1102  4602.122401       0.5 2021-08-01      8\n",
       "17314     1483  4445.481070       0.5 2021-03-06      3\n",
       "15029     1318  5894.633314       0.5 2021-03-28      3\n",
       "7437       766  4539.088310       0.5 2021-12-22     12\n",
       "12967     1172  4907.140751       0.5 2021-12-19     12\n",
       "15015     1317  4593.389022       0.5 2021-07-16      7\n",
       "13012     1176  4935.071045       0.5 2021-05-14      5\n",
       "7508       772  4718.820996       0.5 2021-05-22      5\n",
       "16589     1428  5059.187375       0.5 2021-05-06      5\n",
       "9049       890  4848.485014       0.5 2021-11-20     11"
      ]
     },
     "execution_count": 41,
     "metadata": {},
     "output_type": "execute_result"
    }
   ],
   "source": [
    "riders.sort_values(by='duration').head(10)"
   ]
  },
  {
   "cell_type": "code",
   "execution_count": 42,
   "id": "28f899e1",
   "metadata": {},
   "outputs": [
    {
     "data": {
      "text/plain": [
       "95"
      ]
     },
     "execution_count": 42,
     "metadata": {},
     "output_type": "execute_result"
    }
   ],
   "source": [
    "riders.query('duration==0.5').shape[0]"
   ]
  },
  {
   "cell_type": "code",
   "execution_count": 43,
   "id": "c9825843",
   "metadata": {},
   "outputs": [
    {
     "data": {
      "image/png": "[encoded data removed]",
      "text/plain": [
       "<Figure size 432x288 with 1 Axes>"
      ]
     },
     "metadata": {
      "needs_background": "light"
     },
     "output_type": "display_data"
    }
   ],
   "source": [
    "riders.boxplot('duration')\n",
    "plt.title('Длительность поездок')\n",
    "plt.ylabel('Время, мин');"
   ]
  },
  {
   "cell_type": "markdown",
   "id": "f38ec778",
   "metadata": {},
   "source": [
    "В среднем, поездка занимает 18 минут.\n",
    "\n",
    "Среди продолжительности поездки тоже есть аномально низкие. 95 поездок с продолжительностью полминуты при том, что расстояние таких поездок 4-5 км. Такие значения некорректны , где-то ошибка. Уберем эти значения, чтобы не получить искажения при подсчете выручки."
   ]
  },
  {
   "cell_type": "code",
   "execution_count": 44,
   "id": "79a86ec9",
   "metadata": {},
   "outputs": [],
   "source": [
    "riders_clean = riders.query('duration>0.5')"
   ]
  },
  {
   "cell_type": "code",
   "execution_count": 45,
   "id": "f2a3d473",
   "metadata": {},
   "outputs": [
    {
     "data": {
      "text/plain": [
       "0.994742085454948"
      ]
     },
     "execution_count": 45,
     "metadata": {},
     "output_type": "execute_result"
    }
   ],
   "source": [
    "#остаточная длина таблицы\n",
    "riders_clean.shape[0]/riders.shape[0]"
   ]
  },
  {
   "cell_type": "markdown",
   "id": "e7bc9c0a",
   "metadata": {},
   "source": [
    "#### 3.6 Вывод"
   ]
  },
  {
   "cell_type": "markdown",
   "id": "7ab5d9a5",
   "metadata": {},
   "source": [
    "В ходе исследовательского анализа увидели, что:\n",
    "- Пользователи распределены по городам довольно сбалансировано. Больше всего пользователей в Пятигорске, а меньше всего в Москве.\n",
    "- Пользователей без подписки несколько больше, но, в целом, группы сбалансированы.\n",
    "- Среди пользователей больше всего взрослый молодых людей в возрасте около 25 лет. Самым маленькие пользователи сервиса 12 лет, самым взрослым 43.\n",
    "- Чаще всего, за одну поездку пользователь проезжает 3000 км или немного больше. При этом есть записи об очень коротких по расстоянию поездках - менее 700 м. \n",
    "- В среднем, поездка занимает 18 минут. Есть записи, где поездка заняла меньше половины минуты, а преодоленное расстояние составидо 4-5 км. Удалили записи с этой аномалией. "
   ]
  },
  {
   "cell_type": "markdown",
   "id": "e8b1c739",
   "metadata": {},
   "source": [
    "### 4. Объединение данных"
   ]
  },
  {
   "cell_type": "markdown",
   "id": "b1c136f4",
   "metadata": {},
   "source": [
    "#### 4.1 Объединение\n",
    "\n",
    "Объединим данные о пользователях, поездках и подписках в один датафрейм. "
   ]
  },
  {
   "cell_type": "code",
   "execution_count": 46,
   "id": "3e289ca4",
   "metadata": {},
   "outputs": [],
   "source": [
    "all_data = riders_clean.merge(users, how='outer', on='user_id').merge(subscriptions,how='outer', on='subscription_type')"
   ]
  },
  {
   "cell_type": "code",
   "execution_count": 47,
   "id": "a521954f",
   "metadata": {
    "scrolled": true
   },
   "outputs": [
    {
     "data": {
      "text/html": [
       "<div>\n",
       "<style scoped>\n",
       "    .dataframe tbody tr th:only-of-type {\n",
       "        vertical-align: middle;\n",
       "    }\n",
       "\n",
       "    .dataframe tbody tr th {\n",
       "        vertical-align: top;\n",
       "    }\n",
       "\n",
       "    .dataframe thead th {\n",
       "        text-align: right;\n",
       "    }\n",
       "</style>\n",
       "<table border=\"1\" class=\"dataframe\">\n",
       "  <thead>\n",
       "    <tr style=\"text-align: right;\">\n",
       "      <th></th>\n",
       "      <th>user_id</th>\n",
       "      <th>distance</th>\n",
       "      <th>duration</th>\n",
       "      <th>date</th>\n",
       "      <th>month</th>\n",
       "      <th>name</th>\n",
       "      <th>age</th>\n",
       "      <th>city</th>\n",
       "      <th>subscription_type</th>\n",
       "      <th>minute_price</th>\n",
       "      <th>start_ride_price</th>\n",
       "      <th>subscription_fee</th>\n",
       "    </tr>\n",
       "  </thead>\n",
       "  <tbody>\n",
       "    <tr>\n",
       "      <th>0</th>\n",
       "      <td>1</td>\n",
       "      <td>4409.919140</td>\n",
       "      <td>25.599769</td>\n",
       "      <td>2021-01-01</td>\n",
       "      <td>1</td>\n",
       "      <td>Кира</td>\n",
       "      <td>22</td>\n",
       "      <td>Тюмень</td>\n",
       "      <td>ultra</td>\n",
       "      <td>6</td>\n",
       "      <td>0</td>\n",
       "      <td>199</td>\n",
       "    </tr>\n",
       "    <tr>\n",
       "      <th>1</th>\n",
       "      <td>1</td>\n",
       "      <td>2617.592153</td>\n",
       "      <td>15.816871</td>\n",
       "      <td>2021-01-18</td>\n",
       "      <td>1</td>\n",
       "      <td>Кира</td>\n",
       "      <td>22</td>\n",
       "      <td>Тюмень</td>\n",
       "      <td>ultra</td>\n",
       "      <td>6</td>\n",
       "      <td>0</td>\n",
       "      <td>199</td>\n",
       "    </tr>\n",
       "    <tr>\n",
       "      <th>2</th>\n",
       "      <td>1</td>\n",
       "      <td>754.159807</td>\n",
       "      <td>6.232113</td>\n",
       "      <td>2021-04-20</td>\n",
       "      <td>4</td>\n",
       "      <td>Кира</td>\n",
       "      <td>22</td>\n",
       "      <td>Тюмень</td>\n",
       "      <td>ultra</td>\n",
       "      <td>6</td>\n",
       "      <td>0</td>\n",
       "      <td>199</td>\n",
       "    </tr>\n",
       "    <tr>\n",
       "      <th>3</th>\n",
       "      <td>1</td>\n",
       "      <td>2694.783254</td>\n",
       "      <td>18.511000</td>\n",
       "      <td>2021-08-11</td>\n",
       "      <td>8</td>\n",
       "      <td>Кира</td>\n",
       "      <td>22</td>\n",
       "      <td>Тюмень</td>\n",
       "      <td>ultra</td>\n",
       "      <td>6</td>\n",
       "      <td>0</td>\n",
       "      <td>199</td>\n",
       "    </tr>\n",
       "    <tr>\n",
       "      <th>4</th>\n",
       "      <td>1</td>\n",
       "      <td>4028.687306</td>\n",
       "      <td>26.265803</td>\n",
       "      <td>2021-08-28</td>\n",
       "      <td>8</td>\n",
       "      <td>Кира</td>\n",
       "      <td>22</td>\n",
       "      <td>Тюмень</td>\n",
       "      <td>ultra</td>\n",
       "      <td>6</td>\n",
       "      <td>0</td>\n",
       "      <td>199</td>\n",
       "    </tr>\n",
       "    <tr>\n",
       "      <th>...</th>\n",
       "      <td>...</td>\n",
       "      <td>...</td>\n",
       "      <td>...</td>\n",
       "      <td>...</td>\n",
       "      <td>...</td>\n",
       "      <td>...</td>\n",
       "      <td>...</td>\n",
       "      <td>...</td>\n",
       "      <td>...</td>\n",
       "      <td>...</td>\n",
       "      <td>...</td>\n",
       "      <td>...</td>\n",
       "    </tr>\n",
       "    <tr>\n",
       "      <th>17968</th>\n",
       "      <td>1534</td>\n",
       "      <td>3781.098080</td>\n",
       "      <td>19.822962</td>\n",
       "      <td>2021-11-04</td>\n",
       "      <td>11</td>\n",
       "      <td>Альберт</td>\n",
       "      <td>25</td>\n",
       "      <td>Краснодар</td>\n",
       "      <td>free</td>\n",
       "      <td>8</td>\n",
       "      <td>50</td>\n",
       "      <td>0</td>\n",
       "    </tr>\n",
       "    <tr>\n",
       "      <th>17969</th>\n",
       "      <td>1534</td>\n",
       "      <td>2840.423057</td>\n",
       "      <td>21.409799</td>\n",
       "      <td>2021-11-16</td>\n",
       "      <td>11</td>\n",
       "      <td>Альберт</td>\n",
       "      <td>25</td>\n",
       "      <td>Краснодар</td>\n",
       "      <td>free</td>\n",
       "      <td>8</td>\n",
       "      <td>50</td>\n",
       "      <td>0</td>\n",
       "    </tr>\n",
       "    <tr>\n",
       "      <th>17970</th>\n",
       "      <td>1534</td>\n",
       "      <td>3826.185507</td>\n",
       "      <td>18.435051</td>\n",
       "      <td>2021-11-18</td>\n",
       "      <td>11</td>\n",
       "      <td>Альберт</td>\n",
       "      <td>25</td>\n",
       "      <td>Краснодар</td>\n",
       "      <td>free</td>\n",
       "      <td>8</td>\n",
       "      <td>50</td>\n",
       "      <td>0</td>\n",
       "    </tr>\n",
       "    <tr>\n",
       "      <th>17971</th>\n",
       "      <td>1534</td>\n",
       "      <td>2902.308661</td>\n",
       "      <td>16.674362</td>\n",
       "      <td>2021-11-27</td>\n",
       "      <td>11</td>\n",
       "      <td>Альберт</td>\n",
       "      <td>25</td>\n",
       "      <td>Краснодар</td>\n",
       "      <td>free</td>\n",
       "      <td>8</td>\n",
       "      <td>50</td>\n",
       "      <td>0</td>\n",
       "    </tr>\n",
       "    <tr>\n",
       "      <th>17972</th>\n",
       "      <td>1534</td>\n",
       "      <td>2371.711192</td>\n",
       "      <td>15.893917</td>\n",
       "      <td>2021-12-29</td>\n",
       "      <td>12</td>\n",
       "      <td>Альберт</td>\n",
       "      <td>25</td>\n",
       "      <td>Краснодар</td>\n",
       "      <td>free</td>\n",
       "      <td>8</td>\n",
       "      <td>50</td>\n",
       "      <td>0</td>\n",
       "    </tr>\n",
       "  </tbody>\n",
       "</table>\n",
       "<p>17973 rows × 12 columns</p>\n",
       "</div>"
      ],
      "text/plain": [
       "       user_id     distance   duration       date  month     name  age  \\\n",
       "0            1  4409.919140  25.599769 2021-01-01      1     Кира   22   \n",
       "1            1  2617.592153  15.816871 2021-01-18      1     Кира   22   \n",
       "2            1   754.159807   6.232113 2021-04-20      4     Кира   22   \n",
       "3            1  2694.783254  18.511000 2021-08-11      8     Кира   22   \n",
       "4            1  4028.687306  26.265803 2021-08-28      8     Кира   22   \n",
       "...        ...          ...        ...        ...    ...      ...  ...   \n",
       "17968     1534  3781.098080  19.822962 2021-11-04     11  Альберт   25   \n",
       "17969     1534  2840.423057  21.409799 2021-11-16     11  Альберт   25   \n",
       "17970     1534  3826.185507  18.435051 2021-11-18     11  Альберт   25   \n",
       "17971     1534  2902.308661  16.674362 2021-11-27     11  Альберт   25   \n",
       "17972     1534  2371.711192  15.893917 2021-12-29     12  Альберт   25   \n",
       "\n",
       "            city subscription_type  minute_price  start_ride_price  \\\n",
       "0         Тюмень             ultra             6                 0   \n",
       "1         Тюмень             ultra             6                 0   \n",
       "2         Тюмень             ultra             6                 0   \n",
       "3         Тюмень             ultra             6                 0   \n",
       "4         Тюмень             ultra             6                 0   \n",
       "...          ...               ...           ...               ...   \n",
       "17968  Краснодар              free             8                50   \n",
       "17969  Краснодар              free             8                50   \n",
       "17970  Краснодар              free             8                50   \n",
       "17971  Краснодар              free             8                50   \n",
       "17972  Краснодар              free             8                50   \n",
       "\n",
       "       subscription_fee  \n",
       "0                   199  \n",
       "1                   199  \n",
       "2                   199  \n",
       "3                   199  \n",
       "4                   199  \n",
       "...                 ...  \n",
       "17968                 0  \n",
       "17969                 0  \n",
       "17970                 0  \n",
       "17971                 0  \n",
       "17972                 0  \n",
       "\n",
       "[17973 rows x 12 columns]"
      ]
     },
     "execution_count": 47,
     "metadata": {},
     "output_type": "execute_result"
    }
   ],
   "source": [
    "all_data"
   ]
  },
  {
   "cell_type": "code",
   "execution_count": 48,
   "id": "d5134e8e",
   "metadata": {
    "scrolled": true
   },
   "outputs": [
    {
     "name": "stdout",
     "output_type": "stream",
     "text": [
      "<class 'pandas.core.frame.DataFrame'>\n",
      "Int64Index: 17973 entries, 0 to 18067\n",
      "Data columns (total 5 columns):\n",
      " #   Column    Non-Null Count  Dtype         \n",
      "---  ------    --------------  -----         \n",
      " 0   user_id   17973 non-null  int64         \n",
      " 1   distance  17973 non-null  float64       \n",
      " 2   duration  17973 non-null  float64       \n",
      " 3   date      17973 non-null  datetime64[ns]\n",
      " 4   month     17973 non-null  int64         \n",
      "dtypes: datetime64[ns](1), float64(2), int64(2)\n",
      "memory usage: 842.5 KB\n"
     ]
    }
   ],
   "source": [
    "riders_clean.info()"
   ]
  },
  {
   "cell_type": "markdown",
   "id": "1bb94968",
   "metadata": {},
   "source": [
    "Количество строк - 17973 -  в новой таблице `all_data`  равно исходной таблице `riders_clean`. Значит мы ничего не потеряли, все хорошо."
   ]
  },
  {
   "cell_type": "markdown",
   "id": "bb1c4bf6",
   "metadata": {},
   "source": [
    "#### 4.2 Две новые таблицы по типу подписки"
   ]
  },
  {
   "cell_type": "code",
   "execution_count": 49,
   "id": "2bdf915a",
   "metadata": {},
   "outputs": [
    {
     "data": {
      "text/html": [
       "<div>\n",
       "<style scoped>\n",
       "    .dataframe tbody tr th:only-of-type {\n",
       "        vertical-align: middle;\n",
       "    }\n",
       "\n",
       "    .dataframe tbody tr th {\n",
       "        vertical-align: top;\n",
       "    }\n",
       "\n",
       "    .dataframe thead th {\n",
       "        text-align: right;\n",
       "    }\n",
       "</style>\n",
       "<table border=\"1\" class=\"dataframe\">\n",
       "  <thead>\n",
       "    <tr style=\"text-align: right;\">\n",
       "      <th></th>\n",
       "      <th>user_id</th>\n",
       "      <th>distance</th>\n",
       "      <th>duration</th>\n",
       "      <th>date</th>\n",
       "      <th>month</th>\n",
       "      <th>name</th>\n",
       "      <th>age</th>\n",
       "      <th>city</th>\n",
       "      <th>subscription_type</th>\n",
       "      <th>minute_price</th>\n",
       "      <th>start_ride_price</th>\n",
       "      <th>subscription_fee</th>\n",
       "    </tr>\n",
       "  </thead>\n",
       "  <tbody>\n",
       "    <tr>\n",
       "      <th>0</th>\n",
       "      <td>700</td>\n",
       "      <td>2515.690719</td>\n",
       "      <td>14.944286</td>\n",
       "      <td>2021-01-02</td>\n",
       "      <td>1</td>\n",
       "      <td>Айдар</td>\n",
       "      <td>22</td>\n",
       "      <td>Омск</td>\n",
       "      <td>free</td>\n",
       "      <td>8</td>\n",
       "      <td>50</td>\n",
       "      <td>0</td>\n",
       "    </tr>\n",
       "    <tr>\n",
       "      <th>1</th>\n",
       "      <td>700</td>\n",
       "      <td>846.932642</td>\n",
       "      <td>16.234663</td>\n",
       "      <td>2021-02-01</td>\n",
       "      <td>2</td>\n",
       "      <td>Айдар</td>\n",
       "      <td>22</td>\n",
       "      <td>Омск</td>\n",
       "      <td>free</td>\n",
       "      <td>8</td>\n",
       "      <td>50</td>\n",
       "      <td>0</td>\n",
       "    </tr>\n",
       "    <tr>\n",
       "      <th>2</th>\n",
       "      <td>700</td>\n",
       "      <td>4004.434142</td>\n",
       "      <td>20.016628</td>\n",
       "      <td>2021-02-04</td>\n",
       "      <td>2</td>\n",
       "      <td>Айдар</td>\n",
       "      <td>22</td>\n",
       "      <td>Омск</td>\n",
       "      <td>free</td>\n",
       "      <td>8</td>\n",
       "      <td>50</td>\n",
       "      <td>0</td>\n",
       "    </tr>\n",
       "    <tr>\n",
       "      <th>3</th>\n",
       "      <td>700</td>\n",
       "      <td>1205.911290</td>\n",
       "      <td>9.782872</td>\n",
       "      <td>2021-02-10</td>\n",
       "      <td>2</td>\n",
       "      <td>Айдар</td>\n",
       "      <td>22</td>\n",
       "      <td>Омск</td>\n",
       "      <td>free</td>\n",
       "      <td>8</td>\n",
       "      <td>50</td>\n",
       "      <td>0</td>\n",
       "    </tr>\n",
       "    <tr>\n",
       "      <th>4</th>\n",
       "      <td>700</td>\n",
       "      <td>3047.379435</td>\n",
       "      <td>17.427673</td>\n",
       "      <td>2021-02-14</td>\n",
       "      <td>2</td>\n",
       "      <td>Айдар</td>\n",
       "      <td>22</td>\n",
       "      <td>Омск</td>\n",
       "      <td>free</td>\n",
       "      <td>8</td>\n",
       "      <td>50</td>\n",
       "      <td>0</td>\n",
       "    </tr>\n",
       "  </tbody>\n",
       "</table>\n",
       "</div>"
      ],
      "text/plain": [
       "   user_id     distance   duration       date  month   name  age  city  \\\n",
       "0      700  2515.690719  14.944286 2021-01-02      1  Айдар   22  Омск   \n",
       "1      700   846.932642  16.234663 2021-02-01      2  Айдар   22  Омск   \n",
       "2      700  4004.434142  20.016628 2021-02-04      2  Айдар   22  Омск   \n",
       "3      700  1205.911290   9.782872 2021-02-10      2  Айдар   22  Омск   \n",
       "4      700  3047.379435  17.427673 2021-02-14      2  Айдар   22  Омск   \n",
       "\n",
       "  subscription_type  minute_price  start_ride_price  subscription_fee  \n",
       "0              free             8                50                 0  \n",
       "1              free             8                50                 0  \n",
       "2              free             8                50                 0  \n",
       "3              free             8                50                 0  \n",
       "4              free             8                50                 0  "
      ]
     },
     "execution_count": 49,
     "metadata": {},
     "output_type": "execute_result"
    }
   ],
   "source": [
    "data_free = all_data.query('subscription_type==\"free\"').reset_index(drop=True)\n",
    "data_free.head()"
   ]
  },
  {
   "cell_type": "code",
   "execution_count": 50,
   "id": "bb742307",
   "metadata": {},
   "outputs": [
    {
     "data": {
      "text/html": [
       "<div>\n",
       "<style scoped>\n",
       "    .dataframe tbody tr th:only-of-type {\n",
       "        vertical-align: middle;\n",
       "    }\n",
       "\n",
       "    .dataframe tbody tr th {\n",
       "        vertical-align: top;\n",
       "    }\n",
       "\n",
       "    .dataframe thead th {\n",
       "        text-align: right;\n",
       "    }\n",
       "</style>\n",
       "<table border=\"1\" class=\"dataframe\">\n",
       "  <thead>\n",
       "    <tr style=\"text-align: right;\">\n",
       "      <th></th>\n",
       "      <th>user_id</th>\n",
       "      <th>distance</th>\n",
       "      <th>duration</th>\n",
       "      <th>date</th>\n",
       "      <th>month</th>\n",
       "      <th>name</th>\n",
       "      <th>age</th>\n",
       "      <th>city</th>\n",
       "      <th>subscription_type</th>\n",
       "      <th>minute_price</th>\n",
       "      <th>start_ride_price</th>\n",
       "      <th>subscription_fee</th>\n",
       "    </tr>\n",
       "  </thead>\n",
       "  <tbody>\n",
       "    <tr>\n",
       "      <th>0</th>\n",
       "      <td>1</td>\n",
       "      <td>4409.919140</td>\n",
       "      <td>25.599769</td>\n",
       "      <td>2021-01-01</td>\n",
       "      <td>1</td>\n",
       "      <td>Кира</td>\n",
       "      <td>22</td>\n",
       "      <td>Тюмень</td>\n",
       "      <td>ultra</td>\n",
       "      <td>6</td>\n",
       "      <td>0</td>\n",
       "      <td>199</td>\n",
       "    </tr>\n",
       "    <tr>\n",
       "      <th>1</th>\n",
       "      <td>1</td>\n",
       "      <td>2617.592153</td>\n",
       "      <td>15.816871</td>\n",
       "      <td>2021-01-18</td>\n",
       "      <td>1</td>\n",
       "      <td>Кира</td>\n",
       "      <td>22</td>\n",
       "      <td>Тюмень</td>\n",
       "      <td>ultra</td>\n",
       "      <td>6</td>\n",
       "      <td>0</td>\n",
       "      <td>199</td>\n",
       "    </tr>\n",
       "    <tr>\n",
       "      <th>2</th>\n",
       "      <td>1</td>\n",
       "      <td>754.159807</td>\n",
       "      <td>6.232113</td>\n",
       "      <td>2021-04-20</td>\n",
       "      <td>4</td>\n",
       "      <td>Кира</td>\n",
       "      <td>22</td>\n",
       "      <td>Тюмень</td>\n",
       "      <td>ultra</td>\n",
       "      <td>6</td>\n",
       "      <td>0</td>\n",
       "      <td>199</td>\n",
       "    </tr>\n",
       "    <tr>\n",
       "      <th>3</th>\n",
       "      <td>1</td>\n",
       "      <td>2694.783254</td>\n",
       "      <td>18.511000</td>\n",
       "      <td>2021-08-11</td>\n",
       "      <td>8</td>\n",
       "      <td>Кира</td>\n",
       "      <td>22</td>\n",
       "      <td>Тюмень</td>\n",
       "      <td>ultra</td>\n",
       "      <td>6</td>\n",
       "      <td>0</td>\n",
       "      <td>199</td>\n",
       "    </tr>\n",
       "    <tr>\n",
       "      <th>4</th>\n",
       "      <td>1</td>\n",
       "      <td>4028.687306</td>\n",
       "      <td>26.265803</td>\n",
       "      <td>2021-08-28</td>\n",
       "      <td>8</td>\n",
       "      <td>Кира</td>\n",
       "      <td>22</td>\n",
       "      <td>Тюмень</td>\n",
       "      <td>ultra</td>\n",
       "      <td>6</td>\n",
       "      <td>0</td>\n",
       "      <td>199</td>\n",
       "    </tr>\n",
       "  </tbody>\n",
       "</table>\n",
       "</div>"
      ],
      "text/plain": [
       "   user_id     distance   duration       date  month  name  age    city  \\\n",
       "0        1  4409.919140  25.599769 2021-01-01      1  Кира   22  Тюмень   \n",
       "1        1  2617.592153  15.816871 2021-01-18      1  Кира   22  Тюмень   \n",
       "2        1   754.159807   6.232113 2021-04-20      4  Кира   22  Тюмень   \n",
       "3        1  2694.783254  18.511000 2021-08-11      8  Кира   22  Тюмень   \n",
       "4        1  4028.687306  26.265803 2021-08-28      8  Кира   22  Тюмень   \n",
       "\n",
       "  subscription_type  minute_price  start_ride_price  subscription_fee  \n",
       "0             ultra             6                 0               199  \n",
       "1             ultra             6                 0               199  \n",
       "2             ultra             6                 0               199  \n",
       "3             ultra             6                 0               199  \n",
       "4             ultra             6                 0               199  "
      ]
     },
     "execution_count": 50,
     "metadata": {},
     "output_type": "execute_result"
    }
   ],
   "source": [
    "data_ultra = all_data.query('subscription_type==\"ultra\"').reset_index(drop=True)\n",
    "data_ultra.head()"
   ]
  },
  {
   "cell_type": "markdown",
   "id": "94875dfb",
   "metadata": {},
   "source": [
    "#### 4.3 Расстояние и время поездок для пользователей двух категорий"
   ]
  },
  {
   "cell_type": "markdown",
   "id": "34003194",
   "metadata": {},
   "source": [
    "Длительность поездок для двух групп:"
   ]
  },
  {
   "cell_type": "code",
   "execution_count": 51,
   "id": "c38a157b",
   "metadata": {},
   "outputs": [
    {
     "data": {
      "image/png": "[encoded data removed]",
      "text/plain": [
       "<Figure size 432x288 with 1 Axes>"
      ]
     },
     "metadata": {
      "needs_background": "light"
     },
     "output_type": "display_data"
    }
   ],
   "source": [
    "sns.histplot(all_data, x = 'duration', hue = 'subscription_type')\n",
    "plt.xlabel('длительность, мин')\n",
    "plt.ylabel('количество поездок')\n",
    "plt.title('Распределение длительности поездок с подпиской и без');"
   ]
  },
  {
   "cell_type": "markdown",
   "id": "7903fd9e",
   "metadata": {},
   "source": [
    "Графики похожи между собой и похожи на нормальное распределение признака."
   ]
  },
  {
   "cell_type": "markdown",
   "id": "35b1c3f1",
   "metadata": {},
   "source": [
    "Расстояние поездок для двух групп:"
   ]
  },
  {
   "cell_type": "code",
   "execution_count": 52,
   "id": "b774ac6e",
   "metadata": {
    "scrolled": true
   },
   "outputs": [
    {
     "data": {
      "image/png": "[encoded data removed]",
      "text/plain": [
       "<Figure size 432x288 with 1 Axes>"
      ]
     },
     "metadata": {
      "needs_background": "light"
     },
     "output_type": "display_data"
    }
   ],
   "source": [
    "sns.histplot(all_data, x = 'distance', hue = 'subscription_type')\n",
    "plt.xlabel('расстояние, м')\n",
    "plt.ylabel('количество поездок')\n",
    "plt.title('Распределение расстояния поездок с подпиской и без');"
   ]
  },
  {
   "cell_type": "markdown",
   "id": "41c7a458",
   "metadata": {},
   "source": [
    "Гистограмма по поездках с подпиской имеет более узкий пик - меньший разброс по расстоянию поездок. Для поездок без подписки пик шире. \n",
    "\n",
    "На обоих графиках присутствует пик на расстоянии до 1000 м. В случае отсутствия подписки,он выше и сильнее смещен в сторону коротких поездок. Пользователи без подписки чаще совершают довольно короткие поездки."
   ]
  },
  {
   "cell_type": "markdown",
   "id": "6f1f787d",
   "metadata": {},
   "source": [
    "#### 4.4 Вывод\n",
    "\n",
    "- Таблицы riders, users, subscriptions объединили в один датасет all_data.\n",
    "\n",
    "- Затем датасет all_data разделили на два новый по типу подписки - с инфо о поездках и пользователях без подписки data_free и с подпиской data_ultra.\n",
    "\n",
    "- Еще раз посмотрели на распределения времени поездки и расстояния , но теперь по группам - с подпиской и без. Распределение длительности очень похожи для поездок с подпиской и без. Расстояние распределено в двух группах немного по-разному - без подписки больше разброс значений и больше очень коротких поездок."
   ]
  },
  {
   "cell_type": "markdown",
   "id": "0cec15ca",
   "metadata": {},
   "source": [
    "### 5. Подсчет выручки"
   ]
  },
  {
   "cell_type": "markdown",
   "id": "a536a537",
   "metadata": {},
   "source": [
    "Сделаем сводную таблицу на основе объединенной таблицы all_data - найдем количество поездок, общее расстояние и длительность поездок за каждый месяц у каждого пользователя. "
   ]
  },
  {
   "cell_type": "markdown",
   "id": "30c680f4",
   "metadata": {},
   "source": [
    "Округлим длительность поездок в all_data до следующего целого числа."
   ]
  },
  {
   "cell_type": "code",
   "execution_count": 53,
   "id": "664f24da",
   "metadata": {
    "scrolled": true
   },
   "outputs": [
    {
     "data": {
      "text/plain": [
       "0        26.0\n",
       "1        16.0\n",
       "2         7.0\n",
       "3        19.0\n",
       "4        27.0\n",
       "         ... \n",
       "17968    20.0\n",
       "17969    22.0\n",
       "17970    19.0\n",
       "17971    17.0\n",
       "17972    16.0\n",
       "Name: duration, Length: 17973, dtype: float64"
      ]
     },
     "execution_count": 53,
     "metadata": {},
     "output_type": "execute_result"
    }
   ],
   "source": [
    "all_data['duration'] = np.ceil(all_data['duration'])\n",
    "all_data['duration']"
   ]
  },
  {
   "cell_type": "code",
   "execution_count": 54,
   "id": "412d4da8",
   "metadata": {},
   "outputs": [
    {
     "data": {
      "text/html": [
       "<div>\n",
       "<style scoped>\n",
       "    .dataframe tbody tr th:only-of-type {\n",
       "        vertical-align: middle;\n",
       "    }\n",
       "\n",
       "    .dataframe tbody tr th {\n",
       "        vertical-align: top;\n",
       "    }\n",
       "\n",
       "    .dataframe thead th {\n",
       "        text-align: right;\n",
       "    }\n",
       "</style>\n",
       "<table border=\"1\" class=\"dataframe\">\n",
       "  <thead>\n",
       "    <tr style=\"text-align: right;\">\n",
       "      <th></th>\n",
       "      <th></th>\n",
       "      <th>count</th>\n",
       "      <th>distance_sum</th>\n",
       "      <th>duration_sum</th>\n",
       "    </tr>\n",
       "    <tr>\n",
       "      <th>user_id</th>\n",
       "      <th>month</th>\n",
       "      <th></th>\n",
       "      <th></th>\n",
       "      <th></th>\n",
       "    </tr>\n",
       "  </thead>\n",
       "  <tbody>\n",
       "    <tr>\n",
       "      <th rowspan=\"5\" valign=\"top\">1</th>\n",
       "      <th>1</th>\n",
       "      <td>2</td>\n",
       "      <td>7027.511294</td>\n",
       "      <td>42.0</td>\n",
       "    </tr>\n",
       "    <tr>\n",
       "      <th>4</th>\n",
       "      <td>1</td>\n",
       "      <td>754.159807</td>\n",
       "      <td>7.0</td>\n",
       "    </tr>\n",
       "    <tr>\n",
       "      <th>8</th>\n",
       "      <td>2</td>\n",
       "      <td>6723.470560</td>\n",
       "      <td>46.0</td>\n",
       "    </tr>\n",
       "    <tr>\n",
       "      <th>10</th>\n",
       "      <td>2</td>\n",
       "      <td>5809.911100</td>\n",
       "      <td>32.0</td>\n",
       "    </tr>\n",
       "    <tr>\n",
       "      <th>11</th>\n",
       "      <td>3</td>\n",
       "      <td>7003.499363</td>\n",
       "      <td>56.0</td>\n",
       "    </tr>\n",
       "    <tr>\n",
       "      <th>...</th>\n",
       "      <th>...</th>\n",
       "      <td>...</td>\n",
       "      <td>...</td>\n",
       "      <td>...</td>\n",
       "    </tr>\n",
       "    <tr>\n",
       "      <th rowspan=\"5\" valign=\"top\">1534</th>\n",
       "      <th>6</th>\n",
       "      <td>2</td>\n",
       "      <td>3409.468534</td>\n",
       "      <td>26.0</td>\n",
       "    </tr>\n",
       "    <tr>\n",
       "      <th>8</th>\n",
       "      <td>2</td>\n",
       "      <td>7622.453034</td>\n",
       "      <td>48.0</td>\n",
       "    </tr>\n",
       "    <tr>\n",
       "      <th>9</th>\n",
       "      <td>1</td>\n",
       "      <td>4928.173852</td>\n",
       "      <td>23.0</td>\n",
       "    </tr>\n",
       "    <tr>\n",
       "      <th>11</th>\n",
       "      <td>4</td>\n",
       "      <td>13350.015305</td>\n",
       "      <td>78.0</td>\n",
       "    </tr>\n",
       "    <tr>\n",
       "      <th>12</th>\n",
       "      <td>1</td>\n",
       "      <td>2371.711192</td>\n",
       "      <td>16.0</td>\n",
       "    </tr>\n",
       "  </tbody>\n",
       "</table>\n",
       "<p>11300 rows × 3 columns</p>\n",
       "</div>"
      ],
      "text/plain": [
       "               count  distance_sum  duration_sum\n",
       "user_id month                                   \n",
       "1       1          2   7027.511294          42.0\n",
       "        4          1    754.159807           7.0\n",
       "        8          2   6723.470560          46.0\n",
       "        10         2   5809.911100          32.0\n",
       "        11         3   7003.499363          56.0\n",
       "...              ...           ...           ...\n",
       "1534    6          2   3409.468534          26.0\n",
       "        8          2   7622.453034          48.0\n",
       "        9          1   4928.173852          23.0\n",
       "        11         4  13350.015305          78.0\n",
       "        12         1   2371.711192          16.0\n",
       "\n",
       "[11300 rows x 3 columns]"
      ]
     },
     "execution_count": 54,
     "metadata": {},
     "output_type": "execute_result"
    }
   ],
   "source": [
    "data_agg = all_data.pivot_table(index=['user_id', 'month'],\n",
    "                     values = ['distance', 'duration'], \n",
    "                     aggfunc={'distance': ['count','sum'], 'duration':'sum'})\n",
    "data_agg.columns = ['count', 'distance_sum','duration_sum']\n",
    "data_agg"
   ]
  },
  {
   "cell_type": "code",
   "execution_count": 55,
   "id": "ba923cb4",
   "metadata": {},
   "outputs": [],
   "source": [
    "data_agg = data_agg.reset_index()"
   ]
  },
  {
   "cell_type": "markdown",
   "id": "48568d6a",
   "metadata": {},
   "source": [
    "Добавим данные о типе подписки и тарифах в data_agg:"
   ]
  },
  {
   "cell_type": "code",
   "execution_count": 56,
   "id": "d593be03",
   "metadata": {},
   "outputs": [],
   "source": [
    "#типы подписок\n",
    "for i in data_free['user_id'].unique():\n",
    "    data_agg.loc[data_agg['user_id']==i,'subscription_type'] = 'free'\n",
    "for i in data_ultra['user_id'].unique():\n",
    "    data_agg.loc[data_agg['user_id']==i,'subscription_type'] = 'ultra'"
   ]
  },
  {
   "cell_type": "code",
   "execution_count": 57,
   "id": "f48551d9-c7a7-4e06-a4db-9af656393a70",
   "metadata": {},
   "outputs": [
    {
     "data": {
      "text/html": [
       "<div>\n",
       "<style scoped>\n",
       "    .dataframe tbody tr th:only-of-type {\n",
       "        vertical-align: middle;\n",
       "    }\n",
       "\n",
       "    .dataframe tbody tr th {\n",
       "        vertical-align: top;\n",
       "    }\n",
       "\n",
       "    .dataframe thead th {\n",
       "        text-align: right;\n",
       "    }\n",
       "</style>\n",
       "<table border=\"1\" class=\"dataframe\">\n",
       "  <thead>\n",
       "    <tr style=\"text-align: right;\">\n",
       "      <th></th>\n",
       "      <th>user_id</th>\n",
       "      <th>month</th>\n",
       "      <th>count</th>\n",
       "      <th>distance_sum</th>\n",
       "      <th>duration_sum</th>\n",
       "      <th>subscription_type</th>\n",
       "      <th>minute_price</th>\n",
       "      <th>start_ride_price</th>\n",
       "      <th>subscription_fee</th>\n",
       "    </tr>\n",
       "  </thead>\n",
       "  <tbody>\n",
       "    <tr>\n",
       "      <th>0</th>\n",
       "      <td>1</td>\n",
       "      <td>1</td>\n",
       "      <td>2</td>\n",
       "      <td>7027.511294</td>\n",
       "      <td>42.0</td>\n",
       "      <td>ultra</td>\n",
       "      <td>6</td>\n",
       "      <td>0</td>\n",
       "      <td>199</td>\n",
       "    </tr>\n",
       "    <tr>\n",
       "      <th>1</th>\n",
       "      <td>1</td>\n",
       "      <td>4</td>\n",
       "      <td>1</td>\n",
       "      <td>754.159807</td>\n",
       "      <td>7.0</td>\n",
       "      <td>ultra</td>\n",
       "      <td>6</td>\n",
       "      <td>0</td>\n",
       "      <td>199</td>\n",
       "    </tr>\n",
       "    <tr>\n",
       "      <th>2</th>\n",
       "      <td>1</td>\n",
       "      <td>8</td>\n",
       "      <td>2</td>\n",
       "      <td>6723.470560</td>\n",
       "      <td>46.0</td>\n",
       "      <td>ultra</td>\n",
       "      <td>6</td>\n",
       "      <td>0</td>\n",
       "      <td>199</td>\n",
       "    </tr>\n",
       "    <tr>\n",
       "      <th>3</th>\n",
       "      <td>1</td>\n",
       "      <td>10</td>\n",
       "      <td>2</td>\n",
       "      <td>5809.911100</td>\n",
       "      <td>32.0</td>\n",
       "      <td>ultra</td>\n",
       "      <td>6</td>\n",
       "      <td>0</td>\n",
       "      <td>199</td>\n",
       "    </tr>\n",
       "    <tr>\n",
       "      <th>4</th>\n",
       "      <td>1</td>\n",
       "      <td>11</td>\n",
       "      <td>3</td>\n",
       "      <td>7003.499363</td>\n",
       "      <td>56.0</td>\n",
       "      <td>ultra</td>\n",
       "      <td>6</td>\n",
       "      <td>0</td>\n",
       "      <td>199</td>\n",
       "    </tr>\n",
       "    <tr>\n",
       "      <th>...</th>\n",
       "      <td>...</td>\n",
       "      <td>...</td>\n",
       "      <td>...</td>\n",
       "      <td>...</td>\n",
       "      <td>...</td>\n",
       "      <td>...</td>\n",
       "      <td>...</td>\n",
       "      <td>...</td>\n",
       "      <td>...</td>\n",
       "    </tr>\n",
       "    <tr>\n",
       "      <th>11295</th>\n",
       "      <td>1534</td>\n",
       "      <td>6</td>\n",
       "      <td>2</td>\n",
       "      <td>3409.468534</td>\n",
       "      <td>26.0</td>\n",
       "      <td>free</td>\n",
       "      <td>8</td>\n",
       "      <td>50</td>\n",
       "      <td>0</td>\n",
       "    </tr>\n",
       "    <tr>\n",
       "      <th>11296</th>\n",
       "      <td>1534</td>\n",
       "      <td>8</td>\n",
       "      <td>2</td>\n",
       "      <td>7622.453034</td>\n",
       "      <td>48.0</td>\n",
       "      <td>free</td>\n",
       "      <td>8</td>\n",
       "      <td>50</td>\n",
       "      <td>0</td>\n",
       "    </tr>\n",
       "    <tr>\n",
       "      <th>11297</th>\n",
       "      <td>1534</td>\n",
       "      <td>9</td>\n",
       "      <td>1</td>\n",
       "      <td>4928.173852</td>\n",
       "      <td>23.0</td>\n",
       "      <td>free</td>\n",
       "      <td>8</td>\n",
       "      <td>50</td>\n",
       "      <td>0</td>\n",
       "    </tr>\n",
       "    <tr>\n",
       "      <th>11298</th>\n",
       "      <td>1534</td>\n",
       "      <td>11</td>\n",
       "      <td>4</td>\n",
       "      <td>13350.015305</td>\n",
       "      <td>78.0</td>\n",
       "      <td>free</td>\n",
       "      <td>8</td>\n",
       "      <td>50</td>\n",
       "      <td>0</td>\n",
       "    </tr>\n",
       "    <tr>\n",
       "      <th>11299</th>\n",
       "      <td>1534</td>\n",
       "      <td>12</td>\n",
       "      <td>1</td>\n",
       "      <td>2371.711192</td>\n",
       "      <td>16.0</td>\n",
       "      <td>free</td>\n",
       "      <td>8</td>\n",
       "      <td>50</td>\n",
       "      <td>0</td>\n",
       "    </tr>\n",
       "  </tbody>\n",
       "</table>\n",
       "<p>11300 rows × 9 columns</p>\n",
       "</div>"
      ],
      "text/plain": [
       "       user_id  month  count  distance_sum  duration_sum subscription_type  \\\n",
       "0            1      1      2   7027.511294          42.0             ultra   \n",
       "1            1      4      1    754.159807           7.0             ultra   \n",
       "2            1      8      2   6723.470560          46.0             ultra   \n",
       "3            1     10      2   5809.911100          32.0             ultra   \n",
       "4            1     11      3   7003.499363          56.0             ultra   \n",
       "...        ...    ...    ...           ...           ...               ...   \n",
       "11295     1534      6      2   3409.468534          26.0              free   \n",
       "11296     1534      8      2   7622.453034          48.0              free   \n",
       "11297     1534      9      1   4928.173852          23.0              free   \n",
       "11298     1534     11      4  13350.015305          78.0              free   \n",
       "11299     1534     12      1   2371.711192          16.0              free   \n",
       "\n",
       "       minute_price  start_ride_price  subscription_fee  \n",
       "0                 6                 0               199  \n",
       "1                 6                 0               199  \n",
       "2                 6                 0               199  \n",
       "3                 6                 0               199  \n",
       "4                 6                 0               199  \n",
       "...             ...               ...               ...  \n",
       "11295             8                50                 0  \n",
       "11296             8                50                 0  \n",
       "11297             8                50                 0  \n",
       "11298             8                50                 0  \n",
       "11299             8                50                 0  \n",
       "\n",
       "[11300 rows x 9 columns]"
      ]
     },
     "execution_count": 57,
     "metadata": {},
     "output_type": "execute_result"
    }
   ],
   "source": [
    "data_agg = data_agg.merge(subscriptions, how = 'outer', on = 'subscription_type', )\n",
    "data_agg"
   ]
  },
  {
   "cell_type": "markdown",
   "id": "ebc4a652",
   "metadata": {},
   "source": [
    "Подсчитаем прибыль по каждому месяцу по каждому пользователю, добавим в сводную таблицу колонку `monthly_income` с этой прибылью.\n",
    "\n",
    "Прибыль рассчитаем как *(общая длительность, мин) * (стоимость минуты) + (количество поездок) * (стоимость старта) + стоимость подписки*"
   ]
  },
  {
   "cell_type": "code",
   "execution_count": 58,
   "id": "4683d6a5",
   "metadata": {},
   "outputs": [],
   "source": [
    "data_agg['monthly_income'] = data_agg['duration_sum']*data_agg['minute_price']+data_agg['count']*data_agg['start_ride_price'] + data_agg['subscription_fee']"
   ]
  },
  {
   "cell_type": "code",
   "execution_count": 59,
   "id": "fc979c85",
   "metadata": {},
   "outputs": [
    {
     "data": {
      "text/html": [
       "<div>\n",
       "<style scoped>\n",
       "    .dataframe tbody tr th:only-of-type {\n",
       "        vertical-align: middle;\n",
       "    }\n",
       "\n",
       "    .dataframe tbody tr th {\n",
       "        vertical-align: top;\n",
       "    }\n",
       "\n",
       "    .dataframe thead th {\n",
       "        text-align: right;\n",
       "    }\n",
       "</style>\n",
       "<table border=\"1\" class=\"dataframe\">\n",
       "  <thead>\n",
       "    <tr style=\"text-align: right;\">\n",
       "      <th></th>\n",
       "      <th>user_id</th>\n",
       "      <th>month</th>\n",
       "      <th>count</th>\n",
       "      <th>distance_sum</th>\n",
       "      <th>duration_sum</th>\n",
       "      <th>subscription_type</th>\n",
       "      <th>minute_price</th>\n",
       "      <th>start_ride_price</th>\n",
       "      <th>subscription_fee</th>\n",
       "      <th>monthly_income</th>\n",
       "    </tr>\n",
       "  </thead>\n",
       "  <tbody>\n",
       "    <tr>\n",
       "      <th>0</th>\n",
       "      <td>1</td>\n",
       "      <td>1</td>\n",
       "      <td>2</td>\n",
       "      <td>7027.511294</td>\n",
       "      <td>42.0</td>\n",
       "      <td>ultra</td>\n",
       "      <td>6</td>\n",
       "      <td>0</td>\n",
       "      <td>199</td>\n",
       "      <td>451.0</td>\n",
       "    </tr>\n",
       "    <tr>\n",
       "      <th>1</th>\n",
       "      <td>1</td>\n",
       "      <td>4</td>\n",
       "      <td>1</td>\n",
       "      <td>754.159807</td>\n",
       "      <td>7.0</td>\n",
       "      <td>ultra</td>\n",
       "      <td>6</td>\n",
       "      <td>0</td>\n",
       "      <td>199</td>\n",
       "      <td>241.0</td>\n",
       "    </tr>\n",
       "    <tr>\n",
       "      <th>2</th>\n",
       "      <td>1</td>\n",
       "      <td>8</td>\n",
       "      <td>2</td>\n",
       "      <td>6723.470560</td>\n",
       "      <td>46.0</td>\n",
       "      <td>ultra</td>\n",
       "      <td>6</td>\n",
       "      <td>0</td>\n",
       "      <td>199</td>\n",
       "      <td>475.0</td>\n",
       "    </tr>\n",
       "    <tr>\n",
       "      <th>3</th>\n",
       "      <td>1</td>\n",
       "      <td>10</td>\n",
       "      <td>2</td>\n",
       "      <td>5809.911100</td>\n",
       "      <td>32.0</td>\n",
       "      <td>ultra</td>\n",
       "      <td>6</td>\n",
       "      <td>0</td>\n",
       "      <td>199</td>\n",
       "      <td>391.0</td>\n",
       "    </tr>\n",
       "    <tr>\n",
       "      <th>4</th>\n",
       "      <td>1</td>\n",
       "      <td>11</td>\n",
       "      <td>3</td>\n",
       "      <td>7003.499363</td>\n",
       "      <td>56.0</td>\n",
       "      <td>ultra</td>\n",
       "      <td>6</td>\n",
       "      <td>0</td>\n",
       "      <td>199</td>\n",
       "      <td>535.0</td>\n",
       "    </tr>\n",
       "    <tr>\n",
       "      <th>...</th>\n",
       "      <td>...</td>\n",
       "      <td>...</td>\n",
       "      <td>...</td>\n",
       "      <td>...</td>\n",
       "      <td>...</td>\n",
       "      <td>...</td>\n",
       "      <td>...</td>\n",
       "      <td>...</td>\n",
       "      <td>...</td>\n",
       "      <td>...</td>\n",
       "    </tr>\n",
       "    <tr>\n",
       "      <th>11295</th>\n",
       "      <td>1534</td>\n",
       "      <td>6</td>\n",
       "      <td>2</td>\n",
       "      <td>3409.468534</td>\n",
       "      <td>26.0</td>\n",
       "      <td>free</td>\n",
       "      <td>8</td>\n",
       "      <td>50</td>\n",
       "      <td>0</td>\n",
       "      <td>308.0</td>\n",
       "    </tr>\n",
       "    <tr>\n",
       "      <th>11296</th>\n",
       "      <td>1534</td>\n",
       "      <td>8</td>\n",
       "      <td>2</td>\n",
       "      <td>7622.453034</td>\n",
       "      <td>48.0</td>\n",
       "      <td>free</td>\n",
       "      <td>8</td>\n",
       "      <td>50</td>\n",
       "      <td>0</td>\n",
       "      <td>484.0</td>\n",
       "    </tr>\n",
       "    <tr>\n",
       "      <th>11297</th>\n",
       "      <td>1534</td>\n",
       "      <td>9</td>\n",
       "      <td>1</td>\n",
       "      <td>4928.173852</td>\n",
       "      <td>23.0</td>\n",
       "      <td>free</td>\n",
       "      <td>8</td>\n",
       "      <td>50</td>\n",
       "      <td>0</td>\n",
       "      <td>234.0</td>\n",
       "    </tr>\n",
       "    <tr>\n",
       "      <th>11298</th>\n",
       "      <td>1534</td>\n",
       "      <td>11</td>\n",
       "      <td>4</td>\n",
       "      <td>13350.015305</td>\n",
       "      <td>78.0</td>\n",
       "      <td>free</td>\n",
       "      <td>8</td>\n",
       "      <td>50</td>\n",
       "      <td>0</td>\n",
       "      <td>824.0</td>\n",
       "    </tr>\n",
       "    <tr>\n",
       "      <th>11299</th>\n",
       "      <td>1534</td>\n",
       "      <td>12</td>\n",
       "      <td>1</td>\n",
       "      <td>2371.711192</td>\n",
       "      <td>16.0</td>\n",
       "      <td>free</td>\n",
       "      <td>8</td>\n",
       "      <td>50</td>\n",
       "      <td>0</td>\n",
       "      <td>178.0</td>\n",
       "    </tr>\n",
       "  </tbody>\n",
       "</table>\n",
       "<p>11300 rows × 10 columns</p>\n",
       "</div>"
      ],
      "text/plain": [
       "       user_id  month  count  distance_sum  duration_sum subscription_type  \\\n",
       "0            1      1      2   7027.511294          42.0             ultra   \n",
       "1            1      4      1    754.159807           7.0             ultra   \n",
       "2            1      8      2   6723.470560          46.0             ultra   \n",
       "3            1     10      2   5809.911100          32.0             ultra   \n",
       "4            1     11      3   7003.499363          56.0             ultra   \n",
       "...        ...    ...    ...           ...           ...               ...   \n",
       "11295     1534      6      2   3409.468534          26.0              free   \n",
       "11296     1534      8      2   7622.453034          48.0              free   \n",
       "11297     1534      9      1   4928.173852          23.0              free   \n",
       "11298     1534     11      4  13350.015305          78.0              free   \n",
       "11299     1534     12      1   2371.711192          16.0              free   \n",
       "\n",
       "       minute_price  start_ride_price  subscription_fee  monthly_income  \n",
       "0                 6                 0               199           451.0  \n",
       "1                 6                 0               199           241.0  \n",
       "2                 6                 0               199           475.0  \n",
       "3                 6                 0               199           391.0  \n",
       "4                 6                 0               199           535.0  \n",
       "...             ...               ...               ...             ...  \n",
       "11295             8                50                 0           308.0  \n",
       "11296             8                50                 0           484.0  \n",
       "11297             8                50                 0           234.0  \n",
       "11298             8                50                 0           824.0  \n",
       "11299             8                50                 0           178.0  \n",
       "\n",
       "[11300 rows x 10 columns]"
      ]
     },
     "execution_count": 59,
     "metadata": {},
     "output_type": "execute_result"
    }
   ],
   "source": [
    "data_agg"
   ]
  },
  {
   "cell_type": "markdown",
   "id": "5fcce452",
   "metadata": {},
   "source": [
    "### 6. Проверка гипотез"
   ]
  },
  {
   "cell_type": "markdown",
   "id": "05e158c4",
   "metadata": {},
   "source": [
    "#### 6.1 Тратят ли пользователи с подпиской больше времени на поездки? "
   ]
  },
  {
   "cell_type": "markdown",
   "id": "cbbb7d1f",
   "metadata": {},
   "source": [
    "В пункте 4.3 мы визуально оценили, что распределения длительности поездок с подпиской и без подписки похожи качественно и количественно."
   ]
  },
  {
   "cell_type": "code",
   "execution_count": 64,
   "id": "82621253",
   "metadata": {},
   "outputs": [
    {
     "data": {
      "text/plain": [
       "18.54198516280583"
      ]
     },
     "execution_count": 64,
     "metadata": {},
     "output_type": "execute_result"
    }
   ],
   "source": [
    "data_ultra['duration'].mean()"
   ]
  },
  {
   "cell_type": "code",
   "execution_count": 65,
   "id": "2dbde5b3",
   "metadata": {},
   "outputs": [
    {
     "data": {
      "text/plain": [
       "17.530771268800226"
      ]
     },
     "execution_count": 65,
     "metadata": {},
     "output_type": "execute_result"
    }
   ],
   "source": [
    "data_free['duration'].mean()"
   ]
  },
  {
   "cell_type": "markdown",
   "id": "d7ed9d34",
   "metadata": {},
   "source": [
    "Сравним длительности с помощью теста Стьюдента. Т.к. распределены они примерно одинаково и близко к нормальному распределению, дисперсии их тоже близки.\n",
    "\n",
    "Возьмем в качестве нулевой гипотезы утверждение, что средние двух наборов данных (ген.совокупностей) - с подпиской и без подписки -  равны. Альтернативная гипотеза - среднее набора данных с подпиской больше, чем без подписки."
   ]
  },
  {
   "cell_type": "code",
   "execution_count": 66,
   "id": "b7a3d077",
   "metadata": {},
   "outputs": [
    {
     "name": "stdout",
     "output_type": "stream",
     "text": [
      "p-значение: 4.704468074453899e-28\n",
      "Отвергаем нулевую гипотезу\n"
     ]
    }
   ],
   "source": [
    "alpha = 0.05 # уровень статистической значимости\n",
    "# если p-value окажется меньше него, отвергнем гипотезу\n",
    "\n",
    "results = st.ttest_ind(data_ultra['duration'], data_free['duration'], alternative='greater')\n",
    "\n",
    "print('p-значение:', results.pvalue)\n",
    "\n",
    "if results.pvalue < alpha:\n",
    "    print('Отвергаем нулевую гипотезу')\n",
    "else:\n",
    "    print('Не получилось отвергнуть нулевую гипотезу') "
   ]
  },
  {
   "cell_type": "markdown",
   "id": "fad3d874",
   "metadata": {},
   "source": [
    "##### 6.1.1 Вывод\n",
    "\n",
    "Действительно, несмотря на то, что средние значения близки, средняя длительность поездок пользователей с подпиской значимо больше, чем без подписки."
   ]
  },
  {
   "cell_type": "markdown",
   "id": "ccfaae5b",
   "metadata": {},
   "source": [
    "#### 6.2 Оптимальное расстояние поездки относительно износа самоката\n",
    "\n",
    "Расстояние одной поездки в 3130 метров — оптимальное с точки зрения износа самоката. Можно ли сказать, что среднее расстояние, которое проезжают пользователи с подпиской за одну поездку, не превышает 3130 метров?"
   ]
  },
  {
   "cell_type": "markdown",
   "id": "372ee898",
   "metadata": {},
   "source": [
    "Нулевая гипотеза: Средняя дистанция поездки пользователя с подпиской равна 3130 м.\n",
    "\n",
    "Альтернативная гипотеза: Средняя дистанция поездки пользователя с подпиской больше 3130 м."
   ]
  },
  {
   "cell_type": "code",
   "execution_count": 67,
   "id": "846b0272",
   "metadata": {},
   "outputs": [
    {
     "name": "stdout",
     "output_type": "stream",
     "text": [
      "p-значение: 0.9195368847849785\n",
      "Не получилось отвергнуть нулевую гипотезу\n"
     ]
    }
   ],
   "source": [
    "interested_value = 3130 # оптимальное расстояние с точки зрения износа самоката\n",
    "\n",
    "alpha = 0.05 # уровень статистической значимости\n",
    "\n",
    "results = st.ttest_1samp(\n",
    "    data_ultra['distance'], \n",
    "    interested_value, alternative = 'greater')\n",
    "\n",
    "print('p-значение:', results.pvalue )\n",
    "\n",
    "if results.pvalue < alpha:\n",
    "    print('Отвергаем нулевую гипотезу')\n",
    "else:\n",
    "    print('Не получилось отвергнуть нулевую гипотезу')"
   ]
  },
  {
   "cell_type": "markdown",
   "id": "ba276bc0",
   "metadata": {},
   "source": [
    "##### 6.2.1 Вывод\n",
    "\n",
    "Отвергнуть нулевую гипотезу не можем, значит можем подтвердить предположение, что среднее расcтояние поездки подписчика близко к 3130 м, статистически значимо от него не отличается."
   ]
  },
  {
   "cell_type": "markdown",
   "id": "b33e0b9b",
   "metadata": {},
   "source": [
    "#### 6.3 Разница помесячной выручки с подпиской и без"
   ]
  },
  {
   "cell_type": "code",
   "execution_count": 68,
   "id": "2bcfa58f",
   "metadata": {},
   "outputs": [
    {
     "data": {
      "image/png": "[encoded data removed]",
      "text/plain": [
       "<Figure size 720x576 with 1 Axes>"
      ]
     },
     "metadata": {
      "needs_background": "light"
     },
     "output_type": "display_data"
    }
   ],
   "source": [
    "plt.figure(figsize=(10, 8)) \n",
    "sns.countplot(x='month', data=all_data)\n",
    "plt.title('Количество пользователей в месяце')\n",
    "plt.xlabel('Номер месяца');\n"
   ]
  },
  {
   "cell_type": "markdown",
   "id": "a756e1c9",
   "metadata": {},
   "source": [
    "Количество поездок, в целом, примерно равномерно распрделено по году."
   ]
  },
  {
   "cell_type": "code",
   "execution_count": 69,
   "id": "2a0fd78b",
   "metadata": {},
   "outputs": [
    {
     "data": {
      "text/plain": [
       "362.7921906022502"
      ]
     },
     "execution_count": 69,
     "metadata": {},
     "output_type": "execute_result"
    }
   ],
   "source": [
    "data_agg[data_agg['user_id'].isin(data_ultra['user_id'])]['monthly_income'].mean()"
   ]
  },
  {
   "cell_type": "code",
   "execution_count": 70,
   "id": "e96151ca",
   "metadata": {},
   "outputs": [
    {
     "data": {
      "text/plain": [
       "329.3326437121324"
      ]
     },
     "execution_count": 70,
     "metadata": {},
     "output_type": "execute_result"
    }
   ],
   "source": [
    "data_agg[data_agg['user_id'].isin(data_free['user_id'])]['monthly_income'].mean()"
   ]
  },
  {
   "cell_type": "markdown",
   "id": "9bd3028d",
   "metadata": {},
   "source": [
    "В качестве нулевой гипотезы возьмем утверждение, что средние помесячные выручка по пользователю среди пользователей с подпиской и без нее равны. \n",
    "\n",
    "Альтернативная гипотеза - помесячная выручка от пользователей с подпиской выше, чем от тех, что без подписки."
   ]
  },
  {
   "cell_type": "code",
   "execution_count": 71,
   "id": "64465140",
   "metadata": {},
   "outputs": [
    {
     "name": "stdout",
     "output_type": "stream",
     "text": [
      "p-значение: 2.0314113674863288e-30\n",
      "Отвергаем нулевую гипотезу\n"
     ]
    }
   ],
   "source": [
    "alpha = 0.05 # уровень статистической значимости\n",
    "# если p-value окажется меньше него, отвергнем гипотезу\n",
    "\n",
    "results = st.ttest_ind(data_agg[data_agg['user_id'].isin(data_ultra['user_id'])]['monthly_income'],\n",
    "                       data_agg[data_agg['user_id'].isin(data_free['user_id'])]['monthly_income'], alternative='greater')\n",
    "\n",
    "print('p-значение:', results.pvalue)\n",
    "\n",
    "if results.pvalue < alpha:\n",
    "    print('Отвергаем нулевую гипотезу')\n",
    "else:\n",
    "    print('Не получилось отвергнуть нулевую гипотезу') "
   ]
  },
  {
   "cell_type": "markdown",
   "id": "63af5942",
   "metadata": {},
   "source": [
    "##### 6.3.1 Вывод\n",
    "\n",
    "Помесячная выручка от подписчиков значимо больше, чем выручка от пользователей без подписки. Подписчики активнее пользуются сервисом и соотвественно тратят на него больше."
   ]
  },
  {
   "cell_type": "markdown",
   "id": "73af4d12",
   "metadata": {},
   "source": [
    "#### 6.4 Количество обращений до и после обновления сервера\n",
    "\n",
    "Представьте такую ситуацию: техническая команда сервиса обновила сервера, с которыми взаимодействует мобильное приложение. Она надеется, что из-за этого количество обращений в техподдержку значимо снизилось. Некоторый файл содержит для каждого пользователя данные о количестве обращений до обновления и после него. Какой тест вам понадобился бы для проверки этой гипотезы?"
   ]
  },
  {
   "cell_type": "markdown",
   "id": "39a51167",
   "metadata": {},
   "source": [
    "**Ответ**\n",
    "\n",
    "В таком случае необходимо воспользоваться тестом Стьюдента для проверки равенства средних зависимых выборок (данные \"до  и после\").\n",
    "\n",
    "Метод в python : `st.ttest_rel(before, after)`"
   ]
  },
  {
   "cell_type": "markdown",
   "id": "e0840458",
   "metadata": {},
   "source": [
    "### 7. Распределения\n",
    "#### 7.1 Промокоды на подписку"
   ]
  },
  {
   "cell_type": "markdown",
   "id": "b7edb69d",
   "metadata": {},
   "source": [
    "Отделу маркетинга GoFast поставили задачу: нужно провести акцию с раздачей промокодов на один бесплатный месяц подписки, в рамках которой как минимум \n",
    "100 существующих клиентов должны продлить эту подписку. То есть по завершении периода действия подписки пользователь может либо отказаться от неё, либо продлить, совершив соответствующий платёж. \n",
    "Эта акция уже проводилась ранее и по итогу выяснилось, что после бесплатного пробного периода подписку продлевают \n",
    "10 % пользователей. Выясните, какое минимальное количество промокодов нужно разослать, чтобы вероятность не выполнить план была примерно \n",
    "5 %. Подберите параметры распределения, описывающего эту ситуацию, постройте график распределения и сформулируйте ответ на вопрос о количестве промокодов."
   ]
  },
  {
   "cell_type": "code",
   "execution_count": 72,
   "id": "bbea3c76",
   "metadata": {},
   "outputs": [
    {
     "data": {
      "image/png": "[encoded data removed]",
      "text/plain": [
       "<Figure size 432x288 with 1 Axes>"
      ]
     },
     "metadata": {
      "needs_background": "light"
     },
     "output_type": "display_data"
    },
    {
     "data": {
      "image/png": "[encoded data removed]",
      "text/plain": [
       "<Figure size 432x288 with 1 Axes>"
      ]
     },
     "metadata": {
      "needs_background": "light"
     },
     "output_type": "display_data"
    },
    {
     "data": {
      "image/png": "[encoded data removed]",
      "text/plain": [
       "<Figure size 432x288 with 1 Axes>"
      ]
     },
     "metadata": {
      "needs_background": "light"
     },
     "output_type": "display_data"
    },
    {
     "data": {
      "image/png": "[encoded data removed]",
      "text/plain": [
       "<Figure size 432x288 with 1 Axes>"
      ]
     },
     "metadata": {
      "needs_background": "light"
     },
     "output_type": "display_data"
    },
    {
     "data": {
      "image/png": "[encoded data removed]",
      "text/plain": [
       "<Figure size 432x288 with 1 Axes>"
      ]
     },
     "metadata": {
      "needs_background": "light"
     },
     "output_type": "display_data"
    },
    {
     "data": {
      "image/png": "[encoded data removed]",
      "text/plain": [
       "<Figure size 432x288 with 1 Axes>"
      ]
     },
     "metadata": {
      "needs_background": "light"
     },
     "output_type": "display_data"
    }
   ],
   "source": [
    "for n in [100, 500, 800,1000, 1500, 2000]: # количество попыток\n",
    "    p = 0.1 # вероятность успеха\n",
    "\n",
    "    distr = []\n",
    "\n",
    "    for k in range(0, n + 1):\n",
    "        current_value = binom.pmf(k, n, p)\n",
    "        distr.append(current_value)\n",
    "    \n",
    "    plt.bar(range(0, n+1), distr)\n",
    "    plt.xlim(right = 200)\n",
    "    plt.show()"
   ]
  },
  {
   "cell_type": "code",
   "execution_count": 73,
   "id": "bd355c5f",
   "metadata": {},
   "outputs": [
    {
     "name": "stdout",
     "output_type": "stream",
     "text": [
      "8.413074170946365e-06\n"
     ]
    }
   ],
   "source": [
    "# задаём параметры биномиального распределения\n",
    "n = 1500\n",
    "p = 0.1\n",
    "\n",
    "# зададим параметры нормального распределения равными\n",
    "# мат.ожиданию и дисперсии биномиального распределения\n",
    "mu = n * p\n",
    "sigma = sqrt(n * p * (1 - p))\n",
    "\n",
    "# задаём нормальное распределение \n",
    "distr = st.norm(mu, sigma) \n",
    "\n",
    "interested_value = 100\n",
    "\n",
    "# считаем вероятность получить значение меньше interested_value\n",
    "result = distr.cdf(interested_value)\n",
    "print(result)"
   ]
  },
  {
   "cell_type": "markdown",
   "id": "2ecb1b48",
   "metadata": {},
   "source": [
    "Вероятность не выполнить план при 1500 промокодов сильно меньше 5%.\n",
    "Возьмем чуть меньше промокодов - 1000."
   ]
  },
  {
   "cell_type": "code",
   "execution_count": 74,
   "id": "abcdc1b4",
   "metadata": {},
   "outputs": [
    {
     "name": "stdout",
     "output_type": "stream",
     "text": [
      "0.5\n"
     ]
    }
   ],
   "source": [
    "# задаём параметры биномиального распределения\n",
    "n = 1000\n",
    "p = 0.1\n",
    "\n",
    "# зададим параметры нормального распределения равными\n",
    "# мат.ожиданию и дисперсии биномиального распределения\n",
    "mu = n * p\n",
    "sigma = sqrt(n * p * (1 - p))\n",
    "\n",
    "# задаём нормальное распределение \n",
    "distr = st.norm(mu, sigma) \n",
    "\n",
    "interested_value = 100\n",
    "\n",
    "# считаем вероятность получить значение меньше interested_value\n",
    "result = distr.cdf(interested_value)\n",
    "print(result)"
   ]
  },
  {
   "cell_type": "markdown",
   "id": "188173d2",
   "metadata": {},
   "source": [
    "Вероятность не выполнить план при 1000 промокодов 50%. "
   ]
  },
  {
   "cell_type": "code",
   "execution_count": 75,
   "id": "ce51a259",
   "metadata": {},
   "outputs": [
    {
     "name": "stdout",
     "output_type": "stream",
     "text": [
      "0.04879359652776027\n"
     ]
    }
   ],
   "source": [
    "# задаём параметры биномиального распределения\n",
    "n = 1170\n",
    "p = 0.1\n",
    "\n",
    "mu = n * p\n",
    "sigma = sqrt(n * p * (1 - p))\n",
    " \n",
    "distr = st.norm(mu, sigma) \n",
    "\n",
    "interested_value = 100\n",
    "\n",
    "result = distr.cdf(interested_value)\n",
    "print(result)"
   ]
  },
  {
   "cell_type": "markdown",
   "id": "64a5839d",
   "metadata": {},
   "source": [
    "##### 7.1.1. Вывод\n",
    "Перебрав несколько значений между 1500 и 1000 промокодов, получили, что, чтобы выполнить план (100 подписчиков после бесплатного месяца должны продлить подписку) минимум на 95%, необходимо раздать 1170 промокодов."
   ]
  },
  {
   "cell_type": "markdown",
   "id": "28ca75b0",
   "metadata": {},
   "source": [
    "#### 7.2 Рассылка \n",
    "Отдел маркетинга рассылает клиентам push-уведомления в мобильном приложении. Клиенты могут открыть его или не открывать. Известно, что уведомления открывают около 40 % получивших клиентов. Отдел планирует разослать 1 млн уведомлений. С помощью аппроксимации построим примерный график распределения и оценим вероятность того, что уведомление откроют не более 399,5 тыс. пользователей."
   ]
  },
  {
   "cell_type": "code",
   "execution_count": 76,
   "id": "610bd8d7",
   "metadata": {},
   "outputs": [
    {
     "name": "stdout",
     "output_type": "stream",
     "text": [
      "0.15371708296369768\n"
     ]
    }
   ],
   "source": [
    "# задаём параметры биномиального распределения\n",
    "n = 1000000\n",
    "p = 0.4\n",
    "\n",
    "mu = n * p\n",
    "sigma = sqrt(n * p * (1 - p))\n",
    " \n",
    "distr = st.norm(mu, sigma) \n",
    "\n",
    "interested_value = 399500\n",
    "\n",
    "result = distr.cdf(interested_value)\n",
    "print(result)"
   ]
  },
  {
   "cell_type": "code",
   "execution_count": 77,
   "id": "be948f09",
   "metadata": {},
   "outputs": [],
   "source": [
    "# зададим функцию, которая выдаёт <num> чисел,\n",
    "# равномерно распределённых от <start> до <stop>\n",
    "\n",
    "def linspace(start, stop, num):\n",
    "    step = (stop - start) / (num - 1)\n",
    "    result = []\n",
    "    for i in range(num):\n",
    "        result.append(start + step * i)\n",
    "    return result"
   ]
  },
  {
   "cell_type": "code",
   "execution_count": 78,
   "id": "ffc9e18e",
   "metadata": {},
   "outputs": [
    {
     "data": {
      "image/png": "[encoded data removed]",
      "text/plain": [
       "<Figure size 432x288 with 1 Axes>"
      ]
     },
     "metadata": {
      "needs_background": "light"
     },
     "output_type": "display_data"
    }
   ],
   "source": [
    "# границы промежутка, в котором будем строить аппроксимацию -\n",
    "# от n*p минус 4 ст.отклонения бином.распределения\n",
    "# до n*p плюс 4 ст.отклонения бином.распределения\n",
    "# (там, где вероятности значений почти не равны нулю)\n",
    "left = int(n * p - 4 * sqrt(n * p * (1 - p)))\n",
    "right = int(n * p + 4 * sqrt(n * p * (1 - p)))\n",
    "# рисуем график нормального распределения:\n",
    "# получим список из 100 чисел от left до right\n",
    "x = linspace(left, right, 100)\n",
    "# используем красную линию ширины 3 и прозрачности 0.3\n",
    "plt.plot(x, norm.pdf(x, mu, sigma), 'r-', lw=3, alpha=0.3)\n",
    "plt.title('Плотность вероятности нормального распределения')\n",
    "plt.xlabel('количество пользователей');"
   ]
  },
  {
   "cell_type": "markdown",
   "id": "18a51730",
   "metadata": {},
   "source": [
    "##### 7.2.1 Вывод\n",
    "\n",
    "Вероятность того, что уведомление откроют не более 399,5 тыс. пользователей составляет 15.4%"
   ]
  },
  {
   "cell_type": "markdown",
   "id": "e6f9b659",
   "metadata": {},
   "source": [
    "### 8. Общий вывод\n",
    "\n",
    "*Обзор данных*\n",
    "\n",
    "Для анализа получены три таблицы c данными сервиса аренды самокатов GoFast. `users_go.csv` несет инфо о пользователях сервиса, `rides_go.csv` (самая объемная) - о поездках пользователей, `subscriptions_go.csv` - о ценовых характеристиках использования сервиса с подпиской и без.\n",
    "\n",
    "*Предобработка данных*\n",
    "\n",
    "- В таблицах нет пропусков;\n",
    "- В таблице с поездками был 31 дубликат, их удалили;\n",
    "- Для даты в таблице с поездками изменили тип данных на datetime;\n",
    "- Добавили столбец `month` в таблицу с поездками.  `month` содержит номер месяца, в который совершена поездка.\n",
    "\n",
    "*Исследовательский анализ данных*\n",
    "\n",
    "- Пользователи распределены по городам довольно сбалансировано. Больше всего пользователей в Пятигорске, а меньше всего в Москве.\n",
    "- Пользователей без подписки немного больше, но, в целом, группы сбалансированы.\n",
    "- Среди пользователей больше всего взрослый молодых людей в возрасте около 25 лет. Самым маленькие пользователи сервиса 12 лет, самым взрослым 43.\n",
    "- Чаще всего, за одну поездку пользователь проезжает 3000 км или немного больше. При этом есть записи об очень коротких по расстоянию поездках. Эти значения могли возникнут в случае если пользователь решил преждевременно прекратить поездку.\n",
    "- В среднем, поездка занимает 18 минут. Есть записи, где поездка заняла меньше половины минуты, а преодоленное расстояние составило 4-5 км. Удалили записи с этой аномалией.\n",
    "\n",
    "*Объединение данных и подсчет выручки по месяцам и пользователям*\n",
    "- Таблицы riders, users, subscriptions объединили в один датасет all_data. Затем датасет all_data разделили на два новый по типу подписки - с инфо о поездках и пользователях без подписки data_free и с подпиской data_ultra.\n",
    "\n",
    "- Еще раз посмотрели на распределения времени поездки и расстояния , но теперь по группам - с подпиской и без. Распределение длительности очень похожи для поездок с подпиской и без. Расстояние распределено в двух группах немного по-разному - без подписки больше разброс значений и больше очень коротких поездок.\n",
    "\n",
    "- Данные all_data агрегировали в сводную таблицу data_agg, где отразили количество поездок, общее расстояние и общую длительность поездок за месяц для каждого пользователя. \n",
    "- На основании таблицы data_agg подсчитали прибыль по каждому месяцу по каждому пользователю, добавили эту информацию в сводную таблицу колонку `monthly_income`.\n",
    "\n",
    "*Проверка гипотез*\n",
    "\n",
    "В ходе проверки гипотез показали, что:\n",
    "- Средняя длительность поездок пользователей с подпиской значимо больше, чем без подписки. Соотвественно такие пользователи более \"выгодны\" для компании.\n",
    "\n",
    "- Среднее расcтояние поездки подписчика значимо не отличается от 3130 м, а значит не превышает оптимальное расстояние с точки зрения износа самоката.\n",
    "\n",
    "- Помесячная выручка от подписчиков значимо больше, чем выручка от пользователей без подписки. Подписчики активнее пользуются сервисом и соотвественно тратят на него больше.\n",
    "\n",
    "*Распределения*\n",
    "-  Чтобы выполнить план по увеличению числа подписчиков сервиса (100 подписчиков после бесплатного месяца должны продлить подписку) минимум на 95%, необходимо раздать 1170 промокодов.\n",
    "- При рассылке пуш-уведомлений вероятность, что не более 399.5 тыс клиентов откроют его, составляет около 15.4%.\n",
    "\n",
    "**Таким образом,** данный анализ показал, что подписчики выгодны сервису и за счет увеличения их количества и их лояльности можно увеличить выручку компании.\n"
   ]
  },
  {
   "cell_type": "code",
   "execution_count": null,
   "id": "d391708a",
   "metadata": {},
   "outputs": [],
   "source": []
  }
 ],
 "metadata": {
  "ExecuteTimeLog": [
   {
    "duration": 1480,
    "start_time": "2023-09-15T12:56:37.658Z"
   },
   {
    "duration": 85,
    "start_time": "2023-09-15T12:56:39.140Z"
   },
   {
    "duration": 64,
    "start_time": "2023-09-15T12:56:39.228Z"
   },
   {
    "duration": 53,
    "start_time": "2023-09-15T12:56:39.294Z"
   },
   {
    "duration": 12,
    "start_time": "2023-09-15T12:56:39.349Z"
   },
   {
    "duration": 19,
    "start_time": "2023-09-15T12:56:39.362Z"
   },
   {
    "duration": 23,
    "start_time": "2023-09-15T12:56:39.382Z"
   },
   {
    "duration": 178,
    "start_time": "2023-09-15T12:56:39.406Z"
   },
   {
    "duration": 9,
    "start_time": "2023-09-15T12:56:39.585Z"
   },
   {
    "duration": 12,
    "start_time": "2023-09-15T12:56:39.597Z"
   },
   {
    "duration": 21,
    "start_time": "2023-09-15T12:56:39.611Z"
   },
   {
    "duration": 487,
    "start_time": "2023-09-15T12:56:39.634Z"
   },
   {
    "duration": 7,
    "start_time": "2023-09-15T12:56:40.123Z"
   },
   {
    "duration": 17,
    "start_time": "2023-09-15T12:56:40.132Z"
   },
   {
    "duration": 14,
    "start_time": "2023-09-15T12:56:40.151Z"
   },
   {
    "duration": 19,
    "start_time": "2023-09-15T12:56:40.167Z"
   },
   {
    "duration": 6,
    "start_time": "2023-09-15T12:56:40.188Z"
   },
   {
    "duration": 12,
    "start_time": "2023-09-15T12:56:40.197Z"
   },
   {
    "duration": 5,
    "start_time": "2023-09-15T12:56:40.211Z"
   },
   {
    "duration": 9,
    "start_time": "2023-09-15T12:56:40.218Z"
   },
   {
    "duration": 34,
    "start_time": "2023-09-15T12:56:40.228Z"
   },
   {
    "duration": 20,
    "start_time": "2023-09-15T12:56:40.264Z"
   },
   {
    "duration": 15,
    "start_time": "2023-09-15T12:56:40.286Z"
   },
   {
    "duration": 19,
    "start_time": "2023-09-15T12:56:40.303Z"
   },
   {
    "duration": 24,
    "start_time": "2023-09-15T12:56:40.324Z"
   },
   {
    "duration": 158,
    "start_time": "2023-09-15T12:56:40.349Z"
   },
   {
    "duration": 124,
    "start_time": "2023-09-15T12:56:40.509Z"
   },
   {
    "duration": 8,
    "start_time": "2023-09-15T12:56:40.637Z"
   },
   {
    "duration": 193,
    "start_time": "2023-09-15T12:56:40.647Z"
   },
   {
    "duration": 276,
    "start_time": "2023-09-15T12:56:40.841Z"
   },
   {
    "duration": 276,
    "start_time": "2023-09-15T12:56:41.118Z"
   },
   {
    "duration": 139,
    "start_time": "2023-09-15T12:56:41.395Z"
   },
   {
    "duration": 9,
    "start_time": "2023-09-15T12:56:41.536Z"
   },
   {
    "duration": 14,
    "start_time": "2023-09-15T12:56:41.547Z"
   },
   {
    "duration": 32,
    "start_time": "2023-09-15T12:56:41.562Z"
   },
   {
    "duration": 30,
    "start_time": "2023-09-15T12:56:41.596Z"
   },
   {
    "duration": 15,
    "start_time": "2023-09-15T12:56:41.629Z"
   },
   {
    "duration": 26,
    "start_time": "2023-09-15T12:56:41.646Z"
   },
   {
    "duration": 21,
    "start_time": "2023-09-15T12:56:41.674Z"
   },
   {
    "duration": 183,
    "start_time": "2023-09-15T12:56:41.696Z"
   },
   {
    "duration": 193,
    "start_time": "2023-09-15T12:56:41.881Z"
   },
   {
    "duration": 9,
    "start_time": "2023-09-15T12:56:42.076Z"
   },
   {
    "duration": 213,
    "start_time": "2023-09-15T12:56:42.087Z"
   },
   {
    "duration": 13,
    "start_time": "2023-09-15T12:56:42.301Z"
   },
   {
    "duration": 6,
    "start_time": "2023-09-15T12:56:42.315Z"
   },
   {
    "duration": 151,
    "start_time": "2023-09-15T12:56:42.323Z"
   },
   {
    "duration": 5,
    "start_time": "2023-09-15T12:56:42.481Z"
   },
   {
    "duration": 6,
    "start_time": "2023-09-15T12:56:42.488Z"
   },
   {
    "duration": 16,
    "start_time": "2023-09-15T12:56:42.496Z"
   },
   {
    "duration": 20,
    "start_time": "2023-09-15T12:56:42.514Z"
   },
   {
    "duration": 54,
    "start_time": "2023-09-15T12:56:42.535Z"
   },
   {
    "duration": 16,
    "start_time": "2023-09-15T12:56:42.590Z"
   },
   {
    "duration": 374,
    "start_time": "2023-09-15T12:56:42.607Z"
   },
   {
    "duration": 354,
    "start_time": "2023-09-15T12:56:42.983Z"
   },
   {
    "duration": 45,
    "start_time": "2023-09-15T12:56:43.339Z"
   },
   {
    "duration": 5,
    "start_time": "2023-09-15T12:56:43.385Z"
   },
   {
    "duration": 25,
    "start_time": "2023-09-15T12:56:43.392Z"
   },
   {
    "duration": 9,
    "start_time": "2023-09-15T12:56:43.419Z"
   },
   {
    "duration": 8,
    "start_time": "2023-09-15T12:56:43.430Z"
   },
   {
    "duration": 1364,
    "start_time": "2023-09-15T12:56:43.440Z"
   },
   {
    "duration": 1237,
    "start_time": "2023-09-15T12:56:44.806Z"
   },
   {
    "duration": 13,
    "start_time": "2023-09-15T12:56:46.044Z"
   },
   {
    "duration": 8,
    "start_time": "2023-09-15T12:56:46.059Z"
   },
   {
    "duration": 17,
    "start_time": "2023-09-15T12:56:46.068Z"
   },
   {
    "duration": 10,
    "start_time": "2023-09-15T12:56:46.087Z"
   },
   {
    "duration": 6,
    "start_time": "2023-09-15T12:56:46.099Z"
   },
   {
    "duration": 321,
    "start_time": "2023-09-15T12:56:46.106Z"
   },
   {
    "duration": 6,
    "start_time": "2023-09-15T12:56:46.429Z"
   },
   {
    "duration": 5,
    "start_time": "2023-09-15T12:56:46.437Z"
   },
   {
    "duration": 7,
    "start_time": "2023-09-15T12:56:46.444Z"
   },
   {
    "duration": 9951,
    "start_time": "2023-09-15T12:56:46.453Z"
   },
   {
    "duration": 9,
    "start_time": "2023-09-15T12:56:56.406Z"
   },
   {
    "duration": 12,
    "start_time": "2023-09-15T12:56:56.417Z"
   },
   {
    "duration": 16,
    "start_time": "2023-09-15T12:56:56.430Z"
   },
   {
    "duration": 11,
    "start_time": "2023-09-15T12:56:56.448Z"
   },
   {
    "duration": 20,
    "start_time": "2023-09-15T12:56:56.461Z"
   },
   {
    "duration": 516,
    "start_time": "2023-09-15T12:56:56.483Z"
   },
   {
    "duration": 1234,
    "start_time": "2023-09-15T13:11:25.365Z"
   },
   {
    "duration": 40,
    "start_time": "2023-09-15T13:11:26.600Z"
   },
   {
    "duration": 18,
    "start_time": "2023-09-15T13:11:26.642Z"
   },
   {
    "duration": 17,
    "start_time": "2023-09-15T13:11:26.663Z"
   },
   {
    "duration": 16,
    "start_time": "2023-09-15T13:11:26.682Z"
   },
   {
    "duration": 21,
    "start_time": "2023-09-15T13:11:26.701Z"
   },
   {
    "duration": 24,
    "start_time": "2023-09-15T13:11:26.725Z"
   },
   {
    "duration": 232,
    "start_time": "2023-09-15T13:11:26.751Z"
   },
   {
    "duration": 9,
    "start_time": "2023-09-15T13:11:26.985Z"
   },
   {
    "duration": 20,
    "start_time": "2023-09-15T13:11:26.996Z"
   },
   {
    "duration": 25,
    "start_time": "2023-09-15T13:11:27.017Z"
   },
   {
    "duration": 457,
    "start_time": "2023-09-15T13:11:27.043Z"
   },
   {
    "duration": 7,
    "start_time": "2023-09-15T13:11:27.502Z"
   },
   {
    "duration": 16,
    "start_time": "2023-09-15T13:11:27.511Z"
   },
   {
    "duration": 22,
    "start_time": "2023-09-15T13:11:27.529Z"
   },
   {
    "duration": 23,
    "start_time": "2023-09-15T13:11:27.552Z"
   },
   {
    "duration": 10,
    "start_time": "2023-09-15T13:11:27.577Z"
   },
   {
    "duration": 15,
    "start_time": "2023-09-15T13:11:27.588Z"
   },
   {
    "duration": 7,
    "start_time": "2023-09-15T13:11:27.605Z"
   },
   {
    "duration": 9,
    "start_time": "2023-09-15T13:11:27.614Z"
   },
   {
    "duration": 6,
    "start_time": "2023-09-15T13:11:27.625Z"
   },
   {
    "duration": 19,
    "start_time": "2023-09-15T13:11:27.632Z"
   },
   {
    "duration": 16,
    "start_time": "2023-09-15T13:11:27.652Z"
   },
   {
    "duration": 11,
    "start_time": "2023-09-15T13:11:27.670Z"
   },
   {
    "duration": 13,
    "start_time": "2023-09-15T13:11:27.683Z"
   },
   {
    "duration": 156,
    "start_time": "2023-09-15T13:11:27.698Z"
   },
   {
    "duration": 109,
    "start_time": "2023-09-15T13:11:27.857Z"
   },
   {
    "duration": 7,
    "start_time": "2023-09-15T13:11:27.980Z"
   },
   {
    "duration": 171,
    "start_time": "2023-09-15T13:11:27.989Z"
   },
   {
    "duration": 287,
    "start_time": "2023-09-15T13:11:28.163Z"
   },
   {
    "duration": 268,
    "start_time": "2023-09-15T13:11:28.452Z"
   },
   {
    "duration": 125,
    "start_time": "2023-09-15T13:11:28.722Z"
   },
   {
    "duration": 8,
    "start_time": "2023-09-15T13:11:28.849Z"
   },
   {
    "duration": 23,
    "start_time": "2023-09-15T13:11:28.859Z"
   },
   {
    "duration": 24,
    "start_time": "2023-09-15T13:11:28.884Z"
   },
   {
    "duration": 10,
    "start_time": "2023-09-15T13:11:28.910Z"
   },
   {
    "duration": 10,
    "start_time": "2023-09-15T13:11:28.922Z"
   },
   {
    "duration": 9,
    "start_time": "2023-09-15T13:11:28.934Z"
   },
   {
    "duration": 11,
    "start_time": "2023-09-15T13:11:28.945Z"
   },
   {
    "duration": 187,
    "start_time": "2023-09-15T13:11:28.957Z"
   },
   {
    "duration": 202,
    "start_time": "2023-09-15T13:11:29.146Z"
   },
   {
    "duration": 8,
    "start_time": "2023-09-15T13:11:29.350Z"
   },
   {
    "duration": 200,
    "start_time": "2023-09-15T13:11:29.360Z"
   },
   {
    "duration": 19,
    "start_time": "2023-09-15T13:11:29.562Z"
   },
   {
    "duration": 7,
    "start_time": "2023-09-15T13:11:29.583Z"
   },
   {
    "duration": 145,
    "start_time": "2023-09-15T13:11:29.592Z"
   },
   {
    "duration": 6,
    "start_time": "2023-09-15T13:11:29.739Z"
   },
   {
    "duration": 19,
    "start_time": "2023-09-15T13:11:29.746Z"
   },
   {
    "duration": 24,
    "start_time": "2023-09-15T13:11:29.767Z"
   },
   {
    "duration": 34,
    "start_time": "2023-09-15T13:11:29.793Z"
   },
   {
    "duration": 19,
    "start_time": "2023-09-15T13:11:29.829Z"
   },
   {
    "duration": 31,
    "start_time": "2023-09-15T13:11:29.850Z"
   },
   {
    "duration": 387,
    "start_time": "2023-09-15T13:11:29.883Z"
   },
   {
    "duration": 358,
    "start_time": "2023-09-15T13:11:30.272Z"
   },
   {
    "duration": 34,
    "start_time": "2023-09-15T13:11:30.632Z"
   },
   {
    "duration": 24,
    "start_time": "2023-09-15T13:11:30.680Z"
   },
   {
    "duration": 49,
    "start_time": "2023-09-15T13:11:30.706Z"
   },
   {
    "duration": 60,
    "start_time": "2023-09-15T13:11:30.757Z"
   },
   {
    "duration": 37,
    "start_time": "2023-09-15T13:11:30.819Z"
   },
   {
    "duration": 1350,
    "start_time": "2023-09-15T13:11:30.858Z"
   },
   {
    "duration": 1208,
    "start_time": "2023-09-15T13:11:32.209Z"
   },
   {
    "duration": 15,
    "start_time": "2023-09-15T13:11:33.419Z"
   },
   {
    "duration": 6,
    "start_time": "2023-09-15T13:11:33.436Z"
   },
   {
    "duration": 16,
    "start_time": "2023-09-15T13:11:33.444Z"
   },
   {
    "duration": 21,
    "start_time": "2023-09-15T13:11:33.462Z"
   },
   {
    "duration": 8,
    "start_time": "2023-09-15T13:11:33.485Z"
   },
   {
    "duration": 207,
    "start_time": "2023-09-15T13:11:33.495Z"
   },
   {
    "duration": 8,
    "start_time": "2023-09-15T13:11:33.704Z"
   },
   {
    "duration": 20,
    "start_time": "2023-09-15T13:11:33.714Z"
   },
   {
    "duration": 17,
    "start_time": "2023-09-15T13:11:33.735Z"
   },
   {
    "duration": 9455,
    "start_time": "2023-09-15T13:11:33.753Z"
   },
   {
    "duration": 5,
    "start_time": "2023-09-15T13:11:43.210Z"
   },
   {
    "duration": 19,
    "start_time": "2023-09-15T13:11:43.218Z"
   },
   {
    "duration": 18,
    "start_time": "2023-09-15T13:11:43.238Z"
   },
   {
    "duration": 10,
    "start_time": "2023-09-15T13:11:43.257Z"
   },
   {
    "duration": 6,
    "start_time": "2023-09-15T13:11:43.268Z"
   },
   {
    "duration": 391,
    "start_time": "2023-09-15T13:11:43.276Z"
   },
   {
    "duration": 1589,
    "start_time": "2023-09-16T07:13:35.775Z"
   },
   {
    "duration": 240,
    "start_time": "2023-09-16T07:13:42.762Z"
   },
   {
    "duration": 12,
    "start_time": "2023-09-16T07:14:27.995Z"
   },
   {
    "duration": 16,
    "start_time": "2023-09-16T07:14:32.265Z"
   },
   {
    "duration": 15,
    "start_time": "2023-09-16T07:14:34.481Z"
   },
   {
    "duration": 160,
    "start_time": "2023-09-16T07:14:37.705Z"
   },
   {
    "duration": 9,
    "start_time": "2023-09-16T07:14:49.234Z"
   },
   {
    "duration": 18,
    "start_time": "2023-09-16T07:14:51.228Z"
   },
   {
    "duration": 22,
    "start_time": "2023-09-16T07:14:54.812Z"
   },
   {
    "duration": 10,
    "start_time": "2023-09-16T07:15:02.636Z"
   },
   {
    "duration": 12,
    "start_time": "2023-09-16T07:15:04.825Z"
   },
   {
    "duration": 10,
    "start_time": "2023-09-16T07:17:08.091Z"
   },
   {
    "duration": 8,
    "start_time": "2023-09-16T07:17:09.556Z"
   },
   {
    "duration": 8,
    "start_time": "2023-09-16T07:17:11.034Z"
   },
   {
    "duration": 8,
    "start_time": "2023-09-16T07:17:25.538Z"
   },
   {
    "duration": 6,
    "start_time": "2023-09-16T07:17:34.050Z"
   },
   {
    "duration": 11,
    "start_time": "2023-09-16T07:17:35.229Z"
   },
   {
    "duration": 5,
    "start_time": "2023-09-16T07:17:37.355Z"
   },
   {
    "duration": 6,
    "start_time": "2023-09-16T07:17:45.724Z"
   },
   {
    "duration": 9,
    "start_time": "2023-09-16T07:17:53.335Z"
   },
   {
    "duration": 10,
    "start_time": "2023-09-16T07:19:41.567Z"
   },
   {
    "duration": 5,
    "start_time": "2023-09-16T07:20:29.289Z"
   },
   {
    "duration": 5,
    "start_time": "2023-09-16T07:20:47.575Z"
   },
   {
    "duration": 173,
    "start_time": "2023-09-16T07:26:01.846Z"
   },
   {
    "duration": 150,
    "start_time": "2023-09-16T07:27:48.653Z"
   },
   {
    "duration": 189,
    "start_time": "2023-09-16T07:33:01.342Z"
   },
   {
    "duration": 153,
    "start_time": "2023-09-16T07:35:58.964Z"
   },
   {
    "duration": 172,
    "start_time": "2023-09-16T07:36:03.583Z"
   },
   {
    "duration": 215,
    "start_time": "2023-09-16T07:37:47.791Z"
   },
   {
    "duration": 269,
    "start_time": "2023-09-16T07:38:15.679Z"
   },
   {
    "duration": 167,
    "start_time": "2023-09-16T07:42:06.314Z"
   },
   {
    "duration": 306,
    "start_time": "2023-09-16T07:45:04.200Z"
   },
   {
    "duration": 61,
    "start_time": "2023-09-16T07:45:46.195Z"
   },
   {
    "duration": 63,
    "start_time": "2023-09-16T07:47:30.175Z"
   },
   {
    "duration": 68,
    "start_time": "2023-09-16T07:49:14.792Z"
   },
   {
    "duration": 108,
    "start_time": "2023-09-16T07:51:05.964Z"
   },
   {
    "duration": 143,
    "start_time": "2023-09-16T07:53:29.459Z"
   },
   {
    "duration": 312,
    "start_time": "2023-09-16T07:53:45.108Z"
   },
   {
    "duration": 296,
    "start_time": "2023-09-16T07:53:54.872Z"
   },
   {
    "duration": 301,
    "start_time": "2023-09-16T07:57:21.604Z"
   },
   {
    "duration": 278,
    "start_time": "2023-09-16T07:57:27.400Z"
   },
   {
    "duration": 10,
    "start_time": "2023-09-16T07:57:58.435Z"
   },
   {
    "duration": 46,
    "start_time": "2023-09-16T09:50:46.175Z"
   },
   {
    "duration": 1243,
    "start_time": "2023-09-16T09:50:54.284Z"
   },
   {
    "duration": 213,
    "start_time": "2023-09-16T09:50:55.528Z"
   },
   {
    "duration": 12,
    "start_time": "2023-09-16T09:50:59.992Z"
   },
   {
    "duration": 11,
    "start_time": "2023-09-16T09:51:01.982Z"
   },
   {
    "duration": 15,
    "start_time": "2023-09-16T09:51:04.001Z"
   },
   {
    "duration": 144,
    "start_time": "2023-09-16T09:51:05.777Z"
   },
   {
    "duration": 8,
    "start_time": "2023-09-16T09:51:07.524Z"
   },
   {
    "duration": 11,
    "start_time": "2023-09-16T09:51:10.068Z"
   },
   {
    "duration": 16,
    "start_time": "2023-09-16T09:51:14.348Z"
   },
   {
    "duration": 442,
    "start_time": "2023-09-16T09:51:15.549Z"
   },
   {
    "duration": 7,
    "start_time": "2023-09-16T09:51:29.880Z"
   },
   {
    "duration": 12,
    "start_time": "2023-09-16T09:51:30.472Z"
   },
   {
    "duration": 6,
    "start_time": "2023-09-16T09:51:36.328Z"
   },
   {
    "duration": 7,
    "start_time": "2023-09-16T09:51:36.761Z"
   },
   {
    "duration": 6,
    "start_time": "2023-09-16T09:51:37.160Z"
   },
   {
    "duration": 8,
    "start_time": "2023-09-16T09:51:38.908Z"
   },
   {
    "duration": 7,
    "start_time": "2023-09-16T09:51:39.262Z"
   },
   {
    "duration": 8,
    "start_time": "2023-09-16T09:51:40.888Z"
   },
   {
    "duration": 4,
    "start_time": "2023-09-16T09:51:41.310Z"
   },
   {
    "duration": 5,
    "start_time": "2023-09-16T09:51:44.491Z"
   },
   {
    "duration": 10,
    "start_time": "2023-09-16T09:51:45.827Z"
   },
   {
    "duration": 4,
    "start_time": "2023-09-16T09:51:47.605Z"
   },
   {
    "duration": 4,
    "start_time": "2023-09-16T09:51:48.007Z"
   },
   {
    "duration": 8,
    "start_time": "2023-09-16T09:51:50.131Z"
   },
   {
    "duration": 5,
    "start_time": "2023-09-16T09:51:56.587Z"
   },
   {
    "duration": 139,
    "start_time": "2023-09-16T09:51:57.157Z"
   },
   {
    "duration": 64,
    "start_time": "2023-09-16T09:52:03.477Z"
   },
   {
    "duration": 7,
    "start_time": "2023-09-16T09:52:06.163Z"
   },
   {
    "duration": 7,
    "start_time": "2023-09-16T09:52:08.221Z"
   },
   {
    "duration": 239,
    "start_time": "2023-09-16T09:52:09.779Z"
   },
   {
    "duration": 312,
    "start_time": "2023-09-16T09:52:26.467Z"
   },
   {
    "duration": 273,
    "start_time": "2023-09-16T09:52:39.058Z"
   },
   {
    "duration": 169,
    "start_time": "2023-09-16T09:52:45.458Z"
   },
   {
    "duration": 178,
    "start_time": "2023-09-16T09:53:00.359Z"
   },
   {
    "duration": 160,
    "start_time": "2023-09-16T09:53:28.110Z"
   },
   {
    "duration": 7,
    "start_time": "2023-09-16T09:56:22.776Z"
   },
   {
    "duration": 93,
    "start_time": "2023-09-16T09:57:28.367Z"
   },
   {
    "duration": 1061,
    "start_time": "2023-09-16T09:58:10.592Z"
   },
   {
    "duration": 65,
    "start_time": "2023-09-16T09:58:11.655Z"
   },
   {
    "duration": 12,
    "start_time": "2023-09-16T09:58:11.722Z"
   },
   {
    "duration": 10,
    "start_time": "2023-09-16T09:58:11.736Z"
   },
   {
    "duration": 13,
    "start_time": "2023-09-16T09:58:11.748Z"
   },
   {
    "duration": 145,
    "start_time": "2023-09-16T09:58:11.762Z"
   },
   {
    "duration": 7,
    "start_time": "2023-09-16T09:58:11.909Z"
   },
   {
    "duration": 16,
    "start_time": "2023-09-16T09:58:11.918Z"
   },
   {
    "duration": 22,
    "start_time": "2023-09-16T09:58:11.935Z"
   },
   {
    "duration": 377,
    "start_time": "2023-09-16T09:58:11.960Z"
   },
   {
    "duration": 12,
    "start_time": "2023-09-16T09:58:12.339Z"
   },
   {
    "duration": 18,
    "start_time": "2023-09-16T09:58:12.353Z"
   },
   {
    "duration": 6,
    "start_time": "2023-09-16T09:58:12.372Z"
   },
   {
    "duration": 10,
    "start_time": "2023-09-16T09:58:12.379Z"
   },
   {
    "duration": 5,
    "start_time": "2023-09-16T09:58:12.390Z"
   },
   {
    "duration": 8,
    "start_time": "2023-09-16T09:58:12.396Z"
   },
   {
    "duration": 5,
    "start_time": "2023-09-16T09:58:12.405Z"
   },
   {
    "duration": 9,
    "start_time": "2023-09-16T09:58:12.411Z"
   },
   {
    "duration": 6,
    "start_time": "2023-09-16T09:58:12.422Z"
   },
   {
    "duration": 5,
    "start_time": "2023-09-16T09:58:12.449Z"
   },
   {
    "duration": 10,
    "start_time": "2023-09-16T09:58:12.456Z"
   },
   {
    "duration": 4,
    "start_time": "2023-09-16T09:58:12.467Z"
   },
   {
    "duration": 7,
    "start_time": "2023-09-16T09:58:12.472Z"
   },
   {
    "duration": 9,
    "start_time": "2023-09-16T09:58:12.481Z"
   },
   {
    "duration": 5,
    "start_time": "2023-09-16T09:58:12.491Z"
   },
   {
    "duration": 183,
    "start_time": "2023-09-16T09:58:12.497Z"
   },
   {
    "duration": 75,
    "start_time": "2023-09-16T09:58:12.682Z"
   },
   {
    "duration": 7,
    "start_time": "2023-09-16T09:58:12.760Z"
   },
   {
    "duration": 11,
    "start_time": "2023-09-16T09:58:12.768Z"
   },
   {
    "duration": 245,
    "start_time": "2023-09-16T09:58:12.780Z"
   },
   {
    "duration": 166,
    "start_time": "2023-09-16T09:58:13.027Z"
   },
   {
    "duration": 181,
    "start_time": "2023-09-16T09:58:13.195Z"
   },
   {
    "duration": 9,
    "start_time": "2023-09-16T09:58:13.377Z"
   },
   {
    "duration": 6,
    "start_time": "2023-09-16T09:58:13.387Z"
   },
   {
    "duration": 23,
    "start_time": "2023-09-16T09:58:13.394Z"
   },
   {
    "duration": 9,
    "start_time": "2023-09-16T09:58:13.418Z"
   },
   {
    "duration": 29,
    "start_time": "2023-09-16T09:58:13.428Z"
   },
   {
    "duration": 7,
    "start_time": "2023-09-16T09:58:25.580Z"
   },
   {
    "duration": 164,
    "start_time": "2023-09-16T09:59:33.015Z"
   },
   {
    "duration": 8,
    "start_time": "2023-09-16T09:59:40.260Z"
   },
   {
    "duration": 91,
    "start_time": "2023-09-16T09:59:53.867Z"
   },
   {
    "duration": 12,
    "start_time": "2023-09-16T10:00:17.850Z"
   },
   {
    "duration": 8,
    "start_time": "2023-09-16T10:01:50.894Z"
   },
   {
    "duration": 156,
    "start_time": "2023-09-16T10:01:56.057Z"
   },
   {
    "duration": 7,
    "start_time": "2023-09-16T10:04:29.449Z"
   },
   {
    "duration": 4,
    "start_time": "2023-09-16T10:04:31.909Z"
   },
   {
    "duration": 16,
    "start_time": "2023-09-16T10:09:04.700Z"
   },
   {
    "duration": 19,
    "start_time": "2023-09-16T10:09:05.924Z"
   },
   {
    "duration": 10,
    "start_time": "2023-09-16T10:09:55.187Z"
   },
   {
    "duration": 17,
    "start_time": "2023-09-16T10:13:29.559Z"
   },
   {
    "duration": 15,
    "start_time": "2023-09-16T10:13:40.306Z"
   },
   {
    "duration": 322,
    "start_time": "2023-09-16T10:14:13.743Z"
   },
   {
    "duration": 336,
    "start_time": "2023-09-16T10:15:31.942Z"
   },
   {
    "duration": 303,
    "start_time": "2023-09-16T10:16:07.832Z"
   },
   {
    "duration": 310,
    "start_time": "2023-09-16T10:19:16.556Z"
   },
   {
    "duration": 515,
    "start_time": "2023-09-16T10:19:46.006Z"
   },
   {
    "duration": 80,
    "start_time": "2023-09-16T10:20:17.698Z"
   },
   {
    "duration": 5,
    "start_time": "2023-09-16T10:23:56.332Z"
   },
   {
    "duration": 7,
    "start_time": "2023-09-16T10:24:04.372Z"
   },
   {
    "duration": 37,
    "start_time": "2023-09-16T10:25:49.050Z"
   },
   {
    "duration": 6,
    "start_time": "2023-09-16T10:26:07.473Z"
   },
   {
    "duration": 123,
    "start_time": "2023-09-16T10:38:13.622Z"
   },
   {
    "duration": 280,
    "start_time": "2023-09-16T10:38:19.265Z"
   },
   {
    "duration": 10,
    "start_time": "2023-09-16T10:44:50.402Z"
   },
   {
    "duration": 264,
    "start_time": "2023-09-16T10:44:58.795Z"
   },
   {
    "duration": 335,
    "start_time": "2023-09-16T10:48:22.847Z"
   },
   {
    "duration": 351,
    "start_time": "2023-09-16T10:48:49.714Z"
   },
   {
    "duration": 416,
    "start_time": "2023-09-16T10:49:36.583Z"
   },
   {
    "duration": 347,
    "start_time": "2023-09-16T10:50:21.973Z"
   },
   {
    "duration": 337,
    "start_time": "2023-09-16T10:50:49.390Z"
   },
   {
    "duration": 357,
    "start_time": "2023-09-16T10:50:56.396Z"
   },
   {
    "duration": 343,
    "start_time": "2023-09-16T10:51:00.234Z"
   },
   {
    "duration": 540,
    "start_time": "2023-09-16T10:51:26.527Z"
   },
   {
    "duration": 345,
    "start_time": "2023-09-16T10:51:41.743Z"
   },
   {
    "duration": 367,
    "start_time": "2023-09-16T10:52:48.035Z"
   },
   {
    "duration": 325,
    "start_time": "2023-09-16T10:53:35.157Z"
   },
   {
    "duration": 375,
    "start_time": "2023-09-16T10:53:45.852Z"
   },
   {
    "duration": 101,
    "start_time": "2023-09-16T10:55:00.428Z"
   },
   {
    "duration": 566,
    "start_time": "2023-09-16T10:56:02.705Z"
   },
   {
    "duration": 427,
    "start_time": "2023-09-16T10:56:15.293Z"
   },
   {
    "duration": 6,
    "start_time": "2023-09-16T11:02:17.589Z"
   },
   {
    "duration": 39,
    "start_time": "2023-09-16T11:02:19.345Z"
   },
   {
    "duration": 5,
    "start_time": "2023-09-16T11:02:28.599Z"
   },
   {
    "duration": 1167,
    "start_time": "2023-09-16T11:06:01.737Z"
   },
   {
    "duration": 29,
    "start_time": "2023-09-16T11:06:08.849Z"
   },
   {
    "duration": 15,
    "start_time": "2023-09-16T11:09:15.966Z"
   },
   {
    "duration": 15,
    "start_time": "2023-09-16T11:09:31.314Z"
   },
   {
    "duration": 6,
    "start_time": "2023-09-16T11:10:46.597Z"
   },
   {
    "duration": 22,
    "start_time": "2023-09-16T11:10:47.861Z"
   },
   {
    "duration": 12,
    "start_time": "2023-09-16T11:11:07.445Z"
   },
   {
    "duration": 18,
    "start_time": "2023-09-16T11:11:07.940Z"
   },
   {
    "duration": 7,
    "start_time": "2023-09-16T11:11:15.995Z"
   },
   {
    "duration": 26,
    "start_time": "2023-09-16T11:11:16.350Z"
   },
   {
    "duration": 1451,
    "start_time": "2023-09-16T11:11:44.871Z"
   },
   {
    "duration": 6,
    "start_time": "2023-09-16T11:12:03.416Z"
   },
   {
    "duration": 13,
    "start_time": "2023-09-16T11:12:11.089Z"
   },
   {
    "duration": 6,
    "start_time": "2023-09-16T11:13:58.775Z"
   },
   {
    "duration": 16,
    "start_time": "2023-09-16T11:14:01.587Z"
   },
   {
    "duration": 7,
    "start_time": "2023-09-16T11:14:57.870Z"
   },
   {
    "duration": 17,
    "start_time": "2023-09-16T11:14:58.600Z"
   },
   {
    "duration": 10,
    "start_time": "2023-09-16T11:17:52.651Z"
   },
   {
    "duration": 134,
    "start_time": "2023-09-16T11:18:34.036Z"
   },
   {
    "duration": 11,
    "start_time": "2023-09-16T11:18:42.776Z"
   },
   {
    "duration": 18,
    "start_time": "2023-09-16T11:18:52.281Z"
   },
   {
    "duration": 10,
    "start_time": "2023-09-16T11:19:48.382Z"
   },
   {
    "duration": 25,
    "start_time": "2023-09-16T11:19:48.952Z"
   },
   {
    "duration": 81,
    "start_time": "2023-09-16T11:22:42.755Z"
   },
   {
    "duration": 1180,
    "start_time": "2023-09-16T12:38:46.716Z"
   },
   {
    "duration": 70,
    "start_time": "2023-09-16T12:38:47.898Z"
   },
   {
    "duration": 11,
    "start_time": "2023-09-16T12:38:47.969Z"
   },
   {
    "duration": 11,
    "start_time": "2023-09-16T12:38:47.982Z"
   },
   {
    "duration": 14,
    "start_time": "2023-09-16T12:38:47.994Z"
   },
   {
    "duration": 166,
    "start_time": "2023-09-16T12:38:48.009Z"
   },
   {
    "duration": 9,
    "start_time": "2023-09-16T12:38:48.176Z"
   },
   {
    "duration": 17,
    "start_time": "2023-09-16T12:38:48.186Z"
   },
   {
    "duration": 16,
    "start_time": "2023-09-16T12:38:48.205Z"
   },
   {
    "duration": 437,
    "start_time": "2023-09-16T12:38:48.224Z"
   },
   {
    "duration": 10,
    "start_time": "2023-09-16T12:38:48.663Z"
   },
   {
    "duration": 23,
    "start_time": "2023-09-16T12:38:48.674Z"
   },
   {
    "duration": 9,
    "start_time": "2023-09-16T12:38:48.698Z"
   },
   {
    "duration": 8,
    "start_time": "2023-09-16T12:38:48.708Z"
   },
   {
    "duration": 8,
    "start_time": "2023-09-16T12:38:48.717Z"
   },
   {
    "duration": 27,
    "start_time": "2023-09-16T12:38:48.727Z"
   },
   {
    "duration": 13,
    "start_time": "2023-09-16T12:38:48.755Z"
   },
   {
    "duration": 25,
    "start_time": "2023-09-16T12:38:48.770Z"
   },
   {
    "duration": 10,
    "start_time": "2023-09-16T12:38:48.797Z"
   },
   {
    "duration": 5,
    "start_time": "2023-09-16T12:38:48.809Z"
   },
   {
    "duration": 15,
    "start_time": "2023-09-16T12:38:48.816Z"
   },
   {
    "duration": 4,
    "start_time": "2023-09-16T12:38:48.832Z"
   },
   {
    "duration": 16,
    "start_time": "2023-09-16T12:38:48.837Z"
   },
   {
    "duration": 12,
    "start_time": "2023-09-16T12:38:48.855Z"
   },
   {
    "duration": 5,
    "start_time": "2023-09-16T12:38:48.869Z"
   },
   {
    "duration": 167,
    "start_time": "2023-09-16T12:38:48.876Z"
   },
   {
    "duration": 85,
    "start_time": "2023-09-16T12:38:49.049Z"
   },
   {
    "duration": 19,
    "start_time": "2023-09-16T12:38:49.151Z"
   },
   {
    "duration": 16,
    "start_time": "2023-09-16T12:38:49.172Z"
   },
   {
    "duration": 261,
    "start_time": "2023-09-16T12:38:49.190Z"
   },
   {
    "duration": 176,
    "start_time": "2023-09-16T12:38:49.453Z"
   },
   {
    "duration": 191,
    "start_time": "2023-09-16T12:38:49.631Z"
   },
   {
    "duration": 7,
    "start_time": "2023-09-16T12:38:49.823Z"
   },
   {
    "duration": 31,
    "start_time": "2023-09-16T12:38:49.832Z"
   },
   {
    "duration": 24,
    "start_time": "2023-09-16T12:38:49.866Z"
   },
   {
    "duration": 40,
    "start_time": "2023-09-16T12:38:49.892Z"
   },
   {
    "duration": 20,
    "start_time": "2023-09-16T12:38:49.933Z"
   },
   {
    "duration": 17,
    "start_time": "2023-09-16T12:38:49.955Z"
   },
   {
    "duration": 223,
    "start_time": "2023-09-16T12:38:49.974Z"
   },
   {
    "duration": 8,
    "start_time": "2023-09-16T12:38:50.199Z"
   },
   {
    "duration": 13,
    "start_time": "2023-09-16T12:38:50.208Z"
   },
   {
    "duration": 6,
    "start_time": "2023-09-16T12:38:50.222Z"
   },
   {
    "duration": 135,
    "start_time": "2023-09-16T12:38:50.229Z"
   },
   {
    "duration": 6,
    "start_time": "2023-09-16T12:38:50.366Z"
   },
   {
    "duration": 16,
    "start_time": "2023-09-16T12:38:50.373Z"
   },
   {
    "duration": 15,
    "start_time": "2023-09-16T12:38:50.390Z"
   },
   {
    "duration": 18,
    "start_time": "2023-09-16T12:38:50.406Z"
   },
   {
    "duration": 8,
    "start_time": "2023-09-16T12:38:50.425Z"
   },
   {
    "duration": 30,
    "start_time": "2023-09-16T12:38:50.450Z"
   },
   {
    "duration": 15,
    "start_time": "2023-09-16T12:38:50.482Z"
   },
   {
    "duration": 379,
    "start_time": "2023-09-16T12:38:50.498Z"
   },
   {
    "duration": 402,
    "start_time": "2023-09-16T12:38:50.878Z"
   },
   {
    "duration": 6,
    "start_time": "2023-09-16T12:38:51.281Z"
   },
   {
    "duration": 28,
    "start_time": "2023-09-16T12:38:51.288Z"
   },
   {
    "duration": 3,
    "start_time": "2023-09-16T12:38:51.318Z"
   },
   {
    "duration": 931,
    "start_time": "2023-09-16T12:38:51.322Z"
   },
   {
    "duration": 13,
    "start_time": "2023-09-16T12:38:52.254Z"
   },
   {
    "duration": 13,
    "start_time": "2023-09-16T12:38:52.269Z"
   },
   {
    "duration": 21,
    "start_time": "2023-09-16T12:38:52.284Z"
   },
   {
    "duration": 12,
    "start_time": "2023-09-16T12:38:52.307Z"
   },
   {
    "duration": 17,
    "start_time": "2023-09-16T12:38:52.320Z"
   },
   {
    "duration": 24,
    "start_time": "2023-09-16T12:38:52.339Z"
   },
   {
    "duration": 18,
    "start_time": "2023-09-16T12:38:52.365Z"
   },
   {
    "duration": 6,
    "start_time": "2023-09-16T12:38:52.385Z"
   },
   {
    "duration": 6,
    "start_time": "2023-09-16T12:38:52.392Z"
   },
   {
    "duration": 6,
    "start_time": "2023-09-16T12:38:52.399Z"
   },
   {
    "duration": 12,
    "start_time": "2023-09-16T12:38:52.407Z"
   },
   {
    "duration": 191,
    "start_time": "2023-09-16T12:38:52.420Z"
   },
   {
    "duration": 6,
    "start_time": "2023-09-16T12:38:52.613Z"
   },
   {
    "duration": 10,
    "start_time": "2023-09-16T12:38:52.620Z"
   },
   {
    "duration": 32,
    "start_time": "2023-09-16T12:38:52.631Z"
   },
   {
    "duration": 8878,
    "start_time": "2023-09-16T12:38:52.664Z"
   },
   {
    "duration": 7,
    "start_time": "2023-09-16T12:39:01.544Z"
   },
   {
    "duration": 61,
    "start_time": "2023-09-16T12:39:01.553Z"
   },
   {
    "duration": 46,
    "start_time": "2023-09-16T12:39:01.616Z"
   },
   {
    "duration": 51,
    "start_time": "2023-09-16T12:39:01.665Z"
   },
   {
    "duration": 21,
    "start_time": "2023-09-16T12:39:01.717Z"
   },
   {
    "duration": 205,
    "start_time": "2023-09-16T12:39:01.739Z"
   },
   {
    "duration": 191,
    "start_time": "2023-09-16T12:40:46.347Z"
   },
   {
    "duration": 282,
    "start_time": "2023-09-16T12:42:42.174Z"
   },
   {
    "duration": 133,
    "start_time": "2023-09-16T12:44:22.747Z"
   },
   {
    "duration": 912,
    "start_time": "2023-09-16T12:46:45.093Z"
   },
   {
    "duration": 5,
    "start_time": "2023-09-16T12:50:50.930Z"
   },
   {
    "duration": 175,
    "start_time": "2023-09-16T12:52:52.383Z"
   },
   {
    "duration": 274,
    "start_time": "2023-09-16T12:53:52.672Z"
   },
   {
    "duration": 191,
    "start_time": "2023-09-16T12:54:04.599Z"
   },
   {
    "duration": 1245,
    "start_time": "2023-09-16T12:54:53.648Z"
   },
   {
    "duration": 66,
    "start_time": "2023-09-16T12:54:54.895Z"
   },
   {
    "duration": 14,
    "start_time": "2023-09-16T12:54:54.965Z"
   },
   {
    "duration": 13,
    "start_time": "2023-09-16T12:54:54.981Z"
   },
   {
    "duration": 26,
    "start_time": "2023-09-16T12:54:54.996Z"
   },
   {
    "duration": 180,
    "start_time": "2023-09-16T12:54:55.024Z"
   },
   {
    "duration": 9,
    "start_time": "2023-09-16T12:54:55.205Z"
   },
   {
    "duration": 23,
    "start_time": "2023-09-16T12:54:55.215Z"
   },
   {
    "duration": 26,
    "start_time": "2023-09-16T12:54:55.240Z"
   },
   {
    "duration": 427,
    "start_time": "2023-09-16T12:54:55.269Z"
   },
   {
    "duration": 7,
    "start_time": "2023-09-16T12:54:55.697Z"
   },
   {
    "duration": 32,
    "start_time": "2023-09-16T12:54:55.705Z"
   },
   {
    "duration": 28,
    "start_time": "2023-09-16T12:54:55.739Z"
   },
   {
    "duration": 29,
    "start_time": "2023-09-16T12:54:55.769Z"
   },
   {
    "duration": 21,
    "start_time": "2023-09-16T12:54:55.800Z"
   },
   {
    "duration": 18,
    "start_time": "2023-09-16T12:54:55.823Z"
   },
   {
    "duration": 25,
    "start_time": "2023-09-16T12:54:55.842Z"
   },
   {
    "duration": 13,
    "start_time": "2023-09-16T12:54:55.870Z"
   },
   {
    "duration": 12,
    "start_time": "2023-09-16T12:54:55.885Z"
   },
   {
    "duration": 13,
    "start_time": "2023-09-16T12:54:55.898Z"
   },
   {
    "duration": 31,
    "start_time": "2023-09-16T12:54:55.912Z"
   },
   {
    "duration": 27,
    "start_time": "2023-09-16T12:54:55.946Z"
   },
   {
    "duration": 16,
    "start_time": "2023-09-16T12:54:55.975Z"
   },
   {
    "duration": 9,
    "start_time": "2023-09-16T12:54:55.993Z"
   },
   {
    "duration": 6,
    "start_time": "2023-09-16T12:54:56.004Z"
   },
   {
    "duration": 188,
    "start_time": "2023-09-16T12:54:56.012Z"
   },
   {
    "duration": 87,
    "start_time": "2023-09-16T12:54:56.202Z"
   },
   {
    "duration": 10,
    "start_time": "2023-09-16T12:54:56.294Z"
   },
   {
    "duration": 23,
    "start_time": "2023-09-16T12:54:56.305Z"
   },
   {
    "duration": 305,
    "start_time": "2023-09-16T12:54:56.329Z"
   },
   {
    "duration": 192,
    "start_time": "2023-09-16T12:54:56.636Z"
   },
   {
    "duration": 209,
    "start_time": "2023-09-16T12:54:56.829Z"
   },
   {
    "duration": 18,
    "start_time": "2023-09-16T12:54:57.039Z"
   },
   {
    "duration": 10,
    "start_time": "2023-09-16T12:54:57.059Z"
   },
   {
    "duration": 25,
    "start_time": "2023-09-16T12:54:57.071Z"
   },
   {
    "duration": 13,
    "start_time": "2023-09-16T12:54:57.098Z"
   },
   {
    "duration": 14,
    "start_time": "2023-09-16T12:54:57.112Z"
   },
   {
    "duration": 27,
    "start_time": "2023-09-16T12:54:57.127Z"
   },
   {
    "duration": 178,
    "start_time": "2023-09-16T12:54:57.159Z"
   },
   {
    "duration": 24,
    "start_time": "2023-09-16T12:54:57.338Z"
   },
   {
    "duration": 12,
    "start_time": "2023-09-16T12:54:57.368Z"
   },
   {
    "duration": 6,
    "start_time": "2023-09-16T12:54:57.381Z"
   },
   {
    "duration": 130,
    "start_time": "2023-09-16T12:54:57.389Z"
   },
   {
    "duration": 5,
    "start_time": "2023-09-16T12:54:57.520Z"
   },
   {
    "duration": 5,
    "start_time": "2023-09-16T12:54:57.526Z"
   },
   {
    "duration": 33,
    "start_time": "2023-09-16T12:54:57.532Z"
   },
   {
    "duration": 19,
    "start_time": "2023-09-16T12:54:57.567Z"
   },
   {
    "duration": 9,
    "start_time": "2023-09-16T12:54:57.587Z"
   },
   {
    "duration": 14,
    "start_time": "2023-09-16T12:54:57.598Z"
   },
   {
    "duration": 50,
    "start_time": "2023-09-16T12:54:57.613Z"
   },
   {
    "duration": 376,
    "start_time": "2023-09-16T12:54:57.665Z"
   },
   {
    "duration": 401,
    "start_time": "2023-09-16T12:54:58.042Z"
   },
   {
    "duration": 12,
    "start_time": "2023-09-16T12:54:58.450Z"
   },
   {
    "duration": 42,
    "start_time": "2023-09-16T12:54:58.464Z"
   },
   {
    "duration": 5,
    "start_time": "2023-09-16T12:54:58.508Z"
   },
   {
    "duration": 960,
    "start_time": "2023-09-16T12:54:58.515Z"
   },
   {
    "duration": 7,
    "start_time": "2023-09-16T12:54:59.476Z"
   },
   {
    "duration": 6,
    "start_time": "2023-09-16T12:54:59.484Z"
   },
   {
    "duration": 6,
    "start_time": "2023-09-16T12:54:59.492Z"
   },
   {
    "duration": 6,
    "start_time": "2023-09-16T12:54:59.500Z"
   },
   {
    "duration": 18,
    "start_time": "2023-09-16T12:54:59.507Z"
   },
   {
    "duration": 15,
    "start_time": "2023-09-16T12:54:59.554Z"
   },
   {
    "duration": 18,
    "start_time": "2023-09-16T12:54:59.571Z"
   },
   {
    "duration": 4,
    "start_time": "2023-09-16T12:54:59.591Z"
   },
   {
    "duration": 5,
    "start_time": "2023-09-16T12:54:59.596Z"
   },
   {
    "duration": 22,
    "start_time": "2023-09-16T12:54:59.603Z"
   },
   {
    "duration": 26,
    "start_time": "2023-09-16T12:54:59.626Z"
   },
   {
    "duration": 184,
    "start_time": "2023-09-16T12:54:59.656Z"
   },
   {
    "duration": 11,
    "start_time": "2023-09-16T12:54:59.841Z"
   },
   {
    "duration": 21,
    "start_time": "2023-09-16T12:54:59.856Z"
   },
   {
    "duration": 8,
    "start_time": "2023-09-16T12:54:59.879Z"
   },
   {
    "duration": 9041,
    "start_time": "2023-09-16T12:54:59.888Z"
   },
   {
    "duration": 5,
    "start_time": "2023-09-16T12:55:08.930Z"
   },
   {
    "duration": 27,
    "start_time": "2023-09-16T12:55:08.936Z"
   },
   {
    "duration": 28,
    "start_time": "2023-09-16T12:55:08.966Z"
   },
   {
    "duration": 26,
    "start_time": "2023-09-16T12:55:08.995Z"
   },
   {
    "duration": 22,
    "start_time": "2023-09-16T12:55:09.023Z"
   },
   {
    "duration": 178,
    "start_time": "2023-09-16T12:55:09.046Z"
   },
   {
    "duration": 1197,
    "start_time": "2023-09-16T15:55:25.025Z"
   },
   {
    "duration": 67,
    "start_time": "2023-09-16T15:55:26.224Z"
   },
   {
    "duration": 10,
    "start_time": "2023-09-16T15:55:26.293Z"
   },
   {
    "duration": 14,
    "start_time": "2023-09-16T15:55:26.305Z"
   },
   {
    "duration": 14,
    "start_time": "2023-09-16T15:55:26.321Z"
   },
   {
    "duration": 168,
    "start_time": "2023-09-16T15:55:26.337Z"
   },
   {
    "duration": 7,
    "start_time": "2023-09-16T15:55:26.507Z"
   },
   {
    "duration": 11,
    "start_time": "2023-09-16T15:55:26.516Z"
   },
   {
    "duration": 25,
    "start_time": "2023-09-16T15:55:26.529Z"
   },
   {
    "duration": 369,
    "start_time": "2023-09-16T15:55:26.556Z"
   },
   {
    "duration": 6,
    "start_time": "2023-09-16T15:55:26.927Z"
   },
   {
    "duration": 35,
    "start_time": "2023-09-16T15:55:26.934Z"
   },
   {
    "duration": 7,
    "start_time": "2023-09-16T15:55:26.971Z"
   },
   {
    "duration": 6,
    "start_time": "2023-09-16T15:55:26.980Z"
   },
   {
    "duration": 29,
    "start_time": "2023-09-16T15:55:26.988Z"
   },
   {
    "duration": 8,
    "start_time": "2023-09-16T15:55:27.018Z"
   },
   {
    "duration": 4,
    "start_time": "2023-09-16T15:55:27.028Z"
   },
   {
    "duration": 7,
    "start_time": "2023-09-16T15:55:27.034Z"
   },
   {
    "duration": 3,
    "start_time": "2023-09-16T15:55:27.042Z"
   },
   {
    "duration": 19,
    "start_time": "2023-09-16T15:55:27.046Z"
   },
   {
    "duration": 19,
    "start_time": "2023-09-16T15:55:27.067Z"
   },
   {
    "duration": 4,
    "start_time": "2023-09-16T15:55:27.087Z"
   },
   {
    "duration": 8,
    "start_time": "2023-09-16T15:55:27.092Z"
   },
   {
    "duration": 18,
    "start_time": "2023-09-16T15:55:27.101Z"
   },
   {
    "duration": 4,
    "start_time": "2023-09-16T15:55:27.121Z"
   },
   {
    "duration": 143,
    "start_time": "2023-09-16T15:55:27.127Z"
   },
   {
    "duration": 66,
    "start_time": "2023-09-16T15:55:27.271Z"
   },
   {
    "duration": 7,
    "start_time": "2023-09-16T15:55:27.349Z"
   },
   {
    "duration": 12,
    "start_time": "2023-09-16T15:55:27.358Z"
   },
   {
    "duration": 245,
    "start_time": "2023-09-16T15:55:27.372Z"
   },
   {
    "duration": 173,
    "start_time": "2023-09-16T15:55:27.619Z"
   },
   {
    "duration": 174,
    "start_time": "2023-09-16T15:55:27.794Z"
   },
   {
    "duration": 8,
    "start_time": "2023-09-16T15:55:27.970Z"
   },
   {
    "duration": 7,
    "start_time": "2023-09-16T15:55:27.979Z"
   },
   {
    "duration": 14,
    "start_time": "2023-09-16T15:55:27.987Z"
   },
   {
    "duration": 9,
    "start_time": "2023-09-16T15:55:28.002Z"
   },
   {
    "duration": 39,
    "start_time": "2023-09-16T15:55:28.013Z"
   },
   {
    "duration": 6,
    "start_time": "2023-09-16T15:55:28.053Z"
   },
   {
    "duration": 175,
    "start_time": "2023-09-16T15:55:28.060Z"
   },
   {
    "duration": 14,
    "start_time": "2023-09-16T15:55:28.236Z"
   },
   {
    "duration": 12,
    "start_time": "2023-09-16T15:55:28.251Z"
   },
   {
    "duration": 6,
    "start_time": "2023-09-16T15:55:28.264Z"
   },
   {
    "duration": 124,
    "start_time": "2023-09-16T15:55:28.271Z"
   },
   {
    "duration": 5,
    "start_time": "2023-09-16T15:55:28.396Z"
   },
   {
    "duration": 11,
    "start_time": "2023-09-16T15:55:28.402Z"
   },
   {
    "duration": 25,
    "start_time": "2023-09-16T15:55:28.414Z"
   },
   {
    "duration": 26,
    "start_time": "2023-09-16T15:55:28.440Z"
   },
   {
    "duration": 10,
    "start_time": "2023-09-16T15:55:28.467Z"
   },
   {
    "duration": 15,
    "start_time": "2023-09-16T15:55:28.478Z"
   },
   {
    "duration": 14,
    "start_time": "2023-09-16T15:55:28.494Z"
   },
   {
    "duration": 343,
    "start_time": "2023-09-16T15:55:28.510Z"
   },
   {
    "duration": 378,
    "start_time": "2023-09-16T15:55:28.855Z"
   },
   {
    "duration": 7,
    "start_time": "2023-09-16T15:55:29.235Z"
   },
   {
    "duration": 29,
    "start_time": "2023-09-16T15:55:29.249Z"
   },
   {
    "duration": 4,
    "start_time": "2023-09-16T15:55:29.280Z"
   },
   {
    "duration": 852,
    "start_time": "2023-09-16T15:55:29.286Z"
   },
   {
    "duration": 7,
    "start_time": "2023-09-16T15:55:30.139Z"
   },
   {
    "duration": 37,
    "start_time": "2023-09-16T15:55:30.149Z"
   },
   {
    "duration": 53,
    "start_time": "2023-09-16T15:55:30.188Z"
   },
   {
    "duration": 50,
    "start_time": "2023-09-16T15:55:30.243Z"
   },
   {
    "duration": 65,
    "start_time": "2023-09-16T15:55:30.295Z"
   },
   {
    "duration": 106,
    "start_time": "2023-09-16T15:55:30.362Z"
   },
   {
    "duration": 66,
    "start_time": "2023-09-16T15:55:30.470Z"
   },
   {
    "duration": 62,
    "start_time": "2023-09-16T15:55:30.538Z"
   },
   {
    "duration": 55,
    "start_time": "2023-09-16T15:55:30.601Z"
   },
   {
    "duration": 29,
    "start_time": "2023-09-16T15:55:30.657Z"
   },
   {
    "duration": 67,
    "start_time": "2023-09-16T15:55:30.688Z"
   },
   {
    "duration": 245,
    "start_time": "2023-09-16T15:55:30.756Z"
   },
   {
    "duration": 5,
    "start_time": "2023-09-16T15:55:31.003Z"
   },
   {
    "duration": 45,
    "start_time": "2023-09-16T15:55:31.010Z"
   },
   {
    "duration": 43,
    "start_time": "2023-09-16T15:55:31.057Z"
   },
   {
    "duration": 7839,
    "start_time": "2023-09-16T15:55:31.102Z"
   },
   {
    "duration": 8,
    "start_time": "2023-09-16T15:55:38.942Z"
   },
   {
    "duration": 17,
    "start_time": "2023-09-16T15:55:38.951Z"
   },
   {
    "duration": 14,
    "start_time": "2023-09-16T15:55:38.969Z"
   },
   {
    "duration": 8,
    "start_time": "2023-09-16T15:55:38.984Z"
   },
   {
    "duration": 5,
    "start_time": "2023-09-16T15:55:38.993Z"
   },
   {
    "duration": 150,
    "start_time": "2023-09-16T15:55:38.999Z"
   },
   {
    "duration": 91,
    "start_time": "2023-09-16T15:57:59.194Z"
   },
   {
    "duration": 7,
    "start_time": "2023-09-16T15:58:06.110Z"
   }
  ],
  "kernelspec": {
   "display_name": "Python 3 (ipykernel)",
   "language": "python",
   "name": "python3"
  },
  "language_info": {
   "codemirror_mode": {
    "name": "ipython",
    "version": 3
   },
   "file_extension": ".py",
   "mimetype": "text/x-python",
   "name": "python",
   "nbconvert_exporter": "python",
   "pygments_lexer": "ipython3",
   "version": "3.9.5"
  },
  "toc": {
   "base_numbering": 1,
   "nav_menu": {},
   "number_sections": true,
   "sideBar": true,
   "skip_h1_title": true,
   "title_cell": "Table of Contents",
   "title_sidebar": "Contents",
   "toc_cell": false,
   "toc_position": {},
   "toc_section_display": true,
   "toc_window_display": false
  }
 },
 "nbformat": 4,
 "nbformat_minor": 5
}
