{
 "cells": [
  {
   "cell_type": "markdown",
   "metadata": {},
   "source": [
    "# Определение стоимости автомобилей\n",
    "\n",
    "Сервис по продаже автомобилей с пробегом «Не бит, не крашен» разрабатывает приложение, чтобы привлечь новых клиентов. В нём можно будет узнать рыночную стоимость своего автомобиля. \n",
    "\n",
    "**Цель проекта** - построить модель, которая умеет предсказывать рыночную стоимость автомобиля. \n",
    "\n",
    "Предсказание будет основано на данных предоставленных заказчиком - технических характеристиках, комплектации и ценах других автомобилей.\n",
    "\n",
    "Критерии для выбора модели прогнозирования, основанные на запросах заказчика:\n",
    "- качество предсказания - значение метрики RMSE должно быть меньше 2500 ;\n",
    "- время обучения модели;\n",
    "- время предсказания модели.\n",
    "\n",
    "Для исследования предоставлена таблица `autos.csv` с данными об автомобилях из объявлений сервиса.\n",
    "\n",
    "Этапы исследования:\n",
    "1. Обзор данных\n",
    "2. Предобработка данных\n",
    "3. Разведочный анализ данных\n",
    "4. Подбор модели и прогнозирование\n",
    "5. Интерпретация результатов и выводы"
   ]
  },
  {
   "cell_type": "markdown",
   "metadata": {},
   "source": [
    "## 1. Обзор данных \n",
    "\n",
    "Импортируем библиотеки, скачаем данные и посмотрим их и оценим соответствуют ли они задаче. "
   ]
  },
  {
   "cell_type": "code",
   "execution_count": 1,
   "metadata": {},
   "outputs": [],
   "source": [
    "! pip install phik -q\n",
    "! pip install Levenshtein -q\n",
    "! pip install -U scikit-learn -q"
   ]
  },
  {
   "cell_type": "code",
   "execution_count": 2,
   "metadata": {},
   "outputs": [],
   "source": [
    "import os\n",
    "import pandas as pd\n",
    "import seaborn as sns\n",
    "import numpy as np \n",
    "import matplotlib.pyplot as plt\n",
    "\n",
    "from sklearn.linear_model import LinearRegression, Ridge, Lasso, ElasticNet\n",
    "from sklearn.model_selection import train_test_split\n",
    "from sklearn.preprocessing import OneHotEncoder , StandardScaler, OrdinalEncoder\n",
    "from sklearn.metrics import (mean_absolute_error, mean_squared_error , r2_score, recall_score, accuracy_score, precision_score, confusion_matrix, \n",
    "roc_auc_score, f1_score, make_scorer)\n",
    "from sklearn.pipeline import Pipeline\n",
    "from sklearn.compose import ColumnTransformer\n",
    "from sklearn.impute import SimpleImputer\n",
    "from sklearn.tree import DecisionTreeRegressor\n",
    "from sklearn.model_selection import RandomizedSearchCV, cross_val_score\n",
    "import lightgbm as lgb\n",
    "\n",
    "import phik\n",
    "from Levenshtein import distance \n",
    "from datetime import date\n",
    "\n",
    "RANDOM_STATE = 42\n",
    "sns.set_palette(\"pastel\")"
   ]
  },
  {
   "cell_type": "code",
   "execution_count": 3,
   "metadata": {},
   "outputs": [],
   "source": [
    "if os.path.exists('../Downloads/autos.csv'):\n",
    "    autos = pd.read_csv('../Downloads/autos.csv')\n",
    "elif os.path.exists('/datasets/autos.csv'):\n",
    "    autos = pd.read_csv('/datasets/autos.csv')\n",
    "else:\n",
    "    print('Something is wrong')"
   ]
  },
  {
   "cell_type": "code",
   "execution_count": 4,
   "metadata": {},
   "outputs": [
    {
     "data": {
      "text/html": [
       "<div>\n",
       "<style scoped>\n",
       "    .dataframe tbody tr th:only-of-type {\n",
       "        vertical-align: middle;\n",
       "    }\n",
       "\n",
       "    .dataframe tbody tr th {\n",
       "        vertical-align: top;\n",
       "    }\n",
       "\n",
       "    .dataframe thead th {\n",
       "        text-align: right;\n",
       "    }\n",
       "</style>\n",
       "<table border=\"1\" class=\"dataframe\">\n",
       "  <thead>\n",
       "    <tr style=\"text-align: right;\">\n",
       "      <th></th>\n",
       "      <th>DateCrawled</th>\n",
       "      <th>Price</th>\n",
       "      <th>VehicleType</th>\n",
       "      <th>RegistrationYear</th>\n",
       "      <th>Gearbox</th>\n",
       "      <th>Power</th>\n",
       "      <th>Model</th>\n",
       "      <th>Kilometer</th>\n",
       "      <th>RegistrationMonth</th>\n",
       "      <th>FuelType</th>\n",
       "      <th>Brand</th>\n",
       "      <th>Repaired</th>\n",
       "      <th>DateCreated</th>\n",
       "      <th>NumberOfPictures</th>\n",
       "      <th>PostalCode</th>\n",
       "      <th>LastSeen</th>\n",
       "    </tr>\n",
       "  </thead>\n",
       "  <tbody>\n",
       "    <tr>\n",
       "      <th>148491</th>\n",
       "      <td>2016-03-22 11:48:24</td>\n",
       "      <td>2300</td>\n",
       "      <td>wagon</td>\n",
       "      <td>1988</td>\n",
       "      <td>auto</td>\n",
       "      <td>0</td>\n",
       "      <td>3er</td>\n",
       "      <td>90000</td>\n",
       "      <td>7</td>\n",
       "      <td>petrol</td>\n",
       "      <td>bmw</td>\n",
       "      <td>NaN</td>\n",
       "      <td>2016-03-22 00:00:00</td>\n",
       "      <td>0</td>\n",
       "      <td>86316</td>\n",
       "      <td>2016-03-26 12:45:03</td>\n",
       "    </tr>\n",
       "    <tr>\n",
       "      <th>70534</th>\n",
       "      <td>2016-03-18 22:46:29</td>\n",
       "      <td>0</td>\n",
       "      <td>small</td>\n",
       "      <td>2002</td>\n",
       "      <td>auto</td>\n",
       "      <td>41</td>\n",
       "      <td>fortwo</td>\n",
       "      <td>150000</td>\n",
       "      <td>8</td>\n",
       "      <td>gasoline</td>\n",
       "      <td>smart</td>\n",
       "      <td>no</td>\n",
       "      <td>2016-03-18 00:00:00</td>\n",
       "      <td>0</td>\n",
       "      <td>28816</td>\n",
       "      <td>2016-03-26 11:46:51</td>\n",
       "    </tr>\n",
       "    <tr>\n",
       "      <th>349107</th>\n",
       "      <td>2016-03-08 21:56:46</td>\n",
       "      <td>1399</td>\n",
       "      <td>sedan</td>\n",
       "      <td>1998</td>\n",
       "      <td>manual</td>\n",
       "      <td>75</td>\n",
       "      <td>golf</td>\n",
       "      <td>150000</td>\n",
       "      <td>10</td>\n",
       "      <td>petrol</td>\n",
       "      <td>volkswagen</td>\n",
       "      <td>NaN</td>\n",
       "      <td>2016-03-08 00:00:00</td>\n",
       "      <td>0</td>\n",
       "      <td>24537</td>\n",
       "      <td>2016-03-12 13:45:42</td>\n",
       "    </tr>\n",
       "    <tr>\n",
       "      <th>226691</th>\n",
       "      <td>2016-03-12 10:55:12</td>\n",
       "      <td>14500</td>\n",
       "      <td>sedan</td>\n",
       "      <td>2007</td>\n",
       "      <td>manual</td>\n",
       "      <td>177</td>\n",
       "      <td>5er</td>\n",
       "      <td>150000</td>\n",
       "      <td>12</td>\n",
       "      <td>gasoline</td>\n",
       "      <td>bmw</td>\n",
       "      <td>no</td>\n",
       "      <td>2016-03-12 00:00:00</td>\n",
       "      <td>0</td>\n",
       "      <td>30539</td>\n",
       "      <td>2016-04-06 02:46:45</td>\n",
       "    </tr>\n",
       "    <tr>\n",
       "      <th>2925</th>\n",
       "      <td>2016-04-01 12:49:00</td>\n",
       "      <td>11300</td>\n",
       "      <td>wagon</td>\n",
       "      <td>2010</td>\n",
       "      <td>auto</td>\n",
       "      <td>160</td>\n",
       "      <td>a4</td>\n",
       "      <td>150000</td>\n",
       "      <td>12</td>\n",
       "      <td>petrol</td>\n",
       "      <td>audi</td>\n",
       "      <td>no</td>\n",
       "      <td>2016-04-01 00:00:00</td>\n",
       "      <td>0</td>\n",
       "      <td>47475</td>\n",
       "      <td>2016-04-07 09:17:47</td>\n",
       "    </tr>\n",
       "  </tbody>\n",
       "</table>\n",
       "</div>"
      ],
      "text/plain": [
       "                DateCrawled  Price VehicleType  RegistrationYear Gearbox  \\\n",
       "148491  2016-03-22 11:48:24   2300       wagon              1988    auto   \n",
       "70534   2016-03-18 22:46:29      0       small              2002    auto   \n",
       "349107  2016-03-08 21:56:46   1399       sedan              1998  manual   \n",
       "226691  2016-03-12 10:55:12  14500       sedan              2007  manual   \n",
       "2925    2016-04-01 12:49:00  11300       wagon              2010    auto   \n",
       "\n",
       "        Power   Model  Kilometer  RegistrationMonth  FuelType       Brand  \\\n",
       "148491      0     3er      90000                  7    petrol         bmw   \n",
       "70534      41  fortwo     150000                  8  gasoline       smart   \n",
       "349107     75    golf     150000                 10    petrol  volkswagen   \n",
       "226691    177     5er     150000                 12  gasoline         bmw   \n",
       "2925      160      a4     150000                 12    petrol        audi   \n",
       "\n",
       "       Repaired          DateCreated  NumberOfPictures  PostalCode  \\\n",
       "148491      NaN  2016-03-22 00:00:00                 0       86316   \n",
       "70534        no  2016-03-18 00:00:00                 0       28816   \n",
       "349107      NaN  2016-03-08 00:00:00                 0       24537   \n",
       "226691       no  2016-03-12 00:00:00                 0       30539   \n",
       "2925         no  2016-04-01 00:00:00                 0       47475   \n",
       "\n",
       "                   LastSeen  \n",
       "148491  2016-03-26 12:45:03  \n",
       "70534   2016-03-26 11:46:51  \n",
       "349107  2016-03-12 13:45:42  \n",
       "226691  2016-04-06 02:46:45  \n",
       "2925    2016-04-07 09:17:47  "
      ]
     },
     "execution_count": 4,
     "metadata": {},
     "output_type": "execute_result"
    }
   ],
   "source": [
    "autos.sample(5)"
   ]
  },
  {
   "cell_type": "code",
   "execution_count": 5,
   "metadata": {},
   "outputs": [
    {
     "name": "stdout",
     "output_type": "stream",
     "text": [
      "<class 'pandas.core.frame.DataFrame'>\n",
      "RangeIndex: 354369 entries, 0 to 354368\n",
      "Data columns (total 16 columns):\n",
      " #   Column             Non-Null Count   Dtype \n",
      "---  ------             --------------   ----- \n",
      " 0   DateCrawled        354369 non-null  object\n",
      " 1   Price              354369 non-null  int64 \n",
      " 2   VehicleType        316879 non-null  object\n",
      " 3   RegistrationYear   354369 non-null  int64 \n",
      " 4   Gearbox            334536 non-null  object\n",
      " 5   Power              354369 non-null  int64 \n",
      " 6   Model              334664 non-null  object\n",
      " 7   Kilometer          354369 non-null  int64 \n",
      " 8   RegistrationMonth  354369 non-null  int64 \n",
      " 9   FuelType           321474 non-null  object\n",
      " 10  Brand              354369 non-null  object\n",
      " 11  Repaired           283215 non-null  object\n",
      " 12  DateCreated        354369 non-null  object\n",
      " 13  NumberOfPictures   354369 non-null  int64 \n",
      " 14  PostalCode         354369 non-null  int64 \n",
      " 15  LastSeen           354369 non-null  object\n",
      "dtypes: int64(7), object(9)\n",
      "memory usage: 43.3+ MB\n"
     ]
    }
   ],
   "source": [
    "autos.info()"
   ]
  },
  {
   "cell_type": "markdown",
   "metadata": {},
   "source": [
    "В таблице 16 параметров и 354369 записей. Семь признаков относятся к целочисленному типу данных. Три признака - даты, остальные - категориальные данные.\n",
    "\n",
    "В колонках `VehicleType`, ` Gearbox`, `Model`, `FuelType`, `Repaired`  есть пропуски."
   ]
  },
  {
   "cell_type": "code",
   "execution_count": 6,
   "metadata": {},
   "outputs": [
    {
     "data": {
      "text/html": [
       "<div>\n",
       "<style scoped>\n",
       "    .dataframe tbody tr th:only-of-type {\n",
       "        vertical-align: middle;\n",
       "    }\n",
       "\n",
       "    .dataframe tbody tr th {\n",
       "        vertical-align: top;\n",
       "    }\n",
       "\n",
       "    .dataframe thead th {\n",
       "        text-align: right;\n",
       "    }\n",
       "</style>\n",
       "<table border=\"1\" class=\"dataframe\">\n",
       "  <thead>\n",
       "    <tr style=\"text-align: right;\">\n",
       "      <th></th>\n",
       "      <th>Price</th>\n",
       "      <th>RegistrationYear</th>\n",
       "      <th>Power</th>\n",
       "      <th>Kilometer</th>\n",
       "      <th>RegistrationMonth</th>\n",
       "      <th>NumberOfPictures</th>\n",
       "      <th>PostalCode</th>\n",
       "    </tr>\n",
       "  </thead>\n",
       "  <tbody>\n",
       "    <tr>\n",
       "      <th>count</th>\n",
       "      <td>354369.000000</td>\n",
       "      <td>354369.000000</td>\n",
       "      <td>354369.000000</td>\n",
       "      <td>354369.000000</td>\n",
       "      <td>354369.000000</td>\n",
       "      <td>354369.0</td>\n",
       "      <td>354369.000000</td>\n",
       "    </tr>\n",
       "    <tr>\n",
       "      <th>mean</th>\n",
       "      <td>4416.656776</td>\n",
       "      <td>2004.234448</td>\n",
       "      <td>110.094337</td>\n",
       "      <td>128211.172535</td>\n",
       "      <td>5.714645</td>\n",
       "      <td>0.0</td>\n",
       "      <td>50508.689087</td>\n",
       "    </tr>\n",
       "    <tr>\n",
       "      <th>std</th>\n",
       "      <td>4514.158514</td>\n",
       "      <td>90.227958</td>\n",
       "      <td>189.850405</td>\n",
       "      <td>37905.341530</td>\n",
       "      <td>3.726421</td>\n",
       "      <td>0.0</td>\n",
       "      <td>25783.096248</td>\n",
       "    </tr>\n",
       "    <tr>\n",
       "      <th>min</th>\n",
       "      <td>0.000000</td>\n",
       "      <td>1000.000000</td>\n",
       "      <td>0.000000</td>\n",
       "      <td>5000.000000</td>\n",
       "      <td>0.000000</td>\n",
       "      <td>0.0</td>\n",
       "      <td>1067.000000</td>\n",
       "    </tr>\n",
       "    <tr>\n",
       "      <th>25%</th>\n",
       "      <td>1050.000000</td>\n",
       "      <td>1999.000000</td>\n",
       "      <td>69.000000</td>\n",
       "      <td>125000.000000</td>\n",
       "      <td>3.000000</td>\n",
       "      <td>0.0</td>\n",
       "      <td>30165.000000</td>\n",
       "    </tr>\n",
       "    <tr>\n",
       "      <th>50%</th>\n",
       "      <td>2700.000000</td>\n",
       "      <td>2003.000000</td>\n",
       "      <td>105.000000</td>\n",
       "      <td>150000.000000</td>\n",
       "      <td>6.000000</td>\n",
       "      <td>0.0</td>\n",
       "      <td>49413.000000</td>\n",
       "    </tr>\n",
       "    <tr>\n",
       "      <th>75%</th>\n",
       "      <td>6400.000000</td>\n",
       "      <td>2008.000000</td>\n",
       "      <td>143.000000</td>\n",
       "      <td>150000.000000</td>\n",
       "      <td>9.000000</td>\n",
       "      <td>0.0</td>\n",
       "      <td>71083.000000</td>\n",
       "    </tr>\n",
       "    <tr>\n",
       "      <th>max</th>\n",
       "      <td>20000.000000</td>\n",
       "      <td>9999.000000</td>\n",
       "      <td>20000.000000</td>\n",
       "      <td>150000.000000</td>\n",
       "      <td>12.000000</td>\n",
       "      <td>0.0</td>\n",
       "      <td>99998.000000</td>\n",
       "    </tr>\n",
       "  </tbody>\n",
       "</table>\n",
       "</div>"
      ],
      "text/plain": [
       "               Price  RegistrationYear          Power      Kilometer  \\\n",
       "count  354369.000000     354369.000000  354369.000000  354369.000000   \n",
       "mean     4416.656776       2004.234448     110.094337  128211.172535   \n",
       "std      4514.158514         90.227958     189.850405   37905.341530   \n",
       "min         0.000000       1000.000000       0.000000    5000.000000   \n",
       "25%      1050.000000       1999.000000      69.000000  125000.000000   \n",
       "50%      2700.000000       2003.000000     105.000000  150000.000000   \n",
       "75%      6400.000000       2008.000000     143.000000  150000.000000   \n",
       "max     20000.000000       9999.000000   20000.000000  150000.000000   \n",
       "\n",
       "       RegistrationMonth  NumberOfPictures     PostalCode  \n",
       "count      354369.000000          354369.0  354369.000000  \n",
       "mean            5.714645               0.0   50508.689087  \n",
       "std             3.726421               0.0   25783.096248  \n",
       "min             0.000000               0.0    1067.000000  \n",
       "25%             3.000000               0.0   30165.000000  \n",
       "50%             6.000000               0.0   49413.000000  \n",
       "75%             9.000000               0.0   71083.000000  \n",
       "max            12.000000               0.0   99998.000000  "
      ]
     },
     "execution_count": 6,
     "metadata": {},
     "output_type": "execute_result"
    }
   ],
   "source": [
    "autos.describe()"
   ]
  },
  {
   "cell_type": "markdown",
   "metadata": {},
   "source": [
    "В колонке `NumberOfPictures` все данные имеют одинаковое значение - 0. То есть ни для одного объявления нет фото автомобиля. Этот признак неинформативен для исследования."
   ]
  },
  {
   "cell_type": "code",
   "execution_count": 7,
   "metadata": {},
   "outputs": [
    {
     "data": {
      "text/plain": [
       "0    354369\n",
       "Name: NumberOfPictures, dtype: int64"
      ]
     },
     "execution_count": 7,
     "metadata": {},
     "output_type": "execute_result"
    }
   ],
   "source": [
    "autos.NumberOfPictures.value_counts()"
   ]
  },
  {
   "cell_type": "code",
   "execution_count": 8,
   "metadata": {},
   "outputs": [],
   "source": [
    "autos = autos.drop(\"NumberOfPictures\", axis =1)"
   ]
  },
  {
   "cell_type": "markdown",
   "metadata": {},
   "source": [
    "### Вывод\n",
    "1. В таблице `autos.csv` 16 параметров и 354369 записей. Данные соответствуют описанию задачи.\n",
    "Характеристики, представленные в таблице:\n",
    "\n",
    "- `DateCrawled` — дата скачивания анкеты из базы;\n",
    "- `VehicleType` — тип автомобильного кузова;\n",
    "- `RegistrationYear` — год регистрации автомобиля;\n",
    "- `Gearbox` — тип коробки передач;\n",
    "- `Power` —  мощность (л. с.);\n",
    "- `Model` — модель автомобиля;\n",
    "- `Kilometer` — пробег (км);\n",
    "- `RegistrationMonth` — месяц регистрации автомобиля;\n",
    "- `FuelType` — тип топлива;\n",
    "- `Brand` — марка автомобиля;\n",
    "- `Repaired` — была машина в ремонте или нет;\n",
    "- `DateCreated` — дата создания анкеты;\n",
    "- `NumberOfPictures` — количество фотографий автомобиля;\n",
    "- `PostalCode` — почтовый индекс владельца анкеты (пользователя);\n",
    "- `LastSeen` — дата последней активности пользователя;\n",
    "- `Price` - стоимость автомобиля в евро, целевой признак\n",
    "\n",
    "2. В пяти колонках таблицы есть пропуски. \n",
    "3. `NumberOfPictures` неинформативный признак , т.к. среди представленных для анализа данных он не изменяется - для всех записей значение 0. Его удалили.\n",
    "4. В колонке с годом регистрации есть аномальные невозможные значения (9999Б 1000 и другие), с ними разберемся на этапе EDA."
   ]
  },
  {
   "cell_type": "markdown",
   "metadata": {},
   "source": [
    "## 2. Предобработка данных\n",
    "\n",
    "### 2.1 Пропуски\n"
   ]
  },
  {
   "cell_type": "code",
   "execution_count": 9,
   "metadata": {},
   "outputs": [
    {
     "data": {
      "text/plain": [
       "DateCrawled              0\n",
       "Price                    0\n",
       "VehicleType          37490\n",
       "RegistrationYear         0\n",
       "Gearbox              19833\n",
       "Power                    0\n",
       "Model                19705\n",
       "Kilometer                0\n",
       "RegistrationMonth        0\n",
       "FuelType             32895\n",
       "Brand                    0\n",
       "Repaired             71154\n",
       "DateCreated              0\n",
       "PostalCode               0\n",
       "LastSeen                 0\n",
       "dtype: int64"
      ]
     },
     "execution_count": 9,
     "metadata": {},
     "output_type": "execute_result"
    }
   ],
   "source": [
    "autos.isna().sum()"
   ]
  },
  {
   "cell_type": "markdown",
   "metadata": {},
   "source": [
    "**Model**\n",
    "\n",
    "заполнить какими-либо контретными данными эти пропуски невозможно. Создадим для них категорию - `unknown`."
   ]
  },
  {
   "cell_type": "code",
   "execution_count": 10,
   "metadata": {},
   "outputs": [
    {
     "data": {
      "text/plain": [
       "golf        29232\n",
       "other       24421\n",
       "3er         19761\n",
       "polo        13066\n",
       "corsa       12570\n",
       "astra       10809\n",
       "passat      10146\n",
       "a4           9900\n",
       "c_klasse     8312\n",
       "5er          7868\n",
       "e_klasse     6785\n",
       "a3           6122\n",
       "focus        5874\n",
       "fiesta       5774\n",
       "a6           5541\n",
       "Name: Model, dtype: int64"
      ]
     },
     "execution_count": 10,
     "metadata": {},
     "output_type": "execute_result"
    }
   ],
   "source": [
    "autos.Model.value_counts().head(15)"
   ]
  },
  {
   "cell_type": "code",
   "execution_count": 11,
   "metadata": {},
   "outputs": [],
   "source": [
    "autos.Model = autos.Model.fillna('unknown')"
   ]
  },
  {
   "cell_type": "markdown",
   "metadata": {},
   "source": [
    "**VehicleType**"
   ]
  },
  {
   "cell_type": "code",
   "execution_count": 12,
   "metadata": {},
   "outputs": [
    {
     "data": {
      "text/plain": [
       "sedan          91457\n",
       "small          79831\n",
       "wagon          65166\n",
       "bus            28775\n",
       "convertible    20203\n",
       "coupe          16163\n",
       "suv            11996\n",
       "other           3288\n",
       "Name: VehicleType, dtype: int64"
      ]
     },
     "execution_count": 12,
     "metadata": {},
     "output_type": "execute_result"
    }
   ],
   "source": [
    "autos.VehicleType.value_counts()        \n"
   ]
  },
  {
   "cell_type": "markdown",
   "metadata": {},
   "source": [
    "Среди типов кузова - седан, small (что-то вроде хетчбэк, предполагаю), фургон, автобус, кабриолет, купе, внедорожник и группа определенных как другие."
   ]
  },
  {
   "cell_type": "code",
   "execution_count": 13,
   "metadata": {},
   "outputs": [
    {
     "data": {
      "text/html": [
       "<div>\n",
       "<style scoped>\n",
       "    .dataframe tbody tr th:only-of-type {\n",
       "        vertical-align: middle;\n",
       "    }\n",
       "\n",
       "    .dataframe tbody tr th {\n",
       "        vertical-align: top;\n",
       "    }\n",
       "\n",
       "    .dataframe thead th {\n",
       "        text-align: right;\n",
       "    }\n",
       "</style>\n",
       "<table border=\"1\" class=\"dataframe\">\n",
       "  <thead>\n",
       "    <tr style=\"text-align: right;\">\n",
       "      <th></th>\n",
       "      <th>DateCrawled</th>\n",
       "      <th>Price</th>\n",
       "      <th>VehicleType</th>\n",
       "      <th>RegistrationYear</th>\n",
       "      <th>Gearbox</th>\n",
       "      <th>Power</th>\n",
       "      <th>Model</th>\n",
       "      <th>Kilometer</th>\n",
       "      <th>RegistrationMonth</th>\n",
       "      <th>FuelType</th>\n",
       "      <th>Brand</th>\n",
       "      <th>Repaired</th>\n",
       "      <th>DateCreated</th>\n",
       "      <th>PostalCode</th>\n",
       "      <th>LastSeen</th>\n",
       "    </tr>\n",
       "  </thead>\n",
       "  <tbody>\n",
       "    <tr>\n",
       "      <th>12596</th>\n",
       "      <td>2016-03-29 16:50:59</td>\n",
       "      <td>400</td>\n",
       "      <td>NaN</td>\n",
       "      <td>2016</td>\n",
       "      <td>manual</td>\n",
       "      <td>0</td>\n",
       "      <td>ibiza</td>\n",
       "      <td>150000</td>\n",
       "      <td>5</td>\n",
       "      <td>petrol</td>\n",
       "      <td>seat</td>\n",
       "      <td>yes</td>\n",
       "      <td>2016-03-29 00:00:00</td>\n",
       "      <td>49134</td>\n",
       "      <td>2016-04-06 02:44:57</td>\n",
       "    </tr>\n",
       "    <tr>\n",
       "      <th>108325</th>\n",
       "      <td>2016-03-19 15:47:43</td>\n",
       "      <td>0</td>\n",
       "      <td>NaN</td>\n",
       "      <td>2005</td>\n",
       "      <td>manual</td>\n",
       "      <td>0</td>\n",
       "      <td>transporter</td>\n",
       "      <td>150000</td>\n",
       "      <td>10</td>\n",
       "      <td>gasoline</td>\n",
       "      <td>volkswagen</td>\n",
       "      <td>NaN</td>\n",
       "      <td>2016-03-19 00:00:00</td>\n",
       "      <td>39118</td>\n",
       "      <td>2016-04-07 00:17:14</td>\n",
       "    </tr>\n",
       "    <tr>\n",
       "      <th>336335</th>\n",
       "      <td>2016-03-28 16:50:58</td>\n",
       "      <td>1900</td>\n",
       "      <td>NaN</td>\n",
       "      <td>2017</td>\n",
       "      <td>manual</td>\n",
       "      <td>75</td>\n",
       "      <td>astra</td>\n",
       "      <td>150000</td>\n",
       "      <td>0</td>\n",
       "      <td>NaN</td>\n",
       "      <td>opel</td>\n",
       "      <td>no</td>\n",
       "      <td>2016-03-28 00:00:00</td>\n",
       "      <td>44625</td>\n",
       "      <td>2016-04-06 22:17:42</td>\n",
       "    </tr>\n",
       "    <tr>\n",
       "      <th>321313</th>\n",
       "      <td>2016-04-04 15:44:27</td>\n",
       "      <td>6000</td>\n",
       "      <td>NaN</td>\n",
       "      <td>2016</td>\n",
       "      <td>manual</td>\n",
       "      <td>105</td>\n",
       "      <td>golf</td>\n",
       "      <td>150000</td>\n",
       "      <td>10</td>\n",
       "      <td>gasoline</td>\n",
       "      <td>volkswagen</td>\n",
       "      <td>no</td>\n",
       "      <td>2016-04-04 00:00:00</td>\n",
       "      <td>53489</td>\n",
       "      <td>2016-04-06 17:15:31</td>\n",
       "    </tr>\n",
       "    <tr>\n",
       "      <th>196231</th>\n",
       "      <td>2016-03-08 15:54:17</td>\n",
       "      <td>140</td>\n",
       "      <td>NaN</td>\n",
       "      <td>1960</td>\n",
       "      <td>NaN</td>\n",
       "      <td>0</td>\n",
       "      <td>unknown</td>\n",
       "      <td>5000</td>\n",
       "      <td>1</td>\n",
       "      <td>NaN</td>\n",
       "      <td>sonstige_autos</td>\n",
       "      <td>NaN</td>\n",
       "      <td>2016-03-08 00:00:00</td>\n",
       "      <td>27446</td>\n",
       "      <td>2016-04-04 21:45:39</td>\n",
       "    </tr>\n",
       "  </tbody>\n",
       "</table>\n",
       "</div>"
      ],
      "text/plain": [
       "                DateCrawled  Price VehicleType  RegistrationYear Gearbox  \\\n",
       "12596   2016-03-29 16:50:59    400         NaN              2016  manual   \n",
       "108325  2016-03-19 15:47:43      0         NaN              2005  manual   \n",
       "336335  2016-03-28 16:50:58   1900         NaN              2017  manual   \n",
       "321313  2016-04-04 15:44:27   6000         NaN              2016  manual   \n",
       "196231  2016-03-08 15:54:17    140         NaN              1960     NaN   \n",
       "\n",
       "        Power        Model  Kilometer  RegistrationMonth  FuelType  \\\n",
       "12596       0        ibiza     150000                  5    petrol   \n",
       "108325      0  transporter     150000                 10  gasoline   \n",
       "336335     75        astra     150000                  0       NaN   \n",
       "321313    105         golf     150000                 10  gasoline   \n",
       "196231      0      unknown       5000                  1       NaN   \n",
       "\n",
       "                 Brand Repaired          DateCreated  PostalCode  \\\n",
       "12596             seat      yes  2016-03-29 00:00:00       49134   \n",
       "108325      volkswagen      NaN  2016-03-19 00:00:00       39118   \n",
       "336335            opel       no  2016-03-28 00:00:00       44625   \n",
       "321313      volkswagen       no  2016-04-04 00:00:00       53489   \n",
       "196231  sonstige_autos      NaN  2016-03-08 00:00:00       27446   \n",
       "\n",
       "                   LastSeen  \n",
       "12596   2016-04-06 02:44:57  \n",
       "108325  2016-04-07 00:17:14  \n",
       "336335  2016-04-06 22:17:42  \n",
       "321313  2016-04-06 17:15:31  \n",
       "196231  2016-04-04 21:45:39  "
      ]
     },
     "execution_count": 13,
     "metadata": {},
     "output_type": "execute_result"
    }
   ],
   "source": [
    "autos[autos.VehicleType.isna()].sample(5)"
   ]
  },
  {
   "cell_type": "code",
   "execution_count": 14,
   "metadata": {},
   "outputs": [
    {
     "data": {
      "text/html": [
       "<div>\n",
       "<style scoped>\n",
       "    .dataframe tbody tr th:only-of-type {\n",
       "        vertical-align: middle;\n",
       "    }\n",
       "\n",
       "    .dataframe tbody tr th {\n",
       "        vertical-align: top;\n",
       "    }\n",
       "\n",
       "    .dataframe thead th {\n",
       "        text-align: right;\n",
       "    }\n",
       "</style>\n",
       "<table border=\"1\" class=\"dataframe\">\n",
       "  <thead>\n",
       "    <tr style=\"text-align: right;\">\n",
       "      <th></th>\n",
       "      <th>DateCrawled</th>\n",
       "      <th>Price</th>\n",
       "      <th>VehicleType</th>\n",
       "      <th>RegistrationYear</th>\n",
       "      <th>Gearbox</th>\n",
       "      <th>Power</th>\n",
       "      <th>Model</th>\n",
       "      <th>Kilometer</th>\n",
       "      <th>RegistrationMonth</th>\n",
       "      <th>FuelType</th>\n",
       "      <th>Brand</th>\n",
       "      <th>Repaired</th>\n",
       "      <th>DateCreated</th>\n",
       "      <th>PostalCode</th>\n",
       "      <th>LastSeen</th>\n",
       "    </tr>\n",
       "  </thead>\n",
       "  <tbody>\n",
       "    <tr>\n",
       "      <th>171495</th>\n",
       "      <td>2016-03-28 16:38:02</td>\n",
       "      <td>4000</td>\n",
       "      <td>wagon</td>\n",
       "      <td>2004</td>\n",
       "      <td>manual</td>\n",
       "      <td>136</td>\n",
       "      <td>v50</td>\n",
       "      <td>150000</td>\n",
       "      <td>6</td>\n",
       "      <td>gasoline</td>\n",
       "      <td>volvo</td>\n",
       "      <td>no</td>\n",
       "      <td>2016-03-28 00:00:00</td>\n",
       "      <td>97464</td>\n",
       "      <td>2016-04-06 21:44:53</td>\n",
       "    </tr>\n",
       "    <tr>\n",
       "      <th>210226</th>\n",
       "      <td>2016-04-03 16:44:55</td>\n",
       "      <td>6000</td>\n",
       "      <td>wagon</td>\n",
       "      <td>2005</td>\n",
       "      <td>manual</td>\n",
       "      <td>136</td>\n",
       "      <td>v50</td>\n",
       "      <td>150000</td>\n",
       "      <td>2</td>\n",
       "      <td>gasoline</td>\n",
       "      <td>volvo</td>\n",
       "      <td>no</td>\n",
       "      <td>2016-04-03 00:00:00</td>\n",
       "      <td>56727</td>\n",
       "      <td>2016-04-05 15:47:04</td>\n",
       "    </tr>\n",
       "    <tr>\n",
       "      <th>75729</th>\n",
       "      <td>2016-03-07 23:37:21</td>\n",
       "      <td>9800</td>\n",
       "      <td>wagon</td>\n",
       "      <td>2008</td>\n",
       "      <td>auto</td>\n",
       "      <td>179</td>\n",
       "      <td>v50</td>\n",
       "      <td>150000</td>\n",
       "      <td>3</td>\n",
       "      <td>gasoline</td>\n",
       "      <td>volvo</td>\n",
       "      <td>no</td>\n",
       "      <td>2016-03-07 00:00:00</td>\n",
       "      <td>79117</td>\n",
       "      <td>2016-03-29 03:47:00</td>\n",
       "    </tr>\n",
       "    <tr>\n",
       "      <th>189334</th>\n",
       "      <td>2016-04-03 23:06:23</td>\n",
       "      <td>5975</td>\n",
       "      <td>wagon</td>\n",
       "      <td>2007</td>\n",
       "      <td>manual</td>\n",
       "      <td>136</td>\n",
       "      <td>v50</td>\n",
       "      <td>150000</td>\n",
       "      <td>8</td>\n",
       "      <td>gasoline</td>\n",
       "      <td>volvo</td>\n",
       "      <td>no</td>\n",
       "      <td>2016-04-03 00:00:00</td>\n",
       "      <td>65428</td>\n",
       "      <td>2016-04-05 12:13:01</td>\n",
       "    </tr>\n",
       "    <tr>\n",
       "      <th>189975</th>\n",
       "      <td>2016-03-22 12:38:43</td>\n",
       "      <td>7800</td>\n",
       "      <td>wagon</td>\n",
       "      <td>2011</td>\n",
       "      <td>manual</td>\n",
       "      <td>114</td>\n",
       "      <td>v50</td>\n",
       "      <td>70000</td>\n",
       "      <td>10</td>\n",
       "      <td>gasoline</td>\n",
       "      <td>volvo</td>\n",
       "      <td>yes</td>\n",
       "      <td>2016-03-22 00:00:00</td>\n",
       "      <td>53797</td>\n",
       "      <td>2016-03-22 12:38:43</td>\n",
       "    </tr>\n",
       "    <tr>\n",
       "      <th>143357</th>\n",
       "      <td>2016-03-09 15:55:48</td>\n",
       "      <td>6999</td>\n",
       "      <td>wagon</td>\n",
       "      <td>2007</td>\n",
       "      <td>manual</td>\n",
       "      <td>110</td>\n",
       "      <td>v50</td>\n",
       "      <td>125000</td>\n",
       "      <td>6</td>\n",
       "      <td>gasoline</td>\n",
       "      <td>volvo</td>\n",
       "      <td>no</td>\n",
       "      <td>2016-03-09 00:00:00</td>\n",
       "      <td>85057</td>\n",
       "      <td>2016-04-07 01:45:16</td>\n",
       "    </tr>\n",
       "    <tr>\n",
       "      <th>127872</th>\n",
       "      <td>2016-03-22 02:36:35</td>\n",
       "      <td>4000</td>\n",
       "      <td>wagon</td>\n",
       "      <td>2005</td>\n",
       "      <td>manual</td>\n",
       "      <td>136</td>\n",
       "      <td>v50</td>\n",
       "      <td>150000</td>\n",
       "      <td>10</td>\n",
       "      <td>gasoline</td>\n",
       "      <td>volvo</td>\n",
       "      <td>no</td>\n",
       "      <td>2016-03-22 00:00:00</td>\n",
       "      <td>12351</td>\n",
       "      <td>2016-04-05 16:47:11</td>\n",
       "    </tr>\n",
       "    <tr>\n",
       "      <th>293208</th>\n",
       "      <td>2016-03-07 14:54:57</td>\n",
       "      <td>8450</td>\n",
       "      <td>wagon</td>\n",
       "      <td>2009</td>\n",
       "      <td>manual</td>\n",
       "      <td>136</td>\n",
       "      <td>v50</td>\n",
       "      <td>150000</td>\n",
       "      <td>2</td>\n",
       "      <td>gasoline</td>\n",
       "      <td>volvo</td>\n",
       "      <td>no</td>\n",
       "      <td>2016-03-07 00:00:00</td>\n",
       "      <td>63071</td>\n",
       "      <td>2016-04-07 06:46:08</td>\n",
       "    </tr>\n",
       "    <tr>\n",
       "      <th>226551</th>\n",
       "      <td>2016-04-04 11:51:33</td>\n",
       "      <td>5000</td>\n",
       "      <td>NaN</td>\n",
       "      <td>2016</td>\n",
       "      <td>manual</td>\n",
       "      <td>136</td>\n",
       "      <td>v50</td>\n",
       "      <td>150000</td>\n",
       "      <td>6</td>\n",
       "      <td>NaN</td>\n",
       "      <td>volvo</td>\n",
       "      <td>no</td>\n",
       "      <td>2016-04-04 00:00:00</td>\n",
       "      <td>47169</td>\n",
       "      <td>2016-04-06 12:47:02</td>\n",
       "    </tr>\n",
       "    <tr>\n",
       "      <th>341077</th>\n",
       "      <td>2016-03-29 20:56:18</td>\n",
       "      <td>3500</td>\n",
       "      <td>wagon</td>\n",
       "      <td>2005</td>\n",
       "      <td>manual</td>\n",
       "      <td>140</td>\n",
       "      <td>v50</td>\n",
       "      <td>150000</td>\n",
       "      <td>6</td>\n",
       "      <td>gasoline</td>\n",
       "      <td>volvo</td>\n",
       "      <td>NaN</td>\n",
       "      <td>2016-03-29 00:00:00</td>\n",
       "      <td>51465</td>\n",
       "      <td>2016-03-31 14:45:59</td>\n",
       "    </tr>\n",
       "  </tbody>\n",
       "</table>\n",
       "</div>"
      ],
      "text/plain": [
       "                DateCrawled  Price VehicleType  RegistrationYear Gearbox  \\\n",
       "171495  2016-03-28 16:38:02   4000       wagon              2004  manual   \n",
       "210226  2016-04-03 16:44:55   6000       wagon              2005  manual   \n",
       "75729   2016-03-07 23:37:21   9800       wagon              2008    auto   \n",
       "189334  2016-04-03 23:06:23   5975       wagon              2007  manual   \n",
       "189975  2016-03-22 12:38:43   7800       wagon              2011  manual   \n",
       "143357  2016-03-09 15:55:48   6999       wagon              2007  manual   \n",
       "127872  2016-03-22 02:36:35   4000       wagon              2005  manual   \n",
       "293208  2016-03-07 14:54:57   8450       wagon              2009  manual   \n",
       "226551  2016-04-04 11:51:33   5000         NaN              2016  manual   \n",
       "341077  2016-03-29 20:56:18   3500       wagon              2005  manual   \n",
       "\n",
       "        Power Model  Kilometer  RegistrationMonth  FuelType  Brand Repaired  \\\n",
       "171495    136   v50     150000                  6  gasoline  volvo       no   \n",
       "210226    136   v50     150000                  2  gasoline  volvo       no   \n",
       "75729     179   v50     150000                  3  gasoline  volvo       no   \n",
       "189334    136   v50     150000                  8  gasoline  volvo       no   \n",
       "189975    114   v50      70000                 10  gasoline  volvo      yes   \n",
       "143357    110   v50     125000                  6  gasoline  volvo       no   \n",
       "127872    136   v50     150000                 10  gasoline  volvo       no   \n",
       "293208    136   v50     150000                  2  gasoline  volvo       no   \n",
       "226551    136   v50     150000                  6       NaN  volvo       no   \n",
       "341077    140   v50     150000                  6  gasoline  volvo      NaN   \n",
       "\n",
       "                DateCreated  PostalCode             LastSeen  \n",
       "171495  2016-03-28 00:00:00       97464  2016-04-06 21:44:53  \n",
       "210226  2016-04-03 00:00:00       56727  2016-04-05 15:47:04  \n",
       "75729   2016-03-07 00:00:00       79117  2016-03-29 03:47:00  \n",
       "189334  2016-04-03 00:00:00       65428  2016-04-05 12:13:01  \n",
       "189975  2016-03-22 00:00:00       53797  2016-03-22 12:38:43  \n",
       "143357  2016-03-09 00:00:00       85057  2016-04-07 01:45:16  \n",
       "127872  2016-03-22 00:00:00       12351  2016-04-05 16:47:11  \n",
       "293208  2016-03-07 00:00:00       63071  2016-04-07 06:46:08  \n",
       "226551  2016-04-04 00:00:00       47169  2016-04-06 12:47:02  \n",
       "341077  2016-03-29 00:00:00       51465  2016-03-31 14:45:59  "
      ]
     },
     "execution_count": 14,
     "metadata": {},
     "output_type": "execute_result"
    }
   ],
   "source": [
    "autos[(autos.Brand=='volvo')& (autos.Model == 'v50')].sample(10)"
   ]
  },
  {
   "cell_type": "markdown",
   "metadata": {},
   "source": [
    "Пропуски нужно чем-то закрыть или убрать. Убрать - значит лишиться 10% и более данных, это слишком много. Проигнорировать их мы тоже не можем - наличие пропусков будет мечать машинному обучению.\n",
    "\n",
    "Можно либо (1) заполнить пропуски наиболее распространенным значением в группах марка-модель (хотя обычно для модели можно выбрать тип кузова), либо (2) присвоить категорию `unknown` пропущенным значениям. \n",
    "\n",
    "Попробуем использовать первый вариант."
   ]
  },
  {
   "cell_type": "code",
   "execution_count": 15,
   "metadata": {},
   "outputs": [],
   "source": [
    "# autos['VehicleType'] = autos['VehicleType'].fillna(autos.groupby('Model')['VehicleType'].transform('mode'))\n",
    "autos['VehicleType'] = autos.groupby(['Model'])['VehicleType'].apply(lambda x: x.fillna(x.value_counts().index[0]))\n"
   ]
  },
  {
   "cell_type": "code",
   "execution_count": 16,
   "metadata": {},
   "outputs": [
    {
     "data": {
      "text/plain": [
       "0"
      ]
     },
     "execution_count": 16,
     "metadata": {},
     "output_type": "execute_result"
    }
   ],
   "source": [
    "autos.VehicleType.isna().sum()"
   ]
  },
  {
   "cell_type": "code",
   "execution_count": 17,
   "metadata": {},
   "outputs": [
    {
     "data": {
      "text/plain": [
       "sedan          112600\n",
       "small           88586\n",
       "wagon           68535\n",
       "bus             31882\n",
       "convertible     20458\n",
       "coupe           16555\n",
       "suv             12462\n",
       "other            3291\n",
       "Name: VehicleType, dtype: int64"
      ]
     },
     "execution_count": 17,
     "metadata": {},
     "output_type": "execute_result"
    }
   ],
   "source": [
    "autos.VehicleType.value_counts()"
   ]
  },
  {
   "cell_type": "markdown",
   "metadata": {},
   "source": [
    "**GearBox**\n",
    "\n",
    " На основе имеющихся данных невозможно заполнить пропуски конкретными значениями типов коробки передач. Пропуски добавим в отдельную категорию `unknown``"
   ]
  },
  {
   "cell_type": "code",
   "execution_count": 18,
   "metadata": {},
   "outputs": [
    {
     "data": {
      "text/plain": [
       "manual    268251\n",
       "auto       66285\n",
       "Name: Gearbox, dtype: int64"
      ]
     },
     "execution_count": 18,
     "metadata": {},
     "output_type": "execute_result"
    }
   ],
   "source": [
    "autos.Gearbox.value_counts()"
   ]
  },
  {
   "cell_type": "code",
   "execution_count": 19,
   "metadata": {},
   "outputs": [],
   "source": [
    "autos.Gearbox = autos.Gearbox.fillna('unknown')"
   ]
  },
  {
   "cell_type": "markdown",
   "metadata": {},
   "source": [
    "**FuelType**"
   ]
  },
  {
   "cell_type": "code",
   "execution_count": 20,
   "metadata": {},
   "outputs": [
    {
     "data": {
      "text/plain": [
       "petrol      216352\n",
       "gasoline     98720\n",
       "lpg           5310\n",
       "cng            565\n",
       "hybrid         233\n",
       "other          204\n",
       "electric        90\n",
       "Name: FuelType, dtype: int64"
      ]
     },
     "execution_count": 20,
     "metadata": {},
     "output_type": "execute_result"
    }
   ],
   "source": [
    "autos.FuelType.value_counts()"
   ]
  },
  {
   "cell_type": "markdown",
   "metadata": {},
   "source": [
    "Petrol и gasoline - одно и то же. Нужно исправить (см ниже в неявных дубликатах).\n",
    "Пропуски запоним самым распространенным значением - `petrol`"
   ]
  },
  {
   "cell_type": "code",
   "execution_count": 21,
   "metadata": {},
   "outputs": [
    {
     "name": "stdout",
     "output_type": "stream",
     "text": [
      "petrol      249247\n",
      "gasoline     98720\n",
      "lpg           5310\n",
      "cng            565\n",
      "hybrid         233\n",
      "other          204\n",
      "electric        90\n",
      "Name: FuelType, dtype: int64\n"
     ]
    },
    {
     "data": {
      "text/plain": [
       "0"
      ]
     },
     "execution_count": 21,
     "metadata": {},
     "output_type": "execute_result"
    }
   ],
   "source": [
    "autos.FuelType = autos.FuelType.fillna('petrol')\n",
    "\n",
    "print(autos.FuelType.value_counts())\n",
    "autos.FuelType.isna().sum()"
   ]
  },
  {
   "cell_type": "markdown",
   "metadata": {},
   "source": [
    "**Repaired**"
   ]
  },
  {
   "cell_type": "code",
   "execution_count": 22,
   "metadata": {},
   "outputs": [
    {
     "data": {
      "text/plain": [
       "no     247161\n",
       "yes     36054\n",
       "Name: Repaired, dtype: int64"
      ]
     },
     "execution_count": 22,
     "metadata": {},
     "output_type": "execute_result"
    }
   ],
   "source": [
    "autos.Repaired.value_counts()"
   ]
  },
  {
   "cell_type": "markdown",
   "metadata": {},
   "source": [
    "Скорее всего пропуск в этой колонке означает, что автомобиль не был в ремонте. В ходе хаполнения анкеты пользователь мог просто проигнорировать это поле, если машину не ремонтировали.\n",
    "Заменим пропуск на `no`."
   ]
  },
  {
   "cell_type": "code",
   "execution_count": 23,
   "metadata": {},
   "outputs": [
    {
     "data": {
      "text/plain": [
       "no     318315\n",
       "yes     36054\n",
       "Name: Repaired, dtype: int64"
      ]
     },
     "execution_count": 23,
     "metadata": {},
     "output_type": "execute_result"
    }
   ],
   "source": [
    "autos.Repaired = autos.Repaired.fillna('no')\n",
    "autos.Repaired.value_counts()"
   ]
  },
  {
   "cell_type": "markdown",
   "metadata": {},
   "source": [
    "### 2.2 Дубликаты \n",
    "\n",
    "- проверим на неявные дубликаты и ошибки\n",
    "\n",
    "Заменим `gasoline` на `petrol` в колонке FuelType"
   ]
  },
  {
   "cell_type": "code",
   "execution_count": 24,
   "metadata": {},
   "outputs": [
    {
     "data": {
      "text/plain": [
       "petrol      347967\n",
       "lpg           5310\n",
       "cng            565\n",
       "hybrid         233\n",
       "other          204\n",
       "electric        90\n",
       "Name: FuelType, dtype: int64"
      ]
     },
     "execution_count": 24,
     "metadata": {},
     "output_type": "execute_result"
    }
   ],
   "source": [
    "autos.FuelType = autos.FuelType.replace('gasoline', 'petrol')\n",
    "autos.FuelType.value_counts()"
   ]
  },
  {
   "cell_type": "markdown",
   "metadata": {},
   "source": [
    "Воспользуемся расстоянием Левенштейна, чтобы найти ошибки и неявные дубликаты в столбцах с большим числом наименований - с марками и моделями автомобилей."
   ]
  },
  {
   "cell_type": "code",
   "execution_count": 25,
   "metadata": {},
   "outputs": [],
   "source": [
    "\n",
    "def findAlmostDuplicates(df, column):\n",
    "    duplicates = []\n",
    "    for i in range(df[column].nunique()):\n",
    "        for j in range(i+1, df[column].nunique()):\n",
    "            result = distance(df[column].unique()[i], df[column].unique()[j])\n",
    "            if result < 2:\n",
    "                duplicates.extend([df[column].unique()[i], df[column].unique()[j]])\n",
    "    return duplicates\n",
    "\n"
   ]
  },
  {
   "cell_type": "code",
   "execution_count": 26,
   "metadata": {},
   "outputs": [
    {
     "data": {
      "text/plain": [
       "[]"
      ]
     },
     "execution_count": 26,
     "metadata": {},
     "output_type": "execute_result"
    }
   ],
   "source": [
    "brand_duplicates = findAlmostDuplicates(autos, 'Brand')\n",
    "brand_duplicates"
   ]
  },
  {
   "cell_type": "markdown",
   "metadata": {},
   "source": [
    "В названиях марок автомобилей нет дубликатов. "
   ]
  },
  {
   "cell_type": "code",
   "execution_count": 27,
   "metadata": {},
   "outputs": [
    {
     "name": "stdout",
     "output_type": "stream",
     "text": [
      " volkswagen : set()\n",
      " audi : {'a5', 'a2', '90', 'a3', 'q3', '100', 'a8', 'a1', 'a4', '80', 'q5', 'q7', '200', 'a6'}\n",
      " jeep : set()\n",
      " skoda : set()\n",
      " bmw : {'1er', '5er', 'z_reihe', 'm_reihe', 'x_reihe', '7er', '6er', '3er'}\n",
      " peugeot : {'1_reihe', '2_reihe', '5_reihe', '3_reihe', '4_reihe'}\n",
      " ford : {'s_max', 'c_max', 'b_max'}\n",
      " mazda : {'6_reihe', 'cx_reihe', '1_reihe', '5_reihe', '3_reihe', 'rx_reihe', 'mx_reihe'}\n",
      " nissan : set()\n",
      " renault : set()\n",
      " mercedes_benz : {'sl', 'slk', 's_klasse', 'cl', 'clk', 'v_klasse', 'g_klasse', 'e_klasse', 'glk', 'gl', 'c_klasse', 'a_klasse', 'm_klasse', 'b_klasse'}\n",
      " opel : set()\n",
      " seat : set()\n",
      " citroen : {'c2', 'c3', 'c5', 'c4', 'c1'}\n",
      " honda : set()\n",
      " fiat : set()\n",
      " mini : set()\n",
      " smart : set()\n",
      " hyundai : set()\n",
      " sonstige_autos : set()\n",
      " alfa_romeo : {'147', '145', '159', '156'}\n",
      " subaru : set()\n",
      " volvo : {'c_reihe', 'v70', 'xc_reihe', 's60', 'v60', 'v40', '850', 'v50'}\n",
      " mitsubishi : set()\n",
      " kia : set()\n",
      " suzuki : set()\n",
      " lancia : set()\n",
      " toyota : set()\n",
      " chevrolet : set()\n",
      " dacia : set()\n",
      " daihatsu : set()\n",
      " trabant : set()\n",
      " saab : {'900', '9000'}\n",
      " chrysler : set()\n",
      " jaguar : {'x_type', 's_type'}\n",
      " daewoo : set()\n",
      " porsche : set()\n",
      " rover : set()\n",
      " land_rover : {'serie_1', 'serie_3', 'serie_2'}\n",
      " lada : set()\n"
     ]
    }
   ],
   "source": [
    "autos.Model = autos.Model.astype(str)\n",
    "for name in autos.Brand.unique():\n",
    "    df = autos[autos.Brand ==name ]\n",
    "    result = findAlmostDuplicates(df, 'Model')\n",
    "    print(f''' {name} : {set(result)}''')\n"
   ]
  },
  {
   "cell_type": "markdown",
   "metadata": {},
   "source": [
    "В названиях моделей, вроде бы, тоже нет ошибок и неявных дубликатов. То, что выявилось в проверке - разные модели модели автомобилей.\n",
    "\n",
    "- строки-дубликаты"
   ]
  },
  {
   "cell_type": "code",
   "execution_count": 28,
   "metadata": {
    "scrolled": true
   },
   "outputs": [
    {
     "name": "stdout",
     "output_type": "stream",
     "text": [
      "5\n"
     ]
    },
    {
     "data": {
      "text/plain": [
       "5"
      ]
     },
     "execution_count": 28,
     "metadata": {},
     "output_type": "execute_result"
    }
   ],
   "source": [
    "print(autos.duplicated().sum())\n",
    "autos_new = autos.drop_duplicates()\n",
    "autos.shape[0]-autos_new.shape[0]"
   ]
  },
  {
   "cell_type": "markdown",
   "metadata": {},
   "source": [
    "В таблице 5 записей-дубликатов. Их удалили.\n",
    "\n",
    "### 2.3 Изменение типа данных\n",
    "\n",
    "Изменим тип данных дат на datetime для удобства работы с ними. Кроме того, уберем часы и дни, т.к. нам они не понадобятся для исследования."
   ]
  },
  {
   "cell_type": "code",
   "execution_count": 29,
   "metadata": {},
   "outputs": [
    {
     "name": "stderr",
     "output_type": "stream",
     "text": [
      "C:\\Users\\very-\\AppData\\Local\\Temp/ipykernel_12708/2956463796.py:4: SettingWithCopyWarning: \n",
      "A value is trying to be set on a copy of a slice from a DataFrame.\n",
      "Try using .loc[row_indexer,col_indexer] = value instead\n",
      "\n",
      "See the caveats in the documentation: https://pandas.pydata.org/pandas-docs/stable/user_guide/indexing.html#returning-a-view-versus-a-copy\n",
      "  autos_new[el] = pd.to_datetime(autos_new[el], format='%Y-%m-%d').dt.date\n"
     ]
    },
    {
     "data": {
      "text/html": [
       "<div>\n",
       "<style scoped>\n",
       "    .dataframe tbody tr th:only-of-type {\n",
       "        vertical-align: middle;\n",
       "    }\n",
       "\n",
       "    .dataframe tbody tr th {\n",
       "        vertical-align: top;\n",
       "    }\n",
       "\n",
       "    .dataframe thead th {\n",
       "        text-align: right;\n",
       "    }\n",
       "</style>\n",
       "<table border=\"1\" class=\"dataframe\">\n",
       "  <thead>\n",
       "    <tr style=\"text-align: right;\">\n",
       "      <th></th>\n",
       "      <th>DateCrawled</th>\n",
       "      <th>Price</th>\n",
       "      <th>VehicleType</th>\n",
       "      <th>RegistrationYear</th>\n",
       "      <th>Gearbox</th>\n",
       "      <th>Power</th>\n",
       "      <th>Model</th>\n",
       "      <th>Kilometer</th>\n",
       "      <th>RegistrationMonth</th>\n",
       "      <th>FuelType</th>\n",
       "      <th>Brand</th>\n",
       "      <th>Repaired</th>\n",
       "      <th>DateCreated</th>\n",
       "      <th>PostalCode</th>\n",
       "      <th>LastSeen</th>\n",
       "    </tr>\n",
       "  </thead>\n",
       "  <tbody>\n",
       "    <tr>\n",
       "      <th>179534</th>\n",
       "      <td>2016-03-19</td>\n",
       "      <td>11000</td>\n",
       "      <td>suv</td>\n",
       "      <td>2009</td>\n",
       "      <td>manual</td>\n",
       "      <td>173</td>\n",
       "      <td>cx_reihe</td>\n",
       "      <td>150000</td>\n",
       "      <td>12</td>\n",
       "      <td>petrol</td>\n",
       "      <td>mazda</td>\n",
       "      <td>no</td>\n",
       "      <td>2016-03-19</td>\n",
       "      <td>18299</td>\n",
       "      <td>2016-04-06</td>\n",
       "    </tr>\n",
       "  </tbody>\n",
       "</table>\n",
       "</div>"
      ],
      "text/plain": [
       "       DateCrawled  Price VehicleType  RegistrationYear Gearbox  Power  \\\n",
       "179534  2016-03-19  11000         suv              2009  manual    173   \n",
       "\n",
       "           Model  Kilometer  RegistrationMonth FuelType  Brand Repaired  \\\n",
       "179534  cx_reihe     150000                 12   petrol  mazda       no   \n",
       "\n",
       "       DateCreated  PostalCode    LastSeen  \n",
       "179534  2016-03-19       18299  2016-04-06  "
      ]
     },
     "execution_count": 29,
     "metadata": {},
     "output_type": "execute_result"
    }
   ],
   "source": [
    "dates = ['DateCrawled', 'LastSeen',  'DateCreated']\n",
    "\n",
    "for el in dates:\n",
    "      autos_new[el] = pd.to_datetime(autos_new[el], format='%Y-%m-%d').dt.date\n",
    "\n",
    "autos_new.sample()\n"
   ]
  },
  {
   "cell_type": "markdown",
   "metadata": {},
   "source": [
    "### 2.4 Добавление столбцов\n",
    "1. Месяц создания объявления о продаже"
   ]
  },
  {
   "cell_type": "code",
   "execution_count": 30,
   "metadata": {},
   "outputs": [
    {
     "name": "stderr",
     "output_type": "stream",
     "text": [
      "C:\\Users\\very-\\AppData\\Local\\Temp/ipykernel_12708/371440311.py:1: SettingWithCopyWarning: \n",
      "A value is trying to be set on a copy of a slice from a DataFrame.\n",
      "Try using .loc[row_indexer,col_indexer] = value instead\n",
      "\n",
      "See the caveats in the documentation: https://pandas.pydata.org/pandas-docs/stable/user_guide/indexing.html#returning-a-view-versus-a-copy\n",
      "  autos_new['DateCreated_month'] = pd.DatetimeIndex(autos_new.DateCreated).month\n"
     ]
    }
   ],
   "source": [
    "autos_new['DateCreated_month'] = pd.DatetimeIndex(autos_new.DateCreated).month"
   ]
  },
  {
   "cell_type": "code",
   "execution_count": 31,
   "metadata": {},
   "outputs": [
    {
     "data": {
      "text/html": [
       "<div>\n",
       "<style scoped>\n",
       "    .dataframe tbody tr th:only-of-type {\n",
       "        vertical-align: middle;\n",
       "    }\n",
       "\n",
       "    .dataframe tbody tr th {\n",
       "        vertical-align: top;\n",
       "    }\n",
       "\n",
       "    .dataframe thead th {\n",
       "        text-align: right;\n",
       "    }\n",
       "</style>\n",
       "<table border=\"1\" class=\"dataframe\">\n",
       "  <thead>\n",
       "    <tr style=\"text-align: right;\">\n",
       "      <th></th>\n",
       "      <th>DateCrawled</th>\n",
       "      <th>Price</th>\n",
       "      <th>VehicleType</th>\n",
       "      <th>RegistrationYear</th>\n",
       "      <th>Gearbox</th>\n",
       "      <th>Power</th>\n",
       "      <th>Model</th>\n",
       "      <th>Kilometer</th>\n",
       "      <th>RegistrationMonth</th>\n",
       "      <th>FuelType</th>\n",
       "      <th>Brand</th>\n",
       "      <th>Repaired</th>\n",
       "      <th>DateCreated</th>\n",
       "      <th>PostalCode</th>\n",
       "      <th>LastSeen</th>\n",
       "      <th>DateCreated_month</th>\n",
       "    </tr>\n",
       "  </thead>\n",
       "  <tbody>\n",
       "    <tr>\n",
       "      <th>96151</th>\n",
       "      <td>2016-03-11</td>\n",
       "      <td>1350</td>\n",
       "      <td>small</td>\n",
       "      <td>2005</td>\n",
       "      <td>manual</td>\n",
       "      <td>95</td>\n",
       "      <td>punto</td>\n",
       "      <td>125000</td>\n",
       "      <td>3</td>\n",
       "      <td>petrol</td>\n",
       "      <td>fiat</td>\n",
       "      <td>yes</td>\n",
       "      <td>2016-03-11</td>\n",
       "      <td>88131</td>\n",
       "      <td>2016-03-12</td>\n",
       "      <td>3</td>\n",
       "    </tr>\n",
       "  </tbody>\n",
       "</table>\n",
       "</div>"
      ],
      "text/plain": [
       "      DateCrawled  Price VehicleType  RegistrationYear Gearbox  Power  Model  \\\n",
       "96151  2016-03-11   1350       small              2005  manual     95  punto   \n",
       "\n",
       "       Kilometer  RegistrationMonth FuelType Brand Repaired DateCreated  \\\n",
       "96151     125000                  3   petrol  fiat      yes  2016-03-11   \n",
       "\n",
       "       PostalCode    LastSeen  DateCreated_month  \n",
       "96151       88131  2016-03-12                  3  "
      ]
     },
     "execution_count": 31,
     "metadata": {},
     "output_type": "execute_result"
    }
   ],
   "source": [
    "autos_new.sample()"
   ]
  },
  {
   "cell_type": "markdown",
   "metadata": {},
   "source": [
    "2. Время с появления объявления до последней активности пользователя"
   ]
  },
  {
   "cell_type": "code",
   "execution_count": 32,
   "metadata": {},
   "outputs": [
    {
     "name": "stderr",
     "output_type": "stream",
     "text": [
      "C:\\Users\\very-\\AppData\\Local\\Temp/ipykernel_12708/2276964062.py:1: SettingWithCopyWarning: \n",
      "A value is trying to be set on a copy of a slice from a DataFrame.\n",
      "Try using .loc[row_indexer,col_indexer] = value instead\n",
      "\n",
      "See the caveats in the documentation: https://pandas.pydata.org/pandas-docs/stable/user_guide/indexing.html#returning-a-view-versus-a-copy\n",
      "  autos_new['days_from_first_to_last'] = (autos_new['LastSeen'] - autos_new['DateCreated']).dt.days\n"
     ]
    },
    {
     "data": {
      "text/html": [
       "<div>\n",
       "<style scoped>\n",
       "    .dataframe tbody tr th:only-of-type {\n",
       "        vertical-align: middle;\n",
       "    }\n",
       "\n",
       "    .dataframe tbody tr th {\n",
       "        vertical-align: top;\n",
       "    }\n",
       "\n",
       "    .dataframe thead th {\n",
       "        text-align: right;\n",
       "    }\n",
       "</style>\n",
       "<table border=\"1\" class=\"dataframe\">\n",
       "  <thead>\n",
       "    <tr style=\"text-align: right;\">\n",
       "      <th></th>\n",
       "      <th>DateCrawled</th>\n",
       "      <th>Price</th>\n",
       "      <th>VehicleType</th>\n",
       "      <th>RegistrationYear</th>\n",
       "      <th>Gearbox</th>\n",
       "      <th>Power</th>\n",
       "      <th>Model</th>\n",
       "      <th>Kilometer</th>\n",
       "      <th>RegistrationMonth</th>\n",
       "      <th>FuelType</th>\n",
       "      <th>Brand</th>\n",
       "      <th>Repaired</th>\n",
       "      <th>DateCreated</th>\n",
       "      <th>PostalCode</th>\n",
       "      <th>LastSeen</th>\n",
       "      <th>DateCreated_month</th>\n",
       "      <th>days_from_first_to_last</th>\n",
       "    </tr>\n",
       "  </thead>\n",
       "  <tbody>\n",
       "    <tr>\n",
       "      <th>139811</th>\n",
       "      <td>2016-03-27</td>\n",
       "      <td>1399</td>\n",
       "      <td>wagon</td>\n",
       "      <td>2018</td>\n",
       "      <td>unknown</td>\n",
       "      <td>0</td>\n",
       "      <td>caddy</td>\n",
       "      <td>150000</td>\n",
       "      <td>0</td>\n",
       "      <td>petrol</td>\n",
       "      <td>volkswagen</td>\n",
       "      <td>no</td>\n",
       "      <td>2016-03-27</td>\n",
       "      <td>34613</td>\n",
       "      <td>2016-03-27</td>\n",
       "      <td>3</td>\n",
       "      <td>0</td>\n",
       "    </tr>\n",
       "    <tr>\n",
       "      <th>14423</th>\n",
       "      <td>2016-03-19</td>\n",
       "      <td>5000</td>\n",
       "      <td>wagon</td>\n",
       "      <td>2010</td>\n",
       "      <td>manual</td>\n",
       "      <td>87</td>\n",
       "      <td>other</td>\n",
       "      <td>100000</td>\n",
       "      <td>7</td>\n",
       "      <td>lpg</td>\n",
       "      <td>dacia</td>\n",
       "      <td>yes</td>\n",
       "      <td>2016-03-19</td>\n",
       "      <td>72108</td>\n",
       "      <td>2016-04-07</td>\n",
       "      <td>3</td>\n",
       "      <td>19</td>\n",
       "    </tr>\n",
       "    <tr>\n",
       "      <th>339256</th>\n",
       "      <td>2016-03-28</td>\n",
       "      <td>10300</td>\n",
       "      <td>small</td>\n",
       "      <td>2010</td>\n",
       "      <td>manual</td>\n",
       "      <td>122</td>\n",
       "      <td>cooper</td>\n",
       "      <td>125000</td>\n",
       "      <td>6</td>\n",
       "      <td>petrol</td>\n",
       "      <td>mini</td>\n",
       "      <td>no</td>\n",
       "      <td>2016-03-28</td>\n",
       "      <td>83646</td>\n",
       "      <td>2016-04-07</td>\n",
       "      <td>3</td>\n",
       "      <td>10</td>\n",
       "    </tr>\n",
       "  </tbody>\n",
       "</table>\n",
       "</div>"
      ],
      "text/plain": [
       "       DateCrawled  Price VehicleType  RegistrationYear  Gearbox  Power  \\\n",
       "139811  2016-03-27   1399       wagon              2018  unknown      0   \n",
       "14423   2016-03-19   5000       wagon              2010   manual     87   \n",
       "339256  2016-03-28  10300       small              2010   manual    122   \n",
       "\n",
       "         Model  Kilometer  RegistrationMonth FuelType       Brand Repaired  \\\n",
       "139811   caddy     150000                  0   petrol  volkswagen       no   \n",
       "14423    other     100000                  7      lpg       dacia      yes   \n",
       "339256  cooper     125000                  6   petrol        mini       no   \n",
       "\n",
       "       DateCreated  PostalCode    LastSeen  DateCreated_month  \\\n",
       "139811  2016-03-27       34613  2016-03-27                  3   \n",
       "14423   2016-03-19       72108  2016-04-07                  3   \n",
       "339256  2016-03-28       83646  2016-04-07                  3   \n",
       "\n",
       "        days_from_first_to_last  \n",
       "139811                        0  \n",
       "14423                        19  \n",
       "339256                       10  "
      ]
     },
     "execution_count": 32,
     "metadata": {},
     "output_type": "execute_result"
    }
   ],
   "source": [
    "autos_new['days_from_first_to_last'] = (autos_new['LastSeen'] - autos_new['DateCreated']).dt.days\n",
    "autos_new.sample(3)"
   ]
  },
  {
   "cell_type": "markdown",
   "metadata": {},
   "source": [
    "### Вывод\n",
    "\n",
    "1. Пропуски:\n",
    "-  в колонке с типом кузова заменили на самые распространенные значения в группах по модели машины.\n",
    "-  в колонках с типом коробки передач, с моделью авто заполнили категорией `unknown`\n",
    "-  в колонке с инфо о проведении ремонта авто заполнили категорией `no`\n",
    "-  в колонке с типом топлива отнесли к самой распространенной категории `petrol`\n",
    "\n",
    "2. Дубликаты и ошибки:\n",
    "- в колонке с типом топлива убрали категорию  gasoline, и отнесли сооответвующие записи к категории petrol. \n",
    "- удалили строки-дубликаты\n",
    "\n",
    "- Изменили тип данных дат\n",
    "\n",
    "- добавили колонки с месяцем появления объявления и днями между появлением объявления и последний активностью пользователя."
   ]
  },
  {
   "cell_type": "markdown",
   "metadata": {},
   "source": [
    "## 3. Разведочный анализ"
   ]
  },
  {
   "cell_type": "code",
   "execution_count": 33,
   "metadata": {},
   "outputs": [
    {
     "data": {
      "text/html": [
       "<div>\n",
       "<style scoped>\n",
       "    .dataframe tbody tr th:only-of-type {\n",
       "        vertical-align: middle;\n",
       "    }\n",
       "\n",
       "    .dataframe tbody tr th {\n",
       "        vertical-align: top;\n",
       "    }\n",
       "\n",
       "    .dataframe thead th {\n",
       "        text-align: right;\n",
       "    }\n",
       "</style>\n",
       "<table border=\"1\" class=\"dataframe\">\n",
       "  <thead>\n",
       "    <tr style=\"text-align: right;\">\n",
       "      <th></th>\n",
       "      <th>DateCrawled</th>\n",
       "      <th>Price</th>\n",
       "      <th>VehicleType</th>\n",
       "      <th>RegistrationYear</th>\n",
       "      <th>Gearbox</th>\n",
       "      <th>Power</th>\n",
       "      <th>Model</th>\n",
       "      <th>Kilometer</th>\n",
       "      <th>RegistrationMonth</th>\n",
       "      <th>FuelType</th>\n",
       "      <th>Brand</th>\n",
       "      <th>Repaired</th>\n",
       "      <th>DateCreated</th>\n",
       "      <th>PostalCode</th>\n",
       "      <th>LastSeen</th>\n",
       "      <th>DateCreated_month</th>\n",
       "      <th>days_from_first_to_last</th>\n",
       "    </tr>\n",
       "  </thead>\n",
       "  <tbody>\n",
       "    <tr>\n",
       "      <th>count</th>\n",
       "      <td>354364</td>\n",
       "      <td>354364.000000</td>\n",
       "      <td>354364</td>\n",
       "      <td>354364.000000</td>\n",
       "      <td>354364</td>\n",
       "      <td>354364.000000</td>\n",
       "      <td>354364</td>\n",
       "      <td>354364.000000</td>\n",
       "      <td>354364.000000</td>\n",
       "      <td>354364</td>\n",
       "      <td>354364</td>\n",
       "      <td>354364</td>\n",
       "      <td>354364</td>\n",
       "      <td>354364.000000</td>\n",
       "      <td>354364</td>\n",
       "      <td>354364.000000</td>\n",
       "      <td>354364.000000</td>\n",
       "    </tr>\n",
       "    <tr>\n",
       "      <th>unique</th>\n",
       "      <td>34</td>\n",
       "      <td>NaN</td>\n",
       "      <td>8</td>\n",
       "      <td>NaN</td>\n",
       "      <td>3</td>\n",
       "      <td>NaN</td>\n",
       "      <td>251</td>\n",
       "      <td>NaN</td>\n",
       "      <td>NaN</td>\n",
       "      <td>6</td>\n",
       "      <td>40</td>\n",
       "      <td>2</td>\n",
       "      <td>109</td>\n",
       "      <td>NaN</td>\n",
       "      <td>34</td>\n",
       "      <td>NaN</td>\n",
       "      <td>NaN</td>\n",
       "    </tr>\n",
       "    <tr>\n",
       "      <th>top</th>\n",
       "      <td>2016-04-03</td>\n",
       "      <td>NaN</td>\n",
       "      <td>sedan</td>\n",
       "      <td>NaN</td>\n",
       "      <td>manual</td>\n",
       "      <td>NaN</td>\n",
       "      <td>golf</td>\n",
       "      <td>NaN</td>\n",
       "      <td>NaN</td>\n",
       "      <td>petrol</td>\n",
       "      <td>volkswagen</td>\n",
       "      <td>no</td>\n",
       "      <td>2016-04-03</td>\n",
       "      <td>NaN</td>\n",
       "      <td>2016-04-06</td>\n",
       "      <td>NaN</td>\n",
       "      <td>NaN</td>\n",
       "    </tr>\n",
       "    <tr>\n",
       "      <th>freq</th>\n",
       "      <td>13668</td>\n",
       "      <td>NaN</td>\n",
       "      <td>112599</td>\n",
       "      <td>NaN</td>\n",
       "      <td>268248</td>\n",
       "      <td>NaN</td>\n",
       "      <td>29232</td>\n",
       "      <td>NaN</td>\n",
       "      <td>NaN</td>\n",
       "      <td>347962</td>\n",
       "      <td>77012</td>\n",
       "      <td>318311</td>\n",
       "      <td>13718</td>\n",
       "      <td>NaN</td>\n",
       "      <td>75616</td>\n",
       "      <td>NaN</td>\n",
       "      <td>NaN</td>\n",
       "    </tr>\n",
       "    <tr>\n",
       "      <th>mean</th>\n",
       "      <td>NaN</td>\n",
       "      <td>4416.655608</td>\n",
       "      <td>NaN</td>\n",
       "      <td>2004.234471</td>\n",
       "      <td>NaN</td>\n",
       "      <td>110.093723</td>\n",
       "      <td>NaN</td>\n",
       "      <td>128211.373051</td>\n",
       "      <td>5.714641</td>\n",
       "      <td>NaN</td>\n",
       "      <td>NaN</td>\n",
       "      <td>NaN</td>\n",
       "      <td>NaN</td>\n",
       "      <td>50508.461698</td>\n",
       "      <td>NaN</td>\n",
       "      <td>3.160186</td>\n",
       "      <td>8.678080</td>\n",
       "    </tr>\n",
       "    <tr>\n",
       "      <th>std</th>\n",
       "      <td>NaN</td>\n",
       "      <td>4514.159690</td>\n",
       "      <td>NaN</td>\n",
       "      <td>90.228593</td>\n",
       "      <td>NaN</td>\n",
       "      <td>189.851590</td>\n",
       "      <td>NaN</td>\n",
       "      <td>37905.136957</td>\n",
       "      <td>3.726433</td>\n",
       "      <td>NaN</td>\n",
       "      <td>NaN</td>\n",
       "      <td>NaN</td>\n",
       "      <td>NaN</td>\n",
       "      <td>25783.124276</td>\n",
       "      <td>NaN</td>\n",
       "      <td>0.376281</td>\n",
       "      <td>8.639417</td>\n",
       "    </tr>\n",
       "    <tr>\n",
       "      <th>min</th>\n",
       "      <td>NaN</td>\n",
       "      <td>0.000000</td>\n",
       "      <td>NaN</td>\n",
       "      <td>1000.000000</td>\n",
       "      <td>NaN</td>\n",
       "      <td>0.000000</td>\n",
       "      <td>NaN</td>\n",
       "      <td>5000.000000</td>\n",
       "      <td>0.000000</td>\n",
       "      <td>NaN</td>\n",
       "      <td>NaN</td>\n",
       "      <td>NaN</td>\n",
       "      <td>NaN</td>\n",
       "      <td>1067.000000</td>\n",
       "      <td>NaN</td>\n",
       "      <td>1.000000</td>\n",
       "      <td>0.000000</td>\n",
       "    </tr>\n",
       "    <tr>\n",
       "      <th>25%</th>\n",
       "      <td>NaN</td>\n",
       "      <td>1050.000000</td>\n",
       "      <td>NaN</td>\n",
       "      <td>1999.000000</td>\n",
       "      <td>NaN</td>\n",
       "      <td>69.000000</td>\n",
       "      <td>NaN</td>\n",
       "      <td>125000.000000</td>\n",
       "      <td>3.000000</td>\n",
       "      <td>NaN</td>\n",
       "      <td>NaN</td>\n",
       "      <td>NaN</td>\n",
       "      <td>NaN</td>\n",
       "      <td>30165.000000</td>\n",
       "      <td>NaN</td>\n",
       "      <td>3.000000</td>\n",
       "      <td>2.000000</td>\n",
       "    </tr>\n",
       "    <tr>\n",
       "      <th>50%</th>\n",
       "      <td>NaN</td>\n",
       "      <td>2700.000000</td>\n",
       "      <td>NaN</td>\n",
       "      <td>2003.000000</td>\n",
       "      <td>NaN</td>\n",
       "      <td>105.000000</td>\n",
       "      <td>NaN</td>\n",
       "      <td>150000.000000</td>\n",
       "      <td>6.000000</td>\n",
       "      <td>NaN</td>\n",
       "      <td>NaN</td>\n",
       "      <td>NaN</td>\n",
       "      <td>NaN</td>\n",
       "      <td>49409.500000</td>\n",
       "      <td>NaN</td>\n",
       "      <td>3.000000</td>\n",
       "      <td>6.000000</td>\n",
       "    </tr>\n",
       "    <tr>\n",
       "      <th>75%</th>\n",
       "      <td>NaN</td>\n",
       "      <td>6400.000000</td>\n",
       "      <td>NaN</td>\n",
       "      <td>2008.000000</td>\n",
       "      <td>NaN</td>\n",
       "      <td>143.000000</td>\n",
       "      <td>NaN</td>\n",
       "      <td>150000.000000</td>\n",
       "      <td>9.000000</td>\n",
       "      <td>NaN</td>\n",
       "      <td>NaN</td>\n",
       "      <td>NaN</td>\n",
       "      <td>NaN</td>\n",
       "      <td>71083.000000</td>\n",
       "      <td>NaN</td>\n",
       "      <td>3.000000</td>\n",
       "      <td>13.000000</td>\n",
       "    </tr>\n",
       "    <tr>\n",
       "      <th>max</th>\n",
       "      <td>NaN</td>\n",
       "      <td>20000.000000</td>\n",
       "      <td>NaN</td>\n",
       "      <td>9999.000000</td>\n",
       "      <td>NaN</td>\n",
       "      <td>20000.000000</td>\n",
       "      <td>NaN</td>\n",
       "      <td>150000.000000</td>\n",
       "      <td>12.000000</td>\n",
       "      <td>NaN</td>\n",
       "      <td>NaN</td>\n",
       "      <td>NaN</td>\n",
       "      <td>NaN</td>\n",
       "      <td>99998.000000</td>\n",
       "      <td>NaN</td>\n",
       "      <td>12.000000</td>\n",
       "      <td>759.000000</td>\n",
       "    </tr>\n",
       "  </tbody>\n",
       "</table>\n",
       "</div>"
      ],
      "text/plain": [
       "       DateCrawled          Price VehicleType  RegistrationYear Gearbox  \\\n",
       "count       354364  354364.000000      354364     354364.000000  354364   \n",
       "unique          34            NaN           8               NaN       3   \n",
       "top     2016-04-03            NaN       sedan               NaN  manual   \n",
       "freq         13668            NaN      112599               NaN  268248   \n",
       "mean           NaN    4416.655608         NaN       2004.234471     NaN   \n",
       "std            NaN    4514.159690         NaN         90.228593     NaN   \n",
       "min            NaN       0.000000         NaN       1000.000000     NaN   \n",
       "25%            NaN    1050.000000         NaN       1999.000000     NaN   \n",
       "50%            NaN    2700.000000         NaN       2003.000000     NaN   \n",
       "75%            NaN    6400.000000         NaN       2008.000000     NaN   \n",
       "max            NaN   20000.000000         NaN       9999.000000     NaN   \n",
       "\n",
       "                Power   Model      Kilometer  RegistrationMonth FuelType  \\\n",
       "count   354364.000000  354364  354364.000000      354364.000000   354364   \n",
       "unique            NaN     251            NaN                NaN        6   \n",
       "top               NaN    golf            NaN                NaN   petrol   \n",
       "freq              NaN   29232            NaN                NaN   347962   \n",
       "mean       110.093723     NaN  128211.373051           5.714641      NaN   \n",
       "std        189.851590     NaN   37905.136957           3.726433      NaN   \n",
       "min          0.000000     NaN    5000.000000           0.000000      NaN   \n",
       "25%         69.000000     NaN  125000.000000           3.000000      NaN   \n",
       "50%        105.000000     NaN  150000.000000           6.000000      NaN   \n",
       "75%        143.000000     NaN  150000.000000           9.000000      NaN   \n",
       "max      20000.000000     NaN  150000.000000          12.000000      NaN   \n",
       "\n",
       "             Brand Repaired DateCreated     PostalCode    LastSeen  \\\n",
       "count       354364   354364      354364  354364.000000      354364   \n",
       "unique          40        2         109            NaN          34   \n",
       "top     volkswagen       no  2016-04-03            NaN  2016-04-06   \n",
       "freq         77012   318311       13718            NaN       75616   \n",
       "mean           NaN      NaN         NaN   50508.461698         NaN   \n",
       "std            NaN      NaN         NaN   25783.124276         NaN   \n",
       "min            NaN      NaN         NaN    1067.000000         NaN   \n",
       "25%            NaN      NaN         NaN   30165.000000         NaN   \n",
       "50%            NaN      NaN         NaN   49409.500000         NaN   \n",
       "75%            NaN      NaN         NaN   71083.000000         NaN   \n",
       "max            NaN      NaN         NaN   99998.000000         NaN   \n",
       "\n",
       "        DateCreated_month  days_from_first_to_last  \n",
       "count       354364.000000            354364.000000  \n",
       "unique                NaN                      NaN  \n",
       "top                   NaN                      NaN  \n",
       "freq                  NaN                      NaN  \n",
       "mean             3.160186                 8.678080  \n",
       "std              0.376281                 8.639417  \n",
       "min              1.000000                 0.000000  \n",
       "25%              3.000000                 2.000000  \n",
       "50%              3.000000                 6.000000  \n",
       "75%              3.000000                13.000000  \n",
       "max             12.000000               759.000000  "
      ]
     },
     "execution_count": 33,
     "metadata": {},
     "output_type": "execute_result"
    }
   ],
   "source": [
    "autos_new.describe(include='all')"
   ]
  },
  {
   "cell_type": "code",
   "execution_count": 34,
   "metadata": {},
   "outputs": [],
   "source": [
    "def hist_for_nums(data, cols, bins = 100):\n",
    "    for col, ax in zip(cols, axs.ravel()):\n",
    "        sns.histplot(data = data[col], ax=ax, bins = bins )\n",
    "        ax.set_title(col)\n",
    "        ax.set_xlabel(col)\n",
    "        ax.set_ylabel('Число объявлений')"
   ]
  },
  {
   "cell_type": "code",
   "execution_count": 35,
   "metadata": {},
   "outputs": [],
   "source": [
    "def box_for_nums(data, cols):\n",
    "    for col, ax in zip(cols, axs.ravel()):\n",
    "        sns.boxplot(data = data[col].values, ax=ax)\n",
    "        ax.set_title(col)\n",
    "        ax.set_ylabel(col)"
   ]
  },
  {
   "cell_type": "code",
   "execution_count": 36,
   "metadata": {},
   "outputs": [],
   "source": [
    "def count_for_cat(data, cols):\n",
    "    for col, ax in zip(cols, axs.ravel()):\n",
    "        sns.countplot(x=data[col], data=data, order=data[col].value_counts().index, ax=ax)\n",
    "        ax.set_title(col)\n",
    "        ax.set_ylabel('Число объявлений')\n",
    "        for i, v in enumerate(data[col].value_counts()):\n",
    "            ax.text(i, v, str(v), ha='center')"
   ]
  },
  {
   "cell_type": "markdown",
   "metadata": {},
   "source": [
    "### 3.1 Стоимость, пробег, мощность"
   ]
  },
  {
   "cell_type": "code",
   "execution_count": 37,
   "metadata": {},
   "outputs": [
    {
     "data": {
      "image/png": "[encoded data removed]",
      "text/plain": [
       "<Figure size 1440x360 with 3 Axes>"
      ]
     },
     "metadata": {
      "needs_background": "light"
     },
     "output_type": "display_data"
    }
   ],
   "source": [
    "num_columns = ['Price', 'Kilometer', 'Power']\n",
    "fig, axs = plt.subplots(nrows=1, ncols=3, figsize=(20, 5))\n",
    "fig.suptitle('Распределение количественных признаков' , fontsize=18,  y=1)\n",
    "hist_for_nums(autos_new,num_columns, bins = 8)\n",
    "\n",
    "axs[0].set_title(\"Стоимость авто, евро\")\n",
    "axs[0].set_xlabel(\"Стоимость авто, евро\")\n",
    "\n",
    "axs[1].set_title(\"Пробег, км\")\n",
    "axs[1].set_xlabel('Пробег, км')\n",
    "\n",
    "axs[2].set_title(\"Мощность, л.с.\")\n",
    "axs[2].set_xlabel('Мощность, л.с.');"
   ]
  },
  {
   "cell_type": "code",
   "execution_count": 38,
   "metadata": {},
   "outputs": [
    {
     "data": {
      "text/plain": [
       "(0.0, 300.0)"
      ]
     },
     "execution_count": 38,
     "metadata": {},
     "output_type": "execute_result"
    },
    {
     "data": {
      "image/png": "[encoded data removed]",
      "text/plain": [
       "<Figure size 1440x360 with 3 Axes>"
      ]
     },
     "metadata": {
      "needs_background": "light"
     },
     "output_type": "display_data"
    }
   ],
   "source": [
    "fig, axs = plt.subplots(nrows=1, ncols=3, figsize=(20, 5))\n",
    "fig.suptitle('Разброс количественных признаков' , fontsize=18,  y=1)\n",
    "box_for_nums(autos_new,num_columns)\n",
    "\n",
    "axs[0].set_title(\"Стоимость авто, евро\")\n",
    "axs[0].set_ylabel(\"Стоимость авто, евро\")\n",
    "\n",
    "axs[1].set_title(\"Пробег, км\")\n",
    "axs[1].set_ylabel('Пробег, км')\n",
    "\n",
    "axs[2].set_title(\"Мощность, л.с.\")\n",
    "axs[2].set_ylabel('Мощность, л.с.')\n",
    "axs[2].set_ylim(0, 300)\n"
   ]
  },
  {
   "cell_type": "markdown",
   "metadata": {},
   "source": [
    "- Стоимость авто в большинстве объявлений менее 7500 евро. Однако есть и сильно более дорогие авто.\n",
    "- В основном, прожают машины с большим пробегом ~ 140000 км. Это похоже на правду.\n",
    "- Средняя мощность авто в объявлениях составляет около 100 лошадиных сил. Здесь есть аномалии. Встречаются какие-то нереальные мощности - более 500 л.с (что характерно для спорткаров). Самые мощные авто не имеют больше 1500 л.с. Удалим записи с мощностью более 500 л.с. (их около 500)"
   ]
  },
  {
   "cell_type": "code",
   "execution_count": 39,
   "metadata": {},
   "outputs": [
    {
     "data": {
      "text/plain": [
       "0.14053346276709822"
      ]
     },
     "execution_count": 39,
     "metadata": {},
     "output_type": "execute_result"
    }
   ],
   "source": [
    "shape_old = autos_new.shape[0]\n",
    "autos_new = autos_new[autos_new.Power < 500]\n",
    "#удалили процентов записей\n",
    "(shape_old-autos_new.shape[0])/shape_old*100"
   ]
  },
  {
   "cell_type": "markdown",
   "metadata": {},
   "source": [
    "### 3.2 Категориальные данные"
   ]
  },
  {
   "cell_type": "code",
   "execution_count": 40,
   "metadata": {
    "scrolled": true
   },
   "outputs": [
    {
     "data": {
      "image/png": "[encoded data removed]",
      "text/plain": [
       "<Figure size 1800x1080 with 6 Axes>"
      ]
     },
     "metadata": {
      "needs_background": "light"
     },
     "output_type": "display_data"
    }
   ],
   "source": [
    "cat_columns = ['VehicleType','Gearbox', 'RegistrationMonth', 'FuelType'\t, 'Repaired', 'DateCreated_month']\n",
    "fig, axs = plt.subplots(nrows=3, ncols=2, figsize=(25, 15))\n",
    "fig.suptitle('Распределение категориальных и дискретных  признаков' , fontsize=18)\n",
    "count_for_cat(autos_new,cat_columns)\n",
    "\n",
    "axs[0,0].set_title(\"Тип кузова\")\n",
    "axs[0,0].set_xlabel(\"Тип кузова\")\n",
    "axs[0,0].set_xticklabels([\"седан\", \"хетчбек\", \"фургон\", \"автобус\", \"кабриолет\", \"купе\", \"внедорожник\", \"другое\"])\n",
    "\n",
    "axs[0,1].set_title(\"Коробка передач\")\n",
    "axs[0,1].set_xlabel('Коробка передач')\n",
    "axs[0,1].set_xticklabels([\"механическая\", \"автоматическая\", \"неизвестно\"])\n",
    "\n",
    "axs[1,0].set_title(\"Месяц регистрации авто\")\n",
    "axs[1,0].set_xlabel('месяц')\n",
    "\n",
    "axs[1,1].set_title(\"Тип топлива\")\n",
    "axs[1,1].set_xlabel('Тип')\n",
    "axs[1,1].set_xticklabels([\"бензин\", \"сжиженный газ(lpg)\", \"сжатый метан(cng)\",\"гибрид\", \"другое\", \"электричество\"])\n",
    "\n",
    "axs[2,0].set_title(\"Был ли ремонт\")\n",
    "axs[2,0].set_xlabel('Ремонт')\n",
    "axs[2,0].set_xticklabels([\"нет\", \"да\"])\n",
    "\n",
    "axs[2,1].set_title(\"Месяц создания объявления\")\n",
    "axs[2,1].set_xlabel('Месяц') ;"
   ]
  },
  {
   "cell_type": "markdown",
   "metadata": {},
   "source": [
    "- Больше всего среди объявлений авто типа седан, хетчбек и фургон.\n",
    "- Большинство авто с механической коробкой передач\n",
    "- Авто распределены более менее равномерно по месяцам регистрации в течение года. Аномальное значение - 0. Месяц регистрации неинформативный признак. \n",
    "- Большинство автомобилей работают на бензине (практически абсолютное большинство, на это также повлияло заполнение пропусков)\n",
    "- Большинство автомобилей не были в ремонте (заполнение пропусков тоже повлияло)\n",
    "- Практически все объявления были сформированы в марте и апреле\n",
    "\n",
    "### 3.3 Марка и модель авто\n",
    "\n",
    "Выведем топ-15 марок и моделей из объявлений"
   ]
  },
  {
   "cell_type": "code",
   "execution_count": 41,
   "metadata": {},
   "outputs": [
    {
     "data": {
      "image/png": "[encoded data removed]",
      "text/plain": [
       "<Figure size 864x432 with 1 Axes>"
      ]
     },
     "metadata": {
      "needs_background": "light"
     },
     "output_type": "display_data"
    },
    {
     "data": {
      "image/png": "[encoded data removed]",
      "text/plain": [
       "<Figure size 864x432 with 1 Axes>"
      ]
     },
     "metadata": {
      "needs_background": "light"
     },
     "output_type": "display_data"
    }
   ],
   "source": [
    "plt.figure(figsize=(12, 6))\n",
    "top_brands = autos_new['Brand'].value_counts().head(15)\n",
    "ax = sns.barplot(x=top_brands.index, y=top_brands.values)\n",
    "\n",
    "ax.set_title('ТОП-15 марок авто',  fontsize=20)\n",
    "ax.set_ylabel('Число объявлений')\n",
    "plt.xticks(rotation=60);\n",
    "\n",
    "plt.figure(figsize=(12, 6))\n",
    "top_models = autos_new['Model'].value_counts().head(15)\n",
    "ax = sns.barplot(x=top_models.index, y=top_models.values)\n",
    "\n",
    "ax.set_title('ТОП-15 моделей авто',  fontsize=20)\n",
    "ax.set_ylabel('Число объявлений')\n",
    "plt.xticks(rotation=60);\n"
   ]
  },
  {
   "cell_type": "markdown",
   "metadata": {},
   "source": [
    "Среди наиболее популярных автомобилей - volkswagen, opel, bmw, в тч самая популярная модель - volkswagen golf."
   ]
  },
  {
   "cell_type": "markdown",
   "metadata": {},
   "source": [
    "### 3.4 Даты и почтовый индекс"
   ]
  },
  {
   "cell_type": "code",
   "execution_count": 42,
   "metadata": {},
   "outputs": [
    {
     "data": {
      "text/plain": [
       "2016    353840\n",
       "2015        25\n",
       "2014         1\n",
       "Name: DateCreated, dtype: int64"
      ]
     },
     "execution_count": 42,
     "metadata": {},
     "output_type": "execute_result"
    }
   ],
   "source": [
    "pd.DatetimeIndex(autos_new.DateCreated).year.value_counts()"
   ]
  },
  {
   "cell_type": "markdown",
   "metadata": {},
   "source": [
    "В основном представлены данные за 2016 год, в 2014 и 2015 годах объявлений было мало."
   ]
  },
  {
   "cell_type": "code",
   "execution_count": 43,
   "metadata": {},
   "outputs": [
    {
     "name": "stdout",
     "output_type": "stream",
     "text": [
      "Первое объявление в таблице создано: 2014-03-10\n",
      "Последнее объявление в таблице создано: 2016-04-07\n",
      "Первая последняя активность в объявлениях : 2016-03-05\n",
      "Самая последняя активность в объявлениях: 2016-04-07\n"
     ]
    }
   ],
   "source": [
    "print(f'Первое объявление в таблице создано: {autos_new.DateCreated.min()}')\n",
    "print(f'Последнее объявление в таблице создано: {autos_new.DateCreated.max()}')\n",
    "\n",
    "print(f'Первая последняя активность в объявлениях : {autos_new.LastSeen.min()}')\n",
    "print(f'Самая последняя активность в объявлениях: {autos_new.LastSeen.max()}')"
   ]
  },
  {
   "cell_type": "code",
   "execution_count": 44,
   "metadata": {},
   "outputs": [
    {
     "data": {
      "image/png": "[encoded data removed]",
      "text/plain": [
       "<Figure size 1080x360 with 2 Axes>"
      ]
     },
     "metadata": {
      "needs_background": "light"
     },
     "output_type": "display_data"
    }
   ],
   "source": [
    "discr_col = ['RegistrationYear', 'days_from_first_to_last' ]\n",
    "fig, axs = plt.subplots(nrows=1, ncols=2, figsize=(15, 5))\n",
    "fig.suptitle('Разброс значений' , fontsize=18,  y=1)\n",
    "box_for_nums(autos_new,discr_col)\n",
    "\n",
    "axs[0].set_title(\"Год регистрации авто\")\n",
    "axs[0].set_ylabel(\"Год\")\n",
    "\n",
    "axs[1].set_title(\"Время от создания объявления до последней активности\")\n",
    "axs[1].set_ylabel('Дни');"
   ]
  },
  {
   "cell_type": "code",
   "execution_count": 45,
   "metadata": {},
   "outputs": [
    {
     "data": {
      "text/plain": [
       "count    353866.000000\n",
       "mean       2004.231899\n",
       "std          89.927074\n",
       "min        1000.000000\n",
       "25%        1999.000000\n",
       "50%        2003.000000\n",
       "75%        2008.000000\n",
       "max        9999.000000\n",
       "Name: RegistrationYear, dtype: float64"
      ]
     },
     "execution_count": 45,
     "metadata": {},
     "output_type": "execute_result"
    }
   ],
   "source": [
    "autos_new.RegistrationYear.describe()"
   ]
  },
  {
   "cell_type": "code",
   "execution_count": 46,
   "metadata": {},
   "outputs": [
    {
     "data": {
      "text/plain": [
       "1931    1\n",
       "1688    1\n",
       "2200    1\n",
       "1946    1\n",
       "1949    1\n",
       "4000    1\n",
       "4100    1\n",
       "5300    1\n",
       "8888    1\n",
       "2290    1\n",
       "Name: RegistrationYear, dtype: int64"
      ]
     },
     "execution_count": 46,
     "metadata": {},
     "output_type": "execute_result"
    }
   ],
   "source": [
    "autos_new.RegistrationYear.value_counts().tail(10)"
   ]
  },
  {
   "cell_type": "code",
   "execution_count": 47,
   "metadata": {},
   "outputs": [
    {
     "data": {
      "text/plain": [
       "24285"
      ]
     },
     "execution_count": 47,
     "metadata": {},
     "output_type": "execute_result"
    }
   ],
   "source": [
    "autos_new[(autos_new.RegistrationYear>=2016)|(autos_new.RegistrationYear<1940)].shape[0]"
   ]
  },
  {
   "cell_type": "markdown",
   "metadata": {},
   "source": [
    "- Среди значений года регистрации много аномальных значений. откуда-то взялись значения года невероятно позже 2016 года. Также есть авто датированные 1800-1900 годами.  Их около 14700 записей и их надо убрать (около 7% записей). \n",
    "- Большая часть авто зарегистрированы в 1999-2007 годах."
   ]
  },
  {
   "cell_type": "code",
   "execution_count": 48,
   "metadata": {},
   "outputs": [
    {
     "name": "stdout",
     "output_type": "stream",
     "text": [
      "Удалили 6.8633324478757505 % записей\n"
     ]
    }
   ],
   "source": [
    "old_shape = autos_new.shape[0]\n",
    "autos_new = autos_new[(autos_new.RegistrationYear<2016)&(autos_new.RegistrationYear>1940)]\n",
    "print(f'Удалили {(old_shape - autos_new.shape[0])/old_shape*100} % записей')"
   ]
  },
  {
   "cell_type": "code",
   "execution_count": 49,
   "metadata": {},
   "outputs": [
    {
     "data": {
      "text/plain": [
       "0    46337\n",
       "2    35249\n",
       "4    24639\n",
       "1    19453\n",
       "6    18620\n",
       "3    16448\n",
       "8    15328\n",
       "9    11683\n",
       "5    11458\n",
       "7    11232\n",
       "Name: days_from_first_to_last, dtype: int64"
      ]
     },
     "execution_count": 49,
     "metadata": {},
     "output_type": "execute_result"
    }
   ],
   "source": [
    "autos_new.days_from_first_to_last.value_counts().head(10)"
   ]
  },
  {
   "cell_type": "markdown",
   "metadata": {},
   "source": [
    "- В среднем, пользователь после размещения объявления проявляет активность вплоть до недели. \n",
    "Значение 0 может соответсвовать случаю, когда пользователь разместил объявление, но больше не посещал сервис или нашел покупателя в первый же день."
   ]
  },
  {
   "cell_type": "code",
   "execution_count": 50,
   "metadata": {},
   "outputs": [
    {
     "data": {
      "text/plain": [
       "10115    814\n",
       "65428    561\n",
       "66333    311\n",
       "44145    289\n",
       "52525    287\n",
       "32257    287\n",
       "38518    276\n",
       "78224    271\n",
       "60311    271\n",
       "13357    267\n",
       "51065    264\n",
       "48249    258\n",
       "52249    258\n",
       "48599    258\n",
       "50354    257\n",
       "Name: PostalCode, dtype: int64"
      ]
     },
     "execution_count": 50,
     "metadata": {},
     "output_type": "execute_result"
    }
   ],
   "source": [
    "autos_new.PostalCode.value_counts().head(15)"
   ]
  },
  {
   "cell_type": "markdown",
   "metadata": {},
   "source": [
    "Значения почтового индекса разнообразны. Объявления размещали из разных регионов. Кажется, признак неинформативен для этого исследования.\n"
   ]
  },
  {
   "cell_type": "markdown",
   "metadata": {},
   "source": [
    "### Вывод \n",
    "В ходе разведочного анализа:\n",
    "\n",
    "1) было выяснено как распределены признаки среди всех объявлений.\n",
    "    - В таблице представлены данные, в основном, за 2016 год.  В 2014 и 2015 годах - единичные объявления. Практически все объявления были сформированы в марте и апреле\n",
    "    - В среднем, пользователь после размещения объявления проявляет активность на сервисе вплоть до недели. Правда, большАя часть пользователей проявляли активность последний раз в день создания объявления.\n",
    "    - Стоимость авто в большинстве объявлений менее 7500 евро. Однако есть и сильно более дорогие авто.\n",
    "    - В основном, продают машиныс механической коробкой передач и с кузовом типа *седан, хетчбек и фургон, с большим пробегом ~ 140000 км, с мощностью около 100 лошадиных сил. Большинство автомобилей работают на бензине и не были в ремонте.Среди наиболее популярных автомобилей - volkswagen, opel, bmw, в тч самая популярная модель - volkswagen golf.\n",
    "    - Большая часть авто зарегистрированы в 1999-2007 годах.\n",
    "\n",
    "2) Нашли и удалили аномальные значения в признаках: год регистрации авто (зарегистрированные ранее 1940 и позднее 2016 года), мощность авто (более 500 лс).\n",
    "\n",
    "3) Рассмотрев все признаки, нашли неинформативные - **месяц регистрации, число фото в объявлении, почтовый индекс, дата скачивания анкеты из базы**. Они равномерно распределены среди объявлений (месяц регистрации) или не изменяются или не имеют логичной связи с ценообразованием на вторичном рынке авто.\n"
   ]
  },
  {
   "cell_type": "markdown",
   "metadata": {},
   "source": [
    "## 4. Корреляционный анализ\n",
    "\n",
    "Для оценки взаимосвязи признаков между собой и с целевым признаком - ценой построим матрицу корреляций Фи. \n",
    "\n",
    "Уберем неинформативные признаки."
   ]
  },
  {
   "cell_type": "code",
   "execution_count": 51,
   "metadata": {},
   "outputs": [
    {
     "data": {
      "text/html": [
       "<div>\n",
       "<style scoped>\n",
       "    .dataframe tbody tr th:only-of-type {\n",
       "        vertical-align: middle;\n",
       "    }\n",
       "\n",
       "    .dataframe tbody tr th {\n",
       "        vertical-align: top;\n",
       "    }\n",
       "\n",
       "    .dataframe thead th {\n",
       "        text-align: right;\n",
       "    }\n",
       "</style>\n",
       "<table border=\"1\" class=\"dataframe\">\n",
       "  <thead>\n",
       "    <tr style=\"text-align: right;\">\n",
       "      <th></th>\n",
       "      <th>Price</th>\n",
       "      <th>VehicleType</th>\n",
       "      <th>RegistrationYear</th>\n",
       "      <th>Gearbox</th>\n",
       "      <th>Power</th>\n",
       "      <th>Model</th>\n",
       "      <th>Kilometer</th>\n",
       "      <th>FuelType</th>\n",
       "      <th>Brand</th>\n",
       "      <th>Repaired</th>\n",
       "      <th>DateCreated_month</th>\n",
       "      <th>days_from_first_to_last</th>\n",
       "    </tr>\n",
       "  </thead>\n",
       "  <tbody>\n",
       "    <tr>\n",
       "      <th>34218</th>\n",
       "      <td>1250</td>\n",
       "      <td>small</td>\n",
       "      <td>1993</td>\n",
       "      <td>manual</td>\n",
       "      <td>17</td>\n",
       "      <td>other</td>\n",
       "      <td>60000</td>\n",
       "      <td>petrol</td>\n",
       "      <td>fiat</td>\n",
       "      <td>yes</td>\n",
       "      <td>3</td>\n",
       "      <td>0</td>\n",
       "    </tr>\n",
       "  </tbody>\n",
       "</table>\n",
       "</div>"
      ],
      "text/plain": [
       "       Price VehicleType  RegistrationYear Gearbox  Power  Model  Kilometer  \\\n",
       "34218   1250       small              1993  manual     17  other      60000   \n",
       "\n",
       "      FuelType Brand Repaired  DateCreated_month  days_from_first_to_last  \n",
       "34218   petrol  fiat      yes                  3                        0  "
      ]
     },
     "execution_count": 51,
     "metadata": {},
     "output_type": "execute_result"
    }
   ],
   "source": [
    "autos_new = autos_new.drop(['PostalCode','DateCrawled', 'RegistrationMonth', 'DateCreated', 'LastSeen'], axis=1)\n",
    "autos_new.sample()"
   ]
  },
  {
   "cell_type": "code",
   "execution_count": 52,
   "metadata": {},
   "outputs": [],
   "source": [
    "corr_matrix = autos_new.phik_matrix(interval_cols=['Price', 'Kilometer', 'Power', 'days_from_first_to_last', 'RegistrationYear', 'DateCreated_month'])"
   ]
  },
  {
   "cell_type": "code",
   "execution_count": 53,
   "metadata": {},
   "outputs": [
    {
     "data": {
      "image/png": "[encoded data removed]",
      "text/plain": [
       "<Figure size 720x576 with 2 Axes>"
      ]
     },
     "metadata": {
      "needs_background": "light"
     },
     "output_type": "display_data"
    }
   ],
   "source": [
    "plt.figure(figsize=(10, 8))\n",
    "sns.heatmap(corr_matrix, annot=True, cmap='coolwarm')\n",
    "plt.title('Phi-корреляция между признаками')\n",
    "plt.show();"
   ]
  },
  {
   "cell_type": "markdown",
   "metadata": {},
   "source": [
    "### Вывод\n",
    "Наиболее значимая систематическая закономерность существует между целевым признаком (Price) и:\n",
    "- Годом регистрации авто\n",
    "- Мощностью авто\n",
    "- Моделью авто\n",
    "\n",
    "В то же время, цена почти не зависит от даты создания объявления и периодом времени от создания объявления до полседней активности пользователя. Похоже, эти признаки тоже неинформативны.\n",
    "\n",
    "- Модель авто значительно коррелирует с типом кузова (отчасти потому что мы заполняли пропуски в типе кузова модой в группах по моделям), с годом регистрации,с типом коробки передач, с мощностью. Это логично, потому что модель выпускают в определенный период, в ее особенности закладывают определенную мощность и тип коробки передач. Похожие корреляции показаны для марок авто."
   ]
  },
  {
   "cell_type": "markdown",
   "metadata": {},
   "source": [
    "## 5. Построение модели машинного обучения\n",
    "\n",
    "Задача - построить модель, которая сможет предсказать стоимость автомобиля на основе данных из объявлений. Это задача регрессии.\n",
    "\n",
    "Целевой признак - стоимость авто (Price).\n",
    "\n",
    "Входные признаки - все остальные представленные в таблице `autos_new` (исключая неинформативные) : `VehicleType`, `RegistrationYear`, `Gearbox`, `Power`, `Model`, \t`Kilometer`,`FuelType`,\t`Brand`, \t`Repaired`,\t`DateCreated_month`,\t`days_from_first_to_last`.\n",
    "\n",
    "Модель должна соотвествовать требованию качества: \n",
    "- значение метрики RMSE должно быть меньше 2500 ;\n",
    "\n",
    "Из моделей соответсвующих этому критерию качества надо выбрать *самые быстрые согласно времени обучения и времени предсказания.*\n",
    "\n",
    "Сначала создадим пайплайн для подготовки данных, затем - итоговый пайплайн включающий модель.\n",
    "\n",
    "Для решения задачи регрессии иcпользуем линейнуюю регрессию, регрессионное дерево решений и градиентный бустинг LigthGBM. Подберем из них более подходящую модель c учетом критериев.\n",
    "\n",
    "\n",
    "Перед обучением закодируем категориальные признаки  с помощью OHE;\n",
    "\n",
    "Масштабируем количественные данные (`RegistrationYear`,`Power`, `Kilometer`,`DateCreated_month`,`days_from_first_to_last`) с помощью StandardScaler. \n",
    "\n",
    "LigthGBM может использовать категориальные данные без кодирования (нужно передать категории в параметре categorical feature).\n",
    "\n",
    "\n",
    "### 5.1 Подготовка данных\n"
   ]
  },
  {
   "cell_type": "code",
   "execution_count": 54,
   "metadata": {},
   "outputs": [
    {
     "data": {
      "text/html": [
       "<div>\n",
       "<style scoped>\n",
       "    .dataframe tbody tr th:only-of-type {\n",
       "        vertical-align: middle;\n",
       "    }\n",
       "\n",
       "    .dataframe tbody tr th {\n",
       "        vertical-align: top;\n",
       "    }\n",
       "\n",
       "    .dataframe thead th {\n",
       "        text-align: right;\n",
       "    }\n",
       "</style>\n",
       "<table border=\"1\" class=\"dataframe\">\n",
       "  <thead>\n",
       "    <tr style=\"text-align: right;\">\n",
       "      <th></th>\n",
       "      <th>Price</th>\n",
       "      <th>VehicleType</th>\n",
       "      <th>RegistrationYear</th>\n",
       "      <th>Gearbox</th>\n",
       "      <th>Power</th>\n",
       "      <th>Model</th>\n",
       "      <th>Kilometer</th>\n",
       "      <th>FuelType</th>\n",
       "      <th>Brand</th>\n",
       "      <th>Repaired</th>\n",
       "      <th>DateCreated_month</th>\n",
       "      <th>days_from_first_to_last</th>\n",
       "    </tr>\n",
       "  </thead>\n",
       "  <tbody>\n",
       "    <tr>\n",
       "      <th>195331</th>\n",
       "      <td>4000</td>\n",
       "      <td>suv</td>\n",
       "      <td>2005</td>\n",
       "      <td>manual</td>\n",
       "      <td>109</td>\n",
       "      <td>unknown</td>\n",
       "      <td>150000</td>\n",
       "      <td>petrol</td>\n",
       "      <td>land_rover</td>\n",
       "      <td>no</td>\n",
       "      <td>3</td>\n",
       "      <td>19</td>\n",
       "    </tr>\n",
       "  </tbody>\n",
       "</table>\n",
       "</div>"
      ],
      "text/plain": [
       "        Price VehicleType  RegistrationYear Gearbox  Power    Model  \\\n",
       "195331   4000         suv              2005  manual    109  unknown   \n",
       "\n",
       "        Kilometer FuelType       Brand Repaired  DateCreated_month  \\\n",
       "195331     150000   petrol  land_rover       no                  3   \n",
       "\n",
       "        days_from_first_to_last  \n",
       "195331                       19  "
      ]
     },
     "execution_count": 54,
     "metadata": {},
     "output_type": "execute_result"
    }
   ],
   "source": [
    "autos_new.sample()"
   ]
  },
  {
   "cell_type": "code",
   "execution_count": 55,
   "metadata": {},
   "outputs": [],
   "source": [
    "ohe_columns = ['Gearbox' , 'Repaired','VehicleType', 'Model', 'FuelType','Brand' ]\n",
    "num_columns = ['RegistrationYear','Power', 'Kilometer','DateCreated_month','days_from_first_to_last']"
   ]
  },
  {
   "cell_type": "code",
   "execution_count": 56,
   "metadata": {},
   "outputs": [],
   "source": [
    "data_preprocessor = ColumnTransformer(\n",
    "    [\n",
    "        ('ohe', OneHotEncoder(drop='first', handle_unknown='ignore'), ohe_columns),\n",
    "        ('num', StandardScaler(), num_columns),\n",
    "    ], \n",
    "    remainder='passthrough'\n",
    ")"
   ]
  },
  {
   "cell_type": "code",
   "execution_count": 57,
   "metadata": {},
   "outputs": [],
   "source": [
    "pipe_final = Pipeline(\n",
    "    [\n",
    "        ('preprocessor', data_preprocessor),\n",
    "        ('models',  Ridge(random_state=RANDOM_STATE))\n",
    "    ]\n",
    ")"
   ]
  },
  {
   "cell_type": "markdown",
   "metadata": {},
   "source": [
    "### 5.2 Обучение \n",
    "\n",
    "#### Линейная модель"
   ]
  },
  {
   "cell_type": "code",
   "execution_count": 58,
   "metadata": {},
   "outputs": [],
   "source": [
    "X = autos_new.drop(columns=['Price'])\n",
    "y = autos_new.Price\n",
    "\n",
    "X_train, X_test, y_train, y_test = train_test_split(X, y, test_size=0.2, random_state=RANDOM_STATE)"
   ]
  },
  {
   "cell_type": "code",
   "execution_count": 59,
   "metadata": {},
   "outputs": [
    {
     "name": "stdout",
     "output_type": "stream",
     "text": [
      "Wall time: 4.3 s\n"
     ]
    },
    {
     "data": {
      "text/html": [
       "<style>#sk-container-id-1 {color: black;}#sk-container-id-1 pre{padding: 0;}#sk-container-id-1 div.sk-toggleable {background-color: white;}#sk-container-id-1 label.sk-toggleable__label {cursor: pointer;display: block;width: 100%;margin-bottom: 0;padding: 0.3em;box-sizing: border-box;text-align: center;}#sk-container-id-1 label.sk-toggleable__label-arrow:before {content: \"▸\";float: left;margin-right: 0.25em;color: #696969;}#sk-container-id-1 label.sk-toggleable__label-arrow:hover:before {color: black;}#sk-container-id-1 div.sk-estimator:hover label.sk-toggleable__label-arrow:before {color: black;}#sk-container-id-1 div.sk-toggleable__content {max-height: 0;max-width: 0;overflow: hidden;text-align: left;background-color: #f0f8ff;}#sk-container-id-1 div.sk-toggleable__content pre {margin: 0.2em;color: black;border-radius: 0.25em;background-color: #f0f8ff;}#sk-container-id-1 input.sk-toggleable__control:checked~div.sk-toggleable__content {max-height: 200px;max-width: 100%;overflow: auto;}#sk-container-id-1 input.sk-toggleable__control:checked~label.sk-toggleable__label-arrow:before {content: \"▾\";}#sk-container-id-1 div.sk-estimator input.sk-toggleable__control:checked~label.sk-toggleable__label {background-color: #d4ebff;}#sk-container-id-1 div.sk-label input.sk-toggleable__control:checked~label.sk-toggleable__label {background-color: #d4ebff;}#sk-container-id-1 input.sk-hidden--visually {border: 0;clip: rect(1px 1px 1px 1px);clip: rect(1px, 1px, 1px, 1px);height: 1px;margin: -1px;overflow: hidden;padding: 0;position: absolute;width: 1px;}#sk-container-id-1 div.sk-estimator {font-family: monospace;background-color: #f0f8ff;border: 1px dotted black;border-radius: 0.25em;box-sizing: border-box;margin-bottom: 0.5em;}#sk-container-id-1 div.sk-estimator:hover {background-color: #d4ebff;}#sk-container-id-1 div.sk-parallel-item::after {content: \"\";width: 100%;border-bottom: 1px solid gray;flex-grow: 1;}#sk-container-id-1 div.sk-label:hover label.sk-toggleable__label {background-color: #d4ebff;}#sk-container-id-1 div.sk-serial::before {content: \"\";position: absolute;border-left: 1px solid gray;box-sizing: border-box;top: 0;bottom: 0;left: 50%;z-index: 0;}#sk-container-id-1 div.sk-serial {display: flex;flex-direction: column;align-items: center;background-color: white;padding-right: 0.2em;padding-left: 0.2em;position: relative;}#sk-container-id-1 div.sk-item {position: relative;z-index: 1;}#sk-container-id-1 div.sk-parallel {display: flex;align-items: stretch;justify-content: center;background-color: white;position: relative;}#sk-container-id-1 div.sk-item::before, #sk-container-id-1 div.sk-parallel-item::before {content: \"\";position: absolute;border-left: 1px solid gray;box-sizing: border-box;top: 0;bottom: 0;left: 50%;z-index: -1;}#sk-container-id-1 div.sk-parallel-item {display: flex;flex-direction: column;z-index: 1;position: relative;background-color: white;}#sk-container-id-1 div.sk-parallel-item:first-child::after {align-self: flex-end;width: 50%;}#sk-container-id-1 div.sk-parallel-item:last-child::after {align-self: flex-start;width: 50%;}#sk-container-id-1 div.sk-parallel-item:only-child::after {width: 0;}#sk-container-id-1 div.sk-dashed-wrapped {border: 1px dashed gray;margin: 0 0.4em 0.5em 0.4em;box-sizing: border-box;padding-bottom: 0.4em;background-color: white;}#sk-container-id-1 div.sk-label label {font-family: monospace;font-weight: bold;display: inline-block;line-height: 1.2em;}#sk-container-id-1 div.sk-label-container {text-align: center;}#sk-container-id-1 div.sk-container {/* jupyter's `normalize.less` sets `[hidden] { display: none; }` but bootstrap.min.css set `[hidden] { display: none !important; }` so we also need the `!important` here to be able to override the default hidden behavior on the sphinx rendered scikit-learn.org. See: https://github.com/scikit-learn/scikit-learn/issues/21755 */display: inline-block !important;position: relative;}#sk-container-id-1 div.sk-text-repr-fallback {display: none;}</style><div id=\"sk-container-id-1\" class=\"sk-top-container\"><div class=\"sk-text-repr-fallback\"><pre>Pipeline(steps=[(&#x27;preprocessor&#x27;,\n",
       "                 ColumnTransformer(remainder=&#x27;passthrough&#x27;,\n",
       "                                   transformers=[(&#x27;ohe&#x27;,\n",
       "                                                  OneHotEncoder(drop=&#x27;first&#x27;,\n",
       "                                                                handle_unknown=&#x27;ignore&#x27;),\n",
       "                                                  [&#x27;Gearbox&#x27;, &#x27;Repaired&#x27;,\n",
       "                                                   &#x27;VehicleType&#x27;, &#x27;Model&#x27;,\n",
       "                                                   &#x27;FuelType&#x27;, &#x27;Brand&#x27;]),\n",
       "                                                 (&#x27;num&#x27;, StandardScaler(),\n",
       "                                                  [&#x27;RegistrationYear&#x27;, &#x27;Power&#x27;,\n",
       "                                                   &#x27;Kilometer&#x27;,\n",
       "                                                   &#x27;DateCreated_month&#x27;,\n",
       "                                                   &#x27;days_from_first_to_last&#x27;])])),\n",
       "                (&#x27;models&#x27;, Ridge(random_state=42))])</pre><b>In a Jupyter environment, please rerun this cell to show the HTML representation or trust the notebook. <br />On GitHub, the HTML representation is unable to render, please try loading this page with nbviewer.org.</b></div><div class=\"sk-container\" hidden><div class=\"sk-item sk-dashed-wrapped\"><div class=\"sk-label-container\"><div class=\"sk-label sk-toggleable\"><input class=\"sk-toggleable__control sk-hidden--visually\" id=\"sk-estimator-id-1\" type=\"checkbox\" ><label for=\"sk-estimator-id-1\" class=\"sk-toggleable__label sk-toggleable__label-arrow\">Pipeline</label><div class=\"sk-toggleable__content\"><pre>Pipeline(steps=[(&#x27;preprocessor&#x27;,\n",
       "                 ColumnTransformer(remainder=&#x27;passthrough&#x27;,\n",
       "                                   transformers=[(&#x27;ohe&#x27;,\n",
       "                                                  OneHotEncoder(drop=&#x27;first&#x27;,\n",
       "                                                                handle_unknown=&#x27;ignore&#x27;),\n",
       "                                                  [&#x27;Gearbox&#x27;, &#x27;Repaired&#x27;,\n",
       "                                                   &#x27;VehicleType&#x27;, &#x27;Model&#x27;,\n",
       "                                                   &#x27;FuelType&#x27;, &#x27;Brand&#x27;]),\n",
       "                                                 (&#x27;num&#x27;, StandardScaler(),\n",
       "                                                  [&#x27;RegistrationYear&#x27;, &#x27;Power&#x27;,\n",
       "                                                   &#x27;Kilometer&#x27;,\n",
       "                                                   &#x27;DateCreated_month&#x27;,\n",
       "                                                   &#x27;days_from_first_to_last&#x27;])])),\n",
       "                (&#x27;models&#x27;, Ridge(random_state=42))])</pre></div></div></div><div class=\"sk-serial\"><div class=\"sk-item sk-dashed-wrapped\"><div class=\"sk-label-container\"><div class=\"sk-label sk-toggleable\"><input class=\"sk-toggleable__control sk-hidden--visually\" id=\"sk-estimator-id-2\" type=\"checkbox\" ><label for=\"sk-estimator-id-2\" class=\"sk-toggleable__label sk-toggleable__label-arrow\">preprocessor: ColumnTransformer</label><div class=\"sk-toggleable__content\"><pre>ColumnTransformer(remainder=&#x27;passthrough&#x27;,\n",
       "                  transformers=[(&#x27;ohe&#x27;,\n",
       "                                 OneHotEncoder(drop=&#x27;first&#x27;,\n",
       "                                               handle_unknown=&#x27;ignore&#x27;),\n",
       "                                 [&#x27;Gearbox&#x27;, &#x27;Repaired&#x27;, &#x27;VehicleType&#x27;, &#x27;Model&#x27;,\n",
       "                                  &#x27;FuelType&#x27;, &#x27;Brand&#x27;]),\n",
       "                                (&#x27;num&#x27;, StandardScaler(),\n",
       "                                 [&#x27;RegistrationYear&#x27;, &#x27;Power&#x27;, &#x27;Kilometer&#x27;,\n",
       "                                  &#x27;DateCreated_month&#x27;,\n",
       "                                  &#x27;days_from_first_to_last&#x27;])])</pre></div></div></div><div class=\"sk-parallel\"><div class=\"sk-parallel-item\"><div class=\"sk-item\"><div class=\"sk-label-container\"><div class=\"sk-label sk-toggleable\"><input class=\"sk-toggleable__control sk-hidden--visually\" id=\"sk-estimator-id-3\" type=\"checkbox\" ><label for=\"sk-estimator-id-3\" class=\"sk-toggleable__label sk-toggleable__label-arrow\">ohe</label><div class=\"sk-toggleable__content\"><pre>[&#x27;Gearbox&#x27;, &#x27;Repaired&#x27;, &#x27;VehicleType&#x27;, &#x27;Model&#x27;, &#x27;FuelType&#x27;, &#x27;Brand&#x27;]</pre></div></div></div><div class=\"sk-serial\"><div class=\"sk-item\"><div class=\"sk-estimator sk-toggleable\"><input class=\"sk-toggleable__control sk-hidden--visually\" id=\"sk-estimator-id-4\" type=\"checkbox\" ><label for=\"sk-estimator-id-4\" class=\"sk-toggleable__label sk-toggleable__label-arrow\">OneHotEncoder</label><div class=\"sk-toggleable__content\"><pre>OneHotEncoder(drop=&#x27;first&#x27;, handle_unknown=&#x27;ignore&#x27;)</pre></div></div></div></div></div></div><div class=\"sk-parallel-item\"><div class=\"sk-item\"><div class=\"sk-label-container\"><div class=\"sk-label sk-toggleable\"><input class=\"sk-toggleable__control sk-hidden--visually\" id=\"sk-estimator-id-5\" type=\"checkbox\" ><label for=\"sk-estimator-id-5\" class=\"sk-toggleable__label sk-toggleable__label-arrow\">num</label><div class=\"sk-toggleable__content\"><pre>[&#x27;RegistrationYear&#x27;, &#x27;Power&#x27;, &#x27;Kilometer&#x27;, &#x27;DateCreated_month&#x27;, &#x27;days_from_first_to_last&#x27;]</pre></div></div></div><div class=\"sk-serial\"><div class=\"sk-item\"><div class=\"sk-estimator sk-toggleable\"><input class=\"sk-toggleable__control sk-hidden--visually\" id=\"sk-estimator-id-6\" type=\"checkbox\" ><label for=\"sk-estimator-id-6\" class=\"sk-toggleable__label sk-toggleable__label-arrow\">StandardScaler</label><div class=\"sk-toggleable__content\"><pre>StandardScaler()</pre></div></div></div></div></div></div><div class=\"sk-parallel-item\"><div class=\"sk-item\"><div class=\"sk-label-container\"><div class=\"sk-label sk-toggleable\"><input class=\"sk-toggleable__control sk-hidden--visually\" id=\"sk-estimator-id-7\" type=\"checkbox\" ><label for=\"sk-estimator-id-7\" class=\"sk-toggleable__label sk-toggleable__label-arrow\">remainder</label><div class=\"sk-toggleable__content\"><pre>[]</pre></div></div></div><div class=\"sk-serial\"><div class=\"sk-item\"><div class=\"sk-estimator sk-toggleable\"><input class=\"sk-toggleable__control sk-hidden--visually\" id=\"sk-estimator-id-8\" type=\"checkbox\" ><label for=\"sk-estimator-id-8\" class=\"sk-toggleable__label sk-toggleable__label-arrow\">passthrough</label><div class=\"sk-toggleable__content\"><pre>passthrough</pre></div></div></div></div></div></div></div></div><div class=\"sk-item\"><div class=\"sk-estimator sk-toggleable\"><input class=\"sk-toggleable__control sk-hidden--visually\" id=\"sk-estimator-id-9\" type=\"checkbox\" ><label for=\"sk-estimator-id-9\" class=\"sk-toggleable__label sk-toggleable__label-arrow\">Ridge</label><div class=\"sk-toggleable__content\"><pre>Ridge(random_state=42)</pre></div></div></div></div></div></div></div>"
      ],
      "text/plain": [
       "Pipeline(steps=[('preprocessor',\n",
       "                 ColumnTransformer(remainder='passthrough',\n",
       "                                   transformers=[('ohe',\n",
       "                                                  OneHotEncoder(drop='first',\n",
       "                                                                handle_unknown='ignore'),\n",
       "                                                  ['Gearbox', 'Repaired',\n",
       "                                                   'VehicleType', 'Model',\n",
       "                                                   'FuelType', 'Brand']),\n",
       "                                                 ('num', StandardScaler(),\n",
       "                                                  ['RegistrationYear', 'Power',\n",
       "                                                   'Kilometer',\n",
       "                                                   'DateCreated_month',\n",
       "                                                   'days_from_first_to_last'])])),\n",
       "                ('models', Ridge(random_state=42))])"
      ]
     },
     "execution_count": 59,
     "metadata": {},
     "output_type": "execute_result"
    }
   ],
   "source": [
    "%%time\n",
    "pipe_final.fit(X_train, y_train)"
   ]
  },
  {
   "cell_type": "code",
   "execution_count": 60,
   "metadata": {},
   "outputs": [
    {
     "name": "stdout",
     "output_type": "stream",
     "text": [
      "Wall time: 1.02 s\n"
     ]
    }
   ],
   "source": [
    "%%time\n",
    "y_pred = pipe_final.predict(X_train)"
   ]
  },
  {
   "cell_type": "code",
   "execution_count": 61,
   "metadata": {},
   "outputs": [],
   "source": [
    "def ValidationScoreRMSE(model, X_train, y_train):\n",
    "    return abs(cross_val_score(model, X_train, y_train, scoring='neg_root_mean_squared_error').mean())"
   ]
  },
  {
   "cell_type": "code",
   "execution_count": 62,
   "metadata": {},
   "outputs": [
    {
     "name": "stderr",
     "output_type": "stream",
     "text": [
      "c:\\Users\\very-\\practicum\\practicum_env\\lib\\site-packages\\sklearn\\preprocessing\\_encoders.py:228: UserWarning: Found unknown categories in columns [3] during transform. These unknown categories will be encoded as all zeros\n",
      "  warnings.warn(\n"
     ]
    },
    {
     "data": {
      "text/plain": [
       "2747.650367251116"
      ]
     },
     "execution_count": 62,
     "metadata": {},
     "output_type": "execute_result"
    }
   ],
   "source": [
    "ValidationScoreRMSE(pipe_final, X_train, y_train)"
   ]
  },
  {
   "cell_type": "markdown",
   "metadata": {},
   "source": [
    "Линейная регрессия без настройки гиперпарматера:\n",
    "- RMSE = 2747\n",
    "- Время обучения = 4.82 с\n",
    "- Время предсказания = 1.16 с\n",
    "\n",
    "Попробуем улучшить результат подобрав гиперпараметры."
   ]
  },
  {
   "cell_type": "code",
   "execution_count": 63,
   "metadata": {},
   "outputs": [],
   "source": [
    "param_distributions = {\n",
    "        'models__alpha': np.arange(0,3, 0.5),\n",
    "}\n"
   ]
  },
  {
   "cell_type": "code",
   "execution_count": 64,
   "metadata": {},
   "outputs": [
    {
     "name": "stderr",
     "output_type": "stream",
     "text": [
      "c:\\Users\\very-\\practicum\\practicum_env\\lib\\site-packages\\sklearn\\model_selection\\_search.py:307: UserWarning: The total space of parameters 6 is smaller than n_iter=10. Running 6 iterations. For exhaustive searches, use GridSearchCV.\n",
      "  warnings.warn(\n"
     ]
    },
    {
     "name": "stdout",
     "output_type": "stream",
     "text": [
      "Метрика RMSE для лучшей модели:\n",
      " 2747.6092122876416\n",
      "\n",
      "Лучшая модель и её параметры:\n",
      "\n",
      " Pipeline(steps=[('preprocessor',\n",
      "                 ColumnTransformer(remainder='passthrough',\n",
      "                                   transformers=[('ohe',\n",
      "                                                  OneHotEncoder(drop='first',\n",
      "                                                                handle_unknown='ignore'),\n",
      "                                                  ['Gearbox', 'Repaired',\n",
      "                                                   'VehicleType', 'Model',\n",
      "                                                   'FuelType', 'Brand']),\n",
      "                                                 ('num', StandardScaler(),\n",
      "                                                  ['RegistrationYear', 'Power',\n",
      "                                                   'Kilometer',\n",
      "                                                   'DateCreated_month',\n",
      "                                                   'days_from_first_to_last'])])),\n",
      "                ('models', Ridge(alpha=2.0, random_state=42))])\n"
     ]
    }
   ],
   "source": [
    "randomized_search = RandomizedSearchCV(\n",
    "    pipe_final, \n",
    "    param_distributions=param_distributions, \n",
    "    scoring='neg_root_mean_squared_error', \n",
    "    random_state=RANDOM_STATE,\n",
    "    n_jobs=-1\n",
    ")\n",
    "randomized_search.fit(X_train, y_train) \n",
    "\n",
    "print('Метрика RMSE для лучшей модели:\\n', abs(randomized_search.best_score_))\n",
    "print('\\nЛучшая модель и её параметры:\\n\\n', randomized_search.best_estimator_) \n"
   ]
  },
  {
   "cell_type": "markdown",
   "metadata": {},
   "source": [
    "Подбор гиперпараметра - коэффициента регуляризации -  оказался неэффективен. Значение RMSE не возросло.\n",
    "\n",
    "Перейдем от линейной регрессии к деревьям.\n",
    "\n"
   ]
  },
  {
   "cell_type": "markdown",
   "metadata": {},
   "source": [
    "\n",
    "####  Дерево решений\n",
    "\n",
    "Сразу подберем гиперпараметры"
   ]
  },
  {
   "cell_type": "code",
   "execution_count": 65,
   "metadata": {},
   "outputs": [],
   "source": [
    "param_distributions = {\n",
    "        'models': [DecisionTreeRegressor(random_state=RANDOM_STATE)],\n",
    "        'models__max_depth': range(2,15),\n",
    "        'models__min_samples_split': range(2,10)\n",
    "}\n"
   ]
  },
  {
   "cell_type": "code",
   "execution_count": 66,
   "metadata": {},
   "outputs": [
    {
     "data": {
      "text/html": [
       "<style>#sk-container-id-2 {color: black;}#sk-container-id-2 pre{padding: 0;}#sk-container-id-2 div.sk-toggleable {background-color: white;}#sk-container-id-2 label.sk-toggleable__label {cursor: pointer;display: block;width: 100%;margin-bottom: 0;padding: 0.3em;box-sizing: border-box;text-align: center;}#sk-container-id-2 label.sk-toggleable__label-arrow:before {content: \"▸\";float: left;margin-right: 0.25em;color: #696969;}#sk-container-id-2 label.sk-toggleable__label-arrow:hover:before {color: black;}#sk-container-id-2 div.sk-estimator:hover label.sk-toggleable__label-arrow:before {color: black;}#sk-container-id-2 div.sk-toggleable__content {max-height: 0;max-width: 0;overflow: hidden;text-align: left;background-color: #f0f8ff;}#sk-container-id-2 div.sk-toggleable__content pre {margin: 0.2em;color: black;border-radius: 0.25em;background-color: #f0f8ff;}#sk-container-id-2 input.sk-toggleable__control:checked~div.sk-toggleable__content {max-height: 200px;max-width: 100%;overflow: auto;}#sk-container-id-2 input.sk-toggleable__control:checked~label.sk-toggleable__label-arrow:before {content: \"▾\";}#sk-container-id-2 div.sk-estimator input.sk-toggleable__control:checked~label.sk-toggleable__label {background-color: #d4ebff;}#sk-container-id-2 div.sk-label input.sk-toggleable__control:checked~label.sk-toggleable__label {background-color: #d4ebff;}#sk-container-id-2 input.sk-hidden--visually {border: 0;clip: rect(1px 1px 1px 1px);clip: rect(1px, 1px, 1px, 1px);height: 1px;margin: -1px;overflow: hidden;padding: 0;position: absolute;width: 1px;}#sk-container-id-2 div.sk-estimator {font-family: monospace;background-color: #f0f8ff;border: 1px dotted black;border-radius: 0.25em;box-sizing: border-box;margin-bottom: 0.5em;}#sk-container-id-2 div.sk-estimator:hover {background-color: #d4ebff;}#sk-container-id-2 div.sk-parallel-item::after {content: \"\";width: 100%;border-bottom: 1px solid gray;flex-grow: 1;}#sk-container-id-2 div.sk-label:hover label.sk-toggleable__label {background-color: #d4ebff;}#sk-container-id-2 div.sk-serial::before {content: \"\";position: absolute;border-left: 1px solid gray;box-sizing: border-box;top: 0;bottom: 0;left: 50%;z-index: 0;}#sk-container-id-2 div.sk-serial {display: flex;flex-direction: column;align-items: center;background-color: white;padding-right: 0.2em;padding-left: 0.2em;position: relative;}#sk-container-id-2 div.sk-item {position: relative;z-index: 1;}#sk-container-id-2 div.sk-parallel {display: flex;align-items: stretch;justify-content: center;background-color: white;position: relative;}#sk-container-id-2 div.sk-item::before, #sk-container-id-2 div.sk-parallel-item::before {content: \"\";position: absolute;border-left: 1px solid gray;box-sizing: border-box;top: 0;bottom: 0;left: 50%;z-index: -1;}#sk-container-id-2 div.sk-parallel-item {display: flex;flex-direction: column;z-index: 1;position: relative;background-color: white;}#sk-container-id-2 div.sk-parallel-item:first-child::after {align-self: flex-end;width: 50%;}#sk-container-id-2 div.sk-parallel-item:last-child::after {align-self: flex-start;width: 50%;}#sk-container-id-2 div.sk-parallel-item:only-child::after {width: 0;}#sk-container-id-2 div.sk-dashed-wrapped {border: 1px dashed gray;margin: 0 0.4em 0.5em 0.4em;box-sizing: border-box;padding-bottom: 0.4em;background-color: white;}#sk-container-id-2 div.sk-label label {font-family: monospace;font-weight: bold;display: inline-block;line-height: 1.2em;}#sk-container-id-2 div.sk-label-container {text-align: center;}#sk-container-id-2 div.sk-container {/* jupyter's `normalize.less` sets `[hidden] { display: none; }` but bootstrap.min.css set `[hidden] { display: none !important; }` so we also need the `!important` here to be able to override the default hidden behavior on the sphinx rendered scikit-learn.org. See: https://github.com/scikit-learn/scikit-learn/issues/21755 */display: inline-block !important;position: relative;}#sk-container-id-2 div.sk-text-repr-fallback {display: none;}</style><div id=\"sk-container-id-2\" class=\"sk-top-container\"><div class=\"sk-text-repr-fallback\"><pre>RandomizedSearchCV(estimator=Pipeline(steps=[(&#x27;preprocessor&#x27;,\n",
       "                                              ColumnTransformer(remainder=&#x27;passthrough&#x27;,\n",
       "                                                                transformers=[(&#x27;ohe&#x27;,\n",
       "                                                                               OneHotEncoder(drop=&#x27;first&#x27;,\n",
       "                                                                                             handle_unknown=&#x27;ignore&#x27;),\n",
       "                                                                               [&#x27;Gearbox&#x27;,\n",
       "                                                                                &#x27;Repaired&#x27;,\n",
       "                                                                                &#x27;VehicleType&#x27;,\n",
       "                                                                                &#x27;Model&#x27;,\n",
       "                                                                                &#x27;FuelType&#x27;,\n",
       "                                                                                &#x27;Brand&#x27;]),\n",
       "                                                                              (&#x27;num&#x27;,\n",
       "                                                                               StandardScaler(),\n",
       "                                                                               [&#x27;RegistrationYear&#x27;,\n",
       "                                                                                &#x27;Power&#x27;,\n",
       "                                                                                &#x27;Kilometer&#x27;,\n",
       "                                                                                &#x27;DateCreated_month&#x27;,\n",
       "                                                                                &#x27;days_from_first_to_last&#x27;])])),\n",
       "                                             (&#x27;models&#x27;,\n",
       "                                              Ridge(random_state=42))]),\n",
       "                   n_jobs=-1,\n",
       "                   param_distributions={&#x27;models&#x27;: [DecisionTreeRegressor(random_state=42)],\n",
       "                                        &#x27;models__max_depth&#x27;: range(2, 15),\n",
       "                                        &#x27;models__min_samples_split&#x27;: range(2, 10)},\n",
       "                   random_state=42, scoring=&#x27;neg_root_mean_squared_error&#x27;)</pre><b>In a Jupyter environment, please rerun this cell to show the HTML representation or trust the notebook. <br />On GitHub, the HTML representation is unable to render, please try loading this page with nbviewer.org.</b></div><div class=\"sk-container\" hidden><div class=\"sk-item sk-dashed-wrapped\"><div class=\"sk-label-container\"><div class=\"sk-label sk-toggleable\"><input class=\"sk-toggleable__control sk-hidden--visually\" id=\"sk-estimator-id-10\" type=\"checkbox\" ><label for=\"sk-estimator-id-10\" class=\"sk-toggleable__label sk-toggleable__label-arrow\">RandomizedSearchCV</label><div class=\"sk-toggleable__content\"><pre>RandomizedSearchCV(estimator=Pipeline(steps=[(&#x27;preprocessor&#x27;,\n",
       "                                              ColumnTransformer(remainder=&#x27;passthrough&#x27;,\n",
       "                                                                transformers=[(&#x27;ohe&#x27;,\n",
       "                                                                               OneHotEncoder(drop=&#x27;first&#x27;,\n",
       "                                                                                             handle_unknown=&#x27;ignore&#x27;),\n",
       "                                                                               [&#x27;Gearbox&#x27;,\n",
       "                                                                                &#x27;Repaired&#x27;,\n",
       "                                                                                &#x27;VehicleType&#x27;,\n",
       "                                                                                &#x27;Model&#x27;,\n",
       "                                                                                &#x27;FuelType&#x27;,\n",
       "                                                                                &#x27;Brand&#x27;]),\n",
       "                                                                              (&#x27;num&#x27;,\n",
       "                                                                               StandardScaler(),\n",
       "                                                                               [&#x27;RegistrationYear&#x27;,\n",
       "                                                                                &#x27;Power&#x27;,\n",
       "                                                                                &#x27;Kilometer&#x27;,\n",
       "                                                                                &#x27;DateCreated_month&#x27;,\n",
       "                                                                                &#x27;days_from_first_to_last&#x27;])])),\n",
       "                                             (&#x27;models&#x27;,\n",
       "                                              Ridge(random_state=42))]),\n",
       "                   n_jobs=-1,\n",
       "                   param_distributions={&#x27;models&#x27;: [DecisionTreeRegressor(random_state=42)],\n",
       "                                        &#x27;models__max_depth&#x27;: range(2, 15),\n",
       "                                        &#x27;models__min_samples_split&#x27;: range(2, 10)},\n",
       "                   random_state=42, scoring=&#x27;neg_root_mean_squared_error&#x27;)</pre></div></div></div><div class=\"sk-parallel\"><div class=\"sk-parallel-item\"><div class=\"sk-item\"><div class=\"sk-label-container\"><div class=\"sk-label sk-toggleable\"><input class=\"sk-toggleable__control sk-hidden--visually\" id=\"sk-estimator-id-11\" type=\"checkbox\" ><label for=\"sk-estimator-id-11\" class=\"sk-toggleable__label sk-toggleable__label-arrow\">estimator: Pipeline</label><div class=\"sk-toggleable__content\"><pre>Pipeline(steps=[(&#x27;preprocessor&#x27;,\n",
       "                 ColumnTransformer(remainder=&#x27;passthrough&#x27;,\n",
       "                                   transformers=[(&#x27;ohe&#x27;,\n",
       "                                                  OneHotEncoder(drop=&#x27;first&#x27;,\n",
       "                                                                handle_unknown=&#x27;ignore&#x27;),\n",
       "                                                  [&#x27;Gearbox&#x27;, &#x27;Repaired&#x27;,\n",
       "                                                   &#x27;VehicleType&#x27;, &#x27;Model&#x27;,\n",
       "                                                   &#x27;FuelType&#x27;, &#x27;Brand&#x27;]),\n",
       "                                                 (&#x27;num&#x27;, StandardScaler(),\n",
       "                                                  [&#x27;RegistrationYear&#x27;, &#x27;Power&#x27;,\n",
       "                                                   &#x27;Kilometer&#x27;,\n",
       "                                                   &#x27;DateCreated_month&#x27;,\n",
       "                                                   &#x27;days_from_first_to_last&#x27;])])),\n",
       "                (&#x27;models&#x27;, Ridge(random_state=42))])</pre></div></div></div><div class=\"sk-serial\"><div class=\"sk-item\"><div class=\"sk-serial\"><div class=\"sk-item sk-dashed-wrapped\"><div class=\"sk-label-container\"><div class=\"sk-label sk-toggleable\"><input class=\"sk-toggleable__control sk-hidden--visually\" id=\"sk-estimator-id-12\" type=\"checkbox\" ><label for=\"sk-estimator-id-12\" class=\"sk-toggleable__label sk-toggleable__label-arrow\">preprocessor: ColumnTransformer</label><div class=\"sk-toggleable__content\"><pre>ColumnTransformer(remainder=&#x27;passthrough&#x27;,\n",
       "                  transformers=[(&#x27;ohe&#x27;,\n",
       "                                 OneHotEncoder(drop=&#x27;first&#x27;,\n",
       "                                               handle_unknown=&#x27;ignore&#x27;),\n",
       "                                 [&#x27;Gearbox&#x27;, &#x27;Repaired&#x27;, &#x27;VehicleType&#x27;, &#x27;Model&#x27;,\n",
       "                                  &#x27;FuelType&#x27;, &#x27;Brand&#x27;]),\n",
       "                                (&#x27;num&#x27;, StandardScaler(),\n",
       "                                 [&#x27;RegistrationYear&#x27;, &#x27;Power&#x27;, &#x27;Kilometer&#x27;,\n",
       "                                  &#x27;DateCreated_month&#x27;,\n",
       "                                  &#x27;days_from_first_to_last&#x27;])])</pre></div></div></div><div class=\"sk-parallel\"><div class=\"sk-parallel-item\"><div class=\"sk-item\"><div class=\"sk-label-container\"><div class=\"sk-label sk-toggleable\"><input class=\"sk-toggleable__control sk-hidden--visually\" id=\"sk-estimator-id-13\" type=\"checkbox\" ><label for=\"sk-estimator-id-13\" class=\"sk-toggleable__label sk-toggleable__label-arrow\">ohe</label><div class=\"sk-toggleable__content\"><pre>[&#x27;Gearbox&#x27;, &#x27;Repaired&#x27;, &#x27;VehicleType&#x27;, &#x27;Model&#x27;, &#x27;FuelType&#x27;, &#x27;Brand&#x27;]</pre></div></div></div><div class=\"sk-serial\"><div class=\"sk-item\"><div class=\"sk-estimator sk-toggleable\"><input class=\"sk-toggleable__control sk-hidden--visually\" id=\"sk-estimator-id-14\" type=\"checkbox\" ><label for=\"sk-estimator-id-14\" class=\"sk-toggleable__label sk-toggleable__label-arrow\">OneHotEncoder</label><div class=\"sk-toggleable__content\"><pre>OneHotEncoder(drop=&#x27;first&#x27;, handle_unknown=&#x27;ignore&#x27;)</pre></div></div></div></div></div></div><div class=\"sk-parallel-item\"><div class=\"sk-item\"><div class=\"sk-label-container\"><div class=\"sk-label sk-toggleable\"><input class=\"sk-toggleable__control sk-hidden--visually\" id=\"sk-estimator-id-15\" type=\"checkbox\" ><label for=\"sk-estimator-id-15\" class=\"sk-toggleable__label sk-toggleable__label-arrow\">num</label><div class=\"sk-toggleable__content\"><pre>[&#x27;RegistrationYear&#x27;, &#x27;Power&#x27;, &#x27;Kilometer&#x27;, &#x27;DateCreated_month&#x27;, &#x27;days_from_first_to_last&#x27;]</pre></div></div></div><div class=\"sk-serial\"><div class=\"sk-item\"><div class=\"sk-estimator sk-toggleable\"><input class=\"sk-toggleable__control sk-hidden--visually\" id=\"sk-estimator-id-16\" type=\"checkbox\" ><label for=\"sk-estimator-id-16\" class=\"sk-toggleable__label sk-toggleable__label-arrow\">StandardScaler</label><div class=\"sk-toggleable__content\"><pre>StandardScaler()</pre></div></div></div></div></div></div><div class=\"sk-parallel-item\"><div class=\"sk-item\"><div class=\"sk-label-container\"><div class=\"sk-label sk-toggleable\"><input class=\"sk-toggleable__control sk-hidden--visually\" id=\"sk-estimator-id-17\" type=\"checkbox\" ><label for=\"sk-estimator-id-17\" class=\"sk-toggleable__label sk-toggleable__label-arrow\">remainder</label><div class=\"sk-toggleable__content\"><pre>[]</pre></div></div></div><div class=\"sk-serial\"><div class=\"sk-item\"><div class=\"sk-estimator sk-toggleable\"><input class=\"sk-toggleable__control sk-hidden--visually\" id=\"sk-estimator-id-18\" type=\"checkbox\" ><label for=\"sk-estimator-id-18\" class=\"sk-toggleable__label sk-toggleable__label-arrow\">passthrough</label><div class=\"sk-toggleable__content\"><pre>passthrough</pre></div></div></div></div></div></div></div></div><div class=\"sk-item\"><div class=\"sk-estimator sk-toggleable\"><input class=\"sk-toggleable__control sk-hidden--visually\" id=\"sk-estimator-id-19\" type=\"checkbox\" ><label for=\"sk-estimator-id-19\" class=\"sk-toggleable__label sk-toggleable__label-arrow\">Ridge</label><div class=\"sk-toggleable__content\"><pre>Ridge(random_state=42)</pre></div></div></div></div></div></div></div></div></div></div></div></div>"
      ],
      "text/plain": [
       "RandomizedSearchCV(estimator=Pipeline(steps=[('preprocessor',\n",
       "                                              ColumnTransformer(remainder='passthrough',\n",
       "                                                                transformers=[('ohe',\n",
       "                                                                               OneHotEncoder(drop='first',\n",
       "                                                                                             handle_unknown='ignore'),\n",
       "                                                                               ['Gearbox',\n",
       "                                                                                'Repaired',\n",
       "                                                                                'VehicleType',\n",
       "                                                                                'Model',\n",
       "                                                                                'FuelType',\n",
       "                                                                                'Brand']),\n",
       "                                                                              ('num',\n",
       "                                                                               StandardScaler(),\n",
       "                                                                               ['RegistrationYear',\n",
       "                                                                                'Power',\n",
       "                                                                                'Kilometer',\n",
       "                                                                                'DateCreated_month',\n",
       "                                                                                'days_from_first_to_last'])])),\n",
       "                                             ('models',\n",
       "                                              Ridge(random_state=42))]),\n",
       "                   n_jobs=-1,\n",
       "                   param_distributions={'models': [DecisionTreeRegressor(random_state=42)],\n",
       "                                        'models__max_depth': range(2, 15),\n",
       "                                        'models__min_samples_split': range(2, 10)},\n",
       "                   random_state=42, scoring='neg_root_mean_squared_error')"
      ]
     },
     "execution_count": 66,
     "metadata": {},
     "output_type": "execute_result"
    }
   ],
   "source": [
    "randomized_search = RandomizedSearchCV(\n",
    "    pipe_final, \n",
    "    param_distributions=param_distributions, \n",
    "    scoring='neg_root_mean_squared_error', \n",
    "    random_state=RANDOM_STATE,\n",
    "    n_jobs=-1\n",
    ")\n",
    "randomized_search.fit(X_train, y_train) "
   ]
  },
  {
   "cell_type": "code",
   "execution_count": 67,
   "metadata": {},
   "outputs": [
    {
     "name": "stdout",
     "output_type": "stream",
     "text": [
      "Метрика RMSE для лучшей модели:\n",
      " 1990.8941137289687\n",
      "\n",
      "Лучшая модель и её параметры:\n",
      "\n",
      " Pipeline(steps=[('preprocessor',\n",
      "                 ColumnTransformer(remainder='passthrough',\n",
      "                                   transformers=[('ohe',\n",
      "                                                  OneHotEncoder(drop='first',\n",
      "                                                                handle_unknown='ignore'),\n",
      "                                                  ['Gearbox', 'Repaired',\n",
      "                                                   'VehicleType', 'Model',\n",
      "                                                   'FuelType', 'Brand']),\n",
      "                                                 ('num', StandardScaler(),\n",
      "                                                  ['RegistrationYear', 'Power',\n",
      "                                                   'Kilometer',\n",
      "                                                   'DateCreated_month',\n",
      "                                                   'days_from_first_to_last'])])),\n",
      "                ('models',\n",
      "                 DecisionTreeRegressor(max_depth=13, min_samples_split=7,\n",
      "                                       random_state=42))])\n"
     ]
    }
   ],
   "source": [
    "print('Метрика RMSE для лучшей модели:\\n', abs(randomized_search.best_score_))\n",
    "print('\\nЛучшая модель и её параметры:\\n\\n', randomized_search.best_estimator_) "
   ]
  },
  {
   "cell_type": "markdown",
   "metadata": {},
   "source": [
    "Мы нашли модель, которая подходит под критерий качества.  Оценим время обучения и предсказания."
   ]
  },
  {
   "cell_type": "code",
   "execution_count": 68,
   "metadata": {},
   "outputs": [],
   "source": [
    "tree = randomized_search.best_estimator_\n"
   ]
  },
  {
   "cell_type": "code",
   "execution_count": 69,
   "metadata": {},
   "outputs": [
    {
     "name": "stdout",
     "output_type": "stream",
     "text": [
      "Wall time: 12.4 s\n"
     ]
    },
    {
     "data": {
      "text/html": [
       "<style>#sk-container-id-3 {color: black;}#sk-container-id-3 pre{padding: 0;}#sk-container-id-3 div.sk-toggleable {background-color: white;}#sk-container-id-3 label.sk-toggleable__label {cursor: pointer;display: block;width: 100%;margin-bottom: 0;padding: 0.3em;box-sizing: border-box;text-align: center;}#sk-container-id-3 label.sk-toggleable__label-arrow:before {content: \"▸\";float: left;margin-right: 0.25em;color: #696969;}#sk-container-id-3 label.sk-toggleable__label-arrow:hover:before {color: black;}#sk-container-id-3 div.sk-estimator:hover label.sk-toggleable__label-arrow:before {color: black;}#sk-container-id-3 div.sk-toggleable__content {max-height: 0;max-width: 0;overflow: hidden;text-align: left;background-color: #f0f8ff;}#sk-container-id-3 div.sk-toggleable__content pre {margin: 0.2em;color: black;border-radius: 0.25em;background-color: #f0f8ff;}#sk-container-id-3 input.sk-toggleable__control:checked~div.sk-toggleable__content {max-height: 200px;max-width: 100%;overflow: auto;}#sk-container-id-3 input.sk-toggleable__control:checked~label.sk-toggleable__label-arrow:before {content: \"▾\";}#sk-container-id-3 div.sk-estimator input.sk-toggleable__control:checked~label.sk-toggleable__label {background-color: #d4ebff;}#sk-container-id-3 div.sk-label input.sk-toggleable__control:checked~label.sk-toggleable__label {background-color: #d4ebff;}#sk-container-id-3 input.sk-hidden--visually {border: 0;clip: rect(1px 1px 1px 1px);clip: rect(1px, 1px, 1px, 1px);height: 1px;margin: -1px;overflow: hidden;padding: 0;position: absolute;width: 1px;}#sk-container-id-3 div.sk-estimator {font-family: monospace;background-color: #f0f8ff;border: 1px dotted black;border-radius: 0.25em;box-sizing: border-box;margin-bottom: 0.5em;}#sk-container-id-3 div.sk-estimator:hover {background-color: #d4ebff;}#sk-container-id-3 div.sk-parallel-item::after {content: \"\";width: 100%;border-bottom: 1px solid gray;flex-grow: 1;}#sk-container-id-3 div.sk-label:hover label.sk-toggleable__label {background-color: #d4ebff;}#sk-container-id-3 div.sk-serial::before {content: \"\";position: absolute;border-left: 1px solid gray;box-sizing: border-box;top: 0;bottom: 0;left: 50%;z-index: 0;}#sk-container-id-3 div.sk-serial {display: flex;flex-direction: column;align-items: center;background-color: white;padding-right: 0.2em;padding-left: 0.2em;position: relative;}#sk-container-id-3 div.sk-item {position: relative;z-index: 1;}#sk-container-id-3 div.sk-parallel {display: flex;align-items: stretch;justify-content: center;background-color: white;position: relative;}#sk-container-id-3 div.sk-item::before, #sk-container-id-3 div.sk-parallel-item::before {content: \"\";position: absolute;border-left: 1px solid gray;box-sizing: border-box;top: 0;bottom: 0;left: 50%;z-index: -1;}#sk-container-id-3 div.sk-parallel-item {display: flex;flex-direction: column;z-index: 1;position: relative;background-color: white;}#sk-container-id-3 div.sk-parallel-item:first-child::after {align-self: flex-end;width: 50%;}#sk-container-id-3 div.sk-parallel-item:last-child::after {align-self: flex-start;width: 50%;}#sk-container-id-3 div.sk-parallel-item:only-child::after {width: 0;}#sk-container-id-3 div.sk-dashed-wrapped {border: 1px dashed gray;margin: 0 0.4em 0.5em 0.4em;box-sizing: border-box;padding-bottom: 0.4em;background-color: white;}#sk-container-id-3 div.sk-label label {font-family: monospace;font-weight: bold;display: inline-block;line-height: 1.2em;}#sk-container-id-3 div.sk-label-container {text-align: center;}#sk-container-id-3 div.sk-container {/* jupyter's `normalize.less` sets `[hidden] { display: none; }` but bootstrap.min.css set `[hidden] { display: none !important; }` so we also need the `!important` here to be able to override the default hidden behavior on the sphinx rendered scikit-learn.org. See: https://github.com/scikit-learn/scikit-learn/issues/21755 */display: inline-block !important;position: relative;}#sk-container-id-3 div.sk-text-repr-fallback {display: none;}</style><div id=\"sk-container-id-3\" class=\"sk-top-container\"><div class=\"sk-text-repr-fallback\"><pre>Pipeline(steps=[(&#x27;preprocessor&#x27;,\n",
       "                 ColumnTransformer(remainder=&#x27;passthrough&#x27;,\n",
       "                                   transformers=[(&#x27;ohe&#x27;,\n",
       "                                                  OneHotEncoder(drop=&#x27;first&#x27;,\n",
       "                                                                handle_unknown=&#x27;ignore&#x27;),\n",
       "                                                  [&#x27;Gearbox&#x27;, &#x27;Repaired&#x27;,\n",
       "                                                   &#x27;VehicleType&#x27;, &#x27;Model&#x27;,\n",
       "                                                   &#x27;FuelType&#x27;, &#x27;Brand&#x27;]),\n",
       "                                                 (&#x27;num&#x27;, StandardScaler(),\n",
       "                                                  [&#x27;RegistrationYear&#x27;, &#x27;Power&#x27;,\n",
       "                                                   &#x27;Kilometer&#x27;,\n",
       "                                                   &#x27;DateCreated_month&#x27;,\n",
       "                                                   &#x27;days_from_first_to_last&#x27;])])),\n",
       "                (&#x27;models&#x27;,\n",
       "                 DecisionTreeRegressor(max_depth=13, min_samples_split=7,\n",
       "                                       random_state=42))])</pre><b>In a Jupyter environment, please rerun this cell to show the HTML representation or trust the notebook. <br />On GitHub, the HTML representation is unable to render, please try loading this page with nbviewer.org.</b></div><div class=\"sk-container\" hidden><div class=\"sk-item sk-dashed-wrapped\"><div class=\"sk-label-container\"><div class=\"sk-label sk-toggleable\"><input class=\"sk-toggleable__control sk-hidden--visually\" id=\"sk-estimator-id-20\" type=\"checkbox\" ><label for=\"sk-estimator-id-20\" class=\"sk-toggleable__label sk-toggleable__label-arrow\">Pipeline</label><div class=\"sk-toggleable__content\"><pre>Pipeline(steps=[(&#x27;preprocessor&#x27;,\n",
       "                 ColumnTransformer(remainder=&#x27;passthrough&#x27;,\n",
       "                                   transformers=[(&#x27;ohe&#x27;,\n",
       "                                                  OneHotEncoder(drop=&#x27;first&#x27;,\n",
       "                                                                handle_unknown=&#x27;ignore&#x27;),\n",
       "                                                  [&#x27;Gearbox&#x27;, &#x27;Repaired&#x27;,\n",
       "                                                   &#x27;VehicleType&#x27;, &#x27;Model&#x27;,\n",
       "                                                   &#x27;FuelType&#x27;, &#x27;Brand&#x27;]),\n",
       "                                                 (&#x27;num&#x27;, StandardScaler(),\n",
       "                                                  [&#x27;RegistrationYear&#x27;, &#x27;Power&#x27;,\n",
       "                                                   &#x27;Kilometer&#x27;,\n",
       "                                                   &#x27;DateCreated_month&#x27;,\n",
       "                                                   &#x27;days_from_first_to_last&#x27;])])),\n",
       "                (&#x27;models&#x27;,\n",
       "                 DecisionTreeRegressor(max_depth=13, min_samples_split=7,\n",
       "                                       random_state=42))])</pre></div></div></div><div class=\"sk-serial\"><div class=\"sk-item sk-dashed-wrapped\"><div class=\"sk-label-container\"><div class=\"sk-label sk-toggleable\"><input class=\"sk-toggleable__control sk-hidden--visually\" id=\"sk-estimator-id-21\" type=\"checkbox\" ><label for=\"sk-estimator-id-21\" class=\"sk-toggleable__label sk-toggleable__label-arrow\">preprocessor: ColumnTransformer</label><div class=\"sk-toggleable__content\"><pre>ColumnTransformer(remainder=&#x27;passthrough&#x27;,\n",
       "                  transformers=[(&#x27;ohe&#x27;,\n",
       "                                 OneHotEncoder(drop=&#x27;first&#x27;,\n",
       "                                               handle_unknown=&#x27;ignore&#x27;),\n",
       "                                 [&#x27;Gearbox&#x27;, &#x27;Repaired&#x27;, &#x27;VehicleType&#x27;, &#x27;Model&#x27;,\n",
       "                                  &#x27;FuelType&#x27;, &#x27;Brand&#x27;]),\n",
       "                                (&#x27;num&#x27;, StandardScaler(),\n",
       "                                 [&#x27;RegistrationYear&#x27;, &#x27;Power&#x27;, &#x27;Kilometer&#x27;,\n",
       "                                  &#x27;DateCreated_month&#x27;,\n",
       "                                  &#x27;days_from_first_to_last&#x27;])])</pre></div></div></div><div class=\"sk-parallel\"><div class=\"sk-parallel-item\"><div class=\"sk-item\"><div class=\"sk-label-container\"><div class=\"sk-label sk-toggleable\"><input class=\"sk-toggleable__control sk-hidden--visually\" id=\"sk-estimator-id-22\" type=\"checkbox\" ><label for=\"sk-estimator-id-22\" class=\"sk-toggleable__label sk-toggleable__label-arrow\">ohe</label><div class=\"sk-toggleable__content\"><pre>[&#x27;Gearbox&#x27;, &#x27;Repaired&#x27;, &#x27;VehicleType&#x27;, &#x27;Model&#x27;, &#x27;FuelType&#x27;, &#x27;Brand&#x27;]</pre></div></div></div><div class=\"sk-serial\"><div class=\"sk-item\"><div class=\"sk-estimator sk-toggleable\"><input class=\"sk-toggleable__control sk-hidden--visually\" id=\"sk-estimator-id-23\" type=\"checkbox\" ><label for=\"sk-estimator-id-23\" class=\"sk-toggleable__label sk-toggleable__label-arrow\">OneHotEncoder</label><div class=\"sk-toggleable__content\"><pre>OneHotEncoder(drop=&#x27;first&#x27;, handle_unknown=&#x27;ignore&#x27;)</pre></div></div></div></div></div></div><div class=\"sk-parallel-item\"><div class=\"sk-item\"><div class=\"sk-label-container\"><div class=\"sk-label sk-toggleable\"><input class=\"sk-toggleable__control sk-hidden--visually\" id=\"sk-estimator-id-24\" type=\"checkbox\" ><label for=\"sk-estimator-id-24\" class=\"sk-toggleable__label sk-toggleable__label-arrow\">num</label><div class=\"sk-toggleable__content\"><pre>[&#x27;RegistrationYear&#x27;, &#x27;Power&#x27;, &#x27;Kilometer&#x27;, &#x27;DateCreated_month&#x27;, &#x27;days_from_first_to_last&#x27;]</pre></div></div></div><div class=\"sk-serial\"><div class=\"sk-item\"><div class=\"sk-estimator sk-toggleable\"><input class=\"sk-toggleable__control sk-hidden--visually\" id=\"sk-estimator-id-25\" type=\"checkbox\" ><label for=\"sk-estimator-id-25\" class=\"sk-toggleable__label sk-toggleable__label-arrow\">StandardScaler</label><div class=\"sk-toggleable__content\"><pre>StandardScaler()</pre></div></div></div></div></div></div><div class=\"sk-parallel-item\"><div class=\"sk-item\"><div class=\"sk-label-container\"><div class=\"sk-label sk-toggleable\"><input class=\"sk-toggleable__control sk-hidden--visually\" id=\"sk-estimator-id-26\" type=\"checkbox\" ><label for=\"sk-estimator-id-26\" class=\"sk-toggleable__label sk-toggleable__label-arrow\">remainder</label><div class=\"sk-toggleable__content\"><pre>[]</pre></div></div></div><div class=\"sk-serial\"><div class=\"sk-item\"><div class=\"sk-estimator sk-toggleable\"><input class=\"sk-toggleable__control sk-hidden--visually\" id=\"sk-estimator-id-27\" type=\"checkbox\" ><label for=\"sk-estimator-id-27\" class=\"sk-toggleable__label sk-toggleable__label-arrow\">passthrough</label><div class=\"sk-toggleable__content\"><pre>passthrough</pre></div></div></div></div></div></div></div></div><div class=\"sk-item\"><div class=\"sk-estimator sk-toggleable\"><input class=\"sk-toggleable__control sk-hidden--visually\" id=\"sk-estimator-id-28\" type=\"checkbox\" ><label for=\"sk-estimator-id-28\" class=\"sk-toggleable__label sk-toggleable__label-arrow\">DecisionTreeRegressor</label><div class=\"sk-toggleable__content\"><pre>DecisionTreeRegressor(max_depth=13, min_samples_split=7, random_state=42)</pre></div></div></div></div></div></div></div>"
      ],
      "text/plain": [
       "Pipeline(steps=[('preprocessor',\n",
       "                 ColumnTransformer(remainder='passthrough',\n",
       "                                   transformers=[('ohe',\n",
       "                                                  OneHotEncoder(drop='first',\n",
       "                                                                handle_unknown='ignore'),\n",
       "                                                  ['Gearbox', 'Repaired',\n",
       "                                                   'VehicleType', 'Model',\n",
       "                                                   'FuelType', 'Brand']),\n",
       "                                                 ('num', StandardScaler(),\n",
       "                                                  ['RegistrationYear', 'Power',\n",
       "                                                   'Kilometer',\n",
       "                                                   'DateCreated_month',\n",
       "                                                   'days_from_first_to_last'])])),\n",
       "                ('models',\n",
       "                 DecisionTreeRegressor(max_depth=13, min_samples_split=7,\n",
       "                                       random_state=42))])"
      ]
     },
     "execution_count": 69,
     "metadata": {},
     "output_type": "execute_result"
    }
   ],
   "source": [
    "%%time\n",
    "tree.fit(X_train, y_train)"
   ]
  },
  {
   "cell_type": "code",
   "execution_count": 70,
   "metadata": {},
   "outputs": [
    {
     "name": "stdout",
     "output_type": "stream",
     "text": [
      "Wall time: 781 ms\n"
     ]
    }
   ],
   "source": [
    "%%time\n",
    "y_pred = tree.predict(X_train)"
   ]
  },
  {
   "cell_type": "markdown",
   "metadata": {},
   "source": [
    "C помощью рандомизированного поиска с кроссвалидацией удалось найти модель соответсвующую критерию качества (RMSE<2500) :  \n",
    "- RMSE = 1990 \n",
    "- Время обучения = 12.4 с\n",
    "- Время предсказания = 781 мс\n",
    "\n",
    "Теперь попробуем использовать градиентный бустинг LightGBM."
   ]
  },
  {
   "cell_type": "markdown",
   "metadata": {},
   "source": [
    "\n",
    "#### Градиентный бустинг LightGBM\n",
    "\n",
    "Сначала посмотрим на модель без подбора гиперпараметров.\n"
   ]
  },
  {
   "cell_type": "code",
   "execution_count": 71,
   "metadata": {},
   "outputs": [],
   "source": [
    "categorical_features = ['VehicleType', 'Gearbox', 'Model', 'FuelType', 'Brand','Repaired']\n",
    "for feature in categorical_features:\n",
    "    X[feature] = X[feature].astype('category')\n",
    "\n",
    "X_train, X_test, y_train, y_test = train_test_split(X, y, test_size=0.2, random_state=RANDOM_STATE)\n"
   ]
  },
  {
   "cell_type": "code",
   "execution_count": 72,
   "metadata": {},
   "outputs": [],
   "source": [
    "model = lgb.LGBMRegressor()"
   ]
  },
  {
   "cell_type": "code",
   "execution_count": 73,
   "metadata": {},
   "outputs": [
    {
     "name": "stdout",
     "output_type": "stream",
     "text": [
      "Wall time: 1.92 s\n"
     ]
    },
    {
     "data": {
      "text/html": [
       "<style>#sk-container-id-4 {color: black;}#sk-container-id-4 pre{padding: 0;}#sk-container-id-4 div.sk-toggleable {background-color: white;}#sk-container-id-4 label.sk-toggleable__label {cursor: pointer;display: block;width: 100%;margin-bottom: 0;padding: 0.3em;box-sizing: border-box;text-align: center;}#sk-container-id-4 label.sk-toggleable__label-arrow:before {content: \"▸\";float: left;margin-right: 0.25em;color: #696969;}#sk-container-id-4 label.sk-toggleable__label-arrow:hover:before {color: black;}#sk-container-id-4 div.sk-estimator:hover label.sk-toggleable__label-arrow:before {color: black;}#sk-container-id-4 div.sk-toggleable__content {max-height: 0;max-width: 0;overflow: hidden;text-align: left;background-color: #f0f8ff;}#sk-container-id-4 div.sk-toggleable__content pre {margin: 0.2em;color: black;border-radius: 0.25em;background-color: #f0f8ff;}#sk-container-id-4 input.sk-toggleable__control:checked~div.sk-toggleable__content {max-height: 200px;max-width: 100%;overflow: auto;}#sk-container-id-4 input.sk-toggleable__control:checked~label.sk-toggleable__label-arrow:before {content: \"▾\";}#sk-container-id-4 div.sk-estimator input.sk-toggleable__control:checked~label.sk-toggleable__label {background-color: #d4ebff;}#sk-container-id-4 div.sk-label input.sk-toggleable__control:checked~label.sk-toggleable__label {background-color: #d4ebff;}#sk-container-id-4 input.sk-hidden--visually {border: 0;clip: rect(1px 1px 1px 1px);clip: rect(1px, 1px, 1px, 1px);height: 1px;margin: -1px;overflow: hidden;padding: 0;position: absolute;width: 1px;}#sk-container-id-4 div.sk-estimator {font-family: monospace;background-color: #f0f8ff;border: 1px dotted black;border-radius: 0.25em;box-sizing: border-box;margin-bottom: 0.5em;}#sk-container-id-4 div.sk-estimator:hover {background-color: #d4ebff;}#sk-container-id-4 div.sk-parallel-item::after {content: \"\";width: 100%;border-bottom: 1px solid gray;flex-grow: 1;}#sk-container-id-4 div.sk-label:hover label.sk-toggleable__label {background-color: #d4ebff;}#sk-container-id-4 div.sk-serial::before {content: \"\";position: absolute;border-left: 1px solid gray;box-sizing: border-box;top: 0;bottom: 0;left: 50%;z-index: 0;}#sk-container-id-4 div.sk-serial {display: flex;flex-direction: column;align-items: center;background-color: white;padding-right: 0.2em;padding-left: 0.2em;position: relative;}#sk-container-id-4 div.sk-item {position: relative;z-index: 1;}#sk-container-id-4 div.sk-parallel {display: flex;align-items: stretch;justify-content: center;background-color: white;position: relative;}#sk-container-id-4 div.sk-item::before, #sk-container-id-4 div.sk-parallel-item::before {content: \"\";position: absolute;border-left: 1px solid gray;box-sizing: border-box;top: 0;bottom: 0;left: 50%;z-index: -1;}#sk-container-id-4 div.sk-parallel-item {display: flex;flex-direction: column;z-index: 1;position: relative;background-color: white;}#sk-container-id-4 div.sk-parallel-item:first-child::after {align-self: flex-end;width: 50%;}#sk-container-id-4 div.sk-parallel-item:last-child::after {align-self: flex-start;width: 50%;}#sk-container-id-4 div.sk-parallel-item:only-child::after {width: 0;}#sk-container-id-4 div.sk-dashed-wrapped {border: 1px dashed gray;margin: 0 0.4em 0.5em 0.4em;box-sizing: border-box;padding-bottom: 0.4em;background-color: white;}#sk-container-id-4 div.sk-label label {font-family: monospace;font-weight: bold;display: inline-block;line-height: 1.2em;}#sk-container-id-4 div.sk-label-container {text-align: center;}#sk-container-id-4 div.sk-container {/* jupyter's `normalize.less` sets `[hidden] { display: none; }` but bootstrap.min.css set `[hidden] { display: none !important; }` so we also need the `!important` here to be able to override the default hidden behavior on the sphinx rendered scikit-learn.org. See: https://github.com/scikit-learn/scikit-learn/issues/21755 */display: inline-block !important;position: relative;}#sk-container-id-4 div.sk-text-repr-fallback {display: none;}</style><div id=\"sk-container-id-4\" class=\"sk-top-container\"><div class=\"sk-text-repr-fallback\"><pre>LGBMRegressor()</pre><b>In a Jupyter environment, please rerun this cell to show the HTML representation or trust the notebook. <br />On GitHub, the HTML representation is unable to render, please try loading this page with nbviewer.org.</b></div><div class=\"sk-container\" hidden><div class=\"sk-item\"><div class=\"sk-estimator sk-toggleable\"><input class=\"sk-toggleable__control sk-hidden--visually\" id=\"sk-estimator-id-29\" type=\"checkbox\" checked><label for=\"sk-estimator-id-29\" class=\"sk-toggleable__label sk-toggleable__label-arrow\">LGBMRegressor</label><div class=\"sk-toggleable__content\"><pre>LGBMRegressor()</pre></div></div></div></div></div>"
      ],
      "text/plain": [
       "LGBMRegressor()"
      ]
     },
     "execution_count": 73,
     "metadata": {},
     "output_type": "execute_result"
    }
   ],
   "source": [
    "%%time\n",
    "model.fit(X_train, y_train)"
   ]
  },
  {
   "cell_type": "code",
   "execution_count": 74,
   "metadata": {},
   "outputs": [
    {
     "name": "stdout",
     "output_type": "stream",
     "text": [
      "Wall time: 886 ms\n"
     ]
    }
   ],
   "source": [
    "%%time\n",
    "y_pred = model.predict(X_train)"
   ]
  },
  {
   "cell_type": "code",
   "execution_count": 75,
   "metadata": {},
   "outputs": [
    {
     "data": {
      "text/plain": [
       "1710.023715741283"
      ]
     },
     "execution_count": 75,
     "metadata": {},
     "output_type": "execute_result"
    }
   ],
   "source": [
    "ValidationScoreRMSE(model, X_train, y_train)"
   ]
  },
  {
   "cell_type": "markdown",
   "metadata": {},
   "source": [
    "Дефолтный градиентный бустинг показывает хорошие результаты:\n",
    "- RMSE = 1710\n",
    "- Время обучения = 3.0 с\n",
    "- Время предсказания = 871 мс\n",
    "\n",
    "Все показатели лучше чем при использовании линейной регрессии и дерева решений.\n",
    "\n",
    "Попробуем дополнительно улучшить качество градиентного бустинга подбором гиперпараметров.\n"
   ]
  },
  {
   "cell_type": "code",
   "execution_count": 76,
   "metadata": {},
   "outputs": [],
   "source": [
    "param_distributions = {\n",
    "        'learning_rate': np.arange(0.1, 0.5, 0.1),\n",
    "        'max_depth': range(2,10),\n",
    "        'n_estimators': range(50,100, 10)\n",
    "}"
   ]
  },
  {
   "cell_type": "code",
   "execution_count": 77,
   "metadata": {},
   "outputs": [
    {
     "data": {
      "text/html": [
       "<style>#sk-container-id-5 {color: black;}#sk-container-id-5 pre{padding: 0;}#sk-container-id-5 div.sk-toggleable {background-color: white;}#sk-container-id-5 label.sk-toggleable__label {cursor: pointer;display: block;width: 100%;margin-bottom: 0;padding: 0.3em;box-sizing: border-box;text-align: center;}#sk-container-id-5 label.sk-toggleable__label-arrow:before {content: \"▸\";float: left;margin-right: 0.25em;color: #696969;}#sk-container-id-5 label.sk-toggleable__label-arrow:hover:before {color: black;}#sk-container-id-5 div.sk-estimator:hover label.sk-toggleable__label-arrow:before {color: black;}#sk-container-id-5 div.sk-toggleable__content {max-height: 0;max-width: 0;overflow: hidden;text-align: left;background-color: #f0f8ff;}#sk-container-id-5 div.sk-toggleable__content pre {margin: 0.2em;color: black;border-radius: 0.25em;background-color: #f0f8ff;}#sk-container-id-5 input.sk-toggleable__control:checked~div.sk-toggleable__content {max-height: 200px;max-width: 100%;overflow: auto;}#sk-container-id-5 input.sk-toggleable__control:checked~label.sk-toggleable__label-arrow:before {content: \"▾\";}#sk-container-id-5 div.sk-estimator input.sk-toggleable__control:checked~label.sk-toggleable__label {background-color: #d4ebff;}#sk-container-id-5 div.sk-label input.sk-toggleable__control:checked~label.sk-toggleable__label {background-color: #d4ebff;}#sk-container-id-5 input.sk-hidden--visually {border: 0;clip: rect(1px 1px 1px 1px);clip: rect(1px, 1px, 1px, 1px);height: 1px;margin: -1px;overflow: hidden;padding: 0;position: absolute;width: 1px;}#sk-container-id-5 div.sk-estimator {font-family: monospace;background-color: #f0f8ff;border: 1px dotted black;border-radius: 0.25em;box-sizing: border-box;margin-bottom: 0.5em;}#sk-container-id-5 div.sk-estimator:hover {background-color: #d4ebff;}#sk-container-id-5 div.sk-parallel-item::after {content: \"\";width: 100%;border-bottom: 1px solid gray;flex-grow: 1;}#sk-container-id-5 div.sk-label:hover label.sk-toggleable__label {background-color: #d4ebff;}#sk-container-id-5 div.sk-serial::before {content: \"\";position: absolute;border-left: 1px solid gray;box-sizing: border-box;top: 0;bottom: 0;left: 50%;z-index: 0;}#sk-container-id-5 div.sk-serial {display: flex;flex-direction: column;align-items: center;background-color: white;padding-right: 0.2em;padding-left: 0.2em;position: relative;}#sk-container-id-5 div.sk-item {position: relative;z-index: 1;}#sk-container-id-5 div.sk-parallel {display: flex;align-items: stretch;justify-content: center;background-color: white;position: relative;}#sk-container-id-5 div.sk-item::before, #sk-container-id-5 div.sk-parallel-item::before {content: \"\";position: absolute;border-left: 1px solid gray;box-sizing: border-box;top: 0;bottom: 0;left: 50%;z-index: -1;}#sk-container-id-5 div.sk-parallel-item {display: flex;flex-direction: column;z-index: 1;position: relative;background-color: white;}#sk-container-id-5 div.sk-parallel-item:first-child::after {align-self: flex-end;width: 50%;}#sk-container-id-5 div.sk-parallel-item:last-child::after {align-self: flex-start;width: 50%;}#sk-container-id-5 div.sk-parallel-item:only-child::after {width: 0;}#sk-container-id-5 div.sk-dashed-wrapped {border: 1px dashed gray;margin: 0 0.4em 0.5em 0.4em;box-sizing: border-box;padding-bottom: 0.4em;background-color: white;}#sk-container-id-5 div.sk-label label {font-family: monospace;font-weight: bold;display: inline-block;line-height: 1.2em;}#sk-container-id-5 div.sk-label-container {text-align: center;}#sk-container-id-5 div.sk-container {/* jupyter's `normalize.less` sets `[hidden] { display: none; }` but bootstrap.min.css set `[hidden] { display: none !important; }` so we also need the `!important` here to be able to override the default hidden behavior on the sphinx rendered scikit-learn.org. See: https://github.com/scikit-learn/scikit-learn/issues/21755 */display: inline-block !important;position: relative;}#sk-container-id-5 div.sk-text-repr-fallback {display: none;}</style><div id=\"sk-container-id-5\" class=\"sk-top-container\"><div class=\"sk-text-repr-fallback\"><pre>RandomizedSearchCV(estimator=LGBMRegressor(), n_jobs=-1,\n",
       "                   param_distributions={&#x27;learning_rate&#x27;: array([0.1, 0.2, 0.3, 0.4]),\n",
       "                                        &#x27;max_depth&#x27;: range(2, 10),\n",
       "                                        &#x27;n_estimators&#x27;: range(50, 100, 10)},\n",
       "                   random_state=42, scoring=&#x27;neg_root_mean_squared_error&#x27;)</pre><b>In a Jupyter environment, please rerun this cell to show the HTML representation or trust the notebook. <br />On GitHub, the HTML representation is unable to render, please try loading this page with nbviewer.org.</b></div><div class=\"sk-container\" hidden><div class=\"sk-item sk-dashed-wrapped\"><div class=\"sk-label-container\"><div class=\"sk-label sk-toggleable\"><input class=\"sk-toggleable__control sk-hidden--visually\" id=\"sk-estimator-id-30\" type=\"checkbox\" ><label for=\"sk-estimator-id-30\" class=\"sk-toggleable__label sk-toggleable__label-arrow\">RandomizedSearchCV</label><div class=\"sk-toggleable__content\"><pre>RandomizedSearchCV(estimator=LGBMRegressor(), n_jobs=-1,\n",
       "                   param_distributions={&#x27;learning_rate&#x27;: array([0.1, 0.2, 0.3, 0.4]),\n",
       "                                        &#x27;max_depth&#x27;: range(2, 10),\n",
       "                                        &#x27;n_estimators&#x27;: range(50, 100, 10)},\n",
       "                   random_state=42, scoring=&#x27;neg_root_mean_squared_error&#x27;)</pre></div></div></div><div class=\"sk-parallel\"><div class=\"sk-parallel-item\"><div class=\"sk-item\"><div class=\"sk-label-container\"><div class=\"sk-label sk-toggleable\"><input class=\"sk-toggleable__control sk-hidden--visually\" id=\"sk-estimator-id-31\" type=\"checkbox\" ><label for=\"sk-estimator-id-31\" class=\"sk-toggleable__label sk-toggleable__label-arrow\">estimator: LGBMRegressor</label><div class=\"sk-toggleable__content\"><pre>LGBMRegressor()</pre></div></div></div><div class=\"sk-serial\"><div class=\"sk-item\"><div class=\"sk-estimator sk-toggleable\"><input class=\"sk-toggleable__control sk-hidden--visually\" id=\"sk-estimator-id-32\" type=\"checkbox\" ><label for=\"sk-estimator-id-32\" class=\"sk-toggleable__label sk-toggleable__label-arrow\">LGBMRegressor</label><div class=\"sk-toggleable__content\"><pre>LGBMRegressor()</pre></div></div></div></div></div></div></div></div></div></div>"
      ],
      "text/plain": [
       "RandomizedSearchCV(estimator=LGBMRegressor(), n_jobs=-1,\n",
       "                   param_distributions={'learning_rate': array([0.1, 0.2, 0.3, 0.4]),\n",
       "                                        'max_depth': range(2, 10),\n",
       "                                        'n_estimators': range(50, 100, 10)},\n",
       "                   random_state=42, scoring='neg_root_mean_squared_error')"
      ]
     },
     "execution_count": 77,
     "metadata": {},
     "output_type": "execute_result"
    }
   ],
   "source": [
    "randomized_search = RandomizedSearchCV(\n",
    "    model, \n",
    "    param_distributions=param_distributions, \n",
    "    scoring='neg_root_mean_squared_error', \n",
    "    random_state=RANDOM_STATE,\n",
    "    n_jobs=-1\n",
    ")\n",
    "randomized_search.fit(X_train, y_train) "
   ]
  },
  {
   "cell_type": "code",
   "execution_count": 78,
   "metadata": {},
   "outputs": [
    {
     "name": "stdout",
     "output_type": "stream",
     "text": [
      "Метрика RMSE для лучшей модели:\n",
      " 1691.5657699168648\n",
      "\n",
      "Лучшая модель и её параметры:\n",
      "\n",
      " LGBMRegressor(learning_rate=0.30000000000000004, max_depth=7, n_estimators=80)\n"
     ]
    }
   ],
   "source": [
    "print('Метрика RMSE для лучшей модели:\\n', abs(randomized_search.best_score_))\n",
    "print('\\nЛучшая модель и её параметры:\\n\\n', randomized_search.best_estimator_) "
   ]
  },
  {
   "cell_type": "code",
   "execution_count": 79,
   "metadata": {},
   "outputs": [],
   "source": [
    "gbm = randomized_search.best_estimator_"
   ]
  },
  {
   "cell_type": "code",
   "execution_count": 80,
   "metadata": {},
   "outputs": [
    {
     "name": "stdout",
     "output_type": "stream",
     "text": [
      "Wall time: 1.42 s\n"
     ]
    },
    {
     "data": {
      "text/html": [
       "<style>#sk-container-id-6 {color: black;}#sk-container-id-6 pre{padding: 0;}#sk-container-id-6 div.sk-toggleable {background-color: white;}#sk-container-id-6 label.sk-toggleable__label {cursor: pointer;display: block;width: 100%;margin-bottom: 0;padding: 0.3em;box-sizing: border-box;text-align: center;}#sk-container-id-6 label.sk-toggleable__label-arrow:before {content: \"▸\";float: left;margin-right: 0.25em;color: #696969;}#sk-container-id-6 label.sk-toggleable__label-arrow:hover:before {color: black;}#sk-container-id-6 div.sk-estimator:hover label.sk-toggleable__label-arrow:before {color: black;}#sk-container-id-6 div.sk-toggleable__content {max-height: 0;max-width: 0;overflow: hidden;text-align: left;background-color: #f0f8ff;}#sk-container-id-6 div.sk-toggleable__content pre {margin: 0.2em;color: black;border-radius: 0.25em;background-color: #f0f8ff;}#sk-container-id-6 input.sk-toggleable__control:checked~div.sk-toggleable__content {max-height: 200px;max-width: 100%;overflow: auto;}#sk-container-id-6 input.sk-toggleable__control:checked~label.sk-toggleable__label-arrow:before {content: \"▾\";}#sk-container-id-6 div.sk-estimator input.sk-toggleable__control:checked~label.sk-toggleable__label {background-color: #d4ebff;}#sk-container-id-6 div.sk-label input.sk-toggleable__control:checked~label.sk-toggleable__label {background-color: #d4ebff;}#sk-container-id-6 input.sk-hidden--visually {border: 0;clip: rect(1px 1px 1px 1px);clip: rect(1px, 1px, 1px, 1px);height: 1px;margin: -1px;overflow: hidden;padding: 0;position: absolute;width: 1px;}#sk-container-id-6 div.sk-estimator {font-family: monospace;background-color: #f0f8ff;border: 1px dotted black;border-radius: 0.25em;box-sizing: border-box;margin-bottom: 0.5em;}#sk-container-id-6 div.sk-estimator:hover {background-color: #d4ebff;}#sk-container-id-6 div.sk-parallel-item::after {content: \"\";width: 100%;border-bottom: 1px solid gray;flex-grow: 1;}#sk-container-id-6 div.sk-label:hover label.sk-toggleable__label {background-color: #d4ebff;}#sk-container-id-6 div.sk-serial::before {content: \"\";position: absolute;border-left: 1px solid gray;box-sizing: border-box;top: 0;bottom: 0;left: 50%;z-index: 0;}#sk-container-id-6 div.sk-serial {display: flex;flex-direction: column;align-items: center;background-color: white;padding-right: 0.2em;padding-left: 0.2em;position: relative;}#sk-container-id-6 div.sk-item {position: relative;z-index: 1;}#sk-container-id-6 div.sk-parallel {display: flex;align-items: stretch;justify-content: center;background-color: white;position: relative;}#sk-container-id-6 div.sk-item::before, #sk-container-id-6 div.sk-parallel-item::before {content: \"\";position: absolute;border-left: 1px solid gray;box-sizing: border-box;top: 0;bottom: 0;left: 50%;z-index: -1;}#sk-container-id-6 div.sk-parallel-item {display: flex;flex-direction: column;z-index: 1;position: relative;background-color: white;}#sk-container-id-6 div.sk-parallel-item:first-child::after {align-self: flex-end;width: 50%;}#sk-container-id-6 div.sk-parallel-item:last-child::after {align-self: flex-start;width: 50%;}#sk-container-id-6 div.sk-parallel-item:only-child::after {width: 0;}#sk-container-id-6 div.sk-dashed-wrapped {border: 1px dashed gray;margin: 0 0.4em 0.5em 0.4em;box-sizing: border-box;padding-bottom: 0.4em;background-color: white;}#sk-container-id-6 div.sk-label label {font-family: monospace;font-weight: bold;display: inline-block;line-height: 1.2em;}#sk-container-id-6 div.sk-label-container {text-align: center;}#sk-container-id-6 div.sk-container {/* jupyter's `normalize.less` sets `[hidden] { display: none; }` but bootstrap.min.css set `[hidden] { display: none !important; }` so we also need the `!important` here to be able to override the default hidden behavior on the sphinx rendered scikit-learn.org. See: https://github.com/scikit-learn/scikit-learn/issues/21755 */display: inline-block !important;position: relative;}#sk-container-id-6 div.sk-text-repr-fallback {display: none;}</style><div id=\"sk-container-id-6\" class=\"sk-top-container\"><div class=\"sk-text-repr-fallback\"><pre>LGBMRegressor(learning_rate=0.30000000000000004, max_depth=7, n_estimators=80)</pre><b>In a Jupyter environment, please rerun this cell to show the HTML representation or trust the notebook. <br />On GitHub, the HTML representation is unable to render, please try loading this page with nbviewer.org.</b></div><div class=\"sk-container\" hidden><div class=\"sk-item\"><div class=\"sk-estimator sk-toggleable\"><input class=\"sk-toggleable__control sk-hidden--visually\" id=\"sk-estimator-id-33\" type=\"checkbox\" checked><label for=\"sk-estimator-id-33\" class=\"sk-toggleable__label sk-toggleable__label-arrow\">LGBMRegressor</label><div class=\"sk-toggleable__content\"><pre>LGBMRegressor(learning_rate=0.30000000000000004, max_depth=7, n_estimators=80)</pre></div></div></div></div></div>"
      ],
      "text/plain": [
       "LGBMRegressor(learning_rate=0.30000000000000004, max_depth=7, n_estimators=80)"
      ]
     },
     "execution_count": 80,
     "metadata": {},
     "output_type": "execute_result"
    }
   ],
   "source": [
    "%%time\n",
    "gbm.fit(X_train, y_train)"
   ]
  },
  {
   "cell_type": "code",
   "execution_count": 81,
   "metadata": {},
   "outputs": [
    {
     "name": "stdout",
     "output_type": "stream",
     "text": [
      "Wall time: 771 ms\n"
     ]
    }
   ],
   "source": [
    "%%time\n",
    "y_pred = gbm.predict(X_train)"
   ]
  },
  {
   "cell_type": "markdown",
   "metadata": {},
   "source": [
    "Градиентный бустинг с подобранными параметрами чуть лучше и чуть быстрее работает чем все ранее рассмотренные модели:\n",
    "- RMSE = 1693\n",
    "- Время обучения = 1.71 с\n",
    "- Время предсказания = 676 мс\n"
   ]
  },
  {
   "cell_type": "markdown",
   "metadata": {},
   "source": [
    "Лучшая модель из рассмотренных по качеству и скорости обучения и предсказания - градиентный бустинг LGBMRegressor(learning_rate=0.3, max_depth=7, n_estimators=80). Для него посчитаем итоговую метрику на тестовой выборке."
   ]
  },
  {
   "cell_type": "code",
   "execution_count": 82,
   "metadata": {},
   "outputs": [
    {
     "name": "stdout",
     "output_type": "stream",
     "text": [
      "Итоговое значение метрики качества RMSE на тестовой выборке для лучшей модели - градиентного бустинга 1684.28\n"
     ]
    }
   ],
   "source": [
    "y_pred = gbm.predict(X_test)\n",
    "print(f'Итоговое значение метрики качества RMSE на тестовой выборке для лучшей модели - градиентного бустинга {round(mean_squared_error(y_test, y_pred, squared=False),2)}')"
   ]
  },
  {
   "cell_type": "markdown",
   "metadata": {},
   "source": [
    "### Вывод\n",
    "\n",
    "При создании модели предсказания стоимости автомобиля на основании, в первую очередь, характеристик машин, проверили качество (метрикой RMSE) и время работы классических моделей (линейные модели, дерево решений) и градиентного бустинга LightGBM с подбором гиперпараметров. \n",
    "\n",
    "- базовая линейная регрессия с l2 регуляризацией показала результат: **RMSE = 2747 Время обучения = 4.82 с Время предсказания = 1.16 с**\n",
    "- подбор гиперпараметра для линейной регрессия с l2 не способствовал увеличению качества модели, в любом случае, данная модель не подходит под критерий качества\n",
    "\n",
    "- дерево решений с подобранными гиперпараметрами (max_depth=13, min_samples_split = 7)  имело такой результат: **RMSE = 1990  Время обучения = 12.4 с  Время предсказания = 781 мс.** Это решение подходит под критерий качества.\n",
    "\n",
    "- дефолтный градиентный бустинг LightGBM показал результат по трем параметрам лучше, чем предыдущие модели. **RMSE = 1710 Время обучения = 3.0 с Время предсказания = 871 мс**\n",
    "- градиентный бустинг LightGBM с подобранными параметрами (learning_rate=0.3, max_depth=7, n_estimators=80) оказался еще немного лучше - **RMSE = 1693 Время обучения = 1.71 с  Время предсказания = 676 мс**\n",
    "\n",
    "\n",
    "Таким образом, согласно критерию по качеству и по скорости обучения и предсказания, выбираем лучшей моделью для данной задачи **LGBMRegressor(learning_rate=0.3, max_depth=7, n_estimators=80)**. Ее качество на тестовой выборке RMSE = 1684. \n",
    "\n"
   ]
  },
  {
   "cell_type": "markdown",
   "metadata": {},
   "source": [
    "## 6. Итоговый вывод\n",
    "\n",
    "**1. Обзор данных**\n",
    "\n",
    "- Для исследования была предоставлена таблица `autos.csv` с 16 параметрами автомобилей и собственно объявлений и 354369 записями. Данные соответствуют описанию задачи.\n",
    "- В пяти колонках таблицы есть пропуски , их существенное количество : более 10% от всех записей. Это наводит на мысль, что есть недочеты в системе сбора данных. Вероятно в анкетах практичекски любое поле можно пропустить и не заполнять, отсюда большое количество пропусков. Этот момент могут скорректировать разработчики сервиса.\n",
    "\n",
    "- Заметили, что `NumberOfPictures` неинформативный признак , т.к. среди представленных для анализа данных он не изменяется - для всех записей значение 0. Его удалили.\n",
    "- В колонке с годом регистрации есть аномальные невозможные значения (9999, 1000 и другие).\n",
    "\n",
    "**2. Предобработка**\n",
    "\n",
    "*Пропуски:*\n",
    "\n",
    "-  в колонке с типом кузова заменили на самые распространенные значения в группах по модели машины.\n",
    "-  в колонках с типом коробки передач, с моделью авто заполнили категорией `unknown`\n",
    "-  в колонке с инфо о проведении ремонта авто заполнили категорией `no`\n",
    "-  в колонке с типом топлива отнесли к самой распространенной категории `petrol`\n",
    "\n",
    "*Дубликаты и ошибки:*\n",
    "- в колонке с типом топлива убрали категорию  gasoline, и отнесли сооответвующие записи к категории petrol. \n",
    "- удалили строки-дубликаты\n",
    "\n",
    "*Также:*\n",
    "- Изменили тип данных дат на  `datetime`\n",
    "- Добавили колонки с месяцем появления объявления и днями между появлением объявления и последней активностью пользователя,т.к они могут косвенно связаны со стоимостью авто (спрос может меняться в разные месяцы года, и чем адекватнее цена, тем быстрее происходит покупка)\n",
    "\n",
    "**3. Разведочный анализ**\n",
    "\n",
    "- В ходе EDA узнали следующее:\n",
    "    - В таблице представлены данные, в основном, за 2016 год.  В 2014 и 2015 годах - единичные объявления. Практически все объявления были сформированы в марте и апреле\n",
    "    - В среднем, пользователь после размещения объявления проявляет активность на сервисе вплоть до недели. Правда, большАя часть пользователей проявляли активность последний раз в день создания объявления.\n",
    "    - Стоимость авто в большинстве объявлений менее 7500 евро. \n",
    "    - В основном, продают машины с механической коробкой передач и с кузовом типа *седан, хетчбек и фургон, с большим пробегом ~ 140000 км, с мощностью около 100 лошадиных сил. Большинство автомобилей работают на бензине и не были в ремонте.Среди наиболее популярных автомобилей - volkswagen, opel, bmw, в тч самая популярная модель - volkswagen golf.\n",
    "    - Большая часть авто зарегистрированы в 1999-2007 годах.\n",
    "\n",
    "- Нашли и удалили аномальные значения в признаках: год регистрации авто (зарегистрированные ранее 1940 и позднее 2016 года), мощность авто (более 500 лс).\n",
    "\n",
    "- Рассмотрев все признаки, нашли неинформативные - **месяц регистрации, число фото в объявлении, почтовый индекс, дата скачивания анкеты из базы**. Они равномерно распределены среди объявлений (месяц регистрации) или не изменяются или не имеют логичной связи с ценообразованием на вторичном рынке авто.\n",
    "\n",
    "**4. Корреляционный анализ**\n",
    "\n",
    "На матрице корреляций Фи заметили, что наиболее значимая систематическая закономерность существует между целевым признаком (Price) и:\n",
    "- Годом регистрации авто\n",
    "- Мощностью авто\n",
    "- Моделью авто\n",
    "\n",
    "В то же время, цена почти не зависит от даты создания объявления и периодом времени от создания объявления до полседней активности пользователя. Похоже, эти признаки оказались не особо неинформативны.\n",
    "\n",
    "**5. Обучение моделей и предсказание**\n",
    "\n",
    "При создании модели предсказания стоимости автомобиля на основании, в первую очередь, характеристик машин, проверили качество (метрикой RMSE) и время работы классических моделей (линейные модели, дерево решений) и градиентного бустинга LightGBM с подбором гиперпараметров. \n",
    "\n",
    "- базовая линейная регрессия с l2 регуляризацией показала результат: **RMSE = 2747 Время обучения = 4.82 с Время предсказания = 1.16 с**\n",
    "- подбор гиперпараметра для линейной регрессия с l2 не способствовал увеличению качества модели, в любом случае, данная модель не подходит под критерий качества\n",
    "\n",
    "- дерево решений с подобранными гиперпараметрами (max_depth=13, min_samples_split = 7)  имело такой результат: **RMSE = 1990  Время обучения = 12.4 с  Время предсказания = 781 мс.** Это решение подходит под критерий качества.\n",
    "\n",
    "- дефолтный градиентный бустинг LightGBM показал результат по трем параметрам лучше, чем предыдущие модели. **RMSE = 1710 Время обучения = 3.0 с Время предсказания = 871 мс**\n",
    "- градиентный бустинг LightGBM с подобранными параметрами (learning_rate=0.3, max_depth=7, n_estimators=80) оказался еще немного лучше - **RMSE = 1693 Время обучения = 1.71 с  Время предсказания = 676 мс**\n",
    "\n",
    "\n",
    "Таким образом, согласно критерию по качеству и по скорости обучения и предсказания, выбираем лучшей моделью для данной задачи **LGBMRegressor(learning_rate=0.3, max_depth=7, n_estimators=80)**. Ее качество на тестовой выборке RMSE = 1684. \n",
    "\n"
   ]
  }
 ],
 "metadata": {
  "ExecuteTimeLog": [
   {
    "duration": 10632,
    "start_time": "2024-01-17T12:39:18.734Z"
   },
   {
    "duration": 3009,
    "start_time": "2024-01-17T12:39:29.369Z"
   },
   {
    "duration": 0,
    "start_time": "2024-01-17T12:39:32.380Z"
   },
   {
    "duration": 0,
    "start_time": "2024-01-17T12:39:32.381Z"
   },
   {
    "duration": 0,
    "start_time": "2024-01-17T12:39:32.383Z"
   },
   {
    "duration": 0,
    "start_time": "2024-01-17T12:39:32.384Z"
   },
   {
    "duration": 0,
    "start_time": "2024-01-17T12:39:32.386Z"
   },
   {
    "duration": 0,
    "start_time": "2024-01-17T12:39:32.391Z"
   },
   {
    "duration": 0,
    "start_time": "2024-01-17T12:39:32.393Z"
   },
   {
    "duration": 0,
    "start_time": "2024-01-17T12:39:32.394Z"
   },
   {
    "duration": 0,
    "start_time": "2024-01-17T12:39:32.395Z"
   },
   {
    "duration": 0,
    "start_time": "2024-01-17T12:39:32.396Z"
   },
   {
    "duration": 0,
    "start_time": "2024-01-17T12:39:32.397Z"
   },
   {
    "duration": 0,
    "start_time": "2024-01-17T12:39:32.398Z"
   },
   {
    "duration": 0,
    "start_time": "2024-01-17T12:39:32.399Z"
   },
   {
    "duration": 0,
    "start_time": "2024-01-17T12:39:32.401Z"
   },
   {
    "duration": 0,
    "start_time": "2024-01-17T12:39:32.402Z"
   },
   {
    "duration": 0,
    "start_time": "2024-01-17T12:39:32.403Z"
   },
   {
    "duration": 0,
    "start_time": "2024-01-17T12:39:32.404Z"
   },
   {
    "duration": 0,
    "start_time": "2024-01-17T12:39:32.405Z"
   },
   {
    "duration": 0,
    "start_time": "2024-01-17T12:39:32.406Z"
   },
   {
    "duration": 0,
    "start_time": "2024-01-17T12:39:32.408Z"
   },
   {
    "duration": 0,
    "start_time": "2024-01-17T12:39:32.409Z"
   },
   {
    "duration": 0,
    "start_time": "2024-01-17T12:39:32.411Z"
   },
   {
    "duration": 0,
    "start_time": "2024-01-17T12:39:32.412Z"
   },
   {
    "duration": 0,
    "start_time": "2024-01-17T12:39:32.414Z"
   },
   {
    "duration": 0,
    "start_time": "2024-01-17T12:39:32.415Z"
   },
   {
    "duration": 0,
    "start_time": "2024-01-17T12:39:32.416Z"
   },
   {
    "duration": 5345,
    "start_time": "2024-01-17T12:40:08.392Z"
   },
   {
    "duration": 3729,
    "start_time": "2024-01-17T12:40:13.740Z"
   },
   {
    "duration": 991,
    "start_time": "2024-01-17T12:40:17.471Z"
   },
   {
    "duration": 32,
    "start_time": "2024-01-17T12:40:18.463Z"
   },
   {
    "duration": 181,
    "start_time": "2024-01-17T12:40:18.498Z"
   },
   {
    "duration": 111,
    "start_time": "2024-01-17T12:40:18.681Z"
   },
   {
    "duration": 9,
    "start_time": "2024-01-17T12:40:18.794Z"
   },
   {
    "duration": 54,
    "start_time": "2024-01-17T12:40:18.805Z"
   },
   {
    "duration": 165,
    "start_time": "2024-01-17T12:40:18.861Z"
   },
   {
    "duration": 40,
    "start_time": "2024-01-17T12:40:19.028Z"
   },
   {
    "duration": 42,
    "start_time": "2024-01-17T12:40:19.070Z"
   },
   {
    "duration": 60,
    "start_time": "2024-01-17T12:40:19.114Z"
   },
   {
    "duration": 63,
    "start_time": "2024-01-17T12:40:19.177Z"
   },
   {
    "duration": 56,
    "start_time": "2024-01-17T12:40:19.244Z"
   },
   {
    "duration": 370,
    "start_time": "2024-01-17T12:40:19.302Z"
   },
   {
    "duration": 26,
    "start_time": "2024-01-17T12:40:19.673Z"
   },
   {
    "duration": 43,
    "start_time": "2024-01-17T12:40:19.701Z"
   },
   {
    "duration": 69,
    "start_time": "2024-01-17T12:40:19.746Z"
   },
   {
    "duration": 55,
    "start_time": "2024-01-17T12:40:19.817Z"
   },
   {
    "duration": 42,
    "start_time": "2024-01-17T12:40:19.877Z"
   },
   {
    "duration": 99,
    "start_time": "2024-01-17T12:40:19.921Z"
   },
   {
    "duration": 39,
    "start_time": "2024-01-17T12:40:20.022Z"
   },
   {
    "duration": 98,
    "start_time": "2024-01-17T12:40:20.063Z"
   },
   {
    "duration": 55,
    "start_time": "2024-01-17T12:40:20.162Z"
   },
   {
    "duration": 4,
    "start_time": "2024-01-17T12:40:20.219Z"
   },
   {
    "duration": 36063,
    "start_time": "2024-01-17T12:40:20.225Z"
   },
   {
    "duration": 7138,
    "start_time": "2024-01-17T12:40:56.289Z"
   },
   {
    "duration": 25,
    "start_time": "2024-01-17T12:41:03.429Z"
   },
   {
    "duration": 5304,
    "start_time": "2024-01-18T16:51:17.434Z"
   },
   {
    "duration": 14170,
    "start_time": "2024-01-18T17:07:03.183Z"
   }
  ],
  "kernelspec": {
   "display_name": "Python 3 (ipykernel)",
   "language": "python",
   "name": "python3"
  },
  "language_info": {
   "codemirror_mode": {
    "name": "ipython",
    "version": 3
   },
   "file_extension": ".py",
   "mimetype": "text/x-python",
   "name": "python",
   "nbconvert_exporter": "python",
   "pygments_lexer": "ipython3",
   "version": "3.9.5"
  },
  "toc": {
   "base_numbering": 1,
   "nav_menu": {},
   "number_sections": true,
   "sideBar": true,
   "skip_h1_title": true,
   "title_cell": "Table of Contents",
   "title_sidebar": "Contents",
   "toc_cell": false,
   "toc_position": {},
   "toc_section_display": true,
   "toc_window_display": false
  }
 },
 "nbformat": 4,
 "nbformat_minor": 2
}
