{
 "cells": [
  {
   "cell_type": "markdown",
   "id": "4d455aa3",
   "metadata": {},
   "source": [
    "## Интернет-магазин компьютерных игр - анализ популярности игр\n",
    "\n",
    "Магазин видео игр продает игры по всему миру.\n",
    "\n",
    "Из открытых источников выгружены исторические данные с:\n",
    "- наименованиями игр, \n",
    "- годом выпуска,  \n",
    "- продажами игр в разных регионах, \n",
    "- оценками пользователей и экспертов, \n",
    "- жанрами,\n",
    "- игровыми платформами (например, Xbox или PlayStation), \n",
    "- возрастным рейтингом  ESRB (Entertainment Software Rating Board). \n",
    "\n",
    "ESRB оценивает игровой контент и присваивает ему подходящую возрастную категорию, E - игры для всех, EC - для детей младшего возраста, Т - для подростков, М - для взрослых 17+, АО - только для взрослых 18+ и некоторые другие. \n",
    "\n",
    "У нас данные до 2016 года. Представим, что сейчас декабрь 2016 г., и магазин планирует кампанию на 2017-й. Нужно отработать принцип работы с данными. Данные за 2016 год могут быть неполными.\n",
    "\n",
    "**Цель анализа - выявить определяющие успешность игры закономерности.** Это позволит сделать ставку на потенциально популярный продукт и спланировать рекламные кампании.\n",
    "\n",
    "\n",
    "Исследование пройдёт в несколько этапов:\n",
    "1. Обзор данных.\n",
    "2. Предобработка данных.\n",
    "3. Исследовательский анализ данных\n",
    "4. Проверка гипотез.\n"
   ]
  },
  {
   "cell_type": "markdown",
   "id": "365193de",
   "metadata": {},
   "source": [
    "### 1. Обзор данных"
   ]
  },
  {
   "cell_type": "code",
   "execution_count": 1,
   "id": "30e26dc1",
   "metadata": {},
   "outputs": [],
   "source": [
    "#импортируем библиотеку pandas\n",
    "import pandas as pd\n",
    "import seaborn as sns\n",
    "import numpy as np \n",
    "import matplotlib.pyplot as plt\n",
    "from scipy import stats as st\n",
    "#чтобы не появлялись предупреждения\n",
    "import warnings\n",
    "warnings.simplefilter(\"ignore\")"
   ]
  },
  {
   "cell_type": "code",
   "execution_count": 2,
   "id": "f81ca6e8",
   "metadata": {
    "tags": []
   },
   "outputs": [],
   "source": [
    "#открываем файлы и записываем в переменные\n",
    "try:\n",
    "    games = pd.read_csv('/datasets/games.csv')\n",
    "except:\n",
    "    games = pd.read_csv('games.csv')"
   ]
  },
  {
   "cell_type": "code",
   "execution_count": 3,
   "id": "7c7fcba2",
   "metadata": {},
   "outputs": [
    {
     "data": {
      "text/html": [
       "<div>\n",
       "<style scoped>\n",
       "    .dataframe tbody tr th:only-of-type {\n",
       "        vertical-align: middle;\n",
       "    }\n",
       "\n",
       "    .dataframe tbody tr th {\n",
       "        vertical-align: top;\n",
       "    }\n",
       "\n",
       "    .dataframe thead th {\n",
       "        text-align: right;\n",
       "    }\n",
       "</style>\n",
       "<table border=\"1\" class=\"dataframe\">\n",
       "  <thead>\n",
       "    <tr style=\"text-align: right;\">\n",
       "      <th></th>\n",
       "      <th>Name</th>\n",
       "      <th>Platform</th>\n",
       "      <th>Year_of_Release</th>\n",
       "      <th>Genre</th>\n",
       "      <th>NA_sales</th>\n",
       "      <th>EU_sales</th>\n",
       "      <th>JP_sales</th>\n",
       "      <th>Other_sales</th>\n",
       "      <th>Critic_Score</th>\n",
       "      <th>User_Score</th>\n",
       "      <th>Rating</th>\n",
       "    </tr>\n",
       "  </thead>\n",
       "  <tbody>\n",
       "    <tr>\n",
       "      <th>0</th>\n",
       "      <td>Wii Sports</td>\n",
       "      <td>Wii</td>\n",
       "      <td>2006.0</td>\n",
       "      <td>Sports</td>\n",
       "      <td>41.36</td>\n",
       "      <td>28.96</td>\n",
       "      <td>3.77</td>\n",
       "      <td>8.45</td>\n",
       "      <td>76.0</td>\n",
       "      <td>8</td>\n",
       "      <td>E</td>\n",
       "    </tr>\n",
       "    <tr>\n",
       "      <th>1</th>\n",
       "      <td>Super Mario Bros.</td>\n",
       "      <td>NES</td>\n",
       "      <td>1985.0</td>\n",
       "      <td>Platform</td>\n",
       "      <td>29.08</td>\n",
       "      <td>3.58</td>\n",
       "      <td>6.81</td>\n",
       "      <td>0.77</td>\n",
       "      <td>NaN</td>\n",
       "      <td>NaN</td>\n",
       "      <td>NaN</td>\n",
       "    </tr>\n",
       "    <tr>\n",
       "      <th>2</th>\n",
       "      <td>Mario Kart Wii</td>\n",
       "      <td>Wii</td>\n",
       "      <td>2008.0</td>\n",
       "      <td>Racing</td>\n",
       "      <td>15.68</td>\n",
       "      <td>12.76</td>\n",
       "      <td>3.79</td>\n",
       "      <td>3.29</td>\n",
       "      <td>82.0</td>\n",
       "      <td>8.3</td>\n",
       "      <td>E</td>\n",
       "    </tr>\n",
       "    <tr>\n",
       "      <th>3</th>\n",
       "      <td>Wii Sports Resort</td>\n",
       "      <td>Wii</td>\n",
       "      <td>2009.0</td>\n",
       "      <td>Sports</td>\n",
       "      <td>15.61</td>\n",
       "      <td>10.93</td>\n",
       "      <td>3.28</td>\n",
       "      <td>2.95</td>\n",
       "      <td>80.0</td>\n",
       "      <td>8</td>\n",
       "      <td>E</td>\n",
       "    </tr>\n",
       "    <tr>\n",
       "      <th>4</th>\n",
       "      <td>Pokemon Red/Pokemon Blue</td>\n",
       "      <td>GB</td>\n",
       "      <td>1996.0</td>\n",
       "      <td>Role-Playing</td>\n",
       "      <td>11.27</td>\n",
       "      <td>8.89</td>\n",
       "      <td>10.22</td>\n",
       "      <td>1.00</td>\n",
       "      <td>NaN</td>\n",
       "      <td>NaN</td>\n",
       "      <td>NaN</td>\n",
       "    </tr>\n",
       "  </tbody>\n",
       "</table>\n",
       "</div>"
      ],
      "text/plain": [
       "                       Name Platform  Year_of_Release         Genre  NA_sales  \\\n",
       "0                Wii Sports      Wii           2006.0        Sports     41.36   \n",
       "1         Super Mario Bros.      NES           1985.0      Platform     29.08   \n",
       "2            Mario Kart Wii      Wii           2008.0        Racing     15.68   \n",
       "3         Wii Sports Resort      Wii           2009.0        Sports     15.61   \n",
       "4  Pokemon Red/Pokemon Blue       GB           1996.0  Role-Playing     11.27   \n",
       "\n",
       "   EU_sales  JP_sales  Other_sales  Critic_Score User_Score Rating  \n",
       "0     28.96      3.77         8.45          76.0          8      E  \n",
       "1      3.58      6.81         0.77           NaN        NaN    NaN  \n",
       "2     12.76      3.79         3.29          82.0        8.3      E  \n",
       "3     10.93      3.28         2.95          80.0          8      E  \n",
       "4      8.89     10.22         1.00           NaN        NaN    NaN  "
      ]
     },
     "execution_count": 3,
     "metadata": {},
     "output_type": "execute_result"
    }
   ],
   "source": [
    "games.head()"
   ]
  },
  {
   "cell_type": "code",
   "execution_count": 4,
   "id": "dd7f931f",
   "metadata": {},
   "outputs": [
    {
     "name": "stdout",
     "output_type": "stream",
     "text": [
      "<class 'pandas.core.frame.DataFrame'>\n",
      "RangeIndex: 16715 entries, 0 to 16714\n",
      "Data columns (total 11 columns):\n",
      " #   Column           Non-Null Count  Dtype  \n",
      "---  ------           --------------  -----  \n",
      " 0   Name             16713 non-null  object \n",
      " 1   Platform         16715 non-null  object \n",
      " 2   Year_of_Release  16446 non-null  float64\n",
      " 3   Genre            16713 non-null  object \n",
      " 4   NA_sales         16715 non-null  float64\n",
      " 5   EU_sales         16715 non-null  float64\n",
      " 6   JP_sales         16715 non-null  float64\n",
      " 7   Other_sales      16715 non-null  float64\n",
      " 8   Critic_Score     8137 non-null   float64\n",
      " 9   User_Score       10014 non-null  object \n",
      " 10  Rating           9949 non-null   object \n",
      "dtypes: float64(6), object(5)\n",
      "memory usage: 1.4+ MB\n"
     ]
    }
   ],
   "source": [
    "games.info()"
   ]
  },
  {
   "cell_type": "code",
   "execution_count": 5,
   "id": "48c6d956",
   "metadata": {},
   "outputs": [
    {
     "data": {
      "text/html": [
       "<div>\n",
       "<style scoped>\n",
       "    .dataframe tbody tr th:only-of-type {\n",
       "        vertical-align: middle;\n",
       "    }\n",
       "\n",
       "    .dataframe tbody tr th {\n",
       "        vertical-align: top;\n",
       "    }\n",
       "\n",
       "    .dataframe thead th {\n",
       "        text-align: right;\n",
       "    }\n",
       "</style>\n",
       "<table border=\"1\" class=\"dataframe\">\n",
       "  <thead>\n",
       "    <tr style=\"text-align: right;\">\n",
       "      <th></th>\n",
       "      <th>Year_of_Release</th>\n",
       "      <th>NA_sales</th>\n",
       "      <th>EU_sales</th>\n",
       "      <th>JP_sales</th>\n",
       "      <th>Other_sales</th>\n",
       "      <th>Critic_Score</th>\n",
       "    </tr>\n",
       "  </thead>\n",
       "  <tbody>\n",
       "    <tr>\n",
       "      <th>count</th>\n",
       "      <td>16446.000000</td>\n",
       "      <td>16715.000000</td>\n",
       "      <td>16715.000000</td>\n",
       "      <td>16715.000000</td>\n",
       "      <td>16715.000000</td>\n",
       "      <td>8137.000000</td>\n",
       "    </tr>\n",
       "    <tr>\n",
       "      <th>mean</th>\n",
       "      <td>2006.484616</td>\n",
       "      <td>0.263377</td>\n",
       "      <td>0.145060</td>\n",
       "      <td>0.077617</td>\n",
       "      <td>0.047342</td>\n",
       "      <td>68.967679</td>\n",
       "    </tr>\n",
       "    <tr>\n",
       "      <th>std</th>\n",
       "      <td>5.877050</td>\n",
       "      <td>0.813604</td>\n",
       "      <td>0.503339</td>\n",
       "      <td>0.308853</td>\n",
       "      <td>0.186731</td>\n",
       "      <td>13.938165</td>\n",
       "    </tr>\n",
       "    <tr>\n",
       "      <th>min</th>\n",
       "      <td>1980.000000</td>\n",
       "      <td>0.000000</td>\n",
       "      <td>0.000000</td>\n",
       "      <td>0.000000</td>\n",
       "      <td>0.000000</td>\n",
       "      <td>13.000000</td>\n",
       "    </tr>\n",
       "    <tr>\n",
       "      <th>25%</th>\n",
       "      <td>2003.000000</td>\n",
       "      <td>0.000000</td>\n",
       "      <td>0.000000</td>\n",
       "      <td>0.000000</td>\n",
       "      <td>0.000000</td>\n",
       "      <td>60.000000</td>\n",
       "    </tr>\n",
       "    <tr>\n",
       "      <th>50%</th>\n",
       "      <td>2007.000000</td>\n",
       "      <td>0.080000</td>\n",
       "      <td>0.020000</td>\n",
       "      <td>0.000000</td>\n",
       "      <td>0.010000</td>\n",
       "      <td>71.000000</td>\n",
       "    </tr>\n",
       "    <tr>\n",
       "      <th>75%</th>\n",
       "      <td>2010.000000</td>\n",
       "      <td>0.240000</td>\n",
       "      <td>0.110000</td>\n",
       "      <td>0.040000</td>\n",
       "      <td>0.030000</td>\n",
       "      <td>79.000000</td>\n",
       "    </tr>\n",
       "    <tr>\n",
       "      <th>max</th>\n",
       "      <td>2016.000000</td>\n",
       "      <td>41.360000</td>\n",
       "      <td>28.960000</td>\n",
       "      <td>10.220000</td>\n",
       "      <td>10.570000</td>\n",
       "      <td>98.000000</td>\n",
       "    </tr>\n",
       "  </tbody>\n",
       "</table>\n",
       "</div>"
      ],
      "text/plain": [
       "       Year_of_Release      NA_sales      EU_sales      JP_sales  \\\n",
       "count     16446.000000  16715.000000  16715.000000  16715.000000   \n",
       "mean       2006.484616      0.263377      0.145060      0.077617   \n",
       "std           5.877050      0.813604      0.503339      0.308853   \n",
       "min        1980.000000      0.000000      0.000000      0.000000   \n",
       "25%        2003.000000      0.000000      0.000000      0.000000   \n",
       "50%        2007.000000      0.080000      0.020000      0.000000   \n",
       "75%        2010.000000      0.240000      0.110000      0.040000   \n",
       "max        2016.000000     41.360000     28.960000     10.220000   \n",
       "\n",
       "        Other_sales  Critic_Score  \n",
       "count  16715.000000   8137.000000  \n",
       "mean       0.047342     68.967679  \n",
       "std        0.186731     13.938165  \n",
       "min        0.000000     13.000000  \n",
       "25%        0.000000     60.000000  \n",
       "50%        0.010000     71.000000  \n",
       "75%        0.030000     79.000000  \n",
       "max       10.570000     98.000000  "
      ]
     },
     "execution_count": 5,
     "metadata": {},
     "output_type": "execute_result"
    }
   ],
   "source": [
    "games.describe()"
   ]
  },
  {
   "cell_type": "code",
   "execution_count": 6,
   "id": "922f8451",
   "metadata": {},
   "outputs": [
    {
     "data": {
      "image/png": "[encoded data removed]",
      "text/plain": [
       "<Figure size 720x720 with 6 Axes>"
      ]
     },
     "metadata": {
      "needs_background": "light"
     },
     "output_type": "display_data"
    }
   ],
   "source": [
    "games.hist(figsize=(10, 10), bins = 30);"
   ]
  },
  {
   "cell_type": "markdown",
   "id": "e272ff28",
   "metadata": {},
   "source": [
    "#### 1.1 Вывод\n",
    "\n",
    "Данные даны в одной таблице. В таблице 16715 записей, 11 столбцов (7 из которых с численными данными) с инфо:\n",
    "- `Name` название игры\n",
    "- `Platform` название игровой платформы \n",
    "- `Year_of_Release` год выхода игры\n",
    "- `Genre` жанр игры\n",
    "- `NA_sales` продажи в Северной Америке (миллионы проданных копий)\n",
    "- `EU_sales` — продажи в Европе (миллионы проданных копий)\n",
    "- `JP_sales` — продажи в Японии (миллионы проданных копий)\n",
    "- `Other_sales` — продажи в других странах (миллионы проданных копий)\n",
    "- `Critic_Score` — оценка критиков (максимум 100)\n",
    "- `User_Score` — оценка пользователей (максимум 10)\n",
    "- `Rating` — рейтинг от организации ESRB (англ. Entertainment Software Rating Board)\n",
    "\n",
    "В данных есть пропуски. \n",
    "\n",
    "Некорректно проименованы столбцы (не соотвествуют общепринятому стилю).\n",
    "\n",
    "Для значений года выходы игры и оценки пользователей необходимо изменить тип данных на целочисленный и вещественные числа соответственно.\n"
   ]
  },
  {
   "cell_type": "markdown",
   "id": "24b49679",
   "metadata": {},
   "source": [
    "### 2. Предобработка данных\n",
    "\n",
    "#### 2.1 Наименования столбцов\n",
    "Изменим названия столбцов на соответсвующие общепринятому стилю."
   ]
  },
  {
   "cell_type": "code",
   "execution_count": 7,
   "id": "9524b82c",
   "metadata": {},
   "outputs": [],
   "source": [
    "games.columns = games.columns.str.lower()"
   ]
  },
  {
   "cell_type": "code",
   "execution_count": 8,
   "id": "f716bc04",
   "metadata": {},
   "outputs": [
    {
     "data": {
      "text/html": [
       "<div>\n",
       "<style scoped>\n",
       "    .dataframe tbody tr th:only-of-type {\n",
       "        vertical-align: middle;\n",
       "    }\n",
       "\n",
       "    .dataframe tbody tr th {\n",
       "        vertical-align: top;\n",
       "    }\n",
       "\n",
       "    .dataframe thead th {\n",
       "        text-align: right;\n",
       "    }\n",
       "</style>\n",
       "<table border=\"1\" class=\"dataframe\">\n",
       "  <thead>\n",
       "    <tr style=\"text-align: right;\">\n",
       "      <th></th>\n",
       "      <th>name</th>\n",
       "      <th>platform</th>\n",
       "      <th>year_of_release</th>\n",
       "      <th>genre</th>\n",
       "      <th>na_sales</th>\n",
       "      <th>eu_sales</th>\n",
       "      <th>jp_sales</th>\n",
       "      <th>other_sales</th>\n",
       "      <th>critic_score</th>\n",
       "      <th>user_score</th>\n",
       "      <th>rating</th>\n",
       "    </tr>\n",
       "  </thead>\n",
       "  <tbody>\n",
       "    <tr>\n",
       "      <th>0</th>\n",
       "      <td>Wii Sports</td>\n",
       "      <td>Wii</td>\n",
       "      <td>2006.0</td>\n",
       "      <td>Sports</td>\n",
       "      <td>41.36</td>\n",
       "      <td>28.96</td>\n",
       "      <td>3.77</td>\n",
       "      <td>8.45</td>\n",
       "      <td>76.0</td>\n",
       "      <td>8</td>\n",
       "      <td>E</td>\n",
       "    </tr>\n",
       "    <tr>\n",
       "      <th>1</th>\n",
       "      <td>Super Mario Bros.</td>\n",
       "      <td>NES</td>\n",
       "      <td>1985.0</td>\n",
       "      <td>Platform</td>\n",
       "      <td>29.08</td>\n",
       "      <td>3.58</td>\n",
       "      <td>6.81</td>\n",
       "      <td>0.77</td>\n",
       "      <td>NaN</td>\n",
       "      <td>NaN</td>\n",
       "      <td>NaN</td>\n",
       "    </tr>\n",
       "    <tr>\n",
       "      <th>2</th>\n",
       "      <td>Mario Kart Wii</td>\n",
       "      <td>Wii</td>\n",
       "      <td>2008.0</td>\n",
       "      <td>Racing</td>\n",
       "      <td>15.68</td>\n",
       "      <td>12.76</td>\n",
       "      <td>3.79</td>\n",
       "      <td>3.29</td>\n",
       "      <td>82.0</td>\n",
       "      <td>8.3</td>\n",
       "      <td>E</td>\n",
       "    </tr>\n",
       "    <tr>\n",
       "      <th>3</th>\n",
       "      <td>Wii Sports Resort</td>\n",
       "      <td>Wii</td>\n",
       "      <td>2009.0</td>\n",
       "      <td>Sports</td>\n",
       "      <td>15.61</td>\n",
       "      <td>10.93</td>\n",
       "      <td>3.28</td>\n",
       "      <td>2.95</td>\n",
       "      <td>80.0</td>\n",
       "      <td>8</td>\n",
       "      <td>E</td>\n",
       "    </tr>\n",
       "    <tr>\n",
       "      <th>4</th>\n",
       "      <td>Pokemon Red/Pokemon Blue</td>\n",
       "      <td>GB</td>\n",
       "      <td>1996.0</td>\n",
       "      <td>Role-Playing</td>\n",
       "      <td>11.27</td>\n",
       "      <td>8.89</td>\n",
       "      <td>10.22</td>\n",
       "      <td>1.00</td>\n",
       "      <td>NaN</td>\n",
       "      <td>NaN</td>\n",
       "      <td>NaN</td>\n",
       "    </tr>\n",
       "  </tbody>\n",
       "</table>\n",
       "</div>"
      ],
      "text/plain": [
       "                       name platform  year_of_release         genre  na_sales  \\\n",
       "0                Wii Sports      Wii           2006.0        Sports     41.36   \n",
       "1         Super Mario Bros.      NES           1985.0      Platform     29.08   \n",
       "2            Mario Kart Wii      Wii           2008.0        Racing     15.68   \n",
       "3         Wii Sports Resort      Wii           2009.0        Sports     15.61   \n",
       "4  Pokemon Red/Pokemon Blue       GB           1996.0  Role-Playing     11.27   \n",
       "\n",
       "   eu_sales  jp_sales  other_sales  critic_score user_score rating  \n",
       "0     28.96      3.77         8.45          76.0          8      E  \n",
       "1      3.58      6.81         0.77           NaN        NaN    NaN  \n",
       "2     12.76      3.79         3.29          82.0        8.3      E  \n",
       "3     10.93      3.28         2.95          80.0          8      E  \n",
       "4      8.89     10.22         1.00           NaN        NaN    NaN  "
      ]
     },
     "execution_count": 8,
     "metadata": {},
     "output_type": "execute_result"
    }
   ],
   "source": [
    "games.head()"
   ]
  },
  {
   "cell_type": "markdown",
   "id": "51dbddea",
   "metadata": {},
   "source": [
    "#### 2.2 Пропуски"
   ]
  },
  {
   "cell_type": "code",
   "execution_count": 9,
   "id": "7f42f5d0",
   "metadata": {},
   "outputs": [
    {
     "data": {
      "text/plain": [
       "name                  2\n",
       "platform              0\n",
       "year_of_release     269\n",
       "genre                 2\n",
       "na_sales              0\n",
       "eu_sales              0\n",
       "jp_sales              0\n",
       "other_sales           0\n",
       "critic_score       8578\n",
       "user_score         6701\n",
       "rating             6766\n",
       "dtype: int64"
      ]
     },
     "execution_count": 9,
     "metadata": {},
     "output_type": "execute_result"
    }
   ],
   "source": [
    "games.isna().sum()"
   ]
  },
  {
   "cell_type": "markdown",
   "id": "8c4657a1",
   "metadata": {},
   "source": [
    "Строки с пропусками в `name`, `genre` и `year_of_release`игры уберем польностью, т.к. их мало и не можем на что-то заменить исходя из имеющихся данных. Без названия, года выпуска и платформы игры строки не особо информативны."
   ]
  },
  {
   "cell_type": "code",
   "execution_count": 10,
   "id": "ef4ab459",
   "metadata": {},
   "outputs": [],
   "source": [
    "old_games = games"
   ]
  },
  {
   "cell_type": "code",
   "execution_count": 11,
   "id": "6d10dee7",
   "metadata": {},
   "outputs": [],
   "source": [
    "games = games.dropna(subset = ['name', 'genre','year_of_release'])"
   ]
  },
  {
   "cell_type": "code",
   "execution_count": 12,
   "id": "f8230865",
   "metadata": {},
   "outputs": [
    {
     "data": {
      "text/plain": [
       "16444"
      ]
     },
     "execution_count": 12,
     "metadata": {},
     "output_type": "execute_result"
    }
   ],
   "source": [
    "games.shape[0]"
   ]
  },
  {
   "cell_type": "code",
   "execution_count": 13,
   "id": "2595cf95",
   "metadata": {},
   "outputs": [
    {
     "data": {
      "text/plain": [
       "0.9837870176488184"
      ]
     },
     "execution_count": 13,
     "metadata": {},
     "output_type": "execute_result"
    }
   ],
   "source": [
    "games.shape[0]/old_games.shape[0]"
   ]
  },
  {
   "cell_type": "markdown",
   "id": "2e7bf652",
   "metadata": {},
   "source": [
    "Убрали менее 2% записей в результате удаления пропусков.\n",
    "\n",
    "Остальные пропуски оставим,их много, не можем просто убрать или заменить на медианы, потому что это возможно приведет к  искажению данных и дальнейших результатов."
   ]
  },
  {
   "cell_type": "markdown",
   "id": "4419ec4e",
   "metadata": {},
   "source": [
    "Возможные причины пропусков:\n",
    "- некорректная работа алгоритмов выгрузки данных \n",
    "- отсутствие данных в первоисточнике"
   ]
  },
  {
   "cell_type": "code",
   "execution_count": 14,
   "id": "a6b1cc6d",
   "metadata": {
    "scrolled": true
   },
   "outputs": [
    {
     "data": {
      "text/plain": [
       "array(['8', nan, '8.3', '8.5', '6.6', '8.4', '8.6', '7.7', '6.3', '7.4',\n",
       "       '8.2', '9', '7.9', '8.1', '8.7', '7.1', '3.4', '5.3', '4.8', '3.2',\n",
       "       '8.9', '6.4', '7.8', '7.5', '2.6', '7.2', '9.2', '7', '7.3', '4.3',\n",
       "       '7.6', '5.7', '5', '9.1', '6.5', 'tbd', '8.8', '6.9', '9.4', '6.8',\n",
       "       '6.1', '6.7', '5.4', '4', '4.9', '4.5', '9.3', '6.2', '4.2', '6',\n",
       "       '3.7', '4.1', '5.8', '5.6', '5.5', '4.4', '4.6', '5.9', '3.9',\n",
       "       '3.1', '2.9', '5.2', '3.3', '4.7', '5.1', '3.5', '2.5', '1.9', '3',\n",
       "       '2.7', '2.2', '2', '9.5', '2.1', '3.6', '2.8', '1.8', '3.8', '0',\n",
       "       '1.6', '9.6', '2.4', '1.7', '1.1', '0.3', '1.5', '0.7', '1.2',\n",
       "       '2.3', '0.5', '1.3', '0.2', '0.6', '1.4', '0.9', '1', '9.7'],\n",
       "      dtype=object)"
      ]
     },
     "execution_count": 14,
     "metadata": {},
     "output_type": "execute_result"
    }
   ],
   "source": [
    "games.user_score.unique()"
   ]
  },
  {
   "cell_type": "code",
   "execution_count": 15,
   "id": "84166ea7",
   "metadata": {},
   "outputs": [
    {
     "data": {
      "text/plain": [
       "2376"
      ]
     },
     "execution_count": 15,
     "metadata": {},
     "output_type": "execute_result"
    }
   ],
   "source": [
    "games.query('user_score == \"tbd\"').shape[0]"
   ]
  },
  {
   "cell_type": "markdown",
   "id": "7f6b576e",
   "metadata": {},
   "source": [
    "Аббревиатура \"tbd\" обозначает to be determined, то есть , что оценка пользователей еще не была сформирована на момент выгрузки данных. Получается данные по оценке игры пользователями отсутствуют еще в дополнение к пропускам в 2376 записях. Так как и пропуски, и tbd по факту означают отсутвие оценки, обозначим tbd тоже как nan."
   ]
  },
  {
   "cell_type": "code",
   "execution_count": 16,
   "id": "f5ea2cde",
   "metadata": {},
   "outputs": [
    {
     "data": {
      "text/plain": [
       "name                  0\n",
       "platform              0\n",
       "year_of_release       0\n",
       "genre                 0\n",
       "na_sales              0\n",
       "eu_sales              0\n",
       "jp_sales              0\n",
       "other_sales           0\n",
       "critic_score       8461\n",
       "user_score         8981\n",
       "rating             6676\n",
       "dtype: int64"
      ]
     },
     "execution_count": 16,
     "metadata": {},
     "output_type": "execute_result"
    }
   ],
   "source": [
    "games['user_score'] = games.user_score.mask(games.user_score == \"tbd\")\n",
    "games.isna().sum()"
   ]
  },
  {
   "cell_type": "code",
   "execution_count": 17,
   "id": "945994f9",
   "metadata": {},
   "outputs": [
    {
     "data": {
      "text/plain": [
       "16444"
      ]
     },
     "execution_count": 17,
     "metadata": {},
     "output_type": "execute_result"
    }
   ],
   "source": [
    "games.shape[0]"
   ]
  },
  {
   "cell_type": "markdown",
   "id": "858d4296",
   "metadata": {},
   "source": [
    "#### 2.3 Преобразование типов данных"
   ]
  },
  {
   "cell_type": "code",
   "execution_count": 18,
   "id": "5e9a488c",
   "metadata": {},
   "outputs": [
    {
     "name": "stdout",
     "output_type": "stream",
     "text": [
      "<class 'pandas.core.frame.DataFrame'>\n",
      "Int64Index: 16444 entries, 0 to 16714\n",
      "Data columns (total 11 columns):\n",
      " #   Column           Non-Null Count  Dtype  \n",
      "---  ------           --------------  -----  \n",
      " 0   name             16444 non-null  object \n",
      " 1   platform         16444 non-null  object \n",
      " 2   year_of_release  16444 non-null  float64\n",
      " 3   genre            16444 non-null  object \n",
      " 4   na_sales         16444 non-null  float64\n",
      " 5   eu_sales         16444 non-null  float64\n",
      " 6   jp_sales         16444 non-null  float64\n",
      " 7   other_sales      16444 non-null  float64\n",
      " 8   critic_score     7983 non-null   float64\n",
      " 9   user_score       7463 non-null   object \n",
      " 10  rating           9768 non-null   object \n",
      "dtypes: float64(6), object(5)\n",
      "memory usage: 1.5+ MB\n"
     ]
    }
   ],
   "source": [
    "games.info()"
   ]
  },
  {
   "cell_type": "markdown",
   "id": "995d1177",
   "metadata": {},
   "source": [
    "Преобразуем оценку пользователя в численное значение, чтобы была возможность в дальнейшем оперировать ей как численной переменной - считать численные показатели (среднее, квартили и тд), строить графики."
   ]
  },
  {
   "cell_type": "code",
   "execution_count": 19,
   "id": "02b77b2d",
   "metadata": {},
   "outputs": [],
   "source": [
    "games['user_score'] = games.user_score.astype('float')"
   ]
  },
  {
   "cell_type": "markdown",
   "id": "f1a1d9f8",
   "metadata": {},
   "source": [
    "Годы выпуска логично сделать целочисленной переменной."
   ]
  },
  {
   "cell_type": "code",
   "execution_count": 20,
   "id": "93675a9d",
   "metadata": {},
   "outputs": [],
   "source": [
    "games['year_of_release'] = games['year_of_release'].astype('int')"
   ]
  },
  {
   "cell_type": "code",
   "execution_count": 21,
   "id": "7fde2644",
   "metadata": {},
   "outputs": [
    {
     "data": {
      "text/plain": [
       "0        2006\n",
       "1        1985\n",
       "2        2008\n",
       "3        2009\n",
       "4        1996\n",
       "         ... \n",
       "16710    2016\n",
       "16711    2006\n",
       "16712    2016\n",
       "16713    2003\n",
       "16714    2016\n",
       "Name: year_of_release, Length: 16444, dtype: int32"
      ]
     },
     "execution_count": 21,
     "metadata": {},
     "output_type": "execute_result"
    }
   ],
   "source": [
    "games['year_of_release']"
   ]
  },
  {
   "cell_type": "markdown",
   "id": "8d9c6552",
   "metadata": {},
   "source": [
    "#### 2.4 Дубликаты"
   ]
  },
  {
   "cell_type": "markdown",
   "id": "7171d615",
   "metadata": {},
   "source": [
    "Сделаем проверку на полные дубликаты:"
   ]
  },
  {
   "cell_type": "code",
   "execution_count": 22,
   "id": "5eb995f5",
   "metadata": {},
   "outputs": [
    {
     "data": {
      "text/plain": [
       "0"
      ]
     },
     "execution_count": 22,
     "metadata": {},
     "output_type": "execute_result"
    }
   ],
   "source": [
    "games.duplicated().sum()"
   ]
  },
  {
   "cell_type": "markdown",
   "id": "4a245d1f",
   "metadata": {},
   "source": [
    "Полных дубликатов в датасете нет."
   ]
  },
  {
   "cell_type": "markdown",
   "id": "a0e1297b",
   "metadata": {},
   "source": [
    "Проверим, есть ли неявные дубликаты:\n",
    "- в жанрах:"
   ]
  },
  {
   "cell_type": "code",
   "execution_count": 23,
   "id": "57b3e47b",
   "metadata": {
    "scrolled": true
   },
   "outputs": [
    {
     "data": {
      "text/plain": [
       "array(['Sports', 'Platform', 'Racing', 'Role-Playing', 'Puzzle', 'Misc',\n",
       "       'Shooter', 'Simulation', 'Action', 'Fighting', 'Adventure',\n",
       "       'Strategy'], dtype=object)"
      ]
     },
     "execution_count": 23,
     "metadata": {},
     "output_type": "execute_result"
    }
   ],
   "source": [
    "games.genre.unique()"
   ]
  },
  {
   "cell_type": "markdown",
   "id": "c4930192",
   "metadata": {},
   "source": [
    "- в названиях платформ:"
   ]
  },
  {
   "cell_type": "code",
   "execution_count": 24,
   "id": "be29d7a9",
   "metadata": {},
   "outputs": [
    {
     "data": {
      "text/plain": [
       "array(['Wii', 'NES', 'GB', 'DS', 'X360', 'PS3', 'PS2', 'SNES', 'GBA',\n",
       "       'PS4', '3DS', 'N64', 'PS', 'XB', 'PC', '2600', 'PSP', 'XOne',\n",
       "       'WiiU', 'GC', 'GEN', 'DC', 'PSV', 'SAT', 'SCD', 'WS', 'NG', 'TG16',\n",
       "       '3DO', 'GG', 'PCFX'], dtype=object)"
      ]
     },
     "execution_count": 24,
     "metadata": {},
     "output_type": "execute_result"
    }
   ],
   "source": [
    "games.platform.unique()"
   ]
  },
  {
   "cell_type": "markdown",
   "id": "6d80871f",
   "metadata": {},
   "source": [
    "- в подстроках с названием игры, годом выпуска и платформой:"
   ]
  },
  {
   "cell_type": "code",
   "execution_count": 25,
   "id": "2dc9acc3",
   "metadata": {},
   "outputs": [
    {
     "data": {
      "text/plain": [
       "1"
      ]
     },
     "execution_count": 25,
     "metadata": {},
     "output_type": "execute_result"
    }
   ],
   "source": [
    "games[['name', 'year_of_release', 'platform']].duplicated().sum()"
   ]
  },
  {
   "cell_type": "code",
   "execution_count": 26,
   "id": "4e203c25",
   "metadata": {
    "scrolled": true
   },
   "outputs": [
    {
     "data": {
      "text/html": [
       "<div>\n",
       "<style scoped>\n",
       "    .dataframe tbody tr th:only-of-type {\n",
       "        vertical-align: middle;\n",
       "    }\n",
       "\n",
       "    .dataframe tbody tr th {\n",
       "        vertical-align: top;\n",
       "    }\n",
       "\n",
       "    .dataframe thead th {\n",
       "        text-align: right;\n",
       "    }\n",
       "</style>\n",
       "<table border=\"1\" class=\"dataframe\">\n",
       "  <thead>\n",
       "    <tr style=\"text-align: right;\">\n",
       "      <th></th>\n",
       "      <th>name</th>\n",
       "      <th>platform</th>\n",
       "      <th>year_of_release</th>\n",
       "      <th>genre</th>\n",
       "      <th>na_sales</th>\n",
       "      <th>eu_sales</th>\n",
       "      <th>jp_sales</th>\n",
       "      <th>other_sales</th>\n",
       "      <th>critic_score</th>\n",
       "      <th>user_score</th>\n",
       "      <th>rating</th>\n",
       "    </tr>\n",
       "  </thead>\n",
       "  <tbody>\n",
       "    <tr>\n",
       "      <th>16230</th>\n",
       "      <td>Madden NFL 13</td>\n",
       "      <td>PS3</td>\n",
       "      <td>2012</td>\n",
       "      <td>Sports</td>\n",
       "      <td>0.0</td>\n",
       "      <td>0.01</td>\n",
       "      <td>0.0</td>\n",
       "      <td>0.0</td>\n",
       "      <td>83.0</td>\n",
       "      <td>5.5</td>\n",
       "      <td>E</td>\n",
       "    </tr>\n",
       "  </tbody>\n",
       "</table>\n",
       "</div>"
      ],
      "text/plain": [
       "                name platform  year_of_release   genre  na_sales  eu_sales  \\\n",
       "16230  Madden NFL 13      PS3             2012  Sports       0.0      0.01   \n",
       "\n",
       "       jp_sales  other_sales  critic_score  user_score rating  \n",
       "16230       0.0          0.0          83.0         5.5      E  "
      ]
     },
     "execution_count": 26,
     "metadata": {},
     "output_type": "execute_result"
    }
   ],
   "source": [
    "games[games[['name', 'year_of_release', 'platform']].duplicated()]"
   ]
  },
  {
   "cell_type": "code",
   "execution_count": 27,
   "id": "c03aeb20",
   "metadata": {},
   "outputs": [
    {
     "data": {
      "text/plain": [
       "0"
      ]
     },
     "execution_count": 27,
     "metadata": {},
     "output_type": "execute_result"
    }
   ],
   "source": [
    "games = games.drop_duplicates(subset = ['name', 'year_of_release', 'platform'])\n",
    "games[['name', 'year_of_release', 'platform']].duplicated().sum()"
   ]
  },
  {
   "cell_type": "code",
   "execution_count": 28,
   "id": "b6e18187",
   "metadata": {},
   "outputs": [
    {
     "data": {
      "text/plain": [
       "16443"
      ]
     },
     "execution_count": 28,
     "metadata": {},
     "output_type": "execute_result"
    }
   ],
   "source": [
    "games.shape[0]"
   ]
  },
  {
   "cell_type": "markdown",
   "id": "2ddf84c5",
   "metadata": {},
   "source": [
    "Был один дубликат подстроки, удалили его. Количество строк уменьшилось на одну, все ок."
   ]
  },
  {
   "cell_type": "markdown",
   "id": "2baa6ac0",
   "metadata": {},
   "source": [
    "#### 2.5 Добавление колонок\n",
    "\n",
    "В отдельный столбец занесем данные о суммарных продажах игры."
   ]
  },
  {
   "cell_type": "code",
   "execution_count": 29,
   "id": "9a5f33da",
   "metadata": {},
   "outputs": [],
   "source": [
    "games['overall_sales'] = games.na_sales + games.eu_sales + games.jp_sales + games.other_sales"
   ]
  },
  {
   "cell_type": "code",
   "execution_count": 30,
   "id": "4e981d08",
   "metadata": {},
   "outputs": [
    {
     "data": {
      "text/html": [
       "<div>\n",
       "<style scoped>\n",
       "    .dataframe tbody tr th:only-of-type {\n",
       "        vertical-align: middle;\n",
       "    }\n",
       "\n",
       "    .dataframe tbody tr th {\n",
       "        vertical-align: top;\n",
       "    }\n",
       "\n",
       "    .dataframe thead th {\n",
       "        text-align: right;\n",
       "    }\n",
       "</style>\n",
       "<table border=\"1\" class=\"dataframe\">\n",
       "  <thead>\n",
       "    <tr style=\"text-align: right;\">\n",
       "      <th></th>\n",
       "      <th>name</th>\n",
       "      <th>platform</th>\n",
       "      <th>year_of_release</th>\n",
       "      <th>genre</th>\n",
       "      <th>na_sales</th>\n",
       "      <th>eu_sales</th>\n",
       "      <th>jp_sales</th>\n",
       "      <th>other_sales</th>\n",
       "      <th>critic_score</th>\n",
       "      <th>user_score</th>\n",
       "      <th>rating</th>\n",
       "      <th>overall_sales</th>\n",
       "    </tr>\n",
       "  </thead>\n",
       "  <tbody>\n",
       "    <tr>\n",
       "      <th>0</th>\n",
       "      <td>Wii Sports</td>\n",
       "      <td>Wii</td>\n",
       "      <td>2006</td>\n",
       "      <td>Sports</td>\n",
       "      <td>41.36</td>\n",
       "      <td>28.96</td>\n",
       "      <td>3.77</td>\n",
       "      <td>8.45</td>\n",
       "      <td>76.0</td>\n",
       "      <td>8.0</td>\n",
       "      <td>E</td>\n",
       "      <td>82.54</td>\n",
       "    </tr>\n",
       "    <tr>\n",
       "      <th>1</th>\n",
       "      <td>Super Mario Bros.</td>\n",
       "      <td>NES</td>\n",
       "      <td>1985</td>\n",
       "      <td>Platform</td>\n",
       "      <td>29.08</td>\n",
       "      <td>3.58</td>\n",
       "      <td>6.81</td>\n",
       "      <td>0.77</td>\n",
       "      <td>NaN</td>\n",
       "      <td>NaN</td>\n",
       "      <td>NaN</td>\n",
       "      <td>40.24</td>\n",
       "    </tr>\n",
       "    <tr>\n",
       "      <th>2</th>\n",
       "      <td>Mario Kart Wii</td>\n",
       "      <td>Wii</td>\n",
       "      <td>2008</td>\n",
       "      <td>Racing</td>\n",
       "      <td>15.68</td>\n",
       "      <td>12.76</td>\n",
       "      <td>3.79</td>\n",
       "      <td>3.29</td>\n",
       "      <td>82.0</td>\n",
       "      <td>8.3</td>\n",
       "      <td>E</td>\n",
       "      <td>35.52</td>\n",
       "    </tr>\n",
       "    <tr>\n",
       "      <th>3</th>\n",
       "      <td>Wii Sports Resort</td>\n",
       "      <td>Wii</td>\n",
       "      <td>2009</td>\n",
       "      <td>Sports</td>\n",
       "      <td>15.61</td>\n",
       "      <td>10.93</td>\n",
       "      <td>3.28</td>\n",
       "      <td>2.95</td>\n",
       "      <td>80.0</td>\n",
       "      <td>8.0</td>\n",
       "      <td>E</td>\n",
       "      <td>32.77</td>\n",
       "    </tr>\n",
       "    <tr>\n",
       "      <th>4</th>\n",
       "      <td>Pokemon Red/Pokemon Blue</td>\n",
       "      <td>GB</td>\n",
       "      <td>1996</td>\n",
       "      <td>Role-Playing</td>\n",
       "      <td>11.27</td>\n",
       "      <td>8.89</td>\n",
       "      <td>10.22</td>\n",
       "      <td>1.00</td>\n",
       "      <td>NaN</td>\n",
       "      <td>NaN</td>\n",
       "      <td>NaN</td>\n",
       "      <td>31.38</td>\n",
       "    </tr>\n",
       "  </tbody>\n",
       "</table>\n",
       "</div>"
      ],
      "text/plain": [
       "                       name platform  year_of_release         genre  na_sales  \\\n",
       "0                Wii Sports      Wii             2006        Sports     41.36   \n",
       "1         Super Mario Bros.      NES             1985      Platform     29.08   \n",
       "2            Mario Kart Wii      Wii             2008        Racing     15.68   \n",
       "3         Wii Sports Resort      Wii             2009        Sports     15.61   \n",
       "4  Pokemon Red/Pokemon Blue       GB             1996  Role-Playing     11.27   \n",
       "\n",
       "   eu_sales  jp_sales  other_sales  critic_score  user_score rating  \\\n",
       "0     28.96      3.77         8.45          76.0         8.0      E   \n",
       "1      3.58      6.81         0.77           NaN         NaN    NaN   \n",
       "2     12.76      3.79         3.29          82.0         8.3      E   \n",
       "3     10.93      3.28         2.95          80.0         8.0      E   \n",
       "4      8.89     10.22         1.00           NaN         NaN    NaN   \n",
       "\n",
       "   overall_sales  \n",
       "0          82.54  \n",
       "1          40.24  \n",
       "2          35.52  \n",
       "3          32.77  \n",
       "4          31.38  "
      ]
     },
     "execution_count": 30,
     "metadata": {},
     "output_type": "execute_result"
    }
   ],
   "source": [
    "games.head()"
   ]
  },
  {
   "cell_type": "markdown",
   "id": "62527162",
   "metadata": {},
   "source": [
    "#### 2.6 Вывод\n",
    "\n",
    " - Изменили названия столбцов на соответсвующие общепринятому стилю.\n",
    " - Удалили записи с пропусками в `year_of_release`, `name` и `genre`. Остальные пропуски оставили, их много, не можем просто убрать или заменить на медианы, потому что это возможно приведет к искажению данных и дальнейших результатов. Причиной пропусков может быть некорректная работа алгоритмов выгрузки данных, что следует сообщить разработчикам, а также отсутсвие тех или иных данных в первоисточнике.\n",
    " - Значения в колонке `user_score` преобразовали в тип float, в колонке `year_of_release` в тип int.\n",
    " - В колонке с оценкой пользователей кроме пропусков и численных значений, присутвует значение 'tbd' - to be determined, оно обозначает, что оценка пользователей еще не сформировалась, в нашем случае это равноценно пропуску.\n",
    " - В отдельный столбец `overall_sales` занесли данные о суммарных продажах игры.\n",
    " - Проверили на дубликаты: полных дубликатов не было, был один дубликат в подстроке с названием игры, годом выпуска и платформой, его удалили."
   ]
  },
  {
   "cell_type": "markdown",
   "id": "05cf83ac",
   "metadata": {},
   "source": [
    "### 3. Исследовательский анализ данных"
   ]
  },
  {
   "cell_type": "markdown",
   "id": "94c4dbb2",
   "metadata": {},
   "source": [
    "#### 3.1 Распределение игр по годам"
   ]
  },
  {
   "cell_type": "code",
   "execution_count": 31,
   "id": "1ff8ba42",
   "metadata": {},
   "outputs": [
    {
     "data": {
      "image/png": "[encoded data removed]",
      "text/plain": [
       "<Figure size 1296x576 with 1 Axes>"
      ]
     },
     "metadata": {
      "needs_background": "light"
     },
     "output_type": "display_data"
    }
   ],
   "source": [
    "plt.figure(figsize = (18,8))\n",
    "sns.countplot(data = games, x = games.year_of_release )\n",
    "plt.title('Релиз игр по годам')\n",
    "plt.xlabel('Год выпуска')\n",
    "plt.ylabel('Количество игр');"
   ]
  },
  {
   "cell_type": "code",
   "execution_count": 32,
   "id": "fb6cffa0",
   "metadata": {},
   "outputs": [
    {
     "data": {
      "text/plain": [
       "year_of_release\n",
       "1987    16\n",
       "1988    15\n",
       "1985    14\n",
       "1984    14\n",
       "1980     9\n",
       "dtype: int64"
      ]
     },
     "execution_count": 32,
     "metadata": {},
     "output_type": "execute_result"
    }
   ],
   "source": [
    "games.value_counts('year_of_release').tail()"
   ]
  },
  {
   "cell_type": "markdown",
   "id": "3be74e15",
   "metadata": {},
   "source": [
    "В 1980-е годы выпускалось меньше всего игр. Это связано с тем, что индустрия компьютерных игр только начала развиваться.\n",
    "Думаю, нам не очень инересны данные с 1980 примерно по 2000 год, т.к. платформы и  игры, которые были популярны тогда, сейчас уже история."
   ]
  },
  {
   "cell_type": "markdown",
   "id": "f329111d",
   "metadata": {},
   "source": [
    "#### 3.2 Продажи игр по платформам"
   ]
  },
  {
   "cell_type": "markdown",
   "id": "64571004",
   "metadata": {},
   "source": [
    "ТОП-5 платформ по продажам игр за все время:"
   ]
  },
  {
   "cell_type": "code",
   "execution_count": 33,
   "id": "15ed7a9b",
   "metadata": {},
   "outputs": [
    {
     "data": {
      "text/html": [
       "<div>\n",
       "<style scoped>\n",
       "    .dataframe tbody tr th:only-of-type {\n",
       "        vertical-align: middle;\n",
       "    }\n",
       "\n",
       "    .dataframe tbody tr th {\n",
       "        vertical-align: top;\n",
       "    }\n",
       "\n",
       "    .dataframe thead th {\n",
       "        text-align: right;\n",
       "    }\n",
       "</style>\n",
       "<table border=\"1\" class=\"dataframe\">\n",
       "  <thead>\n",
       "    <tr style=\"text-align: right;\">\n",
       "      <th></th>\n",
       "      <th>platform</th>\n",
       "      <th>overall_sales</th>\n",
       "    </tr>\n",
       "  </thead>\n",
       "  <tbody>\n",
       "    <tr>\n",
       "      <th>16</th>\n",
       "      <td>PS2</td>\n",
       "      <td>1233.56</td>\n",
       "    </tr>\n",
       "    <tr>\n",
       "      <th>28</th>\n",
       "      <td>X360</td>\n",
       "      <td>961.24</td>\n",
       "    </tr>\n",
       "    <tr>\n",
       "      <th>17</th>\n",
       "      <td>PS3</td>\n",
       "      <td>931.33</td>\n",
       "    </tr>\n",
       "    <tr>\n",
       "      <th>26</th>\n",
       "      <td>Wii</td>\n",
       "      <td>891.18</td>\n",
       "    </tr>\n",
       "    <tr>\n",
       "      <th>4</th>\n",
       "      <td>DS</td>\n",
       "      <td>802.78</td>\n",
       "    </tr>\n",
       "  </tbody>\n",
       "</table>\n",
       "</div>"
      ],
      "text/plain": [
       "   platform  overall_sales\n",
       "16      PS2        1233.56\n",
       "28     X360         961.24\n",
       "17      PS3         931.33\n",
       "26      Wii         891.18\n",
       "4        DS         802.78"
      ]
     },
     "execution_count": 33,
     "metadata": {},
     "output_type": "execute_result"
    }
   ],
   "source": [
    "most_popular_platforms = games.pivot_table(index = 'platform', values = 'overall_sales', aggfunc = 'sum').reset_index().sort_values(by='overall_sales', ascending = False).head(5)\n",
    "most_popular_platforms"
   ]
  },
  {
   "cell_type": "markdown",
   "id": "779f5f60",
   "metadata": {},
   "source": [
    "Посмотрим продажи по годам для платформ из ТОП-5:"
   ]
  },
  {
   "cell_type": "code",
   "execution_count": 34,
   "id": "800a9222",
   "metadata": {},
   "outputs": [],
   "source": [
    "def plot_sales_per_platform(platform):\n",
    "    sns.lineplot(x =games.query('platform == @platform').groupby('year_of_release').agg({'overall_sales': 'sum'}).index, \n",
    "                 y = games.query('platform == @platform').groupby('year_of_release').agg({'overall_sales': 'sum'}).overall_sales,\n",
    "                 label= platform)\n",
    "    plt.title('Продажи игр на прибыльных платформах' )\n",
    "    plt.xlabel('Год выпуска')\n",
    "    plt.ylabel('Продажи, млн копий')\n",
    "    plt.legend()\n",
    "    "
   ]
  },
  {
   "cell_type": "code",
   "execution_count": 35,
   "id": "02ca5caf",
   "metadata": {},
   "outputs": [
    {
     "data": {
      "image/png": "[encoded data removed]",
      "text/plain": [
       "<Figure size 432x288 with 1 Axes>"
      ]
     },
     "metadata": {
      "needs_background": "light"
     },
     "output_type": "display_data"
    }
   ],
   "source": [
    "for platform in most_popular_platforms.platform:\n",
    "    plot_sales_per_platform(platform)"
   ]
  },
  {
   "cell_type": "markdown",
   "id": "c9677f31",
   "metadata": {},
   "source": [
    "В среднем цикл жизни платформы примерно 10 лет, половину этого времени она набирает популярность, а вторую половину ее популярность снижается почти до нуля.\n",
    "\n",
    "У платформы DS есть странный  \"хвост\", который тянется с 1985 года, платформа появилась только в 2004 году. \n"
   ]
  },
  {
   "cell_type": "code",
   "execution_count": 36,
   "id": "4e68bb0d",
   "metadata": {},
   "outputs": [
    {
     "data": {
      "text/html": [
       "<div>\n",
       "<style scoped>\n",
       "    .dataframe tbody tr th:only-of-type {\n",
       "        vertical-align: middle;\n",
       "    }\n",
       "\n",
       "    .dataframe tbody tr th {\n",
       "        vertical-align: top;\n",
       "    }\n",
       "\n",
       "    .dataframe thead th {\n",
       "        text-align: right;\n",
       "    }\n",
       "</style>\n",
       "<table border=\"1\" class=\"dataframe\">\n",
       "  <thead>\n",
       "    <tr style=\"text-align: right;\">\n",
       "      <th></th>\n",
       "      <th>name</th>\n",
       "      <th>platform</th>\n",
       "      <th>year_of_release</th>\n",
       "      <th>genre</th>\n",
       "      <th>na_sales</th>\n",
       "      <th>eu_sales</th>\n",
       "      <th>jp_sales</th>\n",
       "      <th>other_sales</th>\n",
       "      <th>critic_score</th>\n",
       "      <th>user_score</th>\n",
       "      <th>rating</th>\n",
       "      <th>overall_sales</th>\n",
       "    </tr>\n",
       "  </thead>\n",
       "  <tbody>\n",
       "    <tr>\n",
       "      <th>15957</th>\n",
       "      <td>Strongest Tokyo University Shogi DS</td>\n",
       "      <td>DS</td>\n",
       "      <td>1985</td>\n",
       "      <td>Action</td>\n",
       "      <td>0.0</td>\n",
       "      <td>0.0</td>\n",
       "      <td>0.02</td>\n",
       "      <td>0.0</td>\n",
       "      <td>NaN</td>\n",
       "      <td>NaN</td>\n",
       "      <td>NaN</td>\n",
       "      <td>0.02</td>\n",
       "    </tr>\n",
       "  </tbody>\n",
       "</table>\n",
       "</div>"
      ],
      "text/plain": [
       "                                      name platform  year_of_release   genre  \\\n",
       "15957  Strongest Tokyo University Shogi DS       DS             1985  Action   \n",
       "\n",
       "       na_sales  eu_sales  jp_sales  other_sales  critic_score  user_score  \\\n",
       "15957       0.0       0.0      0.02          0.0           NaN         NaN   \n",
       "\n",
       "      rating  overall_sales  \n",
       "15957    NaN           0.02  "
      ]
     },
     "execution_count": 36,
     "metadata": {},
     "output_type": "execute_result"
    }
   ],
   "source": [
    "games.query('platform == \"DS\" and year_of_release <2004')"
   ]
  },
  {
   "cell_type": "markdown",
   "id": "31b54f0f",
   "metadata": {},
   "source": [
    "Удалим эту некорректную запись. "
   ]
  },
  {
   "cell_type": "code",
   "execution_count": 37,
   "id": "b26dc92c",
   "metadata": {},
   "outputs": [
    {
     "data": {
      "text/plain": [
       "16442"
      ]
     },
     "execution_count": 37,
     "metadata": {},
     "output_type": "execute_result"
    }
   ],
   "source": [
    "games = games.drop(games[(games['platform'] == 'DS') & (games['year_of_release'] < 2004)].index)\n",
    "games.shape[0]"
   ]
  },
  {
   "cell_type": "code",
   "execution_count": 38,
   "id": "21d7e279",
   "metadata": {},
   "outputs": [
    {
     "data": {
      "image/png": "[encoded data removed]",
      "text/plain": [
       "<Figure size 432x288 with 1 Axes>"
      ]
     },
     "metadata": {
      "needs_background": "light"
     },
     "output_type": "display_data"
    }
   ],
   "source": [
    "for platform in most_popular_platforms.platform:\n",
    "    plot_sales_per_platform(platform)"
   ]
  },
  {
   "cell_type": "markdown",
   "id": "67a9a716",
   "metadata": {},
   "source": [
    "Теперь аномального хвоста нет."
   ]
  },
  {
   "cell_type": "markdown",
   "id": "f06e22e1",
   "metadata": {},
   "source": [
    "Попробуем получить примерный срок жизни платформы с помощью расчетов:"
   ]
  },
  {
   "cell_type": "code",
   "execution_count": 39,
   "id": "129168f5",
   "metadata": {},
   "outputs": [],
   "source": [
    "platform_life = []\n",
    "for platform in most_popular_platforms.platform:\n",
    "    value = games[games['platform'] == platform]['year_of_release'].max() - games[games['platform'] == platform]['year_of_release'].min()\n",
    "    \n",
    "    platform_life.append(value) \n",
    "platform_life_s = pd.Series(platform_life)"
   ]
  },
  {
   "cell_type": "code",
   "execution_count": 40,
   "id": "005fa2f6",
   "metadata": {},
   "outputs": [
    {
     "data": {
      "text/plain": [
       "10.2"
      ]
     },
     "execution_count": 40,
     "metadata": {},
     "output_type": "execute_result"
    }
   ],
   "source": [
    "platform_life_s.mean()"
   ]
  },
  {
   "cell_type": "markdown",
   "id": "3ed61728",
   "metadata": {},
   "source": [
    "Так же получили, что цикл жизни платформы - 10 лет.\n",
    "\n",
    "**Возьмем данные за последние 3 года  - с 2014 по 2016 гг, чтобы сделать прогнозы для 2017 г.** Т.к. индустрия быстро развивается, быстрее появляются новые платформы, стремительнее устаривают ранее популярные платформы. Проанализировав данные за последние три года, мы сможем найти платформы, находящиеся на пике популярности в настоящий момент и правильно определить потенциально прибыльные игры."
   ]
  },
  {
   "cell_type": "code",
   "execution_count": 41,
   "id": "0c854759",
   "metadata": {},
   "outputs": [],
   "source": [
    "actual_games = games.query('year_of_release>=2014')"
   ]
  },
  {
   "cell_type": "code",
   "execution_count": 42,
   "id": "f42cc4cd",
   "metadata": {},
   "outputs": [
    {
     "data": {
      "text/plain": [
       "1689"
      ]
     },
     "execution_count": 42,
     "metadata": {},
     "output_type": "execute_result"
    }
   ],
   "source": [
    "actual_games.shape[0]"
   ]
  },
  {
   "cell_type": "code",
   "execution_count": 43,
   "id": "67ead5d4",
   "metadata": {},
   "outputs": [
    {
     "name": "stdout",
     "output_type": "stream",
     "text": [
      "<class 'pandas.core.frame.DataFrame'>\n",
      "Int64Index: 1689 entries, 31 to 16714\n",
      "Data columns (total 12 columns):\n",
      " #   Column           Non-Null Count  Dtype  \n",
      "---  ------           --------------  -----  \n",
      " 0   name             1689 non-null   object \n",
      " 1   platform         1689 non-null   object \n",
      " 2   year_of_release  1689 non-null   int32  \n",
      " 3   genre            1689 non-null   object \n",
      " 4   na_sales         1689 non-null   float64\n",
      " 5   eu_sales         1689 non-null   float64\n",
      " 6   jp_sales         1689 non-null   float64\n",
      " 7   other_sales      1689 non-null   float64\n",
      " 8   critic_score     718 non-null    float64\n",
      " 9   user_score       888 non-null    float64\n",
      " 10  rating           940 non-null    object \n",
      " 11  overall_sales    1689 non-null   float64\n",
      "dtypes: float64(7), int32(1), object(4)\n",
      "memory usage: 164.9+ KB\n"
     ]
    }
   ],
   "source": [
    "actual_games.info()"
   ]
  },
  {
   "cell_type": "code",
   "execution_count": 44,
   "id": "b547f400",
   "metadata": {},
   "outputs": [
    {
     "data": {
      "text/html": [
       "<div>\n",
       "<style scoped>\n",
       "    .dataframe tbody tr th:only-of-type {\n",
       "        vertical-align: middle;\n",
       "    }\n",
       "\n",
       "    .dataframe tbody tr th {\n",
       "        vertical-align: top;\n",
       "    }\n",
       "\n",
       "    .dataframe thead th {\n",
       "        text-align: right;\n",
       "    }\n",
       "</style>\n",
       "<table border=\"1\" class=\"dataframe\">\n",
       "  <thead>\n",
       "    <tr style=\"text-align: right;\">\n",
       "      <th></th>\n",
       "      <th>name</th>\n",
       "      <th>platform</th>\n",
       "      <th>year_of_release</th>\n",
       "      <th>genre</th>\n",
       "      <th>na_sales</th>\n",
       "      <th>eu_sales</th>\n",
       "      <th>jp_sales</th>\n",
       "      <th>other_sales</th>\n",
       "      <th>critic_score</th>\n",
       "      <th>user_score</th>\n",
       "      <th>rating</th>\n",
       "      <th>overall_sales</th>\n",
       "    </tr>\n",
       "  </thead>\n",
       "  <tbody>\n",
       "    <tr>\n",
       "      <th>31</th>\n",
       "      <td>Call of Duty: Black Ops 3</td>\n",
       "      <td>PS4</td>\n",
       "      <td>2015</td>\n",
       "      <td>Shooter</td>\n",
       "      <td>6.03</td>\n",
       "      <td>5.86</td>\n",
       "      <td>0.36</td>\n",
       "      <td>2.38</td>\n",
       "      <td>NaN</td>\n",
       "      <td>NaN</td>\n",
       "      <td>NaN</td>\n",
       "      <td>14.63</td>\n",
       "    </tr>\n",
       "    <tr>\n",
       "      <th>42</th>\n",
       "      <td>Grand Theft Auto V</td>\n",
       "      <td>PS4</td>\n",
       "      <td>2014</td>\n",
       "      <td>Action</td>\n",
       "      <td>3.96</td>\n",
       "      <td>6.31</td>\n",
       "      <td>0.38</td>\n",
       "      <td>1.97</td>\n",
       "      <td>97.0</td>\n",
       "      <td>8.3</td>\n",
       "      <td>M</td>\n",
       "      <td>12.62</td>\n",
       "    </tr>\n",
       "    <tr>\n",
       "      <th>47</th>\n",
       "      <td>Pokemon Omega Ruby/Pokemon Alpha Sapphire</td>\n",
       "      <td>3DS</td>\n",
       "      <td>2014</td>\n",
       "      <td>Role-Playing</td>\n",
       "      <td>4.35</td>\n",
       "      <td>3.49</td>\n",
       "      <td>3.10</td>\n",
       "      <td>0.74</td>\n",
       "      <td>NaN</td>\n",
       "      <td>NaN</td>\n",
       "      <td>NaN</td>\n",
       "      <td>11.68</td>\n",
       "    </tr>\n",
       "    <tr>\n",
       "      <th>77</th>\n",
       "      <td>FIFA 16</td>\n",
       "      <td>PS4</td>\n",
       "      <td>2015</td>\n",
       "      <td>Sports</td>\n",
       "      <td>1.12</td>\n",
       "      <td>6.12</td>\n",
       "      <td>0.06</td>\n",
       "      <td>1.28</td>\n",
       "      <td>82.0</td>\n",
       "      <td>4.3</td>\n",
       "      <td>E</td>\n",
       "      <td>8.58</td>\n",
       "    </tr>\n",
       "    <tr>\n",
       "      <th>87</th>\n",
       "      <td>Star Wars Battlefront (2015)</td>\n",
       "      <td>PS4</td>\n",
       "      <td>2015</td>\n",
       "      <td>Shooter</td>\n",
       "      <td>2.99</td>\n",
       "      <td>3.49</td>\n",
       "      <td>0.22</td>\n",
       "      <td>1.28</td>\n",
       "      <td>NaN</td>\n",
       "      <td>NaN</td>\n",
       "      <td>NaN</td>\n",
       "      <td>7.98</td>\n",
       "    </tr>\n",
       "  </tbody>\n",
       "</table>\n",
       "</div>"
      ],
      "text/plain": [
       "                                         name platform  year_of_release  \\\n",
       "31                  Call of Duty: Black Ops 3      PS4             2015   \n",
       "42                         Grand Theft Auto V      PS4             2014   \n",
       "47  Pokemon Omega Ruby/Pokemon Alpha Sapphire      3DS             2014   \n",
       "77                                    FIFA 16      PS4             2015   \n",
       "87               Star Wars Battlefront (2015)      PS4             2015   \n",
       "\n",
       "           genre  na_sales  eu_sales  jp_sales  other_sales  critic_score  \\\n",
       "31       Shooter      6.03      5.86      0.36         2.38           NaN   \n",
       "42        Action      3.96      6.31      0.38         1.97          97.0   \n",
       "47  Role-Playing      4.35      3.49      3.10         0.74           NaN   \n",
       "77        Sports      1.12      6.12      0.06         1.28          82.0   \n",
       "87       Shooter      2.99      3.49      0.22         1.28           NaN   \n",
       "\n",
       "    user_score rating  overall_sales  \n",
       "31         NaN    NaN          14.63  \n",
       "42         8.3      M          12.62  \n",
       "47         NaN    NaN          11.68  \n",
       "77         4.3      E           8.58  \n",
       "87         NaN    NaN           7.98  "
      ]
     },
     "execution_count": 44,
     "metadata": {},
     "output_type": "execute_result"
    }
   ],
   "source": [
    "actual_games.head()"
   ]
  },
  {
   "cell_type": "markdown",
   "id": "a56d0ac9",
   "metadata": {},
   "source": [
    "Топ-10 платформ по продажам с 2014 по 2016 гг."
   ]
  },
  {
   "cell_type": "code",
   "execution_count": 45,
   "id": "71ab2a8a",
   "metadata": {},
   "outputs": [],
   "source": [
    "pivot_actual_games = actual_games.pivot_table(index = 'platform', values = 'overall_sales', aggfunc = 'sum').reset_index().sort_values(by='overall_sales', ascending = False).head(10)"
   ]
  },
  {
   "cell_type": "code",
   "execution_count": 46,
   "id": "2103bff7",
   "metadata": {},
   "outputs": [
    {
     "data": {
      "image/png": "[encoded data removed]",
      "text/plain": [
       "<Figure size 504x504 with 1 Axes>"
      ]
     },
     "metadata": {},
     "output_type": "display_data"
    },
    {
     "data": {
      "text/plain": [
       "<Figure size 1080x1080 with 0 Axes>"
      ]
     },
     "metadata": {},
     "output_type": "display_data"
    }
   ],
   "source": [
    "plt.figure(figsize = (7,7))\n",
    "plt.title('Продажи игр по платформам 2006-2016 гг.')\n",
    "plt.pie(pivot_actual_games.overall_sales, labels = pivot_actual_games.platform, autopct='%1.1f%%')\n",
    "plt.figure(figsize = (15,15))\n",
    "plt.show()"
   ]
  },
  {
   "cell_type": "markdown",
   "id": "13fc8be0",
   "metadata": {},
   "source": [
    "**Наиболее популярными платформами за актуальных период являются PS4, Xone, 3DS, PS3 и некоторые другие платформы, что отображено на круговой диаграмме.**"
   ]
  },
  {
   "cell_type": "markdown",
   "id": "85e22fe2",
   "metadata": {},
   "source": [
    "Потенциально прибыльными платформами будут те, продажи которых растут или еще достаточно высоки на период 2014-2016 гг.\n",
    "\n",
    "Посмотрим как менялись продажи по годам игр на платформах из ТОП 10 за 2014-2016 гг."
   ]
  },
  {
   "cell_type": "code",
   "execution_count": 47,
   "id": "6d5d5018",
   "metadata": {},
   "outputs": [
    {
     "data": {
      "image/png": "[encoded data removed]",
      "text/plain": [
       "<Figure size 1080x1944 with 10 Axes>"
      ]
     },
     "metadata": {
      "needs_background": "light"
     },
     "output_type": "display_data"
    }
   ],
   "source": [
    "fig, axs = plt.subplots(nrows=5, ncols=2, figsize=(15, 27), sharex = True)\n",
    "fig.suptitle('Продажи игр на платформaх 2014-2016 гг' , fontsize=18,  y = 0.92)\n",
    "\n",
    "for platform, ax in zip(pivot_actual_games.platform, axs.ravel()):\n",
    "    sns.lineplot(data = actual_games.query('platform == @platform').groupby('year_of_release').agg({'overall_sales': 'sum'}), \n",
    "                 y = 'overall_sales',\n",
    "                 x = actual_games.query('platform == @platform').groupby('year_of_release').agg({'overall_sales': 'sum'}).index,\n",
    "                 ax=ax,\n",
    "                 linewidth=2.5,\n",
    "                 color = 'g')\n",
    "    ax.set_title(platform)\n",
    "    ax.set_xlabel('Год выпуска')\n",
    "    ax.set_ylabel('Продажи, млн копий')\n",
    "    xticks = np.arange(2014, 2017, 1)\n",
    "    ax.set_xticks(xticks)"
   ]
  },
  {
   "cell_type": "markdown",
   "id": "1d7c6cc5",
   "metadata": {},
   "source": [
    "Также посмотрим сколько игр выпускалось за актуальный период на платформах из ТОП10:"
   ]
  },
  {
   "cell_type": "code",
   "execution_count": 48,
   "id": "a38bc6b2",
   "metadata": {},
   "outputs": [
    {
     "data": {
      "image/png": "[encoded data removed]",
      "text/plain": [
       "<Figure size 864x1800 with 10 Axes>"
      ]
     },
     "metadata": {
      "needs_background": "light"
     },
     "output_type": "display_data"
    }
   ],
   "source": [
    "fig, axs = plt.subplots(nrows=5, ncols=2, figsize=(12, 25))\n",
    "fig.suptitle('Количество выпущенных игр 2014-2016 гг', fontsize=18,  y = 0.92)\n",
    "\n",
    "for platform, ax in zip(pivot_actual_games.platform, axs.ravel()):\n",
    "    sns.countplot(data = actual_games[actual_games['platform']==platform], \n",
    "                  x = actual_games[actual_games['platform']==platform].year_of_release, ax=ax)\n",
    "    ax.set_title(platform)\n",
    "    ax.set_xlabel('Год выпуска')\n",
    "    ax.set_ylabel('Количество игр')"
   ]
  },
  {
   "cell_type": "markdown",
   "id": "d2f0b5a2",
   "metadata": {},
   "source": [
    "Из графиков изменения продаж и количества выпускаемых игр можно сделать следующие наблюдения:\n",
    "\n",
    "- Продажи игр на всех платформах к 2016 году идет на спад. Это, вероятно, связано  с тем, что данные за 2016 год являются неполными. При этом, продажи игр на PS4, XOne только росли до 2016 года и на 2016 г остаются доволно высокими.\n",
    "- Из топ-10 платформ количество игр всех, кроме PS4,XOne и PC идет на спад. \n",
    "- Наиболее перспективными  и соответственно прибыльными играми стоит считать те, у которых к 2016 г сохраняются относительно высокие продажи и растет количество выпускаемых игр.\n",
    "- **Отберем PS4, XOne и PC как три наиболее перспективные платформы.**"
   ]
  },
  {
   "cell_type": "code",
   "execution_count": 49,
   "id": "0dd35948",
   "metadata": {},
   "outputs": [
    {
     "data": {
      "image/png": "[encoded data removed]",
      "text/plain": [
       "<Figure size 1040x560 with 1 Axes>"
      ]
     },
     "metadata": {
      "needs_background": "light"
     },
     "output_type": "display_data"
    }
   ],
   "source": [
    "plt.figure(figsize=(13,7), dpi= 80)\n",
    "sns.boxplot(x='platform', y='overall_sales', data=actual_games, notch=False)\n",
    "plt.title('Разброс значений глобальных продаж игр на разных платформах', fontsize=18)\n",
    "plt.ylabel('Продажи, млн копий')\n",
    "plt.xlabel('Платформа')\n",
    "plt.ylim(0, 4);"
   ]
  },
  {
   "cell_type": "markdown",
   "id": "33fd10ac",
   "metadata": {},
   "source": [
    "Для  двух избранных платформ - PS4, XOne - большинство значений входит в интервал от 0 до ~ 1.5 млн копий, а медиана составляет около 0,25 млн копий. У остальных платформ большинство продаж входят в несколько меньший интервал, медиана тоже меньше. Однако медиана продаж по платформам WiiU, Wii, X360 близка к PS4, XOne, но как мы видели выше продажи игр на платформах WiiU, Wii, X360\n",
    "с 2014 года падают.\n",
    "\n",
    "Практически на всех графиках (кроме PSP и Wii) есть значительное количество выбросов, когда продажи сильно превышали средние значения - это видимо очень популярные игры-хиты. У остальных платформ 5% всех продаж входят в несколько меньший интервал. Например, для PS3 этот интервал слегка меньше единицы \n",
    "\n",
    "Таким образом, потенциально прибыльные платформы были выбраны правильно."
   ]
  },
  {
   "cell_type": "markdown",
   "id": "28d2bd37",
   "metadata": {},
   "source": [
    "#### 3.3 Влияние оценок критиков и пользователей на продажи\n",
    "\n",
    "**Влияние оценки пользователей**"
   ]
  },
  {
   "cell_type": "code",
   "execution_count": 50,
   "id": "93fde320",
   "metadata": {},
   "outputs": [],
   "source": [
    "data_ps4 = actual_games[actual_games.platform == 'PS4']\n",
    "data_xone = actual_games[actual_games.platform == 'XOne']\n",
    "data_pc = actual_games[actual_games.platform == 'PC']"
   ]
  },
  {
   "cell_type": "code",
   "execution_count": 51,
   "id": "4fb0b916",
   "metadata": {},
   "outputs": [
    {
     "data": {
      "image/png": "[encoded data removed]",
      "text/plain": [
       "<Figure size 1080x288 with 3 Axes>"
      ]
     },
     "metadata": {
      "needs_background": "light"
     },
     "output_type": "display_data"
    }
   ],
   "source": [
    "fig, axs = plt.subplots(nrows=1, ncols=3, figsize=(15,4))\n",
    "fig.suptitle('Зависимость продаж от оценки пользователей')\n",
    "\n",
    "for platform, ax in zip(['PS4', 'XOne', 'PC'], axs.ravel()):\n",
    "    sns.scatterplot(data = actual_games[actual_games.platform == platform], x='user_score', y='overall_sales', ax=ax)\n",
    "    ax.set_title(platform)\n",
    "    ax.set_ylabel('Продажи, млн копий')\n",
    "    ax.set_xlabel('Оценка пользователей')"
   ]
  },
  {
   "cell_type": "code",
   "execution_count": 52,
   "id": "637637c5",
   "metadata": {},
   "outputs": [
    {
     "data": {
      "text/plain": [
       "-0.04013158947269733"
      ]
     },
     "execution_count": 52,
     "metadata": {},
     "output_type": "execute_result"
    }
   ],
   "source": [
    "data_ps4.user_score.corr(data_ps4.overall_sales)"
   ]
  },
  {
   "cell_type": "code",
   "execution_count": 53,
   "id": "1e77a936",
   "metadata": {},
   "outputs": [
    {
     "data": {
      "text/plain": [
       "-0.07038392806475809"
      ]
     },
     "execution_count": 53,
     "metadata": {},
     "output_type": "execute_result"
    }
   ],
   "source": [
    "data_xone.user_score.corr(data_xone.overall_sales)"
   ]
  },
  {
   "cell_type": "code",
   "execution_count": 54,
   "id": "083ec367",
   "metadata": {},
   "outputs": [
    {
     "data": {
      "text/plain": [
       "-0.07159665703472451"
      ]
     },
     "execution_count": 54,
     "metadata": {},
     "output_type": "execute_result"
    }
   ],
   "source": [
    "data_pc.user_score.corr(data_pc.overall_sales)"
   ]
  },
  {
   "cell_type": "markdown",
   "id": "ffa1a575",
   "metadata": {},
   "source": [
    "*Продажи не зависят от оценки пользователей.*"
   ]
  },
  {
   "cell_type": "markdown",
   "id": "a8f2d9a9",
   "metadata": {},
   "source": [
    "**Влияние оценки критиков**"
   ]
  },
  {
   "cell_type": "code",
   "execution_count": 55,
   "id": "7708c00f",
   "metadata": {},
   "outputs": [
    {
     "data": {
      "image/png": "[encoded data removed]",
      "text/plain": [
       "<Figure size 1080x288 with 3 Axes>"
      ]
     },
     "metadata": {
      "needs_background": "light"
     },
     "output_type": "display_data"
    }
   ],
   "source": [
    "fig, axs = plt.subplots(nrows=1, ncols=3, figsize=(15,4))\n",
    "fig.suptitle('Зависимость продаж от оценки критиков')\n",
    "\n",
    "for platform, ax in zip(['PS4', 'XOne', 'PC'], axs.ravel()):\n",
    "    sns.scatterplot(data = actual_games[actual_games.platform == platform], x='critic_score', y='overall_sales', ax=ax)\n",
    "    ax.set_title(platform)\n",
    "    ax.set_ylabel('Продажи, млн копий')\n",
    "    ax.set_xlabel('Оценка критиков')"
   ]
  },
  {
   "cell_type": "code",
   "execution_count": 56,
   "id": "d97142e4",
   "metadata": {},
   "outputs": [
    {
     "data": {
      "text/plain": [
       "0.4026614106810409"
      ]
     },
     "execution_count": 56,
     "metadata": {},
     "output_type": "execute_result"
    }
   ],
   "source": [
    "data_ps4.critic_score.corr(data_ps4.overall_sales)"
   ]
  },
  {
   "cell_type": "code",
   "execution_count": 57,
   "id": "b110525a",
   "metadata": {},
   "outputs": [
    {
     "data": {
      "text/plain": [
       "0.42867694370333187"
      ]
     },
     "execution_count": 57,
     "metadata": {},
     "output_type": "execute_result"
    }
   ],
   "source": [
    "data_xone.critic_score.corr(data_xone.overall_sales)"
   ]
  },
  {
   "cell_type": "code",
   "execution_count": 58,
   "id": "c4fe2ea7",
   "metadata": {},
   "outputs": [
    {
     "data": {
      "text/plain": [
       "0.17463413769350036"
      ]
     },
     "execution_count": 58,
     "metadata": {},
     "output_type": "execute_result"
    }
   ],
   "source": [
    "data_pc.critic_score.corr(data_pc.overall_sales)"
   ]
  },
  {
   "cell_type": "markdown",
   "id": "a1e28b2b",
   "metadata": {},
   "source": [
    "*Для игр на PS4 и XOne есть средняя по силе положительная зависимость продаж от оценки критиков. Для игр на PC положительная зависимость тоже есть, но более слабая.*\n",
    "\n",
    "**Таким образом,** есть следующая общая закономерность : чем выше оценка критиков, тем выше продажи игры."
   ]
  },
  {
   "cell_type": "markdown",
   "id": "f6dfc158",
   "metadata": {},
   "source": [
    "#### 3.4 Распределение по жанрам"
   ]
  },
  {
   "cell_type": "code",
   "execution_count": 59,
   "id": "47aa2fe5",
   "metadata": {},
   "outputs": [
    {
     "data": {
      "image/png": "[encoded data removed]",
      "text/plain": [
       "<Figure size 720x720 with 1 Axes>"
      ]
     },
     "metadata": {
      "needs_background": "light"
     },
     "output_type": "display_data"
    }
   ],
   "source": [
    "plt.figure(figsize = (10,10))\n",
    "sns.countplot(data = actual_games, y = actual_games.genre, order = actual_games.genre.value_counts().index)\n",
    "plt.title('Распределение игр по жанрам')\n",
    "plt.xlabel('Количество игр')\n",
    "plt.ylabel('Жанр');"
   ]
  },
  {
   "cell_type": "markdown",
   "id": "a4ecf7c1",
   "metadata": {},
   "source": [
    "Больше всего среди игр 2014-2016 гг игр в жанре экшн - более 600. Далее идут ролевые, приключенческие спортивные игры и шутеры."
   ]
  },
  {
   "cell_type": "code",
   "execution_count": 60,
   "id": "0f558fd7",
   "metadata": {},
   "outputs": [
    {
     "data": {
      "image/png": "[encoded data removed]",
      "text/plain": [
       "<Figure size 936x504 with 1 Axes>"
      ]
     },
     "metadata": {
      "needs_background": "light"
     },
     "output_type": "display_data"
    }
   ],
   "source": [
    "pivot_genre = actual_games.pivot_table(index = 'genre', values = 'overall_sales', aggfunc = 'median').reset_index().sort_values(by='overall_sales', ascending = False)\n",
    "plt.figure(figsize = (13,7))\n",
    "sns.barplot(data = pivot_genre, x=pivot_genre.genre, y = pivot_genre.overall_sales)\n",
    "plt.title('Медианные продажи игр разных жанров')\n",
    "plt.xlabel('Жанр')\n",
    "plt.ylabel('Продажи, млн копий');"
   ]
  },
  {
   "cell_type": "markdown",
   "id": "a716a3d5",
   "metadata": {},
   "source": [
    "Самый прибыльный жанр в 2014-2016 гг с большим отрывом от остальных - шутеры. Далее по продажам идут жанры спорт, платформеры, fighting, ролевые игры и другие.\n",
    "\n",
    "Самые низкие продажи у приключений, головоломок и стратегий."
   ]
  },
  {
   "cell_type": "markdown",
   "id": "c0e4ed06",
   "metadata": {},
   "source": [
    "#### 3.5 Вывод"
   ]
  },
  {
   "cell_type": "markdown",
   "id": "6a9776d1",
   "metadata": {},
   "source": [
    "- За 10 лет происходит цикл \"жизни\" игровой платформы от развития популярности до спада.\n",
    "\n",
    "\n",
    "- **Наиболее актуальными для прогнозирования являются данные за 2014-2016 гг** согласно изменению продаж игр по годам. В настоящее время индустрия игр динамично меняется, анализировать более ранние даные не имеет смысла, т.к. платформы быстро устаревают и стремительно появляются новые. Проанализировав данные за последние три года, мы сможем найти платформы, находящиеся на пике популярности в настоящий момент и правильно определить потенциально прибыльные игры.\n",
    "\n",
    "\n",
    "- Определили ТОП10 наиболее прибыльных платформ в 2014-2016 гг, исследовали изменение годовых продаж по каждой из ТОП10 платформе и сопоставили эти данные с количеством выпускаемых игр в год. На основании полученных закономерностей, определили, что наиболее персперктивными платформами являются **PS4, XOne и PC**.\n",
    "\n",
    "\n",
    "- Показали, что продажи игр не зависят от оценок пользователей, но зависят от оценок критиков. Чем выше оценка критиков, тем больше продаж у игры.\n",
    "\n",
    "\n",
    "- Больше всего среди игр 2014-2016 гг игр в жанре экшн - более 600. Далее идут ролевые, приключенческие, спортивные игры и шутеры. \n",
    "\n",
    "\n",
    "- Самый прибыльный жанр в 2014-2016 гг с большим отрывом от остальных - шутеры. Далее по продажам идут жанры спорт, платформеры, fighting, ролевые игры и другие. Самые низкие продажи у приключений, головоломок и стратегий."
   ]
  },
  {
   "cell_type": "markdown",
   "id": "8f7456d4",
   "metadata": {},
   "source": [
    "### 4. Портрет пользователя региона"
   ]
  },
  {
   "cell_type": "markdown",
   "id": "1d31cd3c",
   "metadata": {},
   "source": [
    "Определим для пользователя каждого региона (NA, EU, JP):\n",
    "- Самые популярные платформы (топ-5). Опишите различия в долях продаж.\n",
    "- Самые популярные жанры (топ-5). Поясните разницу.\n",
    "- Влияет ли рейтинг ESRB на продажи в отдельном регионе?"
   ]
  },
  {
   "cell_type": "markdown",
   "id": "49b0ebc5",
   "metadata": {},
   "source": [
    "#### 4.1 популярные платформы\n",
    "\n",
    "a. Япония"
   ]
  },
  {
   "cell_type": "code",
   "execution_count": 61,
   "id": "2518fe16",
   "metadata": {},
   "outputs": [],
   "source": [
    "def barplot_region(column, region_sales):\n",
    "    pivot_column = actual_games.pivot_table(index = column, values = region_sales , aggfunc = 'sum', margins= True)\n",
    "    all_sales = pivot_column[pivot_column.index=='All'][region_sales].iloc[0]\n",
    "    pivot_column['sales_share'] = pivot_column[region_sales]/all_sales\n",
    "    to_plot = pivot_column.sort_values(by=region_sales, ascending = False).drop('All', axis =0).head()\n",
    "    ax = sns.barplot(data = to_plot, y='sales_share', x = to_plot.index)\n",
    "    ax.set_ylabel('Доля продаж')\n",
    "    for i, v in enumerate(round(to_plot.sales_share, 2)):\n",
    "        ax.text(i, v , str(v), ha='center')"
   ]
  },
  {
   "cell_type": "code",
   "execution_count": 62,
   "id": "d926100a",
   "metadata": {},
   "outputs": [
    {
     "data": {
      "image/png": "[encoded data removed]",
      "text/plain": [
       "<Figure size 432x288 with 1 Axes>"
      ]
     },
     "metadata": {
      "needs_background": "light"
     },
     "output_type": "display_data"
    }
   ],
   "source": [
    "barplot_region('platform','jp_sales')\n",
    "plt.title('Продажи игр на разных платформах в Японии')\n",
    "plt.xlabel('Платформа');"
   ]
  },
  {
   "cell_type": "markdown",
   "id": "dc1d8113",
   "metadata": {},
   "source": [
    "Самые популярные платформы в Японии nintendo 3DS - ее доля продаж составляет почти 50% . Далее примерно с одинаковой долей PS4 и PSV (по 16% от всех продаж). Далее по популярности - PS3 и WiiU ,  c долей продаж 12 и 8 %."
   ]
  },
  {
   "cell_type": "markdown",
   "id": "0735a907",
   "metadata": {},
   "source": [
    "b. Европа"
   ]
  },
  {
   "cell_type": "code",
   "execution_count": 63,
   "id": "44b9373e",
   "metadata": {},
   "outputs": [
    {
     "data": {
      "image/png": "[encoded data removed]",
      "text/plain": [
       "<Figure size 432x288 with 1 Axes>"
      ]
     },
     "metadata": {
      "needs_background": "light"
     },
     "output_type": "display_data"
    }
   ],
   "source": [
    "barplot_region('platform','eu_sales')\n",
    "plt.title('Продажи игр на разных платформах в Европе')\n",
    "plt.xlabel('Платформа');"
   ]
  },
  {
   "cell_type": "markdown",
   "id": "cbc07417",
   "metadata": {},
   "source": [
    "В Европе наиболее популярны игры на PS4 (48% продаж региона), XOne (17%), PS3 (9%). Далее идут игры на платформах PC и 3DS."
   ]
  },
  {
   "cell_type": "markdown",
   "id": "9bc61acf",
   "metadata": {},
   "source": [
    "c. Северная Америка"
   ]
  },
  {
   "cell_type": "code",
   "execution_count": 64,
   "id": "b023aaa5",
   "metadata": {},
   "outputs": [
    {
     "data": {
      "image/png": "[encoded data removed]",
      "text/plain": [
       "<Figure size 432x288 with 1 Axes>"
      ]
     },
     "metadata": {
      "needs_background": "light"
     },
     "output_type": "display_data"
    }
   ],
   "source": [
    "barplot_region('platform','na_sales')\n",
    "plt.title('Продажи игр на разных платформах в Северной Америке')\n",
    "plt.xlabel('Платформа');"
   ]
  },
  {
   "cell_type": "markdown",
   "id": "c9ee7e9c",
   "metadata": {},
   "source": [
    "В Северной Америке наиболее популярны игры на PS4 (35% продаж региона), XOne (29%), X360 (10%), PS3 (8%)."
   ]
  },
  {
   "cell_type": "markdown",
   "id": "126e38c1",
   "metadata": {},
   "source": [
    "Если сравнивать три региона, то Япония отличается от остальных сильнее всех. Там наиболее популярны игры на nintendo 3DS. В Европе и в северной Америке в ТОП-2 составляют одни и те же платформы - PS4 и XOne. "
   ]
  },
  {
   "cell_type": "markdown",
   "id": "1c5a8527",
   "metadata": {},
   "source": [
    "#### 4.2 популярные жанры\n",
    "\n",
    "a. Япония"
   ]
  },
  {
   "cell_type": "code",
   "execution_count": 65,
   "id": "aaa5c3be",
   "metadata": {},
   "outputs": [
    {
     "data": {
      "image/png": "[encoded data removed]",
      "text/plain": [
       "<Figure size 432x288 with 1 Axes>"
      ]
     },
     "metadata": {
      "needs_background": "light"
     },
     "output_type": "display_data"
    }
   ],
   "source": [
    "barplot_region('genre','jp_sales')\n",
    "plt.title('Продажи игр разных жанров в Японии')\n",
    "plt.xlabel('Жанр');"
   ]
  },
  {
   "cell_type": "markdown",
   "id": "215671cf",
   "metadata": {},
   "source": [
    "Наиболее популярные жанры компьютерных игр в Японии - ролевые, экшн."
   ]
  },
  {
   "cell_type": "markdown",
   "id": "64af716e",
   "metadata": {},
   "source": [
    "b. Европа"
   ]
  },
  {
   "cell_type": "code",
   "execution_count": 66,
   "id": "490c751d",
   "metadata": {},
   "outputs": [
    {
     "data": {
      "image/png": "[encoded data removed]",
      "text/plain": [
       "<Figure size 432x288 with 1 Axes>"
      ]
     },
     "metadata": {
      "needs_background": "light"
     },
     "output_type": "display_data"
    }
   ],
   "source": [
    "barplot_region('genre','eu_sales')\n",
    "plt.title('Продажи игр разных жанров в Европе')\n",
    "plt.xlabel('Жанр');"
   ]
  },
  {
   "cell_type": "markdown",
   "id": "ec72f20c",
   "metadata": {},
   "source": [
    "Наиболее популярные жанры компьютерных игр в Европе - экшн и шутеры."
   ]
  },
  {
   "cell_type": "markdown",
   "id": "5c0d9643",
   "metadata": {},
   "source": [
    "с. Северная Америка"
   ]
  },
  {
   "cell_type": "code",
   "execution_count": 67,
   "id": "41c96a05",
   "metadata": {},
   "outputs": [
    {
     "data": {
      "image/png": "[encoded data removed]",
      "text/plain": [
       "<Figure size 432x288 with 1 Axes>"
      ]
     },
     "metadata": {
      "needs_background": "light"
     },
     "output_type": "display_data"
    }
   ],
   "source": [
    "barplot_region('genre','na_sales')\n",
    "plt.title('Продажи игр разных жанров в Северной Америке')\n",
    "plt.xlabel('Жанр');"
   ]
  },
  {
   "cell_type": "markdown",
   "id": "dbf8040a",
   "metadata": {},
   "source": [
    "Наиболее популярные жанры компьютерных игр в Северной Америке - шутеры и экшн. Почти как в Европе, но шутеры в этот раз популярнее."
   ]
  },
  {
   "cell_type": "markdown",
   "id": "d2f9925f",
   "metadata": {},
   "source": [
    "Таким образом, Япония снова сильно отличается от Западных стран по популярным жанрам игр. Любимый жанр японцев - ролевые игры, тогда как у стран Запада ролевые игры на 4 месте. \n",
    "\n",
    "На втором месте - экшн. Экшн - самый популярный жанр в странах Европы и второй по популярности в Северной Америки. \n",
    "\n",
    "Вкусы к жанрам видеоигр у жителей Европы и Северной Америки практически совпадают - ТОП4 сходится почти полностью, исключение - в Северной Америке шутеры любят чуть больше чем экшн, в Европе наоборот. "
   ]
  },
  {
   "cell_type": "markdown",
   "id": "1472e565",
   "metadata": {},
   "source": [
    "#### 4.3 Влияние рейтинга ESRB на продажи\n"
   ]
  },
  {
   "cell_type": "markdown",
   "id": "a4ac8187",
   "metadata": {},
   "source": [
    "Заполним пропуски в рейтинге значением unknown."
   ]
  },
  {
   "cell_type": "code",
   "execution_count": 68,
   "id": "d19ae7e8",
   "metadata": {},
   "outputs": [],
   "source": [
    "actual_games['rating'] = actual_games.rating.fillna('unknown')"
   ]
  },
  {
   "cell_type": "markdown",
   "id": "f0a48bb6",
   "metadata": {},
   "source": [
    "a. Япония"
   ]
  },
  {
   "cell_type": "code",
   "execution_count": 69,
   "id": "da09b2ee",
   "metadata": {},
   "outputs": [
    {
     "data": {
      "image/png": "[encoded data removed]",
      "text/plain": [
       "<Figure size 432x288 with 1 Axes>"
      ]
     },
     "metadata": {
      "needs_background": "light"
     },
     "output_type": "display_data"
    }
   ],
   "source": [
    "barplot_region('rating','jp_sales')\n",
    "plt.title('Продажи игр разного рейтинга в Японии')\n",
    "plt.xlabel('Рейтинг');\n"
   ]
  },
  {
   "cell_type": "markdown",
   "id": "b30a5fca",
   "metadata": {},
   "source": [
    "b. Европа"
   ]
  },
  {
   "cell_type": "code",
   "execution_count": 70,
   "id": "f65ca6f2",
   "metadata": {},
   "outputs": [
    {
     "data": {
      "image/png": "[encoded data removed]",
      "text/plain": [
       "<Figure size 432x288 with 1 Axes>"
      ]
     },
     "metadata": {
      "needs_background": "light"
     },
     "output_type": "display_data"
    }
   ],
   "source": [
    "barplot_region('rating','eu_sales')\n",
    "plt.title('Продажи игр разного рейтинга в Европе')\n",
    "plt.xlabel('Рейтинг');"
   ]
  },
  {
   "cell_type": "markdown",
   "id": "9122b3d5",
   "metadata": {},
   "source": [
    "с. Северная Америка"
   ]
  },
  {
   "cell_type": "code",
   "execution_count": 71,
   "id": "81086e66",
   "metadata": {},
   "outputs": [
    {
     "data": {
      "image/png": "[encoded data removed]",
      "text/plain": [
       "<Figure size 432x288 with 1 Axes>"
      ]
     },
     "metadata": {
      "needs_background": "light"
     },
     "output_type": "display_data"
    }
   ],
   "source": [
    "barplot_region('rating','na_sales')\n",
    "plt.title('Продажи игр разного рейтинга в Северной Америке')\n",
    "plt.xlabel('Рейтинг');"
   ]
  },
  {
   "cell_type": "markdown",
   "id": "eafb9d29",
   "metadata": {},
   "source": [
    "На графиках видно, что значительную часть занимают игры без рейтинга. В Японии таких игр больше половины от проданных, а в Европе и Северной Америке почти четверть всех продаж. \n",
    "\n",
    "Вероятно, в Японии так много игр без рейтинга, потому что многие игры локальные и по западному рейтингу ESRB не оцениваются. В Японии есть свой рейтинг - CERO. В западных странах тоже есть такие локальные и не очень популярные игры, которым не присвоен рейтинг.\n",
    "\n",
    "\n",
    "Если пренебречь играми без рейтинга, то:\n",
    "- Продажи глобально зависят от рейтинга;\n",
    "- В Северной Америке и Европе зависимость очень похожа, больше всего продаются игр с рейтингом M - для взрослых (17+).\n",
    "- В Японии больше всего продаж игр для подростков, однако, если бы пропусков в рейтинге не было, не факт,что это было бы так.\n"
   ]
  },
  {
   "cell_type": "markdown",
   "id": "f0f575bd",
   "metadata": {},
   "source": [
    "#### 4.4 Вывод\n",
    "\n",
    "- Портрет пользователя видеоигр в Японии наиболее отличителен, что связано с локальной модой и культурными особенностями. Среди японцев наиболее популярны игры на nintendo 3DS, а среди жанров - ролевые и экшн игры.\n",
    "\n",
    "- Вкусы к жанрам видеоигр у жителей Европы и Северной Америки практически совпадают: ТОП4 сходится почти полностью. Исключение - в Северной Америке шутеры любят чуть больше, чем экшн, в Европе - наоборот. Препочтения по платформам тоже похожи: в ТОП-2 входят  одни и те же платформы - PS4 и XOne. \n",
    "\n",
    "- В данных довольно много игр без рейтинга ESRB, особенно в Японии, это может связано с тем, что ESRB рейтинг - рейтинг для игр, распространенных в Северной Америке. \n",
    "- В целом, продажи зависят от рейтинга. В Северной Америке и Европе зависимость очень похожа, больше всего продаются игр с рейтингом M - для взрослых (17+). В Японии больше всего продаж игр для подростков."
   ]
  },
  {
   "cell_type": "markdown",
   "id": "0c83bf0d",
   "metadata": {},
   "source": [
    "### 5. Проверка гипотез"
   ]
  },
  {
   "cell_type": "markdown",
   "id": "2ef0427b",
   "metadata": {},
   "source": [
    "#### 5.1 Средние пользовательские рейтинги платформ Xbox One и PC одинаковые"
   ]
  },
  {
   "cell_type": "markdown",
   "id": "50aefc2c",
   "metadata": {},
   "source": [
    "Чтобы сравнить средние пользовательские рейтинги двух платформ необходимо применить тест Стьюдента для проверки гипотезы о равенстве средних двух генеральных совокупностей. \n",
    "\n",
    "За нулевую гипотезу возьмем утверждение, что средние пользовательские рейтинги Xbox One и PC **равны.**\n",
    "\n",
    "Альтернативной гипотезой будет утверждение, что средние пользовательские рейтинги Xbox One и PC **неравны.**"
   ]
  },
  {
   "cell_type": "code",
   "execution_count": 72,
   "id": "8c7deb07",
   "metadata": {},
   "outputs": [
    {
     "name": "stdout",
     "output_type": "stream",
     "text": [
      "p-значение: 0.10450507919348513\n",
      "Не получилось отвергнуть нулевую гипотезу\n"
     ]
    }
   ],
   "source": [
    "alpha = 0.05 # уровень статистической значимости\n",
    "# если p-value окажется меньше него, отвергнем гипотезу\n",
    "\n",
    "results = st.ttest_ind(actual_games.query('platform == \"XOne\"').user_score, \n",
    "                       actual_games.query('platform == \"PC\"').user_score, nan_policy = 'omit')\n",
    "\n",
    "print('p-значение:', results.pvalue)\n",
    "\n",
    "if results.pvalue < alpha:\n",
    "    print('Отвергаем нулевую гипотезу')\n",
    "else:\n",
    "    print('Не получилось отвергнуть нулевую гипотезу') "
   ]
  },
  {
   "cell_type": "markdown",
   "id": "5727d46e",
   "metadata": {},
   "source": [
    "Не отвергаем нулевую гипотезу. Значит, с большой долей вероятности средние пользовательские рейтинги платформ XOne и PC не имеют статистически значимых отличий."
   ]
  },
  {
   "cell_type": "markdown",
   "id": "4024f057",
   "metadata": {},
   "source": [
    "#### 5.2 Средние пользовательские рейтинги жанров Action и Sports разные"
   ]
  },
  {
   "cell_type": "markdown",
   "id": "eda2cea6",
   "metadata": {},
   "source": [
    "Здесь тоже воспользуемся Т-тестом для проверки гипотезы о равенстве средних двух генеральных совокупностей. \n",
    "\n",
    "За нулевую гипотезу возьмем утверждение, что средние пользовательские рейтинги жанров  Action и Sports **равны.**\n",
    "\n",
    "Альтернативной гипотезой будет утверждение, что средние пользовательские рейтинги жанров  Action и Sports **неравны.**"
   ]
  },
  {
   "cell_type": "code",
   "execution_count": 73,
   "id": "0e8096ef",
   "metadata": {},
   "outputs": [
    {
     "name": "stdout",
     "output_type": "stream",
     "text": [
      "p-значение: 2.8711147985107304e-19\n",
      "Отвергаем нулевую гипотезу\n"
     ]
    }
   ],
   "source": [
    "alpha = 0.05 # уровень статистической значимости\n",
    "# если p-value окажется меньше него, отвергнем гипотезу\n",
    "\n",
    "results = st.ttest_ind(actual_games.query('genre == \"Action\"').user_score, \n",
    "                       actual_games.query('genre == \"Sports\"').user_score, nan_policy = 'omit')\n",
    "\n",
    "print('p-значение:', results.pvalue)\n",
    "\n",
    "if results.pvalue < alpha:\n",
    "    print('Отвергаем нулевую гипотезу')\n",
    "else:\n",
    "    print('Не получилось отвергнуть нулевую гипотезу') "
   ]
  },
  {
   "cell_type": "markdown",
   "id": "68730428",
   "metadata": {},
   "source": [
    "P-value сильно меньше уровня значимости, поэтому отвергаем нулевую гипотезу. Значит средние пользовательские рейтинги жанров  Action и Sports **неравны** (при уровне значимости 0.05)."
   ]
  },
  {
   "cell_type": "markdown",
   "id": "028aff35",
   "metadata": {},
   "source": [
    "#### 5.3 Вывод\n",
    "\n",
    "- Средние пользовательские рейтинги Xbox One и PC с большой долей вероятности не имеют статистически значимых отличий.\n",
    "- Средние пользовательские рейтинги жанров  Action и Sports неравны."
   ]
  },
  {
   "cell_type": "markdown",
   "id": "a1654c46",
   "metadata": {},
   "source": [
    "### 6. Общий вывод\n",
    "\n",
    "*1. Обзор данных*\n",
    "\n",
    "Данные представлены в одной таблице. В таблице 16715 записей, 11 столбцов (7 из которых с численными данными) с информацией об играх, выпущенных с 1980 по 2016 гг. В данных есть пропуски. Некорректно проименованы столбцы (не соотвествуют общепринятому стилю).\n",
    "Для значений года выходы игры и оценки пользователей необходимо изменить тип данных на целочисленный и вещественные числа соответственно.\n",
    "\n",
    "\n",
    "*2. Предобработка данных*\n",
    "\n",
    " - Изменили названия столбцов на соответсвующие общепринятому стилю.\n",
    " - Удалили записи с пропусками в `year_of_release`, `name` и `genre` (менее 2% записей). Остальные пропуски оставили, их много, не можем просто убрать или заменить на медианы, потому что это возможно приведет к искажению данных и дальнейших результатов. Причиной пропусков может быть некорректная работа алгоритмов выгрузки данных, что следует сообщить разработчикам, а также отсутсвие тех или иных данных в первоисточнике.\n",
    " - Значения в колонке `user_score` преобразовали в тип float, в колонке `year_of_release` в тип int.\n",
    " - В колонке с оценкой пользователей кроме пропусков и численных значений, присутвует значение 'tbd' - to be determined, оно обозначает, что оценка пользователей еще не сформировалась, в нашем случае это равноценно пропуску.\n",
    " - В отдельный столбец `overall_sales` занесли данные о суммарных продажах игры.\n",
    " - Проверили на дубликаты: полных дубликатов не было, был один дубликат в подстроке с названием игры, годом выпуска и платформой, его удалили.\n",
    " \n",
    "*3. Исследовательский анализ данных*\n",
    "\n",
    "- За 10 лет происходит цикл \"жизни\" игровой платформы от развития популярности до спада.\n",
    "\n",
    "- **Наиболее актуальными для прогнозирования являются данные за 2014-2016 гг** согласно изменению продаж игр по годам. В настоящее время индустрия игр динамично меняется, анализировать более ранние данные не имеет смысла, т.к. платформы быстро устаревают и стремительно появляются новые. \n",
    "\n",
    "- Определили ТОП10 наиболее прибыльных платформ в 2014-2016 гг, исследовали изменение годовых продаж по каждой из ТОП10 платформе и сопоставили эти данные с количеством выпускаемых игр в год. На основании полученных закономерностей, определили, что наиболее персперктивными платформами являются **PS4, XOne и PC**.\n",
    "\n",
    "- Показали, что продажи игр не зависят от оценок пользователей, но зависят от оценок критиков. Чем выше оценка критиков, тем больше продаж у игры.\n",
    "\n",
    "- Больше всего среди игр 2014-2016 гг игр в жанре экшн - более 600. Далее идут ролевые, приключенческие, спортивные игры и шутеры. \n",
    "\n",
    "- Самый прибыльный жанр в 2014-2016 гг с большим отрывом от остальных - шутеры. Далее по продажам идут жанры спорт, платформеры, fighting, ролевые игры и другие. Самые низкие продажи у приключений, головоломок и стратегий.\n",
    "\n",
    "\n",
    "*4. Портрет пользователя региона*\n",
    "\n",
    "- Портрет пользователя видеоигр в Японии наиболее отличителен, что связано с локальной модой и культурными особенностями. Среди японцев наиболее популярны игры на nintendo 3DS, а среди жанров - ролевые и экшн игры.\n",
    "\n",
    "- Вкусы к жанрам видеоигр у жителей Европы и Северной Америки практически совпадают: ТОП4 сходится почти полностью. Исключение - в Северной Америке шутеры любят чуть больше, чем экшн, в Европе - наоборот. Препочтения по платформам тоже похожи: в ТОП-2 входят  одни и те же платформы - PS4 и XOne. \n",
    "\n",
    "- В данных довольно много игр без рейтинга ESRB, особенно в Японии, это может связано с тем, что ESRB рейтинг - рейтинг для игр, распространенных в Северной Америке. \n",
    "- В целом, продажи зависят от рейтинга. В Северной Америке и Европе зависимость очень похожа, больше всего продаются игр с рейтингом M - для взрослых (17+). В Японии больше всего продаж игр для подростков.\n",
    "\n",
    "*5. Проверка гипотез*\n",
    "\n",
    "С помощью Т- теста проверили гипотезы о равенстве средних пользовательских оценок платформ Xbox One и PC, жанров Action и Sports.\n",
    "- Средние пользовательские рейтинги Xbox One и PC с большой долей вероятности не имеют статистически значимых отличий.\n",
    "- Средние пользовательские рейтинги жанров  Action и Sports неравны."
   ]
  },
  {
   "cell_type": "markdown",
   "id": "2b897ab5",
   "metadata": {},
   "source": [
    "**Таким образом,** потенциально популярный продукт - это шутеры, экшн и спортивные игры на платформах PS4, XOne и PC с рейтингом 17+. \n",
    "Такой продукт будет популярен в Европе и Северной Америке. \n",
    "\n",
    "Для продукта потенциально наиболее популярного в Японии есть смысл выбрать ролевые и экшн игры на nintendo 3DS и PS4."
   ]
  },
  {
   "cell_type": "code",
   "execution_count": null,
   "id": "4a45f6df",
   "metadata": {},
   "outputs": [],
   "source": []
  }
 ],
 "metadata": {
  "ExecuteTimeLog": [
   {
    "duration": 1310,
    "start_time": "2023-09-26T16:39:34.408Z"
   },
   {
    "duration": 179,
    "start_time": "2023-09-26T16:39:35.720Z"
   },
   {
    "duration": 17,
    "start_time": "2023-09-26T16:39:35.900Z"
   },
   {
    "duration": 14,
    "start_time": "2023-09-26T16:39:35.919Z"
   },
   {
    "duration": 24,
    "start_time": "2023-09-26T16:39:35.935Z"
   },
   {
    "duration": 811,
    "start_time": "2023-09-26T16:39:35.961Z"
   },
   {
    "duration": 4,
    "start_time": "2023-09-26T16:39:36.774Z"
   },
   {
    "duration": 31,
    "start_time": "2023-09-26T16:39:36.780Z"
   },
   {
    "duration": 16,
    "start_time": "2023-09-26T16:39:36.812Z"
   },
   {
    "duration": 3,
    "start_time": "2023-09-26T16:39:36.831Z"
   },
   {
    "duration": 14,
    "start_time": "2023-09-26T16:39:36.844Z"
   },
   {
    "duration": 18,
    "start_time": "2023-09-26T16:39:36.860Z"
   },
   {
    "duration": 17,
    "start_time": "2023-09-26T16:39:36.880Z"
   },
   {
    "duration": 8,
    "start_time": "2023-09-26T16:39:36.899Z"
   },
   {
    "duration": 13,
    "start_time": "2023-09-26T16:39:36.909Z"
   },
   {
    "duration": 21,
    "start_time": "2023-09-26T16:39:36.924Z"
   },
   {
    "duration": 5,
    "start_time": "2023-09-26T16:39:36.947Z"
   },
   {
    "duration": 18,
    "start_time": "2023-09-26T16:39:36.953Z"
   },
   {
    "duration": 6,
    "start_time": "2023-09-26T16:39:36.974Z"
   },
   {
    "duration": 8,
    "start_time": "2023-09-26T16:39:36.981Z"
   },
   {
    "duration": 6,
    "start_time": "2023-09-26T16:39:36.991Z"
   },
   {
    "duration": 6,
    "start_time": "2023-09-26T16:39:36.999Z"
   },
   {
    "duration": 54,
    "start_time": "2023-09-26T16:39:37.007Z"
   },
   {
    "duration": 350,
    "start_time": "2023-09-26T16:39:37.063Z"
   },
   {
    "duration": 7,
    "start_time": "2023-09-26T16:39:37.415Z"
   },
   {
    "duration": 39,
    "start_time": "2023-09-26T16:39:37.424Z"
   },
   {
    "duration": 5,
    "start_time": "2023-09-26T16:39:37.464Z"
   },
   {
    "duration": 298,
    "start_time": "2023-09-26T16:39:37.473Z"
   },
   {
    "duration": 6,
    "start_time": "2023-09-26T16:39:37.774Z"
   },
   {
    "duration": 33,
    "start_time": "2023-09-26T16:39:37.781Z"
   },
   {
    "duration": 15,
    "start_time": "2023-09-26T16:39:37.816Z"
   },
   {
    "duration": 28,
    "start_time": "2023-09-26T16:39:37.832Z"
   },
   {
    "duration": 233,
    "start_time": "2023-09-26T16:39:37.862Z"
   },
   {
    "duration": 1394,
    "start_time": "2023-09-26T16:39:38.096Z"
   },
   {
    "duration": 1220,
    "start_time": "2023-09-26T16:39:39.492Z"
   },
   {
    "duration": 231,
    "start_time": "2023-09-26T16:39:40.713Z"
   },
   {
    "duration": 10,
    "start_time": "2023-09-26T16:39:40.946Z"
   },
   {
    "duration": 8,
    "start_time": "2023-09-26T16:39:40.957Z"
   },
   {
    "duration": 318,
    "start_time": "2023-09-26T16:39:40.967Z"
   },
   {
    "duration": 4,
    "start_time": "2023-09-26T16:39:41.287Z"
   },
   {
    "duration": 5,
    "start_time": "2023-09-26T16:39:41.293Z"
   },
   {
    "duration": 6,
    "start_time": "2023-09-26T16:39:41.300Z"
   },
   {
    "duration": 351,
    "start_time": "2023-09-26T16:39:41.307Z"
   },
   {
    "duration": 7,
    "start_time": "2023-09-26T16:39:41.659Z"
   },
   {
    "duration": 7,
    "start_time": "2023-09-26T16:39:41.667Z"
   },
   {
    "duration": 11,
    "start_time": "2023-09-26T16:39:41.675Z"
   },
   {
    "duration": 214,
    "start_time": "2023-09-26T16:39:41.688Z"
   },
   {
    "duration": 179,
    "start_time": "2023-09-26T16:39:41.904Z"
   },
   {
    "duration": 198,
    "start_time": "2023-09-26T16:39:42.085Z"
   },
   {
    "duration": 5,
    "start_time": "2023-09-26T16:39:42.285Z"
   },
   {
    "duration": 77,
    "start_time": "2023-09-26T16:39:42.291Z"
   },
   {
    "duration": 24,
    "start_time": "2023-09-26T16:39:42.370Z"
   },
   {
    "duration": 27,
    "start_time": "2023-09-26T16:39:42.396Z"
   },
   {
    "duration": 32,
    "start_time": "2023-09-26T16:39:42.443Z"
   },
   {
    "duration": 24,
    "start_time": "2023-09-26T16:39:42.477Z"
   },
   {
    "duration": 56,
    "start_time": "2023-09-26T16:39:42.503Z"
   },
   {
    "duration": 28,
    "start_time": "2023-09-26T16:39:42.560Z"
   },
   {
    "duration": 23,
    "start_time": "2023-09-26T16:39:42.589Z"
   },
   {
    "duration": 45,
    "start_time": "2023-09-26T16:39:42.614Z"
   },
   {
    "duration": 10,
    "start_time": "2023-09-26T16:39:42.661Z"
   },
   {
    "duration": 10,
    "start_time": "2023-09-26T16:39:42.672Z"
   },
   {
    "duration": 1122,
    "start_time": "2023-09-26T16:55:08.534Z"
   },
   {
    "duration": 52,
    "start_time": "2023-09-26T16:55:09.657Z"
   },
   {
    "duration": 16,
    "start_time": "2023-09-26T16:55:09.710Z"
   },
   {
    "duration": 13,
    "start_time": "2023-09-26T16:55:09.728Z"
   },
   {
    "duration": 25,
    "start_time": "2023-09-26T16:55:09.742Z"
   },
   {
    "duration": 750,
    "start_time": "2023-09-26T16:55:09.768Z"
   },
   {
    "duration": 4,
    "start_time": "2023-09-26T16:55:10.520Z"
   },
   {
    "duration": 29,
    "start_time": "2023-09-26T16:55:10.526Z"
   },
   {
    "duration": 29,
    "start_time": "2023-09-26T16:55:10.557Z"
   },
   {
    "duration": 22,
    "start_time": "2023-09-26T16:55:10.590Z"
   },
   {
    "duration": 17,
    "start_time": "2023-09-26T16:55:10.614Z"
   },
   {
    "duration": 8,
    "start_time": "2023-09-26T16:55:10.633Z"
   },
   {
    "duration": 9,
    "start_time": "2023-09-26T16:55:10.643Z"
   },
   {
    "duration": 7,
    "start_time": "2023-09-26T16:55:10.654Z"
   },
   {
    "duration": 15,
    "start_time": "2023-09-26T16:55:10.663Z"
   },
   {
    "duration": 12,
    "start_time": "2023-09-26T16:55:10.679Z"
   },
   {
    "duration": 5,
    "start_time": "2023-09-26T16:55:10.693Z"
   },
   {
    "duration": 19,
    "start_time": "2023-09-26T16:55:10.699Z"
   },
   {
    "duration": 25,
    "start_time": "2023-09-26T16:55:10.720Z"
   },
   {
    "duration": 10,
    "start_time": "2023-09-26T16:55:10.747Z"
   },
   {
    "duration": 8,
    "start_time": "2023-09-26T16:55:10.759Z"
   },
   {
    "duration": 6,
    "start_time": "2023-09-26T16:55:10.768Z"
   },
   {
    "duration": 19,
    "start_time": "2023-09-26T16:55:10.776Z"
   },
   {
    "duration": 360,
    "start_time": "2023-09-26T16:55:10.797Z"
   },
   {
    "duration": 6,
    "start_time": "2023-09-26T16:55:11.159Z"
   },
   {
    "duration": 27,
    "start_time": "2023-09-26T16:55:11.166Z"
   },
   {
    "duration": 3,
    "start_time": "2023-09-26T16:55:11.195Z"
   },
   {
    "duration": 287,
    "start_time": "2023-09-26T16:55:11.202Z"
   },
   {
    "duration": 5,
    "start_time": "2023-09-26T16:55:11.491Z"
   },
   {
    "duration": 16,
    "start_time": "2023-09-26T16:55:11.498Z"
   },
   {
    "duration": 13,
    "start_time": "2023-09-26T16:55:11.515Z"
   },
   {
    "duration": 9,
    "start_time": "2023-09-26T16:55:11.545Z"
   },
   {
    "duration": 215,
    "start_time": "2023-09-26T16:55:11.555Z"
   },
   {
    "duration": 1307,
    "start_time": "2023-09-26T16:55:11.771Z"
   },
   {
    "duration": 1261,
    "start_time": "2023-09-26T16:55:13.079Z"
   },
   {
    "duration": 225,
    "start_time": "2023-09-26T16:55:14.342Z"
   },
   {
    "duration": 9,
    "start_time": "2023-09-26T16:55:14.568Z"
   },
   {
    "duration": 8,
    "start_time": "2023-09-26T16:55:14.578Z"
   },
   {
    "duration": 309,
    "start_time": "2023-09-26T16:55:14.587Z"
   },
   {
    "duration": 4,
    "start_time": "2023-09-26T16:55:14.897Z"
   },
   {
    "duration": 5,
    "start_time": "2023-09-26T16:55:14.903Z"
   },
   {
    "duration": 8,
    "start_time": "2023-09-26T16:55:14.910Z"
   },
   {
    "duration": 354,
    "start_time": "2023-09-26T16:55:14.920Z"
   },
   {
    "duration": 4,
    "start_time": "2023-09-26T16:55:15.276Z"
   },
   {
    "duration": 6,
    "start_time": "2023-09-26T16:55:15.281Z"
   },
   {
    "duration": 10,
    "start_time": "2023-09-26T16:55:15.288Z"
   },
   {
    "duration": 208,
    "start_time": "2023-09-26T16:55:15.299Z"
   },
   {
    "duration": 173,
    "start_time": "2023-09-26T16:55:15.509Z"
   },
   {
    "duration": 204,
    "start_time": "2023-09-26T16:55:15.683Z"
   },
   {
    "duration": 4,
    "start_time": "2023-09-26T16:55:15.889Z"
   },
   {
    "duration": 72,
    "start_time": "2023-09-26T16:55:15.894Z"
   },
   {
    "duration": 23,
    "start_time": "2023-09-26T16:55:15.968Z"
   },
   {
    "duration": 22,
    "start_time": "2023-09-26T16:55:15.992Z"
   },
   {
    "duration": 46,
    "start_time": "2023-09-26T16:55:16.015Z"
   },
   {
    "duration": 22,
    "start_time": "2023-09-26T16:55:16.062Z"
   },
   {
    "duration": 23,
    "start_time": "2023-09-26T16:55:16.085Z"
   },
   {
    "duration": 43,
    "start_time": "2023-09-26T16:55:16.109Z"
   },
   {
    "duration": 23,
    "start_time": "2023-09-26T16:55:16.153Z"
   },
   {
    "duration": 23,
    "start_time": "2023-09-26T16:55:16.178Z"
   },
   {
    "duration": 10,
    "start_time": "2023-09-26T16:55:16.202Z"
   },
   {
    "duration": 39,
    "start_time": "2023-09-26T16:55:16.214Z"
   },
   {
    "duration": 123,
    "start_time": "2023-09-27T06:10:35.183Z"
   },
   {
    "duration": 119,
    "start_time": "2023-09-27T06:22:55.674Z"
   },
   {
    "duration": 1329,
    "start_time": "2023-09-27T06:29:54.048Z"
   },
   {
    "duration": 183,
    "start_time": "2023-09-27T06:29:57.652Z"
   },
   {
    "duration": 17,
    "start_time": "2023-09-27T06:29:59.463Z"
   },
   {
    "duration": 14,
    "start_time": "2023-09-27T06:30:00.823Z"
   },
   {
    "duration": 31,
    "start_time": "2023-09-27T06:30:04.285Z"
   },
   {
    "duration": 700,
    "start_time": "2023-09-27T06:30:05.158Z"
   },
   {
    "duration": 3,
    "start_time": "2023-09-27T06:30:11.821Z"
   },
   {
    "duration": 13,
    "start_time": "2023-09-27T06:30:15.542Z"
   },
   {
    "duration": 14,
    "start_time": "2023-09-27T06:32:55.025Z"
   },
   {
    "duration": 3,
    "start_time": "2023-09-27T06:32:57.380Z"
   },
   {
    "duration": 14,
    "start_time": "2023-09-27T06:32:58.150Z"
   },
   {
    "duration": 12,
    "start_time": "2023-09-27T06:32:58.543Z"
   },
   {
    "duration": 5,
    "start_time": "2023-09-27T06:32:59.046Z"
   },
   {
    "duration": 6,
    "start_time": "2023-09-27T06:33:02.384Z"
   },
   {
    "duration": 10,
    "start_time": "2023-09-27T06:33:04.390Z"
   },
   {
    "duration": 12,
    "start_time": "2023-09-27T06:33:07.250Z"
   },
   {
    "duration": 4,
    "start_time": "2023-09-27T06:33:08.613Z"
   },
   {
    "duration": 16,
    "start_time": "2023-09-27T06:33:27.333Z"
   },
   {
    "duration": 107,
    "start_time": "2023-09-27T06:33:42.040Z"
   },
   {
    "duration": 13,
    "start_time": "2023-09-27T06:36:39.484Z"
   },
   {
    "duration": 123,
    "start_time": "2023-09-27T06:39:18.563Z"
   },
   {
    "duration": 3,
    "start_time": "2023-09-27T06:40:10.495Z"
   },
   {
    "duration": 55,
    "start_time": "2023-09-27T06:40:10.503Z"
   },
   {
    "duration": 13,
    "start_time": "2023-09-27T06:40:10.559Z"
   },
   {
    "duration": 17,
    "start_time": "2023-09-27T06:40:10.574Z"
   },
   {
    "duration": 27,
    "start_time": "2023-09-27T06:40:10.594Z"
   },
   {
    "duration": 794,
    "start_time": "2023-09-27T06:40:10.622Z"
   },
   {
    "duration": 3,
    "start_time": "2023-09-27T06:40:11.418Z"
   },
   {
    "duration": 24,
    "start_time": "2023-09-27T06:40:11.422Z"
   },
   {
    "duration": 31,
    "start_time": "2023-09-27T06:40:11.447Z"
   },
   {
    "duration": 2,
    "start_time": "2023-09-27T06:40:11.480Z"
   },
   {
    "duration": 21,
    "start_time": "2023-09-27T06:40:11.484Z"
   },
   {
    "duration": 3,
    "start_time": "2023-09-27T06:40:11.507Z"
   },
   {
    "duration": 6,
    "start_time": "2023-09-27T06:40:11.512Z"
   },
   {
    "duration": 7,
    "start_time": "2023-09-27T06:40:11.520Z"
   },
   {
    "duration": 9,
    "start_time": "2023-09-27T06:40:11.528Z"
   },
   {
    "duration": 15,
    "start_time": "2023-09-27T06:40:11.539Z"
   },
   {
    "duration": 3,
    "start_time": "2023-09-27T06:40:11.556Z"
   },
   {
    "duration": 13,
    "start_time": "2023-09-27T06:40:11.561Z"
   },
   {
    "duration": 5,
    "start_time": "2023-09-27T06:40:11.576Z"
   },
   {
    "duration": 5,
    "start_time": "2023-09-27T06:40:11.583Z"
   },
   {
    "duration": 8,
    "start_time": "2023-09-27T06:40:11.590Z"
   },
   {
    "duration": 46,
    "start_time": "2023-09-27T06:40:11.599Z"
   },
   {
    "duration": 5,
    "start_time": "2023-09-27T06:40:21.117Z"
   },
   {
    "duration": 5,
    "start_time": "2023-09-27T06:41:26.416Z"
   },
   {
    "duration": 1272,
    "start_time": "2023-09-27T06:43:19.990Z"
   },
   {
    "duration": 9,
    "start_time": "2023-09-27T06:43:34.509Z"
   },
   {
    "duration": 19,
    "start_time": "2023-09-27T06:44:15.800Z"
   },
   {
    "duration": 18,
    "start_time": "2023-09-27T06:45:20.381Z"
   },
   {
    "duration": 34,
    "start_time": "2023-09-27T06:47:23.352Z"
   },
   {
    "duration": 8,
    "start_time": "2023-09-27T06:47:52.751Z"
   },
   {
    "duration": 17,
    "start_time": "2023-09-27T06:48:59.688Z"
   },
   {
    "duration": 5,
    "start_time": "2023-09-27T06:49:19.760Z"
   },
   {
    "duration": 4,
    "start_time": "2023-09-27T06:49:54.492Z"
   },
   {
    "duration": 14,
    "start_time": "2023-09-27T06:49:57.859Z"
   },
   {
    "duration": 340,
    "start_time": "2023-09-27T06:52:52.231Z"
   },
   {
    "duration": 300,
    "start_time": "2023-09-27T06:53:02.446Z"
   },
   {
    "duration": 297,
    "start_time": "2023-09-27T06:53:09.584Z"
   },
   {
    "duration": 339,
    "start_time": "2023-09-27T06:53:20.613Z"
   },
   {
    "duration": 430,
    "start_time": "2023-09-27T06:53:26.305Z"
   },
   {
    "duration": 8,
    "start_time": "2023-09-27T06:55:39.898Z"
   },
   {
    "duration": 7,
    "start_time": "2023-09-27T06:55:45.908Z"
   },
   {
    "duration": 19,
    "start_time": "2023-09-27T06:55:50.610Z"
   },
   {
    "duration": 5,
    "start_time": "2023-09-27T06:55:54.486Z"
   },
   {
    "duration": 326,
    "start_time": "2023-09-27T06:55:56.260Z"
   },
   {
    "duration": 23,
    "start_time": "2023-09-27T06:58:52.283Z"
   },
   {
    "duration": 33,
    "start_time": "2023-09-27T06:59:26.621Z"
   },
   {
    "duration": 23,
    "start_time": "2023-09-27T06:59:31.787Z"
   },
   {
    "duration": 9,
    "start_time": "2023-09-27T07:04:27.554Z"
   },
   {
    "duration": 3,
    "start_time": "2023-09-27T07:11:06.523Z"
   },
   {
    "duration": 51,
    "start_time": "2023-09-27T07:11:06.540Z"
   },
   {
    "duration": 13,
    "start_time": "2023-09-27T07:11:06.593Z"
   },
   {
    "duration": 14,
    "start_time": "2023-09-27T07:11:06.608Z"
   },
   {
    "duration": 33,
    "start_time": "2023-09-27T07:11:06.624Z"
   },
   {
    "duration": 723,
    "start_time": "2023-09-27T07:11:06.658Z"
   },
   {
    "duration": 3,
    "start_time": "2023-09-27T07:11:07.383Z"
   },
   {
    "duration": 39,
    "start_time": "2023-09-27T07:11:07.388Z"
   },
   {
    "duration": 22,
    "start_time": "2023-09-27T07:11:07.429Z"
   },
   {
    "duration": 15,
    "start_time": "2023-09-27T07:11:07.453Z"
   },
   {
    "duration": 14,
    "start_time": "2023-09-27T07:11:07.470Z"
   },
   {
    "duration": 13,
    "start_time": "2023-09-27T07:11:07.486Z"
   },
   {
    "duration": 11,
    "start_time": "2023-09-27T07:11:07.500Z"
   },
   {
    "duration": 15,
    "start_time": "2023-09-27T07:11:07.513Z"
   },
   {
    "duration": 14,
    "start_time": "2023-09-27T07:11:07.529Z"
   },
   {
    "duration": 12,
    "start_time": "2023-09-27T07:11:07.546Z"
   },
   {
    "duration": 6,
    "start_time": "2023-09-27T07:11:07.559Z"
   },
   {
    "duration": 28,
    "start_time": "2023-09-27T07:11:07.567Z"
   },
   {
    "duration": 6,
    "start_time": "2023-09-27T07:11:07.596Z"
   },
   {
    "duration": 6,
    "start_time": "2023-09-27T07:11:07.604Z"
   },
   {
    "duration": 23,
    "start_time": "2023-09-27T07:11:07.611Z"
   },
   {
    "duration": 20,
    "start_time": "2023-09-27T07:11:07.636Z"
   },
   {
    "duration": 11,
    "start_time": "2023-09-27T07:11:07.657Z"
   },
   {
    "duration": 9,
    "start_time": "2023-09-27T07:11:07.669Z"
   },
   {
    "duration": 17,
    "start_time": "2023-09-27T07:11:07.681Z"
   },
   {
    "duration": 18,
    "start_time": "2023-09-27T07:11:07.699Z"
   },
   {
    "duration": 38,
    "start_time": "2023-09-27T07:11:07.718Z"
   },
   {
    "duration": 40,
    "start_time": "2023-09-27T07:11:07.758Z"
   },
   {
    "duration": 8,
    "start_time": "2023-09-27T07:11:07.800Z"
   },
   {
    "duration": 23,
    "start_time": "2023-09-27T07:11:07.810Z"
   },
   {
    "duration": 361,
    "start_time": "2023-09-27T07:11:07.835Z"
   },
   {
    "duration": 7,
    "start_time": "2023-09-27T07:11:08.198Z"
   },
   {
    "duration": 19,
    "start_time": "2023-09-27T07:11:08.207Z"
   },
   {
    "duration": 16,
    "start_time": "2023-09-27T07:11:08.228Z"
   },
   {
    "duration": 374,
    "start_time": "2023-09-27T07:11:08.246Z"
   },
   {
    "duration": 29,
    "start_time": "2023-09-27T07:11:08.622Z"
   },
   {
    "duration": 120,
    "start_time": "2023-09-27T07:11:21.561Z"
   },
   {
    "duration": 8,
    "start_time": "2023-09-27T07:12:15.927Z"
   },
   {
    "duration": 288,
    "start_time": "2023-09-27T07:12:35.093Z"
   },
   {
    "duration": 405,
    "start_time": "2023-09-27T07:20:35.051Z"
   },
   {
    "duration": 337,
    "start_time": "2023-09-27T07:20:49.331Z"
   },
   {
    "duration": 396,
    "start_time": "2023-09-27T07:21:04.123Z"
   },
   {
    "duration": 31,
    "start_time": "2023-09-27T07:22:19.967Z"
   },
   {
    "duration": 4,
    "start_time": "2023-09-27T07:22:32.382Z"
   },
   {
    "duration": 8,
    "start_time": "2023-09-27T07:22:40.102Z"
   },
   {
    "duration": 16,
    "start_time": "2023-09-27T07:23:06.609Z"
   },
   {
    "duration": 10,
    "start_time": "2023-09-27T07:25:58.096Z"
   },
   {
    "duration": 23,
    "start_time": "2023-09-27T07:26:04.811Z"
   },
   {
    "duration": 5,
    "start_time": "2023-09-27T07:26:15.327Z"
   },
   {
    "duration": 31,
    "start_time": "2023-09-27T07:26:37.748Z"
   },
   {
    "duration": 7,
    "start_time": "2023-09-27T07:26:39.014Z"
   },
   {
    "duration": 21,
    "start_time": "2023-09-27T07:27:53.944Z"
   },
   {
    "duration": 10,
    "start_time": "2023-09-27T07:28:21.013Z"
   },
   {
    "duration": 15,
    "start_time": "2023-09-27T07:30:29.130Z"
   },
   {
    "duration": 23,
    "start_time": "2023-09-27T07:30:35.804Z"
   },
   {
    "duration": 15,
    "start_time": "2023-09-27T07:30:52.358Z"
   },
   {
    "duration": 31,
    "start_time": "2023-09-27T07:31:06.219Z"
   },
   {
    "duration": 6,
    "start_time": "2023-09-27T07:31:09.343Z"
   },
   {
    "duration": 33,
    "start_time": "2023-09-27T07:32:10.570Z"
   },
   {
    "duration": 10,
    "start_time": "2023-09-27T07:32:11.466Z"
   },
   {
    "duration": 17,
    "start_time": "2023-09-27T07:32:32.436Z"
   },
   {
    "duration": 17,
    "start_time": "2023-09-27T07:32:38.937Z"
   },
   {
    "duration": 39,
    "start_time": "2023-09-27T07:37:22.542Z"
   },
   {
    "duration": 14,
    "start_time": "2023-09-27T07:37:24.138Z"
   },
   {
    "duration": 21,
    "start_time": "2023-09-27T07:39:31.333Z"
   },
   {
    "duration": 4,
    "start_time": "2023-09-27T07:39:33.117Z"
   },
   {
    "duration": 4,
    "start_time": "2023-09-27T07:39:38.938Z"
   },
   {
    "duration": 4,
    "start_time": "2023-09-27T07:39:43.906Z"
   },
   {
    "duration": 5,
    "start_time": "2023-09-27T07:58:47.527Z"
   },
   {
    "duration": 4,
    "start_time": "2023-09-27T07:59:06.621Z"
   },
   {
    "duration": 12,
    "start_time": "2023-09-27T07:59:36.390Z"
   },
   {
    "duration": 19,
    "start_time": "2023-09-27T07:59:42.335Z"
   },
   {
    "duration": 11,
    "start_time": "2023-09-27T08:10:18.461Z"
   },
   {
    "duration": 11,
    "start_time": "2023-09-27T08:10:23.665Z"
   },
   {
    "duration": 147,
    "start_time": "2023-09-27T08:10:25.992Z"
   },
   {
    "duration": 1966,
    "start_time": "2023-09-27T08:11:58.976Z"
   },
   {
    "duration": 1523,
    "start_time": "2023-09-27T08:15:18.990Z"
   },
   {
    "duration": 1468,
    "start_time": "2023-09-27T08:15:26.362Z"
   },
   {
    "duration": 1425,
    "start_time": "2023-09-27T08:15:39.473Z"
   },
   {
    "duration": 1511,
    "start_time": "2023-09-27T08:15:51.626Z"
   },
   {
    "duration": 1720,
    "start_time": "2023-09-27T08:16:54.987Z"
   },
   {
    "duration": 1424,
    "start_time": "2023-09-27T08:16:57.496Z"
   },
   {
    "duration": 1493,
    "start_time": "2023-09-27T08:18:28.320Z"
   },
   {
    "duration": 1362,
    "start_time": "2023-09-27T08:18:53.059Z"
   },
   {
    "duration": 921,
    "start_time": "2023-09-27T08:19:59.040Z"
   },
   {
    "duration": 979,
    "start_time": "2023-09-27T08:20:10.865Z"
   },
   {
    "duration": 853,
    "start_time": "2023-09-27T08:20:19.087Z"
   },
   {
    "duration": 953,
    "start_time": "2023-09-27T08:20:23.948Z"
   },
   {
    "duration": 1041,
    "start_time": "2023-09-27T08:20:48.527Z"
   },
   {
    "duration": 864,
    "start_time": "2023-09-27T08:21:18.223Z"
   },
   {
    "duration": 957,
    "start_time": "2023-09-27T08:21:46.574Z"
   },
   {
    "duration": 1147,
    "start_time": "2023-09-27T08:21:53.255Z"
   },
   {
    "duration": 208,
    "start_time": "2023-09-27T08:27:43.536Z"
   },
   {
    "duration": 891,
    "start_time": "2023-09-27T08:36:06.353Z"
   },
   {
    "duration": 1160,
    "start_time": "2023-09-27T08:36:22.142Z"
   },
   {
    "duration": 992,
    "start_time": "2023-09-27T08:36:31.063Z"
   },
   {
    "duration": 955,
    "start_time": "2023-09-27T08:38:55.578Z"
   },
   {
    "duration": 730,
    "start_time": "2023-09-27T08:40:08.242Z"
   },
   {
    "duration": 792,
    "start_time": "2023-09-27T08:41:01.396Z"
   },
   {
    "duration": 927,
    "start_time": "2023-09-27T08:41:56.595Z"
   },
   {
    "duration": 768,
    "start_time": "2023-09-27T08:47:56.862Z"
   },
   {
    "duration": 255,
    "start_time": "2023-09-27T08:58:52.582Z"
   },
   {
    "duration": 6,
    "start_time": "2023-09-27T08:59:05.279Z"
   },
   {
    "duration": 359,
    "start_time": "2023-09-27T08:59:06.007Z"
   },
   {
    "duration": 404,
    "start_time": "2023-09-27T08:59:33.840Z"
   },
   {
    "duration": 469,
    "start_time": "2023-09-27T08:59:54.434Z"
   },
   {
    "duration": 363,
    "start_time": "2023-09-27T09:00:12.244Z"
   },
   {
    "duration": 195,
    "start_time": "2023-09-27T09:02:06.485Z"
   },
   {
    "duration": 325,
    "start_time": "2023-09-27T09:02:12.945Z"
   },
   {
    "duration": 308,
    "start_time": "2023-09-27T09:02:44.623Z"
   },
   {
    "duration": 277,
    "start_time": "2023-09-27T09:03:08.709Z"
   },
   {
    "duration": 298,
    "start_time": "2023-09-27T09:03:15.637Z"
   },
   {
    "duration": 451,
    "start_time": "2023-09-27T09:06:28.852Z"
   },
   {
    "duration": 332,
    "start_time": "2023-09-27T09:06:39.988Z"
   },
   {
    "duration": 326,
    "start_time": "2023-09-27T09:06:46.772Z"
   },
   {
    "duration": 278,
    "start_time": "2023-09-27T09:06:53.517Z"
   },
   {
    "duration": 335,
    "start_time": "2023-09-27T09:07:06.762Z"
   },
   {
    "duration": 361,
    "start_time": "2023-09-27T09:07:18.874Z"
   },
   {
    "duration": 351,
    "start_time": "2023-09-27T09:07:28.463Z"
   },
   {
    "duration": 458,
    "start_time": "2023-09-27T09:07:37.382Z"
   },
   {
    "duration": 331,
    "start_time": "2023-09-27T09:07:48.050Z"
   },
   {
    "duration": 316,
    "start_time": "2023-09-27T09:08:19.344Z"
   },
   {
    "duration": 313,
    "start_time": "2023-09-27T09:08:27.602Z"
   },
   {
    "duration": 5,
    "start_time": "2023-09-27T09:09:41.237Z"
   },
   {
    "duration": 7,
    "start_time": "2023-09-27T09:09:43.969Z"
   },
   {
    "duration": 6,
    "start_time": "2023-09-27T09:09:45.017Z"
   },
   {
    "duration": 5,
    "start_time": "2023-09-27T09:09:46.691Z"
   },
   {
    "duration": 252,
    "start_time": "2023-09-27T09:10:28.014Z"
   },
   {
    "duration": 322,
    "start_time": "2023-09-27T09:10:35.172Z"
   },
   {
    "duration": 4,
    "start_time": "2023-09-27T09:13:10.918Z"
   },
   {
    "duration": 5,
    "start_time": "2023-09-27T09:13:25.004Z"
   },
   {
    "duration": 5,
    "start_time": "2023-09-27T09:13:44.212Z"
   },
   {
    "duration": 6,
    "start_time": "2023-09-27T09:13:59.225Z"
   },
   {
    "duration": 6,
    "start_time": "2023-09-27T09:17:16.324Z"
   },
   {
    "duration": 5,
    "start_time": "2023-09-27T09:17:16.940Z"
   },
   {
    "duration": 5,
    "start_time": "2023-09-27T09:17:17.641Z"
   },
   {
    "duration": 20,
    "start_time": "2023-09-27T09:17:51.395Z"
   },
   {
    "duration": 14,
    "start_time": "2023-09-27T09:18:03.437Z"
   },
   {
    "duration": 342,
    "start_time": "2023-09-27T09:19:50.504Z"
   },
   {
    "duration": 478,
    "start_time": "2023-09-27T09:20:20.459Z"
   },
   {
    "duration": 197,
    "start_time": "2023-09-27T09:21:02.292Z"
   },
   {
    "duration": 164,
    "start_time": "2023-09-27T09:21:34.715Z"
   },
   {
    "duration": 218,
    "start_time": "2023-09-27T09:23:48.246Z"
   },
   {
    "duration": 176,
    "start_time": "2023-09-27T09:27:08.012Z"
   },
   {
    "duration": 207,
    "start_time": "2023-09-27T09:27:46.438Z"
   },
   {
    "duration": 4,
    "start_time": "2023-09-27T10:11:13.006Z"
   },
   {
    "duration": 68,
    "start_time": "2023-09-27T10:11:18.020Z"
   },
   {
    "duration": 25,
    "start_time": "2023-09-27T10:11:31.950Z"
   },
   {
    "duration": 23,
    "start_time": "2023-09-27T10:11:34.993Z"
   },
   {
    "duration": 23,
    "start_time": "2023-09-27T10:13:30.951Z"
   },
   {
    "duration": 33,
    "start_time": "2023-09-27T10:14:56.575Z"
   },
   {
    "duration": 30,
    "start_time": "2023-09-27T10:15:16.974Z"
   },
   {
    "duration": 33,
    "start_time": "2023-09-27T10:15:23.746Z"
   },
   {
    "duration": 3,
    "start_time": "2023-09-27T10:17:05.953Z"
   },
   {
    "duration": 21,
    "start_time": "2023-09-27T10:17:08.153Z"
   },
   {
    "duration": 46,
    "start_time": "2023-09-27T10:17:24.552Z"
   },
   {
    "duration": 9,
    "start_time": "2023-09-27T10:22:48.571Z"
   },
   {
    "duration": 4,
    "start_time": "2023-09-27T10:22:51.669Z"
   },
   {
    "duration": 31,
    "start_time": "2023-09-27T10:22:54.287Z"
   },
   {
    "duration": 5,
    "start_time": "2023-09-27T10:23:54.006Z"
   },
   {
    "duration": 127,
    "start_time": "2023-09-27T10:23:58.244Z"
   },
   {
    "duration": 4,
    "start_time": "2023-09-27T10:27:44.352Z"
   },
   {
    "duration": 15,
    "start_time": "2023-09-27T10:27:47.502Z"
   },
   {
    "duration": 4,
    "start_time": "2023-09-27T10:27:55.410Z"
   },
   {
    "duration": 19,
    "start_time": "2023-09-27T10:27:57.300Z"
   },
   {
    "duration": 109,
    "start_time": "2023-09-27T10:28:36.571Z"
   },
   {
    "duration": 4,
    "start_time": "2023-09-27T10:31:08.313Z"
   },
   {
    "duration": 106,
    "start_time": "2023-09-27T10:31:11.101Z"
   },
   {
    "duration": 129,
    "start_time": "2023-09-27T10:31:47.370Z"
   },
   {
    "duration": 4,
    "start_time": "2023-09-27T10:36:35.896Z"
   },
   {
    "duration": 118,
    "start_time": "2023-09-27T10:36:38.581Z"
   },
   {
    "duration": 128,
    "start_time": "2023-09-27T10:37:08.633Z"
   },
   {
    "duration": 5,
    "start_time": "2023-09-27T10:37:16.351Z"
   },
   {
    "duration": 118,
    "start_time": "2023-09-27T10:37:18.500Z"
   },
   {
    "duration": 5,
    "start_time": "2023-09-27T10:39:19.203Z"
   },
   {
    "duration": 129,
    "start_time": "2023-09-27T10:39:21.405Z"
   },
   {
    "duration": 5,
    "start_time": "2023-09-27T10:40:53.340Z"
   },
   {
    "duration": 118,
    "start_time": "2023-09-27T10:40:55.758Z"
   },
   {
    "duration": 4,
    "start_time": "2023-09-27T10:41:57.144Z"
   },
   {
    "duration": 145,
    "start_time": "2023-09-27T10:41:59.184Z"
   },
   {
    "duration": 106,
    "start_time": "2023-09-27T10:42:16.456Z"
   },
   {
    "duration": 4,
    "start_time": "2023-09-27T10:42:23.649Z"
   },
   {
    "duration": 138,
    "start_time": "2023-09-27T10:42:25.044Z"
   },
   {
    "duration": 5,
    "start_time": "2023-09-27T10:42:32.083Z"
   },
   {
    "duration": 249,
    "start_time": "2023-09-27T10:42:33.779Z"
   },
   {
    "duration": 5,
    "start_time": "2023-09-27T10:42:44.259Z"
   },
   {
    "duration": 151,
    "start_time": "2023-09-27T10:42:45.536Z"
   },
   {
    "duration": 132,
    "start_time": "2023-09-27T10:45:03.261Z"
   },
   {
    "duration": 131,
    "start_time": "2023-09-27T10:45:09.099Z"
   },
   {
    "duration": 140,
    "start_time": "2023-09-27T10:45:18.645Z"
   },
   {
    "duration": 133,
    "start_time": "2023-09-27T10:45:28.630Z"
   },
   {
    "duration": 139,
    "start_time": "2023-09-27T10:46:25.885Z"
   },
   {
    "duration": 128,
    "start_time": "2023-09-27T10:46:34.222Z"
   },
   {
    "duration": 141,
    "start_time": "2023-09-27T10:46:55.625Z"
   },
   {
    "duration": 142,
    "start_time": "2023-09-27T10:50:03.497Z"
   },
   {
    "duration": 142,
    "start_time": "2023-09-27T10:50:13.530Z"
   },
   {
    "duration": 152,
    "start_time": "2023-09-27T10:50:19.940Z"
   },
   {
    "duration": 140,
    "start_time": "2023-09-27T10:50:30.376Z"
   },
   {
    "duration": 141,
    "start_time": "2023-09-27T10:50:37.152Z"
   },
   {
    "duration": 135,
    "start_time": "2023-09-27T10:51:15.349Z"
   },
   {
    "duration": 172,
    "start_time": "2023-09-27T10:51:25.820Z"
   },
   {
    "duration": 280,
    "start_time": "2023-09-27T10:51:31.400Z"
   },
   {
    "duration": 118,
    "start_time": "2023-09-27T10:51:47.474Z"
   },
   {
    "duration": 150,
    "start_time": "2023-09-27T10:51:50.720Z"
   },
   {
    "duration": 145,
    "start_time": "2023-09-27T10:53:08.668Z"
   },
   {
    "duration": 148,
    "start_time": "2023-09-27T10:54:12.953Z"
   },
   {
    "duration": 4,
    "start_time": "2023-09-27T11:01:02.571Z"
   },
   {
    "duration": 153,
    "start_time": "2023-09-27T11:01:53.406Z"
   },
   {
    "duration": 157,
    "start_time": "2023-09-27T11:02:06.359Z"
   },
   {
    "duration": 153,
    "start_time": "2023-09-27T11:02:32.845Z"
   },
   {
    "duration": 157,
    "start_time": "2023-09-27T11:02:56.906Z"
   },
   {
    "duration": 48,
    "start_time": "2023-09-27T13:13:22.498Z"
   },
   {
    "duration": 1337,
    "start_time": "2023-09-27T13:13:32.630Z"
   },
   {
    "duration": 97,
    "start_time": "2023-09-27T13:13:33.969Z"
   },
   {
    "duration": 18,
    "start_time": "2023-09-27T13:13:34.068Z"
   },
   {
    "duration": 35,
    "start_time": "2023-09-27T13:13:34.088Z"
   },
   {
    "duration": 31,
    "start_time": "2023-09-27T13:13:34.125Z"
   },
   {
    "duration": 842,
    "start_time": "2023-09-27T13:13:34.158Z"
   },
   {
    "duration": 3,
    "start_time": "2023-09-27T13:13:35.002Z"
   },
   {
    "duration": 37,
    "start_time": "2023-09-27T13:13:35.006Z"
   },
   {
    "duration": 25,
    "start_time": "2023-09-27T13:13:35.045Z"
   },
   {
    "duration": 7,
    "start_time": "2023-09-27T13:13:35.072Z"
   },
   {
    "duration": 28,
    "start_time": "2023-09-27T13:13:35.081Z"
   },
   {
    "duration": 44,
    "start_time": "2023-09-27T13:13:35.111Z"
   },
   {
    "duration": 17,
    "start_time": "2023-09-27T13:13:35.157Z"
   },
   {
    "duration": 57,
    "start_time": "2023-09-27T13:13:35.176Z"
   },
   {
    "duration": 74,
    "start_time": "2023-09-27T13:13:35.235Z"
   },
   {
    "duration": 65,
    "start_time": "2023-09-27T13:13:35.310Z"
   },
   {
    "duration": 26,
    "start_time": "2023-09-27T13:13:35.376Z"
   },
   {
    "duration": 56,
    "start_time": "2023-09-27T13:13:35.404Z"
   },
   {
    "duration": 42,
    "start_time": "2023-09-27T13:13:35.462Z"
   },
   {
    "duration": 42,
    "start_time": "2023-09-27T13:13:35.506Z"
   },
   {
    "duration": 31,
    "start_time": "2023-09-27T13:13:35.550Z"
   },
   {
    "duration": 35,
    "start_time": "2023-09-27T13:13:35.582Z"
   },
   {
    "duration": 12,
    "start_time": "2023-09-27T13:13:35.619Z"
   },
   {
    "duration": 25,
    "start_time": "2023-09-27T13:13:35.632Z"
   },
   {
    "duration": 35,
    "start_time": "2023-09-27T13:13:35.659Z"
   },
   {
    "duration": 65,
    "start_time": "2023-09-27T13:13:35.695Z"
   },
   {
    "duration": 22,
    "start_time": "2023-09-27T13:13:35.762Z"
   },
   {
    "duration": 80,
    "start_time": "2023-09-27T13:13:35.789Z"
   },
   {
    "duration": 68,
    "start_time": "2023-09-27T13:13:35.871Z"
   },
   {
    "duration": 26,
    "start_time": "2023-09-27T13:13:35.942Z"
   },
   {
    "duration": 397,
    "start_time": "2023-09-27T13:13:35.970Z"
   },
   {
    "duration": 6,
    "start_time": "2023-09-27T13:13:36.369Z"
   },
   {
    "duration": 18,
    "start_time": "2023-09-27T13:13:36.376Z"
   },
   {
    "duration": 4,
    "start_time": "2023-09-27T13:13:36.395Z"
   },
   {
    "duration": 290,
    "start_time": "2023-09-27T13:13:36.400Z"
   },
   {
    "duration": 15,
    "start_time": "2023-09-27T13:13:36.692Z"
   },
   {
    "duration": 39,
    "start_time": "2023-09-27T13:13:36.709Z"
   },
   {
    "duration": 390,
    "start_time": "2023-09-27T13:13:36.749Z"
   },
   {
    "duration": 21,
    "start_time": "2023-09-27T13:13:37.141Z"
   },
   {
    "duration": 5,
    "start_time": "2023-09-27T13:13:37.163Z"
   },
   {
    "duration": 24,
    "start_time": "2023-09-27T13:13:37.169Z"
   },
   {
    "duration": 8,
    "start_time": "2023-09-27T13:13:37.195Z"
   },
   {
    "duration": 22,
    "start_time": "2023-09-27T13:13:37.204Z"
   },
   {
    "duration": 19,
    "start_time": "2023-09-27T13:13:37.228Z"
   },
   {
    "duration": 11,
    "start_time": "2023-09-27T13:13:37.249Z"
   },
   {
    "duration": 153,
    "start_time": "2023-09-27T13:13:37.261Z"
   },
   {
    "duration": 1279,
    "start_time": "2023-09-27T13:13:37.423Z"
   },
   {
    "duration": 894,
    "start_time": "2023-09-27T13:13:38.704Z"
   },
   {
    "duration": 915,
    "start_time": "2023-09-27T13:13:39.599Z"
   },
   {
    "duration": 11,
    "start_time": "2023-09-27T13:13:40.516Z"
   },
   {
    "duration": 539,
    "start_time": "2023-09-27T13:13:40.529Z"
   },
   {
    "duration": 7,
    "start_time": "2023-09-27T13:13:41.070Z"
   },
   {
    "duration": 14,
    "start_time": "2023-09-27T13:13:41.079Z"
   },
   {
    "duration": 21,
    "start_time": "2023-09-27T13:13:41.095Z"
   },
   {
    "duration": 419,
    "start_time": "2023-09-27T13:13:41.124Z"
   },
   {
    "duration": 5,
    "start_time": "2023-09-27T13:13:41.546Z"
   },
   {
    "duration": 92,
    "start_time": "2023-09-27T13:13:41.553Z"
   },
   {
    "duration": 36,
    "start_time": "2023-09-27T13:13:41.647Z"
   },
   {
    "duration": 215,
    "start_time": "2023-09-27T13:13:41.685Z"
   },
   {
    "duration": 215,
    "start_time": "2023-09-27T13:13:41.902Z"
   },
   {
    "duration": 7,
    "start_time": "2023-09-27T13:13:42.119Z"
   },
   {
    "duration": 212,
    "start_time": "2023-09-27T13:13:42.128Z"
   },
   {
    "duration": 269,
    "start_time": "2023-09-27T13:13:42.342Z"
   },
   {
    "duration": 166,
    "start_time": "2023-09-27T13:13:42.612Z"
   },
   {
    "duration": 166,
    "start_time": "2023-09-27T13:13:42.779Z"
   },
   {
    "duration": 158,
    "start_time": "2023-09-27T13:13:42.946Z"
   },
   {
    "duration": 153,
    "start_time": "2023-09-27T13:13:43.106Z"
   },
   {
    "duration": 4,
    "start_time": "2023-09-27T13:13:43.261Z"
   },
   {
    "duration": 214,
    "start_time": "2023-09-27T13:13:43.266Z"
   },
   {
    "duration": 162,
    "start_time": "2023-09-27T13:13:43.482Z"
   },
   {
    "duration": 162,
    "start_time": "2023-09-27T13:13:43.646Z"
   },
   {
    "duration": 20,
    "start_time": "2023-09-27T13:13:43.810Z"
   },
   {
    "duration": 41,
    "start_time": "2023-09-27T13:13:43.832Z"
   },
   {
    "duration": 1347,
    "start_time": "2023-09-27T13:31:44.913Z"
   },
   {
    "duration": 58,
    "start_time": "2023-09-27T13:31:46.262Z"
   },
   {
    "duration": 18,
    "start_time": "2023-09-27T13:31:46.322Z"
   },
   {
    "duration": 120,
    "start_time": "2023-09-27T13:31:46.342Z"
   },
   {
    "duration": 158,
    "start_time": "2023-09-27T13:31:46.463Z"
   },
   {
    "duration": 829,
    "start_time": "2023-09-27T13:31:46.623Z"
   },
   {
    "duration": 4,
    "start_time": "2023-09-27T13:31:47.455Z"
   },
   {
    "duration": 55,
    "start_time": "2023-09-27T13:31:47.460Z"
   },
   {
    "duration": 91,
    "start_time": "2023-09-27T13:31:47.517Z"
   },
   {
    "duration": 38,
    "start_time": "2023-09-27T13:31:47.611Z"
   },
   {
    "duration": 69,
    "start_time": "2023-09-27T13:31:47.651Z"
   },
   {
    "duration": 139,
    "start_time": "2023-09-27T13:31:47.721Z"
   },
   {
    "duration": 148,
    "start_time": "2023-09-27T13:31:47.862Z"
   },
   {
    "duration": 39,
    "start_time": "2023-09-27T13:31:48.011Z"
   },
   {
    "duration": 22,
    "start_time": "2023-09-27T13:31:48.052Z"
   },
   {
    "duration": 25,
    "start_time": "2023-09-27T13:31:48.075Z"
   },
   {
    "duration": 4,
    "start_time": "2023-09-27T13:31:48.102Z"
   },
   {
    "duration": 23,
    "start_time": "2023-09-27T13:31:48.107Z"
   },
   {
    "duration": 6,
    "start_time": "2023-09-27T13:31:48.132Z"
   },
   {
    "duration": 10,
    "start_time": "2023-09-27T13:31:48.139Z"
   },
   {
    "duration": 12,
    "start_time": "2023-09-27T13:31:48.151Z"
   },
   {
    "duration": 25,
    "start_time": "2023-09-27T13:31:48.164Z"
   },
   {
    "duration": 5,
    "start_time": "2023-09-27T13:31:48.192Z"
   },
   {
    "duration": 8,
    "start_time": "2023-09-27T13:31:48.199Z"
   },
   {
    "duration": 11,
    "start_time": "2023-09-27T13:31:48.224Z"
   },
   {
    "duration": 18,
    "start_time": "2023-09-27T13:31:48.237Z"
   },
   {
    "duration": 16,
    "start_time": "2023-09-27T13:31:48.257Z"
   },
   {
    "duration": 3,
    "start_time": "2023-09-27T13:31:48.277Z"
   },
   {
    "duration": 5,
    "start_time": "2023-09-27T13:31:48.282Z"
   },
   {
    "duration": 50,
    "start_time": "2023-09-27T13:31:48.288Z"
   },
   {
    "duration": 362,
    "start_time": "2023-09-27T13:31:48.339Z"
   },
   {
    "duration": 6,
    "start_time": "2023-09-27T13:31:48.703Z"
   },
   {
    "duration": 23,
    "start_time": "2023-09-27T13:31:48.711Z"
   },
   {
    "duration": 4,
    "start_time": "2023-09-27T13:31:48.736Z"
   },
   {
    "duration": 315,
    "start_time": "2023-09-27T13:31:48.741Z"
   },
   {
    "duration": 16,
    "start_time": "2023-09-27T13:31:49.058Z"
   },
   {
    "duration": 13,
    "start_time": "2023-09-27T13:31:49.076Z"
   },
   {
    "duration": 428,
    "start_time": "2023-09-27T13:31:49.090Z"
   },
   {
    "duration": 25,
    "start_time": "2023-09-27T13:31:49.520Z"
   },
   {
    "duration": 5,
    "start_time": "2023-09-27T13:31:49.546Z"
   },
   {
    "duration": 13,
    "start_time": "2023-09-27T13:31:49.552Z"
   },
   {
    "duration": 9,
    "start_time": "2023-09-27T13:31:49.567Z"
   },
   {
    "duration": 19,
    "start_time": "2023-09-27T13:31:49.577Z"
   },
   {
    "duration": 30,
    "start_time": "2023-09-27T13:31:49.599Z"
   },
   {
    "duration": 29,
    "start_time": "2023-09-27T13:31:49.631Z"
   },
   {
    "duration": 184,
    "start_time": "2023-09-27T13:31:49.662Z"
   },
   {
    "duration": 1343,
    "start_time": "2023-09-27T13:31:49.847Z"
   },
   {
    "duration": 866,
    "start_time": "2023-09-27T13:31:51.192Z"
   },
   {
    "duration": 883,
    "start_time": "2023-09-27T13:31:52.060Z"
   },
   {
    "duration": 7,
    "start_time": "2023-09-27T13:31:52.945Z"
   },
   {
    "duration": 422,
    "start_time": "2023-09-27T13:31:52.953Z"
   },
   {
    "duration": 5,
    "start_time": "2023-09-27T13:31:53.377Z"
   },
   {
    "duration": 20,
    "start_time": "2023-09-27T13:31:53.383Z"
   },
   {
    "duration": 11,
    "start_time": "2023-09-27T13:31:53.405Z"
   },
   {
    "duration": 361,
    "start_time": "2023-09-27T13:31:53.424Z"
   },
   {
    "duration": 5,
    "start_time": "2023-09-27T13:31:53.787Z"
   },
   {
    "duration": 26,
    "start_time": "2023-09-27T13:31:53.793Z"
   },
   {
    "duration": 31,
    "start_time": "2023-09-27T13:31:53.820Z"
   },
   {
    "duration": 206,
    "start_time": "2023-09-27T13:31:53.853Z"
   },
   {
    "duration": 219,
    "start_time": "2023-09-27T13:31:54.061Z"
   },
   {
    "duration": 5,
    "start_time": "2023-09-27T13:31:54.282Z"
   },
   {
    "duration": 175,
    "start_time": "2023-09-27T13:31:54.289Z"
   },
   {
    "duration": 275,
    "start_time": "2023-09-27T13:31:54.466Z"
   },
   {
    "duration": 175,
    "start_time": "2023-09-27T13:31:54.743Z"
   },
   {
    "duration": 160,
    "start_time": "2023-09-27T13:31:54.924Z"
   },
   {
    "duration": 162,
    "start_time": "2023-09-27T13:31:55.086Z"
   },
   {
    "duration": 162,
    "start_time": "2023-09-27T13:31:55.250Z"
   },
   {
    "duration": 11,
    "start_time": "2023-09-27T13:31:55.413Z"
   },
   {
    "duration": 157,
    "start_time": "2023-09-27T13:31:55.427Z"
   },
   {
    "duration": 162,
    "start_time": "2023-09-27T13:31:55.586Z"
   },
   {
    "duration": 211,
    "start_time": "2023-09-27T13:31:55.750Z"
   },
   {
    "duration": 64,
    "start_time": "2023-09-27T13:31:55.963Z"
   },
   {
    "duration": 121,
    "start_time": "2023-09-27T13:31:56.030Z"
   },
   {
    "duration": 120,
    "start_time": "2023-09-27T13:37:03.074Z"
   },
   {
    "duration": 86,
    "start_time": "2023-09-27T13:37:08.480Z"
   },
   {
    "duration": 1255,
    "start_time": "2023-09-27T14:49:35.656Z"
   },
   {
    "duration": 75,
    "start_time": "2023-09-27T14:49:36.913Z"
   },
   {
    "duration": 18,
    "start_time": "2023-09-27T14:49:36.989Z"
   },
   {
    "duration": 41,
    "start_time": "2023-09-27T14:49:37.009Z"
   },
   {
    "duration": 112,
    "start_time": "2023-09-27T14:49:37.052Z"
   },
   {
    "duration": 914,
    "start_time": "2023-09-27T14:49:37.166Z"
   },
   {
    "duration": 3,
    "start_time": "2023-09-27T14:49:38.082Z"
   },
   {
    "duration": 199,
    "start_time": "2023-09-27T14:49:38.087Z"
   },
   {
    "duration": 102,
    "start_time": "2023-09-27T14:49:38.288Z"
   },
   {
    "duration": 39,
    "start_time": "2023-09-27T14:49:38.392Z"
   },
   {
    "duration": 125,
    "start_time": "2023-09-27T14:49:38.433Z"
   },
   {
    "duration": 17,
    "start_time": "2023-09-27T14:49:38.559Z"
   },
   {
    "duration": 25,
    "start_time": "2023-09-27T14:49:38.578Z"
   },
   {
    "duration": 22,
    "start_time": "2023-09-27T14:49:38.604Z"
   },
   {
    "duration": 45,
    "start_time": "2023-09-27T14:49:38.628Z"
   },
   {
    "duration": 57,
    "start_time": "2023-09-27T14:49:38.674Z"
   },
   {
    "duration": 20,
    "start_time": "2023-09-27T14:49:38.733Z"
   },
   {
    "duration": 33,
    "start_time": "2023-09-27T14:49:38.755Z"
   },
   {
    "duration": 36,
    "start_time": "2023-09-27T14:49:38.790Z"
   },
   {
    "duration": 42,
    "start_time": "2023-09-27T14:49:38.828Z"
   },
   {
    "duration": 57,
    "start_time": "2023-09-27T14:49:38.872Z"
   },
   {
    "duration": 110,
    "start_time": "2023-09-27T14:49:38.931Z"
   },
   {
    "duration": 23,
    "start_time": "2023-09-27T14:49:39.043Z"
   },
   {
    "duration": 37,
    "start_time": "2023-09-27T14:49:39.068Z"
   },
   {
    "duration": 76,
    "start_time": "2023-09-27T14:49:39.107Z"
   },
   {
    "duration": 67,
    "start_time": "2023-09-27T14:49:39.185Z"
   },
   {
    "duration": 29,
    "start_time": "2023-09-27T14:49:39.254Z"
   },
   {
    "duration": 14,
    "start_time": "2023-09-27T14:49:39.287Z"
   },
   {
    "duration": 26,
    "start_time": "2023-09-27T14:49:39.303Z"
   },
   {
    "duration": 27,
    "start_time": "2023-09-27T14:49:39.331Z"
   },
   {
    "duration": 448,
    "start_time": "2023-09-27T14:49:39.360Z"
   },
   {
    "duration": 17,
    "start_time": "2023-09-27T14:49:39.812Z"
   },
   {
    "duration": 33,
    "start_time": "2023-09-27T14:49:39.836Z"
   },
   {
    "duration": 4,
    "start_time": "2023-09-27T14:49:39.871Z"
   },
   {
    "duration": 356,
    "start_time": "2023-09-27T14:49:39.876Z"
   },
   {
    "duration": 18,
    "start_time": "2023-09-27T14:49:40.236Z"
   },
   {
    "duration": 19,
    "start_time": "2023-09-27T14:49:40.255Z"
   },
   {
    "duration": 426,
    "start_time": "2023-09-27T14:49:40.276Z"
   },
   {
    "duration": 33,
    "start_time": "2023-09-27T14:49:40.703Z"
   },
   {
    "duration": 4,
    "start_time": "2023-09-27T14:49:40.742Z"
   },
   {
    "duration": 16,
    "start_time": "2023-09-27T14:49:40.747Z"
   },
   {
    "duration": 5,
    "start_time": "2023-09-27T14:49:40.765Z"
   },
   {
    "duration": 25,
    "start_time": "2023-09-27T14:49:40.771Z"
   },
   {
    "duration": 38,
    "start_time": "2023-09-27T14:49:40.798Z"
   },
   {
    "duration": 10,
    "start_time": "2023-09-27T14:49:40.842Z"
   },
   {
    "duration": 167,
    "start_time": "2023-09-27T14:49:40.854Z"
   },
   {
    "duration": 1339,
    "start_time": "2023-09-27T14:49:41.025Z"
   },
   {
    "duration": 891,
    "start_time": "2023-09-27T14:49:42.366Z"
   },
   {
    "duration": 971,
    "start_time": "2023-09-27T14:49:43.259Z"
   },
   {
    "duration": 6,
    "start_time": "2023-09-27T14:49:44.241Z"
   },
   {
    "duration": 395,
    "start_time": "2023-09-27T14:49:44.248Z"
   },
   {
    "duration": 5,
    "start_time": "2023-09-27T14:49:44.645Z"
   },
   {
    "duration": 39,
    "start_time": "2023-09-27T14:49:44.651Z"
   },
   {
    "duration": 16,
    "start_time": "2023-09-27T14:49:44.692Z"
   },
   {
    "duration": 388,
    "start_time": "2023-09-27T14:49:44.709Z"
   },
   {
    "duration": 4,
    "start_time": "2023-09-27T14:49:45.099Z"
   },
   {
    "duration": 186,
    "start_time": "2023-09-27T14:49:45.114Z"
   },
   {
    "duration": 41,
    "start_time": "2023-09-27T14:49:45.302Z"
   },
   {
    "duration": 229,
    "start_time": "2023-09-27T14:49:45.344Z"
   },
   {
    "duration": 234,
    "start_time": "2023-09-27T14:49:45.575Z"
   },
   {
    "duration": 7,
    "start_time": "2023-09-27T14:49:45.813Z"
   },
   {
    "duration": 202,
    "start_time": "2023-09-27T14:49:45.826Z"
   },
   {
    "duration": 259,
    "start_time": "2023-09-27T14:49:46.030Z"
   },
   {
    "duration": 185,
    "start_time": "2023-09-27T14:49:46.291Z"
   },
   {
    "duration": 199,
    "start_time": "2023-09-27T14:49:46.478Z"
   },
   {
    "duration": 182,
    "start_time": "2023-09-27T14:49:46.679Z"
   },
   {
    "duration": 202,
    "start_time": "2023-09-27T14:49:46.863Z"
   },
   {
    "duration": 70,
    "start_time": "2023-09-27T14:49:47.067Z"
   },
   {
    "duration": 267,
    "start_time": "2023-09-27T14:49:47.140Z"
   },
   {
    "duration": 179,
    "start_time": "2023-09-27T14:49:47.409Z"
   },
   {
    "duration": 188,
    "start_time": "2023-09-27T14:49:47.590Z"
   },
   {
    "duration": 11,
    "start_time": "2023-09-27T14:49:47.780Z"
   },
   {
    "duration": 35,
    "start_time": "2023-09-27T14:49:47.793Z"
   },
   {
    "duration": 55,
    "start_time": "2023-09-27T15:31:22.010Z"
   },
   {
    "duration": 1489,
    "start_time": "2023-09-27T15:31:41.902Z"
   },
   {
    "duration": 102,
    "start_time": "2023-09-27T15:31:43.393Z"
   },
   {
    "duration": 118,
    "start_time": "2023-09-27T15:31:43.497Z"
   },
   {
    "duration": 69,
    "start_time": "2023-09-27T15:31:43.617Z"
   },
   {
    "duration": 180,
    "start_time": "2023-09-27T15:31:43.688Z"
   },
   {
    "duration": 1135,
    "start_time": "2023-09-27T15:31:43.870Z"
   },
   {
    "duration": 4,
    "start_time": "2023-09-27T15:31:45.007Z"
   },
   {
    "duration": 130,
    "start_time": "2023-09-27T15:31:45.013Z"
   },
   {
    "duration": 81,
    "start_time": "2023-09-27T15:31:45.145Z"
   },
   {
    "duration": 67,
    "start_time": "2023-09-27T15:31:45.229Z"
   },
   {
    "duration": 99,
    "start_time": "2023-09-27T15:31:45.298Z"
   },
   {
    "duration": 115,
    "start_time": "2023-09-27T15:31:45.399Z"
   },
   {
    "duration": 112,
    "start_time": "2023-09-27T15:31:45.516Z"
   },
   {
    "duration": 62,
    "start_time": "2023-09-27T15:31:45.631Z"
   },
   {
    "duration": 114,
    "start_time": "2023-09-27T15:31:45.695Z"
   },
   {
    "duration": 49,
    "start_time": "2023-09-27T15:31:45.810Z"
   },
   {
    "duration": 16,
    "start_time": "2023-09-27T15:31:45.861Z"
   },
   {
    "duration": 40,
    "start_time": "2023-09-27T15:31:45.879Z"
   },
   {
    "duration": 34,
    "start_time": "2023-09-27T15:31:45.921Z"
   },
   {
    "duration": 47,
    "start_time": "2023-09-27T15:31:45.957Z"
   },
   {
    "duration": 37,
    "start_time": "2023-09-27T15:31:46.006Z"
   },
   {
    "duration": 69,
    "start_time": "2023-09-27T15:31:46.045Z"
   },
   {
    "duration": 28,
    "start_time": "2023-09-27T15:31:46.116Z"
   },
   {
    "duration": 88,
    "start_time": "2023-09-27T15:31:46.146Z"
   },
   {
    "duration": 68,
    "start_time": "2023-09-27T15:31:46.236Z"
   },
   {
    "duration": 47,
    "start_time": "2023-09-27T15:31:46.307Z"
   },
   {
    "duration": 37,
    "start_time": "2023-09-27T15:31:46.356Z"
   },
   {
    "duration": 5,
    "start_time": "2023-09-27T15:31:46.398Z"
   },
   {
    "duration": 24,
    "start_time": "2023-09-27T15:31:46.405Z"
   },
   {
    "duration": 71,
    "start_time": "2023-09-27T15:31:46.431Z"
   },
   {
    "duration": 450,
    "start_time": "2023-09-27T15:31:46.504Z"
   },
   {
    "duration": 7,
    "start_time": "2023-09-27T15:31:46.956Z"
   },
   {
    "duration": 54,
    "start_time": "2023-09-27T15:31:46.965Z"
   },
   {
    "duration": 28,
    "start_time": "2023-09-27T15:31:47.021Z"
   },
   {
    "duration": 364,
    "start_time": "2023-09-27T15:31:47.051Z"
   },
   {
    "duration": 18,
    "start_time": "2023-09-27T15:31:47.417Z"
   },
   {
    "duration": 12,
    "start_time": "2023-09-27T15:31:47.436Z"
   },
   {
    "duration": 475,
    "start_time": "2023-09-27T15:31:47.450Z"
   },
   {
    "duration": 23,
    "start_time": "2023-09-27T15:31:47.927Z"
   },
   {
    "duration": 194,
    "start_time": "2023-09-27T15:31:47.952Z"
   },
   {
    "duration": 53,
    "start_time": "2023-09-27T15:31:48.148Z"
   },
   {
    "duration": 61,
    "start_time": "2023-09-27T15:31:48.203Z"
   },
   {
    "duration": 135,
    "start_time": "2023-09-27T15:31:48.266Z"
   },
   {
    "duration": 62,
    "start_time": "2023-09-27T15:31:48.403Z"
   },
   {
    "duration": 57,
    "start_time": "2023-09-27T15:31:48.466Z"
   },
   {
    "duration": 397,
    "start_time": "2023-09-27T15:31:48.525Z"
   },
   {
    "duration": 1457,
    "start_time": "2023-09-27T15:31:48.925Z"
   },
   {
    "duration": 968,
    "start_time": "2023-09-27T15:31:50.384Z"
   },
   {
    "duration": 431,
    "start_time": "2023-09-27T15:32:12.757Z"
   },
   {
    "duration": 299,
    "start_time": "2023-09-27T15:36:23.771Z"
   },
   {
    "duration": 328,
    "start_time": "2023-09-27T15:37:55.566Z"
   },
   {
    "duration": 336,
    "start_time": "2023-09-27T15:38:27.681Z"
   },
   {
    "duration": 313,
    "start_time": "2023-09-27T15:38:33.274Z"
   },
   {
    "duration": 319,
    "start_time": "2023-09-27T15:39:35.031Z"
   },
   {
    "duration": 401,
    "start_time": "2023-09-27T15:39:47.782Z"
   },
   {
    "duration": 305,
    "start_time": "2023-09-27T15:39:57.111Z"
   },
   {
    "duration": 311,
    "start_time": "2023-09-27T15:40:01.402Z"
   },
   {
    "duration": 98,
    "start_time": "2023-09-27T15:40:45.737Z"
   },
   {
    "duration": 97,
    "start_time": "2023-09-27T15:50:56.480Z"
   },
   {
    "duration": 1589,
    "start_time": "2023-09-27T20:25:19.664Z"
   },
   {
    "duration": 99,
    "start_time": "2023-09-27T20:25:21.255Z"
   },
   {
    "duration": 18,
    "start_time": "2023-09-27T20:25:21.356Z"
   },
   {
    "duration": 26,
    "start_time": "2023-09-27T20:25:21.377Z"
   },
   {
    "duration": 49,
    "start_time": "2023-09-27T20:25:21.405Z"
   },
   {
    "duration": 841,
    "start_time": "2023-09-27T20:25:21.456Z"
   },
   {
    "duration": 5,
    "start_time": "2023-09-27T20:25:22.298Z"
   },
   {
    "duration": 37,
    "start_time": "2023-09-27T20:25:22.304Z"
   },
   {
    "duration": 37,
    "start_time": "2023-09-27T20:25:22.342Z"
   },
   {
    "duration": 14,
    "start_time": "2023-09-27T20:25:22.381Z"
   },
   {
    "duration": 33,
    "start_time": "2023-09-27T20:25:22.397Z"
   },
   {
    "duration": 8,
    "start_time": "2023-09-27T20:25:22.432Z"
   },
   {
    "duration": 12,
    "start_time": "2023-09-27T20:25:22.442Z"
   },
   {
    "duration": 13,
    "start_time": "2023-09-27T20:25:22.456Z"
   },
   {
    "duration": 12,
    "start_time": "2023-09-27T20:25:22.471Z"
   },
   {
    "duration": 19,
    "start_time": "2023-09-27T20:25:22.485Z"
   },
   {
    "duration": 4,
    "start_time": "2023-09-27T20:25:22.505Z"
   },
   {
    "duration": 40,
    "start_time": "2023-09-27T20:25:22.511Z"
   },
   {
    "duration": 7,
    "start_time": "2023-09-27T20:25:22.554Z"
   },
   {
    "duration": 30,
    "start_time": "2023-09-27T20:25:22.563Z"
   },
   {
    "duration": 8,
    "start_time": "2023-09-27T20:25:22.595Z"
   },
   {
    "duration": 28,
    "start_time": "2023-09-27T20:25:22.605Z"
   },
   {
    "duration": 8,
    "start_time": "2023-09-27T20:25:22.635Z"
   },
   {
    "duration": 6,
    "start_time": "2023-09-27T20:25:22.645Z"
   },
   {
    "duration": 30,
    "start_time": "2023-09-27T20:25:22.652Z"
   },
   {
    "duration": 35,
    "start_time": "2023-09-27T20:25:22.683Z"
   },
   {
    "duration": 31,
    "start_time": "2023-09-27T20:25:22.720Z"
   },
   {
    "duration": 5,
    "start_time": "2023-09-27T20:25:22.755Z"
   },
   {
    "duration": 6,
    "start_time": "2023-09-27T20:25:22.762Z"
   },
   {
    "duration": 41,
    "start_time": "2023-09-27T20:25:22.770Z"
   },
   {
    "duration": 398,
    "start_time": "2023-09-27T20:25:22.813Z"
   },
   {
    "duration": 9,
    "start_time": "2023-09-27T20:25:23.213Z"
   },
   {
    "duration": 26,
    "start_time": "2023-09-27T20:25:23.225Z"
   },
   {
    "duration": 5,
    "start_time": "2023-09-27T20:25:23.253Z"
   },
   {
    "duration": 353,
    "start_time": "2023-09-27T20:25:23.260Z"
   },
   {
    "duration": 17,
    "start_time": "2023-09-27T20:25:23.615Z"
   },
   {
    "duration": 26,
    "start_time": "2023-09-27T20:25:23.634Z"
   },
   {
    "duration": 415,
    "start_time": "2023-09-27T20:25:23.662Z"
   },
   {
    "duration": 37,
    "start_time": "2023-09-27T20:25:24.079Z"
   },
   {
    "duration": 56,
    "start_time": "2023-09-27T20:25:24.118Z"
   },
   {
    "duration": 37,
    "start_time": "2023-09-27T20:25:24.176Z"
   },
   {
    "duration": 12,
    "start_time": "2023-09-27T20:25:24.215Z"
   },
   {
    "duration": 20,
    "start_time": "2023-09-27T20:25:24.230Z"
   },
   {
    "duration": 24,
    "start_time": "2023-09-27T20:25:24.253Z"
   },
   {
    "duration": 31,
    "start_time": "2023-09-27T20:25:24.280Z"
   },
   {
    "duration": 175,
    "start_time": "2023-09-27T20:25:24.314Z"
   },
   {
    "duration": 1514,
    "start_time": "2023-09-27T20:25:24.492Z"
   },
   {
    "duration": 887,
    "start_time": "2023-09-27T20:25:26.008Z"
   },
   {
    "duration": 386,
    "start_time": "2023-09-27T20:25:26.901Z"
   },
   {
    "duration": 15,
    "start_time": "2023-09-27T20:25:27.289Z"
   },
   {
    "duration": 373,
    "start_time": "2023-09-27T20:25:27.306Z"
   },
   {
    "duration": 6,
    "start_time": "2023-09-27T20:25:27.681Z"
   },
   {
    "duration": 17,
    "start_time": "2023-09-27T20:25:27.688Z"
   },
   {
    "duration": 11,
    "start_time": "2023-09-27T20:25:27.707Z"
   },
   {
    "duration": 392,
    "start_time": "2023-09-27T20:25:27.720Z"
   },
   {
    "duration": 5,
    "start_time": "2023-09-27T20:25:28.114Z"
   },
   {
    "duration": 17,
    "start_time": "2023-09-27T20:25:28.121Z"
   },
   {
    "duration": 11,
    "start_time": "2023-09-27T20:25:28.140Z"
   },
   {
    "duration": 225,
    "start_time": "2023-09-27T20:25:28.153Z"
   },
   {
    "duration": 243,
    "start_time": "2023-09-27T20:25:28.381Z"
   },
   {
    "duration": 10,
    "start_time": "2023-09-27T20:25:28.626Z"
   },
   {
    "duration": 207,
    "start_time": "2023-09-27T20:25:28.639Z"
   },
   {
    "duration": 166,
    "start_time": "2023-09-27T20:25:28.849Z"
   },
   {
    "duration": 188,
    "start_time": "2023-09-27T20:25:29.017Z"
   },
   {
    "duration": 305,
    "start_time": "2023-09-27T20:25:29.207Z"
   },
   {
    "duration": 171,
    "start_time": "2023-09-27T20:25:29.514Z"
   },
   {
    "duration": 180,
    "start_time": "2023-09-27T20:25:29.688Z"
   },
   {
    "duration": 4,
    "start_time": "2023-09-27T20:25:29.870Z"
   },
   {
    "duration": 169,
    "start_time": "2023-09-27T20:25:29.875Z"
   },
   {
    "duration": 169,
    "start_time": "2023-09-27T20:25:30.046Z"
   },
   {
    "duration": 174,
    "start_time": "2023-09-27T20:25:30.217Z"
   },
   {
    "duration": 114,
    "start_time": "2023-09-27T20:25:30.393Z"
   },
   {
    "duration": 75,
    "start_time": "2023-09-27T20:25:30.509Z"
   },
   {
    "duration": 329,
    "start_time": "2023-09-27T20:27:43.227Z"
   },
   {
    "duration": 305,
    "start_time": "2023-09-27T20:27:50.318Z"
   },
   {
    "duration": 1255,
    "start_time": "2023-09-28T07:05:26.155Z"
   },
   {
    "duration": 105,
    "start_time": "2023-09-28T07:05:27.412Z"
   },
   {
    "duration": 20,
    "start_time": "2023-09-28T07:05:27.519Z"
   },
   {
    "duration": 30,
    "start_time": "2023-09-28T07:05:27.541Z"
   },
   {
    "duration": 44,
    "start_time": "2023-09-28T07:05:27.574Z"
   },
   {
    "duration": 898,
    "start_time": "2023-09-28T07:05:27.620Z"
   },
   {
    "duration": 3,
    "start_time": "2023-09-28T07:05:28.520Z"
   },
   {
    "duration": 59,
    "start_time": "2023-09-28T07:05:28.525Z"
   },
   {
    "duration": 36,
    "start_time": "2023-09-28T07:05:28.586Z"
   },
   {
    "duration": 7,
    "start_time": "2023-09-28T07:05:28.626Z"
   },
   {
    "duration": 32,
    "start_time": "2023-09-28T07:05:28.635Z"
   },
   {
    "duration": 17,
    "start_time": "2023-09-28T07:05:28.669Z"
   },
   {
    "duration": 21,
    "start_time": "2023-09-28T07:05:28.688Z"
   },
   {
    "duration": 28,
    "start_time": "2023-09-28T07:05:28.711Z"
   },
   {
    "duration": 12,
    "start_time": "2023-09-28T07:05:28.742Z"
   },
   {
    "duration": 40,
    "start_time": "2023-09-28T07:05:28.756Z"
   },
   {
    "duration": 21,
    "start_time": "2023-09-28T07:05:28.798Z"
   },
   {
    "duration": 29,
    "start_time": "2023-09-28T07:05:28.821Z"
   },
   {
    "duration": 25,
    "start_time": "2023-09-28T07:05:28.852Z"
   },
   {
    "duration": 43,
    "start_time": "2023-09-28T07:05:28.879Z"
   },
   {
    "duration": 19,
    "start_time": "2023-09-28T07:05:28.924Z"
   },
   {
    "duration": 69,
    "start_time": "2023-09-28T07:05:28.944Z"
   },
   {
    "duration": 16,
    "start_time": "2023-09-28T07:05:29.015Z"
   },
   {
    "duration": 25,
    "start_time": "2023-09-28T07:05:29.033Z"
   },
   {
    "duration": 38,
    "start_time": "2023-09-28T07:05:29.059Z"
   },
   {
    "duration": 43,
    "start_time": "2023-09-28T07:05:29.098Z"
   },
   {
    "duration": 54,
    "start_time": "2023-09-28T07:05:29.143Z"
   },
   {
    "duration": 4,
    "start_time": "2023-09-28T07:05:29.202Z"
   },
   {
    "duration": 32,
    "start_time": "2023-09-28T07:05:29.208Z"
   },
   {
    "duration": 39,
    "start_time": "2023-09-28T07:05:29.242Z"
   },
   {
    "duration": 390,
    "start_time": "2023-09-28T07:05:29.283Z"
   },
   {
    "duration": 6,
    "start_time": "2023-09-28T07:05:29.676Z"
   },
   {
    "duration": 40,
    "start_time": "2023-09-28T07:05:29.684Z"
   },
   {
    "duration": 11,
    "start_time": "2023-09-28T07:05:29.727Z"
   },
   {
    "duration": 359,
    "start_time": "2023-09-28T07:05:29.739Z"
   },
   {
    "duration": 21,
    "start_time": "2023-09-28T07:05:30.100Z"
   },
   {
    "duration": 43,
    "start_time": "2023-09-28T07:05:30.123Z"
   },
   {
    "duration": 457,
    "start_time": "2023-09-28T07:05:30.168Z"
   },
   {
    "duration": 24,
    "start_time": "2023-09-28T07:05:30.627Z"
   },
   {
    "duration": 25,
    "start_time": "2023-09-28T07:05:30.653Z"
   },
   {
    "duration": 35,
    "start_time": "2023-09-28T07:05:30.679Z"
   },
   {
    "duration": 51,
    "start_time": "2023-09-28T07:05:30.716Z"
   },
   {
    "duration": 78,
    "start_time": "2023-09-28T07:05:30.768Z"
   },
   {
    "duration": 60,
    "start_time": "2023-09-28T07:05:30.848Z"
   },
   {
    "duration": 60,
    "start_time": "2023-09-28T07:05:30.910Z"
   },
   {
    "duration": 182,
    "start_time": "2023-09-28T07:05:30.972Z"
   },
   {
    "duration": 1448,
    "start_time": "2023-09-28T07:05:31.156Z"
   },
   {
    "duration": 973,
    "start_time": "2023-09-28T07:05:32.607Z"
   },
   {
    "duration": 389,
    "start_time": "2023-09-28T07:05:33.582Z"
   },
   {
    "duration": 7,
    "start_time": "2023-09-28T07:05:33.973Z"
   },
   {
    "duration": 397,
    "start_time": "2023-09-28T07:05:33.981Z"
   },
   {
    "duration": 5,
    "start_time": "2023-09-28T07:05:34.380Z"
   },
   {
    "duration": 36,
    "start_time": "2023-09-28T07:05:34.387Z"
   },
   {
    "duration": 38,
    "start_time": "2023-09-28T07:05:34.425Z"
   },
   {
    "duration": 422,
    "start_time": "2023-09-28T07:05:34.465Z"
   },
   {
    "duration": 5,
    "start_time": "2023-09-28T07:05:34.889Z"
   },
   {
    "duration": 18,
    "start_time": "2023-09-28T07:05:34.910Z"
   },
   {
    "duration": 35,
    "start_time": "2023-09-28T07:05:34.930Z"
   },
   {
    "duration": 238,
    "start_time": "2023-09-28T07:05:34.967Z"
   },
   {
    "duration": 259,
    "start_time": "2023-09-28T07:05:35.209Z"
   },
   {
    "duration": 5,
    "start_time": "2023-09-28T07:05:35.469Z"
   },
   {
    "duration": 205,
    "start_time": "2023-09-28T07:05:35.476Z"
   },
   {
    "duration": 196,
    "start_time": "2023-09-28T07:05:35.684Z"
   },
   {
    "duration": 181,
    "start_time": "2023-09-28T07:05:35.882Z"
   },
   {
    "duration": 275,
    "start_time": "2023-09-28T07:05:36.065Z"
   },
   {
    "duration": 170,
    "start_time": "2023-09-28T07:05:36.342Z"
   },
   {
    "duration": 190,
    "start_time": "2023-09-28T07:05:36.513Z"
   },
   {
    "duration": 4,
    "start_time": "2023-09-28T07:05:36.708Z"
   },
   {
    "duration": 195,
    "start_time": "2023-09-28T07:05:36.714Z"
   },
   {
    "duration": 173,
    "start_time": "2023-09-28T07:05:36.911Z"
   },
   {
    "duration": 194,
    "start_time": "2023-09-28T07:05:37.086Z"
   },
   {
    "duration": 14,
    "start_time": "2023-09-28T07:05:37.282Z"
   },
   {
    "duration": 66,
    "start_time": "2023-09-28T07:05:37.310Z"
   }
  ],
  "kernelspec": {
   "display_name": "Python 3 (ipykernel)",
   "language": "python",
   "name": "python3"
  },
  "language_info": {
   "codemirror_mode": {
    "name": "ipython",
    "version": 3
   },
   "file_extension": ".py",
   "mimetype": "text/x-python",
   "name": "python",
   "nbconvert_exporter": "python",
   "pygments_lexer": "ipython3",
   "version": "3.9.5"
  },
  "toc": {
   "base_numbering": 1,
   "nav_menu": {},
   "number_sections": true,
   "sideBar": true,
   "skip_h1_title": true,
   "title_cell": "Table of Contents",
   "title_sidebar": "Contents",
   "toc_cell": false,
   "toc_position": {},
   "toc_section_display": true,
   "toc_window_display": false
  }
 },
 "nbformat": 4,
 "nbformat_minor": 5
}
