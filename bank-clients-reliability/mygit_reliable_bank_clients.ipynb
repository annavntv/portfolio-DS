{
 "cells": [
  {
   "cell_type": "markdown",
   "id": "7b033efa-c32e-4696-8a5e-0d4a83eb0304",
   "metadata": {},
   "source": [
    "# Исследование надежности заемщиков\n"
   ]
  },
  {
   "cell_type": "markdown",
   "id": "3d04b943-4955-4dc4-8d36-50b045f59a6c",
   "metadata": {},
   "source": [
    "Цель исследования — проверить надежность заемщиков по избранным характеристикам.\n",
    "\n",
    "Многие факторы влияют на надежность заемщиков в глазах банка. Среди них - **количество детей у клиента, семейное положение, уровень дохода и цель кредита.**\n",
    "Необходимо оценить зависимость возврата кредита в срок от вышеперечисленных характеристик клиентов.\n",
    "\n",
    "Данные о клиентах находятся в файле data.csv. О качестве данных ничего не известно. Поэтому перед проверкой гипотез понадобится обзор данных.\n",
    "На этапе предобработки необходимо исправить самые критичные ошибки данных - убрать пропуски, обработать дубликаты, аномальные значения.\n",
    "\n",
    "Исследование пройдёт в три этапа:\n",
    "1. Обзор данных.\n",
    "2. Предобработка данных.\n",
    "3. Проверка гипотез."
   ]
  },
  {
   "cell_type": "markdown",
   "id": "77597803-b7d3-4d55-9d90-894b1987094a",
   "metadata": {},
   "source": [
    "## Обзор данных"
   ]
  },
  {
   "cell_type": "code",
   "execution_count": 1,
   "id": "0f57ee42-8d7f-4ff5-bdfa-5baf37f597c7",
   "metadata": {},
   "outputs": [],
   "source": [
    "# импортируем библиотеку\n",
    "import pandas as pd\n",
    "#прочитаем файл\n",
    "data = pd.read_csv('data.csv')"
   ]
  },
  {
   "cell_type": "code",
   "execution_count": 2,
   "id": "9d6c3e3b-34a1-4950-b229-8a0c556984e8",
   "metadata": {},
   "outputs": [
    {
     "data": {
      "text/html": [
       "<div>\n",
       "<style scoped>\n",
       "    .dataframe tbody tr th:only-of-type {\n",
       "        vertical-align: middle;\n",
       "    }\n",
       "\n",
       "    .dataframe tbody tr th {\n",
       "        vertical-align: top;\n",
       "    }\n",
       "\n",
       "    .dataframe thead th {\n",
       "        text-align: right;\n",
       "    }\n",
       "</style>\n",
       "<table border=\"1\" class=\"dataframe\">\n",
       "  <thead>\n",
       "    <tr style=\"text-align: right;\">\n",
       "      <th></th>\n",
       "      <th>children</th>\n",
       "      <th>days_employed</th>\n",
       "      <th>dob_years</th>\n",
       "      <th>education</th>\n",
       "      <th>education_id</th>\n",
       "      <th>family_status</th>\n",
       "      <th>family_status_id</th>\n",
       "      <th>gender</th>\n",
       "      <th>income_type</th>\n",
       "      <th>debt</th>\n",
       "      <th>total_income</th>\n",
       "      <th>purpose</th>\n",
       "    </tr>\n",
       "  </thead>\n",
       "  <tbody>\n",
       "    <tr>\n",
       "      <th>0</th>\n",
       "      <td>1</td>\n",
       "      <td>-8437.673028</td>\n",
       "      <td>42</td>\n",
       "      <td>высшее</td>\n",
       "      <td>0</td>\n",
       "      <td>женат / замужем</td>\n",
       "      <td>0</td>\n",
       "      <td>F</td>\n",
       "      <td>сотрудник</td>\n",
       "      <td>0</td>\n",
       "      <td>253875.639453</td>\n",
       "      <td>покупка жилья</td>\n",
       "    </tr>\n",
       "    <tr>\n",
       "      <th>1</th>\n",
       "      <td>1</td>\n",
       "      <td>-4024.803754</td>\n",
       "      <td>36</td>\n",
       "      <td>среднее</td>\n",
       "      <td>1</td>\n",
       "      <td>женат / замужем</td>\n",
       "      <td>0</td>\n",
       "      <td>F</td>\n",
       "      <td>сотрудник</td>\n",
       "      <td>0</td>\n",
       "      <td>112080.014102</td>\n",
       "      <td>приобретение автомобиля</td>\n",
       "    </tr>\n",
       "    <tr>\n",
       "      <th>2</th>\n",
       "      <td>0</td>\n",
       "      <td>-5623.422610</td>\n",
       "      <td>33</td>\n",
       "      <td>Среднее</td>\n",
       "      <td>1</td>\n",
       "      <td>женат / замужем</td>\n",
       "      <td>0</td>\n",
       "      <td>M</td>\n",
       "      <td>сотрудник</td>\n",
       "      <td>0</td>\n",
       "      <td>145885.952297</td>\n",
       "      <td>покупка жилья</td>\n",
       "    </tr>\n",
       "    <tr>\n",
       "      <th>3</th>\n",
       "      <td>3</td>\n",
       "      <td>-4124.747207</td>\n",
       "      <td>32</td>\n",
       "      <td>среднее</td>\n",
       "      <td>1</td>\n",
       "      <td>женат / замужем</td>\n",
       "      <td>0</td>\n",
       "      <td>M</td>\n",
       "      <td>сотрудник</td>\n",
       "      <td>0</td>\n",
       "      <td>267628.550329</td>\n",
       "      <td>дополнительное образование</td>\n",
       "    </tr>\n",
       "    <tr>\n",
       "      <th>4</th>\n",
       "      <td>0</td>\n",
       "      <td>340266.072047</td>\n",
       "      <td>53</td>\n",
       "      <td>среднее</td>\n",
       "      <td>1</td>\n",
       "      <td>гражданский брак</td>\n",
       "      <td>1</td>\n",
       "      <td>F</td>\n",
       "      <td>пенсионер</td>\n",
       "      <td>0</td>\n",
       "      <td>158616.077870</td>\n",
       "      <td>сыграть свадьбу</td>\n",
       "    </tr>\n",
       "    <tr>\n",
       "      <th>5</th>\n",
       "      <td>0</td>\n",
       "      <td>-926.185831</td>\n",
       "      <td>27</td>\n",
       "      <td>высшее</td>\n",
       "      <td>0</td>\n",
       "      <td>гражданский брак</td>\n",
       "      <td>1</td>\n",
       "      <td>M</td>\n",
       "      <td>компаньон</td>\n",
       "      <td>0</td>\n",
       "      <td>255763.565419</td>\n",
       "      <td>покупка жилья</td>\n",
       "    </tr>\n",
       "    <tr>\n",
       "      <th>6</th>\n",
       "      <td>0</td>\n",
       "      <td>-2879.202052</td>\n",
       "      <td>43</td>\n",
       "      <td>высшее</td>\n",
       "      <td>0</td>\n",
       "      <td>женат / замужем</td>\n",
       "      <td>0</td>\n",
       "      <td>F</td>\n",
       "      <td>компаньон</td>\n",
       "      <td>0</td>\n",
       "      <td>240525.971920</td>\n",
       "      <td>операции с жильем</td>\n",
       "    </tr>\n",
       "    <tr>\n",
       "      <th>7</th>\n",
       "      <td>0</td>\n",
       "      <td>-152.779569</td>\n",
       "      <td>50</td>\n",
       "      <td>СРЕДНЕЕ</td>\n",
       "      <td>1</td>\n",
       "      <td>женат / замужем</td>\n",
       "      <td>0</td>\n",
       "      <td>M</td>\n",
       "      <td>сотрудник</td>\n",
       "      <td>0</td>\n",
       "      <td>135823.934197</td>\n",
       "      <td>образование</td>\n",
       "    </tr>\n",
       "    <tr>\n",
       "      <th>8</th>\n",
       "      <td>2</td>\n",
       "      <td>-6929.865299</td>\n",
       "      <td>35</td>\n",
       "      <td>ВЫСШЕЕ</td>\n",
       "      <td>0</td>\n",
       "      <td>гражданский брак</td>\n",
       "      <td>1</td>\n",
       "      <td>F</td>\n",
       "      <td>сотрудник</td>\n",
       "      <td>0</td>\n",
       "      <td>95856.832424</td>\n",
       "      <td>на проведение свадьбы</td>\n",
       "    </tr>\n",
       "    <tr>\n",
       "      <th>9</th>\n",
       "      <td>0</td>\n",
       "      <td>-2188.756445</td>\n",
       "      <td>41</td>\n",
       "      <td>среднее</td>\n",
       "      <td>1</td>\n",
       "      <td>женат / замужем</td>\n",
       "      <td>0</td>\n",
       "      <td>M</td>\n",
       "      <td>сотрудник</td>\n",
       "      <td>0</td>\n",
       "      <td>144425.938277</td>\n",
       "      <td>покупка жилья для семьи</td>\n",
       "    </tr>\n",
       "    <tr>\n",
       "      <th>10</th>\n",
       "      <td>2</td>\n",
       "      <td>-4171.483647</td>\n",
       "      <td>36</td>\n",
       "      <td>высшее</td>\n",
       "      <td>0</td>\n",
       "      <td>женат / замужем</td>\n",
       "      <td>0</td>\n",
       "      <td>M</td>\n",
       "      <td>компаньон</td>\n",
       "      <td>0</td>\n",
       "      <td>113943.491460</td>\n",
       "      <td>покупка недвижимости</td>\n",
       "    </tr>\n",
       "    <tr>\n",
       "      <th>11</th>\n",
       "      <td>0</td>\n",
       "      <td>-792.701887</td>\n",
       "      <td>40</td>\n",
       "      <td>среднее</td>\n",
       "      <td>1</td>\n",
       "      <td>женат / замужем</td>\n",
       "      <td>0</td>\n",
       "      <td>F</td>\n",
       "      <td>сотрудник</td>\n",
       "      <td>0</td>\n",
       "      <td>77069.234271</td>\n",
       "      <td>покупка коммерческой недвижимости</td>\n",
       "    </tr>\n",
       "    <tr>\n",
       "      <th>12</th>\n",
       "      <td>0</td>\n",
       "      <td>NaN</td>\n",
       "      <td>65</td>\n",
       "      <td>среднее</td>\n",
       "      <td>1</td>\n",
       "      <td>гражданский брак</td>\n",
       "      <td>1</td>\n",
       "      <td>M</td>\n",
       "      <td>пенсионер</td>\n",
       "      <td>0</td>\n",
       "      <td>NaN</td>\n",
       "      <td>сыграть свадьбу</td>\n",
       "    </tr>\n",
       "    <tr>\n",
       "      <th>13</th>\n",
       "      <td>0</td>\n",
       "      <td>-1846.641941</td>\n",
       "      <td>54</td>\n",
       "      <td>неоконченное высшее</td>\n",
       "      <td>2</td>\n",
       "      <td>женат / замужем</td>\n",
       "      <td>0</td>\n",
       "      <td>F</td>\n",
       "      <td>сотрудник</td>\n",
       "      <td>0</td>\n",
       "      <td>130458.228857</td>\n",
       "      <td>приобретение автомобиля</td>\n",
       "    </tr>\n",
       "    <tr>\n",
       "      <th>14</th>\n",
       "      <td>0</td>\n",
       "      <td>-1844.956182</td>\n",
       "      <td>56</td>\n",
       "      <td>высшее</td>\n",
       "      <td>0</td>\n",
       "      <td>гражданский брак</td>\n",
       "      <td>1</td>\n",
       "      <td>F</td>\n",
       "      <td>компаньон</td>\n",
       "      <td>1</td>\n",
       "      <td>165127.911772</td>\n",
       "      <td>покупка жилой недвижимости</td>\n",
       "    </tr>\n",
       "    <tr>\n",
       "      <th>15</th>\n",
       "      <td>1</td>\n",
       "      <td>-972.364419</td>\n",
       "      <td>26</td>\n",
       "      <td>среднее</td>\n",
       "      <td>1</td>\n",
       "      <td>женат / замужем</td>\n",
       "      <td>0</td>\n",
       "      <td>F</td>\n",
       "      <td>сотрудник</td>\n",
       "      <td>0</td>\n",
       "      <td>116820.904450</td>\n",
       "      <td>строительство собственной недвижимости</td>\n",
       "    </tr>\n",
       "    <tr>\n",
       "      <th>16</th>\n",
       "      <td>0</td>\n",
       "      <td>-1719.934226</td>\n",
       "      <td>35</td>\n",
       "      <td>среднее</td>\n",
       "      <td>1</td>\n",
       "      <td>женат / замужем</td>\n",
       "      <td>0</td>\n",
       "      <td>F</td>\n",
       "      <td>сотрудник</td>\n",
       "      <td>0</td>\n",
       "      <td>289202.704229</td>\n",
       "      <td>недвижимость</td>\n",
       "    </tr>\n",
       "    <tr>\n",
       "      <th>17</th>\n",
       "      <td>0</td>\n",
       "      <td>-2369.999720</td>\n",
       "      <td>33</td>\n",
       "      <td>высшее</td>\n",
       "      <td>0</td>\n",
       "      <td>гражданский брак</td>\n",
       "      <td>1</td>\n",
       "      <td>M</td>\n",
       "      <td>сотрудник</td>\n",
       "      <td>0</td>\n",
       "      <td>90410.586745</td>\n",
       "      <td>строительство недвижимости</td>\n",
       "    </tr>\n",
       "    <tr>\n",
       "      <th>18</th>\n",
       "      <td>0</td>\n",
       "      <td>400281.136913</td>\n",
       "      <td>53</td>\n",
       "      <td>среднее</td>\n",
       "      <td>1</td>\n",
       "      <td>вдовец / вдова</td>\n",
       "      <td>2</td>\n",
       "      <td>F</td>\n",
       "      <td>пенсионер</td>\n",
       "      <td>0</td>\n",
       "      <td>56823.777243</td>\n",
       "      <td>на покупку подержанного автомобиля</td>\n",
       "    </tr>\n",
       "    <tr>\n",
       "      <th>19</th>\n",
       "      <td>0</td>\n",
       "      <td>-10038.818549</td>\n",
       "      <td>48</td>\n",
       "      <td>СРЕДНЕЕ</td>\n",
       "      <td>1</td>\n",
       "      <td>в разводе</td>\n",
       "      <td>3</td>\n",
       "      <td>F</td>\n",
       "      <td>сотрудник</td>\n",
       "      <td>0</td>\n",
       "      <td>242831.107982</td>\n",
       "      <td>на покупку своего автомобиля</td>\n",
       "    </tr>\n",
       "  </tbody>\n",
       "</table>\n",
       "</div>"
      ],
      "text/plain": [
       "    children  days_employed  dob_years            education  education_id  \\\n",
       "0          1   -8437.673028         42               высшее             0   \n",
       "1          1   -4024.803754         36              среднее             1   \n",
       "2          0   -5623.422610         33              Среднее             1   \n",
       "3          3   -4124.747207         32              среднее             1   \n",
       "4          0  340266.072047         53              среднее             1   \n",
       "5          0    -926.185831         27               высшее             0   \n",
       "6          0   -2879.202052         43               высшее             0   \n",
       "7          0    -152.779569         50              СРЕДНЕЕ             1   \n",
       "8          2   -6929.865299         35               ВЫСШЕЕ             0   \n",
       "9          0   -2188.756445         41              среднее             1   \n",
       "10         2   -4171.483647         36               высшее             0   \n",
       "11         0    -792.701887         40              среднее             1   \n",
       "12         0            NaN         65              среднее             1   \n",
       "13         0   -1846.641941         54  неоконченное высшее             2   \n",
       "14         0   -1844.956182         56               высшее             0   \n",
       "15         1    -972.364419         26              среднее             1   \n",
       "16         0   -1719.934226         35              среднее             1   \n",
       "17         0   -2369.999720         33               высшее             0   \n",
       "18         0  400281.136913         53              среднее             1   \n",
       "19         0  -10038.818549         48              СРЕДНЕЕ             1   \n",
       "\n",
       "       family_status  family_status_id gender income_type  debt  \\\n",
       "0    женат / замужем                 0      F   сотрудник     0   \n",
       "1    женат / замужем                 0      F   сотрудник     0   \n",
       "2    женат / замужем                 0      M   сотрудник     0   \n",
       "3    женат / замужем                 0      M   сотрудник     0   \n",
       "4   гражданский брак                 1      F   пенсионер     0   \n",
       "5   гражданский брак                 1      M   компаньон     0   \n",
       "6    женат / замужем                 0      F   компаньон     0   \n",
       "7    женат / замужем                 0      M   сотрудник     0   \n",
       "8   гражданский брак                 1      F   сотрудник     0   \n",
       "9    женат / замужем                 0      M   сотрудник     0   \n",
       "10   женат / замужем                 0      M   компаньон     0   \n",
       "11   женат / замужем                 0      F   сотрудник     0   \n",
       "12  гражданский брак                 1      M   пенсионер     0   \n",
       "13   женат / замужем                 0      F   сотрудник     0   \n",
       "14  гражданский брак                 1      F   компаньон     1   \n",
       "15   женат / замужем                 0      F   сотрудник     0   \n",
       "16   женат / замужем                 0      F   сотрудник     0   \n",
       "17  гражданский брак                 1      M   сотрудник     0   \n",
       "18    вдовец / вдова                 2      F   пенсионер     0   \n",
       "19         в разводе                 3      F   сотрудник     0   \n",
       "\n",
       "     total_income                                 purpose  \n",
       "0   253875.639453                           покупка жилья  \n",
       "1   112080.014102                 приобретение автомобиля  \n",
       "2   145885.952297                           покупка жилья  \n",
       "3   267628.550329              дополнительное образование  \n",
       "4   158616.077870                         сыграть свадьбу  \n",
       "5   255763.565419                           покупка жилья  \n",
       "6   240525.971920                       операции с жильем  \n",
       "7   135823.934197                             образование  \n",
       "8    95856.832424                   на проведение свадьбы  \n",
       "9   144425.938277                 покупка жилья для семьи  \n",
       "10  113943.491460                    покупка недвижимости  \n",
       "11   77069.234271       покупка коммерческой недвижимости  \n",
       "12            NaN                         сыграть свадьбу  \n",
       "13  130458.228857                 приобретение автомобиля  \n",
       "14  165127.911772              покупка жилой недвижимости  \n",
       "15  116820.904450  строительство собственной недвижимости  \n",
       "16  289202.704229                            недвижимость  \n",
       "17   90410.586745              строительство недвижимости  \n",
       "18   56823.777243      на покупку подержанного автомобиля  \n",
       "19  242831.107982            на покупку своего автомобиля  "
      ]
     },
     "execution_count": 2,
     "metadata": {},
     "output_type": "execute_result"
    }
   ],
   "source": [
    "#откроем первые элементы таблицы\n",
    "data.head(20)"
   ]
  },
  {
   "cell_type": "markdown",
   "id": "4373e460-98f5-4c73-bbbc-fbe082140d64",
   "metadata": {},
   "source": [
    "Видим, что в колонках `days_employed` и `total_income` есть пропуски.\n",
    "\n",
    "В колонке `days_employed` есть аномальные значения - отрицательные величины.\n",
    "\n",
    "В колонке `education` есть неявные дубликаты, которые могут мешать исследованию (в частности, группировке данных).\n"
   ]
  },
  {
   "cell_type": "code",
   "execution_count": 3,
   "id": "45593575-4d57-4179-a8ef-e0a8a34179dd",
   "metadata": {
    "tags": []
   },
   "outputs": [
    {
     "name": "stdout",
     "output_type": "stream",
     "text": [
      "<class 'pandas.core.frame.DataFrame'>\n",
      "RangeIndex: 21525 entries, 0 to 21524\n",
      "Data columns (total 12 columns):\n",
      " #   Column            Non-Null Count  Dtype  \n",
      "---  ------            --------------  -----  \n",
      " 0   children          21525 non-null  int64  \n",
      " 1   days_employed     19351 non-null  float64\n",
      " 2   dob_years         21525 non-null  int64  \n",
      " 3   education         21525 non-null  object \n",
      " 4   education_id      21525 non-null  int64  \n",
      " 5   family_status     21525 non-null  object \n",
      " 6   family_status_id  21525 non-null  int64  \n",
      " 7   gender            21525 non-null  object \n",
      " 8   income_type       21525 non-null  object \n",
      " 9   debt              21525 non-null  int64  \n",
      " 10  total_income      19351 non-null  float64\n",
      " 11  purpose           21525 non-null  object \n",
      "dtypes: float64(2), int64(5), object(5)\n",
      "memory usage: 2.0+ MB\n"
     ]
    }
   ],
   "source": [
    "#посмотрим инфо о данных\n",
    "data.info()"
   ]
  },
  {
   "cell_type": "markdown",
   "id": "d8107e46-bb47-4788-be74-d37183f1614e",
   "metadata": {},
   "source": [
    "Дополнительно подтверждаем наличие довольно значительного числа пропусков в `days_employed` и `total_income`. \n",
    "\n",
    "Также логично будет изменить тип данных в `days_employed` и `total_income` на целочисленный."
   ]
  },
  {
   "cell_type": "markdown",
   "id": "985e406f-f148-4543-b118-c1b9da12b9ed",
   "metadata": {},
   "source": [
    "**Выводы**\n",
    "\n",
    "Файл с данными анализа представлен таблицей с характеритиками о клиентах. В таблице указаны данные 21525 клиентов по 12 характеристикам (столбцам): children — количество детей в семье; days_employed — общий трудовой стаж в днях; dob_years — возраст клиента в годах; education — уровень образования клиента; education_id — идентификатор уровня образования, family_status — семейное положение; family_status_id — идентификатор семейного положения; gender — пол клиента; income_type — тип занятости; debt — имел ли задолженность по возврату кредитов; total_income — ежемесячный доход; purpose — цель получения кредита.\n",
    "\n",
    "Представление данных имеет свои недостатки - аномалии, пропуски, дубликаты , которые уберем в ходе предобработки данных.\n",
    "           "
   ]
  },
  {
   "cell_type": "markdown",
   "id": "c69985e8-f6a5-47c2-8064-e440c1a0c717",
   "metadata": {},
   "source": [
    "## Предобработка данных"
   ]
  },
  {
   "cell_type": "markdown",
   "id": "a0a748ef-797d-499a-a388-03b47407ede8",
   "metadata": {},
   "source": [
    "### Обработка аномальных значений"
   ]
  },
  {
   "cell_type": "markdown",
   "id": "695419e5-c740-4eda-ae7d-965f883c0f7d",
   "metadata": {},
   "source": [
    "Артефактом будет отрицательное количество дней трудового стажа в столбце `days_employed`. Заменим все отрицательные значения положительными с помощью метода `abs()`."
   ]
  },
  {
   "cell_type": "code",
   "execution_count": 4,
   "id": "50e14c1c-044e-4c90-af4a-c0f4bd9ade6b",
   "metadata": {},
   "outputs": [],
   "source": [
    "data['days_employed'] = data['days_employed'].abs()"
   ]
  },
  {
   "cell_type": "markdown",
   "id": "23aef028-9c95-42e5-bbfa-00e9db8d5461",
   "metadata": {},
   "source": [
    "В столбце `children` тоже есть аномальные значения. Уберем их."
   ]
  },
  {
   "cell_type": "code",
   "execution_count": 5,
   "id": "cc688623-2d26-403c-9eb5-18082b5c242a",
   "metadata": {
    "tags": []
   },
   "outputs": [
    {
     "data": {
      "text/plain": [
       "array([ 1,  0,  3,  2, -1,  4, 20,  5], dtype=int64)"
      ]
     },
     "execution_count": 5,
     "metadata": {},
     "output_type": "execute_result"
    }
   ],
   "source": [
    "data['children'].unique()"
   ]
  },
  {
   "cell_type": "code",
   "execution_count": 6,
   "id": "92a02b6e-3141-4042-9bc5-e2060a2364b8",
   "metadata": {},
   "outputs": [],
   "source": [
    "data = data[(data['children'] != -1) & (data['children'] != 20)]"
   ]
  },
  {
   "cell_type": "markdown",
   "id": "6beec0b3-2f89-489b-a60a-31d5348b3cd5",
   "metadata": {},
   "source": [
    "Посмотрев медианные значения в колонке `total_income` по видам занятости, увидим, что медианные значения дохода некоторых групп клиентов банка  (безработных и пенсионеров) аномально большие. Исправить это сложно, поэтому оставим их как есть. Тем более, что мы не будем напрямую использовать эту колонку в исследовании."
   ]
  },
  {
   "cell_type": "code",
   "execution_count": 7,
   "id": "47cd9c4b-3a5c-4c4f-b6d6-b6a8d8e5328f",
   "metadata": {},
   "outputs": [
    {
     "data": {
      "text/plain": [
       "income_type\n",
       "безработный        366413.652744\n",
       "в декрете            3296.759962\n",
       "госслужащий          2689.137274\n",
       "компаньон            1555.947387\n",
       "пенсионер          365286.622650\n",
       "предприниматель       520.848083\n",
       "сотрудник            1572.328285\n",
       "студент               578.751554\n",
       "Name: days_employed, dtype: float64"
      ]
     },
     "execution_count": 7,
     "metadata": {},
     "output_type": "execute_result"
    }
   ],
   "source": [
    "data.groupby('income_type')['days_employed'].agg('median')"
   ]
  },
  {
   "cell_type": "markdown",
   "id": "790c35ca-20a2-47f0-bbf5-1152ce6d8c0a",
   "metadata": {},
   "source": [
    "### Обработка дубликатов"
   ]
  },
  {
   "cell_type": "markdown",
   "id": "693a2e5b-9439-467d-9329-defea4d2e88f",
   "metadata": {},
   "source": [
    "Обработаем неявные дубликаты в столбце `education`. В этом столбце есть одни и те же значения, но записанные по-разному: с использованием заглавных и строчных букв. Приведем их к нижнему регистру."
   ]
  },
  {
   "cell_type": "code",
   "execution_count": 9,
   "id": "d4216052-262e-4035-9931-b1672dd0aa4f",
   "metadata": {},
   "outputs": [],
   "source": [
    "data['education'] = data['education'].str.lower()"
   ]
  },
  {
   "cell_type": "markdown",
   "id": "80891f31-3ed9-4669-8bfa-e11c9d9ccdf1",
   "metadata": {},
   "source": [
    "Посмотрим, есть ли еще дубликаты в датасете."
   ]
  },
  {
   "cell_type": "code",
   "execution_count": 10,
   "id": "ce29aee2-729d-446d-8b4b-0e60a7c3bc80",
   "metadata": {},
   "outputs": [
    {
     "data": {
      "text/plain": [
       "71"
      ]
     },
     "execution_count": 10,
     "metadata": {},
     "output_type": "execute_result"
    }
   ],
   "source": [
    "data.duplicated().sum()"
   ]
  },
  {
   "cell_type": "code",
   "execution_count": 11,
   "id": "da1d2d40-4442-4038-90c1-1353999a5e0e",
   "metadata": {},
   "outputs": [],
   "source": [
    "#есть , поэтому убираем строки-дубликаты\n",
    "data = data.drop_duplicates()"
   ]
  },
  {
   "cell_type": "markdown",
   "id": "dcc3cbce-2a46-47d6-ae39-c607505e50e2",
   "metadata": {},
   "source": [
    "### Удаление пропусков"
   ]
  },
  {
   "cell_type": "code",
   "execution_count": 12,
   "id": "32f8ce6f-b854-438b-b462-4e57ca27dd2f",
   "metadata": {},
   "outputs": [
    {
     "data": {
      "text/plain": [
       "children               0\n",
       "days_employed       2091\n",
       "dob_years              0\n",
       "education              0\n",
       "education_id           0\n",
       "family_status          0\n",
       "family_status_id       0\n",
       "gender                 0\n",
       "income_type            0\n",
       "debt                   0\n",
       "total_income        2091\n",
       "purpose                0\n",
       "dtype: int64"
      ]
     },
     "execution_count": 12,
     "metadata": {},
     "output_type": "execute_result"
    }
   ],
   "source": [
    "#еще раз оценим количество пропусков \n",
    "data.isna().sum()"
   ]
  },
  {
   "cell_type": "markdown",
   "id": "47aa34a2-cf0d-4a71-8e48-2bd1932581ee",
   "metadata": {},
   "source": [
    "Обработаем пропуски в столбце `total_income` и `days_employed`. Заменим пропуски на медианные значения по виду занятности `income_type`.    "
   ]
  },
  {
   "cell_type": "code",
   "execution_count": 13,
   "id": "4e8e434a-4f10-44f9-bf59-ab8c4775dcd6",
   "metadata": {},
   "outputs": [],
   "source": [
    "# по доходу\n",
    "for t in data['income_type'].unique():\n",
    "    income_median = data.loc[(data['income_type'] == t), 'total_income'].median()\n",
    "    data.loc[(data['income_type'] == t) & (data['total_income'].isna()), 'total_income'] = income_median"
   ]
  },
  {
   "cell_type": "code",
   "execution_count": 14,
   "id": "ba31709a-422c-4703-bbb3-68374cb17d5a",
   "metadata": {},
   "outputs": [],
   "source": [
    "# по трудовому стажу\n",
    "for t in data['income_type'].unique():\n",
    "    data.loc[(data['income_type'] == t) & (data['days_employed'].isna()), 'days_employed'] = \\\n",
    "    data.loc[(data['income_type'] == t), 'days_employed'].median()"
   ]
  },
  {
   "cell_type": "code",
   "execution_count": 15,
   "id": "feb6651b-73d6-4fa1-8c08-d8c3f16e178e",
   "metadata": {},
   "outputs": [
    {
     "data": {
      "text/plain": [
       "children            0\n",
       "days_employed       0\n",
       "dob_years           0\n",
       "education           0\n",
       "education_id        0\n",
       "family_status       0\n",
       "family_status_id    0\n",
       "gender              0\n",
       "income_type         0\n",
       "debt                0\n",
       "total_income        0\n",
       "purpose             0\n",
       "dtype: int64"
      ]
     },
     "execution_count": 15,
     "metadata": {},
     "output_type": "execute_result"
    }
   ],
   "source": [
    "#проверим остались ли пропуски в столбце\n",
    "data.isna().sum()\n",
    "#заполнено"
   ]
  },
  {
   "cell_type": "markdown",
   "id": "3abd9908-65cb-469a-b52e-50fdc034e881",
   "metadata": {},
   "source": [
    "### Изменение типов данных"
   ]
  },
  {
   "cell_type": "markdown",
   "id": "e5ab02a7-8a1a-4bb0-b74c-9e9c3370fc4e",
   "metadata": {},
   "source": [
    "Заменим вещесттвенный тип данных в столбцах `days_employed` и `total_income` на целочисленный."
   ]
  },
  {
   "cell_type": "code",
   "execution_count": 16,
   "id": "db4ca359-22fe-4297-bebd-33cebc204a89",
   "metadata": {},
   "outputs": [],
   "source": [
    "data['total_income'] = data['total_income'].astype(int)"
   ]
  },
  {
   "cell_type": "code",
   "execution_count": 17,
   "id": "cd42d023-a059-4161-80c3-e7cec9c67244",
   "metadata": {},
   "outputs": [],
   "source": [
    "data['days_employed'] = data['days_employed'].astype(int)"
   ]
  },
  {
   "cell_type": "markdown",
   "id": "076a36ce-d822-4fbd-ae7d-e7516ea05c07",
   "metadata": {},
   "source": [
    "### Категоризация данных"
   ]
  },
  {
   "cell_type": "markdown",
   "id": "917934b8-fff4-4871-80a3-5eaef8379f4c",
   "metadata": {},
   "source": [
    "На основании диапазонов, указанных ниже, создадим в датафрейме `data` столбец `total_income_category` с категориями:\n",
    "\n",
    "- 0–30000 — `'E'`;\n",
    "- 30001–50000 — `'D'`;\n",
    "- 50001–200000 — `'C'`;\n",
    "- 200001–1000000 — `'B'`;\n",
    "- 1000001 и выше — `'A'`.\n"
   ]
  },
  {
   "cell_type": "code",
   "execution_count": 18,
   "id": "5a8b0e2f-f0ba-4023-ba32-4f261725f200",
   "metadata": {},
   "outputs": [],
   "source": [
    "def categorize_income(income):\n",
    "    try:\n",
    "        if 0 <= income <= 30000:\n",
    "            return 'E'\n",
    "        elif 30001 <= income <= 50000:\n",
    "            return 'D'\n",
    "        elif 50001 <= income <= 200000:\n",
    "            return 'C'\n",
    "        elif 200001 <= income <= 1000000:\n",
    "            return 'B'\n",
    "        elif income >= 1000001:\n",
    "            return 'A'\n",
    "    except:\n",
    "        pass"
   ]
  },
  {
   "cell_type": "code",
   "execution_count": 19,
   "id": "727eecd2-bcc9-4840-a4ea-591699bea0e2",
   "metadata": {},
   "outputs": [],
   "source": [
    "data['total_income_category'] = data['total_income'].apply(categorize_income)"
   ]
  },
  {
   "cell_type": "markdown",
   "id": "a4b41f01-17ab-4178-acdc-fb3695fe27ed",
   "metadata": {},
   "source": [
    "Категоризируем цели кредита (значения в колонке `purpose`) по группам:\n",
    "\n",
    "- `'операции с автомобилем'`,\n",
    "- `'операции с недвижимостью'`,\n",
    "- `'проведение свадьбы'`,\n",
    "- `'получение образования'`."
   ]
  },
  {
   "cell_type": "code",
   "execution_count": 20,
   "id": "3ad6e3c5-bfad-4147-b0ce-79a8dc898b82",
   "metadata": {},
   "outputs": [],
   "source": [
    "def categorize_purpose(row):\n",
    "    try:\n",
    "        if 'автом' in row:\n",
    "            return 'операции с автомобилем'\n",
    "        elif 'жил' in row or 'недвиж' in row:\n",
    "            return 'операции с недвижимостью'\n",
    "        elif 'свад' in row:\n",
    "            return 'проведение свадьбы'\n",
    "        elif 'образов' in row:\n",
    "            return 'получение образования'\n",
    "    except:\n",
    "        return 'нет категории'"
   ]
  },
  {
   "cell_type": "code",
   "execution_count": 21,
   "id": "0d78d16e-c55d-41a7-9565-18fff341aa26",
   "metadata": {},
   "outputs": [],
   "source": [
    "data['purpose_category'] = data['purpose'].apply(categorize_purpose)"
   ]
  },
  {
   "cell_type": "markdown",
   "id": "c77a51c8-66b3-45f2-bdde-40e228d99586",
   "metadata": {},
   "source": [
    "## Исследование данных"
   ]
  },
  {
   "cell_type": "markdown",
   "id": "051866f0-b0c0-45ac-9b37-25dbcf144e50",
   "metadata": {},
   "source": [
    "### 1. Есть ли зависимость между количеством детей и возвратом кредита в срок?"
   ]
  },
  {
   "cell_type": "markdown",
   "id": "89993e09-e043-4eab-8670-3136f61483d3",
   "metadata": {},
   "source": [
    "Чтобы это узнать, сгруппируем данные по количеству детей и посмотрим, много ли людей в разных группах имели задолженности по кредитам."
   ]
  },
  {
   "cell_type": "code",
   "execution_count": 22,
   "id": "cf48a760-d53a-4b0c-ba52-6b48772dff6b",
   "metadata": {
    "id": "2cacfc4a",
    "tags": []
   },
   "outputs": [
    {
     "data": {
      "text/plain": [
       "children\n",
       "0    1063\n",
       "1     444\n",
       "2     194\n",
       "3      27\n",
       "4       4\n",
       "5       0\n",
       "Name: debt, dtype: int64"
      ]
     },
     "execution_count": 22,
     "metadata": {},
     "output_type": "execute_result"
    }
   ],
   "source": [
    "data.groupby('children')['debt'].sum()"
   ]
  },
  {
   "cell_type": "markdown",
   "id": "c0929120-8d59-4a64-b4fd-2561a73a6c31",
   "metadata": {},
   "source": [
    "Данная таблица показывает, что, чем больше детей у клиента, тем меньше вероятность задолженностей. Но эти результаты некорректны, так как, очевидно, что людей , например, с 1 ребенком больше, чем людей с 3-5 детьми. Поэтому необходимо сделать расчет относительно общего количества людей в каждой группе по количесву детей. "
   ]
  },
  {
   "cell_type": "code",
   "execution_count": 23,
   "id": "2824aa82-89c3-4abf-984a-2c8f06e9d870",
   "metadata": {},
   "outputs": [
    {
     "data": {
      "text/plain": [
       "0    14091\n",
       "1     4808\n",
       "2     2052\n",
       "3      330\n",
       "4       41\n",
       "5        9\n",
       "Name: children, dtype: int64"
      ]
     },
     "execution_count": 23,
     "metadata": {},
     "output_type": "execute_result"
    }
   ],
   "source": [
    "#сколько людей в каждой группе\n",
    "data['children'].value_counts()"
   ]
  },
  {
   "cell_type": "markdown",
   "id": "a49a789c-cfcc-4eb3-8807-6de3121874cb",
   "metadata": {},
   "source": [
    "Количество людей в разных группах неодинаково и обратно пропорционально количеству детей."
   ]
  },
  {
   "cell_type": "code",
   "execution_count": 24,
   "id": "56901da6-a82a-46f6-9573-126ff653328c",
   "metadata": {},
   "outputs": [
    {
     "data": {
      "text/plain": [
       "children\n",
       "0    7.543822\n",
       "1    9.234609\n",
       "2    9.454191\n",
       "3    8.181818\n",
       "4    9.756098\n",
       "5    0.000000\n",
       "dtype: float64"
      ]
     },
     "execution_count": 24,
     "metadata": {},
     "output_type": "execute_result"
    }
   ],
   "source": [
    "#посчитали, сколько % из всех людей в каждой группе имели задолженности\n",
    "debt_grouped_children = data.groupby('children')['debt'].sum()/data['children'].value_counts()*100 \n",
    "debt_grouped_children"
   ]
  },
  {
   "cell_type": "code",
   "execution_count": 25,
   "id": "1a610d82-38f6-42d5-818f-e5b734a3fbe9",
   "metadata": {},
   "outputs": [
    {
     "data": {
      "text/html": [
       "<style  type=\"text/css\" >\n",
       "#T_36f9f_row0_col0,#T_36f9f_row0_col1,#T_36f9f_row4_col2{\n",
       "            background-color:  #08306b;\n",
       "            color:  #f1f1f1;\n",
       "        }#T_36f9f_row0_col2{\n",
       "            background-color:  #1c6bb0;\n",
       "            color:  #f1f1f1;\n",
       "        }#T_36f9f_row1_col0{\n",
       "            background-color:  #a9cfe5;\n",
       "            color:  #000000;\n",
       "        }#T_36f9f_row1_col1{\n",
       "            background-color:  #8dc1dd;\n",
       "            color:  #000000;\n",
       "        }#T_36f9f_row1_col2{\n",
       "            background-color:  #083d7f;\n",
       "            color:  #f1f1f1;\n",
       "        }#T_36f9f_row2_col0{\n",
       "            background-color:  #dae8f6;\n",
       "            color:  #000000;\n",
       "        }#T_36f9f_row2_col1{\n",
       "            background-color:  #d3e4f3;\n",
       "            color:  #000000;\n",
       "        }#T_36f9f_row2_col2{\n",
       "            background-color:  #083776;\n",
       "            color:  #f1f1f1;\n",
       "        }#T_36f9f_row3_col0{\n",
       "            background-color:  #f3f8fe;\n",
       "            color:  #000000;\n",
       "        }#T_36f9f_row3_col1{\n",
       "            background-color:  #f2f8fd;\n",
       "            color:  #000000;\n",
       "        }#T_36f9f_row3_col2{\n",
       "            background-color:  #0f5aa3;\n",
       "            color:  #f1f1f1;\n",
       "        }#T_36f9f_row4_col0,#T_36f9f_row4_col1,#T_36f9f_row5_col0,#T_36f9f_row5_col1,#T_36f9f_row5_col2{\n",
       "            background-color:  #f7fbff;\n",
       "            color:  #000000;\n",
       "        }</style><table id=\"T_36f9f_\" ><thead>    <tr>        <th class=\"blank level0\" ></th>        <th class=\"col_heading level0 col0\" >Всего кредитополучателей</th>        <th class=\"col_heading level0 col1\" >Всего должников</th>        <th class=\"col_heading level0 col2\" >Доля должников</th>    </tr>    <tr>        <th class=\"index_name level0\" >children</th>        <th class=\"blank\" ></th>        <th class=\"blank\" ></th>        <th class=\"blank\" ></th>    </tr></thead><tbody>\n",
       "                <tr>\n",
       "                        <th id=\"T_36f9f_level0_row0\" class=\"row_heading level0 row0\" >0</th>\n",
       "                        <td id=\"T_36f9f_row0_col0\" class=\"data row0 col0\" >14091.000</td>\n",
       "                        <td id=\"T_36f9f_row0_col1\" class=\"data row0 col1\" >1063.000</td>\n",
       "                        <td id=\"T_36f9f_row0_col2\" class=\"data row0 col2\" >0.075</td>\n",
       "            </tr>\n",
       "            <tr>\n",
       "                        <th id=\"T_36f9f_level0_row1\" class=\"row_heading level0 row1\" >1</th>\n",
       "                        <td id=\"T_36f9f_row1_col0\" class=\"data row1 col0\" >4808.000</td>\n",
       "                        <td id=\"T_36f9f_row1_col1\" class=\"data row1 col1\" >444.000</td>\n",
       "                        <td id=\"T_36f9f_row1_col2\" class=\"data row1 col2\" >0.092</td>\n",
       "            </tr>\n",
       "            <tr>\n",
       "                        <th id=\"T_36f9f_level0_row2\" class=\"row_heading level0 row2\" >2</th>\n",
       "                        <td id=\"T_36f9f_row2_col0\" class=\"data row2 col0\" >2052.000</td>\n",
       "                        <td id=\"T_36f9f_row2_col1\" class=\"data row2 col1\" >194.000</td>\n",
       "                        <td id=\"T_36f9f_row2_col2\" class=\"data row2 col2\" >0.095</td>\n",
       "            </tr>\n",
       "            <tr>\n",
       "                        <th id=\"T_36f9f_level0_row3\" class=\"row_heading level0 row3\" >3</th>\n",
       "                        <td id=\"T_36f9f_row3_col0\" class=\"data row3 col0\" >330.000</td>\n",
       "                        <td id=\"T_36f9f_row3_col1\" class=\"data row3 col1\" >27.000</td>\n",
       "                        <td id=\"T_36f9f_row3_col2\" class=\"data row3 col2\" >0.082</td>\n",
       "            </tr>\n",
       "            <tr>\n",
       "                        <th id=\"T_36f9f_level0_row4\" class=\"row_heading level0 row4\" >4</th>\n",
       "                        <td id=\"T_36f9f_row4_col0\" class=\"data row4 col0\" >41.000</td>\n",
       "                        <td id=\"T_36f9f_row4_col1\" class=\"data row4 col1\" >4.000</td>\n",
       "                        <td id=\"T_36f9f_row4_col2\" class=\"data row4 col2\" >0.098</td>\n",
       "            </tr>\n",
       "            <tr>\n",
       "                        <th id=\"T_36f9f_level0_row5\" class=\"row_heading level0 row5\" >5</th>\n",
       "                        <td id=\"T_36f9f_row5_col0\" class=\"data row5 col0\" >9.000</td>\n",
       "                        <td id=\"T_36f9f_row5_col1\" class=\"data row5 col1\" >0.000</td>\n",
       "                        <td id=\"T_36f9f_row5_col2\" class=\"data row5 col2\" >0.000</td>\n",
       "            </tr>\n",
       "    </tbody></table>"
      ],
      "text/plain": [
       "<pandas.io.formats.style.Styler at 0x29113fdbc70>"
      ]
     },
     "metadata": {},
     "output_type": "display_data"
    }
   ],
   "source": [
    "#для удобства восприятия информации сделаем сводную таблицу\n",
    "#сделаем это через функцию,тк будем использовать этот подход и для других колонок\n",
    "# Создаем копию датасета, что бы не работать с исходным\n",
    "temp = data.copy()\n",
    "# Напишем функцию, так как все задачи аналогичны\n",
    "def que(category):\n",
    "    data_temp = temp.pivot_table(index=category, values='debt', aggfunc=['count', 'sum', 'mean'])\n",
    "    data_temp.columns = ['Всего кредитополучателей', 'Всего должников', 'Доля должников']\n",
    "    # Оформим таблицу цветным градиентом\n",
    "    display(data_temp.style.format(\"{:.3f}\").background_gradient(cmap='Blues', axis=0))\n",
    "    \n",
    "que('children')"
   ]
  },
  {
   "cell_type": "markdown",
   "id": "78cdc16f-640a-4246-987a-9c673cb9d4fd",
   "metadata": {},
   "source": [
    "**Вывод:** Зависимость между количеством детей и возвратом кредита в срок есть. Люди с 4-мя детьми чаще имеют задолженности относительно остальных групп. Меньше всех имеют задолженности люди без детей. Людей с пятью детьми не беру в сравнение, так как их всего 9 и, вероятно результат по этой группе нерепрезентативен.\n",
    "В целом, люди без детей чаще возвращают кредит в срок."
   ]
  },
  {
   "cell_type": "markdown",
   "id": "af1e94d4-eb0f-48b7-a53b-dfbe51e83997",
   "metadata": {},
   "source": [
    "### 2. Есть ли зависимость между семейным положением и возвратом кредита в срок?"
   ]
  },
  {
   "cell_type": "code",
   "execution_count": 26,
   "id": "f9993ea9-79b7-43fa-8ccb-c8c272fd06f7",
   "metadata": {},
   "outputs": [
    {
     "data": {
      "text/html": [
       "<style  type=\"text/css\" >\n",
       "#T_83cea_row0_col0{\n",
       "            background-color:  #d7e6f5;\n",
       "            color:  #000000;\n",
       "        }#T_83cea_row0_col1{\n",
       "            background-color:  #c7dcef;\n",
       "            color:  #000000;\n",
       "        }#T_83cea_row0_col2,#T_83cea_row4_col0,#T_83cea_row4_col1{\n",
       "            background-color:  #08306b;\n",
       "            color:  #f1f1f1;\n",
       "        }#T_83cea_row1_col0{\n",
       "            background-color:  #f3f8fe;\n",
       "            color:  #000000;\n",
       "        }#T_83cea_row1_col1{\n",
       "            background-color:  #f2f8fd;\n",
       "            color:  #000000;\n",
       "        }#T_83cea_row1_col2{\n",
       "            background-color:  #dce9f6;\n",
       "            color:  #000000;\n",
       "        }#T_83cea_row2_col0,#T_83cea_row2_col1,#T_83cea_row2_col2{\n",
       "            background-color:  #f7fbff;\n",
       "            color:  #000000;\n",
       "        }#T_83cea_row3_col0{\n",
       "            background-color:  #bcd7eb;\n",
       "            color:  #000000;\n",
       "        }#T_83cea_row3_col1{\n",
       "            background-color:  #9fcae1;\n",
       "            color:  #000000;\n",
       "        }#T_83cea_row3_col2{\n",
       "            background-color:  #0b559f;\n",
       "            color:  #f1f1f1;\n",
       "        }#T_83cea_row4_col2{\n",
       "            background-color:  #b7d4ea;\n",
       "            color:  #000000;\n",
       "        }</style><table id=\"T_83cea_\" ><thead>    <tr>        <th class=\"blank level0\" ></th>        <th class=\"col_heading level0 col0\" >Всего кредитополучателей</th>        <th class=\"col_heading level0 col1\" >Всего должников</th>        <th class=\"col_heading level0 col2\" >Доля должников</th>    </tr>    <tr>        <th class=\"index_name level0\" >family_status</th>        <th class=\"blank\" ></th>        <th class=\"blank\" ></th>        <th class=\"blank\" ></th>    </tr></thead><tbody>\n",
       "                <tr>\n",
       "                        <th id=\"T_83cea_level0_row0\" class=\"row_heading level0 row0\" >Не женат / не замужем</th>\n",
       "                        <td id=\"T_83cea_row0_col0\" class=\"data row0 col0\" >2796.000</td>\n",
       "                        <td id=\"T_83cea_row0_col1\" class=\"data row0 col1\" >273.000</td>\n",
       "                        <td id=\"T_83cea_row0_col2\" class=\"data row0 col2\" >0.098</td>\n",
       "            </tr>\n",
       "            <tr>\n",
       "                        <th id=\"T_83cea_level0_row1\" class=\"row_heading level0 row1\" >в разводе</th>\n",
       "                        <td id=\"T_83cea_row1_col0\" class=\"data row1 col0\" >1189.000</td>\n",
       "                        <td id=\"T_83cea_row1_col1\" class=\"data row1 col1\" >84.000</td>\n",
       "                        <td id=\"T_83cea_row1_col2\" class=\"data row1 col2\" >0.071</td>\n",
       "            </tr>\n",
       "            <tr>\n",
       "                        <th id=\"T_83cea_level0_row2\" class=\"row_heading level0 row2\" >вдовец / вдова</th>\n",
       "                        <td id=\"T_83cea_row2_col0\" class=\"data row2 col0\" >951.000</td>\n",
       "                        <td id=\"T_83cea_row2_col1\" class=\"data row2 col1\" >63.000</td>\n",
       "                        <td id=\"T_83cea_row2_col2\" class=\"data row2 col2\" >0.066</td>\n",
       "            </tr>\n",
       "            <tr>\n",
       "                        <th id=\"T_83cea_level0_row3\" class=\"row_heading level0 row3\" >гражданский брак</th>\n",
       "                        <td id=\"T_83cea_row3_col0\" class=\"data row3 col0\" >4134.000</td>\n",
       "                        <td id=\"T_83cea_row3_col1\" class=\"data row3 col1\" >385.000</td>\n",
       "                        <td id=\"T_83cea_row3_col2\" class=\"data row3 col2\" >0.093</td>\n",
       "            </tr>\n",
       "            <tr>\n",
       "                        <th id=\"T_83cea_level0_row4\" class=\"row_heading level0 row4\" >женат / замужем</th>\n",
       "                        <td id=\"T_83cea_row4_col0\" class=\"data row4 col0\" >12261.000</td>\n",
       "                        <td id=\"T_83cea_row4_col1\" class=\"data row4 col1\" >927.000</td>\n",
       "                        <td id=\"T_83cea_row4_col2\" class=\"data row4 col2\" >0.076</td>\n",
       "            </tr>\n",
       "    </tbody></table>"
      ],
      "text/plain": [
       "<pandas.io.formats.style.Styler at 0x291144aeca0>"
      ]
     },
     "metadata": {},
     "output_type": "display_data"
    }
   ],
   "source": [
    "# оценим с помощью той самой сводной таблицы\n",
    "que('family_status')"
   ]
  },
  {
   "cell_type": "markdown",
   "id": "203fdb9e-06e7-490f-b75a-2c0163480019",
   "metadata": {},
   "source": [
    "**Вывод:** зависимость между семейным положением и сроком возвращения кредита есть. Клиенты банка со статусом \"Не женат / не замужем\" чаще, чем остальные группы имеют задолженности. Вдовы и вдовцы, а также клиенты в разводе имеют меньше всего задолженностей. Оформленные семейные отношения или их прошлый опыт налагают определенную ответственность и приучают к финансовой дисциплине."
   ]
  },
  {
   "cell_type": "markdown",
   "id": "675f8484-8b38-440c-a9c0-044348f0c945",
   "metadata": {},
   "source": [
    "### 3. Есть ли зависимость между уровнем дохода и возвратом кредита в срок?"
   ]
  },
  {
   "cell_type": "code",
   "execution_count": 27,
   "id": "861baadd-77c3-48a1-bb9d-747a163c8188",
   "metadata": {},
   "outputs": [
    {
     "data": {
      "text/html": [
       "<style  type=\"text/css\" >\n",
       "#T_5fe35_row0_col0,#T_5fe35_row0_col1,#T_5fe35_row3_col2,#T_5fe35_row4_col0,#T_5fe35_row4_col1{\n",
       "            background-color:  #f7fbff;\n",
       "            color:  #000000;\n",
       "        }#T_5fe35_row0_col2{\n",
       "            background-color:  #3c8cc3;\n",
       "            color:  #000000;\n",
       "        }#T_5fe35_row1_col0{\n",
       "            background-color:  #b2d2e8;\n",
       "            color:  #000000;\n",
       "        }#T_5fe35_row1_col1{\n",
       "            background-color:  #c3daee;\n",
       "            color:  #000000;\n",
       "        }#T_5fe35_row1_col2{\n",
       "            background-color:  #aacfe5;\n",
       "            color:  #000000;\n",
       "        }#T_5fe35_row2_col0,#T_5fe35_row2_col1,#T_5fe35_row4_col2{\n",
       "            background-color:  #08306b;\n",
       "            color:  #f1f1f1;\n",
       "        }#T_5fe35_row2_col2{\n",
       "            background-color:  #1562a9;\n",
       "            color:  #f1f1f1;\n",
       "        }#T_5fe35_row3_col0{\n",
       "            background-color:  #f3f8fe;\n",
       "            color:  #000000;\n",
       "        }#T_5fe35_row3_col1{\n",
       "            background-color:  #f5f9fe;\n",
       "            color:  #000000;\n",
       "        }</style><table id=\"T_5fe35_\" ><thead>    <tr>        <th class=\"blank level0\" ></th>        <th class=\"col_heading level0 col0\" >Всего кредитополучателей</th>        <th class=\"col_heading level0 col1\" >Всего должников</th>        <th class=\"col_heading level0 col2\" >Доля должников</th>    </tr>    <tr>        <th class=\"index_name level0\" >total_income_category</th>        <th class=\"blank\" ></th>        <th class=\"blank\" ></th>        <th class=\"blank\" ></th>    </tr></thead><tbody>\n",
       "                <tr>\n",
       "                        <th id=\"T_5fe35_level0_row0\" class=\"row_heading level0 row0\" >A</th>\n",
       "                        <td id=\"T_5fe35_row0_col0\" class=\"data row0 col0\" >25.000</td>\n",
       "                        <td id=\"T_5fe35_row0_col1\" class=\"data row0 col1\" >2.000</td>\n",
       "                        <td id=\"T_5fe35_row0_col2\" class=\"data row0 col2\" >0.080</td>\n",
       "            </tr>\n",
       "            <tr>\n",
       "                        <th id=\"T_5fe35_level0_row1\" class=\"row_heading level0 row1\" >B</th>\n",
       "                        <td id=\"T_5fe35_row1_col0\" class=\"data row1 col0\" >5014.000</td>\n",
       "                        <td id=\"T_5fe35_row1_col1\" class=\"data row1 col1\" >354.000</td>\n",
       "                        <td id=\"T_5fe35_row1_col2\" class=\"data row1 col2\" >0.071</td>\n",
       "            </tr>\n",
       "            <tr>\n",
       "                        <th id=\"T_5fe35_level0_row2\" class=\"row_heading level0 row2\" >C</th>\n",
       "                        <td id=\"T_5fe35_row2_col0\" class=\"data row2 col0\" >15921.000</td>\n",
       "                        <td id=\"T_5fe35_row2_col1\" class=\"data row2 col1\" >1353.000</td>\n",
       "                        <td id=\"T_5fe35_row2_col2\" class=\"data row2 col2\" >0.085</td>\n",
       "            </tr>\n",
       "            <tr>\n",
       "                        <th id=\"T_5fe35_level0_row3\" class=\"row_heading level0 row3\" >D</th>\n",
       "                        <td id=\"T_5fe35_row3_col0\" class=\"data row3 col0\" >349.000</td>\n",
       "                        <td id=\"T_5fe35_row3_col1\" class=\"data row3 col1\" >21.000</td>\n",
       "                        <td id=\"T_5fe35_row3_col2\" class=\"data row3 col2\" >0.060</td>\n",
       "            </tr>\n",
       "            <tr>\n",
       "                        <th id=\"T_5fe35_level0_row4\" class=\"row_heading level0 row4\" >E</th>\n",
       "                        <td id=\"T_5fe35_row4_col0\" class=\"data row4 col0\" >22.000</td>\n",
       "                        <td id=\"T_5fe35_row4_col1\" class=\"data row4 col1\" >2.000</td>\n",
       "                        <td id=\"T_5fe35_row4_col2\" class=\"data row4 col2\" >0.091</td>\n",
       "            </tr>\n",
       "    </tbody></table>"
      ],
      "text/plain": [
       "<pandas.io.formats.style.Styler at 0x291144ae640>"
      ]
     },
     "metadata": {},
     "output_type": "display_data"
    }
   ],
   "source": [
    "#снова вызовем функцию. В этот раз выведем долю должников в группах с разным уровнем дохода\n",
    "que('total_income_category')"
   ]
  },
  {
   "cell_type": "markdown",
   "id": "6385a9d9-c240-4908-a06f-5b1d2d3800f2",
   "metadata": {},
   "source": [
    "Убираем из сравнения группы с маленькой выборкой - А, D и Е. "
   ]
  },
  {
   "cell_type": "markdown",
   "id": "6fb719f4-a2c0-4ba9-96bc-213938dcf3b0",
   "metadata": {
    "id": "e8593def"
   },
   "source": [
    "*Вывод 1:*  \n",
    "По двум выборкам с достаточным размером элементов можно сказать, что зависимость между доходом и погашением кредитов в срок есть. Так, люди с доходом С (50001–200000) чаще имеют задолженности по кредитам. Люди с доходом В (200001–1000000), чаще возвращают кредит вовремя. \n"
   ]
  },
  {
   "cell_type": "markdown",
   "id": "d5f5a2a9-b806-4380-9dd8-6cb266ae89bb",
   "metadata": {},
   "source": [
    "Из-за неравномерности количества элементов в категориях, получается мало данных для исследования. Попробуем применить метод `.qcut` для получения равномерных выборок."
   ]
  },
  {
   "cell_type": "code",
   "execution_count": 28,
   "id": "a3ca5e9d-dee1-4563-be70-201846bb71a2",
   "metadata": {
    "scrolled": true
   },
   "outputs": [],
   "source": [
    "#изменим категории на новые по методу .qcut\n",
    "temp['total_income_category'] = pd.qcut(temp['total_income'], 5)"
   ]
  },
  {
   "cell_type": "code",
   "execution_count": 29,
   "id": "625c72ac-c380-4b6f-a009-34cc79aa4461",
   "metadata": {},
   "outputs": [
    {
     "data": {
      "text/html": [
       "<style  type=\"text/css\" >\n",
       "#T_cf878_row0_col0,#T_cf878_row2_col1,#T_cf878_row2_col2{\n",
       "            background-color:  #08306b;\n",
       "            color:  #f1f1f1;\n",
       "        }#T_cf878_row0_col1,#T_cf878_row0_col2{\n",
       "            background-color:  #4896c8;\n",
       "            color:  #000000;\n",
       "        }#T_cf878_row1_col0,#T_cf878_row2_col0,#T_cf878_row3_col0,#T_cf878_row4_col0,#T_cf878_row4_col1,#T_cf878_row4_col2{\n",
       "            background-color:  #f7fbff;\n",
       "            color:  #000000;\n",
       "        }#T_cf878_row1_col1,#T_cf878_row1_col2,#T_cf878_row3_col1,#T_cf878_row3_col2{\n",
       "            background-color:  #1764ab;\n",
       "            color:  #f1f1f1;\n",
       "        }</style><table id=\"T_cf878_\" ><thead>    <tr>        <th class=\"blank level0\" ></th>        <th class=\"col_heading level0 col0\" >Всего кредитополучателей</th>        <th class=\"col_heading level0 col1\" >Всего должников</th>        <th class=\"col_heading level0 col2\" >Доля должников</th>    </tr>    <tr>        <th class=\"index_name level0\" >total_income_category</th>        <th class=\"blank\" ></th>        <th class=\"blank\" ></th>        <th class=\"blank\" ></th>    </tr></thead><tbody>\n",
       "                <tr>\n",
       "                        <th id=\"T_cf878_level0_row0\" class=\"row_heading level0 row0\" >(20666.999, 98514.0]</th>\n",
       "                        <td id=\"T_cf878_row0_col0\" class=\"data row0 col0\" >4267.000</td>\n",
       "                        <td id=\"T_cf878_row0_col1\" class=\"data row0 col1\" >344.000</td>\n",
       "                        <td id=\"T_cf878_row0_col2\" class=\"data row0 col2\" >0.081</td>\n",
       "            </tr>\n",
       "            <tr>\n",
       "                        <th id=\"T_cf878_level0_row1\" class=\"row_heading level0 row1\" >(98514.0, 132113.0]</th>\n",
       "                        <td id=\"T_cf878_row1_col0\" class=\"data row1 col0\" >4266.000</td>\n",
       "                        <td id=\"T_cf878_row1_col1\" class=\"data row1 col1\" >358.000</td>\n",
       "                        <td id=\"T_cf878_row1_col2\" class=\"data row1 col2\" >0.084</td>\n",
       "            </tr>\n",
       "            <tr>\n",
       "                        <th id=\"T_cf878_level0_row2\" class=\"row_heading level0 row2\" >(132113.0, 161380.0]</th>\n",
       "                        <td id=\"T_cf878_row2_col0\" class=\"data row2 col0\" >4266.000</td>\n",
       "                        <td id=\"T_cf878_row2_col1\" class=\"data row2 col1\" >373.000</td>\n",
       "                        <td id=\"T_cf878_row2_col2\" class=\"data row2 col2\" >0.087</td>\n",
       "            </tr>\n",
       "            <tr>\n",
       "                        <th id=\"T_cf878_level0_row3\" class=\"row_heading level0 row3\" >(161380.0, 214604.0]</th>\n",
       "                        <td id=\"T_cf878_row3_col0\" class=\"data row3 col0\" >4266.000</td>\n",
       "                        <td id=\"T_cf878_row3_col1\" class=\"data row3 col1\" >358.000</td>\n",
       "                        <td id=\"T_cf878_row3_col2\" class=\"data row3 col2\" >0.084</td>\n",
       "            </tr>\n",
       "            <tr>\n",
       "                        <th id=\"T_cf878_level0_row4\" class=\"row_heading level0 row4\" >(214604.0, 2265604.0]</th>\n",
       "                        <td id=\"T_cf878_row4_col0\" class=\"data row4 col0\" >4266.000</td>\n",
       "                        <td id=\"T_cf878_row4_col1\" class=\"data row4 col1\" >299.000</td>\n",
       "                        <td id=\"T_cf878_row4_col2\" class=\"data row4 col2\" >0.070</td>\n",
       "            </tr>\n",
       "    </tbody></table>"
      ],
      "text/plain": [
       "<pandas.io.formats.style.Styler at 0x29113fdb1c0>"
      ]
     },
     "metadata": {},
     "output_type": "display_data"
    }
   ],
   "source": [
    "#посмотрим, что получается\n",
    "que('total_income_category')"
   ]
  },
  {
   "cell_type": "markdown",
   "id": "0977e1f9-13bc-4541-89ed-acb1a9763dfb",
   "metadata": {},
   "source": [
    "Если разделить общую выборку на 5 категорий методом `.qcut`, в каждой категории будет примерно одинаковое количество элементов. "
   ]
  },
  {
   "cell_type": "markdown",
   "id": "caaaefd1-cfc0-4260-8f93-ead937748cb1",
   "metadata": {},
   "source": [
    "*Вывод 2:* Сравнивая новые более равномерные категории по задолженности, можно сделать вывод, что более надежными заемщиками являются люди с самым высоким доходом (около 200000 и более). Тем не менее люди с относительно низким доходом (примерно до 100 000 ) более надежны, чем клиенты с доходом от 100 000 до 200 000.\n"
   ]
  },
  {
   "cell_type": "markdown",
   "id": "c4ad9b2b-91c7-4681-b561-7cef9ceee9f8",
   "metadata": {},
   "source": [
    "**Вывод общий по п.3.:** Закономерность между задолженностью и уровнем дохода есть: Наиболее надежными заемщиками являются люди с самым высоким доходом (около 200000 и более)."
   ]
  },
  {
   "cell_type": "markdown",
   "id": "3ee85255-d5fe-436a-8082-b6c311034934",
   "metadata": {},
   "source": [
    "### 4. Как разные цели кредита влияют на его возврат в срок?"
   ]
  },
  {
   "cell_type": "code",
   "execution_count": 30,
   "id": "18dd085d-bd68-460b-b421-cea7651cfc97",
   "metadata": {},
   "outputs": [
    {
     "data": {
      "text/html": [
       "<style  type=\"text/css\" >\n",
       "#T_42b18_row0_col0{\n",
       "            background-color:  #caddf0;\n",
       "            color:  #000000;\n",
       "        }#T_42b18_row0_col1{\n",
       "            background-color:  #a1cbe2;\n",
       "            color:  #000000;\n",
       "        }#T_42b18_row0_col2,#T_42b18_row1_col0,#T_42b18_row1_col1{\n",
       "            background-color:  #08306b;\n",
       "            color:  #f1f1f1;\n",
       "        }#T_42b18_row1_col2,#T_42b18_row3_col0,#T_42b18_row3_col1{\n",
       "            background-color:  #f7fbff;\n",
       "            color:  #000000;\n",
       "        }#T_42b18_row2_col0{\n",
       "            background-color:  #d0e2f2;\n",
       "            color:  #000000;\n",
       "        }#T_42b18_row2_col1{\n",
       "            background-color:  #b3d3e8;\n",
       "            color:  #000000;\n",
       "        }#T_42b18_row2_col2{\n",
       "            background-color:  #083b7c;\n",
       "            color:  #f1f1f1;\n",
       "        }#T_42b18_row3_col2{\n",
       "            background-color:  #b2d2e8;\n",
       "            color:  #000000;\n",
       "        }</style><table id=\"T_42b18_\" ><thead>    <tr>        <th class=\"blank level0\" ></th>        <th class=\"col_heading level0 col0\" >Всего кредитополучателей</th>        <th class=\"col_heading level0 col1\" >Всего должников</th>        <th class=\"col_heading level0 col2\" >Доля должников</th>    </tr>    <tr>        <th class=\"index_name level0\" >purpose_category</th>        <th class=\"blank\" ></th>        <th class=\"blank\" ></th>        <th class=\"blank\" ></th>    </tr></thead><tbody>\n",
       "                <tr>\n",
       "                        <th id=\"T_42b18_level0_row0\" class=\"row_heading level0 row0\" >операции с автомобилем</th>\n",
       "                        <td id=\"T_42b18_row0_col0\" class=\"data row0 col0\" >4279.000</td>\n",
       "                        <td id=\"T_42b18_row0_col1\" class=\"data row0 col1\" >400.000</td>\n",
       "                        <td id=\"T_42b18_row0_col2\" class=\"data row0 col2\" >0.093</td>\n",
       "            </tr>\n",
       "            <tr>\n",
       "                        <th id=\"T_42b18_level0_row1\" class=\"row_heading level0 row1\" >операции с недвижимостью</th>\n",
       "                        <td id=\"T_42b18_row1_col0\" class=\"data row1 col0\" >10751.000</td>\n",
       "                        <td id=\"T_42b18_row1_col1\" class=\"data row1 col1\" >780.000</td>\n",
       "                        <td id=\"T_42b18_row1_col2\" class=\"data row1 col2\" >0.073</td>\n",
       "            </tr>\n",
       "            <tr>\n",
       "                        <th id=\"T_42b18_level0_row2\" class=\"row_heading level0 row2\" >получение образования</th>\n",
       "                        <td id=\"T_42b18_row2_col0\" class=\"data row2 col0\" >3988.000</td>\n",
       "                        <td id=\"T_42b18_row2_col1\" class=\"data row2 col1\" >369.000</td>\n",
       "                        <td id=\"T_42b18_row2_col2\" class=\"data row2 col2\" >0.093</td>\n",
       "            </tr>\n",
       "            <tr>\n",
       "                        <th id=\"T_42b18_level0_row3\" class=\"row_heading level0 row3\" >проведение свадьбы</th>\n",
       "                        <td id=\"T_42b18_row3_col0\" class=\"data row3 col0\" >2313.000</td>\n",
       "                        <td id=\"T_42b18_row3_col1\" class=\"data row3 col1\" >183.000</td>\n",
       "                        <td id=\"T_42b18_row3_col2\" class=\"data row3 col2\" >0.079</td>\n",
       "            </tr>\n",
       "    </tbody></table>"
      ],
      "text/plain": [
       "<pandas.io.formats.style.Styler at 0x29113ff9100>"
      ]
     },
     "metadata": {},
     "output_type": "display_data"
    }
   ],
   "source": [
    "que('purpose_category')"
   ]
  },
  {
   "cell_type": "markdown",
   "id": "e9b374d8-1a45-40b1-87c9-14395022d6fb",
   "metadata": {
    "id": "b4bb2ce6"
   },
   "source": [
    "**Вывод:** Зависимость между целью кредита и погашением в срок присутсвует. Чаще всего платят кредит в срок люди, взявшие его с целью операций с недвижимостью. Имеют задолженность чаще остальных клиенты, которые берут деньги на автомобиль и на образование."
   ]
  },
  {
   "cell_type": "markdown",
   "id": "4ea48b6e-21d8-4c3a-8bf4-d46c838cae9a",
   "metadata": {},
   "source": [
    "## Общий вывод"
   ]
  },
  {
   "cell_type": "markdown",
   "id": "aac90e70-648d-4e41-b057-4647c61723d7",
   "metadata": {
    "id": "bad65432"
   },
   "source": [
    "1. Файл с данными анализа представлен таблицей с характеритиками о клиентах. В таблице указаны данные 21525 клиентов по следующим характеристикам (столбцам): `children` — количество детей в семье; `days_employed` — общий трудовой стаж в днях; `dob_years` — возраст клиента в годах; `education` — уровень образования клиента; `education_id` — идентификатор уровня образования, `family_status` — семейное положение; `family_status_id` — идентификатор семейного положения; `gender` — пол клиента; `income_type` — тип занятости; `debt` — имел ли задолженность по возврату кредитов; `total_income` — ежемесячный доход; `purpose` — цель получения кредита.\n",
    "\n",
    "\n",
    "2. Перед началом анализа было необходимо избавиться от моментов, мешающих достоверному анализу. Аномальные значения в столбце `days_employed` (отрицательные значения трудового стажа) были заменены на соответсвующие положительные.  Пропуски в столбцах `days_employed` и `total_income`были заменены на медианные значения по типу занятости клиента. Тип данных `total_income` изменен на целочисленный. Неявные дубликаты в `education` обработаны за счет перевода в нижний регистр. Для данных в `total_income` и `purpose` была проведена категоризация и добавлены соответствующие столбцы в таблицуa `total_income_category` и `purpose_category` , чтобы эти данные были в удобном для анализа виде.\n",
    "\n",
    "\n",
    "3. В ходе исследовательского анализа были проверены зависимости между возвратом кредита в срок и другими данными клиентов (количество детей, семейное положение, уровень дохода и цель кредита) и установлено следующее:\n",
    "\n",
    "    a. Зависимость между количеством детей и возвратом кредита в срок есть. Люди с 4-мя детьми чаще имеют задолженности относительно остальных групп. Клиенты с 2-мя детьми реже вовремя отдают кредит нежели клиенты с 1-м и 3-мя детьми. Меньше всех имеют задолженности люди без детей. В целом, люди без детей чаще возвращают кредит в срок.\n",
    "\n",
    "    b.Зависимость между семейным положением и сроком возвращения кредита есть. Клиенты банка со статусом \"Не женат / не замужем\" чаще, чем остальные группы имеют задолженности. Вдовы и вдовцы имеют меньше всего задолженностей.\n",
    "\n",
    "    c. Закономерность между задолженностью и уровнем дохода есть:  наиболее надежными заемщиками являются люди с самым высоким доходом (около 200000 и более).\n",
    "\n",
    "    d. Зависимость между целью кредита и погашением в срок есть. Чаще всего платят кредит в срок люди, взявшие его с целью операций с недвижимостью. Имеют задолженность чаще остальных клиенты, которые берут деньги на автомобиль или на образование.\n",
    "\n",
    "Таким образом, наиболее надежным заемщиком является клиент без детей, был или находящийся в оформленных семейных отношениях, с доходом более 200 000 и который берет кредит для операций с недвижимостью.\n",
    "\n",
    "Кроме того, во избежания пропусков в данных в дальнейшем, рекомендуется при онлайн заполнении заявления на получение кредита сделать проверку на не заполненые поля, которая не позвоит отправить заявку с пропусками в банк."
   ]
  },
  {
   "cell_type": "code",
   "execution_count": null,
   "id": "33548348-2fca-46c3-93b6-b48a72850233",
   "metadata": {},
   "outputs": [],
   "source": []
  }
 ],
 "metadata": {
  "kernelspec": {
   "display_name": "Python 3 (ipykernel)",
   "language": "python",
   "name": "python3"
  },
  "language_info": {
   "codemirror_mode": {
    "name": "ipython",
    "version": 3
   },
   "file_extension": ".py",
   "mimetype": "text/x-python",
   "name": "python",
   "nbconvert_exporter": "python",
   "pygments_lexer": "ipython3",
   "version": "3.9.5"
  }
 },
 "nbformat": 4,
 "nbformat_minor": 5
}
