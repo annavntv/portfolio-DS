{
 "cells": [
  {
   "cell_type": "markdown",
   "id": "0a6f7b10-682e-4da7-91b7-493beb3fb73d",
   "metadata": {},
   "source": [
    "# Определение места бурения новых скважин в добывающей компании «ГлавРосГосНефть»\n",
    "\n",
    "Компания «ГлавРосГосНефть» занимается нефтедобычей. \n",
    "\n",
    "**Цель** - определение локации для бурения новых скважин. \n",
    "\n",
    "У компании есть исторические данные о существующих скважинах в различных регионах - качество нефти и объём её запасов. На основе этих данных можно спрогнозировать, где наиболее целесообразно бурить скважину для получения максимального объема нефти и,соответсвенно, максимизации прибыли. На бурение скважины и сотпутсвующие активности будет затрачено немало финансовых ресурсов. Если выбрать локацию неверно, вложения не окупятся.\n",
    "\n",
    "Для выполнения цели поставлены следующие **задачи**:\n",
    "\n",
    "- изучить исторические данные характеристик скважин по регионам;\n",
    "- построить модель для предсказания объёма запасов в новых скважинах;\n",
    "- используя модель, выбрать скважины с самыми высокими оценками значений;\n",
    "- определить регион с максимальной суммарной прибылью отобранных скважин и наименьшим риском убытков.\n",
    "\n",
    "Для исследования предоставлены пробы нефти в трёх регионах. Характеристики для каждой скважины в регионе уже известны.Данные геологоразведки трёх регионов находятся в файлах: `geo_data_0.csv`, `geo_data_1.csv`, `geo_data_2.csv`. \n",
    "\n",
    "В таблицах указаны:\n",
    "- `id` — уникальный идентификатор скважины;\n",
    "- `f0`, `f1`, `f2` — три признака точек (признаки значимы, научные геологические данные, конкретные обозначения не важны);\n",
    "- `product` — объём запасов в скважине (тыс. баррелей).\n",
    "\n",
    "При разведке региона исследуют **500 точек**, из которых с помощью машинного обучения следует **выбрать 200 лучших** для разработки.\n",
    "\n",
    "Бюджет на разработку скважин в регионе — **10 млрд рублей**. При нынешних ценах один баррель сырья приносит **450 рублей дохода**. Доход с каждой единицы продукта составляет 450 тыс. рублей, поскольку объём указан в тысячах баррелей.\n",
    "\n",
    "После оценки рисков нужно оставить лишь те регионы, в которых **вероятность убытков меньше 2.5%**. Среди них выбирают регион с наибольшей средней прибылью.\n",
    "\n",
    "## 1. Обзор данных"
   ]
  },
  {
   "cell_type": "code",
   "execution_count": 1,
   "id": "d9464837-6b54-4603-8705-531d9a515f39",
   "metadata": {},
   "outputs": [],
   "source": [
    "#импортируем библиотеки\n",
    "import pandas as pd\n",
    "import seaborn as sns\n",
    "import numpy as np \n",
    "from scipy import stats as st\n",
    "import matplotlib.pyplot as plt\n",
    "from sklearn.linear_model import LinearRegression, LogisticRegression, Ridge, Lasso, ElasticNet\n",
    "from sklearn.model_selection import train_test_split\n",
    "from sklearn.preprocessing import OneHotEncoder , StandardScaler, OrdinalEncoder, MinMaxScaler\n",
    "from sklearn.metrics import (mean_absolute_error, mean_squared_error , r2_score, recall_score, accuracy_score, precision_score, confusion_matrix, \n",
    "roc_auc_score, f1_score, make_scorer)\n",
    "from sklearn.pipeline import Pipeline\n",
    "from sklearn.compose import ColumnTransformer\n",
    "from sklearn.impute import SimpleImputer\n",
    "from scipy import stats as st\n",
    "from sklearn.dummy import DummyRegressor, DummyClassifier\n",
    "import os\n",
    "RANDOM_STATE = 42\n",
    "sns.set_palette(\"pastel\")\n"
   ]
  },
  {
   "cell_type": "code",
   "execution_count": 2,
   "id": "1d9381dd-5c82-490b-8ab5-0c321e44fdfb",
   "metadata": {},
   "outputs": [],
   "source": [
    "metrics=pd.DataFrame()\n",
    "def reg_metrics(preds, y_valid,dummy_error, region):\n",
    "    \n",
    "    \"\"\"Эта функция рассчитывает метрику RMSE для регрессионной модели, \n",
    "     а также показывает среднее предсказание по региону.\n",
    "\n",
    "    На вход подаются предсказания,  валидационные данные по таргету, название региона. \n",
    "    Функция выдает значения в виде таблицы.\n",
    "    \"\"\"\n",
    "    return pd.DataFrame({'регион' : [region],\n",
    "                         'средний прогнозируемый объем запасов в скважине ':[preds.mean()], \n",
    "                         'RMSE':[mean_squared_error(y_valid, preds, squared=False)] ,\n",
    "                         'dummy-RMSE': [dummy_error]\n",
    "                         })"
   ]
  },
  {
   "cell_type": "code",
   "execution_count": 3,
   "id": "e6ab93ed-814a-47af-bf92-4b4d296bae41",
   "metadata": {},
   "outputs": [],
   "source": [
    "if os.path.exists('geo_data_0.csv') and  os.path.exists('geo_data_1.csv') and  os.path.exists('geo_data_2.csv'):\n",
    "    \n",
    "    geo_data_0 = pd.read_csv('geo_data_0.csv')\n",
    "    geo_data_1 = pd.read_csv('geo_data_1.csv')\n",
    "    geo_data_2 = pd.read_csv('geo_data_2.csv')\n",
    "elif os.path.exists('/datasets/geo_data_0.csv') and os.path.exists('/datasets/geo_data_1.csv') \\\n",
    "and os.path.exists('/datasets/geo_data_2.csv'):\n",
    "    \n",
    "    geo_data_0 = pd.read_csv('/datasets/geo_data_0.csv')\n",
    "    geo_data_1 = pd.read_csv('/datasets/geo_data_1.csv')\n",
    "    geo_data_2 = pd.read_csv('/datasets/geo_data_2.csv')\n",
    "else:\n",
    "    print('Something is wrong')"
   ]
  },
  {
   "cell_type": "code",
   "execution_count": 4,
   "id": "15cdbe39-0b9b-4b69-9659-e10871477a65",
   "metadata": {},
   "outputs": [
    {
     "data": {
      "text/html": [
       "<div>\n",
       "<style scoped>\n",
       "    .dataframe tbody tr th:only-of-type {\n",
       "        vertical-align: middle;\n",
       "    }\n",
       "\n",
       "    .dataframe tbody tr th {\n",
       "        vertical-align: top;\n",
       "    }\n",
       "\n",
       "    .dataframe thead th {\n",
       "        text-align: right;\n",
       "    }\n",
       "</style>\n",
       "<table border=\"1\" class=\"dataframe\">\n",
       "  <thead>\n",
       "    <tr style=\"text-align: right;\">\n",
       "      <th></th>\n",
       "      <th>id</th>\n",
       "      <th>f0</th>\n",
       "      <th>f1</th>\n",
       "      <th>f2</th>\n",
       "      <th>product</th>\n",
       "    </tr>\n",
       "  </thead>\n",
       "  <tbody>\n",
       "    <tr>\n",
       "      <th>62041</th>\n",
       "      <td>MaWjy</td>\n",
       "      <td>0.724514</td>\n",
       "      <td>0.666063</td>\n",
       "      <td>1.840177</td>\n",
       "      <td>77.696728</td>\n",
       "    </tr>\n",
       "    <tr>\n",
       "      <th>35323</th>\n",
       "      <td>QCnAj</td>\n",
       "      <td>-0.054488</td>\n",
       "      <td>1.158118</td>\n",
       "      <td>4.102208</td>\n",
       "      <td>147.003606</td>\n",
       "    </tr>\n",
       "  </tbody>\n",
       "</table>\n",
       "</div>"
      ],
      "text/plain": [
       "          id        f0        f1        f2     product\n",
       "62041  MaWjy  0.724514  0.666063  1.840177   77.696728\n",
       "35323  QCnAj -0.054488  1.158118  4.102208  147.003606"
      ]
     },
     "execution_count": 4,
     "metadata": {},
     "output_type": "execute_result"
    }
   ],
   "source": [
    "geo_data_0.sample(2)"
   ]
  },
  {
   "cell_type": "code",
   "execution_count": 5,
   "id": "ec2d47af-a8e7-47b0-8d71-b1aa3d542f2c",
   "metadata": {},
   "outputs": [
    {
     "name": "stdout",
     "output_type": "stream",
     "text": [
      "<class 'pandas.core.frame.DataFrame'>\n",
      "RangeIndex: 100000 entries, 0 to 99999\n",
      "Data columns (total 5 columns):\n",
      " #   Column   Non-Null Count   Dtype  \n",
      "---  ------   --------------   -----  \n",
      " 0   id       100000 non-null  object \n",
      " 1   f0       100000 non-null  float64\n",
      " 2   f1       100000 non-null  float64\n",
      " 3   f2       100000 non-null  float64\n",
      " 4   product  100000 non-null  float64\n",
      "dtypes: float64(4), object(1)\n",
      "memory usage: 3.8+ MB\n"
     ]
    }
   ],
   "source": [
    "geo_data_0.info()"
   ]
  },
  {
   "cell_type": "code",
   "execution_count": 6,
   "id": "0b0c3f32-c658-4e74-bdee-3c838a43ec48",
   "metadata": {},
   "outputs": [
    {
     "data": {
      "text/html": [
       "<div>\n",
       "<style scoped>\n",
       "    .dataframe tbody tr th:only-of-type {\n",
       "        vertical-align: middle;\n",
       "    }\n",
       "\n",
       "    .dataframe tbody tr th {\n",
       "        vertical-align: top;\n",
       "    }\n",
       "\n",
       "    .dataframe thead th {\n",
       "        text-align: right;\n",
       "    }\n",
       "</style>\n",
       "<table border=\"1\" class=\"dataframe\">\n",
       "  <thead>\n",
       "    <tr style=\"text-align: right;\">\n",
       "      <th></th>\n",
       "      <th>f0</th>\n",
       "      <th>f1</th>\n",
       "      <th>f2</th>\n",
       "      <th>product</th>\n",
       "    </tr>\n",
       "  </thead>\n",
       "  <tbody>\n",
       "    <tr>\n",
       "      <th>count</th>\n",
       "      <td>100000.000000</td>\n",
       "      <td>100000.000000</td>\n",
       "      <td>100000.000000</td>\n",
       "      <td>100000.000000</td>\n",
       "    </tr>\n",
       "    <tr>\n",
       "      <th>mean</th>\n",
       "      <td>0.500419</td>\n",
       "      <td>0.250143</td>\n",
       "      <td>2.502647</td>\n",
       "      <td>92.500000</td>\n",
       "    </tr>\n",
       "    <tr>\n",
       "      <th>std</th>\n",
       "      <td>0.871832</td>\n",
       "      <td>0.504433</td>\n",
       "      <td>3.248248</td>\n",
       "      <td>44.288691</td>\n",
       "    </tr>\n",
       "    <tr>\n",
       "      <th>min</th>\n",
       "      <td>-1.408605</td>\n",
       "      <td>-0.848218</td>\n",
       "      <td>-12.088328</td>\n",
       "      <td>0.000000</td>\n",
       "    </tr>\n",
       "    <tr>\n",
       "      <th>25%</th>\n",
       "      <td>-0.072580</td>\n",
       "      <td>-0.200881</td>\n",
       "      <td>0.287748</td>\n",
       "      <td>56.497507</td>\n",
       "    </tr>\n",
       "    <tr>\n",
       "      <th>50%</th>\n",
       "      <td>0.502360</td>\n",
       "      <td>0.250252</td>\n",
       "      <td>2.515969</td>\n",
       "      <td>91.849972</td>\n",
       "    </tr>\n",
       "    <tr>\n",
       "      <th>75%</th>\n",
       "      <td>1.073581</td>\n",
       "      <td>0.700646</td>\n",
       "      <td>4.715088</td>\n",
       "      <td>128.564089</td>\n",
       "    </tr>\n",
       "    <tr>\n",
       "      <th>max</th>\n",
       "      <td>2.362331</td>\n",
       "      <td>1.343769</td>\n",
       "      <td>16.003790</td>\n",
       "      <td>185.364347</td>\n",
       "    </tr>\n",
       "  </tbody>\n",
       "</table>\n",
       "</div>"
      ],
      "text/plain": [
       "                  f0             f1             f2        product\n",
       "count  100000.000000  100000.000000  100000.000000  100000.000000\n",
       "mean        0.500419       0.250143       2.502647      92.500000\n",
       "std         0.871832       0.504433       3.248248      44.288691\n",
       "min        -1.408605      -0.848218     -12.088328       0.000000\n",
       "25%        -0.072580      -0.200881       0.287748      56.497507\n",
       "50%         0.502360       0.250252       2.515969      91.849972\n",
       "75%         1.073581       0.700646       4.715088     128.564089\n",
       "max         2.362331       1.343769      16.003790     185.364347"
      ]
     },
     "execution_count": 6,
     "metadata": {},
     "output_type": "execute_result"
    }
   ],
   "source": [
    "geo_data_0.describe()"
   ]
  },
  {
   "cell_type": "code",
   "execution_count": 7,
   "id": "0312b6b6-94be-41e5-9e5f-c7a9716f4e42",
   "metadata": {},
   "outputs": [
    {
     "data": {
      "text/html": [
       "<div>\n",
       "<style scoped>\n",
       "    .dataframe tbody tr th:only-of-type {\n",
       "        vertical-align: middle;\n",
       "    }\n",
       "\n",
       "    .dataframe tbody tr th {\n",
       "        vertical-align: top;\n",
       "    }\n",
       "\n",
       "    .dataframe thead th {\n",
       "        text-align: right;\n",
       "    }\n",
       "</style>\n",
       "<table border=\"1\" class=\"dataframe\">\n",
       "  <thead>\n",
       "    <tr style=\"text-align: right;\">\n",
       "      <th></th>\n",
       "      <th>id</th>\n",
       "      <th>f0</th>\n",
       "      <th>f1</th>\n",
       "      <th>f2</th>\n",
       "      <th>product</th>\n",
       "    </tr>\n",
       "  </thead>\n",
       "  <tbody>\n",
       "    <tr>\n",
       "      <th>52098</th>\n",
       "      <td>094DH</td>\n",
       "      <td>-7.077367</td>\n",
       "      <td>-1.169847</td>\n",
       "      <td>0.999720</td>\n",
       "      <td>30.132364</td>\n",
       "    </tr>\n",
       "    <tr>\n",
       "      <th>75384</th>\n",
       "      <td>afsQY</td>\n",
       "      <td>10.418690</td>\n",
       "      <td>-3.631973</td>\n",
       "      <td>2.997482</td>\n",
       "      <td>80.859783</td>\n",
       "    </tr>\n",
       "  </tbody>\n",
       "</table>\n",
       "</div>"
      ],
      "text/plain": [
       "          id         f0        f1        f2    product\n",
       "52098  094DH  -7.077367 -1.169847  0.999720  30.132364\n",
       "75384  afsQY  10.418690 -3.631973  2.997482  80.859783"
      ]
     },
     "execution_count": 7,
     "metadata": {},
     "output_type": "execute_result"
    }
   ],
   "source": [
    "geo_data_1.sample(2)"
   ]
  },
  {
   "cell_type": "code",
   "execution_count": 8,
   "id": "61cf2a60-10bd-4856-baa0-4bd718277cbd",
   "metadata": {},
   "outputs": [
    {
     "name": "stdout",
     "output_type": "stream",
     "text": [
      "<class 'pandas.core.frame.DataFrame'>\n",
      "RangeIndex: 100000 entries, 0 to 99999\n",
      "Data columns (total 5 columns):\n",
      " #   Column   Non-Null Count   Dtype  \n",
      "---  ------   --------------   -----  \n",
      " 0   id       100000 non-null  object \n",
      " 1   f0       100000 non-null  float64\n",
      " 2   f1       100000 non-null  float64\n",
      " 3   f2       100000 non-null  float64\n",
      " 4   product  100000 non-null  float64\n",
      "dtypes: float64(4), object(1)\n",
      "memory usage: 3.8+ MB\n"
     ]
    }
   ],
   "source": [
    "geo_data_1.info()"
   ]
  },
  {
   "cell_type": "code",
   "execution_count": 9,
   "id": "59abd176-a732-475a-a738-b03e0aa3ea50",
   "metadata": {},
   "outputs": [
    {
     "data": {
      "text/html": [
       "<div>\n",
       "<style scoped>\n",
       "    .dataframe tbody tr th:only-of-type {\n",
       "        vertical-align: middle;\n",
       "    }\n",
       "\n",
       "    .dataframe tbody tr th {\n",
       "        vertical-align: top;\n",
       "    }\n",
       "\n",
       "    .dataframe thead th {\n",
       "        text-align: right;\n",
       "    }\n",
       "</style>\n",
       "<table border=\"1\" class=\"dataframe\">\n",
       "  <thead>\n",
       "    <tr style=\"text-align: right;\">\n",
       "      <th></th>\n",
       "      <th>f0</th>\n",
       "      <th>f1</th>\n",
       "      <th>f2</th>\n",
       "      <th>product</th>\n",
       "    </tr>\n",
       "  </thead>\n",
       "  <tbody>\n",
       "    <tr>\n",
       "      <th>count</th>\n",
       "      <td>100000.000000</td>\n",
       "      <td>100000.000000</td>\n",
       "      <td>100000.000000</td>\n",
       "      <td>100000.000000</td>\n",
       "    </tr>\n",
       "    <tr>\n",
       "      <th>mean</th>\n",
       "      <td>1.141296</td>\n",
       "      <td>-4.796579</td>\n",
       "      <td>2.494541</td>\n",
       "      <td>68.825000</td>\n",
       "    </tr>\n",
       "    <tr>\n",
       "      <th>std</th>\n",
       "      <td>8.965932</td>\n",
       "      <td>5.119872</td>\n",
       "      <td>1.703572</td>\n",
       "      <td>45.944423</td>\n",
       "    </tr>\n",
       "    <tr>\n",
       "      <th>min</th>\n",
       "      <td>-31.609576</td>\n",
       "      <td>-26.358598</td>\n",
       "      <td>-0.018144</td>\n",
       "      <td>0.000000</td>\n",
       "    </tr>\n",
       "    <tr>\n",
       "      <th>25%</th>\n",
       "      <td>-6.298551</td>\n",
       "      <td>-8.267985</td>\n",
       "      <td>1.000021</td>\n",
       "      <td>26.953261</td>\n",
       "    </tr>\n",
       "    <tr>\n",
       "      <th>50%</th>\n",
       "      <td>1.153055</td>\n",
       "      <td>-4.813172</td>\n",
       "      <td>2.011479</td>\n",
       "      <td>57.085625</td>\n",
       "    </tr>\n",
       "    <tr>\n",
       "      <th>75%</th>\n",
       "      <td>8.621015</td>\n",
       "      <td>-1.332816</td>\n",
       "      <td>3.999904</td>\n",
       "      <td>107.813044</td>\n",
       "    </tr>\n",
       "    <tr>\n",
       "      <th>max</th>\n",
       "      <td>29.421755</td>\n",
       "      <td>18.734063</td>\n",
       "      <td>5.019721</td>\n",
       "      <td>137.945408</td>\n",
       "    </tr>\n",
       "  </tbody>\n",
       "</table>\n",
       "</div>"
      ],
      "text/plain": [
       "                  f0             f1             f2        product\n",
       "count  100000.000000  100000.000000  100000.000000  100000.000000\n",
       "mean        1.141296      -4.796579       2.494541      68.825000\n",
       "std         8.965932       5.119872       1.703572      45.944423\n",
       "min       -31.609576     -26.358598      -0.018144       0.000000\n",
       "25%        -6.298551      -8.267985       1.000021      26.953261\n",
       "50%         1.153055      -4.813172       2.011479      57.085625\n",
       "75%         8.621015      -1.332816       3.999904     107.813044\n",
       "max        29.421755      18.734063       5.019721     137.945408"
      ]
     },
     "execution_count": 9,
     "metadata": {},
     "output_type": "execute_result"
    }
   ],
   "source": [
    "geo_data_1.describe()"
   ]
  },
  {
   "cell_type": "code",
   "execution_count": 10,
   "id": "32c2faaa-f712-4328-81da-c515e2bed397",
   "metadata": {},
   "outputs": [
    {
     "data": {
      "text/html": [
       "<div>\n",
       "<style scoped>\n",
       "    .dataframe tbody tr th:only-of-type {\n",
       "        vertical-align: middle;\n",
       "    }\n",
       "\n",
       "    .dataframe tbody tr th {\n",
       "        vertical-align: top;\n",
       "    }\n",
       "\n",
       "    .dataframe thead th {\n",
       "        text-align: right;\n",
       "    }\n",
       "</style>\n",
       "<table border=\"1\" class=\"dataframe\">\n",
       "  <thead>\n",
       "    <tr style=\"text-align: right;\">\n",
       "      <th></th>\n",
       "      <th>id</th>\n",
       "      <th>f0</th>\n",
       "      <th>f1</th>\n",
       "      <th>f2</th>\n",
       "      <th>product</th>\n",
       "    </tr>\n",
       "  </thead>\n",
       "  <tbody>\n",
       "    <tr>\n",
       "      <th>23787</th>\n",
       "      <td>fGxdc</td>\n",
       "      <td>4.343385</td>\n",
       "      <td>3.963224</td>\n",
       "      <td>0.465881</td>\n",
       "      <td>39.411190</td>\n",
       "    </tr>\n",
       "    <tr>\n",
       "      <th>93565</th>\n",
       "      <td>i2lXu</td>\n",
       "      <td>-0.789737</td>\n",
       "      <td>0.390866</td>\n",
       "      <td>2.979156</td>\n",
       "      <td>93.322752</td>\n",
       "    </tr>\n",
       "  </tbody>\n",
       "</table>\n",
       "</div>"
      ],
      "text/plain": [
       "          id        f0        f1        f2    product\n",
       "23787  fGxdc  4.343385  3.963224  0.465881  39.411190\n",
       "93565  i2lXu -0.789737  0.390866  2.979156  93.322752"
      ]
     },
     "execution_count": 10,
     "metadata": {},
     "output_type": "execute_result"
    }
   ],
   "source": [
    "geo_data_2.sample(2)"
   ]
  },
  {
   "cell_type": "code",
   "execution_count": 11,
   "id": "62f49b79-89d3-4911-bd59-0c3eb91db793",
   "metadata": {},
   "outputs": [
    {
     "name": "stdout",
     "output_type": "stream",
     "text": [
      "<class 'pandas.core.frame.DataFrame'>\n",
      "RangeIndex: 100000 entries, 0 to 99999\n",
      "Data columns (total 5 columns):\n",
      " #   Column   Non-Null Count   Dtype  \n",
      "---  ------   --------------   -----  \n",
      " 0   id       100000 non-null  object \n",
      " 1   f0       100000 non-null  float64\n",
      " 2   f1       100000 non-null  float64\n",
      " 3   f2       100000 non-null  float64\n",
      " 4   product  100000 non-null  float64\n",
      "dtypes: float64(4), object(1)\n",
      "memory usage: 3.8+ MB\n"
     ]
    }
   ],
   "source": [
    "geo_data_2.info()"
   ]
  },
  {
   "cell_type": "code",
   "execution_count": 12,
   "id": "8bbd206d-cee0-476b-b893-5afaa0394706",
   "metadata": {},
   "outputs": [
    {
     "data": {
      "text/html": [
       "<div>\n",
       "<style scoped>\n",
       "    .dataframe tbody tr th:only-of-type {\n",
       "        vertical-align: middle;\n",
       "    }\n",
       "\n",
       "    .dataframe tbody tr th {\n",
       "        vertical-align: top;\n",
       "    }\n",
       "\n",
       "    .dataframe thead th {\n",
       "        text-align: right;\n",
       "    }\n",
       "</style>\n",
       "<table border=\"1\" class=\"dataframe\">\n",
       "  <thead>\n",
       "    <tr style=\"text-align: right;\">\n",
       "      <th></th>\n",
       "      <th>f0</th>\n",
       "      <th>f1</th>\n",
       "      <th>f2</th>\n",
       "      <th>product</th>\n",
       "    </tr>\n",
       "  </thead>\n",
       "  <tbody>\n",
       "    <tr>\n",
       "      <th>count</th>\n",
       "      <td>100000.000000</td>\n",
       "      <td>100000.000000</td>\n",
       "      <td>100000.000000</td>\n",
       "      <td>100000.000000</td>\n",
       "    </tr>\n",
       "    <tr>\n",
       "      <th>mean</th>\n",
       "      <td>0.002023</td>\n",
       "      <td>-0.002081</td>\n",
       "      <td>2.495128</td>\n",
       "      <td>95.000000</td>\n",
       "    </tr>\n",
       "    <tr>\n",
       "      <th>std</th>\n",
       "      <td>1.732045</td>\n",
       "      <td>1.730417</td>\n",
       "      <td>3.473445</td>\n",
       "      <td>44.749921</td>\n",
       "    </tr>\n",
       "    <tr>\n",
       "      <th>min</th>\n",
       "      <td>-8.760004</td>\n",
       "      <td>-7.084020</td>\n",
       "      <td>-11.970335</td>\n",
       "      <td>0.000000</td>\n",
       "    </tr>\n",
       "    <tr>\n",
       "      <th>25%</th>\n",
       "      <td>-1.162288</td>\n",
       "      <td>-1.174820</td>\n",
       "      <td>0.130359</td>\n",
       "      <td>59.450441</td>\n",
       "    </tr>\n",
       "    <tr>\n",
       "      <th>50%</th>\n",
       "      <td>0.009424</td>\n",
       "      <td>-0.009482</td>\n",
       "      <td>2.484236</td>\n",
       "      <td>94.925613</td>\n",
       "    </tr>\n",
       "    <tr>\n",
       "      <th>75%</th>\n",
       "      <td>1.158535</td>\n",
       "      <td>1.163678</td>\n",
       "      <td>4.858794</td>\n",
       "      <td>130.595027</td>\n",
       "    </tr>\n",
       "    <tr>\n",
       "      <th>max</th>\n",
       "      <td>7.238262</td>\n",
       "      <td>7.844801</td>\n",
       "      <td>16.739402</td>\n",
       "      <td>190.029838</td>\n",
       "    </tr>\n",
       "  </tbody>\n",
       "</table>\n",
       "</div>"
      ],
      "text/plain": [
       "                  f0             f1             f2        product\n",
       "count  100000.000000  100000.000000  100000.000000  100000.000000\n",
       "mean        0.002023      -0.002081       2.495128      95.000000\n",
       "std         1.732045       1.730417       3.473445      44.749921\n",
       "min        -8.760004      -7.084020     -11.970335       0.000000\n",
       "25%        -1.162288      -1.174820       0.130359      59.450441\n",
       "50%         0.009424      -0.009482       2.484236      94.925613\n",
       "75%         1.158535       1.163678       4.858794     130.595027\n",
       "max         7.238262       7.844801      16.739402     190.029838"
      ]
     },
     "execution_count": 12,
     "metadata": {},
     "output_type": "execute_result"
    }
   ],
   "source": [
    "geo_data_2.describe()"
   ]
  },
  {
   "cell_type": "markdown",
   "id": "a2354ff3-ac1a-440d-89d6-93a723ec00e0",
   "metadata": {},
   "source": [
    "### 1.1 Вывод\n",
    "В каждой таблице с характеристиками скважин по региону 100000 записей. Пропусков нет.\n",
    "\n",
    "## 2. Предобработка данных\n",
    "\n",
    "Ранее увидели что пропусков нет, оценим наличие дубликатов:"
   ]
  },
  {
   "cell_type": "code",
   "execution_count": 13,
   "id": "33dade27-b40c-450d-b062-c5179e443b8f",
   "metadata": {},
   "outputs": [
    {
     "name": "stdout",
     "output_type": "stream",
     "text": [
      "0\n",
      "0\n",
      "0\n"
     ]
    }
   ],
   "source": [
    "tables = [geo_data_0, geo_data_1, geo_data_2]\n",
    "for df in tables:\n",
    "    print(df.duplicated().sum())"
   ]
  },
  {
   "cell_type": "code",
   "execution_count": 14,
   "id": "ac8e2b25-911c-47be-b23d-9515fa6e3a1e",
   "metadata": {},
   "outputs": [
    {
     "name": "stdout",
     "output_type": "stream",
     "text": [
      "10\n",
      "4\n",
      "4\n"
     ]
    }
   ],
   "source": [
    "for df in tables:\n",
    "    print(df.id.duplicated().sum())"
   ]
  },
  {
   "cell_type": "code",
   "execution_count": 15,
   "id": "8ed50fd1-a742-41f7-874f-9f6d23e56804",
   "metadata": {},
   "outputs": [
    {
     "data": {
      "text/html": [
       "<div>\n",
       "<style scoped>\n",
       "    .dataframe tbody tr th:only-of-type {\n",
       "        vertical-align: middle;\n",
       "    }\n",
       "\n",
       "    .dataframe tbody tr th {\n",
       "        vertical-align: top;\n",
       "    }\n",
       "\n",
       "    .dataframe thead th {\n",
       "        text-align: right;\n",
       "    }\n",
       "</style>\n",
       "<table border=\"1\" class=\"dataframe\">\n",
       "  <thead>\n",
       "    <tr style=\"text-align: right;\">\n",
       "      <th></th>\n",
       "      <th>id</th>\n",
       "      <th>f0</th>\n",
       "      <th>f1</th>\n",
       "      <th>f2</th>\n",
       "      <th>product</th>\n",
       "    </tr>\n",
       "  </thead>\n",
       "  <tbody>\n",
       "    <tr>\n",
       "      <th>7530</th>\n",
       "      <td>HZww2</td>\n",
       "      <td>1.061194</td>\n",
       "      <td>-0.373969</td>\n",
       "      <td>10.430210</td>\n",
       "      <td>158.828695</td>\n",
       "    </tr>\n",
       "    <tr>\n",
       "      <th>41724</th>\n",
       "      <td>bxg6G</td>\n",
       "      <td>-0.823752</td>\n",
       "      <td>0.546319</td>\n",
       "      <td>3.630479</td>\n",
       "      <td>93.007798</td>\n",
       "    </tr>\n",
       "    <tr>\n",
       "      <th>51970</th>\n",
       "      <td>A5aEY</td>\n",
       "      <td>-0.180335</td>\n",
       "      <td>0.935548</td>\n",
       "      <td>-2.094773</td>\n",
       "      <td>33.020205</td>\n",
       "    </tr>\n",
       "    <tr>\n",
       "      <th>63593</th>\n",
       "      <td>QcMuo</td>\n",
       "      <td>0.635635</td>\n",
       "      <td>-0.473422</td>\n",
       "      <td>0.862670</td>\n",
       "      <td>64.578675</td>\n",
       "    </tr>\n",
       "    <tr>\n",
       "      <th>66136</th>\n",
       "      <td>74z30</td>\n",
       "      <td>1.084962</td>\n",
       "      <td>-0.312358</td>\n",
       "      <td>6.990771</td>\n",
       "      <td>127.643327</td>\n",
       "    </tr>\n",
       "    <tr>\n",
       "      <th>69163</th>\n",
       "      <td>AGS9W</td>\n",
       "      <td>-0.933795</td>\n",
       "      <td>0.116194</td>\n",
       "      <td>-3.655896</td>\n",
       "      <td>19.230453</td>\n",
       "    </tr>\n",
       "    <tr>\n",
       "      <th>75715</th>\n",
       "      <td>Tdehs</td>\n",
       "      <td>0.112079</td>\n",
       "      <td>0.430296</td>\n",
       "      <td>3.218993</td>\n",
       "      <td>60.964018</td>\n",
       "    </tr>\n",
       "    <tr>\n",
       "      <th>90815</th>\n",
       "      <td>fiKDv</td>\n",
       "      <td>0.049883</td>\n",
       "      <td>0.841313</td>\n",
       "      <td>6.394613</td>\n",
       "      <td>137.346586</td>\n",
       "    </tr>\n",
       "    <tr>\n",
       "      <th>92341</th>\n",
       "      <td>TtcGQ</td>\n",
       "      <td>0.110711</td>\n",
       "      <td>1.022689</td>\n",
       "      <td>0.911381</td>\n",
       "      <td>101.318008</td>\n",
       "    </tr>\n",
       "    <tr>\n",
       "      <th>97785</th>\n",
       "      <td>bsk9y</td>\n",
       "      <td>0.378429</td>\n",
       "      <td>0.005837</td>\n",
       "      <td>0.160827</td>\n",
       "      <td>160.637302</td>\n",
       "    </tr>\n",
       "  </tbody>\n",
       "</table>\n",
       "</div>"
      ],
      "text/plain": [
       "          id        f0        f1         f2     product\n",
       "7530   HZww2  1.061194 -0.373969  10.430210  158.828695\n",
       "41724  bxg6G -0.823752  0.546319   3.630479   93.007798\n",
       "51970  A5aEY -0.180335  0.935548  -2.094773   33.020205\n",
       "63593  QcMuo  0.635635 -0.473422   0.862670   64.578675\n",
       "66136  74z30  1.084962 -0.312358   6.990771  127.643327\n",
       "69163  AGS9W -0.933795  0.116194  -3.655896   19.230453\n",
       "75715  Tdehs  0.112079  0.430296   3.218993   60.964018\n",
       "90815  fiKDv  0.049883  0.841313   6.394613  137.346586\n",
       "92341  TtcGQ  0.110711  1.022689   0.911381  101.318008\n",
       "97785  bsk9y  0.378429  0.005837   0.160827  160.637302"
      ]
     },
     "execution_count": 15,
     "metadata": {},
     "output_type": "execute_result"
    }
   ],
   "source": [
    "geo_data_0[geo_data_0.duplicated(subset='id')]"
   ]
  },
  {
   "cell_type": "code",
   "execution_count": 16,
   "id": "b2d74d88-7035-4064-9b86-0dd71615b8b3",
   "metadata": {},
   "outputs": [
    {
     "data": {
      "text/html": [
       "<div>\n",
       "<style scoped>\n",
       "    .dataframe tbody tr th:only-of-type {\n",
       "        vertical-align: middle;\n",
       "    }\n",
       "\n",
       "    .dataframe tbody tr th {\n",
       "        vertical-align: top;\n",
       "    }\n",
       "\n",
       "    .dataframe thead th {\n",
       "        text-align: right;\n",
       "    }\n",
       "</style>\n",
       "<table border=\"1\" class=\"dataframe\">\n",
       "  <thead>\n",
       "    <tr style=\"text-align: right;\">\n",
       "      <th></th>\n",
       "      <th>id</th>\n",
       "      <th>f0</th>\n",
       "      <th>f1</th>\n",
       "      <th>f2</th>\n",
       "      <th>product</th>\n",
       "    </tr>\n",
       "  </thead>\n",
       "  <tbody>\n",
       "    <tr>\n",
       "      <th>931</th>\n",
       "      <td>HZww2</td>\n",
       "      <td>0.755284</td>\n",
       "      <td>0.368511</td>\n",
       "      <td>1.863211</td>\n",
       "      <td>30.681774</td>\n",
       "    </tr>\n",
       "    <tr>\n",
       "      <th>7530</th>\n",
       "      <td>HZww2</td>\n",
       "      <td>1.061194</td>\n",
       "      <td>-0.373969</td>\n",
       "      <td>10.430210</td>\n",
       "      <td>158.828695</td>\n",
       "    </tr>\n",
       "  </tbody>\n",
       "</table>\n",
       "</div>"
      ],
      "text/plain": [
       "         id        f0        f1         f2     product\n",
       "931   HZww2  0.755284  0.368511   1.863211   30.681774\n",
       "7530  HZww2  1.061194 -0.373969  10.430210  158.828695"
      ]
     },
     "execution_count": 16,
     "metadata": {},
     "output_type": "execute_result"
    }
   ],
   "source": [
    "geo_data_0[geo_data_0.id=='HZww2']"
   ]
  },
  {
   "cell_type": "markdown",
   "id": "6ab8822b-a467-4c01-ade2-ae5c22d3a75a",
   "metadata": {},
   "source": [
    "Странно, в датасетах есть дубли уникальных id скважин, при этом характеристики скважин разные. Это может быть ошибка в id или данные по одной скважине, но сделанные в разное время. Так как непонятно как из данных актуальны и неошибочны, уберем из датасетев записи с id у которых есть id-дубликаты."
   ]
  },
  {
   "cell_type": "code",
   "execution_count": 17,
   "id": "111498c0-316b-44c2-bc21-939c32f3eaa8",
   "metadata": {},
   "outputs": [],
   "source": [
    "geo_data_0 = geo_data_0[~geo_data_0.id.isin(geo_data_0[geo_data_0.duplicated(subset='id')]['id'])]\n",
    "geo_data_1 = geo_data_1[~geo_data_1.id.isin(geo_data_1[geo_data_1.duplicated(subset='id')]['id'])]\n",
    "geo_data_2 = geo_data_2[~geo_data_2.id.isin(geo_data_2[geo_data_2.duplicated(subset='id')]['id'])]"
   ]
  },
  {
   "cell_type": "code",
   "execution_count": 18,
   "id": "e34ee796-4860-467b-9bcf-a142c1b39a44",
   "metadata": {},
   "outputs": [
    {
     "name": "stdout",
     "output_type": "stream",
     "text": [
      "(99980, 5)\n",
      "(99992, 5)\n",
      "(99992, 5)\n"
     ]
    }
   ],
   "source": [
    "tables = [geo_data_0, geo_data_1, geo_data_2]\n",
    "for df in tables:\n",
    "    print(df.shape)"
   ]
  },
  {
   "cell_type": "markdown",
   "id": "7116e87e-fe1b-4d5f-94b4-4af047c91923",
   "metadata": {},
   "source": [
    "### 2.1 Вывод\n",
    "- Пропусков в датасетах нет.\n",
    "- Дубликатов записей нет.\n",
    "- Есть дубликаты id для которых представлены разные признаки, записи с этими id удалили."
   ]
  },
  {
   "cell_type": "markdown",
   "id": "3b6103ef-340e-40a0-8ebd-b08b2ef4c67b",
   "metadata": {},
   "source": [
    "## 3. EDA\n",
    "\n",
    "### 3.1 Распределение и разброс признаков\n",
    "Посмотрим распределение признаков в датасетах. Все признаки - количественные непрерывные."
   ]
  },
  {
   "cell_type": "code",
   "execution_count": 19,
   "id": "d755734d-f89c-4656-baeb-0d6fbdeabb72",
   "metadata": {},
   "outputs": [],
   "source": [
    "def hist_for_nums(data, cols, bins = 100):\n",
    "    for col, ax in zip(cols, axs.ravel()):\n",
    "        sns.histplot(data = data[col], ax=ax, bins = bins )\n",
    "        ax.set_title(col)\n",
    "        ax.set_xlabel(col)\n",
    "        ax.set_ylabel('Число скважин')"
   ]
  },
  {
   "cell_type": "code",
   "execution_count": 20,
   "id": "91e8ef04-1e1a-4e8d-87e5-49f621eb7dac",
   "metadata": {},
   "outputs": [],
   "source": [
    "def box_for_nums(data, cols):\n",
    "    for col, ax in zip(cols, axs.ravel()):\n",
    "        sns.boxplot(data = data[col].values, ax=ax)\n",
    "        ax.set_title(col)\n",
    "        ax.set_ylabel(col)"
   ]
  },
  {
   "cell_type": "code",
   "execution_count": 21,
   "id": "78dc51f3-1e6d-46fb-9975-bce1d0e29f1d",
   "metadata": {},
   "outputs": [
    {
     "data": {
      "image/png": "[encoded data removed]",
      "text/plain": [
       "<Figure size 1440x360 with 4 Axes>"
      ]
     },
     "metadata": {
      "needs_background": "light"
     },
     "output_type": "display_data"
    }
   ],
   "source": [
    "columns = geo_data_0.drop(columns='id').columns\n",
    "fig, axs = plt.subplots(nrows=1, ncols=4, figsize=(20, 5))\n",
    "fig.suptitle('Регион 1: Распределение непрерывных признаков' , fontsize=18,  y=1)\n",
    "hist_for_nums(geo_data_0,columns)\n",
    "\n",
    "axs[0].set_title(\"fo\")\n",
    "axs[0].set_xlabel('fo')\n",
    "\n",
    "axs[1].set_title(\"f1\")\n",
    "axs[1].set_xlabel('f1')\n",
    "\n",
    "axs[2].set_title(\"f2\")\n",
    "axs[2].set_xlabel('f2')\n",
    "\n",
    "axs[3].set_title(\"объем запасов в скажине\")\n",
    "axs[3].set_xlabel('объём запасов в скважине, тыс. баррелей');"
   ]
  },
  {
   "cell_type": "code",
   "execution_count": 22,
   "id": "b478c566-73d2-4978-927c-cd967cd90c6a",
   "metadata": {},
   "outputs": [
    {
     "data": {
      "image/png": "[encoded data removed]",
      "text/plain": [
       "<Figure size 1440x360 with 4 Axes>"
      ]
     },
     "metadata": {
      "needs_background": "light"
     },
     "output_type": "display_data"
    }
   ],
   "source": [
    "fig, axs = plt.subplots(nrows=1, ncols=4, figsize=(20, 5))\n",
    "fig.suptitle('Регион 1: Разброс непрерывных признаков' , fontsize=18,  y=1)\n",
    "box_for_nums(geo_data_0,columns)\n",
    "\n",
    "axs[0].set_title(\"fo\")\n",
    "axs[0].set_ylabel('fo')\n",
    "\n",
    "axs[1].set_title(\"f1\")\n",
    "axs[1].set_ylabel('f1')\n",
    "\n",
    "axs[2].set_title(\"f2\")\n",
    "axs[2].set_ylabel('f2')\n",
    "\n",
    "axs[3].set_title(\"объем запасов в скажине\")\n",
    "axs[3].set_ylabel('объём запасов в скважине, тыс. баррелей');"
   ]
  },
  {
   "cell_type": "markdown",
   "id": "55141cd0-1fa0-4c62-83ae-6906587c1bac",
   "metadata": {},
   "source": [
    "По  региону 1 близко к нормальному распределению распределены признаки f2 и объем запасов в скважине. Признаки f0 и f1 имеют мультимодальное распределение."
   ]
  },
  {
   "cell_type": "code",
   "execution_count": 23,
   "id": "7b56a51b-5b57-4c69-a30c-6b57478d625a",
   "metadata": {},
   "outputs": [
    {
     "data": {
      "image/png": "[encoded data removed]",
      "text/plain": [
       "<Figure size 1800x360 with 4 Axes>"
      ]
     },
     "metadata": {
      "needs_background": "light"
     },
     "output_type": "display_data"
    }
   ],
   "source": [
    "fig, axs = plt.subplots(nrows=1, ncols=4, figsize=(25, 5))\n",
    "fig.suptitle('Регион 2: Распределение непрерывных признаков' , fontsize=18,  y=1)\n",
    "hist_for_nums(geo_data_1,columns, bins =10)\n",
    "\n",
    "axs[0].set_title(\"fo\")\n",
    "axs[0].set_xlabel('fo')\n",
    "\n",
    "axs[1].set_title(\"f1\")\n",
    "axs[1].set_xlabel('f1')\n",
    "\n",
    "axs[2].set_title(\"f2\")\n",
    "axs[2].set_xlabel('f2')\n",
    "\n",
    "axs[3].set_title(\"объем запасов в скажине\")\n",
    "axs[3].set_xlabel('объём запасов в скважине, тыс. баррелей');"
   ]
  },
  {
   "cell_type": "code",
   "execution_count": 24,
   "id": "6dc9cdf9-a7da-474d-bef2-66a4d2f79edf",
   "metadata": {},
   "outputs": [
    {
     "data": {
      "image/png": "[encoded data removed]",
      "text/plain": [
       "<Figure size 1440x360 with 4 Axes>"
      ]
     },
     "metadata": {
      "needs_background": "light"
     },
     "output_type": "display_data"
    }
   ],
   "source": [
    "fig, axs = plt.subplots(nrows=1, ncols=4, figsize=(20, 5))\n",
    "fig.suptitle('Регион 2: Разброс непрерывных признаков' , fontsize=18,  y=1)\n",
    "box_for_nums(geo_data_1,columns)\n",
    "\n",
    "axs[0].set_title(\"fo\")\n",
    "axs[0].set_ylabel('fo')\n",
    "\n",
    "axs[1].set_title(\"f1\")\n",
    "axs[1].set_ylabel('f1')\n",
    "\n",
    "axs[2].set_title(\"f2\")\n",
    "axs[2].set_ylabel('f2')\n",
    "\n",
    "axs[3].set_title(\"объем запасов в скажине\")\n",
    "axs[3].set_ylabel('объём запасов в скважине, тыс. баррелей');"
   ]
  },
  {
   "cell_type": "markdown",
   "id": "3e1ceda7-df77-4e87-aaaa-0d12f883f9fe",
   "metadata": {},
   "source": [
    "По региону 2 близко к нормальному распределению распределен только признак f1."
   ]
  },
  {
   "cell_type": "code",
   "execution_count": 25,
   "id": "dc05b5f0-d95d-4f2f-9956-7195a347687b",
   "metadata": {},
   "outputs": [
    {
     "data": {
      "image/png": "[encoded data removed]",
      "text/plain": [
       "<Figure size 1440x360 with 4 Axes>"
      ]
     },
     "metadata": {
      "needs_background": "light"
     },
     "output_type": "display_data"
    }
   ],
   "source": [
    "fig, axs = plt.subplots(nrows=1, ncols=4, figsize=(20, 5))\n",
    "fig.suptitle('Регион 3: Распределение непрерывных признаков' , fontsize=18,  y=1)\n",
    "hist_for_nums(geo_data_2,columns)\n",
    "\n",
    "axs[0].set_title(\"fo\")\n",
    "axs[0].set_xlabel('fo')\n",
    "\n",
    "axs[1].set_title(\"f1\")\n",
    "axs[1].set_xlabel('f1')\n",
    "\n",
    "axs[2].set_title(\"f2\")\n",
    "axs[2].set_xlabel('f2')\n",
    "\n",
    "axs[3].set_title(\"объем запасов в скажине\")\n",
    "axs[3].set_xlabel('объём запасов в скважине, тыс. баррелей');"
   ]
  },
  {
   "cell_type": "code",
   "execution_count": 26,
   "id": "82e6a2f5-8b6c-4ff9-8fb2-595ce2de7117",
   "metadata": {},
   "outputs": [
    {
     "data": {
      "image/png": "[encoded data removed]",
      "text/plain": [
       "<Figure size 1440x360 with 4 Axes>"
      ]
     },
     "metadata": {
      "needs_background": "light"
     },
     "output_type": "display_data"
    }
   ],
   "source": [
    "fig, axs = plt.subplots(nrows=1, ncols=4, figsize=(20, 5))\n",
    "fig.suptitle('Регион 3: Разброс непрерывных признаков' , fontsize=18,  y=1)\n",
    "box_for_nums(geo_data_2,columns)\n",
    "\n",
    "axs[0].set_title(\"fo\")\n",
    "axs[0].set_ylabel('fo')\n",
    "\n",
    "axs[1].set_title(\"f1\")\n",
    "axs[1].set_ylabel('f1')\n",
    "\n",
    "axs[2].set_title(\"f2\")\n",
    "axs[2].set_ylabel('f2')\n",
    "\n",
    "axs[3].set_title(\"объем запасов в скажине\")\n",
    "axs[3].set_ylabel('объём запасов в скважине, тыс. баррелей');"
   ]
  },
  {
   "cell_type": "markdown",
   "id": "17c8af24-6052-4b6e-985e-1db0c7f97b82",
   "metadata": {},
   "source": [
    "По региону 3 все признаки распределны близко к нормальному распределению.\n",
    "\n",
    "### 3.2 Корреляции между признаками\n",
    "\n",
    "Так как для регионов 1 и 2 не все характеристики нормально распределены посчитаем коэффициенты корреляции Спирмена. Для третьего региона - посчитаем корреляции Пирсона."
   ]
  },
  {
   "cell_type": "code",
   "execution_count": 27,
   "id": "462f5ebc-6bae-4a18-8c1d-ab4b7ad11e50",
   "metadata": {},
   "outputs": [
    {
     "data": {
      "image/png": "[encoded data removed]",
      "text/plain": [
       "<Figure size 720x576 with 2 Axes>"
      ]
     },
     "metadata": {
      "needs_background": "light"
     },
     "output_type": "display_data"
    }
   ],
   "source": [
    "plt.figure(figsize=(10, 8))\n",
    "sns.heatmap(geo_data_0[columns].corr(method='spearman'), annot=True, cmap='coolwarm')\n",
    "plt.title('Регион 1: матрица корреляций Спирмена')\n",
    "plt.show();"
   ]
  },
  {
   "cell_type": "code",
   "execution_count": 28,
   "id": "7c9e1959-ad4c-45de-b2f4-cc6dd2e62785",
   "metadata": {},
   "outputs": [
    {
     "data": {
      "image/png": "[encoded data removed]",
      "text/plain": [
       "<Figure size 432x288 with 1 Axes>"
      ]
     },
     "metadata": {
      "needs_background": "light"
     },
     "output_type": "display_data"
    }
   ],
   "source": [
    "plt.title('Зависимость объема запасов от f2 в регионе 1')\n",
    "sns.scatterplot(data=geo_data_0, x='f2', y ='product',color=\".2\", alpha = 0.02);"
   ]
  },
  {
   "cell_type": "code",
   "execution_count": 29,
   "id": "5448d353-eecf-48a0-bdb7-2b1c67e35529",
   "metadata": {},
   "outputs": [
    {
     "data": {
      "image/png": "[encoded data removed]",
      "text/plain": [
       "<Figure size 720x576 with 2 Axes>"
      ]
     },
     "metadata": {
      "needs_background": "light"
     },
     "output_type": "display_data"
    }
   ],
   "source": [
    "plt.figure(figsize=(10, 8))\n",
    "sns.heatmap(geo_data_1[columns].corr(method='spearman'), annot=True, cmap='coolwarm')\n",
    "plt.title('Регион 2: матрица корреляций Спирмена')\n",
    "plt.show();"
   ]
  },
  {
   "cell_type": "code",
   "execution_count": 30,
   "id": "03476602-0b74-474c-a82b-5bf374be638c",
   "metadata": {},
   "outputs": [
    {
     "data": {
      "image/png": "[encoded data removed]",
      "text/plain": [
       "<Figure size 432x288 with 1 Axes>"
      ]
     },
     "metadata": {
      "needs_background": "light"
     },
     "output_type": "display_data"
    }
   ],
   "source": [
    "plt.title('Зависимость объема запасов от f2 в регионе 2')\n",
    "sns.scatterplot(data=geo_data_1, x='f2',color=\".2\", y ='product');"
   ]
  },
  {
   "cell_type": "code",
   "execution_count": 31,
   "id": "bf8ac5ad-be71-4061-b40e-81d7b6981d5a",
   "metadata": {},
   "outputs": [
    {
     "data": {
      "image/png": "[encoded data removed]",
      "text/plain": [
       "<Figure size 720x576 with 2 Axes>"
      ]
     },
     "metadata": {
      "needs_background": "light"
     },
     "output_type": "display_data"
    }
   ],
   "source": [
    "plt.figure(figsize=(10, 8))\n",
    "sns.heatmap(geo_data_2[columns].corr(method='pearson'), annot=True, cmap='coolwarm')\n",
    "plt.title('Регион 3: матрица корреляций Пирсона')\n",
    "plt.show();"
   ]
  },
  {
   "cell_type": "code",
   "execution_count": 32,
   "id": "f2e98dab-edf4-40ac-89c6-11038e905036",
   "metadata": {},
   "outputs": [
    {
     "data": {
      "image/png": "[encoded data removed]",
      "text/plain": [
       "<Figure size 432x288 with 1 Axes>"
      ]
     },
     "metadata": {
      "needs_background": "light"
     },
     "output_type": "display_data"
    }
   ],
   "source": [
    "plt.title('Зависимость объема запасов от f2 в регионе 2')\n",
    "sns.scatterplot(data=geo_data_2, x='f2', y ='product', color=\".2\", alpha=0.02);"
   ]
  },
  {
   "cell_type": "markdown",
   "id": "44056553-809f-4099-bd73-44fe6837e505",
   "metadata": {},
   "source": [
    "- Для региона 1 f0 и f1 умеренно отрицательно коррелируют. f2 умеренно положительно коррелирует с таргетом product ( объемом запасов в скважине).\n",
    "- Для региона 2 f2 практически полностью определяет таргет. Остальные признаки незначительно связаны между собой.\n",
    "- Для региона 3 f2 умеренно положительно коррелирует с таргетом. Остальные признаки незначительно связаны между собой.\n",
    "\n",
    "### 3.3 Вывод по EDA\n",
    "\n",
    "- В зависимости от региона признаки наблюдаем разные формы распределение признаков. Все признаки только в регионе 3 распределены нормально. \n",
    "- Значительная корреляция признака f1 с таргетом - общая закономерность для всех регионов. Однако в случае региона 2 f2 практически полностью определяет таргет - значение коэффициента корреляции 0.98."
   ]
  },
  {
   "cell_type": "markdown",
   "id": "1fd7315f-4aad-4be8-9ad1-5ecbce5833af",
   "metadata": {},
   "source": [
    "## 4. Построение моделей\n",
    "\n",
    "Подготовим данные и посторим модель линейной регрессии. Таргет - product (объем запасов в скажине, тыс.баррелей). f0, f1, f2 - входные признаки. Оценивать точность моделей будем с помощью метрики RMSE.\n",
    "\n",
    "### 4.1 Подготовка данных\n",
    "\n",
    "Входные признаки стандартизуем с помощью StandardScaler(). "
   ]
  },
  {
   "cell_type": "code",
   "execution_count": 33,
   "id": "219c518a-365c-4925-b6eb-8312dd40b747",
   "metadata": {},
   "outputs": [],
   "source": [
    "cols = ['f0', 'f1', 'f2']"
   ]
  },
  {
   "cell_type": "code",
   "execution_count": 34,
   "id": "9648e102-8a0c-48ca-aaee-5c8fc02b9fae",
   "metadata": {},
   "outputs": [],
   "source": [
    "data_preprocessor = ColumnTransformer(\n",
    "    [\n",
    "        ('num', StandardScaler(), cols)\n",
    "    ], \n",
    "    remainder='passthrough'\n",
    ")"
   ]
  },
  {
   "cell_type": "code",
   "execution_count": 35,
   "id": "99c97f2b-557e-475b-b135-ebb9a3e074fd",
   "metadata": {},
   "outputs": [],
   "source": [
    "pipe_final = Pipeline(\n",
    "    [\n",
    "        ('preprocessor', data_preprocessor),\n",
    "        ('models', LinearRegression())\n",
    "    ]\n",
    ")"
   ]
  },
  {
   "cell_type": "markdown",
   "id": "7c7f5c91-775c-43dd-9708-22db9be57758",
   "metadata": {},
   "source": [
    "### 4.2 Модели "
   ]
  },
  {
   "cell_type": "code",
   "execution_count": 36,
   "id": "3c663b19-66dd-483b-a876-e84d1286ad67",
   "metadata": {},
   "outputs": [],
   "source": [
    "def modeling(data):\n",
    "    X = data.drop(['product', 'id'], axis=1)\n",
    "    y = data['product']\n",
    "    X_train,X_valid, y_train, y_valid = train_test_split(X, y, test_size=0.25,  random_state=RANDOM_STATE)\n",
    "    pipe_final.fit(X_train, y_train)\n",
    "    preds = pipe_final.predict(X_valid)\n",
    "    y_preds = pd.Series(preds)\n",
    "    y_valid = y_valid.reset_index(drop=True)\n",
    "    \n",
    "    pipe_dummy = Pipeline(\n",
    "    [\n",
    "        ('preprocessor', data_preprocessor),\n",
    "        ('models', DummyRegressor(strategy=\"mean\"))\n",
    "    ]\n",
    "    )\n",
    "    pipe_dummy.fit(X_train, y_train)\n",
    "    dummy_preds = pipe_dummy.predict(X_valid)\n",
    "    dummy_error = mean_squared_error(y_valid, dummy_preds, squared=False)\n",
    "\n",
    "    return y_preds, y_valid, dummy_error"
   ]
  },
  {
   "cell_type": "code",
   "execution_count": 37,
   "id": "96155558-c8f9-44ca-91f9-a9a5eaf1603d",
   "metadata": {},
   "outputs": [],
   "source": [
    "y_preds_reg_1,y_valid_reg_1,dummy_error_1  = modeling(geo_data_0)\n",
    "y_preds_reg_2,y_valid_reg_2, dummy_error_2 = modeling(geo_data_1)\n",
    "y_preds_reg_3,y_valid_reg_3,dummy_error_3  = modeling(geo_data_2)"
   ]
  },
  {
   "cell_type": "code",
   "execution_count": 38,
   "id": "eaf34865-4207-4e95-a2e5-2a44c9c96cf6",
   "metadata": {},
   "outputs": [
    {
     "data": {
      "text/html": [
       "<div>\n",
       "<style scoped>\n",
       "    .dataframe tbody tr th:only-of-type {\n",
       "        vertical-align: middle;\n",
       "    }\n",
       "\n",
       "    .dataframe tbody tr th {\n",
       "        vertical-align: top;\n",
       "    }\n",
       "\n",
       "    .dataframe thead th {\n",
       "        text-align: right;\n",
       "    }\n",
       "</style>\n",
       "<table border=\"1\" class=\"dataframe\">\n",
       "  <thead>\n",
       "    <tr style=\"text-align: right;\">\n",
       "      <th></th>\n",
       "      <th>регион</th>\n",
       "      <th>средний прогнозируемый объем запасов в скважине</th>\n",
       "      <th>RMSE</th>\n",
       "      <th>dummy-RMSE</th>\n",
       "    </tr>\n",
       "  </thead>\n",
       "  <tbody>\n",
       "    <tr>\n",
       "      <th>0</th>\n",
       "      <td>1</td>\n",
       "      <td>92.286539</td>\n",
       "      <td>37.761147</td>\n",
       "      <td>44.258708</td>\n",
       "    </tr>\n",
       "    <tr>\n",
       "      <th>0</th>\n",
       "      <td>2</td>\n",
       "      <td>69.168941</td>\n",
       "      <td>0.892864</td>\n",
       "      <td>45.971453</td>\n",
       "    </tr>\n",
       "    <tr>\n",
       "      <th>0</th>\n",
       "      <td>3</td>\n",
       "      <td>94.820691</td>\n",
       "      <td>40.131156</td>\n",
       "      <td>44.725449</td>\n",
       "    </tr>\n",
       "  </tbody>\n",
       "</table>\n",
       "</div>"
      ],
      "text/plain": [
       "   регион  средний прогнозируемый объем запасов в скважине        RMSE  \\\n",
       "0       1                                         92.286539  37.761147   \n",
       "0       2                                         69.168941   0.892864   \n",
       "0       3                                         94.820691  40.131156   \n",
       "\n",
       "   dummy-RMSE  \n",
       "0   44.258708  \n",
       "0   45.971453  \n",
       "0   44.725449  "
      ]
     },
     "execution_count": 38,
     "metadata": {},
     "output_type": "execute_result"
    }
   ],
   "source": [
    "metrics=metrics.append([reg_metrics(y_preds_reg_1, y_valid_reg_1,dummy_error_1,  1), reg_metrics(y_preds_reg_2, y_valid_reg_2,dummy_error_2,  2), \n",
    "                        reg_metrics(y_preds_reg_3, y_valid_reg_3,dummy_error_3, 3)])\n",
    "\n",
    "metrics"
   ]
  },
  {
   "cell_type": "markdown",
   "id": "76a9cd17-551b-4e00-87b4-f4807f01712c",
   "metadata": {},
   "source": [
    "Ошибка дамми регрессора выше, значит наши модели решает задачу лучше, чем константная модель."
   ]
  },
  {
   "cell_type": "markdown",
   "id": "cc9a4406-e647-46a1-a863-9773c040d50f",
   "metadata": {},
   "source": [
    "### 4.5 Вывод\n",
    "- Регион 2 в среднем имеет наименьший прогнозируемый объем запасов в скажине и в то же время предсказания очень точные, ошибка низкая (видимо, по причине сильно корреляции f2 c таргетом).\n",
    "- В Регионе 3 согласно предсказанию наибольший средний объем запасов в скважине, но при этом и самый большой разброс значений, что показывает величина RMSE."
   ]
  },
  {
   "cell_type": "markdown",
   "id": "4657fb47-6373-4d94-ab4f-730890a3ccae",
   "metadata": {},
   "source": [
    "\n",
    "## 5. Расчет прибыли \n",
    "### 5.1 Подготовка к расчету \n",
    "\n",
    "Все ключевые значения для расчётов сохраним в отдельных переменных."
   ]
  },
  {
   "cell_type": "code",
   "execution_count": 39,
   "id": "bb703a23-f357-4415-b54a-d0ab81b0fe05",
   "metadata": {},
   "outputs": [],
   "source": [
    "# При разведке региона исследуют 500 точек\n",
    "N = 500\n",
    "# из которых с помощью машинного обучения выбирают 200 лучших\n",
    "COUNT = 200\n",
    "# Бюджет на разработку скважин в регионе\n",
    "BUDGET = 10_000_000_000\n",
    "# Доход с каждой единицы (тыс баррелей) продукта\n",
    "PRICE_UNIT = 450000"
   ]
  },
  {
   "cell_type": "markdown",
   "id": "7c770c8b-1428-4700-81e9-afa742f325c8",
   "metadata": {},
   "source": [
    "Для того, чтобы разработка была безубыточна, нужно чтоб стоимость объема запасов ново разработанных скважин превышала бюджет разработки."
   ]
  },
  {
   "cell_type": "code",
   "execution_count": 40,
   "id": "c584fb5a-496d-47aa-934f-7495bcad31b8",
   "metadata": {},
   "outputs": [
    {
     "name": "stdout",
     "output_type": "stream",
     "text": [
      "Достаточный объём сырья для безубыточной разработки новой скважины равен 111.11 тыс. баррелей\n"
     ]
    }
   ],
   "source": [
    "# достаточный объём сырья для безубыточной разработки новой скважины равен\n",
    "\n",
    "print(f'Достаточный объём сырья для безубыточной разработки новой скважины равен {round(BUDGET/(COUNT*PRICE_UNIT), 2)} тыс. баррелей')"
   ]
  },
  {
   "cell_type": "code",
   "execution_count": 41,
   "id": "f3a66a9c-49ba-40b4-8c2e-aa8c493a85e7",
   "metadata": {
    "scrolled": true
   },
   "outputs": [
    {
     "name": "stdout",
     "output_type": "stream",
     "text": [
      "Cредний запас в скважине в регионе 1 равен 92.5\n",
      "Cредний запас в скважине в регионе 2 равен 68.82\n",
      "Cредний запас в скважине в регионе 3 равен 95.0\n"
     ]
    }
   ],
   "source": [
    "print(f\"Cредний запас в скважине в регионе 1 равен {round(geo_data_0['product'].mean(),2)}\")\n",
    "print(f\"Cредний запас в скважине в регионе 2 равен {round(geo_data_1['product'].mean(),2)}\")\n",
    "print(f\"Cредний запас в скважине в регионе 3 равен {round(geo_data_2['product'].mean(),2)}\")"
   ]
  },
  {
   "cell_type": "code",
   "execution_count": 42,
   "id": "df7d6df3",
   "metadata": {},
   "outputs": [
    {
     "name": "stdout",
     "output_type": "stream",
     "text": [
      "Cредний запас в скважине из 200 лучших вариантов в регионе 1 равен 184.83\n",
      "Cредний запас в скважине из 200 лучших вариантов в регионе 2 равен 137.95\n",
      "Cредний запас в скважине из 200 лучших вариантов в регионе 3 равен 189.55\n"
     ]
    }
   ],
   "source": [
    "print(f\"Cредний запас в скважине из 200 лучших вариантов в регионе 1 равен {round(geo_data_0['product'].sort_values(ascending=False).head(200).mean(),2)}\")\n",
    "print(f\"Cредний запас в скважине из 200 лучших вариантов в регионе 2 равен {round(geo_data_1['product'].sort_values(ascending=False).head(200).mean(),2)}\")\n",
    "print(f\"Cредний запас в скважине из 200 лучших вариантов в регионе 3 равен {round(geo_data_2['product'].sort_values(ascending=False).head(200).mean(),2)}\")"
   ]
  },
  {
   "cell_type": "markdown",
   "id": "720620c5-0e54-49d3-985d-e65c9ae17fa7",
   "metadata": {},
   "source": [
    "**Вывод**\n",
    "\n",
    "Cредний запас сырья в скважине (учитывая все данные в исходных таблицах) в регионах ниже, чем требуется в новой скважине для безубыточной разработки. Значит нельзя для разработки взять любые 200 скважин, необходимо выбрать скважины 200 скважин с максимальным объемом запасов. \n",
    "\n",
    "### 5.2 Расчет прибыли и рисков\n",
    "\n",
    "Напишем функцию для расчёта прибыли по выбранным скважинам и предсказаниям модели. \n",
    "\n",
    "В функции:\n",
    "- Выберем скважины с максимальными значениями предсказаний. \n",
    "- Просуммируем целевое значение объёма сырья, соответствующее этим предсказаниям.\n",
    "- Рассчитаем прибыль для полученного объёма сырья."
   ]
  },
  {
   "cell_type": "code",
   "execution_count": 43,
   "id": "d4bf29bf-7ca4-485c-9b93-d13c1ee13d3d",
   "metadata": {},
   "outputs": [],
   "source": [
    "def profit(y_preds, y_valid, count, price_per_unit, budget):\n",
    "    y_preds_sorted = y_preds.sort_values(ascending=False)\n",
    "    return (price_per_unit * y_valid[y_preds_sorted.index][:count].sum()) - budget"
   ]
  },
  {
   "cell_type": "code",
   "execution_count": 44,
   "id": "c2b301ce-ed8d-4418-8300-12bbadbd58f8",
   "metadata": {},
   "outputs": [
    {
     "data": {
      "text/plain": [
       "2103914701.2991962"
      ]
     },
     "execution_count": 44,
     "metadata": {},
     "output_type": "execute_result"
    }
   ],
   "source": [
    "profit(y_preds_reg_3,y_valid_reg_3, COUNT,PRICE_UNIT, BUDGET)"
   ]
  },
  {
   "cell_type": "markdown",
   "id": "cacbfcfe-cea3-4def-b672-85697cb7e458",
   "metadata": {},
   "source": [
    "Функция вроде бы работает верно.\n",
    "\n",
    "Теперь, \n",
    "- Применим технику Bootstrap с 1000 выборок, чтобы найти распределение прибыли.\n",
    "- Найдем среднюю прибыль, 95%-й доверительный интервал и риск убытков."
   ]
  },
  {
   "cell_type": "code",
   "execution_count": 45,
   "id": "143b21b1",
   "metadata": {},
   "outputs": [],
   "source": [
    "def bootstrap_region(y_valid, y_preds):\n",
    "    values = []\n",
    "    state = np.random.RandomState(12345)\n",
    "    for i in range(1000):\n",
    "        sampl = y_valid.sample(n=N, replace=True, random_state=state) \n",
    "    \n",
    "        values.append(profit(y_preds[sampl.index],sampl, COUNT, PRICE_UNIT, BUDGET)/1_000_000)\n",
    "\n",
    "    values = pd.Series(values)\n",
    "# 95%  доверительный интервал\n",
    "    lower = values.quantile(0.025)\n",
    "    upper = values.quantile(0.975)\n",
    "# средняя прибыль\n",
    "    mean = values.mean()\n",
    "# риск убытка\n",
    "    p_risk = values[values<0].count()/values.count()*100\n",
    "    \n",
    "    print(\"Средняя прибыль,  млн руб:\", round(mean,2))\n",
    "    print(f\"95%-ный доверительный интервал для прибыли: от {round(lower,2)} млн руб до {round(upper,2)} млн руб\")\n",
    "    print(\"Риск убытка:\", round(p_risk,2), \"%\")"
   ]
  },
  {
   "cell_type": "code",
   "execution_count": 46,
   "id": "ce79b91d",
   "metadata": {
    "scrolled": true
   },
   "outputs": [
    {
     "name": "stdout",
     "output_type": "stream",
     "text": [
      "Регион 1\n",
      "Средняя прибыль,  млн руб: 424.64\n",
      "95%-ный доверительный интервал для прибыли: от -129.56 млн руб до 999.55 млн руб\n",
      "Риск убытка: 6.6 %\n"
     ]
    }
   ],
   "source": [
    "print('Регион 1')\n",
    "bootstrap_region(y_valid_reg_1, y_preds_reg_1)"
   ]
  },
  {
   "cell_type": "code",
   "execution_count": 47,
   "id": "7bb6e613",
   "metadata": {
    "scrolled": true
   },
   "outputs": [
    {
     "name": "stdout",
     "output_type": "stream",
     "text": [
      "Регион 2\n",
      "Средняя прибыль,  млн руб: 547.01\n",
      "95%-ный доверительный интервал для прибыли: от 112.94 млн руб до 966.48 млн руб\n",
      "Риск убытка: 0.6 %\n"
     ]
    }
   ],
   "source": [
    "print('Регион 2')\n",
    "bootstrap_region(y_valid_reg_2, y_preds_reg_2)"
   ]
  },
  {
   "cell_type": "code",
   "execution_count": 48,
   "id": "19830dfd",
   "metadata": {},
   "outputs": [
    {
     "name": "stdout",
     "output_type": "stream",
     "text": [
      "Регион 3\n",
      "Средняя прибыль,  млн руб: 383.22\n",
      "95%-ный доверительный интервал для прибыли: от -129.5 млн руб до 959.79 млн руб\n",
      "Риск убытка: 7.2 %\n"
     ]
    }
   ],
   "source": [
    "print('Регион 3')\n",
    "bootstrap_region(y_valid_reg_3, y_preds_reg_3)"
   ]
  },
  {
   "cell_type": "markdown",
   "id": "1cc554c9-af40-4b2b-b04d-b93f84150753",
   "metadata": {},
   "source": [
    "### 5.3 Вывод\n",
    "\n",
    "**Второй регион** является наиболее привлекательным, если рассматривать среднюю прибыль и вероятность понести убытки, т.к. для этого региона самая высокая прибыль от разработки скважин и наименьшие риски убытков (подходит под критерий менее 2.5% риска убытков) относительно остальных двух регионов."
   ]
  },
  {
   "cell_type": "markdown",
   "id": "e63883ee-c258-41c5-9c99-da509a2d24a0",
   "metadata": {},
   "source": [
    "## 6. Итоговый вывод исследования\n",
    "\n",
    "1. **Обзор данных**\n",
    "Данные геологоразведки трёх регионов находятся в таблицах: `geo_data_0`,`geo_data_1`, `geo_data_2`.В каждой таблице с характеристиками скважин по региону 100000 записей. В таблицах представлены значимы признаки f0, f1, f2, а также целевой признак product - объем запасов в скважине (тыс.баррелей).\n",
    "\n",
    "2. **Предобработка данных**\n",
    "- Пропусков в датасетах нет.\n",
    "- Дубликатов записей нет.\n",
    "- Есть дубликаты id для которых представлены разные признаки, записи с этими id удалили.\n",
    "\n",
    "3. **EDA**\n",
    "- В зависимости от региона признаки наблюдаем разные формы распределение признаков. Все признаки только в регионе 3 распределены нормально. \n",
    "- Значительная корреляция признака f1 с таргетом - общая закономерность для всех регионов. Однако в случае региона 2 f2 практически полностью определяет таргет - значение коэффициента корреляции 0.98.\n",
    "\n",
    "4. **Построение моделей**\n",
    "- Для каждого региона построена модель линейной регрессии. Входные признаки - признаки f0, f1, f2 для этого региона, таргет - признак product.\n",
    "- Полученные модели адекватны.\n",
    "- Регион 2 в среднем имеет наименьший прогнозируемый объем запасов в скажине и, в то же время, очень точные предсказания, ошибка низкая (видимо, по причине сильно корреляции f2 c таргетом).\n",
    "- В Регионе 3 согласно предсказанию наибольший средний объем запасов в скважине, но при этом и самый большой разброс значений, что показывает величина RMSE.\n",
    "\n",
    "5. **Расчет прибыли и определение наиболее прибыльного региона**\n",
    "- Достаточный объём сырья в одной скважине из 200 для безубыточной разработки новой скважины равен 111.11 тыс. баррелей. Это выше, чем среднее значение по каждому региону по всей выборке. Значит нельзя для разработки взять любые 200 скважин, необходимо выбрать скважины 200 скважин с максимальным объемом запасов. \n",
    "- При помощи техники Bootstrap с 1000 выборок нашли распределение прибыли и посчитали среднее значение прибыли, 95% доверительный интервал и риск убытков в каждом регионе на условиях бизнеса: \n",
    "  - При разведке региона исследуют 500 точек, из которых с помощью машинного обучения следует выбрать 200 лучших для разработки. \n",
    "  - Бюджет на разработку скважин в регионе — 10 млрд рублей. \n",
    "  - Доход с каждой единицы продукта составляет 450 тыс. рублей. \n",
    "  - Оставить лишь те регионы, в которых вероятность убытков меньше 2.5%.\n",
    "- Для **первого региона** средняя прибыль составит 424.64 млн рублей. 95%-ный доверительный интервал для прибыли: от -129.56 млн руб до 999.55 млн руб. При этом риск убытка составит 6.6 %\n",
    "- Для **второго региона** средняя прибыль составит 547.01 млн рублей. 95%-ный доверительный интервал для прибыли: от 112.94 млн руб до 966.48 млн руб. При этом риск убытка минимальный - 0.6%.\n",
    "- Для **третьего региона** средняя прибыль составит 383.22 млн рублей. 95%-ный доверительный интервал для прибыли: от -129.5 млн руб до 959.79 млн руб. При этом риск убытка наибольший из трех - 7.2%.\n",
    "\n",
    "**Таким образом, для разработки следует выбрать второй регион**, т.к. для этого региона самая высокая прибыль от разработки 200 скважин и наименьшие риски убытков (подходит под критерий менее 2.5% риска убытков) относительно остальных двух регионов."
   ]
  }
 ],
 "metadata": {
  "ExecuteTimeLog": [
   {
    "duration": 1693,
    "start_time": "2023-12-07T06:07:06.527Z"
   },
   {
    "duration": 4,
    "start_time": "2023-12-07T06:07:10.379Z"
   },
   {
    "duration": 838,
    "start_time": "2023-12-07T06:07:12.707Z"
   },
   {
    "duration": 16,
    "start_time": "2023-12-07T06:07:13.547Z"
   },
   {
    "duration": 16,
    "start_time": "2023-12-07T06:07:16.670Z"
   },
   {
    "duration": 41,
    "start_time": "2023-12-07T06:07:17.130Z"
   },
   {
    "duration": 12,
    "start_time": "2023-12-07T06:07:17.698Z"
   },
   {
    "duration": 14,
    "start_time": "2023-12-07T06:07:18.358Z"
   },
   {
    "duration": 37,
    "start_time": "2023-12-07T06:07:19.031Z"
   },
   {
    "duration": 11,
    "start_time": "2023-12-07T06:07:20.314Z"
   },
   {
    "duration": 23,
    "start_time": "2023-12-07T06:07:21.111Z"
   },
   {
    "duration": 34,
    "start_time": "2023-12-07T06:07:21.881Z"
   },
   {
    "duration": 121,
    "start_time": "2023-12-07T06:07:26.947Z"
   },
   {
    "duration": 43,
    "start_time": "2023-12-07T06:07:27.421Z"
   },
   {
    "duration": 28,
    "start_time": "2023-12-07T06:07:29.125Z"
   },
   {
    "duration": 20,
    "start_time": "2023-12-07T06:07:29.795Z"
   },
   {
    "duration": 87,
    "start_time": "2023-12-07T06:07:31.567Z"
   },
   {
    "duration": 6,
    "start_time": "2023-12-07T06:07:32.243Z"
   },
   {
    "duration": 3,
    "start_time": "2023-12-07T06:07:36.641Z"
   },
   {
    "duration": 3,
    "start_time": "2023-12-07T06:07:37.275Z"
   },
   {
    "duration": 1252,
    "start_time": "2023-12-07T06:07:37.933Z"
   },
   {
    "duration": 362,
    "start_time": "2023-12-07T06:07:40.092Z"
   },
   {
    "duration": 723,
    "start_time": "2023-12-07T06:07:41.721Z"
   },
   {
    "duration": 389,
    "start_time": "2023-12-07T06:07:42.809Z"
   },
   {
    "duration": 1329,
    "start_time": "2023-12-07T06:07:44.415Z"
   },
   {
    "duration": 390,
    "start_time": "2023-12-07T06:07:45.746Z"
   },
   {
    "duration": 439,
    "start_time": "2023-12-07T06:07:47.561Z"
   },
   {
    "duration": 324,
    "start_time": "2023-12-07T06:07:48.328Z"
   },
   {
    "duration": 391,
    "start_time": "2023-12-07T06:07:49.661Z"
   },
   {
    "duration": 312,
    "start_time": "2023-12-07T06:07:50.563Z"
   },
   {
    "duration": 300,
    "start_time": "2023-12-07T06:07:52.855Z"
   },
   {
    "duration": 384,
    "start_time": "2023-12-07T06:07:54.637Z"
   },
   {
    "duration": 108,
    "start_time": "2023-12-07T06:09:16.077Z"
   },
   {
    "duration": 3,
    "start_time": "2023-12-07T06:11:40.253Z"
   },
   {
    "duration": 2,
    "start_time": "2023-12-07T06:11:40.681Z"
   },
   {
    "duration": 3,
    "start_time": "2023-12-07T06:11:41.067Z"
   },
   {
    "duration": 4,
    "start_time": "2023-12-07T06:11:46.094Z"
   },
   {
    "duration": 11,
    "start_time": "2023-12-07T06:11:46.657Z"
   },
   {
    "duration": 4,
    "start_time": "2023-12-07T06:11:47.219Z"
   },
   {
    "duration": 272,
    "start_time": "2023-12-07T06:11:48.956Z"
   },
   {
    "duration": 12,
    "start_time": "2023-12-07T06:11:50.877Z"
   },
   {
    "duration": 5,
    "start_time": "2023-12-07T06:11:51.307Z"
   },
   {
    "duration": 4,
    "start_time": "2023-12-07T06:11:53.406Z"
   },
   {
    "duration": 9,
    "start_time": "2023-12-07T06:11:53.897Z"
   },
   {
    "duration": 4,
    "start_time": "2023-12-07T06:11:57.487Z"
   },
   {
    "duration": 17,
    "start_time": "2023-12-07T06:11:57.860Z"
   },
   {
    "duration": 4,
    "start_time": "2023-12-07T06:12:00.438Z"
   },
   {
    "duration": 11,
    "start_time": "2023-12-07T06:12:00.864Z"
   },
   {
    "duration": 3,
    "start_time": "2023-12-07T06:12:01.301Z"
   },
   {
    "duration": 21,
    "start_time": "2023-12-07T06:12:02.129Z"
   },
   {
    "duration": 17,
    "start_time": "2023-12-07T06:12:02.708Z"
   },
   {
    "duration": 11,
    "start_time": "2023-12-07T06:12:03.343Z"
   },
   {
    "duration": 15,
    "start_time": "2023-12-07T06:12:04.602Z"
   },
   {
    "duration": 3,
    "start_time": "2023-12-07T06:12:07.136Z"
   },
   {
    "duration": 10,
    "start_time": "2023-12-07T06:12:07.401Z"
   },
   {
    "duration": 4,
    "start_time": "2023-12-07T06:12:07.631Z"
   },
   {
    "duration": 22,
    "start_time": "2023-12-07T06:12:08.231Z"
   },
   {
    "duration": 7,
    "start_time": "2023-12-07T06:12:09.994Z"
   },
   {
    "duration": 9,
    "start_time": "2023-12-07T06:12:10.686Z"
   },
   {
    "duration": 16,
    "start_time": "2023-12-07T06:12:14.606Z"
   },
   {
    "duration": 5,
    "start_time": "2023-12-07T06:17:46.475Z"
   },
   {
    "duration": 3,
    "start_time": "2023-12-07T06:19:09.440Z"
   },
   {
    "duration": 4,
    "start_time": "2023-12-07T06:19:17.546Z"
   },
   {
    "duration": 6,
    "start_time": "2023-12-07T06:19:29.949Z"
   },
   {
    "duration": 19,
    "start_time": "2023-12-07T06:24:58.710Z"
   },
   {
    "duration": 37,
    "start_time": "2023-12-07T06:25:17.029Z"
   },
   {
    "duration": 80,
    "start_time": "2023-12-07T06:27:32.666Z"
   },
   {
    "duration": 40,
    "start_time": "2023-12-07T06:28:01.733Z"
   },
   {
    "duration": 3,
    "start_time": "2023-12-07T06:29:00.517Z"
   },
   {
    "duration": 3,
    "start_time": "2023-12-07T06:29:30.457Z"
   },
   {
    "duration": 10,
    "start_time": "2023-12-07T06:29:50.455Z"
   },
   {
    "duration": 13,
    "start_time": "2023-12-07T06:30:23.563Z"
   },
   {
    "duration": 14,
    "start_time": "2023-12-07T06:30:49.760Z"
   },
   {
    "duration": 1390,
    "start_time": "2023-12-07T06:30:58.708Z"
   },
   {
    "duration": 1378,
    "start_time": "2023-12-07T06:31:07.659Z"
   },
   {
    "duration": 1416,
    "start_time": "2023-12-07T06:31:50.555Z"
   },
   {
    "duration": 1367,
    "start_time": "2023-12-07T06:33:05.751Z"
   },
   {
    "duration": 9,
    "start_time": "2023-12-07T06:36:19.311Z"
   },
   {
    "duration": 10,
    "start_time": "2023-12-07T06:36:27.522Z"
   },
   {
    "duration": 91,
    "start_time": "2023-12-07T06:38:26.783Z"
   },
   {
    "duration": 6,
    "start_time": "2023-12-07T06:38:31.411Z"
   },
   {
    "duration": 77,
    "start_time": "2023-12-07T06:38:49.149Z"
   },
   {
    "duration": 1377,
    "start_time": "2023-12-07T06:38:54.745Z"
   },
   {
    "duration": 83,
    "start_time": "2023-12-07T06:40:53.013Z"
   },
   {
    "duration": 1380,
    "start_time": "2023-12-07T06:40:56.049Z"
   },
   {
    "duration": 1485,
    "start_time": "2023-12-07T06:41:20.115Z"
   },
   {
    "duration": 1366,
    "start_time": "2023-12-07T06:42:09.232Z"
   },
   {
    "duration": 5,
    "start_time": "2023-12-07T06:43:02.182Z"
   },
   {
    "duration": 1403,
    "start_time": "2023-12-07T06:43:03.952Z"
   },
   {
    "duration": 1386,
    "start_time": "2023-12-07T06:43:08.309Z"
   },
   {
    "duration": 1394,
    "start_time": "2023-12-07T06:43:11.284Z"
   },
   {
    "duration": 1393,
    "start_time": "2023-12-07T06:44:55.723Z"
   },
   {
    "duration": 1384,
    "start_time": "2023-12-07T06:45:13.922Z"
   },
   {
    "duration": 1376,
    "start_time": "2023-12-07T06:46:40.190Z"
   },
   {
    "duration": 6,
    "start_time": "2023-12-07T06:47:09.240Z"
   },
   {
    "duration": 1601,
    "start_time": "2023-12-07T06:47:10.915Z"
   },
   {
    "duration": 1571,
    "start_time": "2023-12-07T06:47:33.262Z"
   },
   {
    "duration": 6,
    "start_time": "2023-12-07T06:48:00.451Z"
   },
   {
    "duration": 1349,
    "start_time": "2023-12-07T06:48:05.614Z"
   },
   {
    "duration": 1398,
    "start_time": "2023-12-07T06:48:11.861Z"
   },
   {
    "duration": 1382,
    "start_time": "2023-12-07T06:48:16.067Z"
   },
   {
    "duration": 10,
    "start_time": "2023-12-07T06:48:19.417Z"
   },
   {
    "duration": 1382,
    "start_time": "2023-12-07T06:48:24.345Z"
   },
   {
    "duration": 1362,
    "start_time": "2023-12-07T06:50:07.715Z"
   },
   {
    "duration": 1397,
    "start_time": "2023-12-07T06:50:15.024Z"
   },
   {
    "duration": 1376,
    "start_time": "2023-12-07T06:50:36.603Z"
   },
   {
    "duration": 3,
    "start_time": "2023-12-07T06:52:03.640Z"
   },
   {
    "duration": 5,
    "start_time": "2023-12-07T06:52:05.421Z"
   },
   {
    "duration": 1367,
    "start_time": "2023-12-07T06:52:06.330Z"
   },
   {
    "duration": 1339,
    "start_time": "2023-12-07T06:52:11.048Z"
   },
   {
    "duration": 3,
    "start_time": "2023-12-07T06:52:21.305Z"
   },
   {
    "duration": 5,
    "start_time": "2023-12-07T06:52:27.509Z"
   },
   {
    "duration": 1513,
    "start_time": "2023-12-07T06:52:29.029Z"
   },
   {
    "duration": 1368,
    "start_time": "2023-12-07T06:52:57.129Z"
   },
   {
    "duration": 1351,
    "start_time": "2023-12-07T06:53:13.864Z"
   },
   {
    "duration": 5,
    "start_time": "2023-12-07T06:53:41.490Z"
   },
   {
    "duration": 1355,
    "start_time": "2023-12-07T06:53:57.474Z"
   },
   {
    "duration": 1347,
    "start_time": "2023-12-07T06:54:00.883Z"
   },
   {
    "duration": 1342,
    "start_time": "2023-12-07T06:54:06.011Z"
   },
   {
    "duration": 1487,
    "start_time": "2023-12-07T06:54:27.548Z"
   },
   {
    "duration": 1321,
    "start_time": "2023-12-07T06:54:32.622Z"
   },
   {
    "duration": 1345,
    "start_time": "2023-12-07T06:54:40.110Z"
   },
   {
    "duration": 5,
    "start_time": "2023-12-07T06:56:14.039Z"
   },
   {
    "duration": 1356,
    "start_time": "2023-12-07T06:56:14.592Z"
   },
   {
    "duration": 1344,
    "start_time": "2023-12-07T06:56:17.390Z"
   },
   {
    "duration": 1337,
    "start_time": "2023-12-07T06:56:18.736Z"
   },
   {
    "duration": 1545,
    "start_time": "2023-12-07T07:02:27.317Z"
   },
   {
    "duration": 4,
    "start_time": "2023-12-07T07:02:28.864Z"
   },
   {
    "duration": 598,
    "start_time": "2023-12-07T07:02:28.869Z"
   },
   {
    "duration": 20,
    "start_time": "2023-12-07T07:02:29.469Z"
   },
   {
    "duration": 36,
    "start_time": "2023-12-07T07:02:29.491Z"
   },
   {
    "duration": 47,
    "start_time": "2023-12-07T07:02:29.528Z"
   },
   {
    "duration": 11,
    "start_time": "2023-12-07T07:02:29.577Z"
   },
   {
    "duration": 37,
    "start_time": "2023-12-07T07:02:29.589Z"
   },
   {
    "duration": 49,
    "start_time": "2023-12-07T07:02:29.628Z"
   },
   {
    "duration": 11,
    "start_time": "2023-12-07T07:02:29.680Z"
   },
   {
    "duration": 59,
    "start_time": "2023-12-07T07:02:29.692Z"
   },
   {
    "duration": 44,
    "start_time": "2023-12-07T07:02:29.753Z"
   },
   {
    "duration": 168,
    "start_time": "2023-12-07T07:02:29.798Z"
   },
   {
    "duration": 56,
    "start_time": "2023-12-07T07:02:29.967Z"
   },
   {
    "duration": 30,
    "start_time": "2023-12-07T07:02:30.025Z"
   },
   {
    "duration": 94,
    "start_time": "2023-12-07T07:02:30.057Z"
   },
   {
    "duration": 140,
    "start_time": "2023-12-07T07:02:30.153Z"
   },
   {
    "duration": 6,
    "start_time": "2023-12-07T07:02:30.295Z"
   },
   {
    "duration": 36,
    "start_time": "2023-12-07T07:02:30.303Z"
   },
   {
    "duration": 27,
    "start_time": "2023-12-07T07:02:30.340Z"
   },
   {
    "duration": 1381,
    "start_time": "2023-12-07T07:02:30.369Z"
   },
   {
    "duration": 388,
    "start_time": "2023-12-07T07:02:31.751Z"
   },
   {
    "duration": 864,
    "start_time": "2023-12-07T07:02:32.141Z"
   },
   {
    "duration": 397,
    "start_time": "2023-12-07T07:02:33.007Z"
   },
   {
    "duration": 1509,
    "start_time": "2023-12-07T07:02:33.406Z"
   },
   {
    "duration": 391,
    "start_time": "2023-12-07T07:02:34.922Z"
   },
   {
    "duration": 430,
    "start_time": "2023-12-07T07:02:35.315Z"
   },
   {
    "duration": 344,
    "start_time": "2023-12-07T07:02:35.750Z"
   },
   {
    "duration": 380,
    "start_time": "2023-12-07T07:02:36.095Z"
   },
   {
    "duration": 338,
    "start_time": "2023-12-07T07:02:36.477Z"
   },
   {
    "duration": 340,
    "start_time": "2023-12-07T07:02:36.817Z"
   },
   {
    "duration": 490,
    "start_time": "2023-12-07T07:02:37.159Z"
   },
   {
    "duration": 3,
    "start_time": "2023-12-07T07:02:37.651Z"
   },
   {
    "duration": 9,
    "start_time": "2023-12-07T07:02:37.655Z"
   },
   {
    "duration": 8,
    "start_time": "2023-12-07T07:02:37.666Z"
   },
   {
    "duration": 19,
    "start_time": "2023-12-07T07:02:37.676Z"
   },
   {
    "duration": 14,
    "start_time": "2023-12-07T07:02:37.697Z"
   },
   {
    "duration": 4,
    "start_time": "2023-12-07T07:02:37.712Z"
   },
   {
    "duration": 25,
    "start_time": "2023-12-07T07:02:37.718Z"
   },
   {
    "duration": 7,
    "start_time": "2023-12-07T07:02:37.745Z"
   },
   {
    "duration": 77,
    "start_time": "2023-12-07T07:02:37.755Z"
   },
   {
    "duration": 106,
    "start_time": "2023-12-07T07:02:37.834Z"
   },
   {
    "duration": 18,
    "start_time": "2023-12-07T07:02:37.942Z"
   },
   {
    "duration": 28,
    "start_time": "2023-12-07T07:02:37.962Z"
   },
   {
    "duration": 24,
    "start_time": "2023-12-07T07:02:37.992Z"
   },
   {
    "duration": 14,
    "start_time": "2023-12-07T07:02:38.018Z"
   },
   {
    "duration": 72,
    "start_time": "2023-12-07T07:02:38.034Z"
   },
   {
    "duration": 24,
    "start_time": "2023-12-07T07:02:38.107Z"
   },
   {
    "duration": 41,
    "start_time": "2023-12-07T07:02:38.133Z"
   },
   {
    "duration": 29,
    "start_time": "2023-12-07T07:02:38.175Z"
   },
   {
    "duration": 145,
    "start_time": "2023-12-07T07:02:38.206Z"
   },
   {
    "duration": 52,
    "start_time": "2023-12-07T07:02:38.353Z"
   },
   {
    "duration": 21,
    "start_time": "2023-12-07T07:02:38.406Z"
   },
   {
    "duration": 28,
    "start_time": "2023-12-07T07:02:38.428Z"
   },
   {
    "duration": 52,
    "start_time": "2023-12-07T07:02:38.458Z"
   },
   {
    "duration": 29,
    "start_time": "2023-12-07T07:02:38.511Z"
   },
   {
    "duration": 7,
    "start_time": "2023-12-07T07:02:38.542Z"
   },
   {
    "duration": 177,
    "start_time": "2023-12-07T07:02:38.553Z"
   },
   {
    "duration": 16,
    "start_time": "2023-12-07T07:02:38.731Z"
   },
   {
    "duration": 3,
    "start_time": "2023-12-07T07:02:38.748Z"
   },
   {
    "duration": 7,
    "start_time": "2023-12-07T07:02:38.752Z"
   },
   {
    "duration": 11,
    "start_time": "2023-12-07T07:02:38.760Z"
   },
   {
    "duration": 62,
    "start_time": "2023-12-07T07:02:38.772Z"
   },
   {
    "duration": 3,
    "start_time": "2023-12-07T07:02:38.836Z"
   },
   {
    "duration": 11,
    "start_time": "2023-12-07T07:02:38.840Z"
   },
   {
    "duration": 15,
    "start_time": "2023-12-07T07:02:38.853Z"
   },
   {
    "duration": 1400,
    "start_time": "2023-12-07T07:02:38.869Z"
   },
   {
    "duration": 1380,
    "start_time": "2023-12-07T07:02:40.271Z"
   },
   {
    "duration": 1345,
    "start_time": "2023-12-07T07:02:41.652Z"
   },
   {
    "duration": 1727,
    "start_time": "2023-12-07T07:04:10.236Z"
   },
   {
    "duration": 5,
    "start_time": "2023-12-07T07:04:11.964Z"
   },
   {
    "duration": 507,
    "start_time": "2023-12-07T07:04:11.971Z"
   },
   {
    "duration": 17,
    "start_time": "2023-12-07T07:04:12.480Z"
   },
   {
    "duration": 29,
    "start_time": "2023-12-07T07:04:12.498Z"
   },
   {
    "duration": 40,
    "start_time": "2023-12-07T07:04:12.529Z"
   },
   {
    "duration": 12,
    "start_time": "2023-12-07T07:04:12.570Z"
   },
   {
    "duration": 43,
    "start_time": "2023-12-07T07:04:12.583Z"
   },
   {
    "duration": 38,
    "start_time": "2023-12-07T07:04:12.627Z"
   },
   {
    "duration": 12,
    "start_time": "2023-12-07T07:04:12.668Z"
   },
   {
    "duration": 27,
    "start_time": "2023-12-07T07:04:12.681Z"
   },
   {
    "duration": 46,
    "start_time": "2023-12-07T07:04:12.709Z"
   },
   {
    "duration": 150,
    "start_time": "2023-12-07T07:04:12.757Z"
   },
   {
    "duration": 53,
    "start_time": "2023-12-07T07:04:12.909Z"
   },
   {
    "duration": 30,
    "start_time": "2023-12-07T07:04:12.963Z"
   },
   {
    "duration": 35,
    "start_time": "2023-12-07T07:04:12.994Z"
   },
   {
    "duration": 97,
    "start_time": "2023-12-07T07:04:13.031Z"
   },
   {
    "duration": 6,
    "start_time": "2023-12-07T07:04:13.130Z"
   },
   {
    "duration": 4,
    "start_time": "2023-12-07T07:04:13.137Z"
   },
   {
    "duration": 7,
    "start_time": "2023-12-07T07:04:13.142Z"
   },
   {
    "duration": 1324,
    "start_time": "2023-12-07T07:04:13.150Z"
   },
   {
    "duration": 413,
    "start_time": "2023-12-07T07:04:14.475Z"
   },
   {
    "duration": 775,
    "start_time": "2023-12-07T07:04:14.890Z"
   },
   {
    "duration": 390,
    "start_time": "2023-12-07T07:04:15.666Z"
   },
   {
    "duration": 1328,
    "start_time": "2023-12-07T07:04:16.058Z"
   },
   {
    "duration": 415,
    "start_time": "2023-12-07T07:04:17.388Z"
   },
   {
    "duration": 409,
    "start_time": "2023-12-07T07:04:17.805Z"
   },
   {
    "duration": 352,
    "start_time": "2023-12-07T07:04:18.221Z"
   },
   {
    "duration": 379,
    "start_time": "2023-12-07T07:04:18.575Z"
   },
   {
    "duration": 329,
    "start_time": "2023-12-07T07:04:18.955Z"
   },
   {
    "duration": 359,
    "start_time": "2023-12-07T07:04:19.285Z"
   },
   {
    "duration": 500,
    "start_time": "2023-12-07T07:04:19.645Z"
   },
   {
    "duration": 2,
    "start_time": "2023-12-07T07:04:20.147Z"
   },
   {
    "duration": 11,
    "start_time": "2023-12-07T07:04:20.151Z"
   },
   {
    "duration": 19,
    "start_time": "2023-12-07T07:04:20.163Z"
   },
   {
    "duration": 9,
    "start_time": "2023-12-07T07:04:20.184Z"
   },
   {
    "duration": 30,
    "start_time": "2023-12-07T07:04:20.195Z"
   },
   {
    "duration": 24,
    "start_time": "2023-12-07T07:04:20.227Z"
   },
   {
    "duration": 43,
    "start_time": "2023-12-07T07:04:20.253Z"
   },
   {
    "duration": 26,
    "start_time": "2023-12-07T07:04:20.298Z"
   },
   {
    "duration": 114,
    "start_time": "2023-12-07T07:04:20.327Z"
   },
   {
    "duration": 118,
    "start_time": "2023-12-07T07:04:20.442Z"
   },
   {
    "duration": 60,
    "start_time": "2023-12-07T07:04:20.561Z"
   },
   {
    "duration": 38,
    "start_time": "2023-12-07T07:04:20.623Z"
   },
   {
    "duration": 47,
    "start_time": "2023-12-07T07:04:20.663Z"
   },
   {
    "duration": 12,
    "start_time": "2023-12-07T07:04:20.712Z"
   },
   {
    "duration": 24,
    "start_time": "2023-12-07T07:04:20.726Z"
   },
   {
    "duration": 22,
    "start_time": "2023-12-07T07:04:20.751Z"
   },
   {
    "duration": 36,
    "start_time": "2023-12-07T07:04:20.774Z"
   },
   {
    "duration": 16,
    "start_time": "2023-12-07T07:04:20.812Z"
   },
   {
    "duration": 192,
    "start_time": "2023-12-07T07:04:20.831Z"
   },
   {
    "duration": 17,
    "start_time": "2023-12-07T07:04:21.025Z"
   },
   {
    "duration": 12,
    "start_time": "2023-12-07T07:04:21.044Z"
   },
   {
    "duration": 17,
    "start_time": "2023-12-07T07:04:21.057Z"
   },
   {
    "duration": 5,
    "start_time": "2023-12-07T07:04:21.076Z"
   },
   {
    "duration": 41,
    "start_time": "2023-12-07T07:04:21.083Z"
   },
   {
    "duration": 8,
    "start_time": "2023-12-07T07:04:21.126Z"
   },
   {
    "duration": 88,
    "start_time": "2023-12-07T07:04:21.136Z"
   },
   {
    "duration": 108,
    "start_time": "2023-12-07T07:04:21.227Z"
   },
   {
    "duration": 7,
    "start_time": "2023-12-07T07:04:21.336Z"
   },
   {
    "duration": 9,
    "start_time": "2023-12-07T07:04:21.344Z"
   },
   {
    "duration": 6,
    "start_time": "2023-12-07T07:04:21.355Z"
   },
   {
    "duration": 36,
    "start_time": "2023-12-07T07:04:21.362Z"
   },
   {
    "duration": 3,
    "start_time": "2023-12-07T07:04:21.422Z"
   },
   {
    "duration": 14,
    "start_time": "2023-12-07T07:04:21.427Z"
   },
   {
    "duration": 5,
    "start_time": "2023-12-07T07:04:21.443Z"
   },
   {
    "duration": 1426,
    "start_time": "2023-12-07T07:04:21.450Z"
   },
   {
    "duration": 1374,
    "start_time": "2023-12-07T07:04:22.877Z"
   },
   {
    "duration": 1419,
    "start_time": "2023-12-07T07:04:24.253Z"
   }
  ],
  "kernelspec": {
   "display_name": "Python 3 (ipykernel)",
   "language": "python",
   "name": "python3"
  },
  "language_info": {
   "codemirror_mode": {
    "name": "ipython",
    "version": 3
   },
   "file_extension": ".py",
   "mimetype": "text/x-python",
   "name": "python",
   "nbconvert_exporter": "python",
   "pygments_lexer": "ipython3",
   "version": "3.9.5"
  },
  "toc": {
   "base_numbering": 1,
   "nav_menu": {},
   "number_sections": true,
   "sideBar": true,
   "skip_h1_title": true,
   "title_cell": "Table of Contents",
   "title_sidebar": "Contents",
   "toc_cell": false,
   "toc_position": {},
   "toc_section_display": true,
   "toc_window_display": false
  }
 },
 "nbformat": 4,
 "nbformat_minor": 5
}
