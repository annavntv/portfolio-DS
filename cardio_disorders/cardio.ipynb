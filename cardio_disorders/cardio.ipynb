{
 "cells": [
  {
   "cell_type": "markdown",
   "id": "2ff38745-644e-42ac-9c1c-90bbb888ecdb",
   "metadata": {},
   "source": [
    "## Заболевания сердечно-сосудистой системы"
   ]
  },
  {
   "cell_type": "markdown",
   "id": "505f21c3-89aa-4348-971f-66a36771f9ee",
   "metadata": {},
   "source": [
    "Перед нами данные медицинских обследований сердечно-сосудистой системы `cardio_train.csv`. У части пациентов подтвердилось наличие заболевание ССС. В датасете есть данные о параметрах пациентов, возрасте, вредных привычках, а также результаты рутинных обследований (артериальное давление - систолическое `ap_hi` и диастолическое `ap_lo`, холестерин и глбкоза в крови).\n",
    "\n",
    "**Целью этого исследования данных является поиск факторов, влияющих на развитие сердечно-сосудистых заболеваний.**"
   ]
  },
  {
   "cell_type": "markdown",
   "id": "655bc232-6bde-416a-99dc-175977f25a25",
   "metadata": {},
   "source": [
    "### Обзор данных"
   ]
  },
  {
   "cell_type": "code",
   "execution_count": 1,
   "id": "b7f122a5-86eb-439e-badf-d724a756142d",
   "metadata": {},
   "outputs": [],
   "source": [
    "import pandas as pd\n",
    "import seaborn as sns\n",
    "import numpy as np\n",
    "import matplotlib.pyplot as plt"
   ]
  },
  {
   "cell_type": "code",
   "execution_count": 2,
   "id": "11341e5a-0c24-4e33-8243-44d93ccb1ae9",
   "metadata": {},
   "outputs": [],
   "source": [
    "sns.set(); # более красивый внешний вид графиков по умолчанию"
   ]
  },
  {
   "cell_type": "code",
   "execution_count": 3,
   "id": "a8226ce0-0eb7-497a-8bd8-ccc737439841",
   "metadata": {},
   "outputs": [],
   "source": [
    "df = pd.read_csv('cardio_train.csv', sep=';')"
   ]
  },
  {
   "cell_type": "code",
   "execution_count": 4,
   "id": "bf1c40a7-20a5-4fd0-99cb-2dd0305d32eb",
   "metadata": {},
   "outputs": [],
   "source": [
    "#можно выводить основные методы для обзора данных этой функцией\n",
    "def lookthroughdata(data):\n",
    "    return data.head(10).T, data.info(), df.describe().T, data.hist(figsize=(12,15));"
   ]
  },
  {
   "cell_type": "code",
   "execution_count": 5,
   "id": "19aaf27d-3f20-49d6-a6d3-44a8efaa1da0",
   "metadata": {},
   "outputs": [
    {
     "data": {
      "text/html": [
       "<div>\n",
       "<style scoped>\n",
       "    .dataframe tbody tr th:only-of-type {\n",
       "        vertical-align: middle;\n",
       "    }\n",
       "\n",
       "    .dataframe tbody tr th {\n",
       "        vertical-align: top;\n",
       "    }\n",
       "\n",
       "    .dataframe thead th {\n",
       "        text-align: right;\n",
       "    }\n",
       "</style>\n",
       "<table border=\"1\" class=\"dataframe\">\n",
       "  <thead>\n",
       "    <tr style=\"text-align: right;\">\n",
       "      <th></th>\n",
       "      <th>id</th>\n",
       "      <th>age</th>\n",
       "      <th>gender</th>\n",
       "      <th>height</th>\n",
       "      <th>weight</th>\n",
       "      <th>ap_hi</th>\n",
       "      <th>ap_lo</th>\n",
       "      <th>cholesterol</th>\n",
       "      <th>gluc</th>\n",
       "      <th>smoke</th>\n",
       "      <th>alco</th>\n",
       "      <th>active</th>\n",
       "      <th>cardio</th>\n",
       "    </tr>\n",
       "  </thead>\n",
       "  <tbody>\n",
       "    <tr>\n",
       "      <th>0</th>\n",
       "      <td>0</td>\n",
       "      <td>18393</td>\n",
       "      <td>2</td>\n",
       "      <td>168</td>\n",
       "      <td>62.0</td>\n",
       "      <td>110</td>\n",
       "      <td>80</td>\n",
       "      <td>1</td>\n",
       "      <td>1</td>\n",
       "      <td>0</td>\n",
       "      <td>0</td>\n",
       "      <td>1</td>\n",
       "      <td>0</td>\n",
       "    </tr>\n",
       "    <tr>\n",
       "      <th>1</th>\n",
       "      <td>1</td>\n",
       "      <td>20228</td>\n",
       "      <td>1</td>\n",
       "      <td>156</td>\n",
       "      <td>85.0</td>\n",
       "      <td>140</td>\n",
       "      <td>90</td>\n",
       "      <td>3</td>\n",
       "      <td>1</td>\n",
       "      <td>0</td>\n",
       "      <td>0</td>\n",
       "      <td>1</td>\n",
       "      <td>1</td>\n",
       "    </tr>\n",
       "    <tr>\n",
       "      <th>2</th>\n",
       "      <td>2</td>\n",
       "      <td>18857</td>\n",
       "      <td>1</td>\n",
       "      <td>165</td>\n",
       "      <td>64.0</td>\n",
       "      <td>130</td>\n",
       "      <td>70</td>\n",
       "      <td>3</td>\n",
       "      <td>1</td>\n",
       "      <td>0</td>\n",
       "      <td>0</td>\n",
       "      <td>0</td>\n",
       "      <td>1</td>\n",
       "    </tr>\n",
       "    <tr>\n",
       "      <th>3</th>\n",
       "      <td>3</td>\n",
       "      <td>17623</td>\n",
       "      <td>2</td>\n",
       "      <td>169</td>\n",
       "      <td>82.0</td>\n",
       "      <td>150</td>\n",
       "      <td>100</td>\n",
       "      <td>1</td>\n",
       "      <td>1</td>\n",
       "      <td>0</td>\n",
       "      <td>0</td>\n",
       "      <td>1</td>\n",
       "      <td>1</td>\n",
       "    </tr>\n",
       "    <tr>\n",
       "      <th>4</th>\n",
       "      <td>4</td>\n",
       "      <td>17474</td>\n",
       "      <td>1</td>\n",
       "      <td>156</td>\n",
       "      <td>56.0</td>\n",
       "      <td>100</td>\n",
       "      <td>60</td>\n",
       "      <td>1</td>\n",
       "      <td>1</td>\n",
       "      <td>0</td>\n",
       "      <td>0</td>\n",
       "      <td>0</td>\n",
       "      <td>0</td>\n",
       "    </tr>\n",
       "    <tr>\n",
       "      <th>5</th>\n",
       "      <td>8</td>\n",
       "      <td>21914</td>\n",
       "      <td>1</td>\n",
       "      <td>151</td>\n",
       "      <td>67.0</td>\n",
       "      <td>120</td>\n",
       "      <td>80</td>\n",
       "      <td>2</td>\n",
       "      <td>2</td>\n",
       "      <td>0</td>\n",
       "      <td>0</td>\n",
       "      <td>0</td>\n",
       "      <td>0</td>\n",
       "    </tr>\n",
       "    <tr>\n",
       "      <th>6</th>\n",
       "      <td>9</td>\n",
       "      <td>22113</td>\n",
       "      <td>1</td>\n",
       "      <td>157</td>\n",
       "      <td>93.0</td>\n",
       "      <td>130</td>\n",
       "      <td>80</td>\n",
       "      <td>3</td>\n",
       "      <td>1</td>\n",
       "      <td>0</td>\n",
       "      <td>0</td>\n",
       "      <td>1</td>\n",
       "      <td>0</td>\n",
       "    </tr>\n",
       "    <tr>\n",
       "      <th>7</th>\n",
       "      <td>12</td>\n",
       "      <td>22584</td>\n",
       "      <td>2</td>\n",
       "      <td>178</td>\n",
       "      <td>95.0</td>\n",
       "      <td>130</td>\n",
       "      <td>90</td>\n",
       "      <td>3</td>\n",
       "      <td>3</td>\n",
       "      <td>0</td>\n",
       "      <td>0</td>\n",
       "      <td>1</td>\n",
       "      <td>1</td>\n",
       "    </tr>\n",
       "    <tr>\n",
       "      <th>8</th>\n",
       "      <td>13</td>\n",
       "      <td>17668</td>\n",
       "      <td>1</td>\n",
       "      <td>158</td>\n",
       "      <td>71.0</td>\n",
       "      <td>110</td>\n",
       "      <td>70</td>\n",
       "      <td>1</td>\n",
       "      <td>1</td>\n",
       "      <td>0</td>\n",
       "      <td>0</td>\n",
       "      <td>1</td>\n",
       "      <td>0</td>\n",
       "    </tr>\n",
       "    <tr>\n",
       "      <th>9</th>\n",
       "      <td>14</td>\n",
       "      <td>19834</td>\n",
       "      <td>1</td>\n",
       "      <td>164</td>\n",
       "      <td>68.0</td>\n",
       "      <td>110</td>\n",
       "      <td>60</td>\n",
       "      <td>1</td>\n",
       "      <td>1</td>\n",
       "      <td>0</td>\n",
       "      <td>0</td>\n",
       "      <td>0</td>\n",
       "      <td>0</td>\n",
       "    </tr>\n",
       "  </tbody>\n",
       "</table>\n",
       "</div>"
      ],
      "text/plain": [
       "   id    age  gender  height  weight  ap_hi  ap_lo  cholesterol  gluc  smoke  \\\n",
       "0   0  18393       2     168    62.0    110     80            1     1      0   \n",
       "1   1  20228       1     156    85.0    140     90            3     1      0   \n",
       "2   2  18857       1     165    64.0    130     70            3     1      0   \n",
       "3   3  17623       2     169    82.0    150    100            1     1      0   \n",
       "4   4  17474       1     156    56.0    100     60            1     1      0   \n",
       "5   8  21914       1     151    67.0    120     80            2     2      0   \n",
       "6   9  22113       1     157    93.0    130     80            3     1      0   \n",
       "7  12  22584       2     178    95.0    130     90            3     3      0   \n",
       "8  13  17668       1     158    71.0    110     70            1     1      0   \n",
       "9  14  19834       1     164    68.0    110     60            1     1      0   \n",
       "\n",
       "   alco  active  cardio  \n",
       "0     0       1       0  \n",
       "1     0       1       1  \n",
       "2     0       0       1  \n",
       "3     0       1       1  \n",
       "4     0       0       0  \n",
       "5     0       0       0  \n",
       "6     0       1       0  \n",
       "7     0       1       1  \n",
       "8     0       1       0  \n",
       "9     0       0       0  "
      ]
     },
     "execution_count": 5,
     "metadata": {},
     "output_type": "execute_result"
    }
   ],
   "source": [
    "df.head(10)"
   ]
  },
  {
   "cell_type": "code",
   "execution_count": 6,
   "id": "ad40f114-0c8f-4b63-8723-72055d148043",
   "metadata": {},
   "outputs": [
    {
     "data": {
      "text/html": [
       "<div>\n",
       "<style scoped>\n",
       "    .dataframe tbody tr th:only-of-type {\n",
       "        vertical-align: middle;\n",
       "    }\n",
       "\n",
       "    .dataframe tbody tr th {\n",
       "        vertical-align: top;\n",
       "    }\n",
       "\n",
       "    .dataframe thead th {\n",
       "        text-align: right;\n",
       "    }\n",
       "</style>\n",
       "<table border=\"1\" class=\"dataframe\">\n",
       "  <thead>\n",
       "    <tr style=\"text-align: right;\">\n",
       "      <th></th>\n",
       "      <th>0</th>\n",
       "      <th>1</th>\n",
       "      <th>2</th>\n",
       "      <th>3</th>\n",
       "      <th>4</th>\n",
       "      <th>5</th>\n",
       "      <th>6</th>\n",
       "      <th>7</th>\n",
       "      <th>8</th>\n",
       "      <th>9</th>\n",
       "    </tr>\n",
       "  </thead>\n",
       "  <tbody>\n",
       "    <tr>\n",
       "      <th>id</th>\n",
       "      <td>0.0</td>\n",
       "      <td>1.0</td>\n",
       "      <td>2.0</td>\n",
       "      <td>3.0</td>\n",
       "      <td>4.0</td>\n",
       "      <td>8.0</td>\n",
       "      <td>9.0</td>\n",
       "      <td>12.0</td>\n",
       "      <td>13.0</td>\n",
       "      <td>14.0</td>\n",
       "    </tr>\n",
       "    <tr>\n",
       "      <th>age</th>\n",
       "      <td>18393.0</td>\n",
       "      <td>20228.0</td>\n",
       "      <td>18857.0</td>\n",
       "      <td>17623.0</td>\n",
       "      <td>17474.0</td>\n",
       "      <td>21914.0</td>\n",
       "      <td>22113.0</td>\n",
       "      <td>22584.0</td>\n",
       "      <td>17668.0</td>\n",
       "      <td>19834.0</td>\n",
       "    </tr>\n",
       "    <tr>\n",
       "      <th>gender</th>\n",
       "      <td>2.0</td>\n",
       "      <td>1.0</td>\n",
       "      <td>1.0</td>\n",
       "      <td>2.0</td>\n",
       "      <td>1.0</td>\n",
       "      <td>1.0</td>\n",
       "      <td>1.0</td>\n",
       "      <td>2.0</td>\n",
       "      <td>1.0</td>\n",
       "      <td>1.0</td>\n",
       "    </tr>\n",
       "    <tr>\n",
       "      <th>height</th>\n",
       "      <td>168.0</td>\n",
       "      <td>156.0</td>\n",
       "      <td>165.0</td>\n",
       "      <td>169.0</td>\n",
       "      <td>156.0</td>\n",
       "      <td>151.0</td>\n",
       "      <td>157.0</td>\n",
       "      <td>178.0</td>\n",
       "      <td>158.0</td>\n",
       "      <td>164.0</td>\n",
       "    </tr>\n",
       "    <tr>\n",
       "      <th>weight</th>\n",
       "      <td>62.0</td>\n",
       "      <td>85.0</td>\n",
       "      <td>64.0</td>\n",
       "      <td>82.0</td>\n",
       "      <td>56.0</td>\n",
       "      <td>67.0</td>\n",
       "      <td>93.0</td>\n",
       "      <td>95.0</td>\n",
       "      <td>71.0</td>\n",
       "      <td>68.0</td>\n",
       "    </tr>\n",
       "    <tr>\n",
       "      <th>ap_hi</th>\n",
       "      <td>110.0</td>\n",
       "      <td>140.0</td>\n",
       "      <td>130.0</td>\n",
       "      <td>150.0</td>\n",
       "      <td>100.0</td>\n",
       "      <td>120.0</td>\n",
       "      <td>130.0</td>\n",
       "      <td>130.0</td>\n",
       "      <td>110.0</td>\n",
       "      <td>110.0</td>\n",
       "    </tr>\n",
       "    <tr>\n",
       "      <th>ap_lo</th>\n",
       "      <td>80.0</td>\n",
       "      <td>90.0</td>\n",
       "      <td>70.0</td>\n",
       "      <td>100.0</td>\n",
       "      <td>60.0</td>\n",
       "      <td>80.0</td>\n",
       "      <td>80.0</td>\n",
       "      <td>90.0</td>\n",
       "      <td>70.0</td>\n",
       "      <td>60.0</td>\n",
       "    </tr>\n",
       "    <tr>\n",
       "      <th>cholesterol</th>\n",
       "      <td>1.0</td>\n",
       "      <td>3.0</td>\n",
       "      <td>3.0</td>\n",
       "      <td>1.0</td>\n",
       "      <td>1.0</td>\n",
       "      <td>2.0</td>\n",
       "      <td>3.0</td>\n",
       "      <td>3.0</td>\n",
       "      <td>1.0</td>\n",
       "      <td>1.0</td>\n",
       "    </tr>\n",
       "    <tr>\n",
       "      <th>gluc</th>\n",
       "      <td>1.0</td>\n",
       "      <td>1.0</td>\n",
       "      <td>1.0</td>\n",
       "      <td>1.0</td>\n",
       "      <td>1.0</td>\n",
       "      <td>2.0</td>\n",
       "      <td>1.0</td>\n",
       "      <td>3.0</td>\n",
       "      <td>1.0</td>\n",
       "      <td>1.0</td>\n",
       "    </tr>\n",
       "    <tr>\n",
       "      <th>smoke</th>\n",
       "      <td>0.0</td>\n",
       "      <td>0.0</td>\n",
       "      <td>0.0</td>\n",
       "      <td>0.0</td>\n",
       "      <td>0.0</td>\n",
       "      <td>0.0</td>\n",
       "      <td>0.0</td>\n",
       "      <td>0.0</td>\n",
       "      <td>0.0</td>\n",
       "      <td>0.0</td>\n",
       "    </tr>\n",
       "    <tr>\n",
       "      <th>alco</th>\n",
       "      <td>0.0</td>\n",
       "      <td>0.0</td>\n",
       "      <td>0.0</td>\n",
       "      <td>0.0</td>\n",
       "      <td>0.0</td>\n",
       "      <td>0.0</td>\n",
       "      <td>0.0</td>\n",
       "      <td>0.0</td>\n",
       "      <td>0.0</td>\n",
       "      <td>0.0</td>\n",
       "    </tr>\n",
       "    <tr>\n",
       "      <th>active</th>\n",
       "      <td>1.0</td>\n",
       "      <td>1.0</td>\n",
       "      <td>0.0</td>\n",
       "      <td>1.0</td>\n",
       "      <td>0.0</td>\n",
       "      <td>0.0</td>\n",
       "      <td>1.0</td>\n",
       "      <td>1.0</td>\n",
       "      <td>1.0</td>\n",
       "      <td>0.0</td>\n",
       "    </tr>\n",
       "    <tr>\n",
       "      <th>cardio</th>\n",
       "      <td>0.0</td>\n",
       "      <td>1.0</td>\n",
       "      <td>1.0</td>\n",
       "      <td>1.0</td>\n",
       "      <td>0.0</td>\n",
       "      <td>0.0</td>\n",
       "      <td>0.0</td>\n",
       "      <td>1.0</td>\n",
       "      <td>0.0</td>\n",
       "      <td>0.0</td>\n",
       "    </tr>\n",
       "  </tbody>\n",
       "</table>\n",
       "</div>"
      ],
      "text/plain": [
       "                   0        1        2        3        4        5        6  \\\n",
       "id               0.0      1.0      2.0      3.0      4.0      8.0      9.0   \n",
       "age          18393.0  20228.0  18857.0  17623.0  17474.0  21914.0  22113.0   \n",
       "gender           2.0      1.0      1.0      2.0      1.0      1.0      1.0   \n",
       "height         168.0    156.0    165.0    169.0    156.0    151.0    157.0   \n",
       "weight          62.0     85.0     64.0     82.0     56.0     67.0     93.0   \n",
       "ap_hi          110.0    140.0    130.0    150.0    100.0    120.0    130.0   \n",
       "ap_lo           80.0     90.0     70.0    100.0     60.0     80.0     80.0   \n",
       "cholesterol      1.0      3.0      3.0      1.0      1.0      2.0      3.0   \n",
       "gluc             1.0      1.0      1.0      1.0      1.0      2.0      1.0   \n",
       "smoke            0.0      0.0      0.0      0.0      0.0      0.0      0.0   \n",
       "alco             0.0      0.0      0.0      0.0      0.0      0.0      0.0   \n",
       "active           1.0      1.0      0.0      1.0      0.0      0.0      1.0   \n",
       "cardio           0.0      1.0      1.0      1.0      0.0      0.0      0.0   \n",
       "\n",
       "                   7        8        9  \n",
       "id              12.0     13.0     14.0  \n",
       "age          22584.0  17668.0  19834.0  \n",
       "gender           2.0      1.0      1.0  \n",
       "height         178.0    158.0    164.0  \n",
       "weight          95.0     71.0     68.0  \n",
       "ap_hi          130.0    110.0    110.0  \n",
       "ap_lo           90.0     70.0     60.0  \n",
       "cholesterol      3.0      1.0      1.0  \n",
       "gluc             3.0      1.0      1.0  \n",
       "smoke            0.0      0.0      0.0  \n",
       "alco             0.0      0.0      0.0  \n",
       "active           1.0      1.0      0.0  \n",
       "cardio           1.0      0.0      0.0  "
      ]
     },
     "execution_count": 6,
     "metadata": {},
     "output_type": "execute_result"
    }
   ],
   "source": [
    "# так нагляднее, когда признаков много\n",
    "df.head(10).T"
   ]
  },
  {
   "cell_type": "code",
   "execution_count": 7,
   "id": "ee10fd97-308c-475d-b932-9e6633124616",
   "metadata": {},
   "outputs": [
    {
     "name": "stdout",
     "output_type": "stream",
     "text": [
      "<class 'pandas.core.frame.DataFrame'>\n",
      "RangeIndex: 70000 entries, 0 to 69999\n",
      "Data columns (total 13 columns):\n",
      " #   Column       Non-Null Count  Dtype  \n",
      "---  ------       --------------  -----  \n",
      " 0   id           70000 non-null  int64  \n",
      " 1   age          70000 non-null  int64  \n",
      " 2   gender       70000 non-null  int64  \n",
      " 3   height       70000 non-null  int64  \n",
      " 4   weight       70000 non-null  float64\n",
      " 5   ap_hi        70000 non-null  int64  \n",
      " 6   ap_lo        70000 non-null  int64  \n",
      " 7   cholesterol  70000 non-null  int64  \n",
      " 8   gluc         70000 non-null  int64  \n",
      " 9   smoke        70000 non-null  int64  \n",
      " 10  alco         70000 non-null  int64  \n",
      " 11  active       70000 non-null  int64  \n",
      " 12  cardio       70000 non-null  int64  \n",
      "dtypes: float64(1), int64(12)\n",
      "memory usage: 6.9 MB\n"
     ]
    }
   ],
   "source": [
    "df.info()"
   ]
  },
  {
   "cell_type": "code",
   "execution_count": 8,
   "id": "559d4381-8a1e-43cd-990c-5b5941fa27df",
   "metadata": {},
   "outputs": [
    {
     "data": {
      "text/html": [
       "<div>\n",
       "<style scoped>\n",
       "    .dataframe tbody tr th:only-of-type {\n",
       "        vertical-align: middle;\n",
       "    }\n",
       "\n",
       "    .dataframe tbody tr th {\n",
       "        vertical-align: top;\n",
       "    }\n",
       "\n",
       "    .dataframe thead th {\n",
       "        text-align: right;\n",
       "    }\n",
       "</style>\n",
       "<table border=\"1\" class=\"dataframe\">\n",
       "  <thead>\n",
       "    <tr style=\"text-align: right;\">\n",
       "      <th></th>\n",
       "      <th>count</th>\n",
       "      <th>mean</th>\n",
       "      <th>std</th>\n",
       "      <th>min</th>\n",
       "      <th>25%</th>\n",
       "      <th>50%</th>\n",
       "      <th>75%</th>\n",
       "      <th>max</th>\n",
       "    </tr>\n",
       "  </thead>\n",
       "  <tbody>\n",
       "    <tr>\n",
       "      <th>id</th>\n",
       "      <td>70000.0</td>\n",
       "      <td>49972.419900</td>\n",
       "      <td>28851.302323</td>\n",
       "      <td>0.0</td>\n",
       "      <td>25006.75</td>\n",
       "      <td>50001.5</td>\n",
       "      <td>74889.25</td>\n",
       "      <td>99999.0</td>\n",
       "    </tr>\n",
       "    <tr>\n",
       "      <th>age</th>\n",
       "      <td>70000.0</td>\n",
       "      <td>19468.865814</td>\n",
       "      <td>2467.251667</td>\n",
       "      <td>10798.0</td>\n",
       "      <td>17664.00</td>\n",
       "      <td>19703.0</td>\n",
       "      <td>21327.00</td>\n",
       "      <td>23713.0</td>\n",
       "    </tr>\n",
       "    <tr>\n",
       "      <th>gender</th>\n",
       "      <td>70000.0</td>\n",
       "      <td>1.349571</td>\n",
       "      <td>0.476838</td>\n",
       "      <td>1.0</td>\n",
       "      <td>1.00</td>\n",
       "      <td>1.0</td>\n",
       "      <td>2.00</td>\n",
       "      <td>2.0</td>\n",
       "    </tr>\n",
       "    <tr>\n",
       "      <th>height</th>\n",
       "      <td>70000.0</td>\n",
       "      <td>164.359229</td>\n",
       "      <td>8.210126</td>\n",
       "      <td>55.0</td>\n",
       "      <td>159.00</td>\n",
       "      <td>165.0</td>\n",
       "      <td>170.00</td>\n",
       "      <td>250.0</td>\n",
       "    </tr>\n",
       "    <tr>\n",
       "      <th>weight</th>\n",
       "      <td>70000.0</td>\n",
       "      <td>74.205690</td>\n",
       "      <td>14.395757</td>\n",
       "      <td>10.0</td>\n",
       "      <td>65.00</td>\n",
       "      <td>72.0</td>\n",
       "      <td>82.00</td>\n",
       "      <td>200.0</td>\n",
       "    </tr>\n",
       "    <tr>\n",
       "      <th>ap_hi</th>\n",
       "      <td>70000.0</td>\n",
       "      <td>128.817286</td>\n",
       "      <td>154.011419</td>\n",
       "      <td>-150.0</td>\n",
       "      <td>120.00</td>\n",
       "      <td>120.0</td>\n",
       "      <td>140.00</td>\n",
       "      <td>16020.0</td>\n",
       "    </tr>\n",
       "    <tr>\n",
       "      <th>ap_lo</th>\n",
       "      <td>70000.0</td>\n",
       "      <td>96.630414</td>\n",
       "      <td>188.472530</td>\n",
       "      <td>-70.0</td>\n",
       "      <td>80.00</td>\n",
       "      <td>80.0</td>\n",
       "      <td>90.00</td>\n",
       "      <td>11000.0</td>\n",
       "    </tr>\n",
       "    <tr>\n",
       "      <th>cholesterol</th>\n",
       "      <td>70000.0</td>\n",
       "      <td>1.366871</td>\n",
       "      <td>0.680250</td>\n",
       "      <td>1.0</td>\n",
       "      <td>1.00</td>\n",
       "      <td>1.0</td>\n",
       "      <td>2.00</td>\n",
       "      <td>3.0</td>\n",
       "    </tr>\n",
       "    <tr>\n",
       "      <th>gluc</th>\n",
       "      <td>70000.0</td>\n",
       "      <td>1.226457</td>\n",
       "      <td>0.572270</td>\n",
       "      <td>1.0</td>\n",
       "      <td>1.00</td>\n",
       "      <td>1.0</td>\n",
       "      <td>1.00</td>\n",
       "      <td>3.0</td>\n",
       "    </tr>\n",
       "    <tr>\n",
       "      <th>smoke</th>\n",
       "      <td>70000.0</td>\n",
       "      <td>0.088129</td>\n",
       "      <td>0.283484</td>\n",
       "      <td>0.0</td>\n",
       "      <td>0.00</td>\n",
       "      <td>0.0</td>\n",
       "      <td>0.00</td>\n",
       "      <td>1.0</td>\n",
       "    </tr>\n",
       "    <tr>\n",
       "      <th>alco</th>\n",
       "      <td>70000.0</td>\n",
       "      <td>0.053771</td>\n",
       "      <td>0.225568</td>\n",
       "      <td>0.0</td>\n",
       "      <td>0.00</td>\n",
       "      <td>0.0</td>\n",
       "      <td>0.00</td>\n",
       "      <td>1.0</td>\n",
       "    </tr>\n",
       "    <tr>\n",
       "      <th>active</th>\n",
       "      <td>70000.0</td>\n",
       "      <td>0.803729</td>\n",
       "      <td>0.397179</td>\n",
       "      <td>0.0</td>\n",
       "      <td>1.00</td>\n",
       "      <td>1.0</td>\n",
       "      <td>1.00</td>\n",
       "      <td>1.0</td>\n",
       "    </tr>\n",
       "    <tr>\n",
       "      <th>cardio</th>\n",
       "      <td>70000.0</td>\n",
       "      <td>0.499700</td>\n",
       "      <td>0.500003</td>\n",
       "      <td>0.0</td>\n",
       "      <td>0.00</td>\n",
       "      <td>0.0</td>\n",
       "      <td>1.00</td>\n",
       "      <td>1.0</td>\n",
       "    </tr>\n",
       "  </tbody>\n",
       "</table>\n",
       "</div>"
      ],
      "text/plain": [
       "               count          mean           std      min       25%      50%  \\\n",
       "id           70000.0  49972.419900  28851.302323      0.0  25006.75  50001.5   \n",
       "age          70000.0  19468.865814   2467.251667  10798.0  17664.00  19703.0   \n",
       "gender       70000.0      1.349571      0.476838      1.0      1.00      1.0   \n",
       "height       70000.0    164.359229      8.210126     55.0    159.00    165.0   \n",
       "weight       70000.0     74.205690     14.395757     10.0     65.00     72.0   \n",
       "ap_hi        70000.0    128.817286    154.011419   -150.0    120.00    120.0   \n",
       "ap_lo        70000.0     96.630414    188.472530    -70.0     80.00     80.0   \n",
       "cholesterol  70000.0      1.366871      0.680250      1.0      1.00      1.0   \n",
       "gluc         70000.0      1.226457      0.572270      1.0      1.00      1.0   \n",
       "smoke        70000.0      0.088129      0.283484      0.0      0.00      0.0   \n",
       "alco         70000.0      0.053771      0.225568      0.0      0.00      0.0   \n",
       "active       70000.0      0.803729      0.397179      0.0      1.00      1.0   \n",
       "cardio       70000.0      0.499700      0.500003      0.0      0.00      0.0   \n",
       "\n",
       "                  75%      max  \n",
       "id           74889.25  99999.0  \n",
       "age          21327.00  23713.0  \n",
       "gender           2.00      2.0  \n",
       "height         170.00    250.0  \n",
       "weight          82.00    200.0  \n",
       "ap_hi          140.00  16020.0  \n",
       "ap_lo           90.00  11000.0  \n",
       "cholesterol      2.00      3.0  \n",
       "gluc             1.00      3.0  \n",
       "smoke            0.00      1.0  \n",
       "alco             0.00      1.0  \n",
       "active           1.00      1.0  \n",
       "cardio           1.00      1.0  "
      ]
     },
     "execution_count": 8,
     "metadata": {},
     "output_type": "execute_result"
    }
   ],
   "source": [
    "df.describe().T"
   ]
  },
  {
   "cell_type": "code",
   "execution_count": 9,
   "id": "c6747d92-6dee-4fdb-af55-60b6f1b65ede",
   "metadata": {},
   "outputs": [
    {
     "data": {
      "image/png": "[encoded data removed]",
      "text/plain": [
       "<Figure size 864x1080 with 16 Axes>"
      ]
     },
     "metadata": {},
     "output_type": "display_data"
    }
   ],
   "source": [
    "df.hist(figsize=(12,15));"
   ]
  },
  {
   "cell_type": "markdown",
   "id": "b61f9b31-6a79-49c2-b614-7dd5dc71b44a",
   "metadata": {},
   "source": [
    "Данные представлены в 13 колонках, 70000 записей о пациентах. \n",
    "\n",
    "В данных нет пропусков.\n",
    "\n",
    "Видны аномальные значения в столбцах  с давлением (отрицательные значения). Скорее всего, минус появился случайно. Для этих колонок есть аномально высокие значения.\n",
    "\n",
    "Присутствуют аномально большие и маленькие значения роста.\n",
    "\n",
    "Возраст выглядит странно, т.к. представлен в днях.\n"
   ]
  },
  {
   "cell_type": "markdown",
   "id": "3e4d503b-d9c9-404a-8d79-2e2eb0c827f4",
   "metadata": {},
   "source": [
    "Многие данные сложно читаются поэтому преобразуем их в более удобный формат для восприятия."
   ]
  },
  {
   "cell_type": "markdown",
   "id": "c1c1daed-6dc0-4a45-a727-7e9d8fc86476",
   "metadata": {},
   "source": [
    "### Предобработка данных"
   ]
  },
  {
   "cell_type": "markdown",
   "id": "b56d009b-04b9-4b32-bdde-76e753eccab8",
   "metadata": {},
   "source": [
    "#### Возраст"
   ]
  },
  {
   "cell_type": "markdown",
   "id": "98d73bb7-19b1-40fc-8874-782b6397107b",
   "metadata": {},
   "source": [
    "Преобразуем возраст из дней в годы."
   ]
  },
  {
   "cell_type": "code",
   "execution_count": 10,
   "id": "8aaa9561-ac56-4d9d-9cb4-8d8c3d1b5b58",
   "metadata": {},
   "outputs": [
    {
     "data": {
      "text/plain": [
       "0        50\n",
       "1        55\n",
       "2        52\n",
       "3        48\n",
       "4        48\n",
       "         ..\n",
       "69995    53\n",
       "69996    62\n",
       "69997    52\n",
       "69998    61\n",
       "69999    56\n",
       "Name: age, Length: 70000, dtype: int32"
      ]
     },
     "execution_count": 10,
     "metadata": {},
     "output_type": "execute_result"
    }
   ],
   "source": [
    "df['age'] = (df['age']/365).round()\n",
    "df['age'] = df['age'].astype('int')\n",
    "df['age']"
   ]
  },
  {
   "cell_type": "code",
   "execution_count": 11,
   "id": "6d8dbbf4-83f5-41fc-b4d5-b3a6c4d72a34",
   "metadata": {},
   "outputs": [
    {
     "data": {
      "image/png": "[encoded data removed]",
      "text/plain": [
       "<Figure size 432x288 with 1 Axes>"
      ]
     },
     "metadata": {},
     "output_type": "display_data"
    }
   ],
   "source": [
    "df['age'].hist();"
   ]
  },
  {
   "cell_type": "markdown",
   "id": "4a2f4b06-8df1-431f-8d85-70768ae8f5c2",
   "metadata": {},
   "source": [
    "В датасете представлены данные людей страше 35, многие пенсионного возраста."
   ]
  },
  {
   "cell_type": "markdown",
   "id": "b6c3c401-9289-4914-98fa-6e0eefa989ed",
   "metadata": {},
   "source": [
    "#### Рост"
   ]
  },
  {
   "cell_type": "markdown",
   "id": "e0ae8e15-89f5-4725-9303-10aac9b53022",
   "metadata": {},
   "source": [
    "В столбце роста есть выпадающие значения, рассмотрим их."
   ]
  },
  {
   "cell_type": "code",
   "execution_count": 12,
   "id": "ed77ecce-f5f0-4561-973b-1a84e365b183",
   "metadata": {},
   "outputs": [
    {
     "data": {
      "image/png": "[encoded data removed]",
      "text/plain": [
       "<Figure size 432x288 with 1 Axes>"
      ]
     },
     "metadata": {},
     "output_type": "display_data"
    }
   ],
   "source": [
    "plt.scatter(df['age'], df['height']);"
   ]
  },
  {
   "cell_type": "code",
   "execution_count": 13,
   "id": "a051bfff-d02a-40ad-a545-a3b55f58cba4",
   "metadata": {},
   "outputs": [
    {
     "data": {
      "text/plain": [
       "<AxesSubplot:>"
      ]
     },
     "execution_count": 13,
     "metadata": {},
     "output_type": "execute_result"
    },
    {
     "data": {
      "image/png": "[encoded data removed]",
      "text/plain": [
       "<Figure size 432x288 with 1 Axes>"
      ]
     },
     "metadata": {},
     "output_type": "display_data"
    }
   ],
   "source": [
    "df.boxplot('height')"
   ]
  },
  {
   "cell_type": "code",
   "execution_count": 14,
   "id": "28dfe480-aeb8-4481-9614-4d6dc1a8adf5",
   "metadata": {},
   "outputs": [
    {
     "data": {
      "image/png": "[encoded data removed]",
      "text/plain": [
       "<Figure size 432x432 with 3 Axes>"
      ]
     },
     "metadata": {},
     "output_type": "display_data"
    }
   ],
   "source": [
    "sns.jointplot(x='height', y='weight', data=df);"
   ]
  },
  {
   "cell_type": "markdown",
   "id": "332a46fb-ae86-4dc5-8be9-b8c8b32c467a",
   "metadata": {},
   "source": [
    "Есть аномально низкие значения, возьмем порог d 125 см. И аномально высокие - больше 200 см."
   ]
  },
  {
   "cell_type": "code",
   "execution_count": 15,
   "id": "67b478b3-5a3d-49a4-b6a8-c1173a032c45",
   "metadata": {},
   "outputs": [
    {
     "data": {
      "text/plain": [
       "87"
      ]
     },
     "execution_count": 15,
     "metadata": {},
     "output_type": "execute_result"
    }
   ],
   "source": [
    "df.query('height<125').shape[0]"
   ]
  },
  {
   "cell_type": "code",
   "execution_count": 16,
   "id": "9b2ccfe9-cd14-4993-b290-ff0a4a779a59",
   "metadata": {},
   "outputs": [
    {
     "data": {
      "text/plain": [
       "2"
      ]
     },
     "execution_count": 16,
     "metadata": {},
     "output_type": "execute_result"
    }
   ],
   "source": [
    "df.query('height>200').shape[0]"
   ]
  },
  {
   "cell_type": "markdown",
   "id": "9480ce24-1a96-44c6-8bb1-8ffb24101035",
   "metadata": {},
   "source": [
    "Удалим аномальные значения и соотвествующие строки,  сделав соотвествующий срез."
   ]
  },
  {
   "cell_type": "code",
   "execution_count": 17,
   "id": "68a75983-b436-4a51-87fb-96637e60b73b",
   "metadata": {},
   "outputs": [],
   "source": [
    "df = df.query('125<=height<=200')"
   ]
  },
  {
   "cell_type": "markdown",
   "id": "e7a59904-de53-4dcc-9284-276ca67cb8da",
   "metadata": {},
   "source": [
    "Посмотрим долю оставшихся строк - все ок."
   ]
  },
  {
   "cell_type": "code",
   "execution_count": 18,
   "id": "f70909a3-a915-40ee-84d1-b4081f527f65",
   "metadata": {},
   "outputs": [
    {
     "data": {
      "text/plain": [
       "0.9987285714285714"
      ]
     },
     "execution_count": 18,
     "metadata": {},
     "output_type": "execute_result"
    }
   ],
   "source": [
    "old_df = pd.read_csv('cardio_train.csv', sep=';')\n",
    "df.shape[0]/old_df.shape[0]"
   ]
  },
  {
   "cell_type": "markdown",
   "id": "5d242d00-ea77-40dc-a32d-9c7d4eecfad6",
   "metadata": {},
   "source": [
    "#### Вес"
   ]
  },
  {
   "cell_type": "code",
   "execution_count": 19,
   "id": "a39b8bf9-4504-495e-b379-752eeb19dab7",
   "metadata": {},
   "outputs": [
    {
     "data": {
      "text/plain": [
       "<AxesSubplot:>"
      ]
     },
     "execution_count": 19,
     "metadata": {},
     "output_type": "execute_result"
    },
    {
     "data": {
      "image/png": "[encoded data removed]",
      "text/plain": [
       "<Figure size 432x288 with 1 Axes>"
      ]
     },
     "metadata": {},
     "output_type": "display_data"
    }
   ],
   "source": [
    "df.boxplot('weight')"
   ]
  },
  {
   "cell_type": "code",
   "execution_count": 20,
   "id": "1894c9de-2871-4158-823b-7d43a101ae48",
   "metadata": {},
   "outputs": [
    {
     "data": {
      "text/plain": [
       "51"
      ]
     },
     "execution_count": 20,
     "metadata": {},
     "output_type": "execute_result"
    }
   ],
   "source": [
    "df.query('weight<40').shape[0]"
   ]
  },
  {
   "cell_type": "code",
   "execution_count": 21,
   "id": "301656b8-1ade-4b58-821f-6f423b9d2e8d",
   "metadata": {},
   "outputs": [
    {
     "data": {
      "text/plain": [
       "51"
      ]
     },
     "execution_count": 21,
     "metadata": {},
     "output_type": "execute_result"
    }
   ],
   "source": [
    "df.query('weight>150').shape[0]"
   ]
  },
  {
   "cell_type": "code",
   "execution_count": 22,
   "id": "fa5db8bf-e943-43d1-b617-0c1b1a00dc3d",
   "metadata": {},
   "outputs": [],
   "source": [
    "#уберем строки с аномально большим и малым весом\n",
    "df = df.query('40<=weight<=150')"
   ]
  },
  {
   "cell_type": "code",
   "execution_count": 23,
   "id": "56c9a629-8a46-4bcc-8e6e-d0ce4e085c6f",
   "metadata": {},
   "outputs": [
    {
     "data": {
      "text/plain": [
       "0.9972714285714286"
      ]
     },
     "execution_count": 23,
     "metadata": {},
     "output_type": "execute_result"
    }
   ],
   "source": [
    "#остаток строк\n",
    "old_df = pd.read_csv('cardio_train.csv', sep=';')\n",
    "df.shape[0]/old_df.shape[0]"
   ]
  },
  {
   "cell_type": "markdown",
   "id": "844a15eb-ac49-4939-a42f-cb84e74283fa",
   "metadata": {},
   "source": [
    "#### Артериальное давление"
   ]
  },
  {
   "cell_type": "code",
   "execution_count": 24,
   "id": "ffd20c2a-ce6f-4e04-98a1-5005e2945ca4",
   "metadata": {},
   "outputs": [
    {
     "data": {
      "text/plain": [
       "<AxesSubplot:>"
      ]
     },
     "execution_count": 24,
     "metadata": {},
     "output_type": "execute_result"
    },
    {
     "data": {
      "image/png": "[encoded data removed]",
      "text/plain": [
       "<Figure size 432x288 with 1 Axes>"
      ]
     },
     "metadata": {},
     "output_type": "display_data"
    }
   ],
   "source": [
    "df.boxplot('ap_hi')"
   ]
  },
  {
   "cell_type": "markdown",
   "id": "90184015-1c57-463f-a68b-f077c7248162",
   "metadata": {},
   "source": [
    "Порог для аномально малых значений возьмем в 80 мм рт ст.\n",
    "Порог для аномально больших значений - 200."
   ]
  },
  {
   "cell_type": "code",
   "execution_count": 25,
   "id": "3298c63d-04c3-424e-84cf-14e4425c7ed2",
   "metadata": {},
   "outputs": [
    {
     "data": {
      "text/plain": [
       "205"
      ]
     },
     "execution_count": 25,
     "metadata": {},
     "output_type": "execute_result"
    }
   ],
   "source": [
    "df.query('ap_hi<80').shape[0]"
   ]
  },
  {
   "cell_type": "code",
   "execution_count": 26,
   "id": "f49442fd-3825-4178-95c7-61abeaeaec4d",
   "metadata": {},
   "outputs": [
    {
     "data": {
      "text/plain": [
       "99"
      ]
     },
     "execution_count": 26,
     "metadata": {},
     "output_type": "execute_result"
    }
   ],
   "source": [
    "df.query('ap_hi>200').shape[0]"
   ]
  },
  {
   "cell_type": "code",
   "execution_count": 27,
   "id": "777fc47f-9207-4ba1-9679-0437c395a934",
   "metadata": {},
   "outputs": [],
   "source": [
    "df = df.query('80<=ap_hi<=200')"
   ]
  },
  {
   "cell_type": "code",
   "execution_count": 28,
   "id": "46fa8b64-5211-4c0c-a93c-8b899b8b8330",
   "metadata": {},
   "outputs": [
    {
     "data": {
      "text/plain": [
       "<AxesSubplot:>"
      ]
     },
     "execution_count": 28,
     "metadata": {},
     "output_type": "execute_result"
    },
    {
     "data": {
      "image/png": "[encoded data removed]",
      "text/plain": [
       "<Figure size 432x288 with 1 Axes>"
      ]
     },
     "metadata": {},
     "output_type": "display_data"
    }
   ],
   "source": [
    "df.boxplot('ap_lo')"
   ]
  },
  {
   "cell_type": "code",
   "execution_count": 29,
   "id": "386e6bc4-3fd9-4579-9657-e433f23eba86",
   "metadata": {},
   "outputs": [
    {
     "data": {
      "text/plain": [
       "62"
      ]
     },
     "execution_count": 29,
     "metadata": {},
     "output_type": "execute_result"
    }
   ],
   "source": [
    "df.query('ap_lo<50').shape[0]"
   ]
  },
  {
   "cell_type": "code",
   "execution_count": 30,
   "id": "1c078fcd-8931-4597-a819-f951ca7cc1d8",
   "metadata": {},
   "outputs": [
    {
     "data": {
      "text/plain": [
       "934"
      ]
     },
     "execution_count": 30,
     "metadata": {},
     "output_type": "execute_result"
    }
   ],
   "source": [
    "df.query('ap_lo>500').shape[0]"
   ]
  },
  {
   "cell_type": "markdown",
   "id": "8628fffd-4fe3-4c90-8f0c-7a5acf735e9a",
   "metadata": {},
   "source": [
    "В датасете странным образом много значений давления выше 200, что практически не встречается в практике. В норме диастолическое давление составление 80+-20. Вероятно, в строки со высокими значениями закралась ошибка, и указаны значения в 10 раз выше (случайно добавился лишний ноль). Исправим значения равные и выше 500 и затем удалим значения выше 180."
   ]
  },
  {
   "cell_type": "code",
   "execution_count": 31,
   "id": "646928b9-0f34-4f20-8ca6-d119cca28116",
   "metadata": {},
   "outputs": [],
   "source": [
    "df['ap_lo'] = df['ap_lo'].where(df['ap_lo']<500,df['ap_lo']/10)"
   ]
  },
  {
   "cell_type": "code",
   "execution_count": 32,
   "id": "f32acf4a-8df0-4637-a434-b00d877fc646",
   "metadata": {},
   "outputs": [
    {
     "data": {
      "text/plain": [
       "<AxesSubplot:>"
      ]
     },
     "execution_count": 32,
     "metadata": {},
     "output_type": "execute_result"
    },
    {
     "data": {
      "image/png": "[encoded data removed]",
      "text/plain": [
       "<Figure size 432x288 with 1 Axes>"
      ]
     },
     "metadata": {},
     "output_type": "display_data"
    }
   ],
   "source": [
    "df.boxplot('ap_lo')"
   ]
  },
  {
   "cell_type": "code",
   "execution_count": 33,
   "id": "75ff397a-de19-4321-b9dd-3bf3f6ffdf82",
   "metadata": {},
   "outputs": [
    {
     "data": {
      "text/plain": [
       "29"
      ]
     },
     "execution_count": 33,
     "metadata": {},
     "output_type": "execute_result"
    }
   ],
   "source": [
    "df.query('ap_lo>180').shape[0]"
   ]
  },
  {
   "cell_type": "code",
   "execution_count": 34,
   "id": "84e61193-1727-4798-bca4-d72f33f373f3",
   "metadata": {},
   "outputs": [],
   "source": [
    "df = df.query('50<=ap_lo<=180')"
   ]
  },
  {
   "cell_type": "code",
   "execution_count": 35,
   "id": "1630c3d5-d017-45e1-9f8f-6db6743838b7",
   "metadata": {},
   "outputs": [],
   "source": [
    "df['ap_lo'] = df['ap_lo'].astype('int')"
   ]
  },
  {
   "cell_type": "markdown",
   "id": "0059a6fb-2b38-4134-8881-ad13a4471933",
   "metadata": {},
   "source": [
    "Кроме того, систолическое давление всегда выше диастолического. Посмотрим и удалим строки, где не так."
   ]
  },
  {
   "cell_type": "code",
   "execution_count": 36,
   "id": "fa058ea7-6ffc-44a7-b2b3-0efa5c45cb52",
   "metadata": {},
   "outputs": [
    {
     "data": {
      "text/plain": [
       "89"
      ]
     },
     "execution_count": 36,
     "metadata": {},
     "output_type": "execute_result"
    }
   ],
   "source": [
    "df.query('ap_lo>=ap_hi').shape[0]"
   ]
  },
  {
   "cell_type": "code",
   "execution_count": 37,
   "id": "f85ae483-2e33-419e-b985-7e039f03e9c3",
   "metadata": {},
   "outputs": [],
   "source": [
    "df = df.query('ap_lo<ap_hi')"
   ]
  },
  {
   "cell_type": "code",
   "execution_count": 38,
   "id": "f98cd6b2-73dc-4aa8-8614-1cafa1776c7e",
   "metadata": {},
   "outputs": [
    {
     "data": {
      "text/plain": [
       "0.9903571428571428"
      ]
     },
     "execution_count": 38,
     "metadata": {},
     "output_type": "execute_result"
    }
   ],
   "source": [
    "#остаток строк\n",
    "old_df = pd.read_csv('cardio_train.csv', sep=';')\n",
    "df.shape[0]/old_df.shape[0]"
   ]
  },
  {
   "cell_type": "markdown",
   "id": "c911d412-83dc-45e9-baaa-c773420c69d9",
   "metadata": {},
   "source": [
    "#### Преобразование типа переменных"
   ]
  },
  {
   "cell_type": "markdown",
   "id": "de5e5135-4e45-470d-b570-17f7c4b8593c",
   "metadata": {},
   "source": [
    "Часть переменных хочется преобразовать с непонятных чисел, в говорящие строки"
   ]
  },
  {
   "cell_type": "markdown",
   "id": "bb8b0a95-5cec-4327-ae58-91b6f83a4c21",
   "metadata": {},
   "source": [
    "Преобразуем 1 и 2 в w (woman) и m (man) соотвественно. \n",
    "1 - women, 2 - men"
   ]
  },
  {
   "cell_type": "code",
   "execution_count": 39,
   "id": "d3f1e9bd-7712-4561-b2df-8358f6779264",
   "metadata": {},
   "outputs": [
    {
     "data": {
      "text/plain": [
       "0        m\n",
       "1        w\n",
       "2        w\n",
       "3        m\n",
       "4        w\n",
       "        ..\n",
       "69995    m\n",
       "69996    w\n",
       "69997    m\n",
       "69998    w\n",
       "69999    w\n",
       "Name: gender, Length: 69325, dtype: object"
      ]
     },
     "execution_count": 39,
     "metadata": {},
     "output_type": "execute_result"
    }
   ],
   "source": [
    "df.loc[df['gender']==1, 'gender'] = 'w'\n",
    "df.loc[df['gender']==2, 'gender'] = 'm'\n",
    "df['gender']"
   ]
  },
  {
   "cell_type": "markdown",
   "id": "730ae753-1726-4258-a132-5a5d001ff211",
   "metadata": {},
   "source": [
    "Содержание холестерина в крови:\n",
    "1: normal, 2: above normal, 3: well above normal"
   ]
  },
  {
   "cell_type": "code",
   "execution_count": 40,
   "id": "1015606c-5b62-4dcf-9549-78c8e8f93f78",
   "metadata": {},
   "outputs": [
    {
     "data": {
      "text/plain": [
       "0                   normal\n",
       "1        well above normal\n",
       "2        well above normal\n",
       "3                   normal\n",
       "4                   normal\n",
       "               ...        \n",
       "69995               normal\n",
       "69996         above normal\n",
       "69997    well above normal\n",
       "69998               normal\n",
       "69999         above normal\n",
       "Name: cholesterol, Length: 69325, dtype: object"
      ]
     },
     "execution_count": 40,
     "metadata": {},
     "output_type": "execute_result"
    }
   ],
   "source": [
    "df.loc[df['cholesterol']==1, 'cholesterol'] = 'normal'\n",
    "df.loc[df['cholesterol']==2, 'cholesterol'] = 'above normal'\n",
    "df.loc[df['cholesterol']==3, 'cholesterol'] = 'well above normal'\n",
    "df['cholesterol']"
   ]
  },
  {
   "cell_type": "markdown",
   "id": "e8eb2f49-cdd0-4297-b30a-3049b2c111b5",
   "metadata": {},
   "source": [
    "Содержание глюкозы в крови. 1: normal, 2: above normal, 3: well above normal"
   ]
  },
  {
   "cell_type": "code",
   "execution_count": 41,
   "id": "c1975453-af95-4cab-8ed4-f2abcfaa54b0",
   "metadata": {},
   "outputs": [
    {
     "data": {
      "text/plain": [
       "0              normal\n",
       "1              normal\n",
       "2              normal\n",
       "3              normal\n",
       "4              normal\n",
       "             ...     \n",
       "69995          normal\n",
       "69996    above normal\n",
       "69997          normal\n",
       "69998    above normal\n",
       "69999          normal\n",
       "Name: gluc, Length: 69325, dtype: object"
      ]
     },
     "execution_count": 41,
     "metadata": {},
     "output_type": "execute_result"
    }
   ],
   "source": [
    "df.loc[df['gluc']==1, 'gluc'] = 'normal'\n",
    "df.loc[df['gluc']==2, 'gluc'] = 'above normal'\n",
    "df.loc[df['gluc']==3, 'gluc'] = 'well above normal'\n",
    "df['gluc']"
   ]
  },
  {
   "cell_type": "code",
   "execution_count": 42,
   "id": "7a25cce9-f5b2-4977-b88f-6de09a3c3604",
   "metadata": {},
   "outputs": [
    {
     "data": {
      "text/html": [
       "<div>\n",
       "<style scoped>\n",
       "    .dataframe tbody tr th:only-of-type {\n",
       "        vertical-align: middle;\n",
       "    }\n",
       "\n",
       "    .dataframe tbody tr th {\n",
       "        vertical-align: top;\n",
       "    }\n",
       "\n",
       "    .dataframe thead th {\n",
       "        text-align: right;\n",
       "    }\n",
       "</style>\n",
       "<table border=\"1\" class=\"dataframe\">\n",
       "  <thead>\n",
       "    <tr style=\"text-align: right;\">\n",
       "      <th></th>\n",
       "      <th>0</th>\n",
       "      <th>1</th>\n",
       "      <th>2</th>\n",
       "      <th>3</th>\n",
       "      <th>4</th>\n",
       "      <th>5</th>\n",
       "      <th>6</th>\n",
       "      <th>7</th>\n",
       "      <th>8</th>\n",
       "      <th>9</th>\n",
       "    </tr>\n",
       "  </thead>\n",
       "  <tbody>\n",
       "    <tr>\n",
       "      <th>id</th>\n",
       "      <td>0</td>\n",
       "      <td>1</td>\n",
       "      <td>2</td>\n",
       "      <td>3</td>\n",
       "      <td>4</td>\n",
       "      <td>8</td>\n",
       "      <td>9</td>\n",
       "      <td>12</td>\n",
       "      <td>13</td>\n",
       "      <td>14</td>\n",
       "    </tr>\n",
       "    <tr>\n",
       "      <th>age</th>\n",
       "      <td>50</td>\n",
       "      <td>55</td>\n",
       "      <td>52</td>\n",
       "      <td>48</td>\n",
       "      <td>48</td>\n",
       "      <td>60</td>\n",
       "      <td>61</td>\n",
       "      <td>62</td>\n",
       "      <td>48</td>\n",
       "      <td>54</td>\n",
       "    </tr>\n",
       "    <tr>\n",
       "      <th>gender</th>\n",
       "      <td>m</td>\n",
       "      <td>w</td>\n",
       "      <td>w</td>\n",
       "      <td>m</td>\n",
       "      <td>w</td>\n",
       "      <td>w</td>\n",
       "      <td>w</td>\n",
       "      <td>m</td>\n",
       "      <td>w</td>\n",
       "      <td>w</td>\n",
       "    </tr>\n",
       "    <tr>\n",
       "      <th>height</th>\n",
       "      <td>168</td>\n",
       "      <td>156</td>\n",
       "      <td>165</td>\n",
       "      <td>169</td>\n",
       "      <td>156</td>\n",
       "      <td>151</td>\n",
       "      <td>157</td>\n",
       "      <td>178</td>\n",
       "      <td>158</td>\n",
       "      <td>164</td>\n",
       "    </tr>\n",
       "    <tr>\n",
       "      <th>weight</th>\n",
       "      <td>62.0</td>\n",
       "      <td>85.0</td>\n",
       "      <td>64.0</td>\n",
       "      <td>82.0</td>\n",
       "      <td>56.0</td>\n",
       "      <td>67.0</td>\n",
       "      <td>93.0</td>\n",
       "      <td>95.0</td>\n",
       "      <td>71.0</td>\n",
       "      <td>68.0</td>\n",
       "    </tr>\n",
       "    <tr>\n",
       "      <th>ap_hi</th>\n",
       "      <td>110</td>\n",
       "      <td>140</td>\n",
       "      <td>130</td>\n",
       "      <td>150</td>\n",
       "      <td>100</td>\n",
       "      <td>120</td>\n",
       "      <td>130</td>\n",
       "      <td>130</td>\n",
       "      <td>110</td>\n",
       "      <td>110</td>\n",
       "    </tr>\n",
       "    <tr>\n",
       "      <th>ap_lo</th>\n",
       "      <td>80</td>\n",
       "      <td>90</td>\n",
       "      <td>70</td>\n",
       "      <td>100</td>\n",
       "      <td>60</td>\n",
       "      <td>80</td>\n",
       "      <td>80</td>\n",
       "      <td>90</td>\n",
       "      <td>70</td>\n",
       "      <td>60</td>\n",
       "    </tr>\n",
       "    <tr>\n",
       "      <th>cholesterol</th>\n",
       "      <td>normal</td>\n",
       "      <td>well above normal</td>\n",
       "      <td>well above normal</td>\n",
       "      <td>normal</td>\n",
       "      <td>normal</td>\n",
       "      <td>above normal</td>\n",
       "      <td>well above normal</td>\n",
       "      <td>well above normal</td>\n",
       "      <td>normal</td>\n",
       "      <td>normal</td>\n",
       "    </tr>\n",
       "    <tr>\n",
       "      <th>gluc</th>\n",
       "      <td>normal</td>\n",
       "      <td>normal</td>\n",
       "      <td>normal</td>\n",
       "      <td>normal</td>\n",
       "      <td>normal</td>\n",
       "      <td>above normal</td>\n",
       "      <td>normal</td>\n",
       "      <td>well above normal</td>\n",
       "      <td>normal</td>\n",
       "      <td>normal</td>\n",
       "    </tr>\n",
       "    <tr>\n",
       "      <th>smoke</th>\n",
       "      <td>0</td>\n",
       "      <td>0</td>\n",
       "      <td>0</td>\n",
       "      <td>0</td>\n",
       "      <td>0</td>\n",
       "      <td>0</td>\n",
       "      <td>0</td>\n",
       "      <td>0</td>\n",
       "      <td>0</td>\n",
       "      <td>0</td>\n",
       "    </tr>\n",
       "    <tr>\n",
       "      <th>alco</th>\n",
       "      <td>0</td>\n",
       "      <td>0</td>\n",
       "      <td>0</td>\n",
       "      <td>0</td>\n",
       "      <td>0</td>\n",
       "      <td>0</td>\n",
       "      <td>0</td>\n",
       "      <td>0</td>\n",
       "      <td>0</td>\n",
       "      <td>0</td>\n",
       "    </tr>\n",
       "    <tr>\n",
       "      <th>active</th>\n",
       "      <td>1</td>\n",
       "      <td>1</td>\n",
       "      <td>0</td>\n",
       "      <td>1</td>\n",
       "      <td>0</td>\n",
       "      <td>0</td>\n",
       "      <td>1</td>\n",
       "      <td>1</td>\n",
       "      <td>1</td>\n",
       "      <td>0</td>\n",
       "    </tr>\n",
       "    <tr>\n",
       "      <th>cardio</th>\n",
       "      <td>0</td>\n",
       "      <td>1</td>\n",
       "      <td>1</td>\n",
       "      <td>1</td>\n",
       "      <td>0</td>\n",
       "      <td>0</td>\n",
       "      <td>0</td>\n",
       "      <td>1</td>\n",
       "      <td>0</td>\n",
       "      <td>0</td>\n",
       "    </tr>\n",
       "  </tbody>\n",
       "</table>\n",
       "</div>"
      ],
      "text/plain": [
       "                  0                  1                  2       3       4  \\\n",
       "id                0                  1                  2       3       4   \n",
       "age              50                 55                 52      48      48   \n",
       "gender            m                  w                  w       m       w   \n",
       "height          168                156                165     169     156   \n",
       "weight         62.0               85.0               64.0    82.0    56.0   \n",
       "ap_hi           110                140                130     150     100   \n",
       "ap_lo            80                 90                 70     100      60   \n",
       "cholesterol  normal  well above normal  well above normal  normal  normal   \n",
       "gluc         normal             normal             normal  normal  normal   \n",
       "smoke             0                  0                  0       0       0   \n",
       "alco              0                  0                  0       0       0   \n",
       "active            1                  1                  0       1       0   \n",
       "cardio            0                  1                  1       1       0   \n",
       "\n",
       "                        5                  6                  7       8  \\\n",
       "id                      8                  9                 12      13   \n",
       "age                    60                 61                 62      48   \n",
       "gender                  w                  w                  m       w   \n",
       "height                151                157                178     158   \n",
       "weight               67.0               93.0               95.0    71.0   \n",
       "ap_hi                 120                130                130     110   \n",
       "ap_lo                  80                 80                 90      70   \n",
       "cholesterol  above normal  well above normal  well above normal  normal   \n",
       "gluc         above normal             normal  well above normal  normal   \n",
       "smoke                   0                  0                  0       0   \n",
       "alco                    0                  0                  0       0   \n",
       "active                  0                  1                  1       1   \n",
       "cardio                  0                  0                  1       0   \n",
       "\n",
       "                  9  \n",
       "id               14  \n",
       "age              54  \n",
       "gender            w  \n",
       "height          164  \n",
       "weight         68.0  \n",
       "ap_hi           110  \n",
       "ap_lo            60  \n",
       "cholesterol  normal  \n",
       "gluc         normal  \n",
       "smoke             0  \n",
       "alco              0  \n",
       "active            0  \n",
       "cardio            0  "
      ]
     },
     "execution_count": 42,
     "metadata": {},
     "output_type": "execute_result"
    }
   ],
   "source": [
    "df.head(10).T"
   ]
  },
  {
   "cell_type": "markdown",
   "id": "2dbce0f5-2b51-457e-a3f5-5464938d12c2",
   "metadata": {},
   "source": [
    "#### Вывод"
   ]
  },
  {
   "cell_type": "markdown",
   "id": "db996349-0687-4454-a934-7317e9583010",
   "metadata": {},
   "source": [
    "В ходе предобработки данных:\n",
    "- возраст преобразован из дней в годы\n",
    "- удалены аномалии значений роста, веса, артериального давления. всего удалено около 1 % строк.\n",
    "- для удосбства преобразованы содержание глюкозы в крови, холестерина, пол пациента из типа int в object, чтобы сразу была понятна характеристика в соотвествущем столбце"
   ]
  },
  {
   "cell_type": "markdown",
   "id": "181ded37-4747-4652-bb97-128c0ef6de96",
   "metadata": {},
   "source": [
    "### Собственно исследование данных"
   ]
  },
  {
   "cell_type": "code",
   "execution_count": 43,
   "id": "ec097163-e0f6-4ecc-b39c-d0f5b724dd76",
   "metadata": {},
   "outputs": [
    {
     "data": {
      "text/plain": [
       "0    34719\n",
       "1    34606\n",
       "Name: cardio, dtype: int64"
      ]
     },
     "execution_count": 43,
     "metadata": {},
     "output_type": "execute_result"
    }
   ],
   "source": [
    "df['cardio'].value_counts()"
   ]
  },
  {
   "cell_type": "code",
   "execution_count": 44,
   "id": "277b7b1b-94cc-4ef6-a91d-4e674b74e810",
   "metadata": {},
   "outputs": [
    {
     "data": {
      "text/plain": [
       "0    0.500815\n",
       "1    0.499185\n",
       "Name: cardio, dtype: float64"
      ]
     },
     "execution_count": 44,
     "metadata": {},
     "output_type": "execute_result"
    }
   ],
   "source": [
    "df['cardio'].value_counts(normalize=True)"
   ]
  },
  {
   "cell_type": "markdown",
   "id": "4bdd69ae-d6f5-4fd8-82fe-041241ea6986",
   "metadata": {},
   "source": [
    "Доли больных и здоровых пациентов датасета примерно одинаковы, т е классы сбалансированы. это хорошо."
   ]
  },
  {
   "cell_type": "code",
   "execution_count": 45,
   "id": "6d03527d-6b69-495a-a2e0-81eeda99603e",
   "metadata": {},
   "outputs": [
    {
     "data": {
      "text/plain": [
       "w    0.650631\n",
       "m    0.349369\n",
       "Name: gender, dtype: float64"
      ]
     },
     "execution_count": 45,
     "metadata": {},
     "output_type": "execute_result"
    }
   ],
   "source": [
    "df['gender'].value_counts(normalize=True)"
   ]
  },
  {
   "cell_type": "markdown",
   "id": "b34486fe-c88e-4513-990f-1d77398fbcc3",
   "metadata": {},
   "source": [
    "Женщин в исследовании практически в 2 раза больше чем мужчин."
   ]
  },
  {
   "cell_type": "markdown",
   "id": "1f6d5980-de8a-48ab-8a60-7739150539a7",
   "metadata": {},
   "source": [
    "#### Фактор возраста"
   ]
  },
  {
   "cell_type": "code",
   "execution_count": 46,
   "id": "fd7d8236-567d-4087-ae04-f58cf13f9f75",
   "metadata": {},
   "outputs": [
    {
     "data": {
      "image/png": "[encoded data removed]",
      "text/plain": [
       "<Figure size 432x288 with 1 Axes>"
      ]
     },
     "metadata": {},
     "output_type": "display_data"
    }
   ],
   "source": [
    "df.groupby('cardio')['age'].mean().plot(kind='bar') \n",
    "plt.ylabel('Age') # добавляем подпись на оси Оу\n",
    "plt.show();"
   ]
  },
  {
   "cell_type": "markdown",
   "id": "be7b7446-c948-4d5c-a952-7f557b85fc38",
   "metadata": {},
   "source": [
    "Средний возраст больных чуть выше, чем у здоровых."
   ]
  },
  {
   "cell_type": "code",
   "execution_count": 47,
   "id": "9b714540-dc48-41d7-936c-edfb7585b6aa",
   "metadata": {},
   "outputs": [
    {
     "data": {
      "image/png": "[encoded data removed]",
      "text/plain": [
       "<Figure size 1080x576 with 1 Axes>"
      ]
     },
     "metadata": {},
     "output_type": "display_data"
    }
   ],
   "source": [
    "plt.figure(figsize=(15, 8)) \n",
    "sns.countplot(y='age', hue='cardio', data=df);"
   ]
  },
  {
   "cell_type": "markdown",
   "id": "b60aa40f-6c91-439e-8c91-82f8257bcf23",
   "metadata": {},
   "source": [
    "Начиная с 55 лет, количество больных людей больше, чем здоровых того же возраста."
   ]
  },
  {
   "cell_type": "code",
   "execution_count": 48,
   "id": "bbdb1694-6e0d-4544-b91f-b0be5dafca9c",
   "metadata": {},
   "outputs": [],
   "source": [
    "def cardio_factors(factor):\n",
    "    data_temp = df.pivot_table(values=['cardio'], index=[factor], aggfunc=['count','sum','mean'])\n",
    "    data_temp.columns = ['Всего пациентов', 'Всего больных', 'Доля больных']\n",
    "    display(data_temp.style.format(\"{:.3f}\").background_gradient(cmap='RdPu', axis=0))"
   ]
  },
  {
   "cell_type": "code",
   "execution_count": 49,
   "id": "314cea70-c03e-41f1-a828-55407b010953",
   "metadata": {},
   "outputs": [
    {
     "data": {
      "text/html": [
       "<style  type=\"text/css\" >\n",
       "#T_c5a41_row0_col0,#T_c5a41_row0_col1,#T_c5a41_row0_col2{\n",
       "            background-color:  #fff7f3;\n",
       "            color:  #000000;\n",
       "        }#T_c5a41_row1_col0{\n",
       "            background-color:  #feebe7;\n",
       "            color:  #000000;\n",
       "        }#T_c5a41_row1_col1{\n",
       "            background-color:  #fff2ee;\n",
       "            color:  #000000;\n",
       "        }#T_c5a41_row1_col2{\n",
       "            background-color:  #fbb2ba;\n",
       "            color:  #000000;\n",
       "        }#T_c5a41_row2_col0{\n",
       "            background-color:  #f87fa9;\n",
       "            color:  #000000;\n",
       "        }#T_c5a41_row2_col1{\n",
       "            background-color:  #fcd2ce;\n",
       "            color:  #000000;\n",
       "        }#T_c5a41_row2_col2{\n",
       "            background-color:  #fbafba;\n",
       "            color:  #000000;\n",
       "        }#T_c5a41_row3_col0,#T_c5a41_row7_col0,#T_c5a41_row9_col0{\n",
       "            background-color:  #fde0dd;\n",
       "            color:  #000000;\n",
       "        }#T_c5a41_row3_col1{\n",
       "            background-color:  #feebe8;\n",
       "            color:  #000000;\n",
       "        }#T_c5a41_row3_col2{\n",
       "            background-color:  #fa9eb5;\n",
       "            color:  #000000;\n",
       "        }#T_c5a41_row4_col0{\n",
       "            background-color:  #f984ab;\n",
       "            color:  #000000;\n",
       "        }#T_c5a41_row4_col1,#T_c5a41_row15_col0,#T_c5a41_row21_col1{\n",
       "            background-color:  #fcc9c4;\n",
       "            color:  #000000;\n",
       "        }#T_c5a41_row4_col2{\n",
       "            background-color:  #f991b0;\n",
       "            color:  #000000;\n",
       "        }#T_c5a41_row5_col0{\n",
       "            background-color:  #fde3e0;\n",
       "            color:  #000000;\n",
       "        }#T_c5a41_row5_col1{\n",
       "            background-color:  #fee9e5;\n",
       "            color:  #000000;\n",
       "        }#T_c5a41_row5_col2{\n",
       "            background-color:  #ee559d;\n",
       "            color:  #000000;\n",
       "        }#T_c5a41_row6_col0{\n",
       "            background-color:  #f875a6;\n",
       "            color:  #000000;\n",
       "        }#T_c5a41_row6_col1{\n",
       "            background-color:  #fbb3bb;\n",
       "            color:  #000000;\n",
       "        }#T_c5a41_row6_col2{\n",
       "            background-color:  #f769a1;\n",
       "            color:  #000000;\n",
       "        }#T_c5a41_row7_col1{\n",
       "            background-color:  #fee7e4;\n",
       "            color:  #000000;\n",
       "        }#T_c5a41_row7_col2{\n",
       "            background-color:  #f05a9e;\n",
       "            color:  #000000;\n",
       "        }#T_c5a41_row8_col0{\n",
       "            background-color:  #f76ca3;\n",
       "            color:  #000000;\n",
       "        }#T_c5a41_row8_col1{\n",
       "            background-color:  #faa5b7;\n",
       "            color:  #000000;\n",
       "        }#T_c5a41_row8_col2{\n",
       "            background-color:  #ea4f9c;\n",
       "            color:  #000000;\n",
       "        }#T_c5a41_row9_col1{\n",
       "            background-color:  #fde4e0;\n",
       "            color:  #000000;\n",
       "        }#T_c5a41_row9_col2{\n",
       "            background-color:  #d52b93;\n",
       "            color:  #f1f1f1;\n",
       "        }#T_c5a41_row10_col0{\n",
       "            background-color:  #f15c9f;\n",
       "            color:  #000000;\n",
       "        }#T_c5a41_row10_col1{\n",
       "            background-color:  #f87ea9;\n",
       "            color:  #000000;\n",
       "        }#T_c5a41_row10_col2,#T_c5a41_row12_col1,#T_c5a41_row24_col0,#T_c5a41_row26_col0{\n",
       "            background-color:  #d32992;\n",
       "            color:  #f1f1f1;\n",
       "        }#T_c5a41_row11_col0,#T_c5a41_row13_col1{\n",
       "            background-color:  #fdd6d2;\n",
       "            color:  #000000;\n",
       "        }#T_c5a41_row11_col1{\n",
       "            background-color:  #fdddd9;\n",
       "            color:  #000000;\n",
       "        }#T_c5a41_row11_col2{\n",
       "            background-color:  #dd3597;\n",
       "            color:  #f1f1f1;\n",
       "        }#T_c5a41_row12_col0,#T_c5a41_row14_col0{\n",
       "            background-color:  #790177;\n",
       "            color:  #f1f1f1;\n",
       "        }#T_c5a41_row12_col2{\n",
       "            background-color:  #ea4d9c;\n",
       "            color:  #000000;\n",
       "        }#T_c5a41_row13_col0,#T_c5a41_row25_col1{\n",
       "            background-color:  #fcccc7;\n",
       "            color:  #000000;\n",
       "        }#T_c5a41_row13_col2{\n",
       "            background-color:  #e13d99;\n",
       "            color:  #f1f1f1;\n",
       "        }#T_c5a41_row14_col1,#T_c5a41_row18_col2{\n",
       "            background-color:  #ab017e;\n",
       "            color:  #f1f1f1;\n",
       "        }#T_c5a41_row14_col2{\n",
       "            background-color:  #d22891;\n",
       "            color:  #f1f1f1;\n",
       "        }#T_c5a41_row15_col1,#T_c5a41_row23_col0{\n",
       "            background-color:  #fcd0cc;\n",
       "            color:  #000000;\n",
       "        }#T_c5a41_row15_col2{\n",
       "            background-color:  #d02690;\n",
       "            color:  #f1f1f1;\n",
       "        }#T_c5a41_row16_col0,#T_c5a41_row25_col2{\n",
       "            background-color:  #4b006a;\n",
       "            color:  #f1f1f1;\n",
       "        }#T_c5a41_row16_col1{\n",
       "            background-color:  #710175;\n",
       "            color:  #f1f1f1;\n",
       "        }#T_c5a41_row16_col2{\n",
       "            background-color:  #c61b8b;\n",
       "            color:  #f1f1f1;\n",
       "        }#T_c5a41_row17_col0,#T_c5a41_row17_col1{\n",
       "            background-color:  #fcc6c1;\n",
       "            color:  #000000;\n",
       "        }#T_c5a41_row17_col2{\n",
       "            background-color:  #aa017d;\n",
       "            color:  #f1f1f1;\n",
       "        }#T_c5a41_row18_col0,#T_c5a41_row22_col1,#T_c5a41_row26_col2{\n",
       "            background-color:  #49006a;\n",
       "            color:  #f1f1f1;\n",
       "        }#T_c5a41_row18_col1{\n",
       "            background-color:  #4c006b;\n",
       "            color:  #f1f1f1;\n",
       "        }#T_c5a41_row19_col0,#T_c5a41_row23_col1{\n",
       "            background-color:  #fcc7c3;\n",
       "            color:  #000000;\n",
       "        }#T_c5a41_row19_col1{\n",
       "            background-color:  #fcc6c2;\n",
       "            color:  #000000;\n",
       "        }#T_c5a41_row19_col2{\n",
       "            background-color:  #a6017d;\n",
       "            color:  #f1f1f1;\n",
       "        }#T_c5a41_row20_col0{\n",
       "            background-color:  #5f0070;\n",
       "            color:  #f1f1f1;\n",
       "        }#T_c5a41_row20_col1{\n",
       "            background-color:  #52006c;\n",
       "            color:  #f1f1f1;\n",
       "        }#T_c5a41_row20_col2{\n",
       "            background-color:  #9e017c;\n",
       "            color:  #f1f1f1;\n",
       "        }#T_c5a41_row21_col0{\n",
       "            background-color:  #fccbc6;\n",
       "            color:  #000000;\n",
       "        }#T_c5a41_row21_col2{\n",
       "            background-color:  #9c017c;\n",
       "            color:  #f1f1f1;\n",
       "        }#T_c5a41_row22_col0,#T_c5a41_row23_col2{\n",
       "            background-color:  #6e0174;\n",
       "            color:  #f1f1f1;\n",
       "        }#T_c5a41_row22_col2{\n",
       "            background-color:  #870179;\n",
       "            color:  #f1f1f1;\n",
       "        }#T_c5a41_row24_col1{\n",
       "            background-color:  #98017b;\n",
       "            color:  #f1f1f1;\n",
       "        }#T_c5a41_row24_col2{\n",
       "            background-color:  #620171;\n",
       "            color:  #f1f1f1;\n",
       "        }#T_c5a41_row25_col0{\n",
       "            background-color:  #fdd7d3;\n",
       "            color:  #000000;\n",
       "        }#T_c5a41_row26_col1{\n",
       "            background-color:  #820178;\n",
       "            color:  #f1f1f1;\n",
       "        }#T_c5a41_row27_col0{\n",
       "            background-color:  #feede9;\n",
       "            color:  #000000;\n",
       "        }#T_c5a41_row27_col1{\n",
       "            background-color:  #feeae7;\n",
       "            color:  #000000;\n",
       "        }#T_c5a41_row27_col2{\n",
       "            background-color:  #57006e;\n",
       "            color:  #f1f1f1;\n",
       "        }</style><table id=\"T_c5a41_\" ><thead>    <tr>        <th class=\"blank level0\" ></th>        <th class=\"col_heading level0 col0\" >Всего пациентов</th>        <th class=\"col_heading level0 col1\" >Всего больных</th>        <th class=\"col_heading level0 col2\" >Доля больных</th>    </tr>    <tr>        <th class=\"index_name level0\" >age</th>        <th class=\"blank\" ></th>        <th class=\"blank\" ></th>        <th class=\"blank\" ></th>    </tr></thead><tbody>\n",
       "                <tr>\n",
       "                        <th id=\"T_c5a41_level0_row0\" class=\"row_heading level0 row0\" >30</th>\n",
       "                        <td id=\"T_c5a41_row0_col0\" class=\"data row0 col0\" >4.000</td>\n",
       "                        <td id=\"T_c5a41_row0_col1\" class=\"data row0 col1\" >0.000</td>\n",
       "                        <td id=\"T_c5a41_row0_col2\" class=\"data row0 col2\" >0.000</td>\n",
       "            </tr>\n",
       "            <tr>\n",
       "                        <th id=\"T_c5a41_level0_row1\" class=\"row_heading level0 row1\" >39</th>\n",
       "                        <td id=\"T_c5a41_row1_col0\" class=\"data row1 col0\" >405.000</td>\n",
       "                        <td id=\"T_c5a41_row1_col1\" class=\"data row1 col1\" >91.000</td>\n",
       "                        <td id=\"T_c5a41_row1_col2\" class=\"data row1 col2\" >0.225</td>\n",
       "            </tr>\n",
       "            <tr>\n",
       "                        <th id=\"T_c5a41_level0_row2\" class=\"row_heading level0 row2\" >40</th>\n",
       "                        <td id=\"T_c5a41_row2_col0\" class=\"data row2 col0\" >2669.000</td>\n",
       "                        <td id=\"T_c5a41_row2_col1\" class=\"data row2 col1\" >616.000</td>\n",
       "                        <td id=\"T_c5a41_row2_col2\" class=\"data row2 col2\" >0.231</td>\n",
       "            </tr>\n",
       "            <tr>\n",
       "                        <th id=\"T_c5a41_level0_row3\" class=\"row_heading level0 row3\" >41</th>\n",
       "                        <td id=\"T_c5a41_row3_col0\" class=\"data row3 col0\" >761.000</td>\n",
       "                        <td id=\"T_c5a41_row3_col1\" class=\"data row3 col1\" >206.000</td>\n",
       "                        <td id=\"T_c5a41_row3_col2\" class=\"data row3 col2\" >0.271</td>\n",
       "            </tr>\n",
       "            <tr>\n",
       "                        <th id=\"T_c5a41_level0_row4\" class=\"row_heading level0 row4\" >42</th>\n",
       "                        <td id=\"T_c5a41_row4_col0\" class=\"data row4 col0\" >2593.000</td>\n",
       "                        <td id=\"T_c5a41_row4_col1\" class=\"data row4 col1\" >761.000</td>\n",
       "                        <td id=\"T_c5a41_row4_col2\" class=\"data row4 col2\" >0.293</td>\n",
       "            </tr>\n",
       "            <tr>\n",
       "                        <th id=\"T_c5a41_level0_row5\" class=\"row_heading level0 row5\" >43</th>\n",
       "                        <td id=\"T_c5a41_row5_col0\" class=\"data row5 col0\" >675.000</td>\n",
       "                        <td id=\"T_c5a41_row5_col1\" class=\"data row5 col1\" >263.000</td>\n",
       "                        <td id=\"T_c5a41_row5_col2\" class=\"data row5 col2\" >0.390</td>\n",
       "            </tr>\n",
       "            <tr>\n",
       "                        <th id=\"T_c5a41_level0_row6\" class=\"row_heading level0 row6\" >44</th>\n",
       "                        <td id=\"T_c5a41_row6_col0\" class=\"data row6 col0\" >2811.000</td>\n",
       "                        <td id=\"T_c5a41_row6_col1\" class=\"data row6 col1\" >1007.000</td>\n",
       "                        <td id=\"T_c5a41_row6_col2\" class=\"data row6 col2\" >0.358</td>\n",
       "            </tr>\n",
       "            <tr>\n",
       "                        <th id=\"T_c5a41_level0_row7\" class=\"row_heading level0 row7\" >45</th>\n",
       "                        <td id=\"T_c5a41_row7_col0\" class=\"data row7 col0\" >752.000</td>\n",
       "                        <td id=\"T_c5a41_row7_col1\" class=\"data row7 col1\" >288.000</td>\n",
       "                        <td id=\"T_c5a41_row7_col2\" class=\"data row7 col2\" >0.383</td>\n",
       "            </tr>\n",
       "            <tr>\n",
       "                        <th id=\"T_c5a41_level0_row8\" class=\"row_heading level0 row8\" >46</th>\n",
       "                        <td id=\"T_c5a41_row8_col0\" class=\"data row8 col0\" >2924.000</td>\n",
       "                        <td id=\"T_c5a41_row8_col1\" class=\"data row8 col1\" >1171.000</td>\n",
       "                        <td id=\"T_c5a41_row8_col2\" class=\"data row8 col2\" >0.400</td>\n",
       "            </tr>\n",
       "            <tr>\n",
       "                        <th id=\"T_c5a41_level0_row9\" class=\"row_heading level0 row9\" >47</th>\n",
       "                        <td id=\"T_c5a41_row9_col0\" class=\"data row9 col0\" >750.000</td>\n",
       "                        <td id=\"T_c5a41_row9_col1\" class=\"data row9 col1\" >347.000</td>\n",
       "                        <td id=\"T_c5a41_row9_col2\" class=\"data row9 col2\" >0.463</td>\n",
       "            </tr>\n",
       "            <tr>\n",
       "                        <th id=\"T_c5a41_level0_row10\" class=\"row_heading level0 row10\" >48</th>\n",
       "                        <td id=\"T_c5a41_row10_col0\" class=\"data row10 col0\" >3165.000</td>\n",
       "                        <td id=\"T_c5a41_row10_col1\" class=\"data row10 col1\" >1477.000</td>\n",
       "                        <td id=\"T_c5a41_row10_col2\" class=\"data row10 col2\" >0.467</td>\n",
       "            </tr>\n",
       "            <tr>\n",
       "                        <th id=\"T_c5a41_level0_row11\" class=\"row_heading level0 row11\" >49</th>\n",
       "                        <td id=\"T_c5a41_row11_col0\" class=\"data row11 col0\" >1051.000</td>\n",
       "                        <td id=\"T_c5a41_row11_col1\" class=\"data row11 col1\" >468.000</td>\n",
       "                        <td id=\"T_c5a41_row11_col2\" class=\"data row11 col2\" >0.445</td>\n",
       "            </tr>\n",
       "            <tr>\n",
       "                        <th id=\"T_c5a41_level0_row12\" class=\"row_heading level0 row12\" >50</th>\n",
       "                        <td id=\"T_c5a41_row12_col0\" class=\"data row12 col0\" >5226.000</td>\n",
       "                        <td id=\"T_c5a41_row12_col1\" class=\"data row12 col1\" >2117.000</td>\n",
       "                        <td id=\"T_c5a41_row12_col2\" class=\"data row12 col2\" >0.405</td>\n",
       "            </tr>\n",
       "            <tr>\n",
       "                        <th id=\"T_c5a41_level0_row13\" class=\"row_heading level0 row13\" >51</th>\n",
       "                        <td id=\"T_c5a41_row13_col0\" class=\"data row13 col0\" >1329.000</td>\n",
       "                        <td id=\"T_c5a41_row13_col1\" class=\"data row13 col1\" >573.000</td>\n",
       "                        <td id=\"T_c5a41_row13_col2\" class=\"data row13 col2\" >0.431</td>\n",
       "            </tr>\n",
       "            <tr>\n",
       "                        <th id=\"T_c5a41_level0_row14\" class=\"row_heading level0 row14\" >52</th>\n",
       "                        <td id=\"T_c5a41_row14_col0\" class=\"data row14 col0\" >5244.000</td>\n",
       "                        <td id=\"T_c5a41_row14_col1\" class=\"data row14 col1\" >2464.000</td>\n",
       "                        <td id=\"T_c5a41_row14_col2\" class=\"data row14 col2\" >0.470</td>\n",
       "            </tr>\n",
       "            <tr>\n",
       "                        <th id=\"T_c5a41_level0_row15\" class=\"row_heading level0 row15\" >53</th>\n",
       "                        <td id=\"T_c5a41_row15_col0\" class=\"data row15 col0\" >1397.000</td>\n",
       "                        <td id=\"T_c5a41_row15_col1\" class=\"data row15 col1\" >660.000</td>\n",
       "                        <td id=\"T_c5a41_row15_col2\" class=\"data row15 col2\" >0.472</td>\n",
       "            </tr>\n",
       "            <tr>\n",
       "                        <th id=\"T_c5a41_level0_row16\" class=\"row_heading level0 row16\" >54</th>\n",
       "                        <td id=\"T_c5a41_row16_col0\" class=\"data row16 col0\" >5939.000</td>\n",
       "                        <td id=\"T_c5a41_row16_col1\" class=\"data row16 col1\" >2922.000</td>\n",
       "                        <td id=\"T_c5a41_row16_col2\" class=\"data row16 col2\" >0.492</td>\n",
       "            </tr>\n",
       "            <tr>\n",
       "                        <th id=\"T_c5a41_level0_row17\" class=\"row_heading level0 row17\" >55</th>\n",
       "                        <td id=\"T_c5a41_row17_col0\" class=\"data row17 col0\" >1485.000</td>\n",
       "                        <td id=\"T_c5a41_row17_col1\" class=\"data row17 col1\" >807.000</td>\n",
       "                        <td id=\"T_c5a41_row17_col2\" class=\"data row17 col2\" >0.543</td>\n",
       "            </tr>\n",
       "            <tr>\n",
       "                        <th id=\"T_c5a41_level0_row18\" class=\"row_heading level0 row18\" >56</th>\n",
       "                        <td id=\"T_c5a41_row18_col0\" class=\"data row18 col0\" >5972.000</td>\n",
       "                        <td id=\"T_c5a41_row18_col1\" class=\"data row18 col1\" >3234.000</td>\n",
       "                        <td id=\"T_c5a41_row18_col2\" class=\"data row18 col2\" >0.542</td>\n",
       "            </tr>\n",
       "            <tr>\n",
       "                        <th id=\"T_c5a41_level0_row19\" class=\"row_heading level0 row19\" >57</th>\n",
       "                        <td id=\"T_c5a41_row19_col0\" class=\"data row19 col0\" >1434.000</td>\n",
       "                        <td id=\"T_c5a41_row19_col1\" class=\"data row19 col1\" >790.000</td>\n",
       "                        <td id=\"T_c5a41_row19_col2\" class=\"data row19 col2\" >0.551</td>\n",
       "            </tr>\n",
       "            <tr>\n",
       "                        <th id=\"T_c5a41_level0_row20\" class=\"row_heading level0 row20\" >58</th>\n",
       "                        <td id=\"T_c5a41_row20_col0\" class=\"data row20 col0\" >5638.000</td>\n",
       "                        <td id=\"T_c5a41_row20_col1\" class=\"data row20 col1\" >3181.000</td>\n",
       "                        <td id=\"T_c5a41_row20_col2\" class=\"data row20 col2\" >0.564</td>\n",
       "            </tr>\n",
       "            <tr>\n",
       "                        <th id=\"T_c5a41_level0_row21\" class=\"row_heading level0 row21\" >59</th>\n",
       "                        <td id=\"T_c5a41_row21_col0\" class=\"data row21 col0\" >1346.000</td>\n",
       "                        <td id=\"T_c5a41_row21_col1\" class=\"data row21 col1\" >764.000</td>\n",
       "                        <td id=\"T_c5a41_row21_col2\" class=\"data row21 col2\" >0.568</td>\n",
       "            </tr>\n",
       "            <tr>\n",
       "                        <th id=\"T_c5a41_level0_row22\" class=\"row_heading level0 row22\" >60</th>\n",
       "                        <td id=\"T_c5a41_row22_col0\" class=\"data row22 col0\" >5410.000</td>\n",
       "                        <td id=\"T_c5a41_row22_col1\" class=\"data row22 col1\" >3260.000</td>\n",
       "                        <td id=\"T_c5a41_row22_col2\" class=\"data row22 col2\" >0.603</td>\n",
       "            </tr>\n",
       "            <tr>\n",
       "                        <th id=\"T_c5a41_level0_row23\" class=\"row_heading level0 row23\" >61</th>\n",
       "                        <td id=\"T_c5a41_row23_col0\" class=\"data row23 col0\" >1209.000</td>\n",
       "                        <td id=\"T_c5a41_row23_col1\" class=\"data row23 col1\" >784.000</td>\n",
       "                        <td id=\"T_c5a41_row23_col2\" class=\"data row23 col2\" >0.648</td>\n",
       "            </tr>\n",
       "            <tr>\n",
       "                        <th id=\"T_c5a41_level0_row24\" class=\"row_heading level0 row24\" >62</th>\n",
       "                        <td id=\"T_c5a41_row24_col0\" class=\"data row24 col0\" >3894.000</td>\n",
       "                        <td id=\"T_c5a41_row24_col1\" class=\"data row24 col1\" >2613.000</td>\n",
       "                        <td id=\"T_c5a41_row24_col2\" class=\"data row24 col2\" >0.671</td>\n",
       "            </tr>\n",
       "            <tr>\n",
       "                        <th id=\"T_c5a41_level0_row25\" class=\"row_heading level0 row25\" >63</th>\n",
       "                        <td id=\"T_c5a41_row25_col0\" class=\"data row25 col0\" >1011.000</td>\n",
       "                        <td id=\"T_c5a41_row25_col1\" class=\"data row25 col1\" >720.000</td>\n",
       "                        <td id=\"T_c5a41_row25_col2\" class=\"data row25 col2\" >0.712</td>\n",
       "            </tr>\n",
       "            <tr>\n",
       "                        <th id=\"T_c5a41_level0_row26\" class=\"row_heading level0 row26\" >64</th>\n",
       "                        <td id=\"T_c5a41_row26_col0\" class=\"data row26 col0\" >3884.000</td>\n",
       "                        <td id=\"T_c5a41_row26_col1\" class=\"data row26 col1\" >2783.000</td>\n",
       "                        <td id=\"T_c5a41_row26_col2\" class=\"data row26 col2\" >0.717</td>\n",
       "            </tr>\n",
       "            <tr>\n",
       "                        <th id=\"T_c5a41_level0_row27\" class=\"row_heading level0 row27\" >65</th>\n",
       "                        <td id=\"T_c5a41_row27_col0\" class=\"data row27 col0\" >347.000</td>\n",
       "                        <td id=\"T_c5a41_row27_col1\" class=\"data row27 col1\" >239.000</td>\n",
       "                        <td id=\"T_c5a41_row27_col2\" class=\"data row27 col2\" >0.689</td>\n",
       "            </tr>\n",
       "    </tbody></table>"
      ],
      "text/plain": [
       "<pandas.io.formats.style.Styler at 0x18c62dfd700>"
      ]
     },
     "metadata": {},
     "output_type": "display_data"
    }
   ],
   "source": [
    "cardio_factors('age')"
   ]
  },
  {
   "cell_type": "markdown",
   "id": "72dd48f5-2e40-4070-9c6a-a6fc0dce84da",
   "metadata": {},
   "source": [
    "Есть зависимость. Чем старше пациент, тем вероятнее он страдает ССЗ. К сожалению, очевидный факт, т.к. с возрастом ССС изнашивается и соотвественно появляются заболевания."
   ]
  },
  {
   "cell_type": "markdown",
   "id": "a0285052-13bb-4e4f-9be8-c5059137ad2a",
   "metadata": {},
   "source": [
    "#### Фактор пола"
   ]
  },
  {
   "cell_type": "code",
   "execution_count": 50,
   "id": "5e2bce42-be70-4353-bb2e-4adad3c58e6a",
   "metadata": {},
   "outputs": [
    {
     "data": {
      "text/html": [
       "<style  type=\"text/css\" >\n",
       "#T_9b7f2_row0_col0,#T_9b7f2_row0_col1,#T_9b7f2_row1_col2{\n",
       "            background-color:  #fff7f3;\n",
       "            color:  #000000;\n",
       "        }#T_9b7f2_row0_col2,#T_9b7f2_row1_col0,#T_9b7f2_row1_col1{\n",
       "            background-color:  #49006a;\n",
       "            color:  #f1f1f1;\n",
       "        }</style><table id=\"T_9b7f2_\" ><thead>    <tr>        <th class=\"blank level0\" ></th>        <th class=\"col_heading level0 col0\" >Всего пациентов</th>        <th class=\"col_heading level0 col1\" >Всего больных</th>        <th class=\"col_heading level0 col2\" >Доля больных</th>    </tr>    <tr>        <th class=\"index_name level0\" >gender</th>        <th class=\"blank\" ></th>        <th class=\"blank\" ></th>        <th class=\"blank\" ></th>    </tr></thead><tbody>\n",
       "                <tr>\n",
       "                        <th id=\"T_9b7f2_level0_row0\" class=\"row_heading level0 row0\" >m</th>\n",
       "                        <td id=\"T_9b7f2_row0_col0\" class=\"data row0 col0\" >24220.000</td>\n",
       "                        <td id=\"T_9b7f2_row0_col1\" class=\"data row0 col1\" >12211.000</td>\n",
       "                        <td id=\"T_9b7f2_row0_col2\" class=\"data row0 col2\" >0.504</td>\n",
       "            </tr>\n",
       "            <tr>\n",
       "                        <th id=\"T_9b7f2_level0_row1\" class=\"row_heading level0 row1\" >w</th>\n",
       "                        <td id=\"T_9b7f2_row1_col0\" class=\"data row1 col0\" >45105.000</td>\n",
       "                        <td id=\"T_9b7f2_row1_col1\" class=\"data row1 col1\" >22395.000</td>\n",
       "                        <td id=\"T_9b7f2_row1_col2\" class=\"data row1 col2\" >0.497</td>\n",
       "            </tr>\n",
       "    </tbody></table>"
      ],
      "text/plain": [
       "<pandas.io.formats.style.Styler at 0x18c62dfd2b0>"
      ]
     },
     "metadata": {},
     "output_type": "display_data"
    }
   ],
   "source": [
    "cardio_factors('gender')"
   ]
  },
  {
   "cell_type": "markdown",
   "id": "aefdc7b5-7d74-449e-ae91-3331e933f05d",
   "metadata": {},
   "source": [
    "Как в случае женщин, так и в случае мужчин страдают ССЗ половина обследованных пациентов группы по гендеру. Таким образом, пол не влияет на развитие ССЗ."
   ]
  },
  {
   "cell_type": "code",
   "execution_count": 51,
   "id": "1de89340-d82b-41b6-a9ff-3d69d8d2924f",
   "metadata": {},
   "outputs": [
    {
     "data": {
      "image/png": "[encoded data removed]",
      "text/plain": [
       "<Figure size 432x288 with 1 Axes>"
      ]
     },
     "metadata": {},
     "output_type": "display_data"
    }
   ],
   "source": [
    "df.pivot_table(values=['cardio'], index=['gender'], aggfunc='mean').plot(kind = 'bar')\n",
    "plt.show()"
   ]
  },
  {
   "cell_type": "markdown",
   "id": "29d73c3e-9942-4a94-a930-32e17ee7b321",
   "metadata": {},
   "source": [
    "#### Курение и употребление алкоголя"
   ]
  },
  {
   "cell_type": "code",
   "execution_count": 52,
   "id": "867d5381-f434-4ed5-8aa3-c6183249b8c4",
   "metadata": {},
   "outputs": [
    {
     "data": {
      "text/html": [
       "<style  type=\"text/css\" >\n",
       "#T_685ee_row0_col0,#T_685ee_row0_col1,#T_685ee_row0_col2{\n",
       "            background-color:  #49006a;\n",
       "            color:  #f1f1f1;\n",
       "        }#T_685ee_row1_col0,#T_685ee_row1_col1,#T_685ee_row1_col2{\n",
       "            background-color:  #fff7f3;\n",
       "            color:  #000000;\n",
       "        }</style><table id=\"T_685ee_\" ><thead>    <tr>        <th class=\"blank level0\" ></th>        <th class=\"col_heading level0 col0\" >Всего пациентов</th>        <th class=\"col_heading level0 col1\" >Всего больных</th>        <th class=\"col_heading level0 col2\" >Доля больных</th>    </tr>    <tr>        <th class=\"index_name level0\" >smoke</th>        <th class=\"blank\" ></th>        <th class=\"blank\" ></th>        <th class=\"blank\" ></th>    </tr></thead><tbody>\n",
       "                <tr>\n",
       "                        <th id=\"T_685ee_level0_row0\" class=\"row_heading level0 row0\" >0</th>\n",
       "                        <td id=\"T_685ee_row0_col0\" class=\"data row0 col0\" >63203.000</td>\n",
       "                        <td id=\"T_685ee_row0_col1\" class=\"data row0 col1\" >31704.000</td>\n",
       "                        <td id=\"T_685ee_row0_col2\" class=\"data row0 col2\" >0.502</td>\n",
       "            </tr>\n",
       "            <tr>\n",
       "                        <th id=\"T_685ee_level0_row1\" class=\"row_heading level0 row1\" >1</th>\n",
       "                        <td id=\"T_685ee_row1_col0\" class=\"data row1 col0\" >6122.000</td>\n",
       "                        <td id=\"T_685ee_row1_col1\" class=\"data row1 col1\" >2902.000</td>\n",
       "                        <td id=\"T_685ee_row1_col2\" class=\"data row1 col2\" >0.474</td>\n",
       "            </tr>\n",
       "    </tbody></table>"
      ],
      "text/plain": [
       "<pandas.io.formats.style.Styler at 0x18c62cd7c10>"
      ]
     },
     "metadata": {},
     "output_type": "display_data"
    }
   ],
   "source": [
    "cardio_factors('smoke')"
   ]
  },
  {
   "cell_type": "code",
   "execution_count": 53,
   "id": "07dddeec-8fc0-4ed1-8d3d-fd3f476b3456",
   "metadata": {},
   "outputs": [
    {
     "data": {
      "text/html": [
       "<style  type=\"text/css\" >\n",
       "#T_985ef_row0_col0,#T_985ef_row0_col1,#T_985ef_row0_col2{\n",
       "            background-color:  #49006a;\n",
       "            color:  #f1f1f1;\n",
       "        }#T_985ef_row1_col0,#T_985ef_row1_col1,#T_985ef_row1_col2{\n",
       "            background-color:  #fff7f3;\n",
       "            color:  #000000;\n",
       "        }</style><table id=\"T_985ef_\" ><thead>    <tr>        <th class=\"blank level0\" ></th>        <th class=\"col_heading level0 col0\" >Всего пациентов</th>        <th class=\"col_heading level0 col1\" >Всего больных</th>        <th class=\"col_heading level0 col2\" >Доля больных</th>    </tr>    <tr>        <th class=\"index_name level0\" >alco</th>        <th class=\"blank\" ></th>        <th class=\"blank\" ></th>        <th class=\"blank\" ></th>    </tr></thead><tbody>\n",
       "                <tr>\n",
       "                        <th id=\"T_985ef_level0_row0\" class=\"row_heading level0 row0\" >0</th>\n",
       "                        <td id=\"T_985ef_row0_col0\" class=\"data row0 col0\" >65616.000</td>\n",
       "                        <td id=\"T_985ef_row0_col1\" class=\"data row0 col1\" >32814.000</td>\n",
       "                        <td id=\"T_985ef_row0_col2\" class=\"data row0 col2\" >0.500</td>\n",
       "            </tr>\n",
       "            <tr>\n",
       "                        <th id=\"T_985ef_level0_row1\" class=\"row_heading level0 row1\" >1</th>\n",
       "                        <td id=\"T_985ef_row1_col0\" class=\"data row1 col0\" >3709.000</td>\n",
       "                        <td id=\"T_985ef_row1_col1\" class=\"data row1 col1\" >1792.000</td>\n",
       "                        <td id=\"T_985ef_row1_col2\" class=\"data row1 col2\" >0.483</td>\n",
       "            </tr>\n",
       "    </tbody></table>"
      ],
      "text/plain": [
       "<pandas.io.formats.style.Styler at 0x18c62377940>"
      ]
     },
     "metadata": {},
     "output_type": "display_data"
    }
   ],
   "source": [
    "cardio_factors('alco')"
   ]
  },
  {
   "cell_type": "code",
   "execution_count": 54,
   "id": "b13b2248-be59-4bbc-8112-820fe535b8f5",
   "metadata": {},
   "outputs": [
    {
     "data": {
      "text/html": [
       "<div>\n",
       "<style scoped>\n",
       "    .dataframe tbody tr th:only-of-type {\n",
       "        vertical-align: middle;\n",
       "    }\n",
       "\n",
       "    .dataframe tbody tr th {\n",
       "        vertical-align: top;\n",
       "    }\n",
       "\n",
       "    .dataframe thead th {\n",
       "        text-align: right;\n",
       "    }\n",
       "</style>\n",
       "<table border=\"1\" class=\"dataframe\">\n",
       "  <thead>\n",
       "    <tr style=\"text-align: right;\">\n",
       "      <th></th>\n",
       "      <th></th>\n",
       "      <th></th>\n",
       "      <th>cardio</th>\n",
       "    </tr>\n",
       "    <tr>\n",
       "      <th>gender</th>\n",
       "      <th>smoke</th>\n",
       "      <th>alco</th>\n",
       "      <th></th>\n",
       "    </tr>\n",
       "  </thead>\n",
       "  <tbody>\n",
       "    <tr>\n",
       "      <th rowspan=\"4\" valign=\"top\">m</th>\n",
       "      <th rowspan=\"2\" valign=\"top\">0</th>\n",
       "      <th>0</th>\n",
       "      <td>0.511519</td>\n",
       "    </tr>\n",
       "    <tr>\n",
       "      <th>1</th>\n",
       "      <td>0.536996</td>\n",
       "    </tr>\n",
       "    <tr>\n",
       "      <th rowspan=\"2\" valign=\"top\">1</th>\n",
       "      <th>0</th>\n",
       "      <td>0.486531</td>\n",
       "    </tr>\n",
       "    <tr>\n",
       "      <th>1</th>\n",
       "      <td>0.446035</td>\n",
       "    </tr>\n",
       "    <tr>\n",
       "      <th rowspan=\"4\" valign=\"top\">w</th>\n",
       "      <th rowspan=\"2\" valign=\"top\">0</th>\n",
       "      <th>0</th>\n",
       "      <td>0.496653</td>\n",
       "    </tr>\n",
       "    <tr>\n",
       "      <th>1</th>\n",
       "      <td>0.507128</td>\n",
       "    </tr>\n",
       "    <tr>\n",
       "      <th rowspan=\"2\" valign=\"top\">1</th>\n",
       "      <th>0</th>\n",
       "      <td>0.488444</td>\n",
       "    </tr>\n",
       "    <tr>\n",
       "      <th>1</th>\n",
       "      <td>0.424051</td>\n",
       "    </tr>\n",
       "  </tbody>\n",
       "</table>\n",
       "</div>"
      ],
      "text/plain": [
       "                     cardio\n",
       "gender smoke alco          \n",
       "m      0     0     0.511519\n",
       "             1     0.536996\n",
       "       1     0     0.486531\n",
       "             1     0.446035\n",
       "w      0     0     0.496653\n",
       "             1     0.507128\n",
       "       1     0     0.488444\n",
       "             1     0.424051"
      ]
     },
     "execution_count": 54,
     "metadata": {},
     "output_type": "execute_result"
    }
   ],
   "source": [
    "df.pivot_table(values=['cardio'], index=['gender', 'smoke', 'alco'], aggfunc='mean')"
   ]
  },
  {
   "cell_type": "markdown",
   "id": "a81bf91b-cbfb-4249-8f12-f1bb74d0384e",
   "metadata": {},
   "source": [
    "Странным образом, наличие вредных привычек не ведет к увеличению вероятности возникновения ССЗ. Ни у женщин, ни у мужчин. \n",
    "\n",
    "Возможно, люди, которые отметили отсуствие у себя вредных привычек, злоупотребляли курением и алкоголем ранее ,а на момент исследования бросили. Развитие ССЗ у некурящих людей также может быть связано с пассивынм курением."
   ]
  },
  {
   "cell_type": "code",
   "execution_count": 55,
   "id": "73b240cf-806a-4ea1-9233-d7e3f0abd3ef",
   "metadata": {},
   "outputs": [
    {
     "data": {
      "text/html": [
       "<div>\n",
       "<style scoped>\n",
       "    .dataframe tbody tr th:only-of-type {\n",
       "        vertical-align: middle;\n",
       "    }\n",
       "\n",
       "    .dataframe tbody tr th {\n",
       "        vertical-align: top;\n",
       "    }\n",
       "\n",
       "    .dataframe thead th {\n",
       "        text-align: right;\n",
       "    }\n",
       "</style>\n",
       "<table border=\"1\" class=\"dataframe\">\n",
       "  <thead>\n",
       "    <tr style=\"text-align: right;\">\n",
       "      <th></th>\n",
       "      <th>alco</th>\n",
       "      <th>smoke</th>\n",
       "    </tr>\n",
       "    <tr>\n",
       "      <th>gender</th>\n",
       "      <th></th>\n",
       "      <th></th>\n",
       "    </tr>\n",
       "  </thead>\n",
       "  <tbody>\n",
       "    <tr>\n",
       "      <th>m</th>\n",
       "      <td>0.106069</td>\n",
       "      <td>0.219447</td>\n",
       "    </tr>\n",
       "    <tr>\n",
       "      <th>w</th>\n",
       "      <td>0.025274</td>\n",
       "      <td>0.017892</td>\n",
       "    </tr>\n",
       "  </tbody>\n",
       "</table>\n",
       "</div>"
      ],
      "text/plain": [
       "            alco     smoke\n",
       "gender                    \n",
       "m       0.106069  0.219447\n",
       "w       0.025274  0.017892"
      ]
     },
     "execution_count": 55,
     "metadata": {},
     "output_type": "execute_result"
    }
   ],
   "source": [
    "df.pivot_table(values=['smoke', 'alco'], index=['gender'], aggfunc='mean')"
   ]
  },
  {
   "cell_type": "markdown",
   "id": "ce656caa-e556-4149-86d7-d3daa40ae030",
   "metadata": {},
   "source": [
    "Доля пациентов с вредными привычками довольно невелика. Особенно у женщин - 2-3% от всех пациентов. А вот у мужчин 10-22%, это уже весомо."
   ]
  },
  {
   "cell_type": "markdown",
   "id": "64b3366a-3c2e-4cfc-b393-ecb3d920f1a7",
   "metadata": {},
   "source": [
    "Из последней таблицы также видно, что у мужчин чаще имеются вредные привычки в виде курения и употребления алкоголя."
   ]
  },
  {
   "cell_type": "code",
   "execution_count": 56,
   "id": "a80567cb-acb5-4698-a3bb-daa3e4f4345e",
   "metadata": {},
   "outputs": [
    {
     "data": {
      "text/html": [
       "<div>\n",
       "<style scoped>\n",
       "    .dataframe tbody tr th:only-of-type {\n",
       "        vertical-align: middle;\n",
       "    }\n",
       "\n",
       "    .dataframe tbody tr th {\n",
       "        vertical-align: top;\n",
       "    }\n",
       "\n",
       "    .dataframe thead th {\n",
       "        text-align: right;\n",
       "    }\n",
       "</style>\n",
       "<table border=\"1\" class=\"dataframe\">\n",
       "  <thead>\n",
       "    <tr style=\"text-align: right;\">\n",
       "      <th></th>\n",
       "      <th>age</th>\n",
       "    </tr>\n",
       "    <tr>\n",
       "      <th>smoke</th>\n",
       "      <th></th>\n",
       "    </tr>\n",
       "  </thead>\n",
       "  <tbody>\n",
       "    <tr>\n",
       "      <th>0</th>\n",
       "      <td>53.441371</td>\n",
       "    </tr>\n",
       "    <tr>\n",
       "      <th>1</th>\n",
       "      <td>52.307579</td>\n",
       "    </tr>\n",
       "  </tbody>\n",
       "</table>\n",
       "</div>"
      ],
      "text/plain": [
       "             age\n",
       "smoke           \n",
       "0      53.441371\n",
       "1      52.307579"
      ]
     },
     "execution_count": 56,
     "metadata": {},
     "output_type": "execute_result"
    }
   ],
   "source": [
    "df.pivot_table(values=['age'], index=['smoke'], aggfunc='mean')"
   ]
  },
  {
   "cell_type": "markdown",
   "id": "64d781e7-ee4e-4c2c-b627-5f713d114ef9",
   "metadata": {},
   "source": [
    "#### Фактор индекса массы тела"
   ]
  },
  {
   "cell_type": "markdown",
   "id": "91ffee5f-0b84-4fb5-9d05-8be502c1e8ac",
   "metadata": {},
   "source": [
    "Добавим колонку `bmi` индекс массы тела - отношение массы тела (кг) к квардрату роста (м)"
   ]
  },
  {
   "cell_type": "code",
   "execution_count": 57,
   "id": "ba988297-879e-431f-8826-8c630d276f9f",
   "metadata": {},
   "outputs": [
    {
     "data": {
      "text/plain": [
       "27.45984844654259"
      ]
     },
     "execution_count": 57,
     "metadata": {},
     "output_type": "execute_result"
    }
   ],
   "source": [
    "df['bmi'] = df['weight']/(df['height']/100)**2\n",
    "df['bmi'].mean()"
   ]
  },
  {
   "cell_type": "markdown",
   "id": "9c725a44-2fd4-429a-aec4-a1bd724b3c39",
   "metadata": {},
   "source": [
    "Средний ИМТ выше нормы."
   ]
  },
  {
   "cell_type": "code",
   "execution_count": 58,
   "id": "e2d5ad42-e318-47ad-84a9-f80ceb8a9f63",
   "metadata": {},
   "outputs": [
    {
     "data": {
      "image/png": "[encoded data removed]",
      "text/plain": [
       "<Figure size 432x288 with 1 Axes>"
      ]
     },
     "metadata": {},
     "output_type": "display_data"
    }
   ],
   "source": [
    "df['bmi'].hist();"
   ]
  },
  {
   "cell_type": "code",
   "execution_count": 59,
   "id": "356336e5-0b4b-47b8-a734-c95249e42d53",
   "metadata": {},
   "outputs": [
    {
     "data": {
      "image/png": "[encoded data removed]",
      "text/plain": [
       "<Figure size 432x288 with 1 Axes>"
      ]
     },
     "metadata": {},
     "output_type": "display_data"
    }
   ],
   "source": [
    "df.boxplot('bmi');"
   ]
  },
  {
   "cell_type": "markdown",
   "id": "7fc15b0d-e54a-405d-9839-ced4e20c916e",
   "metadata": {},
   "source": [
    "Значения ИМТ распределены нормально. Выбросами можно назвать значения выше 40."
   ]
  },
  {
   "cell_type": "code",
   "execution_count": 60,
   "id": "fd22b868-537c-491c-ae30-9f6c82e0fd67",
   "metadata": {},
   "outputs": [
    {
     "data": {
      "text/plain": [
       "1718"
      ]
     },
     "execution_count": 60,
     "metadata": {},
     "output_type": "execute_result"
    }
   ],
   "source": [
    "df.query('bmi>40').shape[0]"
   ]
  },
  {
   "cell_type": "code",
   "execution_count": 61,
   "id": "d747c5f6-6ef7-4680-a12e-c3c610cbcac6",
   "metadata": {},
   "outputs": [],
   "source": [
    "df= df.query('bmi<=40')"
   ]
  },
  {
   "cell_type": "code",
   "execution_count": 62,
   "id": "74216559-9d78-4793-afda-6573339dc166",
   "metadata": {},
   "outputs": [
    {
     "data": {
      "text/plain": [
       "0.9658142857142857"
      ]
     },
     "execution_count": 62,
     "metadata": {},
     "output_type": "execute_result"
    }
   ],
   "source": [
    "#остаток строк\n",
    "old_df = pd.read_csv('cardio_train.csv', sep=';')\n",
    "df.shape[0]/old_df.shape[0]"
   ]
  },
  {
   "cell_type": "code",
   "execution_count": 63,
   "id": "27288c39-08a6-4cfb-908b-84de064ce7c4",
   "metadata": {},
   "outputs": [
    {
     "data": {
      "text/html": [
       "<div>\n",
       "<style scoped>\n",
       "    .dataframe tbody tr th:only-of-type {\n",
       "        vertical-align: middle;\n",
       "    }\n",
       "\n",
       "    .dataframe tbody tr th {\n",
       "        vertical-align: top;\n",
       "    }\n",
       "\n",
       "    .dataframe thead th {\n",
       "        text-align: right;\n",
       "    }\n",
       "</style>\n",
       "<table border=\"1\" class=\"dataframe\">\n",
       "  <thead>\n",
       "    <tr style=\"text-align: right;\">\n",
       "      <th></th>\n",
       "      <th>bmi</th>\n",
       "    </tr>\n",
       "    <tr>\n",
       "      <th>gender</th>\n",
       "      <th></th>\n",
       "    </tr>\n",
       "  </thead>\n",
       "  <tbody>\n",
       "    <tr>\n",
       "      <th>m</th>\n",
       "      <td>26.513860</td>\n",
       "    </tr>\n",
       "    <tr>\n",
       "      <th>w</th>\n",
       "      <td>27.336144</td>\n",
       "    </tr>\n",
       "  </tbody>\n",
       "</table>\n",
       "</div>"
      ],
      "text/plain": [
       "              bmi\n",
       "gender           \n",
       "m       26.513860\n",
       "w       27.336144"
      ]
     },
     "execution_count": 63,
     "metadata": {},
     "output_type": "execute_result"
    }
   ],
   "source": [
    "df.pivot_table(values=['bmi'], index=['gender'], aggfunc='mean')"
   ]
  },
  {
   "cell_type": "markdown",
   "id": "1c2ce1a7-72fb-4d19-b4b5-4d2036b7bedd",
   "metadata": {},
   "source": [
    "Средний ИМТ у женщин , выше чем у мужчин."
   ]
  },
  {
   "cell_type": "code",
   "execution_count": 64,
   "id": "2ff0e6f5-fc3d-4c23-85c5-e17239551bce",
   "metadata": {},
   "outputs": [
    {
     "data": {
      "text/html": [
       "<div>\n",
       "<style scoped>\n",
       "    .dataframe tbody tr th:only-of-type {\n",
       "        vertical-align: middle;\n",
       "    }\n",
       "\n",
       "    .dataframe tbody tr th {\n",
       "        vertical-align: top;\n",
       "    }\n",
       "\n",
       "    .dataframe thead th {\n",
       "        text-align: right;\n",
       "    }\n",
       "</style>\n",
       "<table border=\"1\" class=\"dataframe\">\n",
       "  <thead>\n",
       "    <tr style=\"text-align: right;\">\n",
       "      <th></th>\n",
       "      <th>bmi</th>\n",
       "    </tr>\n",
       "    <tr>\n",
       "      <th>cardio</th>\n",
       "      <th></th>\n",
       "    </tr>\n",
       "  </thead>\n",
       "  <tbody>\n",
       "    <tr>\n",
       "      <th>0</th>\n",
       "      <td>26.197365</td>\n",
       "    </tr>\n",
       "    <tr>\n",
       "      <th>1</th>\n",
       "      <td>27.911103</td>\n",
       "    </tr>\n",
       "  </tbody>\n",
       "</table>\n",
       "</div>"
      ],
      "text/plain": [
       "              bmi\n",
       "cardio           \n",
       "0       26.197365\n",
       "1       27.911103"
      ]
     },
     "execution_count": 64,
     "metadata": {},
     "output_type": "execute_result"
    }
   ],
   "source": [
    "df.pivot_table(values=['bmi'], index=['cardio'], aggfunc='mean')"
   ]
  },
  {
   "cell_type": "markdown",
   "id": "c006afb7-aa8a-4d43-ae88-0d05030b7816",
   "metadata": {},
   "source": [
    "ИМТ в среднем выше у людей с ССЗ относительно здоровых."
   ]
  },
  {
   "cell_type": "code",
   "execution_count": 65,
   "id": "5507ae73-2cc7-4675-889f-b97b188e50fc",
   "metadata": {},
   "outputs": [
    {
     "data": {
      "text/html": [
       "<div>\n",
       "<style scoped>\n",
       "    .dataframe tbody tr th:only-of-type {\n",
       "        vertical-align: middle;\n",
       "    }\n",
       "\n",
       "    .dataframe tbody tr th {\n",
       "        vertical-align: top;\n",
       "    }\n",
       "\n",
       "    .dataframe thead th {\n",
       "        text-align: right;\n",
       "    }\n",
       "</style>\n",
       "<table border=\"1\" class=\"dataframe\">\n",
       "  <thead>\n",
       "    <tr style=\"text-align: right;\">\n",
       "      <th></th>\n",
       "      <th></th>\n",
       "      <th>bmi</th>\n",
       "    </tr>\n",
       "    <tr>\n",
       "      <th>gender</th>\n",
       "      <th>alco</th>\n",
       "      <th></th>\n",
       "    </tr>\n",
       "  </thead>\n",
       "  <tbody>\n",
       "    <tr>\n",
       "      <th rowspan=\"2\" valign=\"top\">m</th>\n",
       "      <th>0</th>\n",
       "      <td>26.478161</td>\n",
       "    </tr>\n",
       "    <tr>\n",
       "      <th>1</th>\n",
       "      <td>26.815951</td>\n",
       "    </tr>\n",
       "    <tr>\n",
       "      <th rowspan=\"2\" valign=\"top\">w</th>\n",
       "      <th>0</th>\n",
       "      <td>27.298864</td>\n",
       "    </tr>\n",
       "    <tr>\n",
       "      <th>1</th>\n",
       "      <td>28.810600</td>\n",
       "    </tr>\n",
       "  </tbody>\n",
       "</table>\n",
       "</div>"
      ],
      "text/plain": [
       "                   bmi\n",
       "gender alco           \n",
       "m      0     26.478161\n",
       "       1     26.815951\n",
       "w      0     27.298864\n",
       "       1     28.810600"
      ]
     },
     "execution_count": 65,
     "metadata": {},
     "output_type": "execute_result"
    }
   ],
   "source": [
    "df.pivot_table(values=['bmi'], index=['gender','alco'], aggfunc='mean')"
   ]
  },
  {
   "cell_type": "markdown",
   "id": "82bbb021-114c-4455-834c-2df4ccda4569",
   "metadata": {},
   "source": [
    "Вероятность более высокого ИМТ выше при употреблении алкоголя."
   ]
  },
  {
   "cell_type": "code",
   "execution_count": 66,
   "id": "c84d6639-e68e-4932-b12d-1ad36560e4e6",
   "metadata": {},
   "outputs": [
    {
     "data": {
      "text/plain": [
       "<AxesSubplot:xlabel='cardio', ylabel='bmi'>"
      ]
     },
     "execution_count": 66,
     "metadata": {},
     "output_type": "execute_result"
    },
    {
     "data": {
      "image/png": "[encoded data removed]",
      "text/plain": [
       "<Figure size 432x288 with 1 Axes>"
      ]
     },
     "metadata": {},
     "output_type": "display_data"
    }
   ],
   "source": [
    "sns.violinplot(x=df['cardio'], y=df['bmi'])"
   ]
  },
  {
   "cell_type": "markdown",
   "id": "027711ba-d4d0-408c-88b8-e8cc2b294cd4",
   "metadata": {},
   "source": [
    "Выполним категоризацию ИМТ:\n",
    "0 - Anorexic (BMI <= 15)\n",
    "1 - Underweight (15 < BMI <= 18.5)\n",
    "2 - Normal weight (18.5 < BMI <= 25)\n",
    "3 - Overweight (25 < BMI <= 30)\n",
    "4 - Obesity Class-I (30 < BMI <= 35)\n",
    "5 - Obesity Class-II (35 < BMI <= 40)"
   ]
  },
  {
   "cell_type": "code",
   "execution_count": 67,
   "id": "2682207e-0c72-4981-83c4-bdb0da264777",
   "metadata": {},
   "outputs": [],
   "source": [
    "#категоризируем ИМТ\n",
    "def categ_bmi(bmi):\n",
    "    if bmi<=18.5:\n",
    "        return 'underweight'\n",
    "    elif 18.5<bmi<=25:\n",
    "        return 'normal'\n",
    "    elif bmi>25:\n",
    "        return 'overweight'"
   ]
  },
  {
   "cell_type": "code",
   "execution_count": 68,
   "id": "1081d7ec-8a09-4942-8e67-8326288bb02b",
   "metadata": {},
   "outputs": [],
   "source": [
    "df['bmi_class'] = df['bmi'].apply(categ_bmi)"
   ]
  },
  {
   "cell_type": "code",
   "execution_count": 69,
   "id": "301268df-8acf-4e3b-8950-20712f725b53",
   "metadata": {},
   "outputs": [
    {
     "data": {
      "text/html": [
       "<style  type=\"text/css\" >\n",
       "#T_f4b34_row0_col0{\n",
       "            background-color:  #e03a98;\n",
       "            color:  #f1f1f1;\n",
       "        }#T_f4b34_row0_col1{\n",
       "            background-color:  #f881aa;\n",
       "            color:  #000000;\n",
       "        }#T_f4b34_row0_col2{\n",
       "            background-color:  #f878a7;\n",
       "            color:  #000000;\n",
       "        }#T_f4b34_row1_col0,#T_f4b34_row1_col1,#T_f4b34_row1_col2{\n",
       "            background-color:  #49006a;\n",
       "            color:  #f1f1f1;\n",
       "        }#T_f4b34_row2_col0,#T_f4b34_row2_col1,#T_f4b34_row2_col2{\n",
       "            background-color:  #fff7f3;\n",
       "            color:  #000000;\n",
       "        }</style><table id=\"T_f4b34_\" ><thead>    <tr>        <th class=\"blank level0\" ></th>        <th class=\"col_heading level0 col0\" >Всего пациентов</th>        <th class=\"col_heading level0 col1\" >Всего больных</th>        <th class=\"col_heading level0 col2\" >Доля больных</th>    </tr>    <tr>        <th class=\"index_name level0\" >bmi_class</th>        <th class=\"blank\" ></th>        <th class=\"blank\" ></th>        <th class=\"blank\" ></th>    </tr></thead><tbody>\n",
       "                <tr>\n",
       "                        <th id=\"T_f4b34_level0_row0\" class=\"row_heading level0 row0\" >normal</th>\n",
       "                        <td id=\"T_f4b34_row0_col0\" class=\"data row0 col0\" >25614.000</td>\n",
       "                        <td id=\"T_f4b34_row0_col1\" class=\"data row0 col1\" >10276.000</td>\n",
       "                        <td id=\"T_f4b34_row0_col2\" class=\"data row0 col2\" >0.401</td>\n",
       "            </tr>\n",
       "            <tr>\n",
       "                        <th id=\"T_f4b34_level0_row1\" class=\"row_heading level0 row1\" >overweight</th>\n",
       "                        <td id=\"T_f4b34_row1_col0\" class=\"data row1 col0\" >41396.000</td>\n",
       "                        <td id=\"T_f4b34_row1_col1\" class=\"data row1 col1\" >22966.000</td>\n",
       "                        <td id=\"T_f4b34_row1_col2\" class=\"data row1 col2\" >0.555</td>\n",
       "            </tr>\n",
       "            <tr>\n",
       "                        <th id=\"T_f4b34_level0_row2\" class=\"row_heading level0 row2\" >underweight</th>\n",
       "                        <td id=\"T_f4b34_row2_col0\" class=\"data row2 col0\" >597.000</td>\n",
       "                        <td id=\"T_f4b34_row2_col1\" class=\"data row2 col1\" >160.000</td>\n",
       "                        <td id=\"T_f4b34_row2_col2\" class=\"data row2 col2\" >0.268</td>\n",
       "            </tr>\n",
       "    </tbody></table>"
      ],
      "text/plain": [
       "<pandas.io.formats.style.Styler at 0x18c62c1ab20>"
      ]
     },
     "metadata": {},
     "output_type": "display_data"
    }
   ],
   "source": [
    "cardio_factors('bmi_class')"
   ]
  },
  {
   "cell_type": "code",
   "execution_count": 70,
   "id": "27357b1c-244b-49a8-ab55-fdaad05ebe67",
   "metadata": {},
   "outputs": [
    {
     "data": {
      "image/png": "[encoded data removed]",
      "text/plain": [
       "<Figure size 432x288 with 1 Axes>"
      ]
     },
     "metadata": {},
     "output_type": "display_data"
    }
   ],
   "source": [
    "sns.countplot(x='bmi_class', hue='cardio', data=df);"
   ]
  },
  {
   "cell_type": "markdown",
   "id": "1a10011b-218a-4a61-8d4b-6d5941747849",
   "metadata": {},
   "source": [
    "Таким образом, люди страдающие лишним весом (с более высоким ИМТ) более склонны к развитию ССЗ."
   ]
  },
  {
   "cell_type": "markdown",
   "id": "51c789ab-04d1-4a41-b7c8-f143ca955988",
   "metadata": {},
   "source": [
    "#### Уровень холестерина"
   ]
  },
  {
   "cell_type": "code",
   "execution_count": 71,
   "id": "ce868316-724c-493e-9741-76ecfd214fc9",
   "metadata": {},
   "outputs": [
    {
     "data": {
      "image/png": "[encoded data removed]",
      "text/plain": [
       "<Figure size 720x432 with 1 Axes>"
      ]
     },
     "metadata": {},
     "output_type": "display_data"
    }
   ],
   "source": [
    "plt.figure(figsize=(10, 6)) \n",
    "sns.countplot(x='cholesterol', hue='cardio', data=df);"
   ]
  },
  {
   "cell_type": "code",
   "execution_count": 72,
   "id": "70878a5d-bd65-45a4-bd55-c2d72511704c",
   "metadata": {},
   "outputs": [
    {
     "data": {
      "image/png": "[encoded data removed]",
      "text/plain": [
       "<Figure size 720x432 with 1 Axes>"
      ]
     },
     "metadata": {},
     "output_type": "display_data"
    }
   ],
   "source": [
    "plt.figure(figsize=(10, 6)) \n",
    "sns.countplot(x='age', hue='cholesterol', data=df);"
   ]
  },
  {
   "cell_type": "code",
   "execution_count": 73,
   "id": "c091ccfe-c99c-4b7d-b635-e0da618ba213",
   "metadata": {},
   "outputs": [
    {
     "data": {
      "text/html": [
       "<style  type=\"text/css\" >\n",
       "#T_9f57b_row0_col0{\n",
       "            background-color:  #fef1ed;\n",
       "            color:  #000000;\n",
       "        }#T_9f57b_row0_col1,#T_9f57b_row1_col2,#T_9f57b_row2_col0{\n",
       "            background-color:  #fff7f3;\n",
       "            color:  #000000;\n",
       "        }#T_9f57b_row0_col2{\n",
       "            background-color:  #f76ba2;\n",
       "            color:  #000000;\n",
       "        }#T_9f57b_row1_col0,#T_9f57b_row1_col1,#T_9f57b_row2_col2{\n",
       "            background-color:  #49006a;\n",
       "            color:  #f1f1f1;\n",
       "        }#T_9f57b_row2_col1{\n",
       "            background-color:  #fff3f0;\n",
       "            color:  #000000;\n",
       "        }</style><table id=\"T_9f57b_\" ><thead>    <tr>        <th class=\"blank level0\" ></th>        <th class=\"col_heading level0 col0\" >Всего пациентов</th>        <th class=\"col_heading level0 col1\" >Всего больных</th>        <th class=\"col_heading level0 col2\" >Доля больных</th>    </tr>    <tr>        <th class=\"index_name level0\" >cholesterol</th>        <th class=\"blank\" ></th>        <th class=\"blank\" ></th>        <th class=\"blank\" ></th>    </tr></thead><tbody>\n",
       "                <tr>\n",
       "                        <th id=\"T_9f57b_level0_row0\" class=\"row_heading level0 row0\" >above normal</th>\n",
       "                        <td id=\"T_9f57b_row0_col0\" class=\"data row0 col0\" >9118.000</td>\n",
       "                        <td id=\"T_9f57b_row0_col1\" class=\"data row0 col1\" >5442.000</td>\n",
       "                        <td id=\"T_9f57b_row0_col2\" class=\"data row0 col2\" >0.597</td>\n",
       "            </tr>\n",
       "            <tr>\n",
       "                        <th id=\"T_9f57b_level0_row1\" class=\"row_heading level0 row1\" >normal</th>\n",
       "                        <td id=\"T_9f57b_row1_col0\" class=\"data row1 col0\" >50889.000</td>\n",
       "                        <td id=\"T_9f57b_row1_col1\" class=\"data row1 col1\" >22165.000</td>\n",
       "                        <td id=\"T_9f57b_row1_col2\" class=\"data row1 col2\" >0.436</td>\n",
       "            </tr>\n",
       "            <tr>\n",
       "                        <th id=\"T_9f57b_level0_row2\" class=\"row_heading level0 row2\" >well above normal</th>\n",
       "                        <td id=\"T_9f57b_row2_col0\" class=\"data row2 col0\" >7600.000</td>\n",
       "                        <td id=\"T_9f57b_row2_col1\" class=\"data row2 col1\" >5795.000</td>\n",
       "                        <td id=\"T_9f57b_row2_col2\" class=\"data row2 col2\" >0.762</td>\n",
       "            </tr>\n",
       "    </tbody></table>"
      ],
      "text/plain": [
       "<pandas.io.formats.style.Styler at 0x18c62cd7cd0>"
      ]
     },
     "metadata": {},
     "output_type": "display_data"
    }
   ],
   "source": [
    "cardio_factors('cholesterol')"
   ]
  },
  {
   "cell_type": "markdown",
   "id": "dd98805d-8d6f-488e-80b4-fc152d5159f1",
   "metadata": {},
   "source": [
    "Более высокий (чем нормальный) уровень холестерина в крови увеличиает вероятность возниконовения ССЗ."
   ]
  },
  {
   "cell_type": "markdown",
   "id": "5ff380e5-52ab-403b-ba89-e72de7898c30",
   "metadata": {},
   "source": [
    "#### Глюкоза в крови"
   ]
  },
  {
   "cell_type": "code",
   "execution_count": 74,
   "id": "32d0a66e-9a06-4e3f-9cf4-7bf9aad63abf",
   "metadata": {},
   "outputs": [
    {
     "data": {
      "text/html": [
       "<style  type=\"text/css\" >\n",
       "#T_d5bd3_row0_col0,#T_d5bd3_row0_col1,#T_d5bd3_row1_col2,#T_d5bd3_row2_col0{\n",
       "            background-color:  #fff7f3;\n",
       "            color:  #000000;\n",
       "        }#T_d5bd3_row0_col2{\n",
       "            background-color:  #a5017d;\n",
       "            color:  #f1f1f1;\n",
       "        }#T_d5bd3_row1_col0,#T_d5bd3_row1_col1,#T_d5bd3_row2_col2{\n",
       "            background-color:  #49006a;\n",
       "            color:  #f1f1f1;\n",
       "        }#T_d5bd3_row2_col1{\n",
       "            background-color:  #fff6f2;\n",
       "            color:  #000000;\n",
       "        }</style><table id=\"T_d5bd3_\" ><thead>    <tr>        <th class=\"blank level0\" ></th>        <th class=\"col_heading level0 col0\" >Всего пациентов</th>        <th class=\"col_heading level0 col1\" >Всего больных</th>        <th class=\"col_heading level0 col2\" >Доля больных</th>    </tr>    <tr>        <th class=\"index_name level0\" >gluc</th>        <th class=\"blank\" ></th>        <th class=\"blank\" ></th>        <th class=\"blank\" ></th>    </tr></thead><tbody>\n",
       "                <tr>\n",
       "                        <th id=\"T_d5bd3_level0_row0\" class=\"row_heading level0 row0\" >above normal</th>\n",
       "                        <td id=\"T_d5bd3_row0_col0\" class=\"data row0 col0\" >4883.000</td>\n",
       "                        <td id=\"T_d5bd3_row0_col1\" class=\"data row0 col1\" >2857.000</td>\n",
       "                        <td id=\"T_d5bd3_row0_col2\" class=\"data row0 col2\" >0.585</td>\n",
       "            </tr>\n",
       "            <tr>\n",
       "                        <th id=\"T_d5bd3_level0_row1\" class=\"row_heading level0 row1\" >normal</th>\n",
       "                        <td id=\"T_d5bd3_row1_col0\" class=\"data row1 col0\" >57687.000</td>\n",
       "                        <td id=\"T_d5bd3_row1_col1\" class=\"data row1 col1\" >27436.000</td>\n",
       "                        <td id=\"T_d5bd3_row1_col2\" class=\"data row1 col2\" >0.476</td>\n",
       "            </tr>\n",
       "            <tr>\n",
       "                        <th id=\"T_d5bd3_level0_row2\" class=\"row_heading level0 row2\" >well above normal</th>\n",
       "                        <td id=\"T_d5bd3_row2_col0\" class=\"data row2 col0\" >5037.000</td>\n",
       "                        <td id=\"T_d5bd3_row2_col1\" class=\"data row2 col1\" >3109.000</td>\n",
       "                        <td id=\"T_d5bd3_row2_col2\" class=\"data row2 col2\" >0.617</td>\n",
       "            </tr>\n",
       "    </tbody></table>"
      ],
      "text/plain": [
       "<pandas.io.formats.style.Styler at 0x18c62619910>"
      ]
     },
     "metadata": {},
     "output_type": "display_data"
    }
   ],
   "source": [
    "cardio_factors('gluc')"
   ]
  },
  {
   "cell_type": "code",
   "execution_count": 75,
   "id": "98a55581-a076-4580-bb4d-739cd00caf59",
   "metadata": {},
   "outputs": [
    {
     "data": {
      "image/png": "[encoded data removed]",
      "text/plain": [
       "<Figure size 720x432 with 1 Axes>"
      ]
     },
     "metadata": {},
     "output_type": "display_data"
    }
   ],
   "source": [
    "plt.figure(figsize=(10, 6)) \n",
    "sns.countplot(x = 'gluc', hue= 'cardio', data = df);"
   ]
  },
  {
   "cell_type": "markdown",
   "id": "987bbef4-1a95-42ae-aa5d-32ce42e06815",
   "metadata": {},
   "source": [
    "Повышение уровня глюкозы в крови также является фактором развития ССЗ."
   ]
  },
  {
   "cell_type": "markdown",
   "id": "f88a05c8-e512-43be-b6cd-70d379d8eb16",
   "metadata": {},
   "source": [
    "#### Физическая активность"
   ]
  },
  {
   "cell_type": "code",
   "execution_count": 76,
   "id": "b3ec5f23-8e7b-41e2-999f-0f0ebff9f025",
   "metadata": {},
   "outputs": [
    {
     "data": {
      "text/html": [
       "<style  type=\"text/css\" >\n",
       "#T_11ea2_row0_col0,#T_11ea2_row0_col1,#T_11ea2_row1_col2{\n",
       "            background-color:  #fff7f3;\n",
       "            color:  #000000;\n",
       "        }#T_11ea2_row0_col2,#T_11ea2_row1_col0,#T_11ea2_row1_col1{\n",
       "            background-color:  #49006a;\n",
       "            color:  #f1f1f1;\n",
       "        }</style><table id=\"T_11ea2_\" ><thead>    <tr>        <th class=\"blank level0\" ></th>        <th class=\"col_heading level0 col0\" >Всего пациентов</th>        <th class=\"col_heading level0 col1\" >Всего больных</th>        <th class=\"col_heading level0 col2\" >Доля больных</th>    </tr>    <tr>        <th class=\"index_name level0\" >active</th>        <th class=\"blank\" ></th>        <th class=\"blank\" ></th>        <th class=\"blank\" ></th>    </tr></thead><tbody>\n",
       "                <tr>\n",
       "                        <th id=\"T_11ea2_level0_row0\" class=\"row_heading level0 row0\" >0</th>\n",
       "                        <td id=\"T_11ea2_row0_col0\" class=\"data row0 col0\" >13221.000</td>\n",
       "                        <td id=\"T_11ea2_row0_col1\" class=\"data row0 col1\" >7002.000</td>\n",
       "                        <td id=\"T_11ea2_row0_col2\" class=\"data row0 col2\" >0.530</td>\n",
       "            </tr>\n",
       "            <tr>\n",
       "                        <th id=\"T_11ea2_level0_row1\" class=\"row_heading level0 row1\" >1</th>\n",
       "                        <td id=\"T_11ea2_row1_col0\" class=\"data row1 col0\" >54386.000</td>\n",
       "                        <td id=\"T_11ea2_row1_col1\" class=\"data row1 col1\" >26400.000</td>\n",
       "                        <td id=\"T_11ea2_row1_col2\" class=\"data row1 col2\" >0.485</td>\n",
       "            </tr>\n",
       "    </tbody></table>"
      ],
      "text/plain": [
       "<pandas.io.formats.style.Styler at 0x18c62add430>"
      ]
     },
     "metadata": {},
     "output_type": "display_data"
    }
   ],
   "source": [
    "cardio_factors('active')"
   ]
  },
  {
   "cell_type": "code",
   "execution_count": 77,
   "id": "df9085d2-ae18-4f23-8403-666a156b565b",
   "metadata": {},
   "outputs": [
    {
     "data": {
      "image/png": "[encoded data removed]",
      "text/plain": [
       "<Figure size 720x432 with 1 Axes>"
      ]
     },
     "metadata": {},
     "output_type": "display_data"
    }
   ],
   "source": [
    "plt.figure(figsize=(10, 6)) \n",
    "sns.countplot(x = 'active', hue= 'cardio', data = df);"
   ]
  },
  {
   "cell_type": "code",
   "execution_count": 78,
   "id": "c8b8f87e-b110-40cd-8cb6-f2c6417f5d6b",
   "metadata": {},
   "outputs": [
    {
     "data": {
      "text/html": [
       "<div>\n",
       "<style scoped>\n",
       "    .dataframe tbody tr th:only-of-type {\n",
       "        vertical-align: middle;\n",
       "    }\n",
       "\n",
       "    .dataframe tbody tr th {\n",
       "        vertical-align: top;\n",
       "    }\n",
       "\n",
       "    .dataframe thead th {\n",
       "        text-align: right;\n",
       "    }\n",
       "</style>\n",
       "<table border=\"1\" class=\"dataframe\">\n",
       "  <thead>\n",
       "    <tr style=\"text-align: right;\">\n",
       "      <th></th>\n",
       "      <th>active</th>\n",
       "    </tr>\n",
       "    <tr>\n",
       "      <th>age</th>\n",
       "      <th></th>\n",
       "    </tr>\n",
       "  </thead>\n",
       "  <tbody>\n",
       "    <tr>\n",
       "      <th>30</th>\n",
       "      <td>1.000000</td>\n",
       "    </tr>\n",
       "    <tr>\n",
       "      <th>39</th>\n",
       "      <td>0.788804</td>\n",
       "    </tr>\n",
       "    <tr>\n",
       "      <th>40</th>\n",
       "      <td>0.801445</td>\n",
       "    </tr>\n",
       "    <tr>\n",
       "      <th>41</th>\n",
       "      <td>0.780619</td>\n",
       "    </tr>\n",
       "    <tr>\n",
       "      <th>42</th>\n",
       "      <td>0.806515</td>\n",
       "    </tr>\n",
       "    <tr>\n",
       "      <th>43</th>\n",
       "      <td>0.803030</td>\n",
       "    </tr>\n",
       "    <tr>\n",
       "      <th>44</th>\n",
       "      <td>0.821675</td>\n",
       "    </tr>\n",
       "    <tr>\n",
       "      <th>45</th>\n",
       "      <td>0.858491</td>\n",
       "    </tr>\n",
       "    <tr>\n",
       "      <th>46</th>\n",
       "      <td>0.814815</td>\n",
       "    </tr>\n",
       "    <tr>\n",
       "      <th>47</th>\n",
       "      <td>0.819672</td>\n",
       "    </tr>\n",
       "    <tr>\n",
       "      <th>48</th>\n",
       "      <td>0.801554</td>\n",
       "    </tr>\n",
       "    <tr>\n",
       "      <th>49</th>\n",
       "      <td>0.775946</td>\n",
       "    </tr>\n",
       "    <tr>\n",
       "      <th>50</th>\n",
       "      <td>0.817879</td>\n",
       "    </tr>\n",
       "    <tr>\n",
       "      <th>51</th>\n",
       "      <td>0.791411</td>\n",
       "    </tr>\n",
       "    <tr>\n",
       "      <th>52</th>\n",
       "      <td>0.801331</td>\n",
       "    </tr>\n",
       "    <tr>\n",
       "      <th>53</th>\n",
       "      <td>0.788856</td>\n",
       "    </tr>\n",
       "    <tr>\n",
       "      <th>54</th>\n",
       "      <td>0.803290</td>\n",
       "    </tr>\n",
       "    <tr>\n",
       "      <th>55</th>\n",
       "      <td>0.802768</td>\n",
       "    </tr>\n",
       "    <tr>\n",
       "      <th>56</th>\n",
       "      <td>0.809802</td>\n",
       "    </tr>\n",
       "    <tr>\n",
       "      <th>57</th>\n",
       "      <td>0.803571</td>\n",
       "    </tr>\n",
       "    <tr>\n",
       "      <th>58</th>\n",
       "      <td>0.805256</td>\n",
       "    </tr>\n",
       "    <tr>\n",
       "      <th>59</th>\n",
       "      <td>0.813507</td>\n",
       "    </tr>\n",
       "    <tr>\n",
       "      <th>60</th>\n",
       "      <td>0.801601</td>\n",
       "    </tr>\n",
       "    <tr>\n",
       "      <th>61</th>\n",
       "      <td>0.805484</td>\n",
       "    </tr>\n",
       "    <tr>\n",
       "      <th>62</th>\n",
       "      <td>0.797892</td>\n",
       "    </tr>\n",
       "    <tr>\n",
       "      <th>63</th>\n",
       "      <td>0.775531</td>\n",
       "    </tr>\n",
       "    <tr>\n",
       "      <th>64</th>\n",
       "      <td>0.793423</td>\n",
       "    </tr>\n",
       "    <tr>\n",
       "      <th>65</th>\n",
       "      <td>0.785294</td>\n",
       "    </tr>\n",
       "  </tbody>\n",
       "</table>\n",
       "</div>"
      ],
      "text/plain": [
       "       active\n",
       "age          \n",
       "30   1.000000\n",
       "39   0.788804\n",
       "40   0.801445\n",
       "41   0.780619\n",
       "42   0.806515\n",
       "43   0.803030\n",
       "44   0.821675\n",
       "45   0.858491\n",
       "46   0.814815\n",
       "47   0.819672\n",
       "48   0.801554\n",
       "49   0.775946\n",
       "50   0.817879\n",
       "51   0.791411\n",
       "52   0.801331\n",
       "53   0.788856\n",
       "54   0.803290\n",
       "55   0.802768\n",
       "56   0.809802\n",
       "57   0.803571\n",
       "58   0.805256\n",
       "59   0.813507\n",
       "60   0.801601\n",
       "61   0.805484\n",
       "62   0.797892\n",
       "63   0.775531\n",
       "64   0.793423\n",
       "65   0.785294"
      ]
     },
     "execution_count": 78,
     "metadata": {},
     "output_type": "execute_result"
    }
   ],
   "source": [
    "df.pivot_table(values=['active'], index=['age'], aggfunc='mean')"
   ]
  },
  {
   "cell_type": "markdown",
   "id": "40517a88-94f9-4f61-8c47-4602d2e74358",
   "metadata": {},
   "source": [
    "У физически не активных людей выше шансы развития ССЗ. Доля активных людей в разном возрасте сохраняется на уровне 77-80%. По-видимому, это связано с многолетней полезной привычкой заниматься спортом, которая формируется еще в молодости."
   ]
  },
  {
   "cell_type": "markdown",
   "id": "ab648c89-5b1c-4ce0-8e4f-107c3eb45ad4",
   "metadata": {},
   "source": [
    "#### Выводы"
   ]
  },
  {
   "cell_type": "markdown",
   "id": "49601e77-62ca-4cd9-aa2d-5aa6fbc53762",
   "metadata": {},
   "source": [
    "1. Начиная с 55 лет, количество больных людей больше, чем здоровых того же возраста. Чем старше пациент, тем вероятнее он страдает ССЗ. К сожалению, очевидный факт, т.к. с возрастом ССС изнашивается и соотвественно появляются заболевания.\n",
    "2. Как в случае женщин, так и в случае мужчин страдают ССЗ половина обследованных пациентов группы по гендеру. Таким образом, пол не влияет на развитие ССЗ.\n",
    "3. Странным образом, наличие вредных привычек не ведет к увеличению вероятности возникновения ССЗ. Ни у женщин, ни у мужчин. Возможно, люди, которые отметили отсуствие у себя вредных привычек, злоупотребляли курением и алкоголем ранее ,а на момент исследования бросили. Развитие ССЗ у некурящих людей также может быть связано с пассивынм курением.\n",
    "4. Люди страдающие лишним весом (с более высоким ИМТ) более склонны к развитию ССЗ.\n",
    "5. Более высокий (чем нормальный) уровень холестерина в крови увеличиает вероятность возниконовения ССЗ.\n",
    "6. Повышение уровня глюкозы в крови также является фактором развития ССЗ.\n",
    "7. У физически не активных людей выше шансы развития ССЗ. Доля активных людей в разном возрасте сохраняется на уровне 77-80%. По-видимому, это связано с многолетней полезной привычкой заниматься спортом, которая формируется еще в молодости."
   ]
  },
  {
   "cell_type": "markdown",
   "id": "3b19beb0-0da0-435d-ab3d-def81b04db5d",
   "metadata": {},
   "source": [
    "### Общий вывод"
   ]
  },
  {
   "cell_type": "markdown",
   "id": "dc55f810-69f5-48a9-a6d9-2e195869e302",
   "metadata": {},
   "source": [
    "Была проведена работа с данными о пациентах, проходивших обследования ССС и выялены факторы, влияющие на развития ССЗ.\n",
    "Данные представлены в 13 колонках, 70000 записей о пациентах. В данных нет пропусков.Были найдены аномальные значения в столбцах с давлением `ap_hi`, `ap_lo`, ростом `height` и весом `weight`. Возраст `age` представлен в днях, что не удобно для анализа. Многие характеристики (пол, уровень холестерина и глюкозы в крови) обозначены номерами, что также неудобно и ненаглядно.\n"
   ]
  },
  {
   "cell_type": "markdown",
   "id": "97ce1b0c-f13b-4748-96e6-211b35ea6812",
   "metadata": {},
   "source": [
    "В ходе предобработки данных:\n",
    "- возраст преобразован из дней в годы\n",
    "- удалены аномалии значений роста, веса, артериального давления. всего удалено около 3.5 % строк.\n",
    "- для удобства преобразованы содержание глюкозы в крови, холестерина, пол пациента из типа int в object, чтобы сразу была понятна характеристика в соотвествущем столбце\n",
    "- добавлен столбец `bmi` обозначающий индекс массы тела пациента. ИМТ равен отношению массы тела в кг к квадрату роста в м."
   ]
  },
  {
   "cell_type": "markdown",
   "id": "aad1eadc-382d-41ba-890a-be446725fcbf",
   "metadata": {},
   "source": [
    "В ходе исследования взаимосвязи параметров пациентов с развитием сердечно-сосудистых заболеваний (ССЗ) было показано следующее:\n",
    "- Чем старше пациент, тем вероятнее он страдает ССЗ. К сожалению, очевидный факт, т.к. с возрастом ССС изнашивается и соотвественно появляются заболевания.\n",
    "- Пол не влияет на развитие ССЗ.\n",
    "- Странным образом, наличие вредных привычек не ведет к увеличению вероятности возникновения ССЗ. Возможно, люди, которые отметили отсуствие у себя вредных привычек, злоупотребляли курением и алкоголем ранее ,а на момент исследования бросили. Развитие ССЗ у некурящих людей также может быть связано с пассивным курением.\n",
    "- Люди страдающие лишним весом более склонны к развитию ССЗ.\n",
    "- Более высокий (чем нормальный) уровень холестерина и глюкозы в крови увеличивают вероятность возниконовения ССЗ.\n",
    "- У физически не активных людей выше шансы развития ССЗ.\n",
    "\n",
    "Таким образом, основными факторами развития ССЗ являются пожилой возраст, лишний вес, неправильное питание и отсутствие физической активности."
   ]
  },
  {
   "cell_type": "code",
   "execution_count": null,
   "id": "ac6b6048-70eb-45bf-8844-a667732fd965",
   "metadata": {},
   "outputs": [],
   "source": []
  }
 ],
 "metadata": {
  "kernelspec": {
   "display_name": "Python 3 (ipykernel)",
   "language": "python",
   "name": "python3"
  },
  "language_info": {
   "codemirror_mode": {
    "name": "ipython",
    "version": 3
   },
   "file_extension": ".py",
   "mimetype": "text/x-python",
   "name": "python",
   "nbconvert_exporter": "python",
   "pygments_lexer": "ipython3",
   "version": "3.9.5"
  }
 },
 "nbformat": 4,
 "nbformat_minor": 5
}
